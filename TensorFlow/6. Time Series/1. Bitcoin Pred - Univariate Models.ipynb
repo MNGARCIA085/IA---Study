{
 "cells": [
  {
   "cell_type": "markdown",
   "metadata": {},
   "source": [
    "# <center><b><font color='blue'>Bitcoin Price Prediction</font></b></center>"
   ]
  },
  {
   "cell_type": "markdown",
   "metadata": {},
   "source": [
    "TABLA DE CONTENIDO\n",
    "\n",
    "..."
   ]
  },
  {
   "cell_type": "markdown",
   "metadata": {},
   "source": [
    "<a name=\"1\"></a>\n",
    "## 1. Objetivos\n",
    "\n",
    "Aprender acerca de las series temporales."
   ]
  },
  {
   "cell_type": "markdown",
   "metadata": {},
   "source": [
    "<a name=\"2\"></a>\n",
    "## 2. Librerías necesarias"
   ]
  },
  {
   "cell_type": "code",
   "execution_count": 1,
   "metadata": {},
   "outputs": [],
   "source": [
    "# que no se impriman info y warnings\n",
    "import os\n",
    "os.environ['TF_CPP_MIN_LOG_LEVEL'] = '2' "
   ]
  },
  {
   "cell_type": "code",
   "execution_count": 2,
   "metadata": {},
   "outputs": [],
   "source": [
    "import tensorflow as tf\n",
    "import matplotlib.pyplot as plt\n",
    "import matplotlib.image as mpimg\n",
    "import numpy as np\n",
    "from tensorflow.keras import layers,callbacks,models,Sequential,losses\n",
    "import seaborn as sns\n",
    "from sklearn.metrics import confusion_matrix\n",
    "from tensorflow import keras\n",
    "from keras import backend as K\n",
    "import os,random\n",
    "import pandas as pd\n",
    "from tensorflow.keras.preprocessing.image import ImageDataGenerator\n",
    "from tensorflow.keras.preprocessing.image import ImageDataGenerator\n",
    "from tensorflow.keras.applications.efficientnet import preprocess_input\n",
    "from tensorflow.keras.layers.experimental import preprocessing\n",
    "import seaborn as sns\n",
    "from sklearn.metrics import classification_report, confusion_matrix\n",
    "import csv\n",
    "from datetime import datetime\n",
    "import random"
   ]
  },
  {
   "cell_type": "markdown",
   "metadata": {},
   "source": [
    "<a name=\"3\"></a>\n",
    "## 3. Helper Functions"
   ]
  },
  {
   "cell_type": "code",
   "execution_count": 145,
   "metadata": {},
   "outputs": [],
   "source": [
    "# Create a function to plot time series data\n",
    "def plot_time_series(timesteps, values, format=\".\", start=0, end=None, label=None):\n",
    "    \"\"\"\n",
    "    Plots timesteps (a series of points in time) against values (a series of values across timesteps).\n",
    "\n",
    "    Parameters\n",
    "    ----------\n",
    "    timesteps : array of timestep values\n",
    "    values : array of values across time\n",
    "    format : style of plot, default \".\"\n",
    "    start : where to start the plot (setting a value will index from start of timesteps & values)\n",
    "    end : where to end the plot (similar to start but for the end)\n",
    "    label : label to show on plot about values, default None \n",
    "    \"\"\"\n",
    "    # Plot the series\n",
    "    plt.plot(timesteps[start:end], values[start:end], format, label=label)\n",
    "    plt.xlabel(\"Time\")\n",
    "    plt.ylabel(\"BTC Price\")\n",
    "    if label:\n",
    "        plt.legend(fontsize=14) # make label bigger\n",
    "    plt.grid(True)\n",
    "\n",
    "\n",
    "    \n",
    "# se implementa MASE pues no existe en TF\n",
    "def mean_absolute_scaled_error(y_true, y_pred):\n",
    "  \"\"\"\n",
    "  Implement MASE (assuming no seasonality of data).\n",
    "  \"\"\"\n",
    "  mae = tf.reduce_mean(tf.abs(y_true-y_pred))\n",
    "\n",
    "  # Find MAE of naive forecast (no seasonality)\n",
    "  mae_naive_no_season = tf.reduce_mean(tf.abs(y_true[1:] - y_true[:-1])) # our seasonality is 1 day (hence the shift of 1)\n",
    "\n",
    "  return mae / mae_naive_no_season\n",
    "    \n",
    "    \n",
    "    \n",
    "# make predictions\n",
    "def make_preds(model, input_data):\n",
    "    \"\"\"\n",
    "    Uses model to make predictions input_data.\n",
    "    \"\"\"    \n",
    "    forecast = model.predict(input_data)\n",
    "    return tf.squeeze(forecast) # return 1D array of predictions\n",
    "\n",
    "\n",
    "\n",
    "# Evaluaci[on  de predicciones\n",
    "\n",
    "# Create a function to take in model predictions and truth values and return evaluation metrics\n",
    "# sirve para horizonte largo 1\n",
    "def evaluate_preds(y_true, y_pred):\n",
    "  # Make sure float32 datatype (for metric calculations)\n",
    "  y_true = tf.cast(y_true, dtype=tf.float32)\n",
    "  y_pred = tf.cast(y_pred, dtype=tf.float32)\n",
    "\n",
    "  # Calculate various evaluation metrics \n",
    "  mae = tf.keras.metrics.mean_absolute_error(y_true, y_pred)\n",
    "  mse = tf.keras.metrics.mean_squared_error(y_true, y_pred)\n",
    "  rmse = tf.sqrt(mse)\n",
    "  mape = tf.keras.metrics.mean_absolute_percentage_error(y_true, y_pred)\n",
    "  mase = mean_absolute_scaled_error(y_true, y_pred)\n",
    "\n",
    "  return {\"mae\": mae.numpy(),\n",
    "          \"mse\": mse.numpy(),\n",
    "          \"rmse\": rmse.numpy(),\n",
    "          \"mape\": mape.numpy(),\n",
    "          \"mase\": mase.numpy()}\n",
    "\n",
    "\n",
    "# Create a function to take in model predictions and truth values and return evaluation metrics\n",
    "def evaluate_preds_general(y_true, y_pred):\n",
    "  # Make sure float32 datatype (for metric calculations)\n",
    "  y_true = tf.cast(y_true, dtype=tf.float32)\n",
    "  y_pred = tf.cast(y_pred, dtype=tf.float32)\n",
    "\n",
    "  # Calculate various evaluation metrics \n",
    "  mae = tf.keras.metrics.mean_absolute_error(y_true, y_pred)\n",
    "  mse = tf.keras.metrics.mean_squared_error(y_true, y_pred)\n",
    "  rmse = tf.sqrt(mse)\n",
    "  mape = tf.keras.metrics.mean_absolute_percentage_error(y_true, y_pred)\n",
    "  mase = mean_absolute_scaled_error(y_true, y_pred)\n",
    "\n",
    "  # Account for different sized metrics (for longer horizons, we want to reduce metrics to a single value)\n",
    "  if mae.ndim > 0:\n",
    "    mae = tf.reduce_mean(mae)\n",
    "    mse = tf.reduce_mean(mse)\n",
    "    rmse = tf.reduce_mean(rmse)\n",
    "    mape = tf.reduce_mean(mape)\n",
    "    mase = tf.reduce_mean(mase)\n",
    "\n",
    "  return {\"mae\": mae.numpy(),\n",
    "          \"mse\": mse.numpy(),\n",
    "          \"rmse\": rmse.numpy(),\n",
    "          \"mape\": mape.numpy(),\n",
    "          \"mase\": mase.numpy()}\n",
    "\n",
    "\n",
    "\n",
    "# predicciones de un ensamble\n",
    "# Create a function which uses a list of trained models to make and return a list of predictions\n",
    "def make_ensemble_preds(ensemble_models, data):\n",
    "    ensemble_preds = []\n",
    "    for model in ensemble_models:\n",
    "        preds = model.predict(data)\n",
    "        ensemble_preds.append(preds)\n",
    "    return tf.constant(tf.squeeze(ensemble_preds))\n",
    "\n",
    "\n",
    "\n",
    "\n",
    "\n",
    "# Make the train/test splits para nuestro dataset ventaneado\n",
    "def make_train_test_splits(windows, labels, test_split=0.2):\n",
    "    \"\"\"\n",
    "    Splits matching pairs of winodws and labels into train and test splits.\n",
    "    \n",
    "    Recine arreglos de numpy\n",
    "    Devuelve arreglos de numpy\n",
    "    \n",
    "    \"\"\"\n",
    "    split_size = int(len(windows) * (1-test_split)) # this will default to 80% train/20% test: len(windows)=2780 aqu[i\n",
    "    train_windows = windows[:split_size]\n",
    "    train_labels = labels[:split_size]\n",
    "    test_windows = windows[split_size:]\n",
    "    test_labels = labels[split_size:]\n",
    "    return train_windows, test_windows, train_labels, test_labels\n",
    "\n",
    "# create windowed dataset\n",
    "def create_windowed_dataset(dataset,window_size):\n",
    "    \"\"\"\n",
    "    dataset: a dataset with a key \"price\"\n",
    "    window size\n",
    "    \"\"\"\n",
    "    # Make a copy of the Bitcoin historical data with block reward feature\n",
    "    dataset_windowed = dataset.copy()\n",
    "    # Add windowed columns\n",
    "    for i in range(window_size): # shift values for each step in WINDOW_SIZE\n",
    "        dataset_windowed[f\"Price+{i+1}\"] = dataset_windowed[\"Price\"].shift(periods=i+1)\n",
    "        \n",
    "    # drop nan values\n",
    "    dataset_windowed.dropna(inplace=True)\n",
    "    \n",
    "    # convert to float32\n",
    "    dataset_windowed[\"Price\"] = dataset_windowed[\"Price\"].astype(np.float32)\n",
    "\n",
    "    # return\n",
    "    return dataset_windowed\n",
    "\n",
    "\n",
    "\n",
    "# combino el ore-procesamiento en uan funcion\n",
    "def pre_process_data(dataset,window_size):\n",
    "    # create windowed dataset\n",
    "    dataset_windowed = create_windowed_dataset(dataset,window_size)\n",
    "    # Create X (windows) and y (horizons) features\n",
    "    X = dataset_windowed.drop(\"Price\", axis=1)\n",
    "    y = dataset_windowed[\"Price\"]\n",
    "    # train/test split\n",
    "    X_train, X_test, y_train, y_test = make_train_test_splits(X.values, y.values)\n",
    "    # return\n",
    "    return X_train, X_test, y_train, y_test\n",
    "    \n",
    "\n",
    "\n",
    "\n",
    "# para horizontes mayores\n",
    "\n",
    "# Create function to label windowed data\n",
    "def get_labelled_windows(x, horizon=1):\n",
    "    \"\"\"\n",
    "    Creates labels for windowed dataset.\n",
    "\n",
    "    E.g. if horizon=1\n",
    "    Input: [0, 1, 2, 3, 4, 5, 6, 7] -> Output: ([0, 1, 2, 3, 4, 5, 6], [7])\n",
    "    \"\"\"\n",
    "    return x[:, :-horizon], x[:, -horizon:]\n",
    "\n",
    "\n",
    "# Create function to view NumPy arrays as windows\n",
    "def make_windows_general(x, window_size, horizon=1):\n",
    "    \"\"\"\n",
    "    Turns a 1D array into a 2D array of sequential labelled windows of window_size with horizon size labels.\n",
    "    \"\"\"\n",
    "    # 1. Create a window of specific window_size (add the horzion on the end for labelling later)\n",
    "    window_step = np.expand_dims(np.arange(window_size+horizon), axis=0)\n",
    "\n",
    "    # 2. Create a 2D array of multiple window steps (minus 1 to account for 0 indexing)\n",
    "    window_indexes = window_step + np.expand_dims(np.arange(len(x)-(window_size+horizon-1)), axis=0).T \n",
    "        # create 2D array of windows of size window_size\n",
    "    # print(f\"Window indexes:\\n {window_indexes, window_indexes.shape}\")\n",
    "\n",
    "    # 3. Index on the target array (a time series) with 2D array of multiple window steps\n",
    "    windowed_array = x[window_indexes]\n",
    "    # print(windowed_array)\n",
    "\n",
    "    # 4. Get the labelled windows\n",
    "    windows, labels = get_labelled_windows(windowed_array, horizon=horizon)\n",
    "    return windows, labels\n",
    "\n",
    "\n",
    "# plot\n",
    "def plot_time_series(len_test,indices,y_test,model_preds):\n",
    "    # le paso los indices del dataframe (las fechas)\n",
    "    # debo tomar los del conjunto de test, ultimos len(X_test) de los datos de entrenamiento X\n",
    "    # es de X pues X_test no tiene el indice de las fechas\n",
    "    plt.figure(figsize=(12, 8))\n",
    "    plt.plot(indices.values[-len_test:],y_test,marker='.', linestyle='',color='red',label='tets data')\n",
    "    plt.plot(indices.values[-len_test:],model_preds,label='preds')\n",
    "    # Agregar leyenda\n",
    "    plt.legend()\n",
    "\n"
   ]
  },
  {
   "cell_type": "markdown",
   "metadata": {},
   "source": [
    "<a name=\"4\"></a>\n",
    "## 4. Carga y pre-procesamiento de datos"
   ]
  },
  {
   "cell_type": "markdown",
   "metadata": {},
   "source": [
    "Descargamos los datos de https://www.coindesk.com/price/bitcoin/"
   ]
  },
  {
   "cell_type": "code",
   "execution_count": 11,
   "metadata": {},
   "outputs": [],
   "source": [
    "#!wget https://raw.githubusercontent.com/mrdbourke/tensorflow-deep-learning/main/extras/BTC_USD_2013-10-01_2021-05-18-CoinDesk.csv "
   ]
  },
  {
   "cell_type": "code",
   "execution_count": 12,
   "metadata": {},
   "outputs": [
    {
     "data": {
      "text/html": [
       "<div>\n",
       "<style scoped>\n",
       "    .dataframe tbody tr th:only-of-type {\n",
       "        vertical-align: middle;\n",
       "    }\n",
       "\n",
       "    .dataframe tbody tr th {\n",
       "        vertical-align: top;\n",
       "    }\n",
       "\n",
       "    .dataframe thead th {\n",
       "        text-align: right;\n",
       "    }\n",
       "</style>\n",
       "<table border=\"1\" class=\"dataframe\">\n",
       "  <thead>\n",
       "    <tr style=\"text-align: right;\">\n",
       "      <th></th>\n",
       "      <th>Currency</th>\n",
       "      <th>Closing Price (USD)</th>\n",
       "      <th>24h Open (USD)</th>\n",
       "      <th>24h High (USD)</th>\n",
       "      <th>24h Low (USD)</th>\n",
       "    </tr>\n",
       "    <tr>\n",
       "      <th>Date</th>\n",
       "      <th></th>\n",
       "      <th></th>\n",
       "      <th></th>\n",
       "      <th></th>\n",
       "      <th></th>\n",
       "    </tr>\n",
       "  </thead>\n",
       "  <tbody>\n",
       "    <tr>\n",
       "      <th>2013-10-01</th>\n",
       "      <td>BTC</td>\n",
       "      <td>123.65499</td>\n",
       "      <td>124.30466</td>\n",
       "      <td>124.75166</td>\n",
       "      <td>122.56349</td>\n",
       "    </tr>\n",
       "    <tr>\n",
       "      <th>2013-10-02</th>\n",
       "      <td>BTC</td>\n",
       "      <td>125.45500</td>\n",
       "      <td>123.65499</td>\n",
       "      <td>125.75850</td>\n",
       "      <td>123.63383</td>\n",
       "    </tr>\n",
       "    <tr>\n",
       "      <th>2013-10-03</th>\n",
       "      <td>BTC</td>\n",
       "      <td>108.58483</td>\n",
       "      <td>125.45500</td>\n",
       "      <td>125.66566</td>\n",
       "      <td>83.32833</td>\n",
       "    </tr>\n",
       "    <tr>\n",
       "      <th>2013-10-04</th>\n",
       "      <td>BTC</td>\n",
       "      <td>118.67466</td>\n",
       "      <td>108.58483</td>\n",
       "      <td>118.67500</td>\n",
       "      <td>107.05816</td>\n",
       "    </tr>\n",
       "    <tr>\n",
       "      <th>2013-10-05</th>\n",
       "      <td>BTC</td>\n",
       "      <td>121.33866</td>\n",
       "      <td>118.67466</td>\n",
       "      <td>121.93633</td>\n",
       "      <td>118.00566</td>\n",
       "    </tr>\n",
       "  </tbody>\n",
       "</table>\n",
       "</div>"
      ],
      "text/plain": [
       "           Currency  Closing Price (USD)  24h Open (USD)  24h High (USD)  \\\n",
       "Date                                                                       \n",
       "2013-10-01      BTC            123.65499       124.30466       124.75166   \n",
       "2013-10-02      BTC            125.45500       123.65499       125.75850   \n",
       "2013-10-03      BTC            108.58483       125.45500       125.66566   \n",
       "2013-10-04      BTC            118.67466       108.58483       118.67500   \n",
       "2013-10-05      BTC            121.33866       118.67466       121.93633   \n",
       "\n",
       "            24h Low (USD)  \n",
       "Date                       \n",
       "2013-10-01      122.56349  \n",
       "2013-10-02      123.63383  \n",
       "2013-10-03       83.32833  \n",
       "2013-10-04      107.05816  \n",
       "2013-10-05      118.00566  "
      ]
     },
     "execution_count": 12,
     "metadata": {},
     "output_type": "execute_result"
    }
   ],
   "source": [
    "# importamos los datos con pandas\n",
    "\n",
    "df = pd.read_csv(\"BTC_USD_2013-10-01_2021-05-18-CoinDesk.csv\",\n",
    "                 parse_dates=[\"Date\"],\n",
    "                 index_col=[\"Date\"]) # parse the date column and tell pandas column 1 is a datetime \n",
    "\n",
    "df.head()"
   ]
  },
  {
   "cell_type": "code",
   "execution_count": 13,
   "metadata": {},
   "outputs": [
    {
     "name": "stdout",
     "output_type": "stream",
     "text": [
      "<class 'pandas.core.frame.DataFrame'>\n",
      "DatetimeIndex: 2787 entries, 2013-10-01 to 2021-05-18\n",
      "Data columns (total 5 columns):\n",
      " #   Column               Non-Null Count  Dtype  \n",
      "---  ------               --------------  -----  \n",
      " 0   Currency             2787 non-null   object \n",
      " 1   Closing Price (USD)  2787 non-null   float64\n",
      " 2   24h Open (USD)       2787 non-null   float64\n",
      " 3   24h High (USD)       2787 non-null   float64\n",
      " 4   24h Low (USD)        2787 non-null   float64\n",
      "dtypes: float64(4), object(1)\n",
      "memory usage: 130.6+ KB\n"
     ]
    }
   ],
   "source": [
    "df.info()"
   ]
  },
  {
   "cell_type": "code",
   "execution_count": 14,
   "metadata": {},
   "outputs": [
    {
     "data": {
      "text/plain": [
       "(2787, 5)"
      ]
     },
     "execution_count": 14,
     "metadata": {},
     "output_type": "execute_result"
    }
   ],
   "source": [
    "df.shape"
   ]
  },
  {
   "cell_type": "code",
   "execution_count": 15,
   "metadata": {},
   "outputs": [
    {
     "data": {
      "text/html": [
       "<div>\n",
       "<style scoped>\n",
       "    .dataframe tbody tr th:only-of-type {\n",
       "        vertical-align: middle;\n",
       "    }\n",
       "\n",
       "    .dataframe tbody tr th {\n",
       "        vertical-align: top;\n",
       "    }\n",
       "\n",
       "    .dataframe thead th {\n",
       "        text-align: right;\n",
       "    }\n",
       "</style>\n",
       "<table border=\"1\" class=\"dataframe\">\n",
       "  <thead>\n",
       "    <tr style=\"text-align: right;\">\n",
       "      <th></th>\n",
       "      <th>Price</th>\n",
       "    </tr>\n",
       "    <tr>\n",
       "      <th>Date</th>\n",
       "      <th></th>\n",
       "    </tr>\n",
       "  </thead>\n",
       "  <tbody>\n",
       "    <tr>\n",
       "      <th>2013-10-01</th>\n",
       "      <td>123.65499</td>\n",
       "    </tr>\n",
       "    <tr>\n",
       "      <th>2013-10-02</th>\n",
       "      <td>125.45500</td>\n",
       "    </tr>\n",
       "    <tr>\n",
       "      <th>2013-10-03</th>\n",
       "      <td>108.58483</td>\n",
       "    </tr>\n",
       "    <tr>\n",
       "      <th>2013-10-04</th>\n",
       "      <td>118.67466</td>\n",
       "    </tr>\n",
       "    <tr>\n",
       "      <th>2013-10-05</th>\n",
       "      <td>121.33866</td>\n",
       "    </tr>\n",
       "  </tbody>\n",
       "</table>\n",
       "</div>"
      ],
      "text/plain": [
       "                Price\n",
       "Date                 \n",
       "2013-10-01  123.65499\n",
       "2013-10-02  125.45500\n",
       "2013-10-03  108.58483\n",
       "2013-10-04  118.67466\n",
       "2013-10-05  121.33866"
      ]
     },
     "execution_count": 15,
     "metadata": {},
     "output_type": "execute_result"
    }
   ],
   "source": [
    "# me quedo sólo con lo que preciso y hago un rename\n",
    "bitcoin_prices = pd.DataFrame(df[\"Closing Price (USD)\"]).rename(columns={\"Closing Price (USD)\": \"Price\"})\n",
    "bitcoin_prices.head()"
   ]
  },
  {
   "cell_type": "code",
   "execution_count": 16,
   "metadata": {},
   "outputs": [
    {
     "data": {
      "image/png": "[encoded data removed]",
      "text/plain": [
       "<Figure size 648x360 with 1 Axes>"
      ]
     },
     "metadata": {
      "needs_background": "light"
     },
     "output_type": "display_data"
    }
   ],
   "source": [
    "bitcoin_prices.plot(figsize=(9, 5))\n",
    "plt.ylabel(\"BTC Price\")\n",
    "plt.title(\"Price of Bitcoin from 1 Oct 2013 to 18 May 2021\", fontsize=16)\n",
    "plt.legend(fontsize=14);"
   ]
  },
  {
   "cell_type": "markdown",
   "metadata": {},
   "source": [
    "### Train test split\n",
    "\n",
    "NO puedo usar train_test_split de sklearn así nomás, pues hace una división aleatoria y esto es una serie temporal; el orden importa!!!\n",
    "\n",
    "Por ello, en lugar de usar train/test/split de ScikitLearn, usaremos slicing."
   ]
  },
  {
   "cell_type": "code",
   "execution_count": 17,
   "metadata": {},
   "outputs": [
    {
     "data": {
      "text/plain": [
       "(array(['2013-10-01T00:00:00.000000000', '2013-10-02T00:00:00.000000000',\n",
       "        '2013-10-03T00:00:00.000000000', '2013-10-04T00:00:00.000000000',\n",
       "        '2013-10-05T00:00:00.000000000', '2013-10-06T00:00:00.000000000',\n",
       "        '2013-10-07T00:00:00.000000000', '2013-10-08T00:00:00.000000000',\n",
       "        '2013-10-09T00:00:00.000000000', '2013-10-10T00:00:00.000000000'],\n",
       "       dtype='datetime64[ns]'),\n",
       " array([123.65499, 125.455  , 108.58483, 118.67466, 121.33866, 120.65533,\n",
       "        121.795  , 123.033  , 124.049  , 125.96116]))"
      ]
     },
     "execution_count": 17,
     "metadata": {},
     "output_type": "execute_result"
    }
   ],
   "source": [
    "# Get bitcoin date array\n",
    "timesteps = bitcoin_prices.index.to_numpy()\n",
    "prices = bitcoin_prices[\"Price\"].to_numpy()\n",
    "\n",
    "timesteps[:10], prices[:10]"
   ]
  },
  {
   "cell_type": "code",
   "execution_count": 18,
   "metadata": {},
   "outputs": [],
   "source": [
    "# Create train and test splits the right way for time series data\n",
    "split_size = int(0.8 * len(prices)) # 80% train, 20% test - you can change these values as needed, e.g. 90/10, 95/5\n",
    "\n",
    "# Create train data splits (everything before the split)\n",
    "X_train, y_train = timesteps[:split_size], prices[:split_size]\n",
    "\n",
    "# Create test data splits (everything beyond the split)\n",
    "X_test, y_test = timesteps[split_size:], prices[split_size:]"
   ]
  },
  {
   "cell_type": "code",
   "execution_count": 19,
   "metadata": {},
   "outputs": [
    {
     "data": {
      "image/png": "[encoded data removed]",
      "text/plain": [
       "<Figure size 648x432 with 1 Axes>"
      ]
     },
     "metadata": {
      "needs_background": "light"
     },
     "output_type": "display_data"
    }
   ],
   "source": [
    "# Test out plotting function\n",
    "plt.figure(figsize=(9, 6))\n",
    "plot_time_series(timesteps=X_train, values=y_train, label=\"Train data\")\n",
    "plot_time_series(timesteps=X_test, values=y_test, label=\"Test data\")"
   ]
  },
  {
   "cell_type": "markdown",
   "metadata": {},
   "source": [
    "<a name=\"6\"></a>\n",
    "## 5. Modelos\n",
    "\n",
    "Terms to be familiar with:\n",
    "* **Horizon** = number of timesteps into the future we're going to predict\n",
    "* **Window size** = number of timesteps we're going to use to predict **horizon**\n",
    "\n",
    "Modelling experiments we're running:\n",
    "* 0\tNaïve model (baseline)\t\n",
    "* 1\tDense model, horizon = 1, window = 7\n",
    "* 2\tSame as 1, \thorizon = 1, window = 30\n",
    "* 3\tConv1D\n",
    "* 4\tLSTM"
   ]
  },
  {
   "cell_type": "code",
   "execution_count": 114,
   "metadata": {},
   "outputs": [],
   "source": [
    "# Configurar la semilla aleatoria para TensorFlow\n",
    "seed_value = 42\n",
    "tf.random.set_seed(seed_value)"
   ]
  },
  {
   "cell_type": "markdown",
   "metadata": {},
   "source": [
    "### 5.1. Naive Forecast\n",
    "\n",
    "The formula looks like this:\n",
    "\n",
    "$$\\hat{y}_{t} = y_{t-1}$$\n",
    "\n",
    "In English:\n",
    "\n",
    "> The prediction at timestep t (y-hat) is equal to the value at timestep t-1 (previous timestep) - this is for a horizon of 1."
   ]
  },
  {
   "cell_type": "code",
   "execution_count": 20,
   "metadata": {},
   "outputs": [
    {
     "data": {
      "text/plain": [
       "(array([9226.48582088, 8794.35864452, 8798.04205463, 9081.18687849,\n",
       "        8711.53433917, 8760.89271814, 8749.52059102, 8656.97092235,\n",
       "        8500.64355816, 8469.2608989 ]),\n",
       " array([57107.12067189, 58788.20967893, 58102.19142623, 55715.54665129,\n",
       "        56573.5554719 , 52147.82118698, 49764.1320816 , 50032.69313676,\n",
       "        47885.62525472, 45604.61575361]))"
      ]
     },
     "execution_count": 20,
     "metadata": {},
     "output_type": "execute_result"
    }
   ],
   "source": [
    "# Create a naive forecast \n",
    "naive_forecast = y_test[:-1]\n",
    "\n",
    "naive_forecast[:10], naive_forecast[-10:]"
   ]
  },
  {
   "cell_type": "markdown",
   "metadata": {},
   "source": [
    "----------------------- GRAFICAS!!!!!!!!!!"
   ]
  },
  {
   "cell_type": "markdown",
   "metadata": {},
   "source": [
    "### Model 1: Dense model (window = 7, horizon = 1)\n",
    "\n",
    "Our first deep model is going to be a simple dense model:\n",
    "* A single dense layer with 128 hidden units and ReLU\n",
    "* An output layer with linear activation (no activation)\n",
    "* Adam optimizaiton and MAE loss function\n",
    "* Batch size of 128 (previously we've used 32) \n",
    "* 100 epochs \n",
    "\n",
    "Why these values?\n",
    "\n",
    "I picked them out of experimentation.\n",
    "\n",
    "* **Hyperparameters** = values a machine learning practitioner (you!) can adjust themselves\n",
    "* **Parameters** = values a model learns on its own"
   ]
  },
  {
   "cell_type": "code",
   "execution_count": 115,
   "metadata": {},
   "outputs": [],
   "source": [
    "# horizon and window size\n",
    "HORIZON = 1\n",
    "WINDOW_SIZE = 7\n",
    "\n",
    "# train/test data\n",
    "X_train, X_test, y_train, y_test = pre_process_data(bitcoin_prices,WINDOW_SIZE)"
   ]
  },
  {
   "cell_type": "code",
   "execution_count": 116,
   "metadata": {},
   "outputs": [
    {
     "data": {
      "text/plain": [
       "(2224, 2224, 556, 556)"
      ]
     },
     "execution_count": 116,
     "metadata": {},
     "output_type": "execute_result"
    }
   ],
   "source": [
    "len(X_train), len(y_train), len(X_test), len(y_test)"
   ]
  },
  {
   "cell_type": "code",
   "execution_count": 117,
   "metadata": {},
   "outputs": [
    {
     "data": {
      "text/plain": [
       "<keras.callbacks.History at 0x1f7a1cff3d0>"
      ]
     },
     "execution_count": 117,
     "metadata": {},
     "output_type": "execute_result"
    }
   ],
   "source": [
    "# 1. Construct model\n",
    "model_1 = tf.keras.Sequential([\n",
    "  layers.Dense(128, activation=\"relu\"),\n",
    "  layers.Dense(HORIZON, activation=\"linear\")               \n",
    "], name=\"model_1_dense\") # name our model so we can save it\n",
    "\n",
    "# 2. Compile\n",
    "model_1.compile(loss=\"mae\",\n",
    "                optimizer=tf.keras.optimizers.Adam(),\n",
    "                metrics=[\"mae\", \"mse\"])\n",
    "\n",
    "# 3. Fit the model\n",
    "model_1.fit(x=X_train,\n",
    "            y=y_train,\n",
    "            epochs=100,\n",
    "            verbose=0,\n",
    "            batch_size=128,\n",
    "            validation_data=(X_test, y_test))\n",
    "            #callbacks=[create_model_checkpoint(model_name=model_1.name)])"
   ]
  },
  {
   "cell_type": "code",
   "execution_count": 25,
   "metadata": {},
   "outputs": [
    {
     "name": "stdout",
     "output_type": "stream",
     "text": [
      "18/18 [==============================] - 0s 4ms/step - loss: 659.4442 - mae: 659.4442 - mse: 1377514.0000\n"
     ]
    },
    {
     "data": {
      "text/plain": [
       "[659.4442138671875, 659.4442138671875, 1377514.0]"
      ]
     },
     "execution_count": 25,
     "metadata": {},
     "output_type": "execute_result"
    }
   ],
   "source": [
    "# Evaluate model on test data\n",
    "model_1.evaluate(X_test, y_test)"
   ]
  },
  {
   "cell_type": "code",
   "execution_count": 26,
   "metadata": {},
   "outputs": [
    {
     "data": {
      "text/plain": [
       "<bound method Model.predict of <keras.engine.sequential.Sequential object at 0x000001F7891F0CD0>>"
      ]
     },
     "execution_count": 26,
     "metadata": {},
     "output_type": "execute_result"
    }
   ],
   "source": [
    "model_1.predict"
   ]
  },
  {
   "cell_type": "code",
   "execution_count": 27,
   "metadata": {},
   "outputs": [
    {
     "name": "stdout",
     "output_type": "stream",
     "text": [
      "18/18 [==============================] - 0s 2ms/step\n"
     ]
    },
    {
     "data": {
      "text/plain": [
       "(556,\n",
       " <tf.Tensor: shape=(10,), dtype=float32, numpy=\n",
       " array([9018.521, 8920.93 , 9184.515, 8936.524, 8872.671, 8890.865,\n",
       "        8846.287, 8649.895, 8611.62 , 8672.031], dtype=float32)>)"
      ]
     },
     "execution_count": 27,
     "metadata": {},
     "output_type": "execute_result"
    }
   ],
   "source": [
    "# Make predictions using model_1 on the test dataset and view results\n",
    "model_1_preds = make_preds(model_1, X_test) \n",
    "len(model_1_preds), model_1_preds[:10]"
   ]
  },
  {
   "cell_type": "code",
   "execution_count": 28,
   "metadata": {},
   "outputs": [
    {
     "data": {
      "text/plain": [
       "{'mae': 659.4443,\n",
       " 'mse': 1377514.2,\n",
       " 'rmse': 1173.6755,\n",
       " 'mape': 3.0752928,\n",
       " 'mase': 1.158461}"
      ]
     },
     "execution_count": 28,
     "metadata": {},
     "output_type": "execute_result"
    }
   ],
   "source": [
    "# Evaluate preds\n",
    "model_1_results = evaluate_preds_general(y_true=tf.squeeze(y_test),\n",
    "                                 y_pred=model_1_preds) # ídem con evaluate_preds\n",
    "model_1_results"
   ]
  },
  {
   "cell_type": "code",
   "execution_count": 92,
   "metadata": {},
   "outputs": [
    {
     "data": {
      "image/png": "[encoded data removed]",
      "text/plain": [
       "<Figure size 864x576 with 1 Axes>"
      ]
     },
     "metadata": {
      "needs_background": "light"
     },
     "output_type": "display_data"
    }
   ],
   "source": [
    "indices = bitcoin_prices.index\n",
    "indices.values[-10:] # ultimos elementos\n",
    "\n",
    "plot_time_series(len(X_test),indices,y_test,model_1_preds)"
   ]
  },
  {
   "cell_type": "markdown",
   "metadata": {},
   "source": [
    "### Model 2: Dense (window = 30, horizon = 1)"
   ]
  },
  {
   "cell_type": "code",
   "execution_count": 94,
   "metadata": {},
   "outputs": [],
   "source": [
    "# horizon and window size\n",
    "HORIZON = 1\n",
    "WINDOW_SIZE = 30\n",
    "\n",
    "# train/test data\n",
    "X_train, X_test, y_train, y_test = pre_process_data(bitcoin_prices,WINDOW_SIZE)"
   ]
  },
  {
   "cell_type": "code",
   "execution_count": 95,
   "metadata": {},
   "outputs": [
    {
     "data": {
      "text/plain": [
       "<keras.callbacks.History at 0x1f79bc4aa60>"
      ]
     },
     "execution_count": 95,
     "metadata": {},
     "output_type": "execute_result"
    }
   ],
   "source": [
    "# Create model\n",
    "model_2 = tf.keras.Sequential([\n",
    "  layers.Dense(128, activation=\"relu\"),\n",
    "  layers.Dense(HORIZON)\n",
    "], name=\"model_2_dense\")\n",
    "\n",
    "# Compile\n",
    "model_2.compile(loss=\"mae\",\n",
    "                optimizer=tf.keras.optimizers.Adam())\n",
    "\n",
    "# Fit\n",
    "model_2.fit(x=X_train,\n",
    "            y=y_train,\n",
    "            epochs=100,\n",
    "            verbose=0,\n",
    "            batch_size=128,\n",
    "            validation_data=(X_test, y_test))\n"
   ]
  },
  {
   "cell_type": "code",
   "execution_count": 96,
   "metadata": {},
   "outputs": [
    {
     "name": "stdout",
     "output_type": "stream",
     "text": [
      "18/18 [==============================] - 0s 3ms/step - loss: 1619.2520\n"
     ]
    },
    {
     "data": {
      "text/plain": [
       "1619.251953125"
      ]
     },
     "execution_count": 96,
     "metadata": {},
     "output_type": "execute_result"
    }
   ],
   "source": [
    "# Evaluate model on test data\n",
    "model_2.evaluate(X_test, y_test)"
   ]
  },
  {
   "cell_type": "code",
   "execution_count": 97,
   "metadata": {},
   "outputs": [
    {
     "name": "stdout",
     "output_type": "stream",
     "text": [
      "18/18 [==============================] - 0s 3ms/step\n"
     ]
    },
    {
     "data": {
      "text/plain": [
       "(552,\n",
       " <tf.Tensor: shape=(10,), dtype=float32, numpy=\n",
       " array([8179.64  , 8131.635 , 8136.471 , 7895.2783, 7687.164 , 7655.4175,\n",
       "        7402.0093, 7420.371 , 7542.9595, 7077.991 ], dtype=float32)>)"
      ]
     },
     "execution_count": 97,
     "metadata": {},
     "output_type": "execute_result"
    }
   ],
   "source": [
    "# Make predictions using model_1 on the test dataset and view results\n",
    "model_2_preds = make_preds(model_2, X_test) \n",
    "len(model_2_preds), model_2_preds[:10]"
   ]
  },
  {
   "cell_type": "code",
   "execution_count": 98,
   "metadata": {},
   "outputs": [
    {
     "data": {
      "text/plain": [
       "{'mae': 1619.2521,\n",
       " 'mse': 5434831.0,\n",
       " 'rmse': 2331.2725,\n",
       " 'mape': 8.14812,\n",
       " 'mase': 2.8304687}"
      ]
     },
     "execution_count": 98,
     "metadata": {},
     "output_type": "execute_result"
    }
   ],
   "source": [
    "# Evaluate preds\n",
    "model_2_results = evaluate_preds_general(y_true=tf.squeeze(y_test),\n",
    "                                 y_pred=model_2_preds)\n",
    "model_2_results"
   ]
  },
  {
   "cell_type": "code",
   "execution_count": 99,
   "metadata": {},
   "outputs": [
    {
     "data": {
      "image/png": "[encoded data removed]",
      "text/plain": [
       "<Figure size 864x576 with 1 Axes>"
      ]
     },
     "metadata": {
      "needs_background": "light"
     },
     "output_type": "display_data"
    }
   ],
   "source": [
    "indices = bitcoin_prices.index\n",
    "indices.values[-10:] # ultimos elementos\n",
    "\n",
    "plot_time_series(len(X_test),indices,y_test,model_2_preds)"
   ]
  },
  {
   "cell_type": "markdown",
   "metadata": {},
   "source": [
    "### Model 3 : Conv1D"
   ]
  },
  {
   "cell_type": "markdown",
   "metadata": {},
   "source": [
    "1. Crear ventanas\n",
    "\n",
    "2. Train/test split"
   ]
  },
  {
   "cell_type": "code",
   "execution_count": 121,
   "metadata": {},
   "outputs": [],
   "source": [
    "HORIZON = 1\n",
    "WINDOW_SIZE = 7\n",
    "\n",
    "# train/test data\n",
    "X_train, X_test, y_train, y_test = pre_process_data(bitcoin_prices,WINDOW_SIZE)"
   ]
  },
  {
   "cell_type": "markdown",
   "metadata": {},
   "source": [
    "To use the Conv1D layer, we need an input shape of: `(batch_size, timesteps, input_dim)`...\n",
    "\n",
    "However our data isn't in that shape yet...\n",
    "\n",
    "En el contexto de un problema de series temporales con un horizonte (horizon) de 1 y un tamaño de ventana (window_size) de 7, la forma del tensor de entrada (input_shape) sería crucial para determinar el tamaño de input_dim. La forma general del tensor sería (batch_size, window_size, input_dim).\n",
    "\n",
    "Dado que window_size es 7, el modelo consideraría secuencias de 7 pasos temporales como entrada en cada lote. Sin embargo, el horizonte de predicción (horizon) es 1, lo que significa que el modelo está diseñado para predecir el siguiente paso temporal en cada secuencia.\n",
    "\n",
    "Por lo tanto, el tamaño de input_dim debe ser el número de características o variables en cada paso temporal. Si tus secuencias tienen una única característica en cada paso de tiempo (por ejemplo, univariadas), entonces input_dim sería 1. Si tienes múltiples características en cada paso de tiempo (por ejemplo, series temporales multivariadas), entonces input_dim sería el número total de características.\n",
    "\n",
    "Entonces, en resumen, para un problema de series temporales con un horizonte de 1 y una ventana de 7, y si tus datos tienen una sola característica en cada paso de tiempo, input_dim debería ser 1. Si tienes múltiples características en cada paso de tiempo, input_dim sería el número total de características."
   ]
  },
  {
   "cell_type": "code",
   "execution_count": 123,
   "metadata": {},
   "outputs": [],
   "source": [
    "def build_model_3(horizon,name):\n",
    "    model = tf.keras.Sequential([\n",
    "        layers.Lambda(lambda x: tf.expand_dims(x, axis=1)),\n",
    "        tf.keras.layers.Conv1D(filters=128, kernel_size=5, strides=1, padding=\"causal\", activation=\"relu\"),\n",
    "        tf.keras.layers.Dense(horizon)\n",
    "    ],name=name)\n",
    "    return model\n",
    "    \n",
    "    \n",
    "model_3 = build_model_3(1,\"model_3_conv1D\")"
   ]
  },
  {
   "cell_type": "code",
   "execution_count": 124,
   "metadata": {},
   "outputs": [
    {
     "data": {
      "text/plain": [
       "<keras.callbacks.History at 0x1f7a200afd0>"
      ]
     },
     "execution_count": 124,
     "metadata": {},
     "output_type": "execute_result"
    }
   ],
   "source": [
    "# Compile model\n",
    "model_3.compile(loss=\"mae\",\n",
    "                optimizer=tf.keras.optimizers.Adam())\n",
    "\n",
    "# Fit\n",
    "model_3.fit(X_train,\n",
    "            y_train,\n",
    "            batch_size=128, \n",
    "            epochs=100,\n",
    "            verbose=0,\n",
    "            validation_data=(X_test, y_test))\n",
    "            #callbacks=[create_model_checkpoint(model_name=model_4.name)])"
   ]
  },
  {
   "cell_type": "code",
   "execution_count": 125,
   "metadata": {},
   "outputs": [
    {
     "name": "stdout",
     "output_type": "stream",
     "text": [
      "18/18 [==============================] - 0s 2ms/step - loss: 17660.3594\n"
     ]
    },
    {
     "data": {
      "text/plain": [
       "17660.359375"
      ]
     },
     "execution_count": 125,
     "metadata": {},
     "output_type": "execute_result"
    }
   ],
   "source": [
    "# Evaluate model on test data\n",
    "model_3.evaluate(X_test, y_test)"
   ]
  },
  {
   "cell_type": "code",
   "execution_count": 143,
   "metadata": {},
   "outputs": [
    {
     "name": "stdout",
     "output_type": "stream",
     "text": [
      "18/18 [==============================] - 0s 2ms/step\n"
     ]
    },
    {
     "data": {
      "text/plain": [
       "(array([8798.042 , 9081.187 , 8711.534 , 8760.893 , 8749.5205, 8656.971 ,\n",
       "        8500.644 , 8469.261 , 8537.34  , 8205.807 ], dtype=float32),\n",
       " <tf.Tensor: shape=(10,), dtype=float32, numpy=\n",
       " array([1099.7885, 1045.6232, 1051.4542, 1072.4384, 1051.6952, 1044.7711,\n",
       "        1069.7057, 1020.6836, 1022.8924, 1019.4231], dtype=float32)>)"
      ]
     },
     "execution_count": 143,
     "metadata": {},
     "output_type": "execute_result"
    }
   ],
   "source": [
    "# Make predictions using model_1 on the test dataset and view results\n",
    "model_3_preds = make_preds(model_3, X_test) \n",
    "len(model_3_preds), model_3_preds[:10]\n",
    "\n",
    "\n",
    "y_test[:10], model_3_preds[:10]"
   ]
  },
  {
   "cell_type": "code",
   "execution_count": 138,
   "metadata": {},
   "outputs": [
    {
     "data": {
      "text/plain": [
       "{'mae': 17660.361,\n",
       " 'mse': 549434050.0,\n",
       " 'rmse': 23440.01,\n",
       " 'mape': 87.84382,\n",
       " 'mase': 31.024363}"
      ]
     },
     "execution_count": 138,
     "metadata": {},
     "output_type": "execute_result"
    }
   ],
   "source": [
    "# Evaluate preds\n",
    "model_3_results = evaluate_preds_general(y_true=tf.squeeze(y_test),\n",
    "                                 y_pred=model_3_preds)\n",
    "model_3_results"
   ]
  },
  {
   "cell_type": "code",
   "execution_count": 146,
   "metadata": {},
   "outputs": [
    {
     "data": {
      "image/png": "[encoded data removed]",
      "text/plain": [
       "<Figure size 864x576 with 1 Axes>"
      ]
     },
     "metadata": {
      "needs_background": "light"
     },
     "output_type": "display_data"
    }
   ],
   "source": [
    "indices = bitcoin_prices.index\n",
    "indices.values[-10:] # ultimos elementos\n",
    "\n",
    "\n",
    "plot_time_series(len(X_test),indices,y_test,model_3_preds*10) # ???????"
   ]
  },
  {
   "cell_type": "markdown",
   "metadata": {},
   "source": [
    "### Model 5: RNN (LSTM)\n",
    "\n",
    "Let's build an RNN model for our time series data.\n",
    "\n"
   ]
  },
  {
   "cell_type": "code",
   "execution_count": 107,
   "metadata": {},
   "outputs": [],
   "source": [
    "HORIZON = 1\n",
    "WINDOW_SIZE = 7\n",
    "\n",
    "# train/test data\n",
    "X_train, X_test, y_train, y_test = pre_process_data(bitcoin_prices,WINDOW_SIZE)"
   ]
  },
  {
   "cell_type": "code",
   "execution_count": 108,
   "metadata": {},
   "outputs": [
    {
     "data": {
      "text/plain": [
       "<keras.callbacks.History at 0x1f79e66c550>"
      ]
     },
     "execution_count": 108,
     "metadata": {},
     "output_type": "execute_result"
    }
   ],
   "source": [
    "def build_model_4(window_size,name):\n",
    "    # Let's build an LSTM model with the Functional API\n",
    "    inputs = layers.Input(shape=(window_size))\n",
    "    x = layers.Lambda(lambda x: tf.expand_dims(x, axis=1))(inputs)\n",
    "    # x = layers.LSTM(128, return_sequences=True)(x)\n",
    "    x = layers.LSTM(128, activation=\"relu\")(x)\n",
    "    # x = layers.Dense(32, activation=\"relu\")(x)\n",
    "    output = layers.Dense(HORIZON)(x)\n",
    "    model = tf.keras.Model(inputs=inputs, outputs=output, name=name)\n",
    "    return model\n",
    "\n",
    "\n",
    "model_4 = build_model_4(WINDOW_SIZE,\"model_5_LSTM\")\n",
    "    \n",
    "    \n",
    "# Compile\n",
    "model_4.compile(loss=\"mae\",\n",
    "                optimizer=tf.keras.optimizers.Adam())\n",
    "\n",
    "# Fit\n",
    "model_4.fit(X_train,\n",
    "            y_train,\n",
    "            epochs=100,\n",
    "            verbose=0,\n",
    "            batch_size=128,\n",
    "            validation_data=(X_test, y_test))\n",
    "            #callbacks=[create_model_checkpoint(model_name=model_5.name)])"
   ]
  },
  {
   "cell_type": "code",
   "execution_count": 109,
   "metadata": {},
   "outputs": [
    {
     "name": "stdout",
     "output_type": "stream",
     "text": [
      "18/18 [==============================] - 0s 4ms/step - loss: 593.7762\n"
     ]
    },
    {
     "data": {
      "text/plain": [
       "593.7762451171875"
      ]
     },
     "execution_count": 109,
     "metadata": {},
     "output_type": "execute_result"
    }
   ],
   "source": [
    "# Evaluate model on test data\n",
    "model_4.evaluate(X_test, y_test)"
   ]
  },
  {
   "cell_type": "code",
   "execution_count": 110,
   "metadata": {},
   "outputs": [
    {
     "name": "stdout",
     "output_type": "stream",
     "text": [
      "18/18 [==============================] - 0s 4ms/step\n"
     ]
    },
    {
     "data": {
      "text/plain": [
       "(556,\n",
       " <tf.Tensor: shape=(10,), dtype=float32, numpy=\n",
       " array([8907.897, 8779.582, 8921.285, 8773.157, 8728.183, 8688.395,\n",
       "        8654.229, 8543.888, 8423.562, 8479.886], dtype=float32)>)"
      ]
     },
     "execution_count": 110,
     "metadata": {},
     "output_type": "execute_result"
    }
   ],
   "source": [
    "# Make predictions using model_1 on the test dataset and view results\n",
    "model_4_preds = make_preds(model_4, X_test) \n",
    "len(model_4_preds), model_4_preds[:10]"
   ]
  },
  {
   "cell_type": "code",
   "execution_count": 111,
   "metadata": {},
   "outputs": [
    {
     "data": {
      "text/plain": [
       "{'mae': 593.7763,\n",
       " 'mse': 1245382.5,\n",
       " 'rmse': 1115.967,\n",
       " 'mape': 2.668414,\n",
       " 'mase': 1.0431005}"
      ]
     },
     "execution_count": 111,
     "metadata": {},
     "output_type": "execute_result"
    }
   ],
   "source": [
    "# Evaluate preds\n",
    "model_4_results = evaluate_preds_general(y_true=tf.squeeze(y_test),\n",
    "                                 y_pred=model_4_preds)\n",
    "model_4_results"
   ]
  },
  {
   "cell_type": "code",
   "execution_count": 112,
   "metadata": {},
   "outputs": [
    {
     "data": {
      "image/png": "[encoded data removed]",
      "text/plain": [
       "<Figure size 864x576 with 1 Axes>"
      ]
     },
     "metadata": {
      "needs_background": "light"
     },
     "output_type": "display_data"
    }
   ],
   "source": [
    "indices = bitcoin_prices.index\n",
    "indices.values[-10:] # ultimos elementos\n",
    "\n",
    "plot_time_series(len(X_test),indices,y_test,model_4_preds)"
   ]
  },
  {
   "cell_type": "markdown",
   "metadata": {},
   "source": [
    "### Ensembling learning"
   ]
  },
  {
   "cell_type": "code",
   "execution_count": 61,
   "metadata": {},
   "outputs": [],
   "source": [
    "HORIZON = 1\n",
    "WINDOW_SIZE = 7\n",
    "\n",
    "# train/test data\n",
    "X_train, X_test, y_train, y_test = pre_process_data(bitcoin_prices,WINDOW_SIZE)"
   ]
  },
  {
   "cell_type": "code",
   "execution_count": 62,
   "metadata": {},
   "outputs": [],
   "source": [
    "# usar tf.data por performance\n",
    "\n",
    "# Time to make our dataset performant using tf.data API\n",
    "train_features_dataset = tf.data.Dataset.from_tensor_slices(X_train)\n",
    "train_labels_dataset = tf.data.Dataset.from_tensor_slices(y_train)\n",
    "\n",
    "test_features_dataset = tf.data.Dataset.from_tensor_slices(X_test)\n",
    "test_labels_dataset = tf.data.Dataset.from_tensor_slices(y_test)\n",
    "\n",
    "# Combine labels and features by zipping together -> (features, labels)\n",
    "train_dataset = tf.data.Dataset.zip((train_features_dataset, train_labels_dataset))\n",
    "test_dataset = tf.data.Dataset.zip((test_features_dataset, test_labels_dataset))\n",
    "\n",
    "# Batch and prefetch\n",
    "BATCH_SIZE = 1024\n",
    "train_dataset = train_dataset.batch(BATCH_SIZE).prefetch(tf.data.AUTOTUNE)\n",
    "test_dataset = test_dataset.batch(BATCH_SIZE).prefetch(tf.data.AUTOTUNE)"
   ]
  },
  {
   "cell_type": "code",
   "execution_count": 63,
   "metadata": {},
   "outputs": [],
   "source": [
    "\n",
    "\"\"\"\n",
    "los modelos siguientes son diferentes debido a a la aleatoriedad,\n",
    "por ejemplo al tener las capas inicializacion aleatoria\n",
    "\"\"\"\n",
    "\n",
    "def get_ensemble_models(horizon=HORIZON,\n",
    "                        train_data=train_dataset,\n",
    "                        test_data=test_dataset,\n",
    "                        num_iter=5,#3\n",
    "                        num_epochs=1000,\n",
    "                        loss_fns=[\"mae\", \"mse\", \"mape\"]):\n",
    "  \n",
    "  \"\"\"\n",
    "  Returns a list of num_iter models each trained on MAE, MSE and MAPE loss.\n",
    "\n",
    "  For example, if num_iter=10, a list of 30 trained models will be returned: \n",
    "  10 * len([\"mae\", \"mse\", \"mape\"]).\n",
    "  \"\"\"\n",
    "  \n",
    "  # Make empty list for trained ensemble models\n",
    "  ensemble_models = []\n",
    "\n",
    "  # Create num_iter number of models per loss function\n",
    "  for i in range(num_iter):\n",
    "    # Build and fit a new model with a different loss function\n",
    "    for loss_function in loss_fns:\n",
    "      print(f\"Optimizing model by reducing: {loss_function} for {num_epochs} epochs, model number: {i}\")\n",
    "\n",
    "      # Construct a simple model (similar to model_1)\n",
    "      model = tf.keras.Sequential([\n",
    "        # Initialize dense layers with normal distribution for estimating prediction intervals later on\n",
    "        layers.Dense(128, kernel_initializer=\"he_normal\", activation=\"relu\"),\n",
    "        layers.Dense(128, kernel_initializer=\"he_normal\", activation=\"relu\"),\n",
    "        layers.Dense(HORIZON)\n",
    "      ])\n",
    "\n",
    "      # Compile simple model with current loss function\n",
    "      model.compile(loss=loss_function,\n",
    "                    optimizer=tf.keras.optimizers.Adam(),\n",
    "                    metrics=[\"mae\", \"mse\"])\n",
    "      \n",
    "      # Fit the current model\n",
    "      model.fit(train_data,\n",
    "                epochs=num_epochs,\n",
    "                verbose=0,\n",
    "                validation_data=test_data,\n",
    "                callbacks=[tf.keras.callbacks.EarlyStopping(monitor=\"val_loss\",\n",
    "                                                            patience=150,\n",
    "                                                            restore_best_weights=True),\n",
    "                           tf.keras.callbacks.ReduceLROnPlateau(monitor=\"val_loss\",\n",
    "                                                                patience=100,\n",
    "                                                                verbose=1)])\n",
    "      # Append fitted model to list of ensemble models\n",
    "      ensemble_models.append(model)\n",
    "\n",
    "  return ensemble_models \n",
    "  \n"
   ]
  },
  {
   "cell_type": "code",
   "execution_count": 64,
   "metadata": {},
   "outputs": [
    {
     "name": "stdout",
     "output_type": "stream",
     "text": [
      "Optimizing model by reducing: mae for 200 epochs, model number: 0\n",
      "Optimizing model by reducing: mse for 200 epochs, model number: 0\n",
      "Optimizing model by reducing: mape for 200 epochs, model number: 0\n",
      "Optimizing model by reducing: mae for 200 epochs, model number: 1\n",
      "Optimizing model by reducing: mse for 200 epochs, model number: 1\n",
      "Optimizing model by reducing: mape for 200 epochs, model number: 1\n",
      "\n",
      "Epoch 149: ReduceLROnPlateau reducing learning rate to 0.00010000000474974513.\n",
      "Optimizing model by reducing: mae for 200 epochs, model number: 2\n",
      "Optimizing model by reducing: mse for 200 epochs, model number: 2\n",
      "Optimizing model by reducing: mape for 200 epochs, model number: 2\n",
      "Optimizing model by reducing: mae for 200 epochs, model number: 3\n",
      "Optimizing model by reducing: mse for 200 epochs, model number: 3\n",
      "Optimizing model by reducing: mape for 200 epochs, model number: 3\n",
      "\n",
      "Epoch 186: ReduceLROnPlateau reducing learning rate to 0.00010000000474974513.\n",
      "Optimizing model by reducing: mae for 200 epochs, model number: 4\n",
      "Optimizing model by reducing: mse for 200 epochs, model number: 4\n",
      "Optimizing model by reducing: mape for 200 epochs, model number: 4\n",
      "\n",
      "Epoch 165: ReduceLROnPlateau reducing learning rate to 0.00010000000474974513.\n"
     ]
    }
   ],
   "source": [
    "# Example usage:\n",
    "# train_dataset y test_dataset deben ser definidos antes de llamar a get_ensemble_models\n",
    "# HORIZON también debe ser definido previamente\n",
    "ensemble_models = get_ensemble_models(train_data=train_dataset, test_data=test_dataset, num_iter=5, num_epochs=200)"
   ]
  },
  {
   "cell_type": "code",
   "execution_count": 65,
   "metadata": {},
   "outputs": [
    {
     "data": {
      "text/plain": [
       "[<keras.engine.sequential.Sequential at 0x1f78f5b01c0>,\n",
       " <keras.engine.sequential.Sequential at 0x1f790703640>,\n",
       " <keras.engine.sequential.Sequential at 0x1f79185ddc0>,\n",
       " <keras.engine.sequential.Sequential at 0x1f7929d2400>,\n",
       " <keras.engine.sequential.Sequential at 0x1f792a25af0>,\n",
       " <keras.engine.sequential.Sequential at 0x1f792ced7c0>,\n",
       " <keras.engine.sequential.Sequential at 0x1f78abeb220>,\n",
       " <keras.engine.sequential.Sequential at 0x1f794d7e340>,\n",
       " <keras.engine.sequential.Sequential at 0x1f794ed0be0>,\n",
       " <keras.engine.sequential.Sequential at 0x1f796040f40>,\n",
       " <keras.engine.sequential.Sequential at 0x1f7981709a0>,\n",
       " <keras.engine.sequential.Sequential at 0x1f7982fe0a0>,\n",
       " <keras.engine.sequential.Sequential at 0x1f7994702e0>,\n",
       " <keras.engine.sequential.Sequential at 0x1f79970ee80>,\n",
       " <keras.engine.sequential.Sequential at 0x1f79a86f610>]"
      ]
     },
     "execution_count": 65,
     "metadata": {},
     "output_type": "execute_result"
    }
   ],
   "source": [
    "ensemble_models"
   ]
  },
  {
   "cell_type": "code",
   "execution_count": 69,
   "metadata": {},
   "outputs": [
    {
     "name": "stdout",
     "output_type": "stream",
     "text": [
      "1/1 [==============================] - 0s 123ms/step\n",
      "1/1 [==============================] - 0s 103ms/step\n",
      "1/1 [==============================] - 0s 119ms/step\n",
      "WARNING:tensorflow:5 out of the last 22 calls to <function Model.make_predict_function.<locals>.predict_function at 0x000001F79BB19820> triggered tf.function retracing. Tracing is expensive and the excessive number of tracings could be due to (1) creating @tf.function repeatedly in a loop, (2) passing tensors with different shapes, (3) passing Python objects instead of tensors. For (1), please define your @tf.function outside of the loop. For (2), @tf.function has reduce_retracing=True option that can avoid unnecessary retracing. For (3), please refer to https://www.tensorflow.org/guide/function#controlling_retracing and https://www.tensorflow.org/api_docs/python/tf/function for  more details.\n",
      "1/1 [==============================] - 0s 130ms/step\n",
      "WARNING:tensorflow:6 out of the last 23 calls to <function Model.make_predict_function.<locals>.predict_function at 0x000001F79BB19DC0> triggered tf.function retracing. Tracing is expensive and the excessive number of tracings could be due to (1) creating @tf.function repeatedly in a loop, (2) passing tensors with different shapes, (3) passing Python objects instead of tensors. For (1), please define your @tf.function outside of the loop. For (2), @tf.function has reduce_retracing=True option that can avoid unnecessary retracing. For (3), please refer to https://www.tensorflow.org/guide/function#controlling_retracing and https://www.tensorflow.org/api_docs/python/tf/function for  more details.\n",
      "1/1 [==============================] - 0s 124ms/step\n",
      "1/1 [==============================] - 0s 118ms/step\n",
      "1/1 [==============================] - 0s 129ms/step\n",
      "1/1 [==============================] - 0s 122ms/step\n",
      "1/1 [==============================] - 0s 119ms/step\n",
      "1/1 [==============================] - 0s 114ms/step\n",
      "1/1 [==============================] - 0s 125ms/step\n",
      "1/1 [==============================] - 0s 126ms/step\n",
      "1/1 [==============================] - 0s 119ms/step\n",
      "1/1 [==============================] - 0s 118ms/step\n",
      "1/1 [==============================] - 0s 127ms/step\n"
     ]
    },
    {
     "data": {
      "text/plain": [
       "<tf.Tensor: shape=(15, 556), dtype=float32, numpy=\n",
       "array([[ 7750.936 ,  7245.714 ,  7524.292 , ..., 42561.992 , 44513.227 ,\n",
       "        39781.152 ],\n",
       "       [ 8807.164 ,  8787.912 ,  9111.559 , ..., 49894.613 , 48366.418 ,\n",
       "        45265.797 ],\n",
       "       [ 9030.105 ,  9038.463 ,  9305.44  , ..., 51555.566 , 50029.676 ,\n",
       "        46790.227 ],\n",
       "       ...,\n",
       "       [ 8784.141 ,  8898.72  ,  8919.604 , ..., 50477.816 , 48207.66  ,\n",
       "        48692.83  ],\n",
       "       [ 8823.628 ,  8725.5205,  8992.399 , ..., 49514.285 , 48368.97  ,\n",
       "        45328.406 ],\n",
       "       [ 8817.965 ,  8819.556 ,  9099.74  , ..., 50120.77  , 47897.527 ,\n",
       "        46178.285 ]], dtype=float32)>"
      ]
     },
     "execution_count": 69,
     "metadata": {},
     "output_type": "execute_result"
    }
   ],
   "source": [
    "# Create a list of ensemble predictions\n",
    "ensemble_preds = make_ensemble_preds(ensemble_models=ensemble_models,\n",
    "                                     data=test_dataset)\n",
    "ensemble_preds"
   ]
  },
  {
   "cell_type": "code",
   "execution_count": 70,
   "metadata": {},
   "outputs": [
    {
     "data": {
      "text/plain": [
       "<tf.Tensor: shape=(15, 556), dtype=float32, numpy=\n",
       "array([[ 7750.936 ,  7245.714 ,  7524.292 , ..., 42561.992 , 44513.227 ,\n",
       "        39781.152 ],\n",
       "       [ 8807.164 ,  8787.912 ,  9111.559 , ..., 49894.613 , 48366.418 ,\n",
       "        45265.797 ],\n",
       "       [ 9030.105 ,  9038.463 ,  9305.44  , ..., 51555.566 , 50029.676 ,\n",
       "        46790.227 ],\n",
       "       ...,\n",
       "       [ 8784.141 ,  8898.72  ,  8919.604 , ..., 50477.816 , 48207.66  ,\n",
       "        48692.83  ],\n",
       "       [ 8823.628 ,  8725.5205,  8992.399 , ..., 49514.285 , 48368.97  ,\n",
       "        45328.406 ],\n",
       "       [ 8817.965 ,  8819.556 ,  9099.74  , ..., 50120.77  , 47897.527 ,\n",
       "        46178.285 ]], dtype=float32)>"
      ]
     },
     "execution_count": 70,
     "metadata": {},
     "output_type": "execute_result"
    }
   ],
   "source": [
    "ensemble_preds"
   ]
  },
  {
   "cell_type": "code",
   "execution_count": 73,
   "metadata": {},
   "outputs": [
    {
     "data": {
      "text/plain": [
       "TensorShape([15, 556])"
      ]
     },
     "execution_count": 73,
     "metadata": {},
     "output_type": "execute_result"
    }
   ],
   "source": [
    "ensemble_preds.shape"
   ]
  },
  {
   "cell_type": "markdown",
   "metadata": {},
   "source": [
    "vemos que nos da una prediccion por cada uno de los 15 modelos, debemos combinarlas!"
   ]
  },
  {
   "cell_type": "markdown",
   "metadata": {},
   "source": [
    "Our ensemble preds come out in multiple dimensions but to combine into **point predictions** we can leverage the mean of all of the predictions or the median - https://machinelearningmastery.com/combine-predictions-for-ensemble-learning/"
   ]
  },
  {
   "cell_type": "code",
   "execution_count": 71,
   "metadata": {},
   "outputs": [
    {
     "data": {
      "text/plain": [
       "<tf.Tensor: shape=(10,), dtype=float32, numpy=\n",
       "array([8777.48 , 8727.197, 8972.549, 8667.987, 8683.498, 8693.142,\n",
       "       8591.376, 8430.565, 8414.318, 8448.97 ], dtype=float32)>"
      ]
     },
     "execution_count": 71,
     "metadata": {},
     "output_type": "execute_result"
    }
   ],
   "source": [
    "ensemble_mean = tf.reduce_mean(ensemble_preds, axis=0)\n",
    "ensemble_mean[:10]"
   ]
  },
  {
   "cell_type": "code",
   "execution_count": 72,
   "metadata": {},
   "outputs": [
    {
     "data": {
      "text/plain": [
       "{'mae': 596.176,\n",
       " 'mse': 1217345.6,\n",
       " 'rmse': 1103.3339,\n",
       " 'mape': 2.7096913,\n",
       " 'mase': 1.0473162}"
      ]
     },
     "execution_count": 72,
     "metadata": {},
     "output_type": "execute_result"
    }
   ],
   "source": [
    "# Evaluate ensemble model predictions\n",
    "ensemble_results = evaluate_preds_general(y_true=y_test,\n",
    "                                  y_pred=ensemble_mean)\n",
    "ensemble_results"
   ]
  },
  {
   "cell_type": "markdown",
   "metadata": {},
   "source": [
    "## Comparando modelos"
   ]
  },
  {
   "cell_type": "code",
   "execution_count": 113,
   "metadata": {},
   "outputs": [
    {
     "data": {
      "image/png": "[encoded data removed]",
      "text/plain": [
       "<Figure size 720x504 with 1 Axes>"
      ]
     },
     "metadata": {
      "needs_background": "light"
     },
     "output_type": "display_data"
    }
   ],
   "source": [
    "pd.DataFrame({#\"naive\": naive_results[\"mae\"],\n",
    "              \"horizon_1_window_7\": model_1_results[\"mae\"],\n",
    "              \"horizon_1_window_30\": model_2_results[\"mae\"],\n",
    "              #\"model 4\": model_4_results[\"mae\"], \n",
    "    \"model 4\": model_4_results[\"mae\"],\n",
    "    \"ensemble\": ensemble_results[\"mae\"]},\n",
    "    index=[\"mae\"]).plot(figsize=(10, 7), kind=\"bar\");"
   ]
  },
  {
   "cell_type": "markdown",
   "metadata": {},
   "source": [
    "## Larger horizonts"
   ]
  },
  {
   "cell_type": "markdown",
   "metadata": {},
   "source": [
    "Ahora buscaremos predecir una mayor cantidad de dias en el futuro"
   ]
  },
  {
   "cell_type": "code",
   "execution_count": 78,
   "metadata": {},
   "outputs": [],
   "source": [
    "HORIZON = 7\n",
    "WINDOW_SIZE = 30"
   ]
  },
  {
   "cell_type": "code",
   "execution_count": 80,
   "metadata": {},
   "outputs": [
    {
     "data": {
      "text/plain": [
       "(2751, 2751)"
      ]
     },
     "execution_count": 80,
     "metadata": {},
     "output_type": "execute_result"
    }
   ],
   "source": [
    "full_windows, full_labels = make_windows_general(prices, window_size=WINDOW_SIZE, horizon=HORIZON) #prices = bitcoin_prices[\"Price\"].to_numpy()\n",
    "len(full_windows), len(full_labels)"
   ]
  },
  {
   "cell_type": "code",
   "execution_count": 81,
   "metadata": {},
   "outputs": [
    {
     "name": "stdout",
     "output_type": "stream",
     "text": [
      "Window: [123.65499 125.455   108.58483 118.67466 121.33866 120.65533 121.795\n",
      " 123.033   124.049   125.96116 125.27966 125.9275  126.38333 135.24199\n",
      " 133.20333 142.76333 137.92333 142.95166 152.55183 160.33883 164.31499\n",
      " 177.63333 188.29716 200.70166 180.355   175.03166 177.6965  187.15983\n",
      " 192.75666 197.4    ] -> Label: [196.02499 198.04883 198.93233 200.543   210.3075  225.02    248.25333]\n",
      "Window: [125.455   108.58483 118.67466 121.33866 120.65533 121.795   123.033\n",
      " 124.049   125.96116 125.27966 125.9275  126.38333 135.24199 133.20333\n",
      " 142.76333 137.92333 142.95166 152.55183 160.33883 164.31499 177.63333\n",
      " 188.29716 200.70166 180.355   175.03166 177.6965  187.15983 192.75666\n",
      " 197.4     196.02499] -> Label: [198.04883 198.93233 200.543   210.3075  225.02    248.25333 262.32666]\n",
      "Window: [108.58483 118.67466 121.33866 120.65533 121.795   123.033   124.049\n",
      " 125.96116 125.27966 125.9275  126.38333 135.24199 133.20333 142.76333\n",
      " 137.92333 142.95166 152.55183 160.33883 164.31499 177.63333 188.29716\n",
      " 200.70166 180.355   175.03166 177.6965  187.15983 192.75666 197.4\n",
      " 196.02499 198.04883] -> Label: [198.93233 200.543   210.3075  225.02    248.25333 262.32666 294.48699]\n"
     ]
    }
   ],
   "source": [
    "# View the first 3 windows/labels\n",
    "for i in range(3):\n",
    "  print(f\"Window: {full_windows[i]} -> Label: {full_labels[i]}\")"
   ]
  },
  {
   "cell_type": "code",
   "execution_count": 82,
   "metadata": {},
   "outputs": [
    {
     "data": {
      "text/plain": [
       "(2200, 551, 2200, 551)"
      ]
     },
     "execution_count": 82,
     "metadata": {},
     "output_type": "execute_result"
    }
   ],
   "source": [
    "# Create train and test windows \n",
    "train_windows, test_windows, train_labels, test_labels = make_train_test_splits(full_windows, full_labels)\n",
    "len(train_windows), len(test_windows), len(train_labels), len(test_labels)"
   ]
  },
  {
   "cell_type": "code",
   "execution_count": 83,
   "metadata": {},
   "outputs": [
    {
     "data": {
      "text/plain": [
       "<keras.callbacks.History at 0x1f7893a9ac0>"
      ]
     },
     "execution_count": 83,
     "metadata": {},
     "output_type": "execute_result"
    }
   ],
   "source": [
    "# Create model (same as model_1 except with different data input and output sizes)\n",
    "model = tf.keras.Sequential([\n",
    "  layers.Dense(128, activation=\"relu\"),\n",
    "  layers.Dense(HORIZON)\n",
    "], name=\"model\")\n",
    "\n",
    "# Compile\n",
    "model.compile(loss=\"MAE\",\n",
    "                optimizer=tf.keras.optimizers.Adam())\n",
    "\n",
    "# Fit\n",
    "model.fit(train_windows,\n",
    "            train_labels,\n",
    "            batch_size=128,\n",
    "            epochs=100,\n",
    "            verbose=0,\n",
    "            validation_data=(test_windows, test_labels))\n",
    "            #callbacks=[create_model_checkpoint(model_name=model_3.name)])"
   ]
  },
  {
   "cell_type": "code",
   "execution_count": 84,
   "metadata": {},
   "outputs": [
    {
     "name": "stdout",
     "output_type": "stream",
     "text": [
      "18/18 [==============================] - 0s 3ms/step - loss: 1262.0603\n"
     ]
    },
    {
     "data": {
      "text/plain": [
       "1262.060302734375"
      ]
     },
     "execution_count": 84,
     "metadata": {},
     "output_type": "execute_result"
    }
   ],
   "source": [
    "# Evaluate the model on the test data\n",
    "model.evaluate(test_windows, test_labels)"
   ]
  },
  {
   "cell_type": "code",
   "execution_count": 85,
   "metadata": {},
   "outputs": [
    {
     "name": "stdout",
     "output_type": "stream",
     "text": [
      "18/18 [==============================] - 0s 3ms/step\n"
     ]
    },
    {
     "data": {
      "text/plain": [
       "<tf.Tensor: shape=(5, 7), dtype=float32, numpy=\n",
       "array([[9458.127 , 9450.753 , 9435.118 , 9429.823 , 9591.992 , 9385.419 ,\n",
       "        9644.058 ],\n",
       "       [9127.963 , 9264.853 , 8878.32  , 9229.912 , 9324.211 , 9012.077 ,\n",
       "        9392.825 ],\n",
       "       [8980.3125, 9097.095 , 8943.549 , 9062.408 , 8989.967 , 8911.9375,\n",
       "        9169.753 ],\n",
       "       [9222.856 , 9226.099 , 9422.615 , 9282.87  , 9047.25  , 9276.195 ,\n",
       "        9226.299 ],\n",
       "       [9246.718 , 9235.759 , 9325.315 , 9077.8955, 9052.502 , 9280.218 ,\n",
       "        9028.971 ]], dtype=float32)>"
      ]
     },
     "execution_count": 85,
     "metadata": {},
     "output_type": "execute_result"
    }
   ],
   "source": [
    "# Make predictions with model_3\n",
    "model_preds = make_preds(model,\n",
    "                           input_data=test_windows)\n",
    "model_preds[:5]"
   ]
  },
  {
   "cell_type": "code",
   "execution_count": 86,
   "metadata": {},
   "outputs": [
    {
     "data": {
      "text/plain": [
       "{'mae': array([  691.8265  ,   424.4816  ,   346.6801  ,   616.86035 ,\n",
       "          623.84906 ,   586.80725 ,   551.9467  ,   447.45557 ,\n",
       "          521.0913  ,   608.561   ,   833.3068  ,   883.0492  ,\n",
       "          951.34045 ,   918.3192  ,   692.5011  ,   300.22818 ,\n",
       "          235.94426 ,   291.40793 ,   254.94678 ,   178.3238  ,\n",
       "          143.59842 ,   201.55266 ,   439.0452  ,   395.16742 ,\n",
       "          301.1326  ,   221.73744 ,   124.902695,    96.71275 ,\n",
       "           71.24379 ,   201.40074 ,   300.99023 ,   421.9156  ,\n",
       "          437.17773 ,   407.85553 ,   332.98373 ,   350.6186  ,\n",
       "          332.13763 ,   283.58643 ,   219.63045 ,   215.74832 ,\n",
       "          450.5157  ,   136.62068 ,    99.70375 ,   120.77302 ,\n",
       "          198.44656 ,   161.76123 ,   156.38086 ,   138.77547 ,\n",
       "           90.53767 ,   112.28467 ,   114.09389 ,   182.95312 ,\n",
       "          247.52873 ,   266.63657 ,   285.9059  ,   343.8079  ,\n",
       "          481.2661  ,   456.49365 ,   445.24496 ,   538.9281  ,\n",
       "          336.40512 ,   203.15486 ,   304.24283 ,   307.08893 ,\n",
       "          421.69113 ,   465.06842 ,   419.13812 ,   426.61258 ,\n",
       "           86.357285,   213.22949 ,   317.03012 ,   534.249   ,\n",
       "          624.8708  ,   539.99133 ,   456.268   ,   390.31418 ,\n",
       "          401.76312 ,   439.33176 ,   512.9222  ,   658.2892  ,\n",
       "          698.3597  ,   467.9432  ,   211.53934 ,   114.935265,\n",
       "          317.91406 ,   301.70117 ,   245.36412 ,   298.1257  ,\n",
       "          364.48746 ,   543.5162  ,   404.56055 ,   303.55887 ,\n",
       "          304.46902 ,   177.78752 ,   230.16336 ,   270.53195 ,\n",
       "          372.3771  ,   643.7501  ,   695.1006  ,   888.7747  ,\n",
       "          580.60156 ,   383.33203 ,   211.17117 ,   450.40543 ,\n",
       "          397.32617 ,   471.8086  ,   619.8672  ,   728.0165  ,\n",
       "         1141.7959  ,  1054.9855  ,   908.2641  ,   426.0703  ,\n",
       "          233.3411  ,   254.74568 ,   254.7094  ,   311.51334 ,\n",
       "          345.83237 ,   454.6414  ,   569.0917  ,  1134.4281  ,\n",
       "         1753.7291  ,  2245.5706  ,  2169.3835  ,  2179.694   ,\n",
       "         2322.5903  ,  2655.6558  ,  1329.1827  ,   725.8068  ,\n",
       "          487.84683 ,   461.2989  ,   465.4897  ,   559.8642  ,\n",
       "          425.85715 ,   288.0212  ,   257.7313  ,   307.98465 ,\n",
       "          277.49295 ,   190.45207 ,   357.76318 ,   361.1729  ,\n",
       "          498.6187  ,   390.4725  ,   350.7308  ,   626.19617 ,\n",
       "          437.6276  ,   402.78424 ,   223.04457 ,   202.71805 ,\n",
       "          200.80685 ,   258.2087  ,   211.96666 ,   235.92522 ,\n",
       "          300.22928 ,   492.0053  ,   671.1734  ,   308.5856  ,\n",
       "          240.05727 ,   232.08084 ,   224.03586 ,   179.67752 ,\n",
       "          161.28627 ,   236.09877 ,   242.1167  ,   298.1815  ,\n",
       "          260.73834 ,   379.72336 ,   442.84995 ,   701.95135 ,\n",
       "          529.1515  ,   646.1998  ,   754.5591  ,   832.56494 ,\n",
       "          898.766   ,   879.6495  ,   408.48367 ,   288.91547 ,\n",
       "          379.15738 ,   408.82938 ,   349.8432  ,   473.76743 ,\n",
       "          469.49106 ,   454.96246 ,   611.78125 ,  1094.1777  ,\n",
       "         1035.152   ,   402.45383 ,   396.09848 ,   628.00586 ,\n",
       "          348.82828 ,   261.80875 ,   238.26088 ,   354.613   ,\n",
       "          474.39398 ,   689.2474  ,   751.5589  ,   644.84863 ,\n",
       "          402.20816 ,   367.898   ,   436.3704  ,   371.86816 ,\n",
       "          557.964   ,   708.02277 ,   717.8962  ,   290.08328 ,\n",
       "          154.43596 ,   298.13672 ,   211.73828 ,   483.62152 ,\n",
       "          222.46707 ,   138.91643 ,   264.89926 ,   202.78139 ,\n",
       "          273.00543 ,   265.62875 ,   470.88852 ,   466.30316 ,\n",
       "          694.71515 ,   283.17578 ,   268.82828 ,   333.15582 ,\n",
       "          171.38728 ,   213.84082 ,   236.86217 ,   273.84012 ,\n",
       "          236.6049  ,   155.0717  ,   148.76549 ,   154.41336 ,\n",
       "          416.71973 ,   609.8419  ,   428.0339  ,   380.619   ,\n",
       "          212.99748 ,    74.74163 ,    65.692665,   122.53404 ,\n",
       "          207.32088 ,   229.96596 ,   194.19685 ,   137.54227 ,\n",
       "          118.830215,    98.769394,   118.97321 ,   134.71721 ,\n",
       "          312.3704  ,   299.4435  ,   197.60422 ,   149.70131 ,\n",
       "          172.08733 ,   207.70619 ,   209.44713 ,   251.059   ,\n",
       "          225.8549  ,   230.51353 ,   230.67996 ,   295.7546  ,\n",
       "          522.3952  ,   615.5181  ,   766.91766 ,   868.233   ,\n",
       "         1052.6248  ,  1211.7825  ,  1243.3475  ,   417.96176 ,\n",
       "          155.80943 ,   214.94197 ,   285.96735 ,   228.86803 ,\n",
       "          533.24414 ,   155.11244 ,   130.00377 ,   178.04855 ,\n",
       "          216.49763 ,   441.5886  ,   390.4146  ,   450.78668 ,\n",
       "          280.84488 ,   443.7525  ,   203.07854 ,   214.31584 ,\n",
       "          212.46889 ,   207.03348 ,   289.48074 ,   227.13184 ,\n",
       "          645.98645 ,   724.8482  ,   479.77094 ,   579.6581  ,\n",
       "          340.0823  ,   446.06403 ,   383.899   ,   314.42773 ,\n",
       "          249.42033 ,   248.89914 ,   244.09654 ,   367.71402 ,\n",
       "          545.1049  ,   866.922   ,  1125.1677  ,  1634.6119  ,\n",
       "         1511.8856  ,  1003.5343  ,   557.5537  ,   183.2433  ,\n",
       "          216.08273 ,   282.41476 ,   271.2818  ,   311.42523 ,\n",
       "          336.1981  ,   307.03793 ,   272.46695 ,   278.82645 ,\n",
       "          173.83873 ,   194.37695 ,   525.8863  ,   480.8379  ,\n",
       "          448.62375 ,   481.66156 ,   380.30316 ,   249.93764 ,\n",
       "          171.49805 ,   107.94378 ,   105.75377 ,   166.17732 ,\n",
       "          316.36734 ,   269.7143  ,   398.1363  ,   395.31754 ,\n",
       "          316.3743  ,   305.85895 ,   210.63881 ,   301.84195 ,\n",
       "          384.84164 ,   488.58188 ,   498.8178  ,   556.5699  ,\n",
       "          473.73215 ,   276.0695  ,   139.73633 ,   210.14217 ,\n",
       "          367.52832 ,   322.17258 ,   437.03403 ,   638.6649  ,\n",
       "          781.13684 ,   956.36676 ,  1096.8767  ,   993.85645 ,\n",
       "         1033.2764  ,   236.86467 ,   294.48492 ,   280.6479  ,\n",
       "          276.84808 ,   221.37682 ,   218.44838 ,   290.65598 ,\n",
       "          193.03934 ,   419.1352  ,   619.34125 ,   689.00226 ,\n",
       "          781.5049  ,   933.97754 ,   944.6133  ,   998.03973 ,\n",
       "          330.67648 ,   524.50543 ,   391.4273  ,   353.42145 ,\n",
       "          459.54965 ,   636.9605  ,   780.81976 ,   877.0544  ,\n",
       "         1040.6042  ,  1219.3087  ,  1357.6495  ,  1431.3242  ,\n",
       "          760.93555 ,   501.34375 ,   425.84793 ,   879.0257  ,\n",
       "         1191.2782  ,  1385.2034  ,  1081.028   ,  1124.4241  ,\n",
       "         1098.2062  ,   848.31476 ,   990.161   ,  1135.4138  ,\n",
       "          925.6236  ,   200.78432 ,   300.20453 ,   745.0706  ,\n",
       "         1262.9651  ,  1005.45593 ,   931.88226 ,   670.9835  ,\n",
       "          730.3906  ,   612.7857  ,   868.91547 ,  1417.9846  ,\n",
       "         2166.7656  ,  2456.9165  ,  2911.1392  ,  2933.3123  ,\n",
       "         3055.473   ,  2070.0344  ,   623.73663 ,   426.37164 ,\n",
       "         1066.2205  ,  1171.4425  ,  1409.9099  ,  1662.7291  ,\n",
       "         2409.3237  ,  2782.138   ,  2822.9243  ,  2174.9343  ,\n",
       "         2356.481   ,  2522.9507  ,  2992.1306  ,  3046.496   ,\n",
       "         3766.0474  ,  4803.0884  ,  4304.733   ,  4309.2676  ,\n",
       "         4451.34    ,  3028.924   ,  2715.2678  ,  2447.6914  ,\n",
       "         4488.526   ,  5792.8423  ,  5327.2954  ,  1983.4163  ,\n",
       "          934.16016 ,  1038.4252  ,  2585.8381  ,  3014.504   ,\n",
       "         3267.0881  ,  3839.4631  ,  4140.8267  ,  5139.9497  ,\n",
       "         4215.102   ,   755.1624  ,  1539.3201  ,  1607.567   ,\n",
       "         1767.6875  ,  1790.661   ,  2663.2307  ,  3874.1047  ,\n",
       "         3235.588   ,  1973.3689  ,  2472.4995  ,  2856.9448  ,\n",
       "         4408.1396  ,  5171.031   ,  4262.7437  ,  5249.6865  ,\n",
       "         6501.792   ,  5953.272   ,  6914.7856  ,  3029.7065  ,\n",
       "         1711.2372  ,  1433.2997  ,  1683.8381  ,  2118.9934  ,\n",
       "         2394.77    ,  2780.0742  ,  3499.4097  ,  3550.0012  ,\n",
       "         2675.3616  ,  3282.8923  ,  5769.0156  ,  7533.3823  ,\n",
       "        10317.741   ,  9800.483   ,  5766.219   ,  3552.7886  ,\n",
       "         1880.7869  ,  1981.8298  ,  2619.0208  ,  3516.1194  ,\n",
       "         2222.029   ,  2111.6462  ,  2498.3577  ,  3625.6106  ,\n",
       "         3938.3616  ,  5321.6763  ,  6103.2944  ,  5116.241   ,\n",
       "         4795.3755  ,  2062.3354  ,  1891.0106  ,  1340.5848  ,\n",
       "         3101.3025  ,  3923.6294  ,  3037.678   ,  2516.812   ,\n",
       "         3180.934   ,  5086.3677  ,  4997.4565  ,  5563.568   ,\n",
       "         4861.659   ,  2544.6792  ,  2341.7004  ,  2392.2349  ,\n",
       "         3421.7935  ,  3007.365   ,  2635.7969  ,  1964.5536  ,\n",
       "         1145.7795  ,   587.3633  ,   839.97375 ,  1957.7902  ,\n",
       "         2037.2606  ,  1350.2986  ,  1534.7701  ,  1669.7405  ,\n",
       "         1804.0436  ,  2432.5737  ,  2947.866   ,  2751.5168  ,\n",
       "         1862.712   ,  1794.5586  ,  2343.067   ,  4099.34    ,\n",
       "         6076.2603  ,  8230.05    ,  8658.884   ,  8773.971   ,\n",
       "         6791.5713  ,  5163.722   ,  4971.9214  ,  3325.3828  ,\n",
       "         2409.1055  ,  3204.7522  ,  4243.41    ,  5322.6987  ,\n",
       "         3693.8254  ,  1973.0608  ,  1293.2489  ,  1367.6133  ,\n",
       "         1112.1903  ,  1868.5988  ,  1530.3136  ,  1949.721   ,\n",
       "         2247.1897  ,  1665.5452  ,  2436.1042  ,  3528.8308  ,\n",
       "         6165.2134  ,  8262.314   ,  9299.257   ], dtype=float32),\n",
       " 'mse': array([5.11037281e+05, 2.34676531e+05, 1.51547547e+05, 3.92465750e+05,\n",
       "        4.03142188e+05, 3.73170406e+05, 3.28976781e+05, 2.94138469e+05,\n",
       "        4.06840406e+05, 5.17305344e+05, 8.00173062e+05, 8.51798125e+05,\n",
       "        9.77086500e+05, 8.61319375e+05, 4.93841500e+05, 1.09653617e+05,\n",
       "        6.40522227e+04, 1.25548734e+05, 9.59333047e+04, 4.38695664e+04,\n",
       "        3.04565117e+04, 4.81795000e+04, 2.01002000e+05, 1.71334969e+05,\n",
       "        1.06569992e+05, 7.41124141e+04, 2.33003223e+04, 1.09881162e+04,\n",
       "        6.90272510e+03, 5.38540703e+04, 1.02614930e+05, 1.84030500e+05,\n",
       "        2.12287906e+05, 2.19554281e+05, 1.58996953e+05, 1.61671672e+05,\n",
       "        1.70631547e+05, 1.60979109e+05, 1.11307391e+05, 7.24167266e+04,\n",
       "        2.11187984e+05, 2.40665410e+04, 1.75225586e+04, 1.60685215e+04,\n",
       "        4.82340195e+04, 3.21063008e+04, 3.25952930e+04, 2.31308281e+04,\n",
       "        9.23773926e+03, 2.18731289e+04, 1.64886660e+04, 4.60142500e+04,\n",
       "        8.39603984e+04, 9.85400547e+04, 1.22850555e+05, 2.11295906e+05,\n",
       "        3.41682688e+05, 3.21920500e+05, 2.42259000e+05, 3.30620812e+05,\n",
       "        1.29141828e+05, 8.19383906e+04, 1.53137391e+05, 1.70918250e+05,\n",
       "        2.43980547e+05, 2.77095625e+05, 1.89858578e+05, 2.04681781e+05,\n",
       "        1.34882637e+04, 6.01580898e+04, 1.37258078e+05, 3.10723844e+05,\n",
       "        4.17725000e+05, 3.09817844e+05, 2.46917125e+05, 1.86500859e+05,\n",
       "        1.96034219e+05, 2.26594141e+05, 3.54575969e+05, 5.56606938e+05,\n",
       "        5.47439875e+05, 2.38717219e+05, 5.51276680e+04, 1.59952637e+04,\n",
       "        1.26807195e+05, 1.27058352e+05, 9.44696953e+04, 1.09498867e+05,\n",
       "        1.67504672e+05, 3.75884688e+05, 2.58887281e+05, 1.47378984e+05,\n",
       "        1.05284680e+05, 4.61726250e+04, 9.49976641e+04, 1.30328195e+05,\n",
       "        2.18253000e+05, 4.80111719e+05, 5.55027688e+05, 8.33957688e+05,\n",
       "        3.63407469e+05, 1.73989734e+05, 4.72141523e+04, 2.41582750e+05,\n",
       "        2.49810594e+05, 3.72369656e+05, 5.28238438e+05, 7.18256688e+05,\n",
       "        1.44367225e+06, 1.17233675e+06, 8.48689438e+05, 2.10500344e+05,\n",
       "        8.76716172e+04, 8.37418594e+04, 8.86731250e+04, 1.52599359e+05,\n",
       "        1.96042109e+05, 2.95697406e+05, 4.91376188e+05, 2.30281550e+06,\n",
       "        4.36237100e+06, 6.45238900e+06, 6.02532900e+06, 6.03930150e+06,\n",
       "        6.26677250e+06, 7.10806050e+06, 1.93134112e+06, 6.60833500e+05,\n",
       "        2.92372062e+05, 2.94606156e+05, 3.04564656e+05, 3.64383500e+05,\n",
       "        2.83033219e+05, 1.28825555e+05, 1.04782633e+05, 1.38505266e+05,\n",
       "        1.05721328e+05, 5.25437500e+04, 1.98415500e+05, 2.37931859e+05,\n",
       "        3.80047562e+05, 2.10838094e+05, 1.60272406e+05, 4.24636594e+05,\n",
       "        2.51021609e+05, 2.35989734e+05, 8.48551016e+04, 5.75531016e+04,\n",
       "        5.42197422e+04, 8.90783594e+04, 5.73376797e+04, 8.66468906e+04,\n",
       "        1.22062055e+05, 3.00952656e+05, 4.96775250e+05, 1.34105734e+05,\n",
       "        7.41363984e+04, 7.16239844e+04, 6.05766797e+04, 4.11803398e+04,\n",
       "        4.08842930e+04, 7.39583203e+04, 7.61595781e+04, 1.44189359e+05,\n",
       "        9.01194766e+04, 1.83935031e+05, 2.47034625e+05, 7.02649125e+05,\n",
       "        5.89669812e+05, 7.76991562e+05, 9.30283562e+05, 9.54578500e+05,\n",
       "        9.39386125e+05, 7.82745562e+05, 2.09956672e+05, 2.06238422e+05,\n",
       "        1.97490734e+05, 1.98910078e+05, 1.70065359e+05, 2.50232609e+05,\n",
       "        2.62521750e+05, 2.80197969e+05, 6.24621438e+05, 1.39075125e+06,\n",
       "        1.22375412e+06, 2.50529828e+05, 1.83720750e+05, 4.36852188e+05,\n",
       "        1.36264656e+05, 8.78386406e+04, 9.90556250e+04, 1.63294844e+05,\n",
       "        2.83580969e+05, 5.85817375e+05, 6.19851062e+05, 4.29983156e+05,\n",
       "        2.03374891e+05, 1.67864219e+05, 2.72733688e+05, 1.43669250e+05,\n",
       "        4.19180500e+05, 6.85137125e+05, 6.13111562e+05, 1.40609516e+05,\n",
       "        4.06529297e+04, 1.29745195e+05, 6.20869727e+04, 2.52123375e+05,\n",
       "        5.27461445e+04, 2.66421133e+04, 8.29173750e+04, 5.22158477e+04,\n",
       "        1.10618930e+05, 9.77082500e+04, 2.60322969e+05, 2.42770641e+05,\n",
       "        4.89073812e+05, 8.65201641e+04, 9.81646797e+04, 1.17414227e+05,\n",
       "        3.51988945e+04, 5.51323320e+04, 7.91639531e+04, 8.40676641e+04,\n",
       "        7.90972344e+04, 3.23346582e+04, 3.52924492e+04, 3.87961836e+04,\n",
       "        1.92118047e+05, 3.80582438e+05, 1.88436719e+05, 1.69247141e+05,\n",
       "        5.64824062e+04, 7.42538965e+03, 5.80862891e+03, 2.02909688e+04,\n",
       "        5.40185000e+04, 7.75625078e+04, 5.66370625e+04, 2.40920820e+04,\n",
       "        2.00447773e+04, 1.68732266e+04, 1.84069941e+04, 3.12661660e+04,\n",
       "        1.23634766e+05, 9.89738516e+04, 4.31126289e+04, 2.59523789e+04,\n",
       "        3.19546699e+04, 4.85422383e+04, 5.98468359e+04, 7.48727109e+04,\n",
       "        5.93845078e+04, 5.85409453e+04, 6.83721641e+04, 1.21756664e+05,\n",
       "        6.27738562e+05, 8.89442000e+05, 1.10044225e+06, 1.14925738e+06,\n",
       "        1.45541775e+06, 1.76848088e+06, 1.62974538e+06, 2.76021344e+05,\n",
       "        5.01863672e+04, 6.09059922e+04, 9.79069844e+04, 8.97437266e+04,\n",
       "        3.68377062e+05, 5.25718867e+04, 3.63971602e+04, 4.15962422e+04,\n",
       "        6.81988281e+04, 2.30197469e+05, 1.67428031e+05, 2.38111531e+05,\n",
       "        1.22379516e+05, 2.45009859e+05, 5.14869453e+04, 7.32790156e+04,\n",
       "        5.15727500e+04, 5.53482930e+04, 9.31884141e+04, 6.51427148e+04,\n",
       "        4.32996594e+05, 5.40888375e+05, 2.46492516e+05, 3.46644062e+05,\n",
       "        1.34231078e+05, 2.40794594e+05, 1.74633031e+05, 1.55203172e+05,\n",
       "        9.21825625e+04, 8.43608125e+04, 1.24647633e+05, 2.64723469e+05,\n",
       "        5.96019875e+05, 1.09827200e+06, 1.59225612e+06, 2.83847775e+06,\n",
       "        2.33720725e+06, 1.05493462e+06, 3.60396094e+05, 4.66243438e+04,\n",
       "        6.32587617e+04, 1.02767289e+05, 1.23875812e+05, 1.91989406e+05,\n",
       "        1.74218453e+05, 1.21320555e+05, 9.15117109e+04, 1.06427930e+05,\n",
       "        4.55790625e+04, 5.24399922e+04, 3.01146438e+05, 2.57273219e+05,\n",
       "        2.60932125e+05, 2.96143688e+05, 1.94481422e+05, 1.14939828e+05,\n",
       "        5.82139297e+04, 2.04356875e+04, 1.59095293e+04, 3.59172148e+04,\n",
       "        1.17152055e+05, 8.28734375e+04, 1.67050547e+05, 1.71835219e+05,\n",
       "        1.28608625e+05, 1.35289516e+05, 5.97019258e+04, 1.39681828e+05,\n",
       "        1.98707750e+05, 3.15033344e+05, 3.58357469e+05, 4.06252562e+05,\n",
       "        2.73326531e+05, 9.32452422e+04, 2.87263613e+04, 5.44583125e+04,\n",
       "        1.52281656e+05, 1.35785734e+05, 3.42879000e+05, 7.12098500e+05,\n",
       "        1.02355662e+06, 1.38399138e+06, 1.59044900e+06, 1.13905838e+06,\n",
       "        1.13452050e+06, 1.17436438e+05, 1.15069266e+05, 1.00754266e+05,\n",
       "        1.13041797e+05, 5.82275547e+04, 5.63767539e+04, 1.35643266e+05,\n",
       "        6.68982344e+04, 4.87656156e+05, 8.85175938e+05, 7.10114188e+05,\n",
       "        8.69922625e+05, 1.14438262e+06, 1.08688138e+06, 1.07486938e+06,\n",
       "        1.81570422e+05, 4.02293500e+05, 1.87446422e+05, 1.55920609e+05,\n",
       "        2.98649188e+05, 7.50124062e+05, 1.11177550e+06, 1.08155575e+06,\n",
       "        1.37206375e+06, 1.90384025e+06, 2.27581875e+06, 2.17649225e+06,\n",
       "        6.73591688e+05, 2.81540719e+05, 3.60725031e+05, 1.27783912e+06,\n",
       "        2.00345800e+06, 2.49282025e+06, 1.79228262e+06, 1.95710900e+06,\n",
       "        2.09630088e+06, 9.36126125e+05, 1.29676600e+06, 1.57549712e+06,\n",
       "        9.22501812e+05, 6.52063867e+04, 1.98094469e+05, 6.95285188e+05,\n",
       "        1.67933188e+06, 1.17455538e+06, 1.01544469e+06, 5.60144812e+05,\n",
       "        7.79655000e+05, 5.03634188e+05, 1.37081912e+06, 4.27700300e+06,\n",
       "        7.84906350e+06, 9.85153900e+06, 1.17397690e+07, 1.05449570e+07,\n",
       "        1.00113970e+07, 4.34559950e+06, 6.04395062e+05, 2.48378781e+05,\n",
       "        1.34211788e+06, 1.77495700e+06, 2.74703650e+06, 3.77263375e+06,\n",
       "        8.04948850e+06, 1.03122580e+07, 9.62746700e+06, 8.37348850e+06,\n",
       "        9.53360800e+06, 8.74840600e+06, 1.23227740e+07, 1.39407840e+07,\n",
       "        2.24316600e+07, 3.39807760e+07, 2.96955960e+07, 2.35923820e+07,\n",
       "        2.56842660e+07, 1.39576630e+07, 8.66388800e+06, 9.96585400e+06,\n",
       "        2.57191720e+07, 3.61567960e+07, 3.00455300e+07, 4.83168350e+06,\n",
       "        1.22121000e+06, 1.40917825e+06, 1.03930390e+07, 1.16386170e+07,\n",
       "        1.56613550e+07, 1.89790400e+07, 2.17913380e+07, 2.75483800e+07,\n",
       "        1.88503480e+07, 9.99962812e+05, 2.76033950e+06, 3.39853550e+06,\n",
       "        4.39618500e+06, 3.91685150e+06, 8.24835900e+06, 1.84811800e+07,\n",
       "        1.30279590e+07, 5.77724000e+06, 8.53895300e+06, 1.16593500e+07,\n",
       "        2.67518360e+07, 3.87869360e+07, 3.10321440e+07, 4.39227600e+07,\n",
       "        5.60611280e+07, 4.13872720e+07, 5.05245800e+07, 1.07098500e+07,\n",
       "        3.59088125e+06, 3.51642800e+06, 4.03418225e+06, 7.24339750e+06,\n",
       "        8.31705650e+06, 1.30807230e+07, 1.56382550e+07, 1.66051660e+07,\n",
       "        8.96303400e+06, 1.52394490e+07, 4.44730960e+07, 7.36051760e+07,\n",
       "        1.14856360e+08, 9.87557280e+07, 3.51323000e+07, 1.67332460e+07,\n",
       "        6.26501750e+06, 4.74305450e+06, 8.26438300e+06, 1.44950670e+07,\n",
       "        6.90474650e+06, 7.46474800e+06, 9.09223400e+06, 2.29121700e+07,\n",
       "        2.27138440e+07, 4.12159160e+07, 4.64758480e+07, 3.24146240e+07,\n",
       "        2.79258980e+07, 6.17418750e+06, 4.84424950e+06, 2.70480875e+06,\n",
       "        1.08584690e+07, 1.58974990e+07, 1.18759520e+07, 1.05832740e+07,\n",
       "        1.49179830e+07, 3.32350080e+07, 3.09550700e+07, 3.48754800e+07,\n",
       "        2.57564860e+07, 9.99434700e+06, 7.79418650e+06, 7.94983700e+06,\n",
       "        1.64164090e+07, 1.29637850e+07, 8.27226700e+06, 4.43334000e+06,\n",
       "        1.70398688e+06, 4.06449500e+05, 1.20664812e+06, 4.33571850e+06,\n",
       "        4.33899350e+06, 2.16431600e+06, 3.75643800e+06, 4.13870775e+06,\n",
       "        5.21211100e+06, 9.73297000e+06, 1.31647630e+07, 1.02874940e+07,\n",
       "        4.92878500e+06, 5.24543100e+06, 9.05666900e+06, 2.47889960e+07,\n",
       "        4.69776760e+07, 7.81602400e+07, 8.27557360e+07, 8.17273200e+07,\n",
       "        5.11466480e+07, 3.08435140e+07, 3.04082120e+07, 1.55662660e+07,\n",
       "        8.82519900e+06, 1.18941670e+07, 2.10441780e+07, 3.11043240e+07,\n",
       "        1.67811640e+07, 4.86405350e+06, 2.42210075e+06, 2.59121025e+06,\n",
       "        2.26426025e+06, 6.19469350e+06, 4.04438250e+06, 5.79528450e+06,\n",
       "        6.01308050e+06, 4.07779025e+06, 1.07244910e+07, 2.21553340e+07,\n",
       "        5.00279880e+07, 8.48170240e+07, 1.04562824e+08], dtype=float32),\n",
       " 'rmse': array([  714.8687  ,   484.43423 ,   389.29108 ,   626.4709  ,\n",
       "          634.9348  ,   610.8768  ,   573.565   ,   542.34534 ,\n",
       "          637.84045 ,   719.23944 ,   894.5239  ,   922.9291  ,\n",
       "          988.47687 ,   928.07294 ,   702.7386  ,   331.13986 ,\n",
       "          253.0854  ,   354.32858 ,   309.73102 ,   209.45062 ,\n",
       "          174.51794 ,   219.49829 ,   448.33246 ,   413.92627 ,\n",
       "          326.4506  ,   272.23596 ,   152.64442 ,   104.82422 ,\n",
       "           83.08264 ,   232.0648  ,   320.33566 ,   428.98776 ,\n",
       "          460.74713 ,   468.5662  ,   398.74423 ,   402.08417 ,\n",
       "          413.0757  ,   401.22202 ,   333.62762 ,   269.10355 ,\n",
       "          459.55194 ,   155.13394 ,   132.3728  ,   126.76167 ,\n",
       "          219.62245 ,   179.18231 ,   180.54167 ,   152.08823 ,\n",
       "           96.11316 ,   147.89568 ,   128.4082  ,   214.50932 ,\n",
       "          289.75922 ,   313.9109  ,   350.50043 ,   459.66934 ,\n",
       "          584.5363  ,   567.3804  ,   492.19812 ,   574.99634 ,\n",
       "          359.3631  ,   286.24884 ,   391.32773 ,   413.4226  ,\n",
       "          493.94388 ,   526.39874 ,   435.72763 ,   452.4177  ,\n",
       "          116.138985,   245.27147 ,   370.48358 ,   557.4261  ,\n",
       "          646.31647 ,   556.61285 ,   496.90756 ,   431.85745 ,\n",
       "          442.7575  ,   476.01904 ,   595.4628  ,   746.061   ,\n",
       "          739.8918  ,   488.58698 ,   234.79282 ,   126.47238 ,\n",
       "          356.09998 ,   356.45245 ,   307.35922 ,   330.90613 ,\n",
       "          409.27335 ,   613.09436 ,   508.80966 ,   383.89972 ,\n",
       "          324.476   ,   214.87816 ,   308.21692 ,   361.00998 ,\n",
       "          467.17557 ,   692.90094 ,   745.00183 ,   913.2128  ,\n",
       "          602.8329  ,   417.12076 ,   217.28818 ,   491.51068 ,\n",
       "          499.81055 ,   610.221   ,   726.8001  ,   847.50024 ,\n",
       "         1201.5292  ,  1082.745   ,   921.2434  ,   458.80316 ,\n",
       "          296.09393 ,   289.38187 ,   297.78033 ,   390.63968 ,\n",
       "          442.76642 ,   543.78064 ,   700.9823  ,  1517.503   ,\n",
       "         2088.629   ,  2540.1553  ,  2454.6545  ,  2457.499   ,\n",
       "         2503.3523  ,  2666.0947  ,  1389.727   ,   812.9167  ,\n",
       "          540.7144  ,   542.77637 ,   551.8738  ,   603.64185 ,\n",
       "          532.00867 ,   358.92276 ,   323.70145 ,   372.16296 ,\n",
       "          325.14816 ,   229.22423 ,   445.43854 ,   487.7826  ,\n",
       "          616.48    ,   459.17108 ,   400.34036 ,   651.6415  ,\n",
       "          501.02057 ,   485.78775 ,   291.29898 ,   239.90227 ,\n",
       "          232.85133 ,   298.46    ,   239.45288 ,   294.35843 ,\n",
       "          349.3738  ,   548.5915  ,   704.8229  ,   366.2045  ,\n",
       "          272.28    ,   267.6266  ,   246.1233  ,   202.9294  ,\n",
       "          202.19865 ,   271.9528  ,   275.97025 ,   379.72275 ,\n",
       "          300.19907 ,   428.87646 ,   497.0258  ,   838.2417  ,\n",
       "          767.8996  ,   881.47125 ,   964.5121  ,   977.0253  ,\n",
       "          969.21936 ,   884.72906 ,   458.2103  ,   454.1348  ,\n",
       "          444.3993  ,   445.99335 ,   412.3898  ,   500.23254 ,\n",
       "          512.3688  ,   529.3373  ,   790.32996 ,  1179.3011  ,\n",
       "         1106.2343  ,   500.52954 ,   428.6266  ,   660.94794 ,\n",
       "          369.14044 ,   296.37585 ,   314.73105 ,   404.09756 ,\n",
       "          532.5232  ,   765.3871  ,   787.3062  ,   655.731   ,\n",
       "          450.97104 ,   409.71237 ,   522.23914 ,   379.03726 ,\n",
       "          647.4415  ,   827.7301  ,   783.0144  ,   374.97934 ,\n",
       "          201.62572 ,   360.2016  ,   249.17258 ,   502.1189  ,\n",
       "          229.66528 ,   163.22412 ,   287.95377 ,   228.50787 ,\n",
       "          332.59424 ,   312.5832  ,   510.21854 ,   492.71762 ,\n",
       "          699.33813 ,   294.1431  ,   313.31244 ,   342.6576  ,\n",
       "          187.61368 ,   234.80275 ,   281.3609  ,   289.94424 ,\n",
       "          281.2423  ,   179.8184  ,   187.86285 ,   196.96747 ,\n",
       "          438.3127  ,   616.91364 ,   434.093   ,   411.39658 ,\n",
       "          237.66028 ,    86.1707  ,    76.21436 ,   142.44637 ,\n",
       "          232.41881 ,   278.50046 ,   237.98543 ,   155.21625 ,\n",
       "          141.57957 ,   129.89699 ,   135.67238 ,   176.82242 ,\n",
       "          351.61737 ,   314.6011  ,   207.6358  ,   161.09743 ,\n",
       "          178.7587  ,   220.32303 ,   244.63612 ,   273.62878 ,\n",
       "          243.68936 ,   241.95236 ,   261.4807  ,   348.93646 ,\n",
       "          792.29956 ,   943.10236 ,  1049.0197  ,  1072.0342  ,\n",
       "         1206.407   ,  1329.8424  ,  1276.6149  ,   525.3773  ,\n",
       "          224.02313 ,   246.7914  ,   312.9009  ,   299.57257 ,\n",
       "          606.94073 ,   229.2856  ,   190.7804  ,   203.95157 ,\n",
       "          261.14905 ,   479.78897 ,   409.17972 ,   487.96674 ,\n",
       "          349.82785 ,   494.9847  ,   226.90735 ,   270.70096 ,\n",
       "          227.09634 ,   235.26218 ,   305.26776 ,   255.23071 ,\n",
       "          658.0248  ,   735.4511  ,   496.48013 ,   588.76483 ,\n",
       "          366.3756  ,   490.70825 ,   417.89117 ,   393.95834 ,\n",
       "          303.6158  ,   290.44934 ,   353.05472 ,   514.5128  ,\n",
       "          772.02325 ,  1047.9847  ,  1261.8463  ,  1684.7782  ,\n",
       "         1528.7927  ,  1027.1001  ,   600.33    ,   215.92671 ,\n",
       "          251.51294 ,   320.57336 ,   351.95996 ,   438.16595 ,\n",
       "          417.39484 ,   348.311   ,   302.50903 ,   326.23294 ,\n",
       "          213.49254 ,   228.9978  ,   548.7681  ,   507.22107 ,\n",
       "          510.81516 ,   544.19086 ,   441.0005  ,   339.02777 ,\n",
       "          241.27563 ,   142.95345 ,   126.13298 ,   189.51837 ,\n",
       "          342.2748  ,   287.87747 ,   408.71817 ,   414.53012 ,\n",
       "          358.62045 ,   367.81723 ,   244.33978 ,   373.74033 ,\n",
       "          445.76648 ,   561.2783  ,   598.62964 ,   637.37946 ,\n",
       "          522.8064  ,   305.36084 ,   169.48853 ,   233.36305 ,\n",
       "          390.23282 ,   368.49115 ,   585.5587  ,   843.8593  ,\n",
       "         1011.7098  ,  1176.4316  ,  1261.13    ,  1067.2667  ,\n",
       "         1065.1387  ,   342.69    ,   339.2186  ,   317.41812 ,\n",
       "          336.2169  ,   241.30386 ,   237.4379  ,   368.2978  ,\n",
       "          258.64694 ,   698.3238  ,   940.8379  ,   842.68274 ,\n",
       "          932.6964  ,  1069.7582  ,  1042.536   ,  1036.759   ,\n",
       "          426.1108  ,   634.2661  ,   432.95084 ,   394.86783 ,\n",
       "          546.48804 ,   866.09705 ,  1054.4076  ,  1039.9788  ,\n",
       "         1171.3512  ,  1379.7971  ,  1508.5817  ,  1475.294   ,\n",
       "          820.7263  ,   530.6041  ,   600.6039  ,  1130.4154  ,\n",
       "         1415.4357  ,  1578.8668  ,  1338.7616  ,  1398.9672  ,\n",
       "         1447.8608  ,   967.53613 ,  1138.7563  ,  1255.1881  ,\n",
       "          960.4696  ,   255.35541 ,   445.07803 ,   833.83765 ,\n",
       "         1295.8904  ,  1083.769   ,  1007.69275 ,   748.4282  ,\n",
       "          882.9808  ,   709.6719  ,  1170.8198  ,  2068.0916  ,\n",
       "         2801.618   ,  3138.716   ,  3426.3347  ,  3247.3     ,\n",
       "         3164.079   ,  2084.61    ,   777.42847 ,   498.37613 ,\n",
       "         1158.4982  ,  1332.2751  ,  1657.4186  ,  1942.3269  ,\n",
       "         2837.162   ,  3211.2705  ,  3102.816   ,  2893.698   ,\n",
       "         3087.654   ,  2957.7705  ,  3510.3809  ,  3733.7358  ,\n",
       "         4736.2075  ,  5829.303   ,  5449.3667  ,  4857.199   ,\n",
       "         5067.965   ,  3735.9956  ,  2943.4482  ,  3156.874   ,\n",
       "         5071.407   ,  6013.0522  ,  5481.3804  ,  2198.1091  ,\n",
       "         1105.0837  ,  1187.0881  ,  3223.8237  ,  3411.5417  ,\n",
       "         3957.4429  ,  4356.494   ,  4668.119   ,  5248.6553  ,\n",
       "         4341.6987  ,   999.9814  ,  1661.427   ,  1843.5117  ,\n",
       "         2096.7083  ,  1979.1038  ,  2871.9956  ,  4298.974   ,\n",
       "         3609.4265  ,  2403.5889  ,  2922.1487  ,  3414.579   ,\n",
       "         5172.218   ,  6227.916   ,  5570.6504  ,  6627.425   ,\n",
       "         7487.398   ,  6433.294   ,  7108.0645  ,  3272.5908  ,\n",
       "         1894.962   ,  1875.2141  ,  2008.5273  ,  2691.356   ,\n",
       "         2883.9307  ,  3616.7283  ,  3954.5234  ,  4074.9436  ,\n",
       "         2993.8328  ,  3903.7737  ,  6668.8154  ,  8579.346   ,\n",
       "        10717.105   ,  9937.592   ,  5927.2505  ,  4090.6292  ,\n",
       "         2503.0017  ,  2177.8555  ,  2874.784   ,  3807.2388  ,\n",
       "         2627.6885  ,  2732.1692  ,  3015.3333  ,  4786.666   ,\n",
       "         4765.9043  ,  6419.9624  ,  6817.32    ,  5693.3843  ,\n",
       "         5284.496   ,  2484.7913  ,  2200.9656  ,  1644.6302  ,\n",
       "         3295.219   ,  3987.1667  ,  3446.1504  ,  3253.1943  ,\n",
       "         3862.3804  ,  5764.981   ,  5563.728   ,  5905.5464  ,\n",
       "         5075.085   ,  3161.3838  ,  2791.8071  ,  2819.5454  ,\n",
       "         4051.7168  ,  3600.5256  ,  2876.1548  ,  2105.5498  ,\n",
       "         1305.3685  ,   637.53394 ,  1098.4753  ,  2082.2388  ,\n",
       "         2083.0251  ,  1471.1615  ,  1938.1532  ,  2034.3815  ,\n",
       "         2283.005   ,  3119.7708  ,  3628.328   ,  3207.4124  ,\n",
       "         2220.0867  ,  2290.2905  ,  3009.43    ,  4978.855   ,\n",
       "         6854.0264  ,  8840.828   ,  9097.018   ,  9040.316   ,\n",
       "         7151.6885  ,  5553.694   ,  5514.3643  ,  3945.4106  ,\n",
       "         2970.7236  ,  3448.792   ,  4587.3936  ,  5577.125   ,\n",
       "         4096.482   ,  2205.46    ,  1556.3099  ,  1609.7236  ,\n",
       "         1504.7458  ,  2488.914   ,  2011.0651  ,  2407.3396  ,\n",
       "         2452.1584  ,  2019.3539  ,  3274.827   ,  4706.9453  ,\n",
       "         7073.0464  ,  9209.616   , 10225.597   ], dtype=float32),\n",
       " 'mape': array([ 7.895095  ,  4.8866014 ,  4.021939  ,  7.161484  ,  7.319037  ,\n",
       "         6.975334  ,  6.6387134 ,  5.5844064 ,  6.7412877 ,  8.032756  ,\n",
       "        11.156011  , 11.956521  , 13.046715  , 12.62233   ,  9.563166  ,\n",
       "         4.1466737 ,  3.2155042 ,  3.8671494 ,  3.3930843 ,  2.373684  ,\n",
       "         1.945536  ,  2.7304904 ,  5.954597  ,  5.3738737 ,  4.090039  ,\n",
       "         3.0262427 ,  1.6991148 ,  1.3076948 ,  0.9726109 ,  2.7637098 ,\n",
       "         4.166741  ,  5.8631487 ,  6.159101  ,  5.899752  ,  4.8242526 ,\n",
       "         5.0637317 ,  4.827878  ,  4.150772  ,  3.217203  ,  3.0756955 ,\n",
       "         6.2207537 ,  1.8955214 ,  1.3843693 ,  1.6725811 ,  2.7518077 ,\n",
       "         2.2396436 ,  2.1609018 ,  1.9207507 ,  1.2517374 ,  1.5708085 ,\n",
       "         1.5906688 ,  2.5539398 ,  3.4603145 ,  3.708173  ,  3.8027    ,\n",
       "         4.4258146 ,  6.1211834 ,  5.722282  ,  5.5774336 ,  6.701906  ,\n",
       "         4.16537   ,  2.434648  ,  3.6030464 ,  3.5422654 ,  4.842689  ,\n",
       "         5.2930675 ,  4.792877  ,  4.8427606 ,  0.97518796,  2.455939  ,\n",
       "         3.689244  ,  6.227784  ,  7.343621  ,  6.3517714 ,  5.374505  ,\n",
       "         4.583311  ,  4.664875  ,  4.8896766 ,  5.568308  ,  7.0521183 ,\n",
       "         7.4665294 ,  4.9933577 ,  2.252379  ,  1.2273022 ,  3.4035091 ,\n",
       "         3.2296193 ,  2.6084435 ,  3.0853271 ,  3.7136142 ,  5.4390883 ,\n",
       "         3.981877  ,  2.9696424 ,  2.98136   ,  1.7597805 ,  2.3151574 ,\n",
       "         2.7417147 ,  3.7650607 ,  6.5114803 ,  7.0934706 ,  9.104781  ,\n",
       "         5.973569  ,  3.9515119 ,  2.1618378 ,  4.687459  ,  4.2848682 ,\n",
       "         5.203735  ,  6.892122  ,  8.227175  , 12.964036  , 12.017814  ,\n",
       "        10.399164  ,  4.888685  ,  2.683511  ,  2.8821034 ,  2.8525739 ,\n",
       "         3.5293489 ,  4.1085978 ,  5.5156655 ,  7.0664206 , 16.430119  ,\n",
       "        26.780993  , 36.50262   , 37.324444  , 39.863754  , 43.040276  ,\n",
       "        49.335545  , 24.8125    , 13.6161995 ,  8.766816  ,  8.055383  ,\n",
       "         7.52329   ,  8.929098  ,  6.5182633 ,  4.504685  ,  4.1152854 ,\n",
       "         4.855547  ,  4.367836  ,  3.0120988 ,  5.6999273 ,  5.820294  ,\n",
       "         7.9736958 ,  6.1867    ,  5.3861866 ,  9.32853   ,  6.3408546 ,\n",
       "         5.733564  ,  3.1004622 ,  2.8791218 ,  2.840307  ,  3.6974163 ,\n",
       "         2.9945138 ,  3.3840728 ,  4.3135414 ,  7.135247  ,  9.730177  ,\n",
       "         4.493783  ,  3.456413  ,  3.31989   ,  3.1991575 ,  2.5466394 ,\n",
       "         2.2467244 ,  3.2873142 ,  3.3896122 ,  4.2299066 ,  3.6587186 ,\n",
       "         5.021961  ,  5.787399  ,  8.750475  ,  6.2401347 ,  7.468981  ,\n",
       "         8.589307  ,  9.418616  , 10.148915  ,  9.904235  ,  4.5209937 ,\n",
       "         3.0298574 ,  3.9967477 ,  4.334103  ,  3.7339368 ,  5.10163   ,\n",
       "         5.0610137 ,  5.0205436 ,  6.906013  , 12.155379  , 11.505902  ,\n",
       "         4.4748383 ,  4.1624613 ,  6.5265217 ,  3.6149833 ,  2.7813976 ,\n",
       "         2.5593076 ,  3.8007796 ,  5.1359243 ,  7.551813  ,  8.298117  ,\n",
       "         7.1286225 ,  4.4535246 ,  4.0627565 ,  4.7989283 ,  4.0366683 ,\n",
       "         5.767969  ,  7.2698774 ,  7.364796  ,  2.9309404 ,  1.5697628 ,\n",
       "         3.0801508 ,  2.1563833 ,  4.992382  ,  2.2881134 ,  1.4275378 ,\n",
       "         2.7498457 ,  2.1177125 ,  2.8570113 ,  2.8123357 ,  4.9917774 ,\n",
       "         4.9498568 ,  7.381524  ,  3.0026202 ,  2.8670192 ,  3.5487082 ,\n",
       "         1.8280768 ,  2.2723973 ,  2.5208178 ,  2.9130905 ,  2.53588   ,\n",
       "         1.6473057 ,  1.6127715 ,  1.6746523 ,  4.531328  ,  6.6557393 ,\n",
       "         4.6776857 ,  4.17551   ,  2.34153   ,  0.8182665 ,  0.72026044,\n",
       "         1.3398794 ,  2.2654142 ,  2.5200782 ,  2.1191518 ,  1.4905835 ,\n",
       "         1.2867893 ,  1.0589542 ,  1.2816681 ,  1.4570626 ,  3.381618  ,\n",
       "         3.2449913 ,  2.1442854 ,  1.6241918 ,  1.8710507 ,  2.2619019 ,\n",
       "         2.284122  ,  2.7283018 ,  2.4195728 ,  2.4598284 ,  2.422471  ,\n",
       "         3.0565207 ,  5.0023437 ,  5.706162  ,  6.9912114 ,  7.8875184 ,\n",
       "         9.456789  , 10.709152  , 10.994905  ,  3.6525238 ,  1.3544899 ,\n",
       "         1.9104686 ,  2.516713  ,  2.0268815 ,  4.69388   ,  1.3660988 ,\n",
       "         1.1298063 ,  1.5218767 ,  1.8726515 ,  3.8084269 ,  3.3603435 ,\n",
       "         3.8807433 ,  2.4226098 ,  3.8059242 ,  1.7011788 ,  1.7738882 ,\n",
       "         1.7733704 ,  1.7341641 ,  2.4482632 ,  1.9248383 ,  5.5033674 ,\n",
       "         6.226783  ,  4.140565  ,  5.0309625 ,  2.9635174 ,  3.8950171 ,\n",
       "         3.352846  ,  2.756542  ,  2.1688802 ,  2.1449535 ,  2.1671681 ,\n",
       "         3.3532639 ,  5.199988  ,  8.289868  , 10.795214  , 15.777588  ,\n",
       "        14.708469  ,  9.811623  ,  5.4720955 ,  1.7808186 ,  2.1012285 ,\n",
       "         2.7243116 ,  2.5602422 ,  2.883519  ,  3.1063757 ,  2.8345494 ,\n",
       "         2.5061357 ,  2.5421982 ,  1.596457  ,  1.8077304 ,  4.936292  ,\n",
       "         4.531715  ,  4.2531433 ,  4.573644  ,  3.6190975 ,  2.3847978 ,\n",
       "         1.628064  ,  1.0006964 ,  0.9848277 ,  1.552986  ,  2.9683402 ,\n",
       "         2.5314565 ,  3.7370992 ,  3.720839  ,  2.9825678 ,  2.883565  ,\n",
       "         1.9538041 ,  2.7458315 ,  3.4696882 ,  4.3416576 ,  4.3820214 ,\n",
       "         4.8677855 ,  4.13165   ,  2.4046805 ,  1.2186346 ,  1.8406142 ,\n",
       "         3.2152283 ,  2.8172145 ,  3.5963762 ,  5.0958433 ,  6.104143  ,\n",
       "         7.3840685 ,  8.429447  ,  7.6213665 ,  7.829188  ,  1.7655584 ,\n",
       "         2.2365654 ,  2.1200855 ,  2.0895095 ,  1.6396595 ,  1.599     ,\n",
       "         2.153537  ,  1.3962525 ,  2.8413002 ,  4.095913  ,  4.6335964 ,\n",
       "         5.1733646 ,  6.117009  ,  6.1474857 ,  6.452718  ,  2.1135893 ,\n",
       "         3.4184363 ,  2.463193  ,  2.238151  ,  2.8207948 ,  3.7724013 ,\n",
       "         4.51923   ,  5.0695834 ,  5.947306  ,  6.7936854 ,  7.423234  ,\n",
       "         7.8095818 ,  4.0924215 ,  2.6881905 ,  2.3615127 ,  4.98943   ,\n",
       "         6.751378  ,  7.844774  ,  6.1537943 ,  6.4046054 ,  6.287099  ,\n",
       "         4.5762954 ,  5.1754866 ,  5.918598  ,  4.825189  ,  1.0572865 ,\n",
       "         1.5929165 ,  3.9579113 ,  6.737786  ,  5.414188  ,  5.022057  ,\n",
       "         3.620196  ,  3.9531152 ,  3.2884498 ,  4.402988  ,  6.6735687 ,\n",
       "         9.927643  , 10.830383  , 12.680237  , 12.683703  , 13.154644  ,\n",
       "         8.876551  ,  2.6445432 ,  1.7879483 ,  4.4190636 ,  4.71305   ,\n",
       "         5.5010796 ,  6.3805914 ,  8.893581  , 10.02475   , 10.016964  ,\n",
       "         7.244415  ,  7.558056  ,  8.086938  ,  9.261091  ,  9.0040045 ,\n",
       "        10.493983  , 12.840041  , 11.042072  , 11.159643  , 11.4085655 ,\n",
       "         7.669895  ,  7.0609646 ,  6.841626  , 12.48632   , 16.096352  ,\n",
       "        14.875546  ,  5.526959  ,  2.5151293 ,  2.818286  ,  7.6716766 ,\n",
       "         8.95714   ,  9.977031  , 11.804013  , 12.8577795 , 15.90586   ,\n",
       "        13.295147  ,  2.3549469 ,  4.762302  ,  4.838196  ,  5.4158545 ,\n",
       "         5.362775  ,  7.827699  , 11.0209055 ,  9.015142  ,  5.416701  ,\n",
       "         6.622716  ,  7.4883447 , 10.955158  , 12.192983  ,  9.604662  ,\n",
       "        11.485837  , 14.062998  , 12.836099  , 14.660914  ,  6.345489  ,\n",
       "         3.564543  ,  2.8815436 ,  3.3682108 ,  4.074622  ,  4.51145   ,\n",
       "         5.1021857 ,  6.399153  ,  6.4953194 ,  5.074654  ,  6.5189576 ,\n",
       "        11.870173  , 15.799578  , 21.827784  , 20.790092  , 12.25903   ,\n",
       "         7.621194  ,  4.0745316 ,  4.116351  ,  5.374114  ,  7.0901966 ,\n",
       "         4.413414  ,  4.0594783 ,  4.756976  ,  6.5439754 ,  7.046689  ,\n",
       "         9.214747  , 10.4625025 ,  8.748946  ,  8.185049  ,  3.4955852 ,\n",
       "         3.2042325 ,  2.295114  ,  5.377326  ,  6.811415  ,  5.359275  ,\n",
       "         4.5114975 ,  5.797955  ,  9.389211  ,  9.270575  , 10.302202  ,\n",
       "         9.017203  ,  4.7489953 ,  4.325383  ,  4.191028  ,  5.880711  ,\n",
       "         5.1302476 ,  4.5181313 ,  3.357721  ,  1.9614084 ,  1.0072374 ,\n",
       "         1.4608384 ,  3.3859928 ,  3.525377  ,  2.332199  ,  2.660653  ,\n",
       "         2.8886216 ,  3.0093749 ,  3.9447937 ,  4.7310586 ,  4.4067793 ,\n",
       "         2.9764848 ,  2.9876204 ,  4.0025654 ,  7.102929  , 10.6985035 ,\n",
       "        14.823778  , 15.9890785 , 16.510067  , 13.1487055 , 10.068459  ,\n",
       "         9.735096  ,  6.5531516 ,  4.730084  ,  5.9729595 ,  7.705878  ,\n",
       "         9.526166  ,  6.5215864 ,  3.5089293 ,  2.3328145 ,  2.4256778 ,\n",
       "         2.0038533 ,  3.367611  ,  2.740576  ,  3.4892175 ,  3.9212732 ,\n",
       "         3.0222034 ,  4.619681  ,  6.874586  , 12.157108  , 16.821796  ,\n",
       "        19.689348  ], dtype=float32),\n",
       " 'mase': 2.2457657}"
      ]
     },
     "execution_count": 86,
     "metadata": {},
     "output_type": "execute_result"
    }
   ],
   "source": [
    "# Evaluate model results (these are going multi-dimensional because we're trying to predict more than \n",
    "#one timestep at a time)\n",
    "model_results = evaluate_preds(y_true=tf.squeeze(test_labels),\n",
    "                                 y_pred=model_preds)\n",
    "model_results"
   ]
  },
  {
   "cell_type": "code",
   "execution_count": 90,
   "metadata": {},
   "outputs": [
    {
     "data": {
      "text/plain": [
       "{'mae': 1262.0604,\n",
       " 'mse': 5492547.5,\n",
       " 'rmse': 1442.8613,\n",
       " 'mape': 5.721401,\n",
       " 'mase': 2.2457657}"
      ]
     },
     "execution_count": 90,
     "metadata": {},
     "output_type": "execute_result"
    }
   ],
   "source": [
    "# Get model results aggregated to single values\n",
    "model_results = evaluate_preds_general(y_true=tf.squeeze(test_labels),\n",
    "                                 y_pred=model_preds)\n",
    "model_results"
   ]
  },
  {
   "cell_type": "markdown",
   "metadata": {},
   "source": [
    "## ANEXO"
   ]
  },
  {
   "cell_type": "markdown",
   "metadata": {},
   "source": [
    "EVALUANDO SERIES TEMPORALES\n",
    "\n",
    "Let's look into some evaluation metrics for time series forecasting. \n",
    "\n",
    "What are we doing?\n",
    "\n",
    "We're predicting a number, so that means we have a form of a regression problem.\n",
    "\n",
    "Because we're working on a regression problem, we'll need some regression-like metrics.\n",
    "\n",
    "A few common regression metrics (which can also be used for time series forecasting):\n",
    "* MAE - mean absolute error\n",
    "* MSE - mean squared error\n",
    "* RMSE - root mean square error\n",
    "* MAPE/sMAPE - (symmetric) mean absolute percentage error\n",
    "* MASE - mean absolute scaled error\n",
    "\n",
    "For all of the above metrics, **lower is better**, for example, an MAE of 0 that is better than an MAE of 100.\n",
    "\n",
    "The main thing we're evaluating here is: **how do our model's forecasts (y_pred) compare against the actual values (y_true or ground truth values)?**\n",
    "\n",
    "> 📖 **Resource:** For a deeper dive on the various kinds of time series forecasting methods see [Forecasting: Principles and Practice chapter 5.8](https://otexts.com/fpp3/accuracy.html) "
   ]
  },
  {
   "cell_type": "markdown",
   "metadata": {},
   "source": [
    "#### <font color='#9400D3'> Format Data Part 2: Windowing our dataset </font>\n",
    "\n",
    "\n",
    "--> Antes usamos train/dev/test, ahora usaremos ventanas\n",
    "\n",
    "Creamos ventanas para convertir nuestros datos en un problema de aprendizaje supervisado\n",
    "\n",
    "\n",
    "```\n",
    "Windowing for one week\n",
    "[0, 1, 2, 3, 4, 5, 6] -> [7]\n",
    "[1, 2, 3, 4, 5, 6, 7] -> [8]\n",
    "[2, 3, 4, 5, 6, 7, 8] -> [9]\n",
    "\n",
    "\n",
    "```\n",
    "\n",
    "Usaremos https://pandas.pydata.org/pandas-docs/stable/reference/api/pandas.DataFrame.shift.html para crear las venatas con Pandas."
   ]
  },
  {
   "cell_type": "code",
   "execution_count": null,
   "metadata": {},
   "outputs": [],
   "source": [
    "def create_windowed_dataset(dataset,window_size):\n",
    "    \"\"\"\n",
    "    dataset: a dataset with a key \"price\"\n",
    "    window size\n",
    "    \"\"\"\n",
    "    # Make a copy of the Bitcoin historical data with block reward feature\n",
    "    dataset_windowed = dataset.copy()\n",
    "    # Add windowed columns\n",
    "    for i in range(window_size): # shift values for each step in WINDOW_SIZE\n",
    "        dataset_windowed[f\"Price+{i+1}\"] = dataset_windowed[\"Price\"].shift(periods=i+1)\n",
    "        \n",
    "    \n",
    "    # podr[ia devolverlo como arreglo de numpy (con df.values o to_numpy())\n",
    "    \n",
    "    return dataset_windowed\n",
    "\n",
    "\n",
    "# drop nan values\n",
    "\n",
    "# Create X (windows) and y (horizons) features\n",
    "X = bitcoin_windowed_m4.dropna().drop(\"Price\", axis=1).astype(np.float32)\n",
    "y = bitcoin_windowed_m4.dropna()[\"Price\"].astype(np.float32)\n",
    "\n",
    "\n",
    "bitcoin_windowed_m4 = create_windowed_dataset(bitcoin_prices,WINDOW_SIZE)"
   ]
  },
  {
   "cell_type": "code",
   "execution_count": null,
   "metadata": {},
   "outputs": [],
   "source": [
    "# expand dims layer\n",
    "\n",
    "expand_dims_layer = layers.Lambda(lambda x: tf.expand_dims(x, axis=1)) # add an extra dimension for `input_dim`\n",
    "x = tf.constant(train_windows[0]) #.values[0]) # convierto df a numpy<   train_windows.values[0]\n",
    "\n",
    "# Test out our lambda layer\n",
    "print(f\"Original shape: {x.shape}\") # (WINDIW_SIZE)\n",
    "print(f\"Expanded shape: {expand_dims_layer(x).shape}\") # output = ...?\n",
    "print(f\"Original values with expanded shape:\\n {expand_dims_layer(x)}\")"
   ]
  },
  {
   "cell_type": "code",
   "execution_count": null,
   "metadata": {},
   "outputs": [],
   "source": []
  },
  {
   "cell_type": "code",
   "execution_count": null,
   "metadata": {},
   "outputs": [],
   "source": [
    "import pandas as pd\n",
    "import numpy as np\n",
    "\n",
    "\n",
    "df = bitcoin_prices\n",
    "\n",
    "\n",
    "def create_windowed_dataset(dataset, window_size, horizon):\n",
    "    \"\"\"\n",
    "    dataset: DataFrame con una columna \"Price\"\n",
    "    window_size: tamaño de la ventana\n",
    "    horizon: horizonte de predicción\n",
    "    \"\"\"\n",
    "    # Hacer una copia del DataFrame\n",
    "    dataset_windowed = dataset.copy()\n",
    "\n",
    "    # Añadir columnas para la ventana\n",
    "    for i in range(window_size):\n",
    "        # Shift de los valores para cada paso en WINDOW_SIZE\n",
    "        dataset_windowed[f\"Price+{i+1}\"] = dataset_windowed[\"Price\"].shift(periods=i+1)\n",
    "\n",
    "    # Drop de valores NaN\n",
    "    #dataset_windowed.dropna(inplace=True)\n",
    "\n",
    "    # Convertir a tipo de datos float32\n",
    "    dataset_windowed[\"Price\"] = dataset_windowed[\"Price\"].astype(np.float32)\n",
    "\n",
    "    # Crear columnas para el horizonte de predicción\n",
    "    #for i in range(1, horizon + 1):\n",
    "    #    dataset_windowed[f\"Price+{window_size + i}\"] = dataset_windowed[\"Price\"].shift(periods=-i)\n",
    "\n",
    "    # Drop de valores NaN después de agregar el horizonte\n",
    "    #dataset_windowed.dropna(inplace=True)\n",
    "\n",
    "    return dataset_windowed\n",
    "\n",
    "# Ejemplo de uso:\n",
    "# Suponiendo que tienes un DataFrame llamado 'df' con una columna 'Price'\n",
    "# y quieres una ventana de tamaño 3 y un horizonte de predicción de 2\n",
    "\n",
    "#windowed_df = create_windowed_dataset(df, window_size=2, horizon=2)\n",
    "#print(windowed_df.head())\n"
   ]
  },
  {
   "cell_type": "code",
   "execution_count": null,
   "metadata": {},
   "outputs": [],
   "source": [
    "import pandas as pd\n",
    "import numpy as np\n",
    "\n",
    "# Crear un DataFrame simple\n",
    "data = {\n",
    "    'Date': pd.date_range(start='2022-01-01', periods=10, freq='D'),\n",
    "    'Price': [1.0, 1.2, 1.5, 1.8, 2.0, 2.3, 2.6, 2.8, 3.0, 3.2]\n",
    "}\n",
    "\n",
    "df = pd.DataFrame(data)\n",
    "\n",
    "# Mostrar el DataFrame original\n",
    "print(\"DataFrame Original:\")\n",
    "print(df)\n",
    "\n",
    "# Aplicar la función create_windowed_dataset\n",
    "windowed_df = create_windowed_dataset(df, window_size=2, horizon=1)\n",
    "\n",
    "# Mostrar el DataFrame con windowing\n",
    "print(\"\\nDataFrame con Windowing:\")\n",
    "print(windowed_df)\n"
   ]
  },
  {
   "cell_type": "markdown",
   "metadata": {},
   "source": [
    "\"es como predecir price con price+1 y price+2\", para los valores price+1 y price+2 el horizonte es price"
   ]
  },
  {
   "cell_type": "markdown",
   "metadata": {},
   "source": [
    "### larger horizonts"
   ]
  },
  {
   "cell_type": "code",
   "execution_count": 10,
   "metadata": {},
   "outputs": [
    {
     "name": "stdout",
     "output_type": "stream",
     "text": [
      "Window: [0 1 2 3 4 5 6] -> Label: 7\n"
     ]
    }
   ],
   "source": [
    "# Test out the window labelling function\n",
    "test_window, test_label = get_labelled_windows(tf.expand_dims(tf.range(8), axis=0))\n",
    "print(f\"Window: {tf.squeeze(test_window).numpy()} -> Label: {tf.squeeze(test_label).numpy()}\")"
   ]
  },
  {
   "cell_type": "code",
   "execution_count": null,
   "metadata": {},
   "outputs": [],
   "source": []
  }
 ],
 "metadata": {
  "kernelspec": {
   "display_name": "Python 3",
   "language": "python",
   "name": "python3"
  },
  "language_info": {
   "codemirror_mode": {
    "name": "ipython",
    "version": 3
   },
   "file_extension": ".py",
   "mimetype": "text/x-python",
   "name": "python",
   "nbconvert_exporter": "python",
   "pygments_lexer": "ipython3",
   "version": "3.8.5"
  }
 },
 "nbformat": 4,
 "nbformat_minor": 5
}
