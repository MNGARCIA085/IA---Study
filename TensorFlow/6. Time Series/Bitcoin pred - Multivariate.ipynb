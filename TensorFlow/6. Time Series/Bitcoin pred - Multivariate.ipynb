{
 "cells": [
  {
   "cell_type": "markdown",
   "metadata": {},
   "source": [
    "# <center><b><font color='blue'>Bitcoin Price Prediction</font></b></center>"
   ]
  },
  {
   "cell_type": "markdown",
   "metadata": {},
   "source": [
    "<a name=\"1\"></a>\n",
    "## 1. Objetivos\n",
    "\n",
    "Aprender acerca de las series temporales."
   ]
  },
  {
   "cell_type": "markdown",
   "metadata": {},
   "source": [
    "<a name=\"2\"></a>\n",
    "## 2. Librerías necesarias"
   ]
  },
  {
   "cell_type": "code",
   "execution_count": 1,
   "metadata": {},
   "outputs": [],
   "source": [
    "# que no se impriman info y warnings\n",
    "import os\n",
    "os.environ['TF_CPP_MIN_LOG_LEVEL'] = '2' "
   ]
  },
  {
   "cell_type": "code",
   "execution_count": 15,
   "metadata": {},
   "outputs": [],
   "source": [
    "import tensorflow as tf\n",
    "import matplotlib.pyplot as plt\n",
    "import matplotlib.image as mpimg\n",
    "import numpy as np\n",
    "from tensorflow.keras import layers,callbacks,models,Sequential,losses\n",
    "import seaborn as sns\n",
    "from sklearn.metrics import confusion_matrix\n",
    "from tensorflow import keras\n",
    "from keras import backend as K\n",
    "import os,random\n",
    "import pandas as pd\n",
    "from tensorflow.keras.preprocessing.image import ImageDataGenerator\n",
    "from tensorflow.keras.preprocessing.image import ImageDataGenerator\n",
    "from tensorflow.keras.applications.efficientnet import preprocess_input\n",
    "from tensorflow.keras.layers.experimental import preprocessing\n",
    "import seaborn as sns\n",
    "from sklearn.metrics import classification_report, confusion_matrix\n",
    "import csv\n",
    "from datetime import datetime\n",
    "from sklearn.preprocessing import minmax_scale"
   ]
  },
  {
   "cell_type": "markdown",
   "metadata": {},
   "source": [
    "<a name=\"3\"></a>\n",
    "## 3. Helper Functions"
   ]
  },
  {
   "cell_type": "code",
   "execution_count": 30,
   "metadata": {},
   "outputs": [],
   "source": [
    "# Create a function to plot time series data\n",
    "def plot_time_series(timesteps, values, format=\".\", start=0, end=None, label=None):\n",
    "    \"\"\"\n",
    "    Plots timesteps (a series of points in time) against values (a series of values across timesteps).\n",
    "\n",
    "    Parameters\n",
    "    ----------\n",
    "    timesteps : array of timestep values\n",
    "    values : array of values across time\n",
    "    format : style of plot, default \".\"\n",
    "    start : where to start the plot (setting a value will index from start of timesteps & values)\n",
    "    end : where to end the plot (similar to start but for the end)\n",
    "    label : label to show on plot about values, default None \n",
    "    \"\"\"\n",
    "    # Plot the series\n",
    "    plt.plot(timesteps[start:end], values[start:end], format, label=label)\n",
    "    plt.xlabel(\"Time\")\n",
    "    plt.ylabel(\"BTC Price\")\n",
    "    if label:\n",
    "        plt.legend(fontsize=14) # make label bigger\n",
    "    plt.grid(True)\n",
    "\n",
    "\n",
    "    \n",
    "# se implementa MASE pues no existe en TF\n",
    "def mean_absolute_scaled_error(y_true, y_pred):\n",
    "  \"\"\"\n",
    "  Implement MASE (assuming no seasonality of data).\n",
    "  \"\"\"\n",
    "  mae = tf.reduce_mean(tf.abs(y_true-y_pred))\n",
    "\n",
    "  # Find MAE of naive forecast (no seasonality)\n",
    "  mae_naive_no_season = tf.reduce_mean(tf.abs(y_true[1:] - y_true[:-1])) # our seasonality is 1 day (hence the shift of 1)\n",
    "\n",
    "  return mae / mae_naive_no_season\n",
    "    \n",
    "    \n",
    "    \n",
    "# make predictions\n",
    "def make_preds(model, input_data):\n",
    "    \"\"\"\n",
    "    Uses model to make predictions input_data.\n",
    "    \"\"\"    \n",
    "    forecast = model.predict(input_data)\n",
    "    return tf.squeeze(forecast) # return 1D array of predictions\n",
    "\n",
    "\n",
    "\n",
    "# Evaluaci[on  de predicciones\n",
    "\n",
    "# Create a function to take in model predictions and truth values and return evaluation metrics\n",
    "# sirve para horizonte largo 1\n",
    "def evaluate_preds(y_true, y_pred):\n",
    "  # Make sure float32 datatype (for metric calculations)\n",
    "  y_true = tf.cast(y_true, dtype=tf.float32)\n",
    "  y_pred = tf.cast(y_pred, dtype=tf.float32)\n",
    "\n",
    "  # Calculate various evaluation metrics \n",
    "  mae = tf.keras.metrics.mean_absolute_error(y_true, y_pred)\n",
    "  mse = tf.keras.metrics.mean_squared_error(y_true, y_pred)\n",
    "  rmse = tf.sqrt(mse)\n",
    "  mape = tf.keras.metrics.mean_absolute_percentage_error(y_true, y_pred)\n",
    "  mase = mean_absolute_scaled_error(y_true, y_pred)\n",
    "\n",
    "  return {\"mae\": mae.numpy(),\n",
    "          \"mse\": mse.numpy(),\n",
    "          \"rmse\": rmse.numpy(),\n",
    "          \"mape\": mape.numpy(),\n",
    "          \"mase\": mase.numpy()}\n",
    "\n",
    "\n",
    "# Create a function to take in model predictions and truth values and return evaluation metrics\n",
    "def evaluate_preds_general(y_true, y_pred):\n",
    "  # Make sure float32 datatype (for metric calculations)\n",
    "  y_true = tf.cast(y_true, dtype=tf.float32)\n",
    "  y_pred = tf.cast(y_pred, dtype=tf.float32)\n",
    "\n",
    "  # Calculate various evaluation metrics \n",
    "  mae = tf.keras.metrics.mean_absolute_error(y_true, y_pred)\n",
    "  mse = tf.keras.metrics.mean_squared_error(y_true, y_pred)\n",
    "  rmse = tf.sqrt(mse)\n",
    "  mape = tf.keras.metrics.mean_absolute_percentage_error(y_true, y_pred)\n",
    "  mase = mean_absolute_scaled_error(y_true, y_pred)\n",
    "\n",
    "  # Account for different sized metrics (for longer horizons, we want to reduce metrics to a single value)\n",
    "  if mae.ndim > 0:\n",
    "    mae = tf.reduce_mean(mae)\n",
    "    mse = tf.reduce_mean(mse)\n",
    "    rmse = tf.reduce_mean(rmse)\n",
    "    mape = tf.reduce_mean(mape)\n",
    "    mase = tf.reduce_mean(mase)\n",
    "\n",
    "  return {\"mae\": mae.numpy(),\n",
    "          \"mse\": mse.numpy(),\n",
    "          \"rmse\": rmse.numpy(),\n",
    "          \"mape\": mape.numpy(),\n",
    "          \"mase\": mase.numpy()}\n",
    "\n",
    "\n",
    "\n",
    "\n",
    "# Make the train/test splits para nuestro dataset ventaneado\n",
    "def make_train_test_splits(windows, labels, test_split=0.2):\n",
    "    \"\"\"\n",
    "    Splits matching pairs of winodws and labels into train and test splits.\n",
    "    \n",
    "    Recine arreglos de numpy\n",
    "    Devuelve arreglos de numpy\n",
    "    \n",
    "    \"\"\"\n",
    "    split_size = int(len(windows) * (1-test_split)) # this will default to 80% train/20% test: len(windows)=2780 aqu[i\n",
    "    train_windows = windows[:split_size]\n",
    "    train_labels = labels[:split_size]\n",
    "    test_windows = windows[split_size:]\n",
    "    test_labels = labels[split_size:]\n",
    "    return train_windows, test_windows, train_labels, test_labels\n",
    "\n",
    "# create windowed dataset\n",
    "def create_windowed_dataset(dataset,window_size):\n",
    "    \"\"\"\n",
    "    dataset: a dataset with a key \"price\"\n",
    "    window size\n",
    "    \"\"\"\n",
    "    # Make a copy of the Bitcoin historical data with block reward feature\n",
    "    dataset_windowed = dataset.copy()\n",
    "    # Add windowed columns\n",
    "    for i in range(window_size): # shift values for each step in WINDOW_SIZE\n",
    "        dataset_windowed[f\"Price+{i+1}\"] = dataset_windowed[\"Price\"].shift(periods=i+1)\n",
    "        \n",
    "    \n",
    "    # drop nan values\n",
    "    dataset_windowed.dropna(inplace=True)\n",
    "    \n",
    "    # convert to float32\n",
    "    #dataset_windowed[\"Price\"] = dataset_windowed[\"Price\"].astype(np.float32)\n",
    "    \n",
    "    dataset_windowed = dataset_windowed.astype(np.float32)\n",
    "\n",
    "    # return\n",
    "    return dataset_windowed"
   ]
  },
  {
   "cell_type": "markdown",
   "metadata": {},
   "source": [
    "<a name=\"4\"></a>\n",
    "## 4. Carga y pre-procesamiento de datos"
   ]
  },
  {
   "cell_type": "code",
   "execution_count": 5,
   "metadata": {},
   "outputs": [],
   "source": [
    "#!wget https://raw.githubusercontent.com/mrdbourke/tensorflow-deep-learning/main/extras/BTC_USD_2013-10-01_2021-05-18-CoinDesk.csv "
   ]
  },
  {
   "cell_type": "code",
   "execution_count": 31,
   "metadata": {},
   "outputs": [
    {
     "data": {
      "text/html": [
       "<div>\n",
       "<style scoped>\n",
       "    .dataframe tbody tr th:only-of-type {\n",
       "        vertical-align: middle;\n",
       "    }\n",
       "\n",
       "    .dataframe tbody tr th {\n",
       "        vertical-align: top;\n",
       "    }\n",
       "\n",
       "    .dataframe thead th {\n",
       "        text-align: right;\n",
       "    }\n",
       "</style>\n",
       "<table border=\"1\" class=\"dataframe\">\n",
       "  <thead>\n",
       "    <tr style=\"text-align: right;\">\n",
       "      <th></th>\n",
       "      <th>Currency</th>\n",
       "      <th>Closing Price (USD)</th>\n",
       "      <th>24h Open (USD)</th>\n",
       "      <th>24h High (USD)</th>\n",
       "      <th>24h Low (USD)</th>\n",
       "    </tr>\n",
       "    <tr>\n",
       "      <th>Date</th>\n",
       "      <th></th>\n",
       "      <th></th>\n",
       "      <th></th>\n",
       "      <th></th>\n",
       "      <th></th>\n",
       "    </tr>\n",
       "  </thead>\n",
       "  <tbody>\n",
       "    <tr>\n",
       "      <th>2013-10-01</th>\n",
       "      <td>BTC</td>\n",
       "      <td>123.65499</td>\n",
       "      <td>124.30466</td>\n",
       "      <td>124.75166</td>\n",
       "      <td>122.56349</td>\n",
       "    </tr>\n",
       "    <tr>\n",
       "      <th>2013-10-02</th>\n",
       "      <td>BTC</td>\n",
       "      <td>125.45500</td>\n",
       "      <td>123.65499</td>\n",
       "      <td>125.75850</td>\n",
       "      <td>123.63383</td>\n",
       "    </tr>\n",
       "    <tr>\n",
       "      <th>2013-10-03</th>\n",
       "      <td>BTC</td>\n",
       "      <td>108.58483</td>\n",
       "      <td>125.45500</td>\n",
       "      <td>125.66566</td>\n",
       "      <td>83.32833</td>\n",
       "    </tr>\n",
       "    <tr>\n",
       "      <th>2013-10-04</th>\n",
       "      <td>BTC</td>\n",
       "      <td>118.67466</td>\n",
       "      <td>108.58483</td>\n",
       "      <td>118.67500</td>\n",
       "      <td>107.05816</td>\n",
       "    </tr>\n",
       "    <tr>\n",
       "      <th>2013-10-05</th>\n",
       "      <td>BTC</td>\n",
       "      <td>121.33866</td>\n",
       "      <td>118.67466</td>\n",
       "      <td>121.93633</td>\n",
       "      <td>118.00566</td>\n",
       "    </tr>\n",
       "  </tbody>\n",
       "</table>\n",
       "</div>"
      ],
      "text/plain": [
       "           Currency  Closing Price (USD)  24h Open (USD)  24h High (USD)  \\\n",
       "Date                                                                       \n",
       "2013-10-01      BTC            123.65499       124.30466       124.75166   \n",
       "2013-10-02      BTC            125.45500       123.65499       125.75850   \n",
       "2013-10-03      BTC            108.58483       125.45500       125.66566   \n",
       "2013-10-04      BTC            118.67466       108.58483       118.67500   \n",
       "2013-10-05      BTC            121.33866       118.67466       121.93633   \n",
       "\n",
       "            24h Low (USD)  \n",
       "Date                       \n",
       "2013-10-01      122.56349  \n",
       "2013-10-02      123.63383  \n",
       "2013-10-03       83.32833  \n",
       "2013-10-04      107.05816  \n",
       "2013-10-05      118.00566  "
      ]
     },
     "execution_count": 31,
     "metadata": {},
     "output_type": "execute_result"
    }
   ],
   "source": [
    "# importamos los datos con pandas\n",
    "\n",
    "df = pd.read_csv(\"BTC_USD_2013-10-01_2021-05-18-CoinDesk.csv\",\n",
    "                 parse_dates=[\"Date\"],\n",
    "                 index_col=[\"Date\"]) # prase the date column and tell pandas column 1 is a datetime \n",
    "\n",
    "df.head()"
   ]
  },
  {
   "cell_type": "code",
   "execution_count": 32,
   "metadata": {},
   "outputs": [
    {
     "data": {
      "text/html": [
       "<div>\n",
       "<style scoped>\n",
       "    .dataframe tbody tr th:only-of-type {\n",
       "        vertical-align: middle;\n",
       "    }\n",
       "\n",
       "    .dataframe tbody tr th {\n",
       "        vertical-align: top;\n",
       "    }\n",
       "\n",
       "    .dataframe thead th {\n",
       "        text-align: right;\n",
       "    }\n",
       "</style>\n",
       "<table border=\"1\" class=\"dataframe\">\n",
       "  <thead>\n",
       "    <tr style=\"text-align: right;\">\n",
       "      <th></th>\n",
       "      <th>Price</th>\n",
       "    </tr>\n",
       "    <tr>\n",
       "      <th>Date</th>\n",
       "      <th></th>\n",
       "    </tr>\n",
       "  </thead>\n",
       "  <tbody>\n",
       "    <tr>\n",
       "      <th>2013-10-01</th>\n",
       "      <td>123.65499</td>\n",
       "    </tr>\n",
       "    <tr>\n",
       "      <th>2013-10-02</th>\n",
       "      <td>125.45500</td>\n",
       "    </tr>\n",
       "    <tr>\n",
       "      <th>2013-10-03</th>\n",
       "      <td>108.58483</td>\n",
       "    </tr>\n",
       "    <tr>\n",
       "      <th>2013-10-04</th>\n",
       "      <td>118.67466</td>\n",
       "    </tr>\n",
       "    <tr>\n",
       "      <th>2013-10-05</th>\n",
       "      <td>121.33866</td>\n",
       "    </tr>\n",
       "  </tbody>\n",
       "</table>\n",
       "</div>"
      ],
      "text/plain": [
       "                Price\n",
       "Date                 \n",
       "2013-10-01  123.65499\n",
       "2013-10-02  125.45500\n",
       "2013-10-03  108.58483\n",
       "2013-10-04  118.67466\n",
       "2013-10-05  121.33866"
      ]
     },
     "execution_count": 32,
     "metadata": {},
     "output_type": "execute_result"
    }
   ],
   "source": [
    "# me quedo sólo con lo que preciso y hago un rename\n",
    "bitcoin_prices = pd.DataFrame(df[\"Closing Price (USD)\"]).rename(columns={\"Closing Price (USD)\": \"Price\"})\n",
    "bitcoin_prices.head()"
   ]
  },
  {
   "cell_type": "markdown",
   "metadata": {},
   "source": [
    "#### Make a multivariate time series dataset\n",
    "\n",
    "Before we add a feature to our time series, what is a feature we can use?\n",
    "\n",
    "One feature we could add is whether or not Daniel Bourke tweeted on that day...\n",
    "\n",
    "* day 1 - 0\n",
    "* day 2 - 1\n",
    "* day 3 - 0\n",
    "\n",
    "What's a better feature to use?\n",
    "\n",
    "How about the bitcoin halving events?\n",
    "\n",
    "https://www.cmcmarkets.com/en/learn-cryptocurrencies/bitcoin-halving"
   ]
  },
  {
   "cell_type": "code",
   "execution_count": 33,
   "metadata": {},
   "outputs": [],
   "source": [
    "# Let's add the bitcoin halving events to our dataset\n",
    "block_reward_1 = 50 # 3 January 2009 - this block reward isn't in our dataset (our data starts from 01 October 2013)\n",
    "block_reward_2 = 25 # 8 November 2012\n",
    "block_reward_3 = 12.5 # 9 July 2016\n",
    "block_reward_4 = 6.25 # 18 May 2020\n",
    "\n",
    "# Block reward dates\n",
    "block_reward_2_datetime = np.datetime64(\"2012-11-28\")\n",
    "block_reward_3_datetime = np.datetime64(\"2016-07-09\")\n",
    "block_reward_4_datetime = np.datetime64(\"2020-05-18\")"
   ]
  },
  {
   "cell_type": "code",
   "execution_count": 34,
   "metadata": {},
   "outputs": [
    {
     "data": {
      "text/plain": [
       "(1012, 2421)"
      ]
     },
     "execution_count": 34,
     "metadata": {},
     "output_type": "execute_result"
    }
   ],
   "source": [
    "# Create date ranges of where specific block_reward values should be\n",
    "block_reward_2_days = (block_reward_3_datetime - bitcoin_prices.index[0]).days\n",
    "block_reward_3_days = (block_reward_4_datetime - bitcoin_prices.index[0]).days\n",
    "block_reward_2_days, block_reward_3_days"
   ]
  },
  {
   "cell_type": "code",
   "execution_count": 35,
   "metadata": {},
   "outputs": [],
   "source": [
    "# Add in a block_reward column\n",
    "bitcoin_prices_block = bitcoin_prices.copy()\n",
    "bitcoin_prices_block[\"block_reward\"] = None\n",
    "\n",
    "# Add in block_reward values as a feature to our dataframe\n",
    "bitcoin_prices_block.iloc[:block_reward_2_days, -1] = block_reward_2\n",
    "bitcoin_prices_block.iloc[block_reward_2_days:block_reward_3_days, -1] = block_reward_3\n",
    "bitcoin_prices_block.iloc[block_reward_3_days:, -1] = block_reward_4"
   ]
  },
  {
   "cell_type": "code",
   "execution_count": 36,
   "metadata": {},
   "outputs": [
    {
     "data": {
      "text/html": [
       "<div>\n",
       "<style scoped>\n",
       "    .dataframe tbody tr th:only-of-type {\n",
       "        vertical-align: middle;\n",
       "    }\n",
       "\n",
       "    .dataframe tbody tr th {\n",
       "        vertical-align: top;\n",
       "    }\n",
       "\n",
       "    .dataframe thead th {\n",
       "        text-align: right;\n",
       "    }\n",
       "</style>\n",
       "<table border=\"1\" class=\"dataframe\">\n",
       "  <thead>\n",
       "    <tr style=\"text-align: right;\">\n",
       "      <th></th>\n",
       "      <th>Price</th>\n",
       "      <th>block_reward</th>\n",
       "    </tr>\n",
       "    <tr>\n",
       "      <th>Date</th>\n",
       "      <th></th>\n",
       "      <th></th>\n",
       "    </tr>\n",
       "  </thead>\n",
       "  <tbody>\n",
       "    <tr>\n",
       "      <th>2013-10-01</th>\n",
       "      <td>123.65499</td>\n",
       "      <td>25</td>\n",
       "    </tr>\n",
       "    <tr>\n",
       "      <th>2013-10-02</th>\n",
       "      <td>125.45500</td>\n",
       "      <td>25</td>\n",
       "    </tr>\n",
       "    <tr>\n",
       "      <th>2013-10-03</th>\n",
       "      <td>108.58483</td>\n",
       "      <td>25</td>\n",
       "    </tr>\n",
       "    <tr>\n",
       "      <th>2013-10-04</th>\n",
       "      <td>118.67466</td>\n",
       "      <td>25</td>\n",
       "    </tr>\n",
       "    <tr>\n",
       "      <th>2013-10-05</th>\n",
       "      <td>121.33866</td>\n",
       "      <td>25</td>\n",
       "    </tr>\n",
       "  </tbody>\n",
       "</table>\n",
       "</div>"
      ],
      "text/plain": [
       "                Price block_reward\n",
       "Date                              \n",
       "2013-10-01  123.65499           25\n",
       "2013-10-02  125.45500           25\n",
       "2013-10-03  108.58483           25\n",
       "2013-10-04  118.67466           25\n",
       "2013-10-05  121.33866           25"
      ]
     },
     "execution_count": 36,
     "metadata": {},
     "output_type": "execute_result"
    }
   ],
   "source": [
    "bitcoin_prices_block.head()"
   ]
  },
  {
   "cell_type": "code",
   "execution_count": 37,
   "metadata": {},
   "outputs": [
    {
     "data": {
      "image/png": "[encoded data removed]",
      "text/plain": [
       "<Figure size 720x504 with 1 Axes>"
      ]
     },
     "metadata": {
      "needs_background": "light"
     },
     "output_type": "display_data"
    }
   ],
   "source": [
    "# Plot the block reward vs price over time\n",
    "scaled_price_block_df = pd.DataFrame(minmax_scale(bitcoin_prices_block[[\"Price\", \"block_reward\"]]),\n",
    "                                                                       columns=bitcoin_prices_block.columns,\n",
    "                                                                       index=bitcoin_prices_block.index)\n",
    "scaled_price_block_df.plot(figsize=(10, 7));"
   ]
  },
  {
   "cell_type": "markdown",
   "metadata": {},
   "source": [
    "#### Construyamos el windowed dataset"
   ]
  },
  {
   "cell_type": "code",
   "execution_count": 38,
   "metadata": {},
   "outputs": [],
   "source": [
    "# Setup dataset hyperparameters\n",
    "HORIZON = 1\n",
    "WINDOW_SIZE = 7"
   ]
  },
  {
   "cell_type": "code",
   "execution_count": 39,
   "metadata": {},
   "outputs": [
    {
     "data": {
      "text/html": [
       "<div>\n",
       "<style scoped>\n",
       "    .dataframe tbody tr th:only-of-type {\n",
       "        vertical-align: middle;\n",
       "    }\n",
       "\n",
       "    .dataframe tbody tr th {\n",
       "        vertical-align: top;\n",
       "    }\n",
       "\n",
       "    .dataframe thead th {\n",
       "        text-align: right;\n",
       "    }\n",
       "</style>\n",
       "<table border=\"1\" class=\"dataframe\">\n",
       "  <thead>\n",
       "    <tr style=\"text-align: right;\">\n",
       "      <th></th>\n",
       "      <th>Price</th>\n",
       "      <th>block_reward</th>\n",
       "      <th>Price+1</th>\n",
       "      <th>Price+2</th>\n",
       "      <th>Price+3</th>\n",
       "      <th>Price+4</th>\n",
       "      <th>Price+5</th>\n",
       "      <th>Price+6</th>\n",
       "      <th>Price+7</th>\n",
       "    </tr>\n",
       "    <tr>\n",
       "      <th>Date</th>\n",
       "      <th></th>\n",
       "      <th></th>\n",
       "      <th></th>\n",
       "      <th></th>\n",
       "      <th></th>\n",
       "      <th></th>\n",
       "      <th></th>\n",
       "      <th></th>\n",
       "      <th></th>\n",
       "    </tr>\n",
       "  </thead>\n",
       "  <tbody>\n",
       "    <tr>\n",
       "      <th>2013-10-08</th>\n",
       "      <td>123.032997</td>\n",
       "      <td>25.0</td>\n",
       "      <td>121.794998</td>\n",
       "      <td>120.655327</td>\n",
       "      <td>121.338661</td>\n",
       "      <td>118.674660</td>\n",
       "      <td>108.584831</td>\n",
       "      <td>125.455002</td>\n",
       "      <td>123.654991</td>\n",
       "    </tr>\n",
       "    <tr>\n",
       "      <th>2013-10-09</th>\n",
       "      <td>124.049004</td>\n",
       "      <td>25.0</td>\n",
       "      <td>123.032997</td>\n",
       "      <td>121.794998</td>\n",
       "      <td>120.655327</td>\n",
       "      <td>121.338661</td>\n",
       "      <td>118.674660</td>\n",
       "      <td>108.584831</td>\n",
       "      <td>125.455002</td>\n",
       "    </tr>\n",
       "    <tr>\n",
       "      <th>2013-10-10</th>\n",
       "      <td>125.961159</td>\n",
       "      <td>25.0</td>\n",
       "      <td>124.049004</td>\n",
       "      <td>123.032997</td>\n",
       "      <td>121.794998</td>\n",
       "      <td>120.655327</td>\n",
       "      <td>121.338661</td>\n",
       "      <td>118.674660</td>\n",
       "      <td>108.584831</td>\n",
       "    </tr>\n",
       "    <tr>\n",
       "      <th>2013-10-11</th>\n",
       "      <td>125.279663</td>\n",
       "      <td>25.0</td>\n",
       "      <td>125.961159</td>\n",
       "      <td>124.049004</td>\n",
       "      <td>123.032997</td>\n",
       "      <td>121.794998</td>\n",
       "      <td>120.655327</td>\n",
       "      <td>121.338661</td>\n",
       "      <td>118.674660</td>\n",
       "    </tr>\n",
       "    <tr>\n",
       "      <th>2013-10-12</th>\n",
       "      <td>125.927498</td>\n",
       "      <td>25.0</td>\n",
       "      <td>125.279663</td>\n",
       "      <td>125.961159</td>\n",
       "      <td>124.049004</td>\n",
       "      <td>123.032997</td>\n",
       "      <td>121.794998</td>\n",
       "      <td>120.655327</td>\n",
       "      <td>121.338661</td>\n",
       "    </tr>\n",
       "  </tbody>\n",
       "</table>\n",
       "</div>"
      ],
      "text/plain": [
       "                 Price  block_reward     Price+1     Price+2     Price+3  \\\n",
       "Date                                                                       \n",
       "2013-10-08  123.032997          25.0  121.794998  120.655327  121.338661   \n",
       "2013-10-09  124.049004          25.0  123.032997  121.794998  120.655327   \n",
       "2013-10-10  125.961159          25.0  124.049004  123.032997  121.794998   \n",
       "2013-10-11  125.279663          25.0  125.961159  124.049004  123.032997   \n",
       "2013-10-12  125.927498          25.0  125.279663  125.961159  124.049004   \n",
       "\n",
       "               Price+4     Price+5     Price+6     Price+7  \n",
       "Date                                                        \n",
       "2013-10-08  118.674660  108.584831  125.455002  123.654991  \n",
       "2013-10-09  121.338661  118.674660  108.584831  125.455002  \n",
       "2013-10-10  120.655327  121.338661  118.674660  108.584831  \n",
       "2013-10-11  121.794998  120.655327  121.338661  118.674660  \n",
       "2013-10-12  123.032997  121.794998  120.655327  121.338661  "
      ]
     },
     "execution_count": 39,
     "metadata": {},
     "output_type": "execute_result"
    }
   ],
   "source": [
    "bitcoin_windowed = create_windowed_dataset(bitcoin_prices_block,WINDOW_SIZE)\n",
    "bitcoin_windowed.head()"
   ]
  },
  {
   "cell_type": "markdown",
   "metadata": {},
   "source": [
    "What we've done is created a way to window our dataset directly from a pandas dataframe.\n",
    "\n",
    "```\n",
    "[0, 1, 2, 3, 4, 5, 6, block_reward] -> [7]\n",
    "[1, 2, 3, 4, 5, 6, 7, block_reward] -> [8]\n",
    "[2, 3, 4, 5, 6, 7, 8, block_reward] -> [9]\n",
    "```"
   ]
  },
  {
   "cell_type": "code",
   "execution_count": 40,
   "metadata": {},
   "outputs": [],
   "source": [
    "# Create X (windows) and y (horizons) features\n",
    "X = bitcoin_windowed.drop(\"Price\", axis=1)\n",
    "y = bitcoin_windowed[\"Price\"]"
   ]
  },
  {
   "cell_type": "code",
   "execution_count": 41,
   "metadata": {},
   "outputs": [
    {
     "data": {
      "text/plain": [
       "(2224, 2224, 556, 556)"
      ]
     },
     "execution_count": 41,
     "metadata": {},
     "output_type": "execute_result"
    }
   ],
   "source": [
    "X_train, X_test, y_train, y_test = make_train_test_splits(X.values, y.values)\n",
    "len(X_train), len(y_train), len(X_test), len(y_test)"
   ]
  },
  {
   "cell_type": "markdown",
   "metadata": {},
   "source": [
    "## Modelo"
   ]
  },
  {
   "cell_type": "code",
   "execution_count": 42,
   "metadata": {},
   "outputs": [
    {
     "data": {
      "text/plain": [
       "(numpy.ndarray, numpy.ndarray, numpy.ndarray, numpy.ndarray)"
      ]
     },
     "execution_count": 42,
     "metadata": {},
     "output_type": "execute_result"
    }
   ],
   "source": [
    "type(X_train),type(X_test),type(y_test),type(y_train)"
   ]
  },
  {
   "cell_type": "code",
   "execution_count": 43,
   "metadata": {},
   "outputs": [
    {
     "name": "stdout",
     "output_type": "stream",
     "text": [
      "Epoch 1/100\n",
      "18/18 [==============================] - 2s 40ms/step - loss: 2178.7771 - val_loss: 917.7772\n",
      "Epoch 2/100\n",
      "18/18 [==============================] - 0s 16ms/step - loss: 345.0782 - val_loss: 1860.8159\n",
      "Epoch 3/100\n",
      "18/18 [==============================] - 0s 13ms/step - loss: 200.0420 - val_loss: 1085.1738\n",
      "Epoch 4/100\n",
      "18/18 [==============================] - 0s 12ms/step - loss: 161.9886 - val_loss: 951.6896\n",
      "Epoch 5/100\n",
      "18/18 [==============================] - 0s 10ms/step - loss: 153.7991 - val_loss: 870.2193\n",
      "Epoch 6/100\n",
      "18/18 [==============================] - 0s 10ms/step - loss: 150.1477 - val_loss: 877.0585\n",
      "Epoch 7/100\n",
      "18/18 [==============================] - 0s 11ms/step - loss: 147.7299 - val_loss: 900.4992\n",
      "Epoch 8/100\n",
      "18/18 [==============================] - 0s 11ms/step - loss: 146.2541 - val_loss: 802.3000\n",
      "Epoch 9/100\n",
      "18/18 [==============================] - 0s 11ms/step - loss: 140.4664 - val_loss: 803.0450\n",
      "Epoch 10/100\n",
      "18/18 [==============================] - 0s 10ms/step - loss: 139.1018 - val_loss: 930.5306\n",
      "Epoch 11/100\n",
      "18/18 [==============================] - 0s 11ms/step - loss: 140.3522 - val_loss: 728.0393\n",
      "Epoch 12/100\n",
      "18/18 [==============================] - 0s 11ms/step - loss: 133.8336 - val_loss: 719.7397\n",
      "Epoch 13/100\n",
      "18/18 [==============================] - 0s 10ms/step - loss: 130.9691 - val_loss: 834.8157\n",
      "Epoch 14/100\n",
      "18/18 [==============================] - 0s 10ms/step - loss: 133.3749 - val_loss: 702.8909\n",
      "Epoch 15/100\n",
      "18/18 [==============================] - 0s 9ms/step - loss: 123.5115 - val_loss: 681.1205\n",
      "Epoch 16/100\n",
      "18/18 [==============================] - 0s 10ms/step - loss: 123.4236 - val_loss: 703.2785\n",
      "Epoch 17/100\n",
      "18/18 [==============================] - 0s 10ms/step - loss: 124.5986 - val_loss: 697.7268\n",
      "Epoch 18/100\n",
      "18/18 [==============================] - 0s 11ms/step - loss: 118.5930 - val_loss: 670.5078\n",
      "Epoch 19/100\n",
      "18/18 [==============================] - 0s 10ms/step - loss: 123.1871 - val_loss: 639.6144\n",
      "Epoch 20/100\n",
      "18/18 [==============================] - 0s 10ms/step - loss: 132.0716 - val_loss: 735.9089\n",
      "Epoch 21/100\n",
      "18/18 [==============================] - 0s 9ms/step - loss: 122.8405 - val_loss: 625.3359\n",
      "Epoch 22/100\n",
      "18/18 [==============================] - 0s 10ms/step - loss: 122.5320 - val_loss: 619.7634\n",
      "Epoch 23/100\n",
      "18/18 [==============================] - 0s 9ms/step - loss: 115.9786 - val_loss: 658.8862\n",
      "Epoch 24/100\n",
      "18/18 [==============================] - 0s 9ms/step - loss: 126.6505 - val_loss: 699.4835\n",
      "Epoch 25/100\n",
      "18/18 [==============================] - 0s 9ms/step - loss: 115.5419 - val_loss: 607.3198\n",
      "Epoch 26/100\n",
      "18/18 [==============================] - 0s 9ms/step - loss: 111.9625 - val_loss: 662.9131\n",
      "Epoch 27/100\n",
      "18/18 [==============================] - 0s 10ms/step - loss: 123.0325 - val_loss: 687.9371\n",
      "Epoch 28/100\n",
      "18/18 [==============================] - 0s 10ms/step - loss: 113.5410 - val_loss: 625.8774\n",
      "Epoch 29/100\n",
      "18/18 [==============================] - 0s 9ms/step - loss: 112.6440 - val_loss: 600.4879\n",
      "Epoch 30/100\n",
      "18/18 [==============================] - 0s 9ms/step - loss: 112.8559 - val_loss: 616.4434\n",
      "Epoch 31/100\n",
      "18/18 [==============================] - 0s 10ms/step - loss: 113.0020 - val_loss: 590.5899\n",
      "Epoch 32/100\n",
      "18/18 [==============================] - 0s 10ms/step - loss: 109.7994 - val_loss: 588.1649\n",
      "Epoch 33/100\n",
      "18/18 [==============================] - 0s 11ms/step - loss: 109.8596 - val_loss: 600.4291\n",
      "Epoch 34/100\n",
      "18/18 [==============================] - 0s 11ms/step - loss: 109.1738 - val_loss: 664.1663\n",
      "Epoch 35/100\n",
      "18/18 [==============================] - 0s 11ms/step - loss: 112.7709 - val_loss: 583.3263\n",
      "Epoch 36/100\n",
      "18/18 [==============================] - 0s 11ms/step - loss: 110.8067 - val_loss: 592.5985\n",
      "Epoch 37/100\n",
      "18/18 [==============================] - 0s 11ms/step - loss: 113.3672 - val_loss: 597.0664\n",
      "Epoch 38/100\n",
      "18/18 [==============================] - 0s 9ms/step - loss: 112.4598 - val_loss: 585.5672\n",
      "Epoch 39/100\n",
      "18/18 [==============================] - 0s 9ms/step - loss: 109.9563 - val_loss: 589.7001\n",
      "Epoch 40/100\n",
      "18/18 [==============================] - 0s 9ms/step - loss: 110.1886 - val_loss: 578.1867\n",
      "Epoch 41/100\n",
      "18/18 [==============================] - 0s 11ms/step - loss: 110.1675 - val_loss: 590.5029\n",
      "Epoch 42/100\n",
      "18/18 [==============================] - 0s 10ms/step - loss: 113.1423 - val_loss: 631.2089\n",
      "Epoch 43/100\n",
      "18/18 [==============================] - 0s 11ms/step - loss: 110.4447 - val_loss: 678.5635\n",
      "Epoch 44/100\n",
      "18/18 [==============================] - 0s 9ms/step - loss: 115.8675 - val_loss: 610.9070\n",
      "Epoch 45/100\n",
      "18/18 [==============================] - 0s 10ms/step - loss: 111.9018 - val_loss: 573.6799\n",
      "Epoch 46/100\n",
      "18/18 [==============================] - 0s 10ms/step - loss: 110.3458 - val_loss: 581.9117\n",
      "Epoch 47/100\n",
      "18/18 [==============================] - 0s 10ms/step - loss: 109.8490 - val_loss: 572.6768\n",
      "Epoch 48/100\n",
      "18/18 [==============================] - 0s 9ms/step - loss: 107.5122 - val_loss: 576.2625\n",
      "Epoch 49/100\n",
      "18/18 [==============================] - 0s 10ms/step - loss: 110.9393 - val_loss: 584.5995\n",
      "Epoch 50/100\n",
      "18/18 [==============================] - 0s 10ms/step - loss: 106.3725 - val_loss: 569.6283\n",
      "Epoch 51/100\n",
      "18/18 [==============================] - 0s 9ms/step - loss: 109.8740 - val_loss: 572.6160\n",
      "Epoch 52/100\n",
      "18/18 [==============================] - 0s 9ms/step - loss: 112.5544 - val_loss: 590.1090\n",
      "Epoch 53/100\n",
      "18/18 [==============================] - 0s 11ms/step - loss: 116.3160 - val_loss: 587.4631\n",
      "Epoch 54/100\n",
      "18/18 [==============================] - 0s 10ms/step - loss: 111.0089 - val_loss: 599.0018\n",
      "Epoch 55/100\n",
      "18/18 [==============================] - 0s 11ms/step - loss: 116.3165 - val_loss: 655.7432\n",
      "Epoch 56/100\n",
      "18/18 [==============================] - 0s 10ms/step - loss: 120.9172 - val_loss: 649.4027\n",
      "Epoch 57/100\n",
      "18/18 [==============================] - 0s 11ms/step - loss: 110.1099 - val_loss: 582.3768\n",
      "Epoch 58/100\n",
      "18/18 [==============================] - 0s 10ms/step - loss: 112.5784 - val_loss: 566.5231\n",
      "Epoch 59/100\n",
      "18/18 [==============================] - 0s 11ms/step - loss: 117.3107 - val_loss: 592.6205\n",
      "Epoch 60/100\n",
      "18/18 [==============================] - 0s 10ms/step - loss: 107.5057 - val_loss: 637.4599\n",
      "Epoch 61/100\n",
      "18/18 [==============================] - 0s 10ms/step - loss: 115.3103 - val_loss: 624.1625\n",
      "Epoch 62/100\n",
      "18/18 [==============================] - 0s 10ms/step - loss: 110.2741 - val_loss: 566.4258\n",
      "Epoch 63/100\n",
      "18/18 [==============================] - 0s 11ms/step - loss: 108.7297 - val_loss: 572.5241\n",
      "Epoch 64/100\n",
      "18/18 [==============================] - 0s 9ms/step - loss: 106.6044 - val_loss: 596.1198\n",
      "Epoch 65/100\n",
      "18/18 [==============================] - 0s 10ms/step - loss: 107.0648 - val_loss: 598.0714\n",
      "Epoch 66/100\n",
      "18/18 [==============================] - 0s 10ms/step - loss: 112.7326 - val_loss: 567.7081\n",
      "Epoch 67/100\n",
      "18/18 [==============================] - 0s 11ms/step - loss: 111.4853 - val_loss: 632.5363\n",
      "Epoch 68/100\n",
      "18/18 [==============================] - 0s 10ms/step - loss: 107.3418 - val_loss: 592.4578\n",
      "Epoch 69/100\n",
      "18/18 [==============================] - 0s 10ms/step - loss: 109.2332 - val_loss: 660.0727\n",
      "Epoch 70/100\n",
      "18/18 [==============================] - 0s 9ms/step - loss: 111.5679 - val_loss: 562.4467\n",
      "Epoch 71/100\n",
      "18/18 [==============================] - 0s 10ms/step - loss: 107.1316 - val_loss: 562.4430\n",
      "Epoch 72/100\n",
      "18/18 [==============================] - 0s 10ms/step - loss: 108.5656 - val_loss: 562.1879\n",
      "Epoch 73/100\n",
      "18/18 [==============================] - 0s 10ms/step - loss: 106.6142 - val_loss: 567.0060\n",
      "Epoch 74/100\n",
      "18/18 [==============================] - 0s 10ms/step - loss: 106.5095 - val_loss: 568.2037\n",
      "Epoch 75/100\n",
      "18/18 [==============================] - 0s 11ms/step - loss: 108.2424 - val_loss: 635.4875\n",
      "Epoch 76/100\n",
      "18/18 [==============================] - 0s 9ms/step - loss: 116.6373 - val_loss: 625.3104\n",
      "Epoch 77/100\n",
      "18/18 [==============================] - 0s 9ms/step - loss: 116.9834 - val_loss: 650.2791\n",
      "Epoch 78/100\n",
      "18/18 [==============================] - 0s 11ms/step - loss: 106.6822 - val_loss: 606.8110\n",
      "Epoch 79/100\n"
     ]
    },
    {
     "name": "stdout",
     "output_type": "stream",
     "text": [
      "18/18 [==============================] - 0s 10ms/step - loss: 108.4408 - val_loss: 684.2289\n",
      "Epoch 80/100\n",
      "18/18 [==============================] - 0s 10ms/step - loss: 111.5519 - val_loss: 566.8585\n",
      "Epoch 81/100\n",
      "18/18 [==============================] - 0s 11ms/step - loss: 110.1619 - val_loss: 607.2872\n",
      "Epoch 82/100\n",
      "18/18 [==============================] - 0s 10ms/step - loss: 109.7119 - val_loss: 561.6622\n",
      "Epoch 83/100\n",
      "18/18 [==============================] - 0s 10ms/step - loss: 106.7779 - val_loss: 636.7526\n",
      "Epoch 84/100\n",
      "18/18 [==============================] - 0s 11ms/step - loss: 110.6170 - val_loss: 587.4020\n",
      "Epoch 85/100\n",
      "18/18 [==============================] - 0s 11ms/step - loss: 111.1758 - val_loss: 596.1392\n",
      "Epoch 86/100\n",
      "18/18 [==============================] - 0s 10ms/step - loss: 113.3390 - val_loss: 610.6765\n",
      "Epoch 87/100\n",
      "18/18 [==============================] - 0s 10ms/step - loss: 112.6526 - val_loss: 653.7194\n",
      "Epoch 88/100\n",
      "18/18 [==============================] - 0s 10ms/step - loss: 113.1934 - val_loss: 567.7579\n",
      "Epoch 89/100\n",
      "18/18 [==============================] - 0s 9ms/step - loss: 110.1053 - val_loss: 568.4797\n",
      "Epoch 90/100\n",
      "18/18 [==============================] - 0s 9ms/step - loss: 107.0703 - val_loss: 632.6935\n",
      "Epoch 91/100\n",
      "18/18 [==============================] - 0s 9ms/step - loss: 108.1500 - val_loss: 579.5762\n",
      "Epoch 92/100\n",
      "18/18 [==============================] - 0s 10ms/step - loss: 107.0664 - val_loss: 564.7607\n",
      "Epoch 93/100\n",
      "18/18 [==============================] - 0s 10ms/step - loss: 106.4479 - val_loss: 565.0380\n",
      "Epoch 94/100\n",
      "18/18 [==============================] - 0s 11ms/step - loss: 108.5973 - val_loss: 651.7039\n",
      "Epoch 95/100\n",
      "18/18 [==============================] - 0s 11ms/step - loss: 108.0225 - val_loss: 574.2222\n",
      "Epoch 96/100\n",
      "18/18 [==============================] - 0s 11ms/step - loss: 106.3935 - val_loss: 619.6889\n",
      "Epoch 97/100\n",
      "18/18 [==============================] - 0s 10ms/step - loss: 107.6366 - val_loss: 567.9554\n",
      "Epoch 98/100\n",
      "18/18 [==============================] - 0s 10ms/step - loss: 105.9797 - val_loss: 572.7188\n",
      "Epoch 99/100\n",
      "18/18 [==============================] - 0s 11ms/step - loss: 110.6540 - val_loss: 576.0352\n",
      "Epoch 100/100\n",
      "18/18 [==============================] - 0s 10ms/step - loss: 108.9638 - val_loss: 624.3812\n"
     ]
    },
    {
     "data": {
      "text/plain": [
       "<keras.callbacks.History at 0x26d34cf6cd0>"
      ]
     },
     "execution_count": 43,
     "metadata": {},
     "output_type": "execute_result"
    }
   ],
   "source": [
    "def build_model(horizon,name):\n",
    "    model = tf.keras.Sequential([\n",
    "        tf.keras.layers.Dense(128,activation='relu'),\n",
    "        tf.keras.layers.Dense(horizon)\n",
    "    ],name=name)\n",
    "    return model\n",
    "    \n",
    "    \n",
    "model = build_model(HORIZON,\"model_dense_multivariate\")    \n",
    "\n",
    "\n",
    "# Compile\n",
    "model.compile(loss=\"mae\",\n",
    "                optimizer=tf.keras.optimizers.Adam())\n",
    "\n",
    "# Fit\n",
    "model.fit(X_train, y_train,\n",
    "            epochs=100,\n",
    "            batch_size=128,\n",
    "            verbose=1,\n",
    "            validation_data=(X_test, y_test))"
   ]
  },
  {
   "cell_type": "code",
   "execution_count": 44,
   "metadata": {},
   "outputs": [
    {
     "name": "stdout",
     "output_type": "stream",
     "text": [
      "18/18 [==============================] - 0s 4ms/step - loss: 624.3812\n"
     ]
    },
    {
     "data": {
      "text/plain": [
       "624.3811645507812"
      ]
     },
     "execution_count": 44,
     "metadata": {},
     "output_type": "execute_result"
    }
   ],
   "source": [
    "# Evaluate multivariate model\n",
    "model.evaluate(X_test, y_test)"
   ]
  },
  {
   "cell_type": "code",
   "execution_count": 45,
   "metadata": {},
   "outputs": [
    {
     "name": "stdout",
     "output_type": "stream",
     "text": [
      "18/18 [==============================] - 0s 4ms/step\n"
     ]
    },
    {
     "data": {
      "text/plain": [
       "<tf.Tensor: shape=(10,), dtype=float32, numpy=\n",
       "array([8978.462, 8902.477, 9170.345, 8906.753, 8875.899, 8869.063,\n",
       "       8814.916, 8630.73 , 8595.781, 8652.054], dtype=float32)>"
      ]
     },
     "execution_count": 45,
     "metadata": {},
     "output_type": "execute_result"
    }
   ],
   "source": [
    "# Make predictions with multivariate model\n",
    "model_preds = tf.squeeze(model.predict(X_test))\n",
    "model_preds[:10]"
   ]
  },
  {
   "cell_type": "code",
   "execution_count": 47,
   "metadata": {},
   "outputs": [
    {
     "data": {
      "text/plain": [
       "{'mae': 624.3813,\n",
       " 'mse': 1279712.2,\n",
       " 'rmse': 1131.2437,\n",
       " 'mape': 2.8916721,\n",
       " 'mase': 1.0968649}"
      ]
     },
     "execution_count": 47,
     "metadata": {},
     "output_type": "execute_result"
    }
   ],
   "source": [
    "# Evaluate predictions to get eval metrics\n",
    "model_results = evaluate_preds(y_true=y_test,\n",
    "                                 y_pred=model_preds)\n",
    "model_results"
   ]
  },
  {
   "cell_type": "code",
   "execution_count": null,
   "metadata": {},
   "outputs": [],
   "source": []
  }
 ],
 "metadata": {
  "kernelspec": {
   "display_name": "Python 3",
   "language": "python",
   "name": "python3"
  },
  "language_info": {
   "codemirror_mode": {
    "name": "ipython",
    "version": 3
   },
   "file_extension": ".py",
   "mimetype": "text/x-python",
   "name": "python",
   "nbconvert_exporter": "python",
   "pygments_lexer": "ipython3",
   "version": "3.8.5"
  }
 },
 "nbformat": 4,
 "nbformat_minor": 4
}
