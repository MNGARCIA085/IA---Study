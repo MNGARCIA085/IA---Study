{
 "cells": [
  {
   "cell_type": "markdown",
   "metadata": {
    "colab_type": "text",
    "id": "view-in-github"
   },
   "source": [
    "<a href=\"https://colab.research.google.com/github/mrdbourke/tensorflow-deep-learning/blob/main/video_notebooks/10_time_series_forecasting_with_tensorflow_video.ipynb\" target=\"_parent\"><img src=\"https://colab.research.google.com/assets/colab-badge.svg\" alt=\"Open In Colab\"/></a>"
   ]
  },
  {
   "cell_type": "markdown",
   "metadata": {
    "id": "HcCSqk9kJAUW"
   },
   "source": [
    "# Time series forecasting fundamentals with TensorFlow + Milestone Project 3: BitPredict 💰📈\n",
    "\n",
    "Let's write some TensorFlow code to predict the price of Bitcoin based on the historical price of Bitcoin.\n",
    "\n",
    "⚠️ **Note:** This is not financial advice.\n",
    "\n",
    "Links:\n",
    "* All resources: https://github.com/mrdbourke/tensorflow-deep-learning\n",
    "* Book version of actual code/text: https://dev.mrdbourke.com/tensorflow-deep-learning/10_time_series_forecasting_in_tensorflow/"
   ]
  },
  {
   "cell_type": "markdown",
   "metadata": {
    "id": "8ApPdzQlJMZX"
   },
   "source": [
    "## Get data\n",
    "\n",
    "We're going to be using the historical price data of Bitcoin to try and predict the future price of Bitcoin, we downloaded the data from here: https://www.coindesk.com/price/bitcoin"
   ]
  },
  {
   "cell_type": "code",
   "execution_count": 16,
   "metadata": {
    "colab": {
     "base_uri": "https://localhost:8080/"
    },
    "id": "ErhLCI8gJm_p",
    "outputId": "cca937f0-b6cf-4e98-cbbd-4d42158e2232"
   },
   "outputs": [],
   "source": [
    "#!wget https://raw.githubusercontent.com/mrdbourke/tensorflow-deep-learning/main/extras/BTC_USD_2013-10-01_2021-05-18-CoinDesk.csv "
   ]
  },
  {
   "cell_type": "markdown",
   "metadata": {
    "id": "JQJ5Y6GKKAhk"
   },
   "source": [
    "## Importing time series with pandas"
   ]
  },
  {
   "cell_type": "code",
   "execution_count": 17,
   "metadata": {
    "colab": {
     "base_uri": "https://localhost:8080/",
     "height": 237
    },
    "id": "RlRR23gOKTGk",
    "outputId": "a56318ae-b35a-4aba-e7ba-d80681e07422"
   },
   "outputs": [
    {
     "data": {
      "text/html": [
       "<div>\n",
       "<style scoped>\n",
       "    .dataframe tbody tr th:only-of-type {\n",
       "        vertical-align: middle;\n",
       "    }\n",
       "\n",
       "    .dataframe tbody tr th {\n",
       "        vertical-align: top;\n",
       "    }\n",
       "\n",
       "    .dataframe thead th {\n",
       "        text-align: right;\n",
       "    }\n",
       "</style>\n",
       "<table border=\"1\" class=\"dataframe\">\n",
       "  <thead>\n",
       "    <tr style=\"text-align: right;\">\n",
       "      <th></th>\n",
       "      <th>Currency</th>\n",
       "      <th>Closing Price (USD)</th>\n",
       "      <th>24h Open (USD)</th>\n",
       "      <th>24h High (USD)</th>\n",
       "      <th>24h Low (USD)</th>\n",
       "    </tr>\n",
       "    <tr>\n",
       "      <th>Date</th>\n",
       "      <th></th>\n",
       "      <th></th>\n",
       "      <th></th>\n",
       "      <th></th>\n",
       "      <th></th>\n",
       "    </tr>\n",
       "  </thead>\n",
       "  <tbody>\n",
       "    <tr>\n",
       "      <th>2013-10-01</th>\n",
       "      <td>BTC</td>\n",
       "      <td>123.65499</td>\n",
       "      <td>124.30466</td>\n",
       "      <td>124.75166</td>\n",
       "      <td>122.56349</td>\n",
       "    </tr>\n",
       "    <tr>\n",
       "      <th>2013-10-02</th>\n",
       "      <td>BTC</td>\n",
       "      <td>125.45500</td>\n",
       "      <td>123.65499</td>\n",
       "      <td>125.75850</td>\n",
       "      <td>123.63383</td>\n",
       "    </tr>\n",
       "    <tr>\n",
       "      <th>2013-10-03</th>\n",
       "      <td>BTC</td>\n",
       "      <td>108.58483</td>\n",
       "      <td>125.45500</td>\n",
       "      <td>125.66566</td>\n",
       "      <td>83.32833</td>\n",
       "    </tr>\n",
       "    <tr>\n",
       "      <th>2013-10-04</th>\n",
       "      <td>BTC</td>\n",
       "      <td>118.67466</td>\n",
       "      <td>108.58483</td>\n",
       "      <td>118.67500</td>\n",
       "      <td>107.05816</td>\n",
       "    </tr>\n",
       "    <tr>\n",
       "      <th>2013-10-05</th>\n",
       "      <td>BTC</td>\n",
       "      <td>121.33866</td>\n",
       "      <td>118.67466</td>\n",
       "      <td>121.93633</td>\n",
       "      <td>118.00566</td>\n",
       "    </tr>\n",
       "  </tbody>\n",
       "</table>\n",
       "</div>"
      ],
      "text/plain": [
       "           Currency  Closing Price (USD)  24h Open (USD)  24h High (USD)  \\\n",
       "Date                                                                       \n",
       "2013-10-01      BTC            123.65499       124.30466       124.75166   \n",
       "2013-10-02      BTC            125.45500       123.65499       125.75850   \n",
       "2013-10-03      BTC            108.58483       125.45500       125.66566   \n",
       "2013-10-04      BTC            118.67466       108.58483       118.67500   \n",
       "2013-10-05      BTC            121.33866       118.67466       121.93633   \n",
       "\n",
       "            24h Low (USD)  \n",
       "Date                       \n",
       "2013-10-01      122.56349  \n",
       "2013-10-02      123.63383  \n",
       "2013-10-03       83.32833  \n",
       "2013-10-04      107.05816  \n",
       "2013-10-05      118.00566  "
      ]
     },
     "execution_count": 17,
     "metadata": {},
     "output_type": "execute_result"
    }
   ],
   "source": [
    "# Import with pandas\n",
    "import pandas as pd \n",
    "# Let's read in our Bitcoin data and parse the dates\n",
    "df = pd.read_csv(\"BTC_USD_2013-10-01_2021-05-18-CoinDesk.csv\",\n",
    "                 parse_dates=[\"Date\"],\n",
    "                 index_col=[\"Date\"]) # prase the date column and tell pandas column 1 is a datetime \n",
    "\n",
    "df.head()"
   ]
  },
  {
   "cell_type": "code",
   "execution_count": 18,
   "metadata": {
    "colab": {
     "base_uri": "https://localhost:8080/",
     "height": 237
    },
    "id": "Kc9iFEdNLhbu",
    "outputId": "ffcbc2e6-755c-494a-c465-217a89ea1c27"
   },
   "outputs": [
    {
     "data": {
      "text/html": [
       "<div>\n",
       "<style scoped>\n",
       "    .dataframe tbody tr th:only-of-type {\n",
       "        vertical-align: middle;\n",
       "    }\n",
       "\n",
       "    .dataframe tbody tr th {\n",
       "        vertical-align: top;\n",
       "    }\n",
       "\n",
       "    .dataframe thead th {\n",
       "        text-align: right;\n",
       "    }\n",
       "</style>\n",
       "<table border=\"1\" class=\"dataframe\">\n",
       "  <thead>\n",
       "    <tr style=\"text-align: right;\">\n",
       "      <th></th>\n",
       "      <th>Currency</th>\n",
       "      <th>Closing Price (USD)</th>\n",
       "      <th>24h Open (USD)</th>\n",
       "      <th>24h High (USD)</th>\n",
       "      <th>24h Low (USD)</th>\n",
       "    </tr>\n",
       "    <tr>\n",
       "      <th>Date</th>\n",
       "      <th></th>\n",
       "      <th></th>\n",
       "      <th></th>\n",
       "      <th></th>\n",
       "      <th></th>\n",
       "    </tr>\n",
       "  </thead>\n",
       "  <tbody>\n",
       "    <tr>\n",
       "      <th>2021-05-14</th>\n",
       "      <td>BTC</td>\n",
       "      <td>49764.132082</td>\n",
       "      <td>49596.778891</td>\n",
       "      <td>51448.798576</td>\n",
       "      <td>46294.720180</td>\n",
       "    </tr>\n",
       "    <tr>\n",
       "      <th>2021-05-15</th>\n",
       "      <td>BTC</td>\n",
       "      <td>50032.693137</td>\n",
       "      <td>49717.354353</td>\n",
       "      <td>51578.312545</td>\n",
       "      <td>48944.346536</td>\n",
       "    </tr>\n",
       "    <tr>\n",
       "      <th>2021-05-16</th>\n",
       "      <td>BTC</td>\n",
       "      <td>47885.625255</td>\n",
       "      <td>49926.035067</td>\n",
       "      <td>50690.802950</td>\n",
       "      <td>47005.102292</td>\n",
       "    </tr>\n",
       "    <tr>\n",
       "      <th>2021-05-17</th>\n",
       "      <td>BTC</td>\n",
       "      <td>45604.615754</td>\n",
       "      <td>46805.537852</td>\n",
       "      <td>49670.414174</td>\n",
       "      <td>43868.638969</td>\n",
       "    </tr>\n",
       "    <tr>\n",
       "      <th>2021-05-18</th>\n",
       "      <td>BTC</td>\n",
       "      <td>43144.471291</td>\n",
       "      <td>46439.336570</td>\n",
       "      <td>46622.853437</td>\n",
       "      <td>42102.346430</td>\n",
       "    </tr>\n",
       "  </tbody>\n",
       "</table>\n",
       "</div>"
      ],
      "text/plain": [
       "           Currency  Closing Price (USD)  24h Open (USD)  24h High (USD)  \\\n",
       "Date                                                                       \n",
       "2021-05-14      BTC         49764.132082    49596.778891    51448.798576   \n",
       "2021-05-15      BTC         50032.693137    49717.354353    51578.312545   \n",
       "2021-05-16      BTC         47885.625255    49926.035067    50690.802950   \n",
       "2021-05-17      BTC         45604.615754    46805.537852    49670.414174   \n",
       "2021-05-18      BTC         43144.471291    46439.336570    46622.853437   \n",
       "\n",
       "            24h Low (USD)  \n",
       "Date                       \n",
       "2021-05-14   46294.720180  \n",
       "2021-05-15   48944.346536  \n",
       "2021-05-16   47005.102292  \n",
       "2021-05-17   43868.638969  \n",
       "2021-05-18   42102.346430  "
      ]
     },
     "execution_count": 18,
     "metadata": {},
     "output_type": "execute_result"
    }
   ],
   "source": [
    "df.tail()"
   ]
  },
  {
   "cell_type": "code",
   "execution_count": 19,
   "metadata": {
    "colab": {
     "base_uri": "https://localhost:8080/"
    },
    "id": "13JtOZsjLOnh",
    "outputId": "dba1c520-f7ae-4fda-8402-294d7c3c260e"
   },
   "outputs": [
    {
     "name": "stdout",
     "output_type": "stream",
     "text": [
      "<class 'pandas.core.frame.DataFrame'>\n",
      "DatetimeIndex: 2787 entries, 2013-10-01 to 2021-05-18\n",
      "Data columns (total 5 columns):\n",
      " #   Column               Non-Null Count  Dtype  \n",
      "---  ------               --------------  -----  \n",
      " 0   Currency             2787 non-null   object \n",
      " 1   Closing Price (USD)  2787 non-null   float64\n",
      " 2   24h Open (USD)       2787 non-null   float64\n",
      " 3   24h High (USD)       2787 non-null   float64\n",
      " 4   24h Low (USD)        2787 non-null   float64\n",
      "dtypes: float64(4), object(1)\n",
      "memory usage: 130.6+ KB\n"
     ]
    }
   ],
   "source": [
    "df.info()"
   ]
  },
  {
   "cell_type": "code",
   "execution_count": 20,
   "metadata": {
    "colab": {
     "base_uri": "https://localhost:8080/"
    },
    "id": "TgehW_B4LTEK",
    "outputId": "e4aeda8e-fa21-488f-c5bb-2c2e18066ddc"
   },
   "outputs": [
    {
     "data": {
      "text/plain": [
       "2787"
      ]
     },
     "execution_count": 20,
     "metadata": {},
     "output_type": "execute_result"
    }
   ],
   "source": [
    "# How many samples do we have?\n",
    "len(df) "
   ]
  },
  {
   "cell_type": "markdown",
   "metadata": {
    "id": "a9tMEZD2Lx_v"
   },
   "source": [
    "We've collected the historical price of Bitcoin for the past ~8 years but there's 2787 samples.\n",
    "\n",
    "Typically deep learning models usually like lots and lots and lots of samples (where lots and lots and lots can thousands to tens of thousands to millions).\n",
    "\n",
    "A smaller number of samples is something you'll often run into with time series data problems.\n",
    "\n",
    "> 🔑 **Note:** The **seasonality** of a time series dataset is referred as the number of samples per year. So for our Bitcoin data, it has a seaonality of daily or value of 365 because we collect one sample per day meaning we'll get 365 samples per year."
   ]
  },
  {
   "cell_type": "code",
   "execution_count": 21,
   "metadata": {
    "colab": {
     "base_uri": "https://localhost:8080/",
     "height": 237
    },
    "id": "xWsVaSEALt_t",
    "outputId": "3b42156f-99cf-44e0-9e2a-a5fb6fac7510"
   },
   "outputs": [
    {
     "data": {
      "text/html": [
       "<div>\n",
       "<style scoped>\n",
       "    .dataframe tbody tr th:only-of-type {\n",
       "        vertical-align: middle;\n",
       "    }\n",
       "\n",
       "    .dataframe tbody tr th {\n",
       "        vertical-align: top;\n",
       "    }\n",
       "\n",
       "    .dataframe thead th {\n",
       "        text-align: right;\n",
       "    }\n",
       "</style>\n",
       "<table border=\"1\" class=\"dataframe\">\n",
       "  <thead>\n",
       "    <tr style=\"text-align: right;\">\n",
       "      <th></th>\n",
       "      <th>Price</th>\n",
       "    </tr>\n",
       "    <tr>\n",
       "      <th>Date</th>\n",
       "      <th></th>\n",
       "    </tr>\n",
       "  </thead>\n",
       "  <tbody>\n",
       "    <tr>\n",
       "      <th>2013-10-01</th>\n",
       "      <td>123.65499</td>\n",
       "    </tr>\n",
       "    <tr>\n",
       "      <th>2013-10-02</th>\n",
       "      <td>125.45500</td>\n",
       "    </tr>\n",
       "    <tr>\n",
       "      <th>2013-10-03</th>\n",
       "      <td>108.58483</td>\n",
       "    </tr>\n",
       "    <tr>\n",
       "      <th>2013-10-04</th>\n",
       "      <td>118.67466</td>\n",
       "    </tr>\n",
       "    <tr>\n",
       "      <th>2013-10-05</th>\n",
       "      <td>121.33866</td>\n",
       "    </tr>\n",
       "  </tbody>\n",
       "</table>\n",
       "</div>"
      ],
      "text/plain": [
       "                Price\n",
       "Date                 \n",
       "2013-10-01  123.65499\n",
       "2013-10-02  125.45500\n",
       "2013-10-03  108.58483\n",
       "2013-10-04  118.67466\n",
       "2013-10-05  121.33866"
      ]
     },
     "execution_count": 21,
     "metadata": {},
     "output_type": "execute_result"
    }
   ],
   "source": [
    "# Only want closing price for each day\n",
    "bitcoin_prices = pd.DataFrame(df[\"Closing Price (USD)\"]).rename(columns={\"Closing Price (USD)\": \"Price\"})\n",
    "bitcoin_prices.head()"
   ]
  },
  {
   "cell_type": "code",
   "execution_count": 22,
   "metadata": {
    "colab": {
     "base_uri": "https://localhost:8080/",
     "height": 460
    },
    "id": "s_fMbNMlipCw",
    "outputId": "9536f770-ae03-4a66-8d71-802fc0f8e5bb"
   },
   "outputs": [
    {
     "data": {
      "image/png": "[encoded data removed]",
      "text/plain": [
       "<Figure size 720x504 with 1 Axes>"
      ]
     },
     "metadata": {
      "needs_background": "light"
     },
     "output_type": "display_data"
    }
   ],
   "source": [
    "import matplotlib.pyplot as plt\n",
    "bitcoin_prices.plot(figsize=(10, 7))\n",
    "plt.ylabel(\"BTC Price\")\n",
    "plt.title(\"Price of Bitcoin from 1 Oct 2013 to 18 May 2021\", fontsize=16)\n",
    "plt.legend(fontsize=14);"
   ]
  },
  {
   "cell_type": "markdown",
   "metadata": {
    "id": "aZx87HPrjGzv"
   },
   "source": [
    "## Importing time series data with Python's CSV module"
   ]
  },
  {
   "cell_type": "code",
   "execution_count": 23,
   "metadata": {
    "colab": {
     "base_uri": "https://localhost:8080/"
    },
    "id": "EN96pFTUkJ_T",
    "outputId": "6770c680-0fa1-49c7-c5e8-ad6054ba94e2"
   },
   "outputs": [
    {
     "data": {
      "text/plain": [
       "([datetime.datetime(2013, 10, 1, 0, 0),\n",
       "  datetime.datetime(2013, 10, 2, 0, 0),\n",
       "  datetime.datetime(2013, 10, 3, 0, 0),\n",
       "  datetime.datetime(2013, 10, 4, 0, 0),\n",
       "  datetime.datetime(2013, 10, 5, 0, 0),\n",
       "  datetime.datetime(2013, 10, 6, 0, 0),\n",
       "  datetime.datetime(2013, 10, 7, 0, 0),\n",
       "  datetime.datetime(2013, 10, 8, 0, 0),\n",
       "  datetime.datetime(2013, 10, 9, 0, 0),\n",
       "  datetime.datetime(2013, 10, 10, 0, 0)],\n",
       " [123.65499,\n",
       "  125.455,\n",
       "  108.58483,\n",
       "  118.67466,\n",
       "  121.33866,\n",
       "  120.65533,\n",
       "  121.795,\n",
       "  123.033,\n",
       "  124.049,\n",
       "  125.96116])"
      ]
     },
     "execution_count": 23,
     "metadata": {},
     "output_type": "execute_result"
    }
   ],
   "source": [
    "# Importing and formatting historical Bitcoin data with Python\n",
    "import csv\n",
    "from datetime import datetime\n",
    "\n",
    "timesteps = []\n",
    "btc_price = []\n",
    "with open(\"BTC_USD_2013-10-01_2021-05-18-CoinDesk.csv\", \"r\") as f:\n",
    "  csv_reader = csv.reader(f, delimiter=\",\")\n",
    "  next(csv_reader) # skip first line (this gets rid of the column titles)\n",
    "  for line in csv_reader:\n",
    "    timesteps.append(datetime.strptime(line[1], \"%Y-%m-%d\")) # get the dates as dates (not strings)\n",
    "    btc_price.append(float(line[2])) # get the closing price as float\n",
    "\n",
    "# View first 10 of each\n",
    "timesteps[:10], btc_price[:10]"
   ]
  },
  {
   "cell_type": "code",
   "execution_count": 24,
   "metadata": {
    "colab": {
     "base_uri": "https://localhost:8080/",
     "height": 460
    },
    "id": "BXCBGF9wlvQl",
    "outputId": "403e65ac-5521-4f89-ee03-e2f3467ab330"
   },
   "outputs": [
    {
     "data": {
      "image/png": "[encoded data removed]",
      "text/plain": [
       "<Figure size 720x504 with 1 Axes>"
      ]
     },
     "metadata": {
      "needs_background": "light"
     },
     "output_type": "display_data"
    }
   ],
   "source": [
    "# Plot from CSV\n",
    "import matplotlib.pyplot as plt\n",
    "# import numpy as np\n",
    "plt.figure(figsize=(10,7))\n",
    "plt.plot(timesteps, btc_price)\n",
    "plt.ylabel(\"BTC Price\")\n",
    "plt.title(\"Price of Bitcoin from 1 Oct 2013 to 18 May 2021\", fontsize=16)\n",
    "plt.xlabel(\"Date\");"
   ]
  },
  {
   "cell_type": "markdown",
   "metadata": {
    "id": "Ba8eBEebmaC9"
   },
   "source": [
    "## Format data part 1: Create train and test sets of our time series data"
   ]
  },
  {
   "cell_type": "markdown",
   "metadata": {
    "id": "Z_Z9izcjnR2M"
   },
   "source": [
    "### Creating train and test sets with time series data (the wrong way)"
   ]
  },
  {
   "cell_type": "code",
   "execution_count": 25,
   "metadata": {
    "colab": {
     "base_uri": "https://localhost:8080/",
     "height": 237
    },
    "id": "6AbpxZ4nnkQ_",
    "outputId": "8f4d2da8-919e-49b6-fe63-baa4cf67c8bb"
   },
   "outputs": [
    {
     "data": {
      "text/html": [
       "<div>\n",
       "<style scoped>\n",
       "    .dataframe tbody tr th:only-of-type {\n",
       "        vertical-align: middle;\n",
       "    }\n",
       "\n",
       "    .dataframe tbody tr th {\n",
       "        vertical-align: top;\n",
       "    }\n",
       "\n",
       "    .dataframe thead th {\n",
       "        text-align: right;\n",
       "    }\n",
       "</style>\n",
       "<table border=\"1\" class=\"dataframe\">\n",
       "  <thead>\n",
       "    <tr style=\"text-align: right;\">\n",
       "      <th></th>\n",
       "      <th>Price</th>\n",
       "    </tr>\n",
       "    <tr>\n",
       "      <th>Date</th>\n",
       "      <th></th>\n",
       "    </tr>\n",
       "  </thead>\n",
       "  <tbody>\n",
       "    <tr>\n",
       "      <th>2013-10-01</th>\n",
       "      <td>123.65499</td>\n",
       "    </tr>\n",
       "    <tr>\n",
       "      <th>2013-10-02</th>\n",
       "      <td>125.45500</td>\n",
       "    </tr>\n",
       "    <tr>\n",
       "      <th>2013-10-03</th>\n",
       "      <td>108.58483</td>\n",
       "    </tr>\n",
       "    <tr>\n",
       "      <th>2013-10-04</th>\n",
       "      <td>118.67466</td>\n",
       "    </tr>\n",
       "    <tr>\n",
       "      <th>2013-10-05</th>\n",
       "      <td>121.33866</td>\n",
       "    </tr>\n",
       "  </tbody>\n",
       "</table>\n",
       "</div>"
      ],
      "text/plain": [
       "                Price\n",
       "Date                 \n",
       "2013-10-01  123.65499\n",
       "2013-10-02  125.45500\n",
       "2013-10-03  108.58483\n",
       "2013-10-04  118.67466\n",
       "2013-10-05  121.33866"
      ]
     },
     "execution_count": 25,
     "metadata": {},
     "output_type": "execute_result"
    }
   ],
   "source": [
    "bitcoin_prices[:5]"
   ]
  },
  {
   "cell_type": "code",
   "execution_count": 26,
   "metadata": {
    "colab": {
     "base_uri": "https://localhost:8080/"
    },
    "id": "rZ3-m8sAnWWT",
    "outputId": "22325496-1a8a-4211-eb55-85add383d018"
   },
   "outputs": [
    {
     "data": {
      "text/plain": [
       "(array(['2013-10-01T00:00:00.000000000', '2013-10-02T00:00:00.000000000',\n",
       "        '2013-10-03T00:00:00.000000000', '2013-10-04T00:00:00.000000000',\n",
       "        '2013-10-05T00:00:00.000000000', '2013-10-06T00:00:00.000000000',\n",
       "        '2013-10-07T00:00:00.000000000', '2013-10-08T00:00:00.000000000',\n",
       "        '2013-10-09T00:00:00.000000000', '2013-10-10T00:00:00.000000000'],\n",
       "       dtype='datetime64[ns]'),\n",
       " array([123.65499, 125.455  , 108.58483, 118.67466, 121.33866, 120.65533,\n",
       "        121.795  , 123.033  , 124.049  , 125.96116]))"
      ]
     },
     "execution_count": 26,
     "metadata": {},
     "output_type": "execute_result"
    }
   ],
   "source": [
    "# Get bitcoin date array\n",
    "timesteps = bitcoin_prices.index.to_numpy()\n",
    "prices = bitcoin_prices[\"Price\"].to_numpy()\n",
    "\n",
    "timesteps[:10], prices[:10]"
   ]
  },
  {
   "cell_type": "code",
   "execution_count": 27,
   "metadata": {
    "colab": {
     "base_uri": "https://localhost:8080/"
    },
    "id": "Q4KzJw8KnwNB",
    "outputId": "306a791e-ffd3-44f4-c85d-5666d9fef9a3"
   },
   "outputs": [
    {
     "data": {
      "text/plain": [
       "((2229,), (558,), (2229,), (558,))"
      ]
     },
     "execution_count": 27,
     "metadata": {},
     "output_type": "execute_result"
    }
   ],
   "source": [
    "# Wrong way to make train/test sets for time series data\n",
    "from sklearn.model_selection import train_test_split\n",
    "\n",
    "X_train, X_test, y_train, y_test = train_test_split(timesteps, # dates\n",
    "                                                    prices, # BTC prices\n",
    "                                                    test_size=0.2,\n",
    "                                                    random_state=42)\n",
    "\n",
    "X_train.shape, X_test.shape, y_train.shape, y_test.shape"
   ]
  },
  {
   "cell_type": "code",
   "execution_count": 28,
   "metadata": {
    "colab": {
     "base_uri": "https://localhost:8080/",
     "height": 442
    },
    "id": "bY-txErSoWK8",
    "outputId": "a74af25d-0acb-4470-a085-afaba7c5031f"
   },
   "outputs": [
    {
     "data": {
      "image/png": "[encoded data removed]",
      "text/plain": [
       "<Figure size 720x504 with 1 Axes>"
      ]
     },
     "metadata": {
      "needs_background": "light"
     },
     "output_type": "display_data"
    }
   ],
   "source": [
    "# Let's plot wrong train and test splits\n",
    "plt.figure(figsize=(10, 7))\n",
    "plt.scatter(X_train, y_train, s=5, label=\"Train data\")\n",
    "plt.scatter(X_test, y_test, s=5, label=\"Test data\")\n",
    "plt.xlabel(\"Date\")\n",
    "plt.ylabel(\"BTC Price\")\n",
    "plt.legend(fontsize=14)\n",
    "plt.show();"
   ]
  },
  {
   "cell_type": "markdown",
   "metadata": {
    "id": "JG7I94Hno1Vk"
   },
   "source": [
    "### Create train & test sets for time series (the right way)"
   ]
  },
  {
   "cell_type": "code",
   "execution_count": 29,
   "metadata": {
    "colab": {
     "base_uri": "https://localhost:8080/"
    },
    "id": "BLdx_RY-punc",
    "outputId": "fa27b4d8-4838-46be-a7e8-59c2cbfe074f"
   },
   "outputs": [
    {
     "data": {
      "text/plain": [
       "(2229, 558, 2229, 558)"
      ]
     },
     "execution_count": 29,
     "metadata": {},
     "output_type": "execute_result"
    }
   ],
   "source": [
    "# Create train and test splits the right way for time series data\n",
    "split_size = int(0.8 * len(prices)) # 80% train, 20% test - you can change these values as needed, e.g. 90/10, 95/5\n",
    "\n",
    "# Create train data splits (everything before the split)\n",
    "X_train, y_train = timesteps[:split_size], prices[:split_size]\n",
    "\n",
    "# Create test data splits (everything beyond the split)\n",
    "X_test, y_test = timesteps[split_size:], prices[split_size:]\n",
    "\n",
    "len(X_train), len(X_test), len(y_train), len(y_test)"
   ]
  },
  {
   "cell_type": "code",
   "execution_count": 30,
   "metadata": {
    "colab": {
     "base_uri": "https://localhost:8080/",
     "height": 442
    },
    "id": "AJEVCOesqxZO",
    "outputId": "deb0f39c-b915-466c-e6fc-74341ba52e23"
   },
   "outputs": [
    {
     "data": {
      "image/png": "[encoded data removed]",
      "text/plain": [
       "<Figure size 720x504 with 1 Axes>"
      ]
     },
     "metadata": {
      "needs_background": "light"
     },
     "output_type": "display_data"
    }
   ],
   "source": [
    "# Plot correctly made splits\n",
    "plt.figure(figsize=(10,7))\n",
    "plt.scatter(X_train, y_train, s=5, label=\"Train data\")\n",
    "plt.scatter(X_test, y_test, s=5, label=\"Test data\")\n",
    "plt.xlabel(\"Date\")\n",
    "plt.ylabel(\"BTC Price\")\n",
    "plt.legend(fontsize=14)\n",
    "plt.show();"
   ]
  },
  {
   "cell_type": "markdown",
   "metadata": {
    "id": "3AOFi2Bmq4rI"
   },
   "source": [
    "## Create a plotting function\n",
    "\n",
    "Typing plotting code is tedious, let's functionize it."
   ]
  },
  {
   "cell_type": "code",
   "execution_count": 31,
   "metadata": {
    "id": "8SfWf5Efr1-U"
   },
   "outputs": [],
   "source": [
    "# Create a function to plot time series data\n",
    "def plot_time_series(timesteps, values, format=\".\", start=0, end=None, label=None):\n",
    "  \"\"\"\n",
    "  Plots timesteps (a series of points in time) against values (a series of values across timesteps).\n",
    "\n",
    "  Parameters\n",
    "  ----------\n",
    "  timesteps : array of timestep values\n",
    "  values : array of values across time\n",
    "  format : style of plot, default \".\"\n",
    "  start : where to start the plot (setting a value will index from start of timesteps & values)\n",
    "  end : where to end the plot (similar to start but for the end)\n",
    "  label : label to show on plot about values, default None \n",
    "  \"\"\"\n",
    "  # Plot the series\n",
    "  plt.plot(timesteps[start:end], values[start:end], format, label=label)\n",
    "  plt.xlabel(\"Time\")\n",
    "  plt.ylabel(\"BTC Price\")\n",
    "  if label:\n",
    "    plt.legend(fontsize=14) # make label bigger\n",
    "  plt.grid(True)"
   ]
  },
  {
   "cell_type": "code",
   "execution_count": 32,
   "metadata": {
    "colab": {
     "base_uri": "https://localhost:8080/",
     "height": 442
    },
    "id": "zOCurwEws78H",
    "outputId": "f89fda25-60cb-47a3-b2a1-be3f4184c3d0"
   },
   "outputs": [
    {
     "data": {
      "image/png": "[encoded data removed]",
      "text/plain": [
       "<Figure size 720x504 with 1 Axes>"
      ]
     },
     "metadata": {
      "needs_background": "light"
     },
     "output_type": "display_data"
    }
   ],
   "source": [
    "# Test out plotting function\n",
    "plt.figure(figsize=(10, 7))\n",
    "plot_time_series(timesteps=X_train, values=y_train, label=\"Train data\")\n",
    "plot_time_series(timesteps=X_test, values=y_test, label=\"Test data\")"
   ]
  },
  {
   "cell_type": "markdown",
   "metadata": {
    "id": "WaxqiCdRtLup"
   },
   "source": [
    "## Modelling Experiments\n",
    "\n",
    "We've got some Bitcoin historical data, to model it, let's run a series of modelling experiments and see which model performs best.\n",
    "\n",
    "Terms to be familiar with:\n",
    "* **Horizon** = number of timesteps into the future we're going to predict\n",
    "* **Window size** = number of timesteps we're going to use to predict **horizon**\n",
    "\n",
    "Modelling experiments we're running:\n",
    "* 0\tNaïve model (baseline)\t\n",
    "* 1\tDense model, horizon = 1, window = 7\n",
    "* 2\tSame as 1, \thorizon = 1, window = 30\n",
    "* 3\tSame as 1, \thorizon = 7, window =\t30\n",
    "* 4\tConv1D\n",
    "* 5\tLSTM\n",
    "* 6\tSame as 1 (but with multivariate data)\n",
    "* 7\tN-BEATs Algorithm\n",
    "* 8\tEnsemble (multiple models optimized on different loss functions)\n",
    "* 9\tFuture prediction model (model to predict future values)\n",
    "* 10\tSame as 1 (but with turkey 🦃 data introduced)"
   ]
  },
  {
   "cell_type": "markdown",
   "metadata": {
    "id": "B-6fXuiCuW4d"
   },
   "source": [
    "## Model 0: Naive forecast (baseline)\n",
    "\n",
    "The formula looks like this:\n",
    "\n",
    "$$\\hat{y}_{t} = y_{t-1}$$\n",
    "\n",
    "In English:\n",
    "\n",
    "> The prediction at timestep t (y-hat) is equal to the value at timestep t-1 (previous timestep) - this is for a horizon of 1."
   ]
  },
  {
   "cell_type": "code",
   "execution_count": 33,
   "metadata": {
    "colab": {
     "base_uri": "https://localhost:8080/"
    },
    "id": "2bF3BqdiVMYv",
    "outputId": "f2e29b39-8b19-4c30-edc6-ea5785017ae4"
   },
   "outputs": [
    {
     "data": {
      "text/plain": [
       "array([9226.48582088, 8794.35864452, 8798.04205463, 9081.18687849,\n",
       "       8711.53433917, 8760.89271814, 8749.52059102, 8656.97092235,\n",
       "       8500.64355816, 8469.2608989 ])"
      ]
     },
     "execution_count": 33,
     "metadata": {},
     "output_type": "execute_result"
    }
   ],
   "source": [
    "y_test[:10]"
   ]
  },
  {
   "cell_type": "code",
   "execution_count": 34,
   "metadata": {
    "colab": {
     "base_uri": "https://localhost:8080/"
    },
    "id": "1XaJUjCJUeBp",
    "outputId": "d5784334-3606-4aab-81f9-e36a2037b7e4"
   },
   "outputs": [
    {
     "data": {
      "text/plain": [
       "(array([9226.48582088, 8794.35864452, 8798.04205463, 9081.18687849,\n",
       "        8711.53433917, 8760.89271814, 8749.52059102, 8656.97092235,\n",
       "        8500.64355816, 8469.2608989 ]),\n",
       " array([57107.12067189, 58788.20967893, 58102.19142623, 55715.54665129,\n",
       "        56573.5554719 , 52147.82118698, 49764.1320816 , 50032.69313676,\n",
       "        47885.62525472, 45604.61575361]))"
      ]
     },
     "execution_count": 34,
     "metadata": {},
     "output_type": "execute_result"
    }
   ],
   "source": [
    "# Create a naive forecast \n",
    "naive_forecast = y_test[:-1]\n",
    "\n",
    "naive_forecast[:10], naive_forecast[-10:]"
   ]
  },
  {
   "cell_type": "code",
   "execution_count": 35,
   "metadata": {
    "colab": {
     "base_uri": "https://localhost:8080/",
     "height": 442
    },
    "id": "HWqzKEeBVSEf",
    "outputId": "4e9b81d2-c1d3-4402-eec9-9059d160f07f"
   },
   "outputs": [
    {
     "data": {
      "image/png": "[encoded data removed]",
      "text/plain": [
       "<Figure size 720x504 with 1 Axes>"
      ]
     },
     "metadata": {
      "needs_background": "light"
     },
     "output_type": "display_data"
    }
   ],
   "source": [
    "# Plot naive forecast\n",
    "plt.figure(figsize=(10, 7))\n",
    "# plot_time_series(timesteps=X_train, values=y_train, label=\"Train data\")\n",
    "plot_time_series(timesteps=X_test, values=y_test, start=350, format=\"-\", label=\"Test data\")\n",
    "plot_time_series(timesteps=X_test[1:], values=naive_forecast, start=350, format=\"-\", label=\"Naive Forecast\")"
   ]
  },
  {
   "cell_type": "markdown",
   "metadata": {
    "id": "xyB0WB5BVYkr"
   },
   "source": [
    "> 🛠 **Exercise:** Spend 10 minutes reading the [simple forecasts chapter of Forecasting: Principles in Practice](https://otexts.com/fpp3/simple-methods.html). And have a search to find out why the naive forecast is hard to beat, does the term augoregressive come up? "
   ]
  },
  {
   "cell_type": "markdown",
   "metadata": {
    "id": "4E6ikh3uW0tR"
   },
   "source": [
    "## Evaluating a time series model\n",
    "\n",
    "Let's look into some evaluation metrics for time series forecasting. \n",
    "\n",
    "What are we doing?\n",
    "\n",
    "We're predicting a number, so that means we have a form of a regression problem.\n",
    "\n",
    "Because we're working on a regression problem, we'll need some regression-like metrics.\n",
    "\n",
    "A few common regression metrics (which can also be used for time series forecasting):\n",
    "* MAE - mean absolute error\n",
    "* MSE - mean squared error\n",
    "* RMSE - root mean square error\n",
    "* MAPE/sMAPE - (symmetric) mean absolute percentage error\n",
    "* MASE - mean absolute scaled error\n",
    "\n",
    "For all of the above metrics, **lower is better**, for example, an MAE of 0 that is better than an MAE of 100.\n",
    "\n",
    "The main thing we're evaluating here is: **how do our model's forecasts (y_pred) compare against the actual values (y_true or ground truth values)?**\n",
    "\n",
    "> 📖 **Resource:** For a deeper dive on the various kinds of time series forecasting methods see [Forecasting: Principles and Practice chapter 5.8](https://otexts.com/fpp3/accuracy.html) "
   ]
  },
  {
   "cell_type": "code",
   "execution_count": 36,
   "metadata": {
    "id": "aTUW73kxYcuJ"
   },
   "outputs": [],
   "source": [
    "import tensorflow as tf"
   ]
  },
  {
   "cell_type": "code",
   "execution_count": 37,
   "metadata": {
    "id": "Ri9UJeT7docU"
   },
   "outputs": [],
   "source": [
    "# MASE implementation\n",
    "def mean_absolute_scaled_error(y_true, y_pred):\n",
    "  \"\"\"\n",
    "  Implement MASE (assuming no seasonality of data).\n",
    "  \"\"\"\n",
    "  mae = tf.reduce_mean(tf.abs(y_true-y_pred))\n",
    "\n",
    "  # Find MAE of naive forecast (no seasonality)\n",
    "  mae_naive_no_season = tf.reduce_mean(tf.abs(y_true[1:] - y_true[:-1])) # our seasonality is 1 day (hence the shift of 1)\n",
    "\n",
    "  return mae / mae_naive_no_season"
   ]
  },
  {
   "cell_type": "code",
   "execution_count": 38,
   "metadata": {
    "colab": {
     "base_uri": "https://localhost:8080/"
    },
    "id": "FHntkDC9fASW",
    "outputId": "6de2447d-3a5a-40a6-8a2e-4a3a02756628"
   },
   "outputs": [
    {
     "data": {
      "text/plain": [
       "0.9995699939182626"
      ]
     },
     "execution_count": 38,
     "metadata": {},
     "output_type": "execute_result"
    }
   ],
   "source": [
    "# Test MASE (this value should = 1 or be very close to 1 with the naive forecast)\n",
    "mean_absolute_scaled_error(y_true=y_test[1:], y_pred=naive_forecast).numpy()"
   ]
  },
  {
   "cell_type": "code",
   "execution_count": 39,
   "metadata": {
    "id": "y9DH8zbWfGZn"
   },
   "outputs": [],
   "source": [
    "# Create a function to take in model predictions and truth values and return evaluation metrics\n",
    "def evaluate_preds(y_true, y_pred):\n",
    "  # Make sure float32 datatype (for metric calculations)\n",
    "  y_true = tf.cast(y_true, dtype=tf.float32)\n",
    "  y_pred = tf.cast(y_pred, dtype=tf.float32)\n",
    "\n",
    "  # Calculate various evaluation metrics \n",
    "  mae = tf.keras.metrics.mean_absolute_error(y_true, y_pred)\n",
    "  mse = tf.keras.metrics.mean_squared_error(y_true, y_pred)\n",
    "  rmse = tf.sqrt(mse)\n",
    "  mape = tf.keras.metrics.mean_absolute_percentage_error(y_true, y_pred)\n",
    "  mase = mean_absolute_scaled_error(y_true, y_pred)\n",
    "\n",
    "  return {\"mae\": mae.numpy(),\n",
    "          \"mse\": mse.numpy(),\n",
    "          \"rmse\": rmse.numpy(),\n",
    "          \"mape\": mape.numpy(),\n",
    "          \"mase\": mase.numpy()}"
   ]
  },
  {
   "cell_type": "markdown",
   "metadata": {
    "id": "M12zmyLfij7t"
   },
   "source": [
    "That's one good looking evaluation function! \n",
    "\n",
    "Let's now see if it works..."
   ]
  },
  {
   "cell_type": "code",
   "execution_count": 40,
   "metadata": {
    "colab": {
     "base_uri": "https://localhost:8080/"
    },
    "id": "wYZCjJ6eiRH6",
    "outputId": "47f93cbb-cc21-4c34-a288-f1a26de46987"
   },
   "outputs": [
    {
     "data": {
      "text/plain": [
       "{'mae': 567.9802,\n",
       " 'mse': 1147547.0,\n",
       " 'rmse': 1071.2362,\n",
       " 'mape': 2.5165248,\n",
       " 'mase': 0.99957}"
      ]
     },
     "execution_count": 40,
     "metadata": {},
     "output_type": "execute_result"
    }
   ],
   "source": [
    "naive_results = evaluate_preds(y_true=y_test[1:],\n",
    "                               y_pred=naive_forecast)\n",
    "\n",
    "naive_results"
   ]
  },
  {
   "cell_type": "code",
   "execution_count": 41,
   "metadata": {
    "colab": {
     "base_uri": "https://localhost:8080/"
    },
    "id": "FgXYQtYPiv1l",
    "outputId": "f09dfc37-d581-451d-8565-527372d6b2c2"
   },
   "outputs": [
    {
     "data": {
      "text/plain": [
       "array([57107.12067189, 58788.20967893, 58102.19142623, 55715.54665129,\n",
       "       56573.5554719 , 52147.82118698, 49764.1320816 , 50032.69313676,\n",
       "       47885.62525472, 45604.61575361])"
      ]
     },
     "execution_count": 41,
     "metadata": {},
     "output_type": "execute_result"
    }
   ],
   "source": [
    "naive_forecast[-10:]"
   ]
  },
  {
   "cell_type": "code",
   "execution_count": 42,
   "metadata": {
    "colab": {
     "base_uri": "https://localhost:8080/"
    },
    "id": "iB4G0Efci79b",
    "outputId": "e68f6681-5a55-4aec-d5ba-3ca929cac6dd"
   },
   "outputs": [
    {
     "data": {
      "text/plain": [
       "<tf.Tensor: shape=(), dtype=float64, numpy=20056.63296373722>"
      ]
     },
     "execution_count": 42,
     "metadata": {},
     "output_type": "execute_result"
    }
   ],
   "source": [
    "tf.reduce_mean(y_test)"
   ]
  },
  {
   "cell_type": "code",
   "execution_count": 43,
   "metadata": {
    "colab": {
     "base_uri": "https://localhost:8080/"
    },
    "id": "1ZsOislljJLC",
    "outputId": "38027cd3-0e7b-43eb-b7da-d2bf498d2098"
   },
   "outputs": [
    {
     "data": {
      "text/plain": [
       "(<tf.Tensor: shape=(), dtype=float64, numpy=4944.7023359837>,\n",
       " <tf.Tensor: shape=(), dtype=float64, numpy=63346.7890351052>)"
      ]
     },
     "execution_count": 43,
     "metadata": {},
     "output_type": "execute_result"
    }
   ],
   "source": [
    "tf.reduce_min(y_test), tf.reduce_max(y_test)"
   ]
  },
  {
   "cell_type": "markdown",
   "metadata": {
    "id": "pQ8DYMr5kqMB"
   },
   "source": [
    "## Other models you can use for baselines and for actual forecasts\n",
    "\n",
    "In this notebook, we're focused on TensorFlow and deep learning models.\n",
    "\n",
    "However there are plenty of other styles of time series forecasting models you may want to experiment with: https://dev.mrdbourke.com/tensorflow-deep-learning/10_time_series_forecasting_in_tensorflow/#other-kinds-of-time-series-forecasting-models-which-can-be-used-for-baselines-and-actual-forecasts"
   ]
  },
  {
   "cell_type": "markdown",
   "metadata": {
    "id": "zNSjBCC0lV4C"
   },
   "source": [
    "## Format Data Part 2: Windowing our dataset\n",
    "\n",
    "Why do we window?\n",
    "\n",
    "We window our time series dataset to turn our data into a supervised learning problem.\n",
    "\n",
    "```\n",
    "Windowing for one week\n",
    "[0, 1, 2, 3, 4, 5, 6] -> [7]\n",
    "[1, 2, 3, 4, 5, 6, 7] -> [8]\n",
    "[2, 3, 4, 5, 6, 7, 8] -> [9]\n",
    "```"
   ]
  },
  {
   "cell_type": "code",
   "execution_count": 44,
   "metadata": {
    "colab": {
     "base_uri": "https://localhost:8080/"
    },
    "id": "mO83vwUUBTzx",
    "outputId": "8efbd8f0-1484-4cc4-c78b-090acb0ce419"
   },
   "outputs": [
    {
     "name": "stdout",
     "output_type": "stream",
     "text": [
      "We want to use: [123.65499, 125.455, 108.58483, 118.67466, 121.33866, 120.65533, 121.795] to predict this: 123.033\n"
     ]
    }
   ],
   "source": [
    "# What we want to do with our Bitcoin data\n",
    "print(f\"We want to use: {btc_price[:7]} to predict this: {btc_price[7]}\")"
   ]
  },
  {
   "cell_type": "code",
   "execution_count": 45,
   "metadata": {
    "id": "jp7E4UGUBYRi"
   },
   "outputs": [],
   "source": [
    "# Let's setup global variables for window and horizon size\n",
    "HORIZON = 1 # predict next 1 day\n",
    "WINDOW_SIZE = 7 # use the past week of Bitcoin data to make the prediction"
   ]
  },
  {
   "cell_type": "code",
   "execution_count": 46,
   "metadata": {
    "id": "d4zzCy_kB8os"
   },
   "outputs": [],
   "source": [
    "# Create function to label windowed data\n",
    "def get_labelled_windows(x, horizon=HORIZON):\n",
    "  \"\"\"\n",
    "  Creates labels for windowed dataset.\n",
    "\n",
    "  E.g. if horizon=1\n",
    "  Input: [0, 1, 2, 3, 4, 5, 6, 7] -> Output: ([0, 1, 2, 3, 4, 5, 6], [7])\n",
    "  \"\"\"\n",
    "  return x[:, :-horizon], x[:, -horizon:]"
   ]
  },
  {
   "cell_type": "code",
   "execution_count": 47,
   "metadata": {
    "colab": {
     "base_uri": "https://localhost:8080/"
    },
    "id": "w0t9AX4ODBhr",
    "outputId": "891abe45-d083-4e65-eb08-1d4bc81090e1"
   },
   "outputs": [
    {
     "name": "stdout",
     "output_type": "stream",
     "text": [
      "Window: [0 1 2 3 4 5 6] -> Label: 7\n"
     ]
    }
   ],
   "source": [
    "# Test out the window labelling function\n",
    "test_window, test_label = get_labelled_windows(tf.expand_dims(tf.range(8), axis=0))\n",
    "print(f\"Window: {tf.squeeze(test_window).numpy()} -> Label: {tf.squeeze(test_label).numpy()}\")"
   ]
  },
  {
   "cell_type": "markdown",
   "metadata": {
    "id": "h5xkNlcUDS58"
   },
   "source": [
    "We've got a way to label our windowed data.\n",
    "\n",
    "However, this only works on a small scale.\n",
    "\n",
    "We need a way to do the above across our entire time series.\n",
    "\n",
    "We could do this with Python for loops, however, for large time series, that'd be quite lsow.\n",
    "\n",
    "To speed things up, we'll leverage NumPy's array indexing - https://numpy.org/doc/stable/reference/arrays.indexing.html.\n",
    "\n",
    "Our function will:\n",
    "1. Create a window step of specific window size (e.g. [0, 1, 2, 3, 4, 5, 6])\n",
    "2. Use NumPy indexing to create a 2D array of multiple window steps, for example: \n",
    "```\n",
    "[[0, 1, 2, 3, 4, 5, 6],\n",
    "[1, 2, 3, 4, 5, 6, 7],\n",
    "[2, 3, 4, 5, 6, 7, 8]]\n",
    "```\n",
    "3. Uses the 2D array of multiple window steps (from 2.) to index on a target series (e.g. the historical price of Bitcoin)\n",
    "4. Uses our `get_labelled_windows()` function we created above to turn the window steps into windows with a specified horizon \n",
    "\n",
    "> 📖 **Resource:** The function we're about to create has been adapted from the following article: https://towardsdatascience.com/fast-and-robust-sliding-window-vectorization-with-numpy-3ad950ed62f5"
   ]
  },
  {
   "cell_type": "code",
   "execution_count": 48,
   "metadata": {
    "id": "G9oq1ZeDH8FC"
   },
   "outputs": [],
   "source": [
    "import numpy as np\n",
    "\n",
    "# Create function to view NumPy arrays as windows\n",
    "def make_windows(x, window_size=WINDOW_SIZE, horizon=HORIZON):\n",
    "  \"\"\"\n",
    "  Turns a 1D array into a 2D array of sequential labelled windows of window_size with horizon size labels.\n",
    "  \"\"\"\n",
    "  # 1. Create a window of specific window_size (add the horzion on the end for labelling later)\n",
    "  window_step = np.expand_dims(np.arange(window_size+horizon), axis=0)\n",
    "\n",
    "  # 2. Create a 2D array of multiple window steps (minus 1 to account for 0 indexing)\n",
    "  window_indexes = window_step + np.expand_dims(np.arange(len(x)-(window_size+horizon-1)), axis=0).T \n",
    "        # create 2D array of windows of size window_size\n",
    "  # print(f\"Window indexes:\\n {window_indexes, window_indexes.shape}\")\n",
    "\n",
    "  # 3. Index on the target array (a time series) with 2D array of multiple window steps\n",
    "  windowed_array = x[window_indexes]\n",
    "  # print(windowed_array)\n",
    "\n",
    "  # 4. Get the labelled windows\n",
    "  windows, labels = get_labelled_windows(windowed_array, horizon=horizon)\n",
    "  return windows, labels"
   ]
  },
  {
   "cell_type": "code",
   "execution_count": 49,
   "metadata": {
    "colab": {
     "base_uri": "https://localhost:8080/"
    },
    "id": "5OC0CBrzK2tb",
    "outputId": "64843d78-9b8f-4867-f4cd-2995570a4106"
   },
   "outputs": [
    {
     "data": {
      "text/plain": [
       "(2780, 2780)"
      ]
     },
     "execution_count": 49,
     "metadata": {},
     "output_type": "execute_result"
    }
   ],
   "source": [
    "full_windows, full_labels = make_windows(prices, window_size=WINDOW_SIZE, horizon=HORIZON)\n",
    "len(full_windows), len(full_labels)"
   ]
  },
  {
   "cell_type": "code",
   "execution_count": 50,
   "metadata": {
    "colab": {
     "base_uri": "https://localhost:8080/"
    },
    "id": "WCMXpFHyJ-pZ",
    "outputId": "bc6f5cfe-c739-4208-c0d9-a18a3af00c36"
   },
   "outputs": [
    {
     "name": "stdout",
     "output_type": "stream",
     "text": [
      "Window: [123.65499 125.455   108.58483 118.67466 121.33866 120.65533 121.795  ] -> Label: [123.033]\n",
      "Window: [125.455   108.58483 118.67466 121.33866 120.65533 121.795   123.033  ] -> Label: [124.049]\n",
      "Window: [108.58483 118.67466 121.33866 120.65533 121.795   123.033   124.049  ] -> Label: [125.96116]\n"
     ]
    }
   ],
   "source": [
    "# View the first 3 windows/labels\n",
    "for i in range(3):\n",
    "  print(f\"Window: {full_windows[i]} -> Label: {full_labels[i]}\")"
   ]
  },
  {
   "cell_type": "code",
   "execution_count": 51,
   "metadata": {
    "colab": {
     "base_uri": "https://localhost:8080/"
    },
    "id": "6tmFye6IJ-1i",
    "outputId": "a5b31aef-bc69-4e3c-b2f8-e801a692ec3b"
   },
   "outputs": [
    {
     "name": "stdout",
     "output_type": "stream",
     "text": [
      "Window: [58788.20967893 58102.19142623 55715.54665129 56573.5554719\n",
      " 52147.82118698 49764.1320816  50032.69313676] -> Label: [47885.62525472]\n",
      "Window: [58102.19142623 55715.54665129 56573.5554719  52147.82118698\n",
      " 49764.1320816  50032.69313676 47885.62525472] -> Label: [45604.61575361]\n",
      "Window: [55715.54665129 56573.5554719  52147.82118698 49764.1320816\n",
      " 50032.69313676 47885.62525472 45604.61575361] -> Label: [43144.47129086]\n"
     ]
    }
   ],
   "source": [
    "# View the last 3 windows/labels\n",
    "for i in range(3):\n",
    "  print(f\"Window: {full_windows[i-3]} -> Label: {full_labels[i-3]}\")"
   ]
  },
  {
   "cell_type": "markdown",
   "metadata": {
    "id": "Xeh1a75VMukG"
   },
   "source": [
    "> 🔑 **Note:** There's a function which does similar to the above in tf.keras.preprocessing, an extension could be to try and replicate what we've done using the premade function: https://www.tensorflow.org/api_docs/python/tf/keras/preprocessing/timeseries_dataset_from_array "
   ]
  },
  {
   "cell_type": "markdown",
   "metadata": {
    "id": "YrRZA5BaNLwo"
   },
   "source": [
    "## Turning windows into training and test sets"
   ]
  },
  {
   "cell_type": "code",
   "execution_count": 52,
   "metadata": {
    "colab": {
     "base_uri": "https://localhost:8080/"
    },
    "id": "BfwHlZ8Uh7Kq",
    "outputId": "c649cad0-cb20-4385-871c-6097780261bb"
   },
   "outputs": [
    {
     "data": {
      "text/plain": [
       "(array([[123.65499, 125.455  , 108.58483, 118.67466, 121.33866, 120.65533,\n",
       "         121.795  ],\n",
       "        [125.455  , 108.58483, 118.67466, 121.33866, 120.65533, 121.795  ,\n",
       "         123.033  ],\n",
       "        [108.58483, 118.67466, 121.33866, 120.65533, 121.795  , 123.033  ,\n",
       "         124.049  ],\n",
       "        [118.67466, 121.33866, 120.65533, 121.795  , 123.033  , 124.049  ,\n",
       "         125.96116],\n",
       "        [121.33866, 120.65533, 121.795  , 123.033  , 124.049  , 125.96116,\n",
       "         125.27966]]),\n",
       " array([[123.033  ],\n",
       "        [124.049  ],\n",
       "        [125.96116],\n",
       "        [125.27966],\n",
       "        [125.9275 ]]))"
      ]
     },
     "execution_count": 52,
     "metadata": {},
     "output_type": "execute_result"
    }
   ],
   "source": [
    "full_windows[:5], full_labels[:5]"
   ]
  },
  {
   "cell_type": "code",
   "execution_count": 53,
   "metadata": {
    "id": "AkFLtSivhlkD"
   },
   "outputs": [],
   "source": [
    "# Make the train/test splits\n",
    "def make_train_test_splits(windows, labels, test_split=0.2):\n",
    "  \"\"\"\n",
    "  Splits matching pairs of winodws and labels into train and test splits.\n",
    "  \"\"\"\n",
    "  split_size = int(len(windows) * (1-test_split)) # this will default to 80% train/20% test\n",
    "  train_windows = windows[:split_size]\n",
    "  train_labels = labels[:split_size]\n",
    "  test_windows = windows[split_size:]\n",
    "  test_labels = labels[split_size:]\n",
    "  return train_windows, test_windows, train_labels, test_labels"
   ]
  },
  {
   "cell_type": "code",
   "execution_count": 54,
   "metadata": {
    "colab": {
     "base_uri": "https://localhost:8080/"
    },
    "id": "LZ0-G24UivuN",
    "outputId": "13df4f06-b5bb-4747-e155-65e8c13aff6d"
   },
   "outputs": [
    {
     "data": {
      "text/plain": [
       "(2224, 556, 2224, 556)"
      ]
     },
     "execution_count": 54,
     "metadata": {},
     "output_type": "execute_result"
    }
   ],
   "source": [
    "# Create train and test windows \n",
    "train_windows, test_windows, train_labels, test_labels = make_train_test_splits(full_windows, full_labels)\n",
    "len(train_windows), len(test_windows), len(train_labels), len(test_labels)"
   ]
  },
  {
   "cell_type": "code",
   "execution_count": 55,
   "metadata": {
    "colab": {
     "base_uri": "https://localhost:8080/"
    },
    "id": "D70tmJQ2i9sW",
    "outputId": "8ae26e7b-ad30-4b03-c53e-63aba2f71d9a"
   },
   "outputs": [
    {
     "data": {
      "text/plain": [
       "(array([[123.65499, 125.455  , 108.58483, 118.67466, 121.33866, 120.65533,\n",
       "         121.795  ],\n",
       "        [125.455  , 108.58483, 118.67466, 121.33866, 120.65533, 121.795  ,\n",
       "         123.033  ],\n",
       "        [108.58483, 118.67466, 121.33866, 120.65533, 121.795  , 123.033  ,\n",
       "         124.049  ],\n",
       "        [118.67466, 121.33866, 120.65533, 121.795  , 123.033  , 124.049  ,\n",
       "         125.96116],\n",
       "        [121.33866, 120.65533, 121.795  , 123.033  , 124.049  , 125.96116,\n",
       "         125.27966]]),\n",
       " array([[123.033  ],\n",
       "        [124.049  ],\n",
       "        [125.96116],\n",
       "        [125.27966],\n",
       "        [125.9275 ]]))"
      ]
     },
     "execution_count": 55,
     "metadata": {},
     "output_type": "execute_result"
    }
   ],
   "source": [
    "train_windows[:5], train_labels[:5]"
   ]
  },
  {
   "cell_type": "code",
   "execution_count": 56,
   "metadata": {
    "colab": {
     "base_uri": "https://localhost:8080/"
    },
    "id": "Tp--pbXEi_su",
    "outputId": "39194b6e-75b3-442d-f24d-9323f4dfb35c"
   },
   "outputs": [
    {
     "data": {
      "text/plain": [
       "(array([[9290.89660239, 9202.41545055, 9369.62808116, 9326.59962378,\n",
       "         9335.75240233, 9226.48582088, 8794.35864452],\n",
       "        [9202.41545055, 9369.62808116, 9326.59962378, 9335.75240233,\n",
       "         9226.48582088, 8794.35864452, 8798.04205463],\n",
       "        [9369.62808116, 9326.59962378, 9335.75240233, 9226.48582088,\n",
       "         8794.35864452, 8798.04205463, 9081.18687849],\n",
       "        [9326.59962378, 9335.75240233, 9226.48582088, 8794.35864452,\n",
       "         8798.04205463, 9081.18687849, 8711.53433917],\n",
       "        [9335.75240233, 9226.48582088, 8794.35864452, 8798.04205463,\n",
       "         9081.18687849, 8711.53433917, 8760.89271814]]),\n",
       " array([[8798.04205463],\n",
       "        [9081.18687849],\n",
       "        [8711.53433917],\n",
       "        [8760.89271814],\n",
       "        [8749.52059102]]))"
      ]
     },
     "execution_count": 56,
     "metadata": {},
     "output_type": "execute_result"
    }
   ],
   "source": [
    "test_windows[:5], test_labels[:5]"
   ]
  },
  {
   "cell_type": "code",
   "execution_count": 57,
   "metadata": {
    "colab": {
     "base_uri": "https://localhost:8080/"
    },
    "id": "dl-G6WuljFnO",
    "outputId": "3ec38066-38ab-4a57-fcd6-43c9cbf37cab"
   },
   "outputs": [
    {
     "data": {
      "text/plain": [
       "True"
      ]
     },
     "execution_count": 57,
     "metadata": {},
     "output_type": "execute_result"
    }
   ],
   "source": [
    "# Check to see if train labels are the same (before and after window split)\n",
    "np.array_equal(np.squeeze(train_labels[:-HORIZON-1]), y_train[WINDOW_SIZE:])"
   ]
  },
  {
   "cell_type": "markdown",
   "metadata": {
    "id": "xGWSzLlPjZA0"
   },
   "source": [
    "## Make a modelling checkpoint callback\n",
    "\n",
    "Because our model's performance will fluctuate from experiment to experiment, we're going to write a model checkpoint so we can compare apples to apples.\n",
    "\n",
    "More specifically, we want to compare each of our model's best performances against the other model's best performances.\n",
    "\n",
    "For example if our model performs the best on epoch 55 (but we're training for 100 epochs), we want to load and evaluate the model saved on epoch 55.\n",
    "\n",
    "We can create a modelling checkpoint callback using the following: https://www.tensorflow.org/api_docs/python/tf/keras/callbacks/ModelCheckpoint"
   ]
  },
  {
   "cell_type": "code",
   "execution_count": 58,
   "metadata": {
    "id": "153_Dl36kFsh"
   },
   "outputs": [],
   "source": [
    "import os\n",
    "\n",
    "# Create a function to implement a ModelCheckpoint callback with a specific filename \n",
    "def create_model_checkpoint(model_name, save_path=\"model_experiments\"):\n",
    "  return tf.keras.callbacks.ModelCheckpoint(filepath=os.path.join(save_path, model_name),\n",
    "                                            monitor=\"val_loss\",\n",
    "                                            verbose=0, # only output a limited amount of text\n",
    "                                            save_best_only=True)"
   ]
  },
  {
   "cell_type": "markdown",
   "metadata": {
    "id": "FclMWbFslwxy"
   },
   "source": [
    "## Model 1: Dense model (window = 7, horizon = 1)\n",
    "\n",
    "Our first deep model is going to be a simple dense model:\n",
    "* A single dense layer with 128 hidden units and ReLU\n",
    "* An output layer with linear activation (no activation)\n",
    "* Adam optimizaiton and MAE loss function\n",
    "* Batch size of 128 (previously we've used 32) \n",
    "* 100 epochs \n",
    "\n",
    "Why these values?\n",
    "\n",
    "I picked them out of experimentation.\n",
    "\n",
    "* **Hyperparameters** = values a machine learning practitioner (you!) can adjust themselves\n",
    "* **Parameters** = values a model learns on its own"
   ]
  },
  {
   "cell_type": "code",
   "execution_count": 74,
   "metadata": {},
   "outputs": [
    {
     "data": {
      "text/html": [
       "<div>\n",
       "<style scoped>\n",
       "    .dataframe tbody tr th:only-of-type {\n",
       "        vertical-align: middle;\n",
       "    }\n",
       "\n",
       "    .dataframe tbody tr th {\n",
       "        vertical-align: top;\n",
       "    }\n",
       "\n",
       "    .dataframe thead th {\n",
       "        text-align: right;\n",
       "    }\n",
       "</style>\n",
       "<table border=\"1\" class=\"dataframe\">\n",
       "  <thead>\n",
       "    <tr style=\"text-align: right;\">\n",
       "      <th></th>\n",
       "      <th>0</th>\n",
       "      <th>1</th>\n",
       "      <th>2</th>\n",
       "      <th>3</th>\n",
       "      <th>4</th>\n",
       "      <th>5</th>\n",
       "      <th>6</th>\n",
       "    </tr>\n",
       "  </thead>\n",
       "  <tbody>\n",
       "    <tr>\n",
       "      <th>0</th>\n",
       "      <td>123.654990</td>\n",
       "      <td>125.455000</td>\n",
       "      <td>108.584830</td>\n",
       "      <td>118.674660</td>\n",
       "      <td>121.338660</td>\n",
       "      <td>120.655330</td>\n",
       "      <td>121.795000</td>\n",
       "    </tr>\n",
       "    <tr>\n",
       "      <th>1</th>\n",
       "      <td>125.455000</td>\n",
       "      <td>108.584830</td>\n",
       "      <td>118.674660</td>\n",
       "      <td>121.338660</td>\n",
       "      <td>120.655330</td>\n",
       "      <td>121.795000</td>\n",
       "      <td>123.033000</td>\n",
       "    </tr>\n",
       "    <tr>\n",
       "      <th>2</th>\n",
       "      <td>108.584830</td>\n",
       "      <td>118.674660</td>\n",
       "      <td>121.338660</td>\n",
       "      <td>120.655330</td>\n",
       "      <td>121.795000</td>\n",
       "      <td>123.033000</td>\n",
       "      <td>124.049000</td>\n",
       "    </tr>\n",
       "    <tr>\n",
       "      <th>3</th>\n",
       "      <td>118.674660</td>\n",
       "      <td>121.338660</td>\n",
       "      <td>120.655330</td>\n",
       "      <td>121.795000</td>\n",
       "      <td>123.033000</td>\n",
       "      <td>124.049000</td>\n",
       "      <td>125.961160</td>\n",
       "    </tr>\n",
       "    <tr>\n",
       "      <th>4</th>\n",
       "      <td>121.338660</td>\n",
       "      <td>120.655330</td>\n",
       "      <td>121.795000</td>\n",
       "      <td>123.033000</td>\n",
       "      <td>124.049000</td>\n",
       "      <td>125.961160</td>\n",
       "      <td>125.279660</td>\n",
       "    </tr>\n",
       "    <tr>\n",
       "      <th>...</th>\n",
       "      <td>...</td>\n",
       "      <td>...</td>\n",
       "      <td>...</td>\n",
       "      <td>...</td>\n",
       "      <td>...</td>\n",
       "      <td>...</td>\n",
       "      <td>...</td>\n",
       "    </tr>\n",
       "    <tr>\n",
       "      <th>2219</th>\n",
       "      <td>9458.223360</td>\n",
       "      <td>9455.724693</td>\n",
       "      <td>9225.995479</td>\n",
       "      <td>9131.410630</td>\n",
       "      <td>9197.632345</td>\n",
       "      <td>9290.896602</td>\n",
       "      <td>9202.415451</td>\n",
       "    </tr>\n",
       "    <tr>\n",
       "      <th>2220</th>\n",
       "      <td>9455.724693</td>\n",
       "      <td>9225.995479</td>\n",
       "      <td>9131.410630</td>\n",
       "      <td>9197.632345</td>\n",
       "      <td>9290.896602</td>\n",
       "      <td>9202.415451</td>\n",
       "      <td>9369.628081</td>\n",
       "    </tr>\n",
       "    <tr>\n",
       "      <th>2221</th>\n",
       "      <td>9225.995479</td>\n",
       "      <td>9131.410630</td>\n",
       "      <td>9197.632345</td>\n",
       "      <td>9290.896602</td>\n",
       "      <td>9202.415451</td>\n",
       "      <td>9369.628081</td>\n",
       "      <td>9326.599624</td>\n",
       "    </tr>\n",
       "    <tr>\n",
       "      <th>2222</th>\n",
       "      <td>9131.410630</td>\n",
       "      <td>9197.632345</td>\n",
       "      <td>9290.896602</td>\n",
       "      <td>9202.415451</td>\n",
       "      <td>9369.628081</td>\n",
       "      <td>9326.599624</td>\n",
       "      <td>9335.752402</td>\n",
       "    </tr>\n",
       "    <tr>\n",
       "      <th>2223</th>\n",
       "      <td>9197.632345</td>\n",
       "      <td>9290.896602</td>\n",
       "      <td>9202.415451</td>\n",
       "      <td>9369.628081</td>\n",
       "      <td>9326.599624</td>\n",
       "      <td>9335.752402</td>\n",
       "      <td>9226.485821</td>\n",
       "    </tr>\n",
       "  </tbody>\n",
       "</table>\n",
       "<p>2224 rows × 7 columns</p>\n",
       "</div>"
      ],
      "text/plain": [
       "                0            1            2            3            4  \\\n",
       "0      123.654990   125.455000   108.584830   118.674660   121.338660   \n",
       "1      125.455000   108.584830   118.674660   121.338660   120.655330   \n",
       "2      108.584830   118.674660   121.338660   120.655330   121.795000   \n",
       "3      118.674660   121.338660   120.655330   121.795000   123.033000   \n",
       "4      121.338660   120.655330   121.795000   123.033000   124.049000   \n",
       "...           ...          ...          ...          ...          ...   \n",
       "2219  9458.223360  9455.724693  9225.995479  9131.410630  9197.632345   \n",
       "2220  9455.724693  9225.995479  9131.410630  9197.632345  9290.896602   \n",
       "2221  9225.995479  9131.410630  9197.632345  9290.896602  9202.415451   \n",
       "2222  9131.410630  9197.632345  9290.896602  9202.415451  9369.628081   \n",
       "2223  9197.632345  9290.896602  9202.415451  9369.628081  9326.599624   \n",
       "\n",
       "                5            6  \n",
       "0      120.655330   121.795000  \n",
       "1      121.795000   123.033000  \n",
       "2      123.033000   124.049000  \n",
       "3      124.049000   125.961160  \n",
       "4      125.961160   125.279660  \n",
       "...           ...          ...  \n",
       "2219  9290.896602  9202.415451  \n",
       "2220  9202.415451  9369.628081  \n",
       "2221  9369.628081  9326.599624  \n",
       "2222  9326.599624  9335.752402  \n",
       "2223  9335.752402  9226.485821  \n",
       "\n",
       "[2224 rows x 7 columns]"
      ]
     },
     "execution_count": 74,
     "metadata": {},
     "output_type": "execute_result"
    }
   ],
   "source": [
    "aux = pd.DataFrame(train_windows)\n",
    "aux"
   ]
  },
  {
   "cell_type": "code",
   "execution_count": 72,
   "metadata": {},
   "outputs": [
    {
     "data": {
      "text/plain": [
       "(556, 1)"
      ]
     },
     "execution_count": 72,
     "metadata": {},
     "output_type": "execute_result"
    }
   ],
   "source": [
    "test_labels.shape"
   ]
  },
  {
   "cell_type": "code",
   "execution_count": 59,
   "metadata": {
    "colab": {
     "base_uri": "https://localhost:8080/"
    },
    "id": "GzULlhqUn9HK",
    "outputId": "4dfe8bbc-5127-43a2-8106-73b6feee0168"
   },
   "outputs": [
    {
     "name": "stdout",
     "output_type": "stream",
     "text": [
      "Epoch 1/100\n",
      "13/18 [====================>.........] - ETA: 0s - loss: 837.9736 - mae: 837.9736 - mse: 2698231.0000    "
     ]
    },
    {
     "name": "stderr",
     "output_type": "stream",
     "text": [
      "WARNING:absl:Found untraced functions such as _update_step_xla while saving (showing 1 of 1). These functions will not be directly callable after loading.\n"
     ]
    },
    {
     "name": "stdout",
     "output_type": "stream",
     "text": [
      "INFO:tensorflow:Assets written to: model_experiments\\model_1_dense\\assets\n"
     ]
    },
    {
     "name": "stderr",
     "output_type": "stream",
     "text": [
      "INFO:tensorflow:Assets written to: model_experiments\\model_1_dense\\assets\n"
     ]
    },
    {
     "name": "stdout",
     "output_type": "stream",
     "text": [
      "18/18 [==============================] - 5s 151ms/step - loss: 731.2769 - mae: 731.2769 - mse: 2159357.7500 - val_loss: 870.7572 - val_mae: 870.7572 - val_mse: 2488672.5000\n",
      "Epoch 2/100\n",
      "18/18 [==============================] - 0s 17ms/step - loss: 240.5693 - mae: 240.5693 - mse: 224299.1406 - val_loss: 939.6422 - val_mae: 939.6422 - val_mse: 2869478.2500\n",
      "Epoch 3/100\n",
      "18/18 [==============================] - 0s 15ms/step - loss: 173.1205 - mae: 173.1205 - mse: 149865.4219 - val_loss: 1093.8706 - val_mae: 1093.8706 - val_mse: 3197417.5000\n",
      "Epoch 4/100\n",
      "12/18 [===================>..........] - ETA: 0s - loss: 168.8138 - mae: 168.8138 - mse: 151248.0000"
     ]
    },
    {
     "name": "stderr",
     "output_type": "stream",
     "text": [
      "WARNING:absl:Found untraced functions such as _update_step_xla while saving (showing 1 of 1). These functions will not be directly callable after loading.\n"
     ]
    },
    {
     "name": "stdout",
     "output_type": "stream",
     "text": [
      "INFO:tensorflow:Assets written to: model_experiments\\model_1_dense\\assets\n"
     ]
    },
    {
     "name": "stderr",
     "output_type": "stream",
     "text": [
      "INFO:tensorflow:Assets written to: model_experiments\\model_1_dense\\assets\n"
     ]
    },
    {
     "name": "stdout",
     "output_type": "stream",
     "text": [
      "18/18 [==============================] - 2s 116ms/step - loss: 159.1660 - mae: 159.1660 - mse: 136986.2969 - val_loss: 849.7034 - val_mae: 849.7034 - val_mse: 2336256.0000\n",
      "Epoch 5/100\n",
      "13/18 [====================>.........] - ETA: 0s - loss: 153.0923 - mae: 153.0923 - mse: 131228.7344"
     ]
    },
    {
     "name": "stderr",
     "output_type": "stream",
     "text": [
      "WARNING:absl:Found untraced functions such as _update_step_xla while saving (showing 1 of 1). These functions will not be directly callable after loading.\n"
     ]
    },
    {
     "name": "stdout",
     "output_type": "stream",
     "text": [
      "INFO:tensorflow:Assets written to: model_experiments\\model_1_dense\\assets\n"
     ]
    },
    {
     "name": "stderr",
     "output_type": "stream",
     "text": [
      "INFO:tensorflow:Assets written to: model_experiments\\model_1_dense\\assets\n"
     ]
    },
    {
     "name": "stdout",
     "output_type": "stream",
     "text": [
      "18/18 [==============================] - 2s 96ms/step - loss: 151.2405 - mae: 151.2405 - mse: 128564.6484 - val_loss: 841.6389 - val_mae: 841.6389 - val_mse: 2266567.0000\n",
      "Epoch 6/100\n",
      "18/18 [==============================] - 0s 15ms/step - loss: 150.5598 - mae: 150.5598 - mse: 125534.6328 - val_loss: 860.1775 - val_mae: 860.1775 - val_mse: 2264423.2500\n",
      "Epoch 7/100\n",
      "18/18 [==============================] - 0s 15ms/step - loss: 149.2173 - mae: 149.2173 - mse: 125814.0156 - val_loss: 847.5103 - val_mae: 847.5103 - val_mse: 2203634.2500\n",
      "Epoch 8/100\n",
      "12/18 [===================>..........] - ETA: 0s - loss: 146.6898 - mae: 146.6898 - mse: 120718.7578"
     ]
    },
    {
     "name": "stderr",
     "output_type": "stream",
     "text": [
      "WARNING:absl:Found untraced functions such as _update_step_xla while saving (showing 1 of 1). These functions will not be directly callable after loading.\n"
     ]
    },
    {
     "name": "stdout",
     "output_type": "stream",
     "text": [
      "INFO:tensorflow:Assets written to: model_experiments\\model_1_dense\\assets\n"
     ]
    },
    {
     "name": "stderr",
     "output_type": "stream",
     "text": [
      "INFO:tensorflow:Assets written to: model_experiments\\model_1_dense\\assets\n"
     ]
    },
    {
     "name": "stdout",
     "output_type": "stream",
     "text": [
      "18/18 [==============================] - 2s 99ms/step - loss: 149.2313 - mae: 149.2313 - mse: 122486.9219 - val_loss: 807.8105 - val_mae: 807.8105 - val_mse: 2119881.7500\n",
      "Epoch 9/100\n",
      "14/18 [======================>.......] - ETA: 0s - loss: 145.6222 - mae: 145.6222 - mse: 117385.1875"
     ]
    },
    {
     "name": "stderr",
     "output_type": "stream",
     "text": [
      "WARNING:absl:Found untraced functions such as _update_step_xla while saving (showing 1 of 1). These functions will not be directly callable after loading.\n"
     ]
    },
    {
     "name": "stdout",
     "output_type": "stream",
     "text": [
      "INFO:tensorflow:Assets written to: model_experiments\\model_1_dense\\assets\n"
     ]
    },
    {
     "name": "stderr",
     "output_type": "stream",
     "text": [
      "INFO:tensorflow:Assets written to: model_experiments\\model_1_dense\\assets\n"
     ]
    },
    {
     "name": "stdout",
     "output_type": "stream",
     "text": [
      "18/18 [==============================] - 2s 103ms/step - loss: 148.4816 - mae: 148.4816 - mse: 120205.0312 - val_loss: 797.1016 - val_mae: 797.1016 - val_mse: 2061416.0000\n",
      "Epoch 10/100\n",
      "14/18 [======================>.......] - ETA: 0s - loss: 142.2298 - mae: 142.2298 - mse: 109885.8750"
     ]
    },
    {
     "name": "stderr",
     "output_type": "stream",
     "text": [
      "WARNING:absl:Found untraced functions such as _update_step_xla while saving (showing 1 of 1). These functions will not be directly callable after loading.\n"
     ]
    },
    {
     "name": "stdout",
     "output_type": "stream",
     "text": [
      "INFO:tensorflow:Assets written to: model_experiments\\model_1_dense\\assets\n"
     ]
    },
    {
     "name": "stderr",
     "output_type": "stream",
     "text": [
      "INFO:tensorflow:Assets written to: model_experiments\\model_1_dense\\assets\n"
     ]
    },
    {
     "name": "stdout",
     "output_type": "stream",
     "text": [
      "18/18 [==============================] - 2s 98ms/step - loss: 147.3070 - mae: 147.3070 - mse: 120694.3750 - val_loss: 787.7751 - val_mae: 787.7751 - val_mse: 2018869.1250\n",
      "Epoch 11/100\n",
      "18/18 [==============================] - 0s 15ms/step - loss: 144.4607 - mae: 144.4607 - mse: 117207.4766 - val_loss: 808.4006 - val_mae: 808.4006 - val_mse: 2009141.8750\n",
      "Epoch 12/100\n",
      "18/18 [==============================] - 0s 15ms/step - loss: 144.3758 - mae: 144.3758 - mse: 116189.5938 - val_loss: 991.6784 - val_mae: 991.6784 - val_mse: 2666470.2500\n",
      "Epoch 13/100\n",
      "18/18 [==============================] - 0s 14ms/step - loss: 151.6655 - mae: 151.6655 - mse: 123020.5156 - val_loss: 830.2314 - val_mae: 830.2313 - val_mse: 2036480.8750\n",
      "Epoch 14/100\n",
      "18/18 [==============================] - 0s 11ms/step - loss: 139.6380 - mae: 139.6380 - mse: 110280.6641 - val_loss: 794.5246 - val_mae: 794.5246 - val_mse: 1920204.8750\n",
      "Epoch 15/100\n",
      "14/18 [======================>.......] - ETA: 0s - loss: 142.3145 - mae: 142.3145 - mse: 114807.1172"
     ]
    },
    {
     "name": "stderr",
     "output_type": "stream",
     "text": [
      "WARNING:absl:Found untraced functions such as _update_step_xla while saving (showing 1 of 1). These functions will not be directly callable after loading.\n"
     ]
    },
    {
     "name": "stdout",
     "output_type": "stream",
     "text": [
      "INFO:tensorflow:Assets written to: model_experiments\\model_1_dense\\assets\n"
     ]
    },
    {
     "name": "stderr",
     "output_type": "stream",
     "text": [
      "INFO:tensorflow:Assets written to: model_experiments\\model_1_dense\\assets\n"
     ]
    },
    {
     "name": "stdout",
     "output_type": "stream",
     "text": [
      "18/18 [==============================] - 2s 93ms/step - loss: 141.1237 - mae: 141.1237 - mse: 108845.7578 - val_loss: 744.9551 - val_mae: 744.9551 - val_mse: 1816166.6250\n",
      "Epoch 16/100\n",
      "18/18 [==============================] - 0s 13ms/step - loss: 136.4991 - mae: 136.4991 - mse: 105841.3438 - val_loss: 778.0204 - val_mae: 778.0204 - val_mse: 1851367.3750\n",
      "Epoch 17/100\n",
      "18/18 [==============================] - 0s 13ms/step - loss: 135.9957 - mae: 135.9957 - mse: 103638.7891 - val_loss: 797.0668 - val_mae: 797.0668 - val_mse: 1896588.6250\n",
      "Epoch 18/100\n",
      "12/18 [===================>..........] - ETA: 0s - loss: 139.3717 - mae: 139.3717 - mse: 107423.7188"
     ]
    },
    {
     "name": "stderr",
     "output_type": "stream",
     "text": [
      "WARNING:absl:Found untraced functions such as _update_step_xla while saving (showing 1 of 1). These functions will not be directly callable after loading.\n"
     ]
    },
    {
     "name": "stdout",
     "output_type": "stream",
     "text": [
      "INFO:tensorflow:Assets written to: model_experiments\\model_1_dense\\assets\n"
     ]
    },
    {
     "name": "stderr",
     "output_type": "stream",
     "text": [
      "INFO:tensorflow:Assets written to: model_experiments\\model_1_dense\\assets\n"
     ]
    },
    {
     "name": "stdout",
     "output_type": "stream",
     "text": [
      "18/18 [==============================] - 2s 108ms/step - loss: 134.9849 - mae: 134.9849 - mse: 103773.6172 - val_loss: 735.8268 - val_mae: 735.8268 - val_mse: 1730269.7500\n",
      "Epoch 19/100\n",
      "18/18 [==============================] - 0s 9ms/step - loss: 132.8458 - mae: 132.8458 - mse: 101157.5781 - val_loss: 754.1604 - val_mae: 754.1604 - val_mse: 1755621.1250\n",
      "Epoch 20/100\n",
      "18/18 [==============================] - 0s 10ms/step - loss: 132.7481 - mae: 132.7482 - mse: 101343.2266 - val_loss: 751.8184 - val_mae: 751.8184 - val_mse: 1739542.1250\n",
      "Epoch 21/100\n",
      "18/18 [==============================] - 0s 10ms/step - loss: 137.2787 - mae: 137.2787 - mse: 103836.6797 - val_loss: 759.3036 - val_mae: 759.3036 - val_mse: 1753307.8750\n",
      "Epoch 22/100\n",
      "15/18 [========================>.....] - ETA: 0s - loss: 134.3432 - mae: 134.3432 - mse: 104702.4141"
     ]
    },
    {
     "name": "stderr",
     "output_type": "stream",
     "text": [
      "WARNING:absl:Found untraced functions such as _update_step_xla while saving (showing 1 of 1). These functions will not be directly callable after loading.\n"
     ]
    },
    {
     "name": "stdout",
     "output_type": "stream",
     "text": [
      "INFO:tensorflow:Assets written to: model_experiments\\model_1_dense\\assets\n"
     ]
    },
    {
     "name": "stderr",
     "output_type": "stream",
     "text": [
      "INFO:tensorflow:Assets written to: model_experiments\\model_1_dense\\assets\n"
     ]
    },
    {
     "name": "stdout",
     "output_type": "stream",
     "text": [
      "18/18 [==============================] - 2s 98ms/step - loss: 130.4111 - mae: 130.4111 - mse: 97221.4375 - val_loss: 706.5168 - val_mae: 706.5168 - val_mse: 1620444.5000\n",
      "Epoch 23/100\n",
      "13/18 [====================>.........] - ETA: 0s - loss: 126.3979 - mae: 126.3979 - mse: 84672.6406"
     ]
    },
    {
     "name": "stderr",
     "output_type": "stream",
     "text": [
      "WARNING:absl:Found untraced functions such as _update_step_xla while saving (showing 1 of 1). These functions will not be directly callable after loading.\n"
     ]
    },
    {
     "name": "stdout",
     "output_type": "stream",
     "text": [
      "INFO:tensorflow:Assets written to: model_experiments\\model_1_dense\\assets\n"
     ]
    },
    {
     "name": "stderr",
     "output_type": "stream",
     "text": [
      "INFO:tensorflow:Assets written to: model_experiments\\model_1_dense\\assets\n"
     ]
    },
    {
     "name": "stdout",
     "output_type": "stream",
     "text": [
      "18/18 [==============================] - 1s 87ms/step - loss: 129.9870 - mae: 129.9870 - mse: 96000.6094 - val_loss: 698.9365 - val_mae: 698.9365 - val_mse: 1597047.5000\n",
      "Epoch 24/100\n",
      "12/18 [===================>..........] - ETA: 0s - loss: 130.3983 - mae: 130.3983 - mse: 105118.9688"
     ]
    },
    {
     "name": "stderr",
     "output_type": "stream",
     "text": [
      "WARNING:absl:Found untraced functions such as _update_step_xla while saving (showing 1 of 1). These functions will not be directly callable after loading.\n"
     ]
    },
    {
     "name": "stdout",
     "output_type": "stream",
     "text": [
      "INFO:tensorflow:Assets written to: model_experiments\\model_1_dense\\assets\n"
     ]
    },
    {
     "name": "stderr",
     "output_type": "stream",
     "text": [
      "INFO:tensorflow:Assets written to: model_experiments\\model_1_dense\\assets\n"
     ]
    },
    {
     "name": "stdout",
     "output_type": "stream",
     "text": [
      "18/18 [==============================] - 2s 97ms/step - loss: 129.1482 - mae: 129.1482 - mse: 96069.2266 - val_loss: 694.8500 - val_mae: 694.8500 - val_mse: 1576804.8750\n",
      "Epoch 25/100\n",
      "15/18 [========================>.....] - ETA: 0s - loss: 133.4763 - mae: 133.4763 - mse: 103025.6953"
     ]
    },
    {
     "name": "stderr",
     "output_type": "stream",
     "text": [
      "WARNING:absl:Found untraced functions such as _update_step_xla while saving (showing 1 of 1). These functions will not be directly callable after loading.\n"
     ]
    },
    {
     "name": "stdout",
     "output_type": "stream",
     "text": [
      "INFO:tensorflow:Assets written to: model_experiments\\model_1_dense\\assets\n"
     ]
    },
    {
     "name": "stderr",
     "output_type": "stream",
     "text": [
      "INFO:tensorflow:Assets written to: model_experiments\\model_1_dense\\assets\n"
     ]
    },
    {
     "name": "stdout",
     "output_type": "stream",
     "text": [
      "18/18 [==============================] - 2s 96ms/step - loss: 127.7729 - mae: 127.7729 - mse: 94088.2969 - val_loss: 689.3029 - val_mae: 689.3029 - val_mse: 1554275.2500\n",
      "Epoch 26/100\n",
      "11/18 [=================>............] - ETA: 0s - loss: 127.6201 - mae: 127.6201 - mse: 82170.6562"
     ]
    },
    {
     "name": "stderr",
     "output_type": "stream",
     "text": [
      "WARNING:absl:Found untraced functions such as _update_step_xla while saving (showing 1 of 1). These functions will not be directly callable after loading.\n"
     ]
    },
    {
     "name": "stdout",
     "output_type": "stream",
     "text": [
      "INFO:tensorflow:Assets written to: model_experiments\\model_1_dense\\assets\n"
     ]
    },
    {
     "name": "stderr",
     "output_type": "stream",
     "text": [
      "INFO:tensorflow:Assets written to: model_experiments\\model_1_dense\\assets\n"
     ]
    },
    {
     "name": "stdout",
     "output_type": "stream",
     "text": [
      "18/18 [==============================] - 2s 93ms/step - loss: 127.5063 - mae: 127.5063 - mse: 93188.4062 - val_loss: 677.8383 - val_mae: 677.8383 - val_mse: 1533424.1250\n",
      "Epoch 27/100\n",
      "13/18 [====================>.........] - ETA: 0s - loss: 130.6598 - mae: 130.6598 - mse: 98488.2891 "
     ]
    },
    {
     "name": "stderr",
     "output_type": "stream",
     "text": [
      "WARNING:absl:Found untraced functions such as _update_step_xla while saving (showing 1 of 1). These functions will not be directly callable after loading.\n"
     ]
    },
    {
     "name": "stdout",
     "output_type": "stream",
     "text": [
      "INFO:tensorflow:Assets written to: model_experiments\\model_1_dense\\assets\n"
     ]
    },
    {
     "name": "stderr",
     "output_type": "stream",
     "text": [
      "INFO:tensorflow:Assets written to: model_experiments\\model_1_dense\\assets\n"
     ]
    },
    {
     "name": "stdout",
     "output_type": "stream",
     "text": [
      "18/18 [==============================] - 2s 96ms/step - loss: 127.9109 - mae: 127.9109 - mse: 92919.9141 - val_loss: 671.3399 - val_mae: 671.3399 - val_mse: 1515839.5000\n",
      "Epoch 28/100\n",
      "18/18 [==============================] - 0s 10ms/step - loss: 125.0225 - mae: 125.0225 - mse: 89435.0469 - val_loss: 692.1385 - val_mae: 692.1385 - val_mse: 1531061.0000\n",
      "Epoch 29/100\n",
      "18/18 [==============================] - 0s 10ms/step - loss: 123.5389 - mae: 123.5389 - mse: 88450.3672 - val_loss: 685.2871 - val_mae: 685.2871 - val_mse: 1509774.5000\n",
      "Epoch 30/100\n",
      "15/18 [========================>.....] - ETA: 0s - loss: 130.7363 - mae: 130.7363 - mse: 92787.7031"
     ]
    },
    {
     "name": "stderr",
     "output_type": "stream",
     "text": [
      "WARNING:absl:Found untraced functions such as _update_step_xla while saving (showing 1 of 1). These functions will not be directly callable after loading.\n"
     ]
    },
    {
     "name": "stdout",
     "output_type": "stream",
     "text": [
      "INFO:tensorflow:Assets written to: model_experiments\\model_1_dense\\assets\n"
     ]
    },
    {
     "name": "stderr",
     "output_type": "stream",
     "text": [
      "INFO:tensorflow:Assets written to: model_experiments\\model_1_dense\\assets\n"
     ]
    },
    {
     "name": "stdout",
     "output_type": "stream",
     "text": [
      "18/18 [==============================] - 2s 99ms/step - loss: 130.3498 - mae: 130.3498 - mse: 92325.5547 - val_loss: 656.8657 - val_mae: 656.8657 - val_mse: 1465202.6250\n",
      "Epoch 31/100\n",
      "18/18 [==============================] - 0s 10ms/step - loss: 122.3467 - mae: 122.3467 - mse: 86458.6797 - val_loss: 696.1080 - val_mae: 696.1080 - val_mse: 1521430.1250\n",
      "Epoch 32/100\n",
      "18/18 [==============================] - 0s 10ms/step - loss: 122.3141 - mae: 122.3141 - mse: 86867.7266 - val_loss: 685.5190 - val_mae: 685.5190 - val_mse: 1489570.7500\n",
      "Epoch 33/100\n",
      "18/18 [==============================] - 0s 10ms/step - loss: 121.2001 - mae: 121.2001 - mse: 84483.1641 - val_loss: 666.6916 - val_mae: 666.6916 - val_mse: 1445551.3750\n",
      "Epoch 34/100\n",
      "14/18 [======================>.......] - ETA: 0s - loss: 124.3538 - mae: 124.3538 - mse: 94116.9531 "
     ]
    },
    {
     "name": "stderr",
     "output_type": "stream",
     "text": [
      "WARNING:absl:Found untraced functions such as _update_step_xla while saving (showing 1 of 1). These functions will not be directly callable after loading.\n"
     ]
    },
    {
     "name": "stdout",
     "output_type": "stream",
     "text": [
      "INFO:tensorflow:Assets written to: model_experiments\\model_1_dense\\assets\n"
     ]
    },
    {
     "name": "stderr",
     "output_type": "stream",
     "text": [
      "INFO:tensorflow:Assets written to: model_experiments\\model_1_dense\\assets\n"
     ]
    },
    {
     "name": "stdout",
     "output_type": "stream",
     "text": [
      "18/18 [==============================] - 2s 117ms/step - loss: 121.3663 - mae: 121.3663 - mse: 86854.2188 - val_loss: 645.9828 - val_mae: 645.9828 - val_mse: 1400378.8750\n",
      "Epoch 35/100\n",
      "14/18 [======================>.......] - ETA: 0s - loss: 124.4112 - mae: 124.4112 - mse: 91136.8672"
     ]
    },
    {
     "name": "stderr",
     "output_type": "stream",
     "text": [
      "WARNING:absl:Found untraced functions such as _update_step_xla while saving (showing 1 of 1). These functions will not be directly callable after loading.\n"
     ]
    },
    {
     "name": "stdout",
     "output_type": "stream",
     "text": [
      "INFO:tensorflow:Assets written to: model_experiments\\model_1_dense\\assets\n"
     ]
    },
    {
     "name": "stderr",
     "output_type": "stream",
     "text": [
      "INFO:tensorflow:Assets written to: model_experiments\\model_1_dense\\assets\n"
     ]
    },
    {
     "name": "stdout",
     "output_type": "stream",
     "text": [
      "18/18 [==============================] - 2s 99ms/step - loss: 120.1852 - mae: 120.1852 - mse: 84462.1250 - val_loss: 635.7875 - val_mae: 635.7875 - val_mse: 1389193.6250\n",
      "Epoch 36/100\n",
      "10/18 [===============>..............] - ETA: 0s - loss: 116.3197 - mae: 116.3197 - mse: 79090.5078 "
     ]
    },
    {
     "name": "stderr",
     "output_type": "stream",
     "text": [
      "WARNING:absl:Found untraced functions such as _update_step_xla while saving (showing 1 of 1). These functions will not be directly callable after loading.\n"
     ]
    },
    {
     "name": "stdout",
     "output_type": "stream",
     "text": [
      "INFO:tensorflow:Assets written to: model_experiments\\model_1_dense\\assets\n"
     ]
    },
    {
     "name": "stderr",
     "output_type": "stream",
     "text": [
      "INFO:tensorflow:Assets written to: model_experiments\\model_1_dense\\assets\n"
     ]
    },
    {
     "name": "stdout",
     "output_type": "stream",
     "text": [
      "18/18 [==============================] - 2s 112ms/step - loss: 121.6104 - mae: 121.6104 - mse: 83441.9688 - val_loss: 631.6418 - val_mae: 631.6418 - val_mse: 1371562.2500\n",
      "Epoch 37/100\n",
      "18/18 [==============================] - 0s 10ms/step - loss: 119.1941 - mae: 119.1941 - mse: 82972.9375 - val_loss: 645.8547 - val_mae: 645.8547 - val_mse: 1381215.2500\n",
      "Epoch 38/100\n",
      "18/18 [==============================] - 0s 10ms/step - loss: 117.8064 - mae: 117.8064 - mse: 82020.6406 - val_loss: 656.9855 - val_mae: 656.9855 - val_mse: 1396144.0000\n",
      "Epoch 39/100\n",
      "15/18 [========================>.....] - ETA: 0s - loss: 121.5923 - mae: 121.5923 - mse: 86705.6719"
     ]
    },
    {
     "name": "stderr",
     "output_type": "stream",
     "text": [
      "WARNING:absl:Found untraced functions such as _update_step_xla while saving (showing 1 of 1). These functions will not be directly callable after loading.\n"
     ]
    },
    {
     "name": "stdout",
     "output_type": "stream",
     "text": [
      "INFO:tensorflow:Assets written to: model_experiments\\model_1_dense\\assets\n"
     ]
    },
    {
     "name": "stderr",
     "output_type": "stream",
     "text": [
      "INFO:tensorflow:Assets written to: model_experiments\\model_1_dense\\assets\n"
     ]
    },
    {
     "name": "stdout",
     "output_type": "stream",
     "text": [
      "18/18 [==============================] - 2s 93ms/step - loss: 117.8929 - mae: 117.8929 - mse: 81005.1562 - val_loss: 624.0160 - val_mae: 624.0160 - val_mse: 1343520.0000\n",
      "Epoch 40/100\n",
      "18/18 [==============================] - 0s 13ms/step - loss: 117.1426 - mae: 117.1426 - mse: 80924.5000 - val_loss: 642.7327 - val_mae: 642.7327 - val_mse: 1400803.6250\n",
      "Epoch 41/100\n",
      "10/18 [===============>..............] - ETA: 0s - loss: 123.7559 - mae: 123.7559 - mse: 88877.0859"
     ]
    },
    {
     "name": "stderr",
     "output_type": "stream",
     "text": [
      "WARNING:absl:Found untraced functions such as _update_step_xla while saving (showing 1 of 1). These functions will not be directly callable after loading.\n"
     ]
    },
    {
     "name": "stdout",
     "output_type": "stream",
     "text": [
      "INFO:tensorflow:Assets written to: model_experiments\\model_1_dense\\assets\n"
     ]
    },
    {
     "name": "stderr",
     "output_type": "stream",
     "text": [
      "INFO:tensorflow:Assets written to: model_experiments\\model_1_dense\\assets\n"
     ]
    },
    {
     "name": "stdout",
     "output_type": "stream",
     "text": [
      "18/18 [==============================] - 2s 105ms/step - loss: 116.7699 - mae: 116.7699 - mse: 80343.8750 - val_loss: 617.8071 - val_mae: 617.8071 - val_mse: 1318109.0000\n",
      "Epoch 42/100\n",
      "18/18 [==============================] - 0s 10ms/step - loss: 123.2083 - mae: 123.2083 - mse: 85468.2812 - val_loss: 670.9457 - val_mae: 670.9457 - val_mse: 1420822.8750\n",
      "Epoch 43/100\n",
      "18/18 [==============================] - 0s 9ms/step - loss: 122.8898 - mae: 122.8898 - mse: 80562.3984 - val_loss: 715.1968 - val_mae: 715.1968 - val_mse: 1624858.7500\n",
      "Epoch 44/100\n",
      "18/18 [==============================] - 0s 10ms/step - loss: 119.0995 - mae: 119.0995 - mse: 79417.2812 - val_loss: 619.3156 - val_mae: 619.3156 - val_mse: 1305358.8750\n",
      "Epoch 45/100\n",
      "14/18 [======================>.......] - ETA: 0s - loss: 111.9670 - mae: 111.9670 - mse: 71409.4922"
     ]
    },
    {
     "name": "stderr",
     "output_type": "stream",
     "text": [
      "WARNING:absl:Found untraced functions such as _update_step_xla while saving (showing 1 of 1). These functions will not be directly callable after loading.\n"
     ]
    },
    {
     "name": "stdout",
     "output_type": "stream",
     "text": [
      "INFO:tensorflow:Assets written to: model_experiments\\model_1_dense\\assets\n"
     ]
    },
    {
     "name": "stderr",
     "output_type": "stream",
     "text": [
      "INFO:tensorflow:Assets written to: model_experiments\\model_1_dense\\assets\n"
     ]
    },
    {
     "name": "stdout",
     "output_type": "stream",
     "text": [
      "18/18 [==============================] - 2s 100ms/step - loss: 114.5677 - mae: 114.5677 - mse: 77272.7812 - val_loss: 615.9633 - val_mae: 615.9633 - val_mse: 1295065.8750\n",
      "Epoch 46/100\n",
      "18/18 [==============================] - 0s 10ms/step - loss: 115.4613 - mae: 115.4613 - mse: 78436.9453 - val_loss: 636.2869 - val_mae: 636.2869 - val_mse: 1327631.0000\n",
      "Epoch 47/100\n",
      "18/18 [==============================] - 0s 10ms/step - loss: 116.1488 - mae: 116.1488 - mse: 78128.2734 - val_loss: 626.5417 - val_mae: 626.5417 - val_mse: 1306039.2500\n",
      "Epoch 48/100\n",
      "14/18 [======================>.......] - ETA: 0s - loss: 111.8664 - mae: 111.8664 - mse: 79567.5859"
     ]
    },
    {
     "name": "stderr",
     "output_type": "stream",
     "text": [
      "WARNING:absl:Found untraced functions such as _update_step_xla while saving (showing 1 of 1). These functions will not be directly callable after loading.\n"
     ]
    },
    {
     "name": "stdout",
     "output_type": "stream",
     "text": [
      "INFO:tensorflow:Assets written to: model_experiments\\model_1_dense\\assets\n"
     ]
    },
    {
     "name": "stderr",
     "output_type": "stream",
     "text": [
      "INFO:tensorflow:Assets written to: model_experiments\\model_1_dense\\assets\n"
     ]
    },
    {
     "name": "stdout",
     "output_type": "stream",
     "text": [
      "18/18 [==============================] - 2s 95ms/step - loss: 113.0980 - mae: 113.0980 - mse: 75961.8047 - val_loss: 602.2509 - val_mae: 602.2509 - val_mse: 1262570.6250\n",
      "Epoch 49/100\n",
      "18/18 [==============================] - 0s 13ms/step - loss: 117.3487 - mae: 117.3487 - mse: 79813.4062 - val_loss: 728.7200 - val_mae: 728.7200 - val_mse: 1548334.2500\n",
      "Epoch 50/100\n",
      "18/18 [==============================] - 0s 12ms/step - loss: 127.3526 - mae: 127.3526 - mse: 84184.4609 - val_loss: 622.8268 - val_mae: 622.8268 - val_mse: 1325400.3750\n",
      "Epoch 51/100\n",
      "18/18 [==============================] - 0s 10ms/step - loss: 114.4998 - mae: 114.4998 - mse: 77105.3750 - val_loss: 645.2073 - val_mae: 645.2073 - val_mse: 1336859.1250\n",
      "Epoch 52/100\n",
      "18/18 [==============================] - 0s 10ms/step - loss: 118.0844 - mae: 118.0844 - mse: 78719.2344 - val_loss: 604.6248 - val_mae: 604.6248 - val_mse: 1269258.2500\n",
      "Epoch 53/100\n",
      "18/18 [==============================] - 0s 11ms/step - loss: 114.7638 - mae: 114.7638 - mse: 76394.0781 - val_loss: 609.7358 - val_mae: 609.7358 - val_mse: 1263557.1250\n",
      "Epoch 54/100\n",
      "18/18 [==============================] - 0s 10ms/step - loss: 114.8343 - mae: 114.8343 - mse: 76481.9609 - val_loss: 660.8994 - val_mae: 660.8994 - val_mse: 1368679.5000\n",
      "Epoch 55/100\n",
      "14/18 [======================>.......] - ETA: 0s - loss: 118.0453 - mae: 118.0453 - mse: 78569.7109 "
     ]
    },
    {
     "name": "stderr",
     "output_type": "stream",
     "text": [
      "WARNING:absl:Found untraced functions such as _update_step_xla while saving (showing 1 of 1). These functions will not be directly callable after loading.\n"
     ]
    },
    {
     "name": "stdout",
     "output_type": "stream",
     "text": [
      "INFO:tensorflow:Assets written to: model_experiments\\model_1_dense\\assets\n"
     ]
    },
    {
     "name": "stderr",
     "output_type": "stream",
     "text": [
      "INFO:tensorflow:Assets written to: model_experiments\\model_1_dense\\assets\n"
     ]
    },
    {
     "name": "stdout",
     "output_type": "stream",
     "text": [
      "18/18 [==============================] - 2s 98ms/step - loss: 113.5282 - mae: 113.5282 - mse: 75469.9453 - val_loss: 593.8942 - val_mae: 593.8942 - val_mse: 1235131.7500\n",
      "Epoch 56/100\n",
      "18/18 [==============================] - 0s 10ms/step - loss: 110.3210 - mae: 110.3210 - mse: 73532.3828 - val_loss: 661.8826 - val_mae: 661.8826 - val_mse: 1428919.1250\n",
      "Epoch 57/100\n",
      "18/18 [==============================] - 0s 9ms/step - loss: 110.9767 - mae: 110.9767 - mse: 74438.1328 - val_loss: 604.6885 - val_mae: 604.6885 - val_mse: 1247959.2500\n",
      "Epoch 58/100\n",
      "14/18 [======================>.......] - ETA: 0s - loss: 112.6470 - mae: 112.6470 - mse: 76761.6641"
     ]
    },
    {
     "name": "stderr",
     "output_type": "stream",
     "text": [
      "WARNING:absl:Found untraced functions such as _update_step_xla while saving (showing 1 of 1). These functions will not be directly callable after loading.\n"
     ]
    },
    {
     "name": "stdout",
     "output_type": "stream",
     "text": [
      "INFO:tensorflow:Assets written to: model_experiments\\model_1_dense\\assets\n"
     ]
    },
    {
     "name": "stderr",
     "output_type": "stream",
     "text": [
      "INFO:tensorflow:Assets written to: model_experiments\\model_1_dense\\assets\n"
     ]
    },
    {
     "name": "stdout",
     "output_type": "stream",
     "text": [
      "18/18 [==============================] - 2s 96ms/step - loss: 112.5534 - mae: 112.5534 - mse: 73496.3828 - val_loss: 589.6782 - val_mae: 589.6782 - val_mse: 1226011.1250\n",
      "Epoch 59/100\n",
      "18/18 [==============================] - 0s 13ms/step - loss: 110.1493 - mae: 110.1493 - mse: 73040.8125 - val_loss: 612.5162 - val_mae: 612.5162 - val_mse: 1288345.6250\n",
      "Epoch 60/100\n",
      "18/18 [==============================] - 0s 10ms/step - loss: 118.7279 - mae: 118.7279 - mse: 78375.5312 - val_loss: 670.8840 - val_mae: 670.8840 - val_mse: 1388576.2500\n",
      "Epoch 61/100\n",
      "18/18 [==============================] - 0s 9ms/step - loss: 111.8900 - mae: 111.8900 - mse: 72943.0234 - val_loss: 594.3051 - val_mae: 594.3051 - val_mse: 1239576.3750\n",
      "Epoch 62/100\n",
      "16/18 [=========================>....] - ETA: 0s - loss: 110.3146 - mae: 110.3146 - mse: 72478.6719"
     ]
    },
    {
     "name": "stderr",
     "output_type": "stream",
     "text": [
      "WARNING:absl:Found untraced functions such as _update_step_xla while saving (showing 1 of 1). These functions will not be directly callable after loading.\n"
     ]
    },
    {
     "name": "stdout",
     "output_type": "stream",
     "text": [
      "INFO:tensorflow:Assets written to: model_experiments\\model_1_dense\\assets\n"
     ]
    },
    {
     "name": "stderr",
     "output_type": "stream",
     "text": [
      "INFO:tensorflow:Assets written to: model_experiments\\model_1_dense\\assets\n"
     ]
    },
    {
     "name": "stdout",
     "output_type": "stream",
     "text": [
      "18/18 [==============================] - 1s 84ms/step - loss: 108.7346 - mae: 108.7346 - mse: 70830.0234 - val_loss: 585.5676 - val_mae: 585.5676 - val_mse: 1206186.0000\n",
      "Epoch 63/100\n",
      "18/18 [==============================] - 0s 12ms/step - loss: 109.6089 - mae: 109.6089 - mse: 71966.6406 - val_loss: 593.7859 - val_mae: 593.7859 - val_mse: 1237665.1250\n",
      "Epoch 64/100\n",
      "18/18 [==============================] - 0s 12ms/step - loss: 111.0284 - mae: 111.0284 - mse: 73179.0391 - val_loss: 709.3505 - val_mae: 709.3505 - val_mse: 1480029.6250\n",
      "Epoch 65/100\n",
      "18/18 [==============================] - 0s 13ms/step - loss: 121.5157 - mae: 121.5157 - mse: 80800.0078 - val_loss: 633.4281 - val_mae: 633.4281 - val_mse: 1336908.6250\n",
      "Epoch 66/100\n",
      "18/18 [==============================] - 0s 12ms/step - loss: 112.5092 - mae: 112.5092 - mse: 73731.8672 - val_loss: 591.0754 - val_mae: 591.0754 - val_mse: 1208662.5000\n",
      "Epoch 67/100\n",
      "18/18 [==============================] - 0s 12ms/step - loss: 108.1148 - mae: 108.1148 - mse: 70612.1797 - val_loss: 633.6535 - val_mae: 633.6535 - val_mse: 1339968.0000\n",
      "Epoch 68/100\n",
      "18/18 [==============================] - 0s 12ms/step - loss: 109.9747 - mae: 109.9747 - mse: 70218.1953 - val_loss: 592.7407 - val_mae: 592.7407 - val_mse: 1209645.5000\n",
      "Epoch 69/100\n",
      "18/18 [==============================] - 0s 10ms/step - loss: 109.2736 - mae: 109.2736 - mse: 71072.5859 - val_loss: 691.5084 - val_mae: 691.5084 - val_mse: 1435526.0000\n",
      "Epoch 70/100\n",
      "18/18 [==============================] - 0s 9ms/step - loss: 128.6732 - mae: 128.6732 - mse: 81027.2031 - val_loss: 615.2313 - val_mae: 615.2313 - val_mse: 1299816.0000\n",
      "Epoch 71/100\n",
      "14/18 [======================>.......] - ETA: 0s - loss: 107.5590 - mae: 107.5590 - mse: 67033.9922"
     ]
    },
    {
     "name": "stderr",
     "output_type": "stream",
     "text": [
      "WARNING:absl:Found untraced functions such as _update_step_xla while saving (showing 1 of 1). These functions will not be directly callable after loading.\n"
     ]
    },
    {
     "name": "stdout",
     "output_type": "stream",
     "text": [
      "INFO:tensorflow:Assets written to: model_experiments\\model_1_dense\\assets\n"
     ]
    },
    {
     "name": "stderr",
     "output_type": "stream",
     "text": [
      "INFO:tensorflow:Assets written to: model_experiments\\model_1_dense\\assets\n"
     ]
    },
    {
     "name": "stdout",
     "output_type": "stream",
     "text": [
      "18/18 [==============================] - 1s 87ms/step - loss: 110.2777 - mae: 110.2777 - mse: 70889.1172 - val_loss: 580.7424 - val_mae: 580.7424 - val_mse: 1203742.8750\n",
      "Epoch 72/100\n",
      "18/18 [==============================] - 0s 10ms/step - loss: 110.9792 - mae: 110.9792 - mse: 72508.9688 - val_loss: 581.0542 - val_mae: 581.0542 - val_mse: 1204661.1250\n",
      "Epoch 73/100\n",
      "18/18 [==============================] - 0s 9ms/step - loss: 111.2096 - mae: 111.2096 - mse: 71419.1797 - val_loss: 605.5927 - val_mae: 605.5927 - val_mse: 1232521.3750\n",
      "Epoch 74/100\n",
      "13/18 [====================>.........] - ETA: 0s - loss: 109.4250 - mae: 109.4250 - mse: 71886.9688 "
     ]
    },
    {
     "name": "stderr",
     "output_type": "stream",
     "text": [
      "WARNING:absl:Found untraced functions such as _update_step_xla while saving (showing 1 of 1). These functions will not be directly callable after loading.\n"
     ]
    },
    {
     "name": "stdout",
     "output_type": "stream",
     "text": [
      "INFO:tensorflow:Assets written to: model_experiments\\model_1_dense\\assets\n"
     ]
    },
    {
     "name": "stderr",
     "output_type": "stream",
     "text": [
      "INFO:tensorflow:Assets written to: model_experiments\\model_1_dense\\assets\n"
     ]
    },
    {
     "name": "stdout",
     "output_type": "stream",
     "text": [
      "18/18 [==============================] - 2s 95ms/step - loss: 109.0873 - mae: 109.0873 - mse: 71152.1562 - val_loss: 579.1788 - val_mae: 579.1788 - val_mse: 1188678.6250\n",
      "Epoch 75/100\n",
      "11/18 [=================>............] - ETA: 0s - loss: 107.4384 - mae: 107.4384 - mse: 69330.1953"
     ]
    },
    {
     "name": "stderr",
     "output_type": "stream",
     "text": [
      "WARNING:absl:Found untraced functions such as _update_step_xla while saving (showing 1 of 1). These functions will not be directly callable after loading.\n"
     ]
    },
    {
     "name": "stdout",
     "output_type": "stream",
     "text": [
      "INFO:tensorflow:Assets written to: model_experiments\\model_1_dense\\assets\n"
     ]
    },
    {
     "name": "stderr",
     "output_type": "stream",
     "text": [
      "INFO:tensorflow:Assets written to: model_experiments\\model_1_dense\\assets\n"
     ]
    },
    {
     "name": "stdout",
     "output_type": "stream",
     "text": [
      "18/18 [==============================] - 2s 88ms/step - loss: 110.5333 - mae: 110.5333 - mse: 70621.5938 - val_loss: 577.8346 - val_mae: 577.8346 - val_mse: 1195960.5000\n",
      "Epoch 76/100\n",
      "18/18 [==============================] - 0s 10ms/step - loss: 111.0173 - mae: 111.0173 - mse: 71617.9062 - val_loss: 583.0151 - val_mae: 583.0151 - val_mse: 1190358.8750\n",
      "Epoch 77/100\n",
      "18/18 [==============================] - 0s 10ms/step - loss: 109.8601 - mae: 109.8601 - mse: 71192.7500 - val_loss: 590.6657 - val_mae: 590.6657 - val_mse: 1203147.5000\n",
      "Epoch 78/100\n",
      "18/18 [==============================] - 0s 12ms/step - loss: 110.6555 - mae: 110.6555 - mse: 69267.8750 - val_loss: 593.8083 - val_mae: 593.8083 - val_mse: 1236637.1250\n",
      "Epoch 79/100\n",
      "18/18 [==============================] - 0s 13ms/step - loss: 109.1914 - mae: 109.1914 - mse: 70703.2969 - val_loss: 601.7708 - val_mae: 601.7708 - val_mse: 1258861.1250\n",
      "Epoch 80/100\n",
      "18/18 [==============================] - 0s 11ms/step - loss: 113.8827 - mae: 113.8827 - mse: 74793.8047 - val_loss: 594.5719 - val_mae: 594.5719 - val_mse: 1207913.0000\n",
      "Epoch 81/100\n",
      "18/18 [==============================] - 0s 12ms/step - loss: 106.2154 - mae: 106.2154 - mse: 69182.1875 - val_loss: 595.5770 - val_mae: 595.5770 - val_mse: 1209140.0000\n",
      "Epoch 82/100\n",
      "18/18 [==============================] - 0s 10ms/step - loss: 121.0725 - mae: 121.0725 - mse: 79882.0312 - val_loss: 651.0109 - val_mae: 651.0109 - val_mse: 1328416.6250\n",
      "Epoch 83/100\n",
      "18/18 [==============================] - 0s 10ms/step - loss: 122.0597 - mae: 122.0597 - mse: 78981.0547 - val_loss: 700.8929 - val_mae: 700.8929 - val_mse: 1506161.2500\n",
      "Epoch 84/100\n",
      "18/18 [==============================] - 0s 10ms/step - loss: 117.1206 - mae: 117.1206 - mse: 75919.9609 - val_loss: 578.0255 - val_mae: 578.0255 - val_mse: 1199912.2500\n",
      "Epoch 85/100\n",
      "15/18 [========================>.....] - ETA: 0s - loss: 106.5452 - mae: 106.5452 - mse: 68028.1172"
     ]
    },
    {
     "name": "stderr",
     "output_type": "stream",
     "text": [
      "WARNING:absl:Found untraced functions such as _update_step_xla while saving (showing 1 of 1). These functions will not be directly callable after loading.\n"
     ]
    },
    {
     "name": "stdout",
     "output_type": "stream",
     "text": [
      "INFO:tensorflow:Assets written to: model_experiments\\model_1_dense\\assets\n"
     ]
    },
    {
     "name": "stderr",
     "output_type": "stream",
     "text": [
      "INFO:tensorflow:Assets written to: model_experiments\\model_1_dense\\assets\n"
     ]
    },
    {
     "name": "stdout",
     "output_type": "stream",
     "text": [
      "18/18 [==============================] - 1s 86ms/step - loss: 109.6767 - mae: 109.6767 - mse: 71632.3906 - val_loss: 570.7254 - val_mae: 570.7254 - val_mse: 1177405.5000\n",
      "Epoch 86/100\n",
      "13/18 [====================>.........] - ETA: 0s - loss: 104.6511 - mae: 104.6511 - mse: 59593.7969"
     ]
    },
    {
     "name": "stderr",
     "output_type": "stream",
     "text": [
      "WARNING:absl:Found untraced functions such as _update_step_xla while saving (showing 1 of 1). These functions will not be directly callable after loading.\n"
     ]
    },
    {
     "name": "stdout",
     "output_type": "stream",
     "text": [
      "INFO:tensorflow:Assets written to: model_experiments\\model_1_dense\\assets\n"
     ]
    },
    {
     "name": "stderr",
     "output_type": "stream",
     "text": [
      "INFO:tensorflow:Assets written to: model_experiments\\model_1_dense\\assets\n"
     ]
    },
    {
     "name": "stdout",
     "output_type": "stream",
     "text": [
      "18/18 [==============================] - 2s 98ms/step - loss: 109.6600 - mae: 109.6600 - mse: 69433.6875 - val_loss: 569.3626 - val_mae: 569.3626 - val_mse: 1172035.8750\n",
      "Epoch 87/100\n",
      "18/18 [==============================] - 0s 13ms/step - loss: 106.2462 - mae: 106.2462 - mse: 68957.2969 - val_loss: 622.5433 - val_mae: 622.5433 - val_mse: 1297776.1250\n",
      "Epoch 88/100\n",
      "18/18 [==============================] - 0s 11ms/step - loss: 111.8310 - mae: 111.8310 - mse: 72395.2734 - val_loss: 575.3038 - val_mae: 575.3038 - val_mse: 1191448.3750\n",
      "Epoch 89/100\n",
      "18/18 [==============================] - 0s 13ms/step - loss: 107.3642 - mae: 107.3642 - mse: 69024.1797 - val_loss: 617.1795 - val_mae: 617.1795 - val_mse: 1250344.8750\n",
      "Epoch 90/100\n",
      "18/18 [==============================] - 0s 10ms/step - loss: 118.3874 - mae: 118.3874 - mse: 71604.3906 - val_loss: 789.5549 - val_mae: 789.5549 - val_mse: 1713596.0000\n",
      "Epoch 91/100\n",
      "18/18 [==============================] - 0s 9ms/step - loss: 127.1062 - mae: 127.1062 - mse: 81707.4062 - val_loss: 676.1537 - val_mae: 676.1537 - val_mse: 1457696.7500\n",
      "Epoch 92/100\n",
      "18/18 [==============================] - 0s 10ms/step - loss: 108.6548 - mae: 108.6548 - mse: 70718.8828 - val_loss: 634.7086 - val_mae: 634.7086 - val_mse: 1340565.6250\n",
      "Epoch 93/100\n",
      "18/18 [==============================] - 0s 10ms/step - loss: 113.7385 - mae: 113.7385 - mse: 70365.2422 - val_loss: 576.2910 - val_mae: 576.2910 - val_mse: 1178654.0000\n",
      "Epoch 94/100\n",
      "18/18 [==============================] - 0s 10ms/step - loss: 118.5783 - mae: 118.5783 - mse: 76977.3750 - val_loss: 604.9809 - val_mae: 604.9809 - val_mse: 1229769.7500\n",
      "Epoch 95/100\n",
      "18/18 [==============================] - 0s 10ms/step - loss: 107.9669 - mae: 107.9669 - mse: 67237.2266 - val_loss: 584.3297 - val_mae: 584.3297 - val_mse: 1214852.1250\n",
      "Epoch 96/100\n",
      "18/18 [==============================] - 0s 10ms/step - loss: 107.1613 - mae: 107.1613 - mse: 68652.0703 - val_loss: 575.6082 - val_mae: 575.6082 - val_mse: 1192787.3750\n",
      "Epoch 97/100\n",
      "18/18 [==============================] - 0s 10ms/step - loss: 106.5216 - mae: 106.5216 - mse: 68383.6953 - val_loss: 576.2529 - val_mae: 576.2529 - val_mse: 1180851.3750\n",
      "Epoch 98/100\n",
      "18/18 [==============================] - 0s 11ms/step - loss: 107.4814 - mae: 107.4814 - mse: 69807.2578 - val_loss: 571.5255 - val_mae: 571.5255 - val_mse: 1179340.3750\n",
      "Epoch 99/100\n",
      "11/18 [=================>............] - ETA: 0s - loss: 105.8453 - mae: 105.8453 - mse: 59888.5391 "
     ]
    },
    {
     "name": "stderr",
     "output_type": "stream",
     "text": [
      "WARNING:absl:Found untraced functions such as _update_step_xla while saving (showing 1 of 1). These functions will not be directly callable after loading.\n"
     ]
    },
    {
     "name": "stdout",
     "output_type": "stream",
     "text": [
      "INFO:tensorflow:Assets written to: model_experiments\\model_1_dense\\assets\n"
     ]
    },
    {
     "name": "stderr",
     "output_type": "stream",
     "text": [
      "INFO:tensorflow:Assets written to: model_experiments\\model_1_dense\\assets\n"
     ]
    },
    {
     "name": "stdout",
     "output_type": "stream",
     "text": [
      "18/18 [==============================] - 2s 113ms/step - loss: 110.7139 - mae: 110.7139 - mse: 71451.8281 - val_loss: 568.4436 - val_mae: 568.4436 - val_mse: 1171320.0000\n",
      "Epoch 100/100\n",
      "18/18 [==============================] - 0s 10ms/step - loss: 114.8724 - mae: 114.8724 - mse: 70508.5938 - val_loss: 617.3197 - val_mae: 617.3197 - val_mse: 1254015.5000\n"
     ]
    },
    {
     "data": {
      "text/plain": [
       "<keras.callbacks.History at 0x213130f5580>"
      ]
     },
     "execution_count": 59,
     "metadata": {},
     "output_type": "execute_result"
    }
   ],
   "source": [
    "import tensorflow as tf\n",
    "from tensorflow.keras import layers\n",
    "\n",
    "# Set random seed for as reproducible results as possible\n",
    "tf.random.set_seed(42)\n",
    "\n",
    "# 1. Construct model\n",
    "model_1 = tf.keras.Sequential([\n",
    "  layers.Dense(128, activation=\"relu\"),\n",
    "  layers.Dense(HORIZON, activation=\"linear\") # linear activation is the same as having no activation               \n",
    "], name=\"model_1_dense\") # name our model so we can save it\n",
    "\n",
    "# 2. Compile\n",
    "model_1.compile(loss=\"mae\",\n",
    "                optimizer=tf.keras.optimizers.Adam(),\n",
    "                metrics=[\"mae\", \"mse\"])\n",
    "\n",
    "# 3. Fit the model\n",
    "model_1.fit(x=train_windows,\n",
    "            y=train_labels,\n",
    "            epochs=100,\n",
    "            verbose=1,\n",
    "            batch_size=128,\n",
    "            validation_data=(test_windows, test_labels),\n",
    "            callbacks=[create_model_checkpoint(model_name=model_1.name)])"
   ]
  },
  {
   "cell_type": "code",
   "execution_count": 60,
   "metadata": {
    "colab": {
     "base_uri": "https://localhost:8080/"
    },
    "id": "1Sflz8tjp_95",
    "outputId": "3bae795f-2119-4587-b90b-25f236cefb5f"
   },
   "outputs": [
    {
     "name": "stdout",
     "output_type": "stream",
     "text": [
      "18/18 [==============================] - 0s 4ms/step - loss: 617.3198 - mae: 617.3198 - mse: 1254015.5000\n"
     ]
    },
    {
     "data": {
      "text/plain": [
       "[617.31982421875, 617.31982421875, 1254015.5]"
      ]
     },
     "execution_count": 60,
     "metadata": {},
     "output_type": "execute_result"
    }
   ],
   "source": [
    "# Evaluate model on test data\n",
    "model_1.evaluate(test_windows, test_labels)"
   ]
  },
  {
   "cell_type": "code",
   "execution_count": 61,
   "metadata": {
    "colab": {
     "base_uri": "https://localhost:8080/"
    },
    "id": "j-_1mPHMqf9p",
    "outputId": "5db85a7f-a27a-470b-ca30-05137d6ad0c8"
   },
   "outputs": [
    {
     "name": "stdout",
     "output_type": "stream",
     "text": [
      "18/18 [==============================] - 0s 5ms/step - loss: 568.4435 - mae: 568.4435 - mse: 1171319.7500\n"
     ]
    },
    {
     "data": {
      "text/plain": [
       "[568.4435424804688, 568.4435424804688, 1171319.75]"
      ]
     },
     "execution_count": 61,
     "metadata": {},
     "output_type": "execute_result"
    }
   ],
   "source": [
    "# Load in saved best performing model_1 and evaluate it on test data\n",
    "model_1 = tf.keras.models.load_model(\"model_experiments/model_1_dense/\")\n",
    "model_1.evaluate(test_windows, test_labels)"
   ]
  },
  {
   "cell_type": "markdown",
   "metadata": {
    "id": "8Cgoux7erDna"
   },
   "source": [
    "## Making forecasts with a model (on the test dataset)\n",
    "\n",
    "To make \"forecasts\" on the test dataset (note: these won't be actual forecasts, they're only psuedo forecasts because actual forecasts are into the future), let's write a function to:\n",
    "\n",
    "1. Take in a train model\n",
    "2. Takes in some input data (same kind of data the model was trained on)\n",
    "3. Passes the input data to the model's `predict()` method\n",
    "4. Returns the predictions "
   ]
  },
  {
   "cell_type": "code",
   "execution_count": 62,
   "metadata": {
    "id": "Am8S01hArt2N"
   },
   "outputs": [],
   "source": [
    "def make_preds(model, input_data):\n",
    "  \"\"\"\n",
    "  Uses model to make predictions input_data.\n",
    "  \"\"\"\n",
    "  forecast = model.predict(input_data)\n",
    "  return tf.squeeze(forecast) # return 1D array of predictions"
   ]
  },
  {
   "cell_type": "code",
   "execution_count": 63,
   "metadata": {
    "colab": {
     "base_uri": "https://localhost:8080/"
    },
    "id": "m4kFE6Hjsncx",
    "outputId": "f0733ad2-7fe1-47b6-ea37-66dde45a6c56"
   },
   "outputs": [
    {
     "name": "stdout",
     "output_type": "stream",
     "text": [
      "18/18 [==============================] - 0s 4ms/step\n"
     ]
    },
    {
     "data": {
      "text/plain": [
       "(556,\n",
       " <tf.Tensor: shape=(10,), dtype=float32, numpy=\n",
       " array([8858.978, 8785.368, 9003.444, 8749.679, 8771.713, 8721.275,\n",
       "        8689.331, 8506.085, 8473.834, 8516.587], dtype=float32)>)"
      ]
     },
     "execution_count": 63,
     "metadata": {},
     "output_type": "execute_result"
    }
   ],
   "source": [
    "# Make predictions using model_1 on the test dataset and view results\n",
    "model_1_preds = make_preds(model_1, test_windows) \n",
    "len(model_1_preds), model_1_preds[:10]"
   ]
  },
  {
   "cell_type": "code",
   "execution_count": 64,
   "metadata": {
    "colab": {
     "base_uri": "https://localhost:8080/"
    },
    "id": "1NZcZZe6tXlM",
    "outputId": "f666c300-86be-4a21-9f09-a695a2c2e8d8"
   },
   "outputs": [
    {
     "data": {
      "text/plain": [
       "(TensorShape([556]), TensorShape([556]))"
      ]
     },
     "execution_count": 64,
     "metadata": {},
     "output_type": "execute_result"
    }
   ],
   "source": [
    "tf.squeeze(test_labels).shape, model_1_preds.shape"
   ]
  },
  {
   "cell_type": "code",
   "execution_count": 65,
   "metadata": {
    "colab": {
     "base_uri": "https://localhost:8080/"
    },
    "id": "7wtSMS--tCFL",
    "outputId": "d754962c-195b-4eab-aa99-9539f74d051d"
   },
   "outputs": [
    {
     "data": {
      "text/plain": [
       "{'mae': 568.44354,\n",
       " 'mse': 1171319.4,\n",
       " 'rmse': 1082.2751,\n",
       " 'mape': 2.5572853,\n",
       " 'mase': 0.99859786}"
      ]
     },
     "execution_count": 65,
     "metadata": {},
     "output_type": "execute_result"
    }
   ],
   "source": [
    "# Evaluate preds\n",
    "model_1_results = evaluate_preds(y_true=tf.squeeze(test_labels),\n",
    "                                 y_pred=model_1_preds)\n",
    "model_1_results"
   ]
  },
  {
   "cell_type": "code",
   "execution_count": 66,
   "metadata": {
    "colab": {
     "base_uri": "https://localhost:8080/"
    },
    "id": "zugo-5wbtUa0",
    "outputId": "f271f656-3aab-40cf-b155-ea4da76d2fba"
   },
   "outputs": [
    {
     "data": {
      "text/plain": [
       "{'mae': 567.9802,\n",
       " 'mse': 1147547.0,\n",
       " 'rmse': 1071.2362,\n",
       " 'mape': 2.5165248,\n",
       " 'mase': 0.99957}"
      ]
     },
     "execution_count": 66,
     "metadata": {},
     "output_type": "execute_result"
    }
   ],
   "source": [
    "naive_results"
   ]
  },
  {
   "cell_type": "code",
   "execution_count": 68,
   "metadata": {
    "colab": {
     "base_uri": "https://localhost:8080/"
    },
    "id": "4F1lht_BuS96",
    "outputId": "660bcbb4-8024-44f0-8682-6eb30c0f20c1"
   },
   "outputs": [
    {
     "data": {
      "text/plain": [
       "(556, 1)"
      ]
     },
     "execution_count": 68,
     "metadata": {},
     "output_type": "execute_result"
    }
   ],
   "source": [
    "test_labels.shape"
   ]
  },
  {
   "cell_type": "code",
   "execution_count": 69,
   "metadata": {
    "colab": {
     "base_uri": "https://localhost:8080/",
     "height": 446
    },
    "id": "72ommbyVtFh4",
    "outputId": "ee34dd0b-9829-4ae5-d6ee-5c7cd847bfa2"
   },
   "outputs": [
    {
     "data": {
      "image/png": "[encoded data removed]",
      "text/plain": [
       "<Figure size 720x504 with 1 Axes>"
      ]
     },
     "metadata": {
      "needs_background": "light"
     },
     "output_type": "display_data"
    }
   ],
   "source": [
    "# Let's plot our model 1 predictions\n",
    "offset = 450\n",
    "plt.figure(figsize=(10, 7))\n",
    "# Account for the test_window offset and index into test_labels to ensure correct plotting\n",
    "plot_time_series(timesteps=X_test[-len(test_windows):], \n",
    "                 values=test_labels[:, 0], \n",
    "                 start=offset, \n",
    "                 label=\"Test Data\")\n",
    "\n",
    "plot_time_series(timesteps=X_test[-len(test_windows):],\n",
    "                 values=model_1_preds,\n",
    "                 start=offset, \n",
    "                 format=\"-\",\n",
    "                 label=\"model_1_preds\")"
   ]
  },
  {
   "cell_type": "code",
   "execution_count": 70,
   "metadata": {},
   "outputs": [
    {
     "data": {
      "text/plain": [
       "(558,)"
      ]
     },
     "execution_count": 70,
     "metadata": {},
     "output_type": "execute_result"
    }
   ],
   "source": [
    "X_test.shape"
   ]
  },
  {
   "cell_type": "code",
   "execution_count": null,
   "metadata": {},
   "outputs": [],
   "source": []
  },
  {
   "cell_type": "code",
   "execution_count": null,
   "metadata": {},
   "outputs": [],
   "source": []
  },
  {
   "cell_type": "code",
   "execution_count": null,
   "metadata": {},
   "outputs": [],
   "source": []
  },
  {
   "cell_type": "markdown",
   "metadata": {
    "id": "wRWroH4kuakj"
   },
   "source": [
    "## Model 2: Dense (window = 30, horizon = 1)"
   ]
  },
  {
   "cell_type": "code",
   "execution_count": null,
   "metadata": {
    "id": "756F6lFhcdt3"
   },
   "outputs": [],
   "source": [
    "HORIZON = 1 # predict one step at a time (one day of Bitcoin prices)\n",
    "WINDOW_SIZE = 30 # use 30 timesteps in past"
   ]
  },
  {
   "cell_type": "code",
   "execution_count": null,
   "metadata": {
    "colab": {
     "base_uri": "https://localhost:8080/"
    },
    "id": "uBDRp2y1dNbD",
    "outputId": "c5e11840-9ca3-4ee8-b185-cd0c77e3ca5b"
   },
   "outputs": [],
   "source": [
    "# Make windowed data with appropriate horizon and window sizes\n",
    "full_windows, full_labels = make_windows(prices, window_size=WINDOW_SIZE, horizon=HORIZON)\n",
    "len(full_windows), len(full_labels)"
   ]
  },
  {
   "cell_type": "code",
   "execution_count": null,
   "metadata": {
    "colab": {
     "base_uri": "https://localhost:8080/"
    },
    "id": "_IaIi2uEdU8Z",
    "outputId": "95fa00c4-8072-4a4b-f9b4-2f1eef7e5ba0"
   },
   "outputs": [],
   "source": [
    "# Make train and testing windows\n",
    "train_windows, test_windows, train_labels, test_labels = make_train_test_splits(windows=full_windows,\n",
    "                                                                                labels=full_labels,\n",
    "                                                                                test_split=0.2)\n",
    "len(train_windows), len(test_windows), len(train_labels), len(test_labels)"
   ]
  },
  {
   "cell_type": "code",
   "execution_count": null,
   "metadata": {
    "colab": {
     "base_uri": "https://localhost:8080/"
    },
    "id": "h7VTwTr4d8CY",
    "outputId": "51ffaa42-d214-4fa4-a510-5da934eddca6"
   },
   "outputs": [],
   "source": [
    "tf.random.set_seed(42)\n",
    "\n",
    "# Create model\n",
    "model_2 = tf.keras.Sequential([\n",
    "  layers.Dense(128, activation=\"relu\"),\n",
    "  layers.Dense(HORIZON)\n",
    "], name=\"model_2_dense\")\n",
    "\n",
    "# Compile\n",
    "model_2.compile(loss=\"mae\",\n",
    "                optimizer=tf.keras.optimizers.Adam())\n",
    "\n",
    "# Fit\n",
    "model_2.fit(train_windows,\n",
    "            train_labels,\n",
    "            epochs=100,\n",
    "            batch_size=128,\n",
    "            verbose=0,\n",
    "            validation_data=(test_windows, test_labels),\n",
    "            callbacks=[create_model_checkpoint(model_name=model_2.name)])"
   ]
  },
  {
   "cell_type": "code",
   "execution_count": null,
   "metadata": {
    "colab": {
     "base_uri": "https://localhost:8080/"
    },
    "id": "wkDu1mlQe0Ar",
    "outputId": "75c1eb77-bce6-47ea-d369-a4573af68b6e"
   },
   "outputs": [],
   "source": [
    "# Evaluate model 2 on test data\n",
    "model_2.evaluate(test_windows, test_labels)"
   ]
  },
  {
   "cell_type": "code",
   "execution_count": null,
   "metadata": {
    "colab": {
     "base_uri": "https://localhost:8080/"
    },
    "id": "3yS87rLWe-AT",
    "outputId": "e1b3797a-3cff-4c20-b6a5-12a743bcda73"
   },
   "outputs": [],
   "source": [
    "# Load in the best performing model\n",
    "model_2 = tf.keras.models.load_model(\"model_experiments/model_2_dense/\")\n",
    "model_2.evaluate(test_windows, test_labels)"
   ]
  },
  {
   "cell_type": "code",
   "execution_count": null,
   "metadata": {
    "id": "hcR0UnlxfGpO"
   },
   "outputs": [],
   "source": [
    "# Get forecast predictions\n",
    "model_2_preds = make_preds(model_2,\n",
    "                           input_data=test_windows)"
   ]
  },
  {
   "cell_type": "code",
   "execution_count": null,
   "metadata": {
    "colab": {
     "base_uri": "https://localhost:8080/"
    },
    "id": "xJETfoHAfZVQ",
    "outputId": "76869686-6cf9-4eea-83a6-347df371cad7"
   },
   "outputs": [],
   "source": [
    "tf.squeeze(test_labels).shape, model_2_preds.shape"
   ]
  },
  {
   "cell_type": "code",
   "execution_count": null,
   "metadata": {
    "colab": {
     "base_uri": "https://localhost:8080/"
    },
    "id": "FwgyNrd0fTIX",
    "outputId": "1ca60bbd-031d-4af8-dcbd-0c105c29a0a1"
   },
   "outputs": [],
   "source": [
    "# Evaluate results for model 2 predictions\n",
    "model_2_results = evaluate_preds(y_true=tf.squeeze(test_labels),\n",
    "                                 y_pred=model_2_preds)\n",
    "model_2_results"
   ]
  },
  {
   "cell_type": "code",
   "execution_count": null,
   "metadata": {
    "colab": {
     "base_uri": "https://localhost:8080/"
    },
    "id": "vVjt_YpGfjkZ",
    "outputId": "cb4bdb5d-24d7-4346-d991-a433cab12eff"
   },
   "outputs": [],
   "source": [
    "model_1_results"
   ]
  },
  {
   "cell_type": "code",
   "execution_count": null,
   "metadata": {
    "colab": {
     "base_uri": "https://localhost:8080/",
     "height": 442
    },
    "id": "Chx6gZDLfldN",
    "outputId": "1e3d240f-327a-45cc-c7c8-c8d7784b8d78"
   },
   "outputs": [],
   "source": [
    "offset = 300\n",
    "plt.figure(figsize=(10, 7))\n",
    "# Account for test_window offset when plotting\n",
    "plot_time_series(timesteps=X_test[-len(test_windows):], values=test_labels[:, 0], start=offset, format=\"-\", label=\"Test Data\")\n",
    "plot_time_series(timesteps=X_test[-len(test_windows):], values=model_2_preds, start=offset, format=\"-\", label=\"model_2_preds\")"
   ]
  },
  {
   "cell_type": "markdown",
   "metadata": {
    "id": "E8iaMOMDgHcB"
   },
   "source": [
    "## Model 3: Dense (window = 30, horizon = 7)\n",
    "\n"
   ]
  },
  {
   "cell_type": "code",
   "execution_count": null,
   "metadata": {
    "colab": {
     "base_uri": "https://localhost:8080/"
    },
    "id": "Hq34wVoZhnUI",
    "outputId": "3791205c-76a1-437f-9462-a1650a835cb5"
   },
   "outputs": [],
   "source": [
    "prices[:10]"
   ]
  },
  {
   "cell_type": "code",
   "execution_count": null,
   "metadata": {
    "colab": {
     "base_uri": "https://localhost:8080/"
    },
    "id": "8Z-nJllhhfXR",
    "outputId": "3d3cf0ab-0179-4bd1-c5aa-e7cffbf335e8"
   },
   "outputs": [],
   "source": [
    "HORIZON = 7\n",
    "WINDOW_SIZE = 30\n",
    "\n",
    "full_windows, full_labels = make_windows(prices, window_size=WINDOW_SIZE, horizon=HORIZON)\n",
    "len(full_windows), len(full_labels)"
   ]
  },
  {
   "cell_type": "code",
   "execution_count": null,
   "metadata": {
    "colab": {
     "base_uri": "https://localhost:8080/"
    },
    "id": "dLEiCDUbhwFy",
    "outputId": "ff4e6b6e-d96a-4723-c569-364f1d11a6a1"
   },
   "outputs": [],
   "source": [
    "train_windows, test_windows, train_labels, test_labels = make_train_test_splits(windows=full_windows,\n",
    "                                                                                labels=full_labels)\n",
    "len(train_windows), len(test_windows), len(train_labels), len(test_labels)"
   ]
  },
  {
   "cell_type": "code",
   "execution_count": null,
   "metadata": {
    "colab": {
     "base_uri": "https://localhost:8080/"
    },
    "id": "cOjnnFgWiBj9",
    "outputId": "6a2131ef-308a-4f49-8641-80f8865a3a61"
   },
   "outputs": [],
   "source": [
    "tf.random.set_seed(42)\n",
    "\n",
    "# Create model (same as model_1 except with different data input and output sizes)\n",
    "model_3 = tf.keras.Sequential([\n",
    "  layers.Dense(128, activation=\"relu\"),\n",
    "  layers.Dense(HORIZON)\n",
    "], name=\"model_3_dense\")\n",
    "\n",
    "# Compile\n",
    "model_3.compile(loss=\"MAE\",\n",
    "                optimizer=tf.keras.optimizers.Adam())\n",
    "\n",
    "# Fit\n",
    "model_3.fit(train_windows,\n",
    "            train_labels,\n",
    "            batch_size=128,\n",
    "            epochs=100,\n",
    "            verbose=0,\n",
    "            validation_data=(test_windows, test_labels),\n",
    "            callbacks=[create_model_checkpoint(model_name=model_3.name)])"
   ]
  },
  {
   "cell_type": "code",
   "execution_count": null,
   "metadata": {
    "colab": {
     "base_uri": "https://localhost:8080/"
    },
    "id": "fsaHNuppi0sM",
    "outputId": "7cd00724-d2d8-4419-9e0f-b722ddee657e"
   },
   "outputs": [],
   "source": [
    "# Evaluate the model on the test data\n",
    "model_3.evaluate(test_windows, test_labels)"
   ]
  },
  {
   "cell_type": "code",
   "execution_count": null,
   "metadata": {
    "colab": {
     "base_uri": "https://localhost:8080/"
    },
    "id": "pyhbBBroi_ol",
    "outputId": "145a32dd-cef3-4816-a85f-146c5ffcf952"
   },
   "outputs": [],
   "source": [
    "# Load best version of model_3 and evaluate\n",
    "model_3 = tf.keras.models.load_model(\"model_experiments/model_3_dense\")\n",
    "model_3.evaluate(test_windows, test_labels)"
   ]
  },
  {
   "cell_type": "code",
   "execution_count": null,
   "metadata": {
    "colab": {
     "base_uri": "https://localhost:8080/"
    },
    "id": "XOAf3MqMjWiG",
    "outputId": "3fb9b639-96ff-45b2-d97e-b1f8ea0ab46a"
   },
   "outputs": [],
   "source": [
    "# Make predictions with model_3\n",
    "model_3_preds = make_preds(model_3,\n",
    "                           input_data=test_windows)\n",
    "model_3_preds[:5]"
   ]
  },
  {
   "cell_type": "code",
   "execution_count": null,
   "metadata": {
    "colab": {
     "base_uri": "https://localhost:8080/"
    },
    "id": "QF_Tb5A_kHJd",
    "outputId": "0f19815e-f266-4596-ab9f-3245a7ac0947"
   },
   "outputs": [],
   "source": [
    "model_2_results"
   ]
  },
  {
   "cell_type": "code",
   "execution_count": null,
   "metadata": {
    "colab": {
     "base_uri": "https://localhost:8080/"
    },
    "id": "SJ5hEqldkOiW",
    "outputId": "82ff32bf-c087-4354-d34f-7528dccfb8c3"
   },
   "outputs": [],
   "source": [
    "model_3_preds.shape, model_2_preds.shape, model_1_preds.shape"
   ]
  },
  {
   "cell_type": "code",
   "execution_count": null,
   "metadata": {
    "colab": {
     "base_uri": "https://localhost:8080/"
    },
    "id": "6yiVgL1yjjde",
    "outputId": "3a76086d-1300-4300-ab62-c08add184b2e"
   },
   "outputs": [],
   "source": [
    "# Evaluate model_3 results (these are going multi-dimensional because we're trying to predict more than one timestep at a time)\n",
    "model_3_results = evaluate_preds(y_true=tf.squeeze(test_labels),\n",
    "                                 y_pred=model_3_preds)\n",
    "model_3_results"
   ]
  },
  {
   "cell_type": "markdown",
   "metadata": {
    "id": "uppaGvz6jlJ8"
   },
   "source": [
    "## Make our evaluation function work for larger horizons"
   ]
  },
  {
   "cell_type": "code",
   "execution_count": null,
   "metadata": {
    "colab": {
     "base_uri": "https://localhost:8080/"
    },
    "id": "enlV-As0myPc",
    "outputId": "6a60812b-9679-49fa-abb3-3865ed83e4f3"
   },
   "outputs": [],
   "source": [
    "model_3.evaluate(test_windows, test_labels)"
   ]
  },
  {
   "cell_type": "code",
   "execution_count": null,
   "metadata": {
    "colab": {
     "base_uri": "https://localhost:8080/"
    },
    "id": "uk5E66MrmN8q",
    "outputId": "6f2e2ecd-46ef-4f01-b689-0418482363dd"
   },
   "outputs": [],
   "source": [
    "tf.reduce_mean(model_3_results[\"mae\"]).numpy()"
   ]
  },
  {
   "cell_type": "code",
   "execution_count": null,
   "metadata": {
    "colab": {
     "base_uri": "https://localhost:8080/"
    },
    "id": "RZVEyrwymTou",
    "outputId": "915f6d8b-c839-4d48-bad8-9bae983b4639"
   },
   "outputs": [],
   "source": [
    "model_2_results[\"mae\"].ndim"
   ]
  },
  {
   "cell_type": "code",
   "execution_count": null,
   "metadata": {
    "id": "4WZcwSs0l_qP"
   },
   "outputs": [],
   "source": [
    "# Create a function to take in model predictions and truth values and return evaluation metrics\n",
    "def evaluate_preds(y_true, y_pred):\n",
    "  # Make sure float32 datatype (for metric calculations)\n",
    "  y_true = tf.cast(y_true, dtype=tf.float32)\n",
    "  y_pred = tf.cast(y_pred, dtype=tf.float32)\n",
    "\n",
    "  # Calculate various evaluation metrics \n",
    "  mae = tf.keras.metrics.mean_absolute_error(y_true, y_pred)\n",
    "  mse = tf.keras.metrics.mean_squared_error(y_true, y_pred)\n",
    "  rmse = tf.sqrt(mse)\n",
    "  mape = tf.keras.metrics.mean_absolute_percentage_error(y_true, y_pred)\n",
    "  mase = mean_absolute_scaled_error(y_true, y_pred)\n",
    "\n",
    "  # Account for different sized metrics (for longer horizons, we want to reduce metrics to a single value)\n",
    "  if mae.ndim > 0:\n",
    "    mae = tf.reduce_mean(mae)\n",
    "    mse = tf.reduce_mean(mse)\n",
    "    rmse = tf.reduce_mean(rmse)\n",
    "    mape = tf.reduce_mean(mape)\n",
    "    mase = tf.reduce_mean(mase)\n",
    "\n",
    "  return {\"mae\": mae.numpy(),\n",
    "          \"mse\": mse.numpy(),\n",
    "          \"rmse\": rmse.numpy(),\n",
    "          \"mape\": mape.numpy(),\n",
    "          \"mase\": mase.numpy()}"
   ]
  },
  {
   "cell_type": "code",
   "execution_count": null,
   "metadata": {
    "colab": {
     "base_uri": "https://localhost:8080/"
    },
    "id": "o7MwOkhjnOdA",
    "outputId": "6bb76c65-7792-41dc-9b23-d3c1d4ef07b0"
   },
   "outputs": [],
   "source": [
    "# Get model_3 results aggregated to single values\n",
    "model_3_results = evaluate_preds(y_true=tf.squeeze(test_labels),\n",
    "                                 y_pred=model_3_preds)\n",
    "model_3_results"
   ]
  },
  {
   "cell_type": "markdown",
   "metadata": {
    "id": "nbT4g3guo9KL"
   },
   "source": [
    "We've made and evaluated predictions with `model_3`, let's visualize, visualize, visualize!"
   ]
  },
  {
   "cell_type": "code",
   "execution_count": null,
   "metadata": {
    "colab": {
     "base_uri": "https://localhost:8080/"
    },
    "id": "RCZ0NJQPpiRO",
    "outputId": "c5c70664-1e60-45ba-9a39-f9856eff5240"
   },
   "outputs": [],
   "source": [
    "model_3_preds[:5]"
   ]
  },
  {
   "cell_type": "code",
   "execution_count": null,
   "metadata": {
    "colab": {
     "base_uri": "https://localhost:8080/"
    },
    "id": "ko5Mm3zqpwsk",
    "outputId": "213b2a63-e50d-42b2-d9fb-b8e4d2b1b405"
   },
   "outputs": [],
   "source": [
    "test_labels[:]"
   ]
  },
  {
   "cell_type": "code",
   "execution_count": null,
   "metadata": {
    "colab": {
     "base_uri": "https://localhost:8080/",
     "height": 442
    },
    "id": "Y_Vv4FYLncLB",
    "outputId": "7455f84a-1241-41a7-cbb5-ce67ea6ce6f1"
   },
   "outputs": [],
   "source": [
    "offset = 300\n",
    "plt.figure(figsize=(10, 7))\n",
    "plot_time_series(timesteps=X_test[-len(test_windows):], values=test_labels[:, 0], start=offset, format=\"-\", label=\"Test data\")\n",
    "plot_time_series(timesteps=X_test[-len(test_windows):], values=model_3_preds, start=offset, label=\"model_3_preds\")"
   ]
  },
  {
   "cell_type": "code",
   "execution_count": null,
   "metadata": {
    "colab": {
     "base_uri": "https://localhost:8080/"
    },
    "id": "KczBORyzqkIZ",
    "outputId": "5fb48cb9-6de9-4d5f-8e1a-fcfae59cc00e"
   },
   "outputs": [],
   "source": [
    "model_3_preds[0]"
   ]
  },
  {
   "cell_type": "code",
   "execution_count": null,
   "metadata": {
    "colab": {
     "base_uri": "https://localhost:8080/"
    },
    "id": "VJb2RZWIqoqS",
    "outputId": "428508c6-a4c4-4e0d-fdf7-972eaf2989d7"
   },
   "outputs": [],
   "source": [
    "tf.reduce_mean(model_3_preds[0])"
   ]
  },
  {
   "cell_type": "code",
   "execution_count": null,
   "metadata": {
    "colab": {
     "base_uri": "https://localhost:8080/",
     "height": 442
    },
    "id": "fS8iRBe3pctr",
    "outputId": "8ef6988c-e801-4dd6-fc7f-a3bd4dadb429"
   },
   "outputs": [],
   "source": [
    "offset = 300\n",
    "plt.figure(figsize=(10, 7))\n",
    "plot_time_series(timesteps=X_test[-len(test_windows):], \n",
    "                 values=test_labels[:, 0], \n",
    "                 start=offset, \n",
    "                 format=\"-\",\n",
    "                 label=\"Test data\")\n",
    "plot_time_series(timesteps=X_test[-len(test_windows):], \n",
    "                 values=tf.reduce_mean(model_3_preds, axis=1), \n",
    "                 start=offset,\n",
    "                 format=\"-\", \n",
    "                 label=\"model_3_preds\")"
   ]
  },
  {
   "cell_type": "markdown",
   "metadata": {
    "id": "TDVpbCj5q7rJ"
   },
   "source": [
    "## Which of our models is performing the best so far? \n",
    "\n",
    "So we've trained a few models, now let's compare them and see how they've gone... "
   ]
  },
  {
   "cell_type": "code",
   "execution_count": null,
   "metadata": {
    "colab": {
     "base_uri": "https://localhost:8080/",
     "height": 440
    },
    "id": "LI6l7FuZrd0z",
    "outputId": "aaf18e16-9a42-4f91-a2bb-d6b468491d3b"
   },
   "outputs": [],
   "source": [
    "pd.DataFrame({\"naive\": naive_results[\"mae\"],\n",
    "              \"horizon_1_window_7\": model_1_results[\"mae\"],\n",
    "              \"horizon_1_window_30\": model_2_results[\"mae\"],\n",
    "              \"horizon_7_window_30\": model_3_results[\"mae\"]}, index=[\"mae\"]).plot(figsize=(10, 7), kind=\"bar\");"
   ]
  },
  {
   "cell_type": "markdown",
   "metadata": {
    "id": "hJIBJXgFr1S2"
   },
   "source": [
    "> 🔑 **Note:** You might be wondering, why are the naïve results so good? One of the reasons could be due the presence of autocorrelation in the data. If a time series has autocorrelation it means the value at `t+1` (the next timestep) is typically close to the value at `t` (the current timestep). In other words, today's value is probably pretty close to yesterday's value. Of course, this isn't always the case but when it is (stock market prices often seem autocorrelated but often fluctuate randomly), a naïve model will often get fairly good results.\n",
    "\n",
    "> 📖 **Resource:** For more on how autocorrelation influences a model's predictions, see the article [How (not) to use Machine Learning for time series forecasting: Avoiding the pitfalls by Vegard Flovik](https://towardsdatascience.com/how-not-to-use-machine-learning-for-time-series-forecasting-avoiding-the-pitfalls-19f9d7adf424)."
   ]
  },
  {
   "cell_type": "markdown",
   "metadata": {
    "id": "Xnw9Vgxkt8lu"
   },
   "source": [
    "## Model 4: Conv1D"
   ]
  },
  {
   "cell_type": "code",
   "execution_count": null,
   "metadata": {
    "id": "jQoH9GRkRbYr"
   },
   "outputs": [],
   "source": [
    "HORIZON = 1 # predict next day of Bitcoin prices\n",
    "WINDOW_SIZE = 7 # use previous week worth data"
   ]
  },
  {
   "cell_type": "code",
   "execution_count": null,
   "metadata": {
    "colab": {
     "base_uri": "https://localhost:8080/"
    },
    "id": "xtcEX1G3RiD2",
    "outputId": "1e70a0db-cf1b-4e6a-9563-53d892549c66"
   },
   "outputs": [],
   "source": [
    "# Create windowed data\n",
    "full_windows, full_labels = make_windows(prices, window_size=WINDOW_SIZE, horizon=HORIZON)\n",
    "len(full_windows), len(full_labels)"
   ]
  },
  {
   "cell_type": "code",
   "execution_count": null,
   "metadata": {
    "colab": {
     "base_uri": "https://localhost:8080/"
    },
    "id": "iYCM2rzBRrRz",
    "outputId": "067b1a13-cfd5-4d2a-be46-1466b1d9d72e"
   },
   "outputs": [],
   "source": [
    "# Create train/test sets\n",
    "train_windows, test_windows, train_labels, test_labels = make_train_test_splits(full_windows, full_labels)\n",
    "len(train_windows), len(train_labels), len(test_windows), len(test_labels)"
   ]
  },
  {
   "cell_type": "markdown",
   "metadata": {
    "id": "ZtHQV-OYR2bb"
   },
   "source": [
    "To use the Conv1D layer, we need an input shape of: `(batch_size, timesteps, input_dim)`...\n",
    "\n",
    "However our data isn't in that shape yet..."
   ]
  },
  {
   "cell_type": "code",
   "execution_count": null,
   "metadata": {
    "colab": {
     "base_uri": "https://localhost:8080/"
    },
    "id": "p782G1AjSae3",
    "outputId": "1d250609-b102-4be3-d953-eb8a78e1538c"
   },
   "outputs": [],
   "source": [
    "# Check data input shape\n",
    "train_windows[0].shape # returns (WINDOW_SIZE, )"
   ]
  },
  {
   "cell_type": "code",
   "execution_count": null,
   "metadata": {
    "colab": {
     "base_uri": "https://localhost:8080/"
    },
    "id": "wmgshhRsSd4n",
    "outputId": "96d2e6a8-d424-431f-bccf-eda2c765754b"
   },
   "outputs": [],
   "source": [
    "# Before we pass our data to the Conv1D layer, we have to reshape it in order to make sure it works\n",
    "x = tf.constant(train_windows[0])\n",
    "x"
   ]
  },
  {
   "cell_type": "code",
   "execution_count": null,
   "metadata": {
    "id": "8eubHSlpS8Th"
   },
   "outputs": [],
   "source": [
    "expand_dims_layer = layers.Lambda(lambda x: tf.expand_dims(x, axis=1)) # add an extra dimension for `input_dim`"
   ]
  },
  {
   "cell_type": "code",
   "execution_count": null,
   "metadata": {
    "colab": {
     "base_uri": "https://localhost:8080/"
    },
    "id": "cUA9ZAadTKHd",
    "outputId": "c9e14a54-662e-42c1-f0e9-cf1a5284645b"
   },
   "outputs": [],
   "source": [
    "# Test out our lambda layer\n",
    "print(f\"Original shape: {x.shape}\") # (WINDIW_SIZE)\n",
    "print(f\"Expanded shape: {expand_dims_layer(x).shape}\") # output = ...?\n",
    "print(f\"Original values with expanded shape:\\n {expand_dims_layer(x)}\")"
   ]
  },
  {
   "cell_type": "code",
   "execution_count": null,
   "metadata": {
    "colab": {
     "base_uri": "https://localhost:8080/"
    },
    "id": "i4ho9HWqT7nU",
    "outputId": "855e3a7c-0ec5-47c4-807f-e5f1aa35ccc5"
   },
   "outputs": [],
   "source": [
    "tf.random.set_seed(42)\n",
    "\n",
    "# Create Conv1D model\n",
    "model_4 = tf.keras.Sequential([\n",
    "  layers.Lambda(lambda x: tf.expand_dims(x, axis=1)),\n",
    "  layers.Conv1D(filters=128, kernel_size=5, strides=1, padding=\"causal\", activation=\"relu\"),\n",
    "  layers.Dense(HORIZON)                      \n",
    "], name=\"model_4_conv1D\")\n",
    "\n",
    "# Compile model\n",
    "model_4.compile(loss=\"mae\",\n",
    "                optimizer=tf.keras.optimizers.Adam())\n",
    "\n",
    "# Fit\n",
    "model_4.fit(train_windows,\n",
    "            train_labels,\n",
    "            batch_size=128, \n",
    "            epochs=100,\n",
    "            verbose=1,\n",
    "            validation_data=(test_windows, test_labels),\n",
    "            callbacks=[create_model_checkpoint(model_name=model_4.name)])"
   ]
  },
  {
   "cell_type": "code",
   "execution_count": null,
   "metadata": {
    "colab": {
     "base_uri": "https://localhost:8080/"
    },
    "id": "04aLSiWiWECy",
    "outputId": "30544349-a7f9-43c2-9541-dd8304b8ac86"
   },
   "outputs": [],
   "source": [
    "model_4.summary()"
   ]
  },
  {
   "cell_type": "code",
   "execution_count": null,
   "metadata": {
    "colab": {
     "base_uri": "https://localhost:8080/"
    },
    "id": "jntXBiQ8WcR8",
    "outputId": "e1866f2c-3119-4b8e-ae61-a327a8cd7c1c"
   },
   "outputs": [],
   "source": [
    "# Evaluate model... \n",
    "model_4.evaluate(test_windows, test_labels)"
   ]
  },
  {
   "cell_type": "code",
   "execution_count": null,
   "metadata": {
    "colab": {
     "base_uri": "https://localhost:8080/"
    },
    "id": "3Nz6w-73Wiql",
    "outputId": "cf2182a9-43ba-4f27-a9e1-4d7c9e703601"
   },
   "outputs": [],
   "source": [
    "# Load back in best performing Conv1D and re-evaluate\n",
    "model_4 = tf.keras.models.load_model(\"model_experiments/model_4_conv1D\")\n",
    "model_4.evaluate(test_windows, test_labels)"
   ]
  },
  {
   "cell_type": "code",
   "execution_count": null,
   "metadata": {
    "colab": {
     "base_uri": "https://localhost:8080/"
    },
    "id": "lTav8DqhWn-N",
    "outputId": "c910a669-a38b-48c7-f3a8-a43aaa9fff32"
   },
   "outputs": [],
   "source": [
    "# Make predictions\n",
    "model_4_preds = make_preds(model_4, test_windows)\n",
    "model_4_preds[:10]"
   ]
  },
  {
   "cell_type": "code",
   "execution_count": null,
   "metadata": {
    "colab": {
     "base_uri": "https://localhost:8080/"
    },
    "id": "z6hawNv_XY0Q",
    "outputId": "b93cc58f-a7a5-40a2-ba05-de5a62e003be"
   },
   "outputs": [],
   "source": [
    "# Evaluate predictions\n",
    "model_4_results = evaluate_preds(y_true=tf.squeeze(test_labels),\n",
    "                                 y_pred=model_4_preds)\n",
    "model_4_results"
   ]
  },
  {
   "cell_type": "markdown",
   "metadata": {
    "id": "0G3HSgRSXm7W"
   },
   "source": [
    "## Model 5: RNN (LSTM)\n",
    "\n",
    "Let's build an RNN model for our time series data.\n",
    "\n",
    "We'll use the same data we created previously."
   ]
  },
  {
   "cell_type": "code",
   "execution_count": null,
   "metadata": {
    "colab": {
     "base_uri": "https://localhost:8080/"
    },
    "id": "1beY1sjJYr8Y",
    "outputId": "7eb9f82b-d053-48df-9a18-c8d7278f8bb8"
   },
   "outputs": [],
   "source": [
    "train_windows[:5]"
   ]
  },
  {
   "cell_type": "code",
   "execution_count": null,
   "metadata": {
    "colab": {
     "base_uri": "https://localhost:8080/"
    },
    "id": "XedJb6M6YcnG",
    "outputId": "6d2196ef-9c9a-4fb6-ac68-54d27d5ee2b7"
   },
   "outputs": [],
   "source": [
    "tf.random.set_seed(42)\n",
    "\n",
    "# Let's build an LSTM model with the Functional API\n",
    "inputs = layers.Input(shape=(WINDOW_SIZE))\n",
    "x = layers.Lambda(lambda x: tf.expand_dims(x, axis=1))(inputs)\n",
    "# x = layers.LSTM(128, return_sequences=True)(x)\n",
    "x = layers.LSTM(128, activation=\"relu\")(x)\n",
    "# x = layers.Dense(32, activation=\"relu\")(x)\n",
    "output = layers.Dense(HORIZON)(x)\n",
    "model_5 = tf.keras.Model(inputs=inputs, outputs=output, name=\"model_5_LSTM\")\n",
    "\n",
    "# Compile\n",
    "model_5.compile(loss=\"mae\",\n",
    "                optimizer=tf.keras.optimizers.Adam())\n",
    "\n",
    "# Fit\n",
    "model_5.fit(train_windows,\n",
    "            train_labels,\n",
    "            epochs=100,\n",
    "            verbose=1,\n",
    "            batch_size=128,\n",
    "            validation_data=(test_windows, test_labels),\n",
    "            callbacks=[create_model_checkpoint(model_name=model_5.name)])"
   ]
  },
  {
   "cell_type": "code",
   "execution_count": null,
   "metadata": {
    "colab": {
     "base_uri": "https://localhost:8080/"
    },
    "id": "ntYWr3saaBdz",
    "outputId": "9e4914f7-b1be-47da-9d8e-f8b55b0f6382"
   },
   "outputs": [],
   "source": [
    "# Load in best version of model 5 and evaluate on the test data\n",
    "model_5 = tf.keras.models.load_model(\"model_experiments/model_5_LSTM\")\n",
    "model_5.evaluate(test_windows, test_labels)"
   ]
  },
  {
   "cell_type": "code",
   "execution_count": null,
   "metadata": {
    "colab": {
     "base_uri": "https://localhost:8080/"
    },
    "id": "5W3jltUcbS-e",
    "outputId": "8876f1f5-b69e-4b66-85c1-0988728ccfc6"
   },
   "outputs": [],
   "source": [
    "# Make prediction with our LSTM model\n",
    "model_5_preds = make_preds(model_5, test_windows)\n",
    "model_5_preds[:5]"
   ]
  },
  {
   "cell_type": "code",
   "execution_count": null,
   "metadata": {
    "colab": {
     "base_uri": "https://localhost:8080/"
    },
    "id": "EWRHP9xmbeH1",
    "outputId": "b268e925-c388-4757-a4c4-3645a322bfed"
   },
   "outputs": [],
   "source": [
    "# Evaluate model 5 predictions\n",
    "model_5_results = evaluate_preds(y_true=tf.squeeze(test_labels),\n",
    "                                 y_pred=model_5_preds)\n",
    "model_5_results"
   ]
  },
  {
   "cell_type": "markdown",
   "metadata": {
    "id": "lyu1CNCUbrLw"
   },
   "source": [
    "> 🔑 **Note:** Because neural networks are such powerful algorithms, they can be used for almost any problem, however, that doesn't mean they'll achieve performant or usable results. You're probably starting to clue onto this now."
   ]
  },
  {
   "cell_type": "markdown",
   "metadata": {
    "id": "zZXA2FGRfTLd"
   },
   "source": [
    "## Make a multivariate time series dataset\n",
    "\n",
    "Before we add a feature to our time series, what is a feature we can use?\n",
    "\n",
    "One feature we could add is whether or not Daniel Bourke tweeted on that day...\n",
    "\n",
    "* day 1 - 0\n",
    "* day 2 - 1\n",
    "* day 3 - 0\n",
    "\n",
    "What's a better feature to use?\n",
    "\n",
    "How about the bitcoin halving events?\n",
    "\n",
    "https://www.cmcmarkets.com/en/learn-cryptocurrencies/bitcoin-halving"
   ]
  },
  {
   "cell_type": "code",
   "execution_count": null,
   "metadata": {
    "colab": {
     "base_uri": "https://localhost:8080/",
     "height": 237
    },
    "id": "2KJBCiSdffKx",
    "outputId": "51655376-9078-4b31-c3cd-ecacc4628adb"
   },
   "outputs": [],
   "source": [
    "# Let's make a multivariate time series \n",
    "bitcoin_prices.head()"
   ]
  },
  {
   "cell_type": "code",
   "execution_count": null,
   "metadata": {
    "id": "pOAftuCBhGtI"
   },
   "outputs": [],
   "source": [
    "# Let's add the bitcoin halving events to our dataset\n",
    "block_reward_1 = 50 # 3 January 2009 - this block reward isn't in our dataset (our data starts from 01 October 2013)\n",
    "block_reward_2 = 25 # 8 November 2012\n",
    "block_reward_3 = 12.5 # 9 July 2016\n",
    "block_reward_4 = 6.25 # 18 May 2020\n",
    "\n",
    "# Block reward dates\n",
    "block_reward_2_datetime = np.datetime64(\"2012-11-28\")\n",
    "block_reward_3_datetime = np.datetime64(\"2016-07-09\")\n",
    "block_reward_4_datetime = np.datetime64(\"2020-05-18\")"
   ]
  },
  {
   "cell_type": "code",
   "execution_count": null,
   "metadata": {
    "colab": {
     "base_uri": "https://localhost:8080/"
    },
    "id": "_4OqWSnFiGpR",
    "outputId": "4cadee91-ce62-4270-aab1-82efdcf989c6"
   },
   "outputs": [],
   "source": [
    "# Create date ranges of where specific block_reward values should be\n",
    "block_reward_2_days = (block_reward_3_datetime - bitcoin_prices.index[0]).days\n",
    "block_reward_3_days = (block_reward_4_datetime - bitcoin_prices.index[0]).days\n",
    "block_reward_2_days, block_reward_3_days"
   ]
  },
  {
   "cell_type": "code",
   "execution_count": null,
   "metadata": {
    "id": "F-2L3WkMiiCg"
   },
   "outputs": [],
   "source": [
    "# Add in a block_reward column\n",
    "bitcoin_prices_block = bitcoin_prices.copy()\n",
    "bitcoin_prices_block[\"block_reward\"] = None\n",
    "\n",
    "# Add in block_reward values as a feature to our dataframe\n",
    "bitcoin_prices_block.iloc[:block_reward_2_days, -1] = block_reward_2\n",
    "bitcoin_prices_block.iloc[block_reward_2_days:block_reward_3_days, -1] = block_reward_3\n",
    "bitcoin_prices_block.iloc[block_reward_3_days:, -1] = block_reward_4"
   ]
  },
  {
   "cell_type": "code",
   "execution_count": null,
   "metadata": {
    "colab": {
     "base_uri": "https://localhost:8080/",
     "height": 237
    },
    "id": "kpVAln5Ckq6D",
    "outputId": "17b4f6b9-a6c9-44da-80f0-74576198706e"
   },
   "outputs": [],
   "source": [
    "bitcoin_prices_block.head()"
   ]
  },
  {
   "cell_type": "code",
   "execution_count": null,
   "metadata": {
    "colab": {
     "base_uri": "https://localhost:8080/",
     "height": 442
    },
    "id": "bWuJBHYvk8UL",
    "outputId": "10dbdefa-0423-4212-9e96-fa829fb8d560"
   },
   "outputs": [],
   "source": [
    "# Plot the block reward vs price over time\n",
    "from sklearn.preprocessing import minmax_scale\n",
    "scaled_price_block_df = pd.DataFrame(minmax_scale(bitcoin_prices_block[[\"Price\", \"block_reward\"]]),\n",
    "                                                                       columns=bitcoin_prices_block.columns,\n",
    "                                                                       index=bitcoin_prices_block.index)\n",
    "scaled_price_block_df.plot(figsize=(10, 7));"
   ]
  },
  {
   "cell_type": "markdown",
   "metadata": {
    "id": "FMukdlPulgPm"
   },
   "source": [
    "## Making a windowed dataset with pandas\n",
    "\n",
    "Previously, we've turned our univariate time series into windowed dataset using the helper functions above.\n",
    "\n",
    "However, since we've got multivariate data, these functions won't work.\n",
    "\n",
    "Not to worry, we can use the pandas.DataFrame.shift() method to window our multivariate data.\n",
    "\n",
    "https://pandas.pydata.org/pandas-docs/stable/reference/api/pandas.DataFrame.shift.html"
   ]
  },
  {
   "cell_type": "code",
   "execution_count": null,
   "metadata": {
    "id": "f0Tz5Ddola1d"
   },
   "outputs": [],
   "source": [
    "# Setup dataset hyperparameters\n",
    "HORIZON = 1\n",
    "WINDOW_SIZE = 7"
   ]
  },
  {
   "cell_type": "code",
   "execution_count": null,
   "metadata": {
    "colab": {
     "base_uri": "https://localhost:8080/",
     "height": 394
    },
    "id": "kBrIwlL0l6TE",
    "outputId": "12c93590-5bb2-484f-c130-c6dc06807451"
   },
   "outputs": [],
   "source": [
    "# Make a copy of the Bitcoin historical data with block reward feature\n",
    "bitcoin_prices_windowed = bitcoin_prices_block.copy()\n",
    "\n",
    "# Add windowed columns\n",
    "for i in range(WINDOW_SIZE): # shift values for each step in WINDOW_SIZE\n",
    "  bitcoin_prices_windowed[f\"Price+{i+1}\"] = bitcoin_prices_windowed[\"Price\"].shift(periods=i+1)\n",
    "bitcoin_prices_windowed.head(10)"
   ]
  },
  {
   "cell_type": "code",
   "execution_count": null,
   "metadata": {
    "colab": {
     "base_uri": "https://localhost:8080/",
     "height": 344
    },
    "id": "3IQwtjBpndTr",
    "outputId": "779a6864-85c7-4359-82be-8c30de15195a"
   },
   "outputs": [],
   "source": [
    "bitcoin_prices_windowed.tail()"
   ]
  },
  {
   "cell_type": "markdown",
   "metadata": {
    "id": "2itSuJJKnDi_"
   },
   "source": [
    "What we've done is created a way to window our dataset directly from a pandas dataframe.\n",
    "\n",
    "```\n",
    "[0, 1, 2, 3, 4, 5, 6, block_reward] -> [7]\n",
    "[1, 2, 3, 4, 5, 6, 7, block_reward] -> [8]\n",
    "[2, 3, 4, 5, 6, 7, 8, block_reward] -> [9]\n",
    "```\n",
    "\n"
   ]
  },
  {
   "cell_type": "code",
   "execution_count": null,
   "metadata": {
    "colab": {
     "base_uri": "https://localhost:8080/",
     "height": 237
    },
    "id": "uyH2sPAEmSVd",
    "outputId": "d295a34e-71be-405c-c3f8-632d2de66f37"
   },
   "outputs": [],
   "source": [
    "# Create X (windows) and y (horizons) features\n",
    "X = bitcoin_prices_windowed.dropna().drop(\"Price\", axis=1).astype(np.float32)\n",
    "y = bitcoin_prices_windowed.dropna()[\"Price\"].astype(np.float32)\n",
    "X.head()"
   ]
  },
  {
   "cell_type": "code",
   "execution_count": null,
   "metadata": {
    "colab": {
     "base_uri": "https://localhost:8080/"
    },
    "id": "j0hRWSy2mTuU",
    "outputId": "84a4004a-0874-4dd8-9908-75343f6cfc1a"
   },
   "outputs": [],
   "source": [
    "y.head()"
   ]
  },
  {
   "cell_type": "code",
   "execution_count": null,
   "metadata": {
    "colab": {
     "base_uri": "https://localhost:8080/"
    },
    "id": "Nw90yqrsnxFp",
    "outputId": "f06616b7-d4b9-4813-f2a9-612c8827e378"
   },
   "outputs": [],
   "source": [
    "# Make train and test sets using indexing\n",
    "split_size = int(len(X) * 0.8)\n",
    "X_train, y_train = X[:split_size], y[:split_size]\n",
    "X_test, y_test = X[split_size:], y[split_size:]\n",
    "len(X_train), len(y_train), len(X_test), len(y_test)"
   ]
  },
  {
   "cell_type": "markdown",
   "metadata": {
    "id": "1qP50xkwoQ6s"
   },
   "source": [
    "## Model 6: Dense (multivariate time series)"
   ]
  },
  {
   "cell_type": "code",
   "execution_count": null,
   "metadata": {
    "colab": {
     "base_uri": "https://localhost:8080/"
    },
    "id": "IpM1VundoWk7",
    "outputId": "d9092b9c-035b-4255-941c-c0c1f734c01e"
   },
   "outputs": [],
   "source": [
    "tf.random.set_seed(42)\n",
    "\n",
    "# Make multivariate time series model\n",
    "model_6 = tf.keras.Sequential([\n",
    "  layers.Dense(128, activation=\"relu\"),\n",
    "  # layers.Dense(128, activation=\"relu\"),\n",
    "  layers.Dense(HORIZON)                          \n",
    "], name=\"model_6_dense_multivariate\")\n",
    "\n",
    "# Compile\n",
    "model_6.compile(loss=\"mae\",\n",
    "                optimizer=tf.keras.optimizers.Adam())\n",
    "\n",
    "# Fit\n",
    "model_6.fit(X_train, y_train,\n",
    "            epochs=100,\n",
    "            batch_size=128,\n",
    "            verbose=1,\n",
    "            validation_data=(X_test, y_test),\n",
    "            callbacks=[create_model_checkpoint(model_name=model_6.name)])"
   ]
  },
  {
   "cell_type": "code",
   "execution_count": null,
   "metadata": {
    "colab": {
     "base_uri": "https://localhost:8080/"
    },
    "id": "ZiwiRjO5o7wo",
    "outputId": "6d434768-3112-4a3b-b61d-6ec9ef7db049"
   },
   "outputs": [],
   "source": [
    "# Evaluate multivariate model\n",
    "model_6.evaluate(X_test, y_test)"
   ]
  },
  {
   "cell_type": "code",
   "execution_count": null,
   "metadata": {
    "colab": {
     "base_uri": "https://localhost:8080/"
    },
    "id": "6VAyP2I3o8fx",
    "outputId": "0da84ac6-ce50-4218-d24a-a504467d63d7"
   },
   "outputs": [],
   "source": [
    "# Load in and evaluate best performing model\n",
    "model_6 = tf.keras.models.load_model(\"model_experiments/model_6_dense_multivariate\")\n",
    "model_6.evaluate(X_test, y_test)"
   ]
  },
  {
   "cell_type": "code",
   "execution_count": null,
   "metadata": {
    "colab": {
     "base_uri": "https://localhost:8080/"
    },
    "id": "0cwsZf4np6oe",
    "outputId": "b1774bf1-535e-4908-fa02-280b601ffa7d"
   },
   "outputs": [],
   "source": [
    "# Make predictions with multivariate model\n",
    "model_6_preds = tf.squeeze(model_6.predict(X_test))\n",
    "model_6_preds[:10]"
   ]
  },
  {
   "cell_type": "code",
   "execution_count": null,
   "metadata": {
    "colab": {
     "base_uri": "https://localhost:8080/"
    },
    "id": "ENs9ubBMqEAL",
    "outputId": "d24540e5-61e1-4b47-97a5-200ed022c6bc"
   },
   "outputs": [],
   "source": [
    "# Evaluate predictions to get eval metrics\n",
    "model_6_results = evaluate_preds(y_true=y_test,\n",
    "                                 y_pred=model_6_preds)\n",
    "model_6_results"
   ]
  },
  {
   "cell_type": "code",
   "execution_count": null,
   "metadata": {
    "colab": {
     "base_uri": "https://localhost:8080/"
    },
    "id": "jqmZW6YEqOyR",
    "outputId": "38d8f5fe-bf6f-4657-e8bf-6c3aa11cbdfb"
   },
   "outputs": [],
   "source": [
    "model_1_results"
   ]
  },
  {
   "cell_type": "markdown",
   "metadata": {
    "id": "MqynG0CcqQA7"
   },
   "source": [
    "For a challenge on different ways to potentially improve the multivariate time series model, see the reference here: https://dev.mrdbourke.com/tensorflow-deep-learning/10_time_series_forecasting_in_tensorflow/#model-6-dense-multivariate-time-series"
   ]
  },
  {
   "cell_type": "markdown",
   "metadata": {
    "id": "JuBCHIluqa_5"
   },
   "source": [
    "## Model 7: N-BEATS algorithm\n",
    "\n",
    "Let's now try build the biggest baddest (though maybe not the baddest, as in, it perform really well...) time series forecasting model we've built so far.\n",
    "\n",
    "More specifically, we're going to be replicating the algorithm in Figure 1 from the following paper: https://arxiv.org/pdf/1905.10437.pdf\n",
    "\n",
    "Why?\n",
    "\n",
    "* This will allow us to practice replicating a paper with TensorFlow code\n",
    "* We will see how to use TensorFlow layer subclassing (to make our own custom layers)\n",
    "* Get experience using the Functional API to create a custom architecture \n",
    "* Potentially get state of the art results on our problem "
   ]
  },
  {
   "cell_type": "markdown",
   "metadata": {
    "id": "EvZPJmAFxZsU"
   },
   "source": [
    "### Building and testing the N-BEATS block layer\n",
    "\n",
    "Because the N-BEATS block layer doesn't exist in TensorFlow, we've got to create it.\n",
    "\n",
    "To create custom layers and models in TensorFlow we can use subclassing: https://www.tensorflow.org/guide/keras/custom_layers_and_models\n"
   ]
  },
  {
   "cell_type": "code",
   "execution_count": null,
   "metadata": {
    "id": "cCD2mhk6x8kQ"
   },
   "outputs": [],
   "source": [
    "# Create NBeatBlock custom layer\n",
    "class NBeatsBlock(tf.keras.layers.Layer):\n",
    "  def __init__(self, \n",
    "               input_size: int,\n",
    "               theta_size: int,\n",
    "               horizon: int,\n",
    "               n_neurons: int,\n",
    "               n_layers: int,\n",
    "               **kwargs): # the **kwargs argument takes care of all the arguments for the parent class (input_shape, trainable, name)\n",
    "    super().__init__(**kwargs)\n",
    "    self.input_size = input_size\n",
    "    self.theta_size = theta_size\n",
    "    self.horizon = horizon\n",
    "    self.n_neurons = n_neurons\n",
    "    self.n_layers = n_layers\n",
    "\n",
    "    # Block contains stack of 4 fully connected layers each has ReLU activation\n",
    "    self.hidden = [tf.keras.layers.Dense(n_neurons, activation=\"relu\") for _ in range(n_layers)]\n",
    "    # Output of block is a theta layer with linear activation\n",
    "    self.theta_layer = tf.keras.layers.Dense(theta_size, activation=\"linear\", name=\"theta\")\n",
    "\n",
    "  def call(self, inputs):\n",
    "    x = inputs\n",
    "    for layer in self.hidden:\n",
    "      x = layer(x)\n",
    "    theta = self.theta_layer(x)\n",
    "    # Output the backcast and the forecast from theta\n",
    "    backcast, forecast = theta[:, :self.input_size], theta[:, -self.horizon:]\n",
    "    return backcast, forecast"
   ]
  },
  {
   "cell_type": "markdown",
   "metadata": {
    "id": "Si-kYAyC4rqL"
   },
   "source": [
    "Let's test our NBeatsBlock class.\n",
    "\n",
    "To do we'll make some dummy inputs and outputs."
   ]
  },
  {
   "cell_type": "code",
   "execution_count": null,
   "metadata": {
    "id": "FU4qU0Lb0gMt"
   },
   "outputs": [],
   "source": [
    "# Set up dummy NBeatsBlock layer to represent inputs and outputs\n",
    "tf.random.set_seed(42)\n",
    "dummy_nbeats_block_layer = NBeatsBlock(input_size=WINDOW_SIZE,\n",
    "                                       theta_size=WINDOW_SIZE+HORIZON, # backcast + forecast\n",
    "                                       horizon=HORIZON,\n",
    "                                       n_neurons=128,\n",
    "                                       n_layers=4)"
   ]
  },
  {
   "cell_type": "code",
   "execution_count": null,
   "metadata": {
    "colab": {
     "base_uri": "https://localhost:8080/"
    },
    "id": "8C3mQiTA5rCW",
    "outputId": "b4073fca-9d14-45dd-dfbe-46db1a3f35cc"
   },
   "outputs": [],
   "source": [
    "# Create dummy inputs (have to be same size as input_size)\n",
    "dummy_inputs = tf.expand_dims(tf.range(WINDOW_SIZE) + 1, axis=0) # input shape to the model has to reflect dense layer input requirements (ndim=2)\n",
    "dummy_inputs"
   ]
  },
  {
   "cell_type": "code",
   "execution_count": null,
   "metadata": {
    "colab": {
     "base_uri": "https://localhost:8080/"
    },
    "id": "iUgkGX3O6HVx",
    "outputId": "6e70f7c8-6985-4da3-a020-cc3bd6d10e9b"
   },
   "outputs": [],
   "source": [
    "# Pass dummy inputs to dummy NBeatsBlock layer\n",
    "backcast, forecast = dummy_nbeats_block_layer(dummy_inputs)\n",
    "# These are the activation outputs of the theta layer (they'll be random due to no training of the model)\n",
    "print(f\"Backcast: {tf.squeeze(backcast.numpy())}\")\n",
    "print(f\"Forecast: {tf.squeeze(forecast.numpy())}\")"
   ]
  },
  {
   "cell_type": "markdown",
   "metadata": {
    "id": "atI1K8kH6mqg"
   },
   "source": [
    "### Preparing data for the N-BEATS algorithm using `tf.data`\n",
    "\n",
    "To make our input data load as fast as possible we're going to be adhering to the performant data pipeline steps in the tf.data guide: https://www.tensorflow.org/guide/data_performance "
   ]
  },
  {
   "cell_type": "code",
   "execution_count": null,
   "metadata": {
    "id": "tO7CL1M5eC_x"
   },
   "outputs": [],
   "source": [
    "HORIZON = 1\n",
    "WINDOW_SIZE = 7 "
   ]
  },
  {
   "cell_type": "code",
   "execution_count": null,
   "metadata": {
    "colab": {
     "base_uri": "https://localhost:8080/",
     "height": 237
    },
    "id": "5RAZpqvleUax",
    "outputId": "2dadc20a-fc32-42d2-924f-c9c88a66b686"
   },
   "outputs": [],
   "source": [
    "# Create N-BEATS data inputs (N-BEATS works with univariate time series)\n",
    "bitcoin_prices.head()"
   ]
  },
  {
   "cell_type": "code",
   "execution_count": null,
   "metadata": {
    "colab": {
     "base_uri": "https://localhost:8080/",
     "height": 237
    },
    "id": "mGKXQbarehYW",
    "outputId": "91f7d8f1-ad43-438f-a226-700f2b900f47"
   },
   "outputs": [],
   "source": [
    "# Add windowed columns\n",
    "bitcoin_prices_nbeats = bitcoin_prices.copy()\n",
    "for i in range(WINDOW_SIZE):\n",
    "  bitcoin_prices_nbeats[f\"Price+{i+1}\"] = bitcoin_prices_nbeats[\"Price\"].shift(periods=i+1)\n",
    "bitcoin_prices_nbeats.head()"
   ]
  },
  {
   "cell_type": "code",
   "execution_count": null,
   "metadata": {
    "colab": {
     "base_uri": "https://localhost:8080/"
    },
    "id": "tTC3Y_slezxB",
    "outputId": "817d740a-cea6-4f1e-d8f6-bdf272ec85ac"
   },
   "outputs": [],
   "source": [
    "# Make features and labels\n",
    "X = bitcoin_prices_nbeats.dropna().drop(\"Price\", axis=1)\n",
    "y = bitcoin_prices_nbeats.dropna()[\"Price\"]\n",
    "\n",
    "# Make train and test sets\n",
    "split_size = int(len(X) * 0.8)\n",
    "X_train, y_train = X[:split_size], y[:split_size]\n",
    "X_test, y_test = X[split_size:], y[split_size:]\n",
    "len(X_train), len(y_train), len(X_test), len(y_test)"
   ]
  },
  {
   "cell_type": "code",
   "execution_count": null,
   "metadata": {
    "colab": {
     "base_uri": "https://localhost:8080/"
    },
    "id": "cRajLYjZfVBZ",
    "outputId": "cfd103e4-135a-4b4e-a89d-15102402af53"
   },
   "outputs": [],
   "source": [
    "# Time to make our dataset performant using tf.data API\n",
    "train_features_dataset = tf.data.Dataset.from_tensor_slices(X_train)\n",
    "train_labels_dataset = tf.data.Dataset.from_tensor_slices(y_train)\n",
    "\n",
    "test_features_dataset = tf.data.Dataset.from_tensor_slices(X_test)\n",
    "test_labels_dataset = tf.data.Dataset.from_tensor_slices(y_test)\n",
    "\n",
    "# Combine labels and features by zipping together -> (features, labels)\n",
    "train_dataset = tf.data.Dataset.zip((train_features_dataset, train_labels_dataset))\n",
    "test_dataset = tf.data.Dataset.zip((test_features_dataset, test_labels_dataset))\n",
    "\n",
    "# Batch and prefetch\n",
    "BATCH_SIZE = 1024\n",
    "train_dataset = train_dataset.batch(BATCH_SIZE).prefetch(tf.data.AUTOTUNE)\n",
    "test_dataset = test_dataset.batch(BATCH_SIZE).prefetch(tf.data.AUTOTUNE)\n",
    "\n",
    "train_dataset, test_dataset"
   ]
  },
  {
   "cell_type": "markdown",
   "metadata": {
    "id": "fh1ohM7Egges"
   },
   "source": [
    "### Setting up hyperparameters for N-BEATS algorithm\n",
    "\n",
    "The N-BEATS algorithm has a fair few number of parameters, many of them can be found in Table 18: https://arxiv.org/pdf/1905.10437.pdf "
   ]
  },
  {
   "cell_type": "code",
   "execution_count": null,
   "metadata": {
    "colab": {
     "base_uri": "https://localhost:8080/"
    },
    "id": "vSzpyaqkhuHA",
    "outputId": "e6192359-9300-4794-fd0a-651a67a540df"
   },
   "outputs": [],
   "source": [
    "# Values from N-BEATS paper\n",
    "N_EPOCHS = 5000\n",
    "N_NEURONS = 512\n",
    "N_LAYERS = 4 \n",
    "N_STACKS = 30 \n",
    "\n",
    "INPUT_SIZE = WINDOW_SIZE * HORIZON\n",
    "THETA_SIZE = INPUT_SIZE + HORIZON\n",
    "\n",
    "INPUT_SIZE, THETA_SIZE"
   ]
  },
  {
   "cell_type": "markdown",
   "metadata": {
    "id": "50TL-zORjZkg"
   },
   "source": [
    "### Getting ready for residual connections\n",
    "\n",
    "Before we can craft our N-BEATS model, we need two layers for the residual connections (subtract and add).\n",
    "\n",
    "The N-BEATS algorithm uses double residual stacking to help train its deeper architecture (section 3.2 of N-BEATS paper).\n",
    "\n",
    "For more on residual connections see: https://en.wikipedia.org/wiki/Residual_neural_network\n",
    "\n",
    "And here: https://paperswithcode.com/method/resnet"
   ]
  },
  {
   "cell_type": "code",
   "execution_count": null,
   "metadata": {
    "colab": {
     "base_uri": "https://localhost:8080/"
    },
    "id": "G2p-XVRAkOHe",
    "outputId": "83356434-127c-44b5-cb18-5d270d507ae4"
   },
   "outputs": [],
   "source": [
    "# Make tensors\n",
    "tensor_1 = tf.range(10) + 10\n",
    "tensor_2 = tf.range(10)\n",
    "\n",
    "# Subtract\n",
    "subtracted = layers.subtract([tensor_1, tensor_2])\n",
    "\n",
    "# Add\n",
    "added = layers.add([tensor_1, tensor_2])\n",
    "\n",
    "# Get outputs\n",
    "print(f\"Input tensors: {tensor_1.numpy()} & {tensor_2.numpy()}\")\n",
    "print(f\"Subtracted: {subtracted.numpy()}\")\n",
    "print(f\"Added: {added.numpy()}\")"
   ]
  },
  {
   "cell_type": "markdown",
   "metadata": {
    "id": "Z7PAlluVmZmw"
   },
   "source": [
    "### Building, compiling and fitting the N-BEATS algorithm\n",
    "\n",
    "1. Setup an instance of the N-BEATS block layer using `NBeatsBlock` (this'll be the initial block used for the network, the rest will be created as part of stacks)\n",
    "2. Create an input layer for the N-BEATS stack (we'll be using the Keras Functional API)\n",
    "3. Make the initial backcast and forecasts for the model with the layer created in (1)\n",
    "4. Use for loop to create stacks of block layers\n",
    "5. Use the `NBeatsBlock` class within the for loop in (4) to create blocks which return backcasts and block-level forecasts\n",
    "6. Create the double residual stacking using subtract and add layers\n",
    "7. Put the model inputs and outputs together using `tf.keras.Model()`\n",
    "8. Compile the model with MAE loss (the paper uses multiple losses but we'll use MAE to keep it inline with our other models) and Adam optimizer with default setting as per section 5.2 of N-BEATS paper\n",
    "9. Fit the N-BEATS model for 5000 epochs and since it's fitting for so many epochs, we'll use a couple of callbacks: \n",
    "  * Early Stopping - because the model will be training for so long, we'll stop it early if it stops improving\n",
    "  * Reduce LR on Plateau - if a model stops improving, try lowering the learning to reduce the amount it updates its weights each time (take smaller steps towards best performance) "
   ]
  },
  {
   "cell_type": "code",
   "execution_count": null,
   "metadata": {
    "colab": {
     "base_uri": "https://localhost:8080/"
    },
    "id": "fhjgzJUno3d-",
    "outputId": "bebb3b7a-0062-49b1-d64f-861cc02d5722"
   },
   "outputs": [],
   "source": [
    "%%time\n",
    "\n",
    "tf.random.set_seed(42)\n",
    "\n",
    "# 1. Setup and instance of NBeatsBlock\n",
    "nbeats_block_layer = NBeatsBlock(input_size=INPUT_SIZE, \n",
    "                                 theta_size=THETA_SIZE,\n",
    "                                 horizon=HORIZON,\n",
    "                                 n_neurons=N_NEURONS,\n",
    "                                 n_layers=N_LAYERS,\n",
    "                                 name=\"InitialBlock\")\n",
    "\n",
    "# 2. Create input to stack\n",
    "stack_input = layers.Input(shape=(INPUT_SIZE), name=\"stack_input\")\n",
    "\n",
    "# 3. Create initial backcast and forecast input (backwards prediction + horizon prediction)\n",
    "residuals, forecast = nbeats_block_layer(stack_input)\n",
    "\n",
    "# 4. Create stacks of block layers\n",
    "for i, _ in enumerate(range(N_STACKS-1)): # first stack is already created in (3)\n",
    "\n",
    "  # 5. Use the NBeatsBlock to calculate the backcast as well as the forecast\n",
    "  backcast, block_forecast = NBeatsBlock(\n",
    "      input_size=INPUT_SIZE,\n",
    "      theta_size=THETA_SIZE,\n",
    "      horizon=HORIZON,\n",
    "      n_neurons=N_NEURONS,\n",
    "      n_layers=N_LAYERS,\n",
    "      name=f\"NBeatsBlock_{i}\"\n",
    "  )(residuals) # pass in the residuals\n",
    "\n",
    "  # 6. Create the double residual stacking\n",
    "  residuals = layers.subtract([residuals, backcast], name=f\"subtract_{i}\")\n",
    "  forecast = layers.add([forecast, block_forecast], name=f\"add_{i}\")\n",
    "\n",
    "# 7. Put the stack model together\n",
    "model_7 = tf.keras.Model(inputs=stack_input, outputs=forecast, name=\"model_7_NBEATS\")\n",
    "\n",
    "# 8. Compile model with MAE loss\n",
    "model_7.compile(loss=\"mae\",\n",
    "                optimizer=tf.keras.optimizers.Adam())\n",
    "\n",
    "# 9. Fit the model with EarlyStopping and ReduceLROnPlateau callbacks\n",
    "model_7.fit(train_dataset,\n",
    "            epochs=N_EPOCHS,\n",
    "            validation_data=test_dataset,\n",
    "            verbose=0,\n",
    "            callbacks=[tf.keras.callbacks.EarlyStopping(monitor=\"val_loss\",\n",
    "                                                        patience=200,\n",
    "                                                        restore_best_weights=True),\n",
    "                       tf.keras.callbacks.ReduceLROnPlateau(monitor=\"val_loss\",\n",
    "                                                            patience=100,\n",
    "                                                            verbose=1)])"
   ]
  },
  {
   "cell_type": "code",
   "execution_count": null,
   "metadata": {
    "colab": {
     "base_uri": "https://localhost:8080/"
    },
    "id": "L53LbkgkudAp",
    "outputId": "d1015462-a120-4cd8-ba28-2825db4acff2"
   },
   "outputs": [],
   "source": [
    "# Evaluate N-BEats model on the test dataset\n",
    "model_7.evaluate(test_dataset)"
   ]
  },
  {
   "cell_type": "code",
   "execution_count": null,
   "metadata": {
    "colab": {
     "base_uri": "https://localhost:8080/"
    },
    "id": "W38m6IKtwKZ7",
    "outputId": "9e7041d9-cb26-418b-d993-162494cd53c1"
   },
   "outputs": [],
   "source": [
    "# Make predictions with N-BEATS model\n",
    "model_7_preds = make_preds(model_7, test_dataset)\n",
    "model_7_preds[:10]"
   ]
  },
  {
   "cell_type": "code",
   "execution_count": null,
   "metadata": {
    "colab": {
     "base_uri": "https://localhost:8080/"
    },
    "id": "nrLfx-hcwQqC",
    "outputId": "aacf672c-66b2-4f73-a275-0ea13a925488"
   },
   "outputs": [],
   "source": [
    "# Evaluate N-BEATS model preds\n",
    "model_7_results = evaluate_preds(y_true=y_test,\n",
    "                                 y_pred=model_7_preds)\n",
    "model_7_results"
   ]
  },
  {
   "cell_type": "markdown",
   "metadata": {
    "id": "XVBzSMtUxKck"
   },
   "source": [
    "Woah... even with all of those special layers and hand-crafted network, it looks like the N-BEATS model doesn't perform as well as `model_1` or the original naive forecast.\n",
    "\n",
    "This goes to show the power of smaller networks as well as the fact not all larger models are better suited for a certain type of data."
   ]
  },
  {
   "cell_type": "markdown",
   "metadata": {
    "id": "7stPNnpqyHrx"
   },
   "source": [
    "### Plotting the N-BEATS architecture we've created "
   ]
  },
  {
   "cell_type": "code",
   "execution_count": null,
   "metadata": {
    "colab": {
     "base_uri": "https://localhost:8080/",
     "height": 1000
    },
    "id": "Cw15Cs_DzCvI",
    "outputId": "cec37a44-8849-4b05-c0c1-24b4144049fe"
   },
   "outputs": [],
   "source": [
    "# Plot the N-BEATS model and inspect the architecture\n",
    "from tensorflow.keras.utils import plot_model\n",
    "plot_model(model_7)"
   ]
  },
  {
   "cell_type": "markdown",
   "metadata": {
    "id": "mgPSYl1UzMXX"
   },
   "source": [
    "## Model 8: Creating an ensemble (stacking different models together)\n",
    "\n",
    "An ensemble leverages the wisdom of the crowd effect.\n",
    "\n",
    "It combines many *different* models to predict a common goal."
   ]
  },
  {
   "cell_type": "code",
   "execution_count": null,
   "metadata": {
    "colab": {
     "base_uri": "https://localhost:8080/"
    },
    "id": "BdTtz2gyuwc_",
    "outputId": "ca078f46-c618-4f13-c6bd-f698ef1d9a3d"
   },
   "outputs": [],
   "source": [
    "HORIZON, WINDOW_SIZE"
   ]
  },
  {
   "cell_type": "markdown",
   "metadata": {
    "id": "aFAcB5VOs4nZ"
   },
   "source": [
    "### Constructing and fitting and ensemble of models (using different loss functions)"
   ]
  },
  {
   "cell_type": "code",
   "execution_count": null,
   "metadata": {
    "id": "ekRp2hVNu344"
   },
   "outputs": [],
   "source": [
    "def get_ensemble_models(horizon=HORIZON,\n",
    "                        train_data=train_dataset,\n",
    "                        test_data=test_dataset,\n",
    "                        num_iter=10,\n",
    "                        num_epochs=1000,\n",
    "                        loss_fns=[\"mae\", \"mse\", \"mape\"]):\n",
    "  \"\"\"\n",
    "  Returns a list of num_iter models each trained on MAE, MSE and MAPE loss.\n",
    "\n",
    "  For example, if num_iter=10, a list of 30 trained models will be returned: \n",
    "  10 * len([\"mae\", \"mse\", \"mape\"]).\n",
    "  \"\"\"\n",
    "  # Make empty list for trained ensemble models\n",
    "  ensemble_models = []\n",
    "\n",
    "  # Create num_iter number of models per loss function\n",
    "  for i in range(num_iter):\n",
    "    # Build and fit a new model with a different loss function\n",
    "    for loss_function in loss_fns:\n",
    "      print(f\"Optimizing model by reducing: {loss_function} for {num_epochs} epochs, model number: {i}\")\n",
    "\n",
    "      # Construct a simple model (similar to model_1)\n",
    "      model = tf.keras.Sequential([\n",
    "        # Initialize dense layers with normal distribution for estimating prediction intervals later on\n",
    "        layers.Dense(128, kernel_initializer=\"he_normal\", activation=\"relu\"),\n",
    "        layers.Dense(128, kernel_initializer=\"he_normal\", activation=\"relu\"),\n",
    "        layers.Dense(HORIZON)\n",
    "      ])\n",
    "\n",
    "      # Compile simple model with current loss function\n",
    "      model.compile(loss=loss_function,\n",
    "                    optimizer=tf.keras.optimizers.Adam(),\n",
    "                    metrics=[\"mae\", \"mse\"])\n",
    "      \n",
    "      # Fit the current model\n",
    "      model.fit(train_data,\n",
    "                epochs=num_epochs,\n",
    "                verbose=0,\n",
    "                validation_data=test_data,\n",
    "                callbacks=[tf.keras.callbacks.EarlyStopping(monitor=\"val_loss\",\n",
    "                                                            patience=200,\n",
    "                                                            restore_best_weights=True),\n",
    "                           tf.keras.callbacks.ReduceLROnPlateau(monitor=\"val_loss\",\n",
    "                                                                patience=100,\n",
    "                                                                verbose=1)])\n",
    "      # Append fitted model to list of ensemble models\n",
    "      ensemble_models.append(model)\n",
    "\n",
    "  return ensemble_models "
   ]
  },
  {
   "cell_type": "code",
   "execution_count": null,
   "metadata": {
    "colab": {
     "base_uri": "https://localhost:8080/"
    },
    "id": "izvaLKFrybwx",
    "outputId": "ce748a04-3ba0-4be8-8d93-43efda28ee13"
   },
   "outputs": [],
   "source": [
    "%%time\n",
    "# Get list of trained ensemble models\n",
    "ensemble_models = get_ensemble_models(num_iter=5,\n",
    "                                      num_epochs=1000)"
   ]
  },
  {
   "cell_type": "markdown",
   "metadata": {
    "id": "xl-BkI9N0SYk"
   },
   "source": [
    "### Make predictions with our ensemble model"
   ]
  },
  {
   "cell_type": "code",
   "execution_count": null,
   "metadata": {
    "colab": {
     "base_uri": "https://localhost:8080/"
    },
    "id": "GCKnf4i401gd",
    "outputId": "cec44c9c-2461-4488-96d0-b3e0ea7aad7d"
   },
   "outputs": [],
   "source": [
    "ensemble_models"
   ]
  },
  {
   "cell_type": "code",
   "execution_count": null,
   "metadata": {
    "id": "OjAcGVT20mB7"
   },
   "outputs": [],
   "source": [
    "# Create a function which uses a list of trained models to make and return a list of predictions\n",
    "def make_ensemble_preds(ensemble_models, data):\n",
    "  ensemble_preds = []\n",
    "  for model in ensemble_models:\n",
    "    preds = model.predict(data)\n",
    "    ensemble_preds.append(preds)\n",
    "  return tf.constant(tf.squeeze(ensemble_preds))"
   ]
  },
  {
   "cell_type": "code",
   "execution_count": null,
   "metadata": {
    "colab": {
     "base_uri": "https://localhost:8080/"
    },
    "id": "pNDoUZHK0nds",
    "outputId": "f4f30e58-99bf-4487-853e-131d726457a7"
   },
   "outputs": [],
   "source": [
    "# Create a list of ensemble predictions\n",
    "%%time\n",
    "ensemble_preds = make_ensemble_preds(ensemble_models=ensemble_models,\n",
    "                                     data=test_dataset)\n",
    "ensemble_preds"
   ]
  },
  {
   "cell_type": "code",
   "execution_count": null,
   "metadata": {
    "colab": {
     "base_uri": "https://localhost:8080/"
    },
    "id": "uzNb0cpK1MyT",
    "outputId": "4a1fe9c9-60e0-415b-b742-66af11306140"
   },
   "outputs": [],
   "source": [
    "ensemble_preds"
   ]
  },
  {
   "cell_type": "markdown",
   "metadata": {
    "id": "EFqHmN3Z3r4a"
   },
   "source": [
    "Our ensemble preds come out in multiple dimensions but to combine into **point predictions** we can leverage the mean of all of the predictions or the median - https://machinelearningmastery.com/combine-predictions-for-ensemble-learning/"
   ]
  },
  {
   "cell_type": "code",
   "execution_count": null,
   "metadata": {
    "colab": {
     "base_uri": "https://localhost:8080/"
    },
    "id": "bCRpUSpZ2Av-",
    "outputId": "c9332500-971e-4f7b-db19-e145df09a2a1"
   },
   "outputs": [],
   "source": [
    "ensemble_mean = tf.reduce_mean(ensemble_preds, axis=0)\n",
    "ensemble_mean[:10]"
   ]
  },
  {
   "cell_type": "code",
   "execution_count": null,
   "metadata": {
    "colab": {
     "base_uri": "https://localhost:8080/"
    },
    "id": "ijcsuF2p2w5y",
    "outputId": "4cb2fb46-58a4-4c0c-aef9-904c3b4bb42b"
   },
   "outputs": [],
   "source": [
    "ensemble_median = np.median(ensemble_preds, axis=0)\n",
    "ensemble_median[:10]"
   ]
  },
  {
   "cell_type": "code",
   "execution_count": null,
   "metadata": {
    "colab": {
     "base_uri": "https://localhost:8080/"
    },
    "id": "12APaeSM1pbG",
    "outputId": "d2288ae1-38ed-46d7-aac4-8dea6c3aeb35"
   },
   "outputs": [],
   "source": [
    "# Evaluate ensemble model predictions\n",
    "ensemble_results = evaluate_preds(y_true=y_test,\n",
    "                                  y_pred=ensemble_mean)\n",
    "ensemble_results"
   ]
  },
  {
   "cell_type": "code",
   "execution_count": null,
   "metadata": {
    "colab": {
     "base_uri": "https://localhost:8080/"
    },
    "id": "N3ahmgAv3GFh",
    "outputId": "cf56c508-ac58-43fe-da1c-31852f9a41a3"
   },
   "outputs": [],
   "source": [
    "# Evaluate ensemble model predictions\n",
    "ensemble_results = evaluate_preds(y_true=y_test,\n",
    "                                  y_pred=ensemble_median)\n",
    "ensemble_results"
   ]
  },
  {
   "cell_type": "code",
   "execution_count": null,
   "metadata": {
    "colab": {
     "base_uri": "https://localhost:8080/"
    },
    "id": "j48hzhkY1RGg",
    "outputId": "376eb9dc-a091-4323-ba56-3a3eb0e19260"
   },
   "outputs": [],
   "source": [
    "model_1_results"
   ]
  },
  {
   "cell_type": "markdown",
   "metadata": {
    "id": "VeaH_bGN1ozI"
   },
   "source": [
    "### Plotting the prediction intervals (uncertainty estimates) of our ensemble\n",
    "\n",
    "So far we've been making point predictions with our models.\n",
    "\n",
    "E.g. horizon = 1, our model predicts tomorrow's price of Bitcoin will be $50,000USD\n",
    "\n",
    "Wouldn't it be helpful if we knew a range of where that prediction came from?\n",
    "\n",
    "Instead of 50,000 USD on the dot, how about 48,000 to 52,000 USD?\n",
    "\n",
    "One way to get the 95% confidence prediction intervals for a deep learning model is the bootstrap method:\n",
    "1. Take the predictions from a number of randomly initialzed models (we've got this thanks to our ensemble models)\n",
    "2. Measure the standard deviation of the predictions\n",
    "3. Multiply the standard deviation by 1.96 (assuming the distribution is Gaussian/Normal, 95% of observations fall within 1.96 standard deviations of the mean)\n",
    "4. To the get the prediction interval upper and lower bounds, add and subtract the value obtained in (3) to the mean/median of the predictions made in (1)\n",
    "\n",
    "* https://en.wikipedia.org/wiki/1.96\n",
    "* https://eng.uber.com/neural-networks-uncertainty-estimation/"
   ]
  },
  {
   "cell_type": "code",
   "execution_count": null,
   "metadata": {
    "id": "QnkPKSEf5ek2"
   },
   "outputs": [],
   "source": [
    "# Find upper and lower bounds of ensemble predictions\n",
    "def get_upper_lower(preds): # 1. Take the predictions from a number of randomly intialized models\n",
    "\n",
    "  # 2. Measure the standard deviation of the predictions\n",
    "  std = tf.math.reduce_std(preds, axis=0)\n",
    "\n",
    "  # 3. Multiply the standard deviation by 1.96\n",
    "  interval = 1.96 * std\n",
    "\n",
    "  # 4. Get the prediction interval upper and lower bounds \n",
    "  preds_mean = tf.reduce_mean(preds, axis=0)\n",
    "  lower, upper = preds_mean - interval, preds_mean + interval\n",
    "\n",
    "  return lower, upper"
   ]
  },
  {
   "cell_type": "code",
   "execution_count": null,
   "metadata": {
    "id": "qaTQR6Zy-w4H"
   },
   "outputs": [],
   "source": [
    "# Get the upper and lower bounds of the 95% percent prediction interval\n",
    "lower, upper = get_upper_lower(preds=ensemble_preds)"
   ]
  },
  {
   "cell_type": "markdown",
   "metadata": {
    "id": "ktrhe0LF_q3P"
   },
   "source": [
    "> 📖 **Resource:** Many of the steps we've taken above have inspired/referenced from the Machine Learning Mastery blog post on [*Prediction Intervals for Deep Learning Neural Networks*](https://machinelearningmastery.com/prediction-intervals-for-deep-learning-neural-networks/)"
   ]
  },
  {
   "cell_type": "code",
   "execution_count": null,
   "metadata": {
    "colab": {
     "base_uri": "https://localhost:8080/"
    },
    "id": "n9GsoPxUDGK4",
    "outputId": "ce0cee74-5682-4456-ffe7-593c1f60363c"
   },
   "outputs": [],
   "source": [
    "X_test.index[:10]"
   ]
  },
  {
   "cell_type": "code",
   "execution_count": null,
   "metadata": {
    "colab": {
     "base_uri": "https://localhost:8080/",
     "height": 446
    },
    "id": "MBbjxMILAWk1",
    "outputId": "852b3f8b-ae92-4447-8125-ce8ce0b19a0f"
   },
   "outputs": [],
   "source": [
    "# Get the median/mean values of our ensemble preds\n",
    "ensemble_median = np.median(ensemble_preds, axis=0)\n",
    "\n",
    "# Plot the median of our ensemble preds along with the prediction intervals (where the predictions fall between)\n",
    "offset=500\n",
    "plt.figure(figsize=(10, 7))\n",
    "plt.plot(X_test.index[offset:], y_test[offset:], \"g\", label=\"Test Data\")\n",
    "plt.plot(X_test.index[offset:], ensemble_median[offset:], \"k-\", label=\"Ensemble Median\")\n",
    "plt.xlabel(\"Date\")\n",
    "plt.ylabel(\"BTC Price\")\n",
    "# To plot the upper and lower bounds, let's use fill_between: https://matplotlib.org/stable/api/_as_gen/matplotlib.pyplot.fill_between.html\n",
    "plt.fill_between(X_test.index[offset:],\n",
    "                 (lower)[offset:],\n",
    "                 (upper)[offset:], label=\"Prediction Intervals\")\n",
    "plt.legend(loc=\"upper left\", fontsize=14);"
   ]
  },
  {
   "cell_type": "markdown",
   "metadata": {
    "id": "nfsJKGJEEUAj"
   },
   "source": [
    "Hmm... \n",
    "\n",
    "So far all of our models predictions have been lagging behind the test data...\n",
    "\n",
    "As is they're replicating what the naive model does and just predict the previous timestep as the next timestep.\n",
    "\n",
    "> 🔑 **Note:** These prediction intervals are estimates themselves. And they have been created with the assumption that our model's data is from a normal distribution."
   ]
  },
  {
   "cell_type": "markdown",
   "metadata": {
    "id": "-qmkkASsDzAo"
   },
   "source": [
    "## Aside: two types of uncertainty (coconut and subway)\n",
    "\n",
    "Uncertainty estimates in machine learning seek out to qualitatively and quantitatively answer the questions:\n",
    "1. What can my model know? (with perfect data, what's possible for a model to learn?)\n",
    "2. What doesn't my model know? (what can a model never predict? Or would it helpful if a model could tell you that when it's making a prediction, it doesn't actually know if it's right or not?)\n",
    "\n",
    "There are two major types of uncertainty in machine learning you should know about:\n",
    "* **Aleatoric uncertainty** - this type of uncertainty cannot be reduced and it is often referred as \"data\" uncertainty or \"subway\" uncertainty\n",
    "* **Epistemic uncertainty** - this type of uncertainty can be reduced, it also referred to as \"model\" or \"coconut\" uncertainty\n",
    "\n",
    "Weve only scratched the surface of uncertainty in machine but if you'd like to learn more, I'd highly recommend checking out the resources located here: https://dev.mrdbourke.com/tensorflow-deep-learning/10_time_series_forecasting_in_tensorflow/#learning-more-on-uncertainty"
   ]
  },
  {
   "cell_type": "markdown",
   "metadata": {
    "id": "DVgYGKz1GxDF"
   },
   "source": [
    "## Model 9: Train a model on the full historical data to make predictions into the future\n",
    "\n",
    "So far all of our models have predicted on the test dataset, however, this is only a pseudofuture.\n",
    "\n",
    "Let's now build a model which is capable of predicting into the future! "
   ]
  },
  {
   "cell_type": "code",
   "execution_count": null,
   "metadata": {
    "id": "fhoGcnvoreZj"
   },
   "outputs": [],
   "source": [
    "HORIZON = 1\n",
    "WINDOW_SIZE = 7"
   ]
  },
  {
   "cell_type": "code",
   "execution_count": null,
   "metadata": {
    "colab": {
     "base_uri": "https://localhost:8080/",
     "height": 237
    },
    "id": "7s3ei4mcrMcl",
    "outputId": "abb13a72-92ee-43c0-d318-5784005153c4"
   },
   "outputs": [],
   "source": [
    "bitcoin_prices_windowed.head()"
   ]
  },
  {
   "cell_type": "code",
   "execution_count": null,
   "metadata": {
    "colab": {
     "base_uri": "https://localhost:8080/",
     "height": 237
    },
    "id": "br8YmshZracK",
    "outputId": "6b666fca-feb4-4b73-c104-7504bef7f592"
   },
   "outputs": [],
   "source": [
    "bitcoin_prices_windowed.tail()"
   ]
  },
  {
   "cell_type": "code",
   "execution_count": null,
   "metadata": {
    "colab": {
     "base_uri": "https://localhost:8080/"
    },
    "id": "0iWz1ELGrlzk",
    "outputId": "665a0eb2-a95f-4a1c-d810-1fc999c2f809"
   },
   "outputs": [],
   "source": [
    "# Train model on entire data to make predictions for the next day\n",
    "X_all = bitcoin_prices_windowed.dropna().drop([\"Price\", \"block_reward\"], axis=1).to_numpy()\n",
    "# Get labels\n",
    "y_all = bitcoin_prices_windowed.dropna()[\"Price\"].to_numpy()\n",
    "\n",
    "len(X_all), len(y_all)"
   ]
  },
  {
   "cell_type": "code",
   "execution_count": null,
   "metadata": {
    "colab": {
     "base_uri": "https://localhost:8080/"
    },
    "id": "2ici79aQsDdC",
    "outputId": "b0dc5177-cdb5-497a-b8f4-8d7ef9c0f2cc"
   },
   "outputs": [],
   "source": [
    "X_all[:5], y_all[:5]"
   ]
  },
  {
   "cell_type": "code",
   "execution_count": null,
   "metadata": {
    "colab": {
     "base_uri": "https://localhost:8080/"
    },
    "id": "QhZ3zCOFsP5J",
    "outputId": "cbeca64a-b624-44d3-d26a-fa765b159f92"
   },
   "outputs": [],
   "source": [
    "# Turn data into efficient running tensors\n",
    "\n",
    "features_dataset_all = tf.data.Dataset.from_tensor_slices(X_all)\n",
    "labels_dataset_all = tf.data.Dataset.from_tensor_slices(y_all)\n",
    "\n",
    "# Combine features and labels\n",
    "dataset_all = tf.data.Dataset.zip((features_dataset_all, labels_dataset_all))\n",
    "\n",
    "# Batch and prefetch for optimial performance\n",
    "BATCH_SIZE = 1024\n",
    "dataset_all = dataset_all.batch(BATCH_SIZE).prefetch(tf.data.AUTOTUNE)\n",
    "\n",
    "dataset_all"
   ]
  },
  {
   "cell_type": "code",
   "execution_count": null,
   "metadata": {
    "colab": {
     "base_uri": "https://localhost:8080/"
    },
    "id": "6s2uWOY5su4u",
    "outputId": "a4d8ea66-69e6-470b-ac2e-34ddc6b78cde"
   },
   "outputs": [],
   "source": [
    "tf.random.set_seed(42)\n",
    "\n",
    "# Create model (nice and simple, just to test)\n",
    "model_9 = tf.keras.Sequential([\n",
    "  layers.Dense(128, activation=\"relu\"),\n",
    "  layers.Dense(128, activation=\"relu\"),\n",
    "  layers.Dense(HORIZON)\n",
    "], name=\"model_9_future_model\")\n",
    "\n",
    "# Compile\n",
    "model_9.compile(loss=tf.keras.losses.mae,\n",
    "                optimizer=tf.keras.optimizers.Adam())\n",
    "\n",
    "# Fit model on all of the data to make future forecasts\n",
    "model_9.fit(dataset_all,\n",
    "            epochs=100,\n",
    "            verbose=0)"
   ]
  },
  {
   "cell_type": "markdown",
   "metadata": {
    "id": "pVGHDJ1mt3IX"
   },
   "source": [
    "### Make predictions into future"
   ]
  },
  {
   "cell_type": "code",
   "execution_count": null,
   "metadata": {
    "id": "YheZkIqjvPFH"
   },
   "outputs": [],
   "source": [
    "# How many timestesp to predict into the future?\n",
    "INTO_FUTURE = 14"
   ]
  },
  {
   "cell_type": "markdown",
   "metadata": {
    "id": "LDOjaShBwAls"
   },
   "source": [
    "To make predictions into the future we want a function which:\n",
    "\n",
    "1. Takes as input:\n",
    " * a list of values (Bitcoin historical data)\n",
    " * a trained model (such as `model_9`)\n",
    " * a window into the future to predict (our `INTO_FUTURE` variable)\n",
    " * the window size a model was trained on (`WINDOW_SIZE`) - the model can only predict on the same kind of data it was trained on\n",
    "2. Creates an empty list for future forecasts (this will be returned at the end of the end, when it's full of predictions) and extracts the last `WINDOW_SIZE` values from the input values\n",
    "3. Loop `INTO_FUTURE` times making a prediction on `WINDOW_SIZE` sequences which update to remove the first value and append the latest prediction"
   ]
  },
  {
   "cell_type": "code",
   "execution_count": null,
   "metadata": {
    "colab": {
     "base_uri": "https://localhost:8080/"
    },
    "id": "hoTqqfuKx80M",
    "outputId": "0e2e4456-71b4-4ccd-9fcb-8c534b37abe2"
   },
   "outputs": [],
   "source": [
    "tf.expand_dims(y_all[-WINDOW_SIZE:], axis=0)"
   ]
  },
  {
   "cell_type": "code",
   "execution_count": null,
   "metadata": {
    "id": "kmkVQHvOv_4Q"
   },
   "outputs": [],
   "source": [
    "# 1. Create function to make predictions into the future\n",
    "def make_future_forecasts(values, model, into_future, window_size=WINDOW_SIZE) -> list:\n",
    "  \"\"\"\n",
    "  Make future forecasts into_future steps after values ends.\n",
    "\n",
    "  Returns future forecasts as a list of floats.\n",
    "  \"\"\"\n",
    "  # 2. Create an empty list for future forecasts/prepare data to forecast on\n",
    "  future_forecast = []\n",
    "  last_window = values[-WINDOW_SIZE:]\n",
    "\n",
    "  # 3. Make INTO_FUTURE numer of predictions, altering the data which gets predicted on each\n",
    "  for _ in range(INTO_FUTURE):\n",
    "    # Predict on the last window then append it again, again, again (our model will eventually start to make forecasts on its own forecasts)\n",
    "    future_pred = model.predict(tf.expand_dims(last_window, axis=0))\n",
    "    print(f\"Predicting on:\\n {last_window} -> Prediction: {tf.squeeze(future_pred).numpy()}\\n\")\n",
    "\n",
    "    # Append predictions to future_forecast\n",
    "    future_forecast.append(tf.squeeze(future_pred).numpy())\n",
    "\n",
    "    # Update last window with new pred and get WINDOW_SIZE most recent preds (model was trained on WINDOW_SIZE windows)\n",
    "    last_window = np.append(last_window, future_pred)[-WINDOW_SIZE:]\n",
    "  \n",
    "  return future_forecast"
   ]
  },
  {
   "cell_type": "markdown",
   "metadata": {
    "id": "0ystaQbuzYiL"
   },
   "source": [
    "> 🛠 **Exercise:** In terms of a forecasting model, what might another approach to our make_future_forecasts() function? Recall, that for making forecasts, you need to retrain a model each time you want to generate a new prediction.\n",
    ">\n",
    "> So perhaps you could try to: make a prediction (one timestep into the future), retrain a model with this new prediction appended to the data, make a prediction, append the prediction, retrain a model... etc.\n",
    ">\n",
    "> As it is, the make_future_forecasts() function skips the retraining of a model part."
   ]
  },
  {
   "cell_type": "code",
   "execution_count": null,
   "metadata": {
    "colab": {
     "base_uri": "https://localhost:8080/"
    },
    "id": "D_KxDhXOzS_U",
    "outputId": "ba636485-fbcf-4eed-85ac-9c711dac2246"
   },
   "outputs": [],
   "source": [
    "# Make forecasts into the future\n",
    "future_forecast = make_future_forecasts(values=y_all,\n",
    "                                        model=model_9,\n",
    "                                        into_future=INTO_FUTURE,\n",
    "                                        window_size=WINDOW_SIZE)"
   ]
  },
  {
   "cell_type": "markdown",
   "metadata": {
    "id": "3lKv5QuVzsj1"
   },
   "source": [
    "### Plot future forecasts"
   ]
  },
  {
   "cell_type": "code",
   "execution_count": null,
   "metadata": {
    "colab": {
     "base_uri": "https://localhost:8080/"
    },
    "id": "lrFejgpPz9q4",
    "outputId": "705c722a-d43d-427e-e547-914e5dd5c80a"
   },
   "outputs": [],
   "source": [
    "future_forecast"
   ]
  },
  {
   "cell_type": "code",
   "execution_count": null,
   "metadata": {
    "id": "x8sPIoiC0TLx"
   },
   "outputs": [],
   "source": [
    "def get_future_dates(start_date, into_future, offset=1):\n",
    "  \"\"\"\n",
    "  Returns array of datetime values ranging from start_date to start_date+into_future\n",
    "  \"\"\"\n",
    "  start_date = start_date + np.timedelta64(offset, \"D\") # specify start date, \"D\" stands for day\n",
    "  end_date = start_date + np.timedelta64(into_future, \"D\") # specify end date\n",
    "  return np.arange(start_date, end_date, dtype=\"datetime64[D]\") # return a date range between start and end date"
   ]
  },
  {
   "cell_type": "code",
   "execution_count": null,
   "metadata": {
    "colab": {
     "base_uri": "https://localhost:8080/"
    },
    "id": "gkt4bY5X1wJu",
    "outputId": "c8486289-9a21-4a0b-8a62-2f58e074fbd0"
   },
   "outputs": [],
   "source": [
    "# Last timestep of timesteps (currently np.datetime64 format)\n",
    "last_timestep = bitcoin_prices.index[-1]\n",
    "last_timestep"
   ]
  },
  {
   "cell_type": "code",
   "execution_count": null,
   "metadata": {
    "colab": {
     "base_uri": "https://localhost:8080/"
    },
    "id": "sMdCeQA92YgI",
    "outputId": "03744a7a-6cff-484b-8bd8-131d68c42244"
   },
   "outputs": [],
   "source": [
    "# Get next two week of timesteps\n",
    "next_time_steps = get_future_dates(start_date=last_timestep,\n",
    "                                   into_future=INTO_FUTURE)\n",
    "next_time_steps"
   ]
  },
  {
   "cell_type": "code",
   "execution_count": null,
   "metadata": {
    "colab": {
     "base_uri": "https://localhost:8080/"
    },
    "id": "Vc_y5CSY212L",
    "outputId": "1a2b5e1e-c6e1-478f-b8f9-923e12c97dd5"
   },
   "outputs": [],
   "source": [
    "bitcoin_prices.index"
   ]
  },
  {
   "cell_type": "code",
   "execution_count": null,
   "metadata": {
    "colab": {
     "base_uri": "https://localhost:8080/"
    },
    "id": "OBNwKfzX3Prj",
    "outputId": "2cade37c-a2a7-4a43-ff7b-b7c36b6766bd"
   },
   "outputs": [],
   "source": [
    "# Insert last timestep/final price into next time steps and future forecasts so the plot doesn't look janky\n",
    "next_time_steps = np.insert(next_time_steps, 0, last_timestep)\n",
    "future_forecast = np.insert(future_forecast, 0, btc_price[-1])\n",
    "next_time_steps, future_forecast"
   ]
  },
  {
   "cell_type": "code",
   "execution_count": null,
   "metadata": {
    "colab": {
     "base_uri": "https://localhost:8080/",
     "height": 442
    },
    "id": "ac1VMKVk2qWN",
    "outputId": "603fd221-b68f-41e9-b807-5110cb048201"
   },
   "outputs": [],
   "source": [
    "# Plot future prices predictions of Bitcoin\n",
    "plt.figure(figsize=(10, 7))\n",
    "plot_time_series(bitcoin_prices.index, btc_price, start=2500, format=\"-\", label=\"Actual BTC Price\")\n",
    "plot_time_series(next_time_steps, future_forecast, format=\"-\", label=\"Predicted BTC Price\")"
   ]
  },
  {
   "cell_type": "markdown",
   "metadata": {
    "id": "xZlEvi9c3Iqd"
   },
   "source": [
    "## Model 10: Why forecasting is BS (the turkey problem 🦃)"
   ]
  },
  {
   "cell_type": "code",
   "execution_count": null,
   "metadata": {
    "id": "lqfIQvnGWAJb"
   },
   "outputs": [],
   "source": [
    "# Let's introduce a turkey prolbme to our BTC data (price of BTC falls 100x in one day)\n",
    "btc_price_turkey = btc_price.copy()\n",
    "btc_price_turkey[-1] = btc_price_turkey[-1] / 100"
   ]
  },
  {
   "cell_type": "code",
   "execution_count": null,
   "metadata": {
    "colab": {
     "base_uri": "https://localhost:8080/"
    },
    "id": "xrQPd9KmWvG-",
    "outputId": "4d15ace8-01a6-4ca4-9fc5-1871182dad2f"
   },
   "outputs": [],
   "source": [
    "# Manufacture an extra price on the end (to showcase our Turkey problem)\n",
    "btc_price_turkey[-10:]"
   ]
  },
  {
   "cell_type": "code",
   "execution_count": null,
   "metadata": {
    "colab": {
     "base_uri": "https://localhost:8080/"
    },
    "id": "wZDAfTpGW03b",
    "outputId": "efeb8e60-130f-4f70-a20e-4dc09a3ecfa7"
   },
   "outputs": [],
   "source": [
    "# Get the timesteps for the turkey problem\n",
    "btc_timesteps_turkey = np.array(bitcoin_prices.index)\n",
    "btc_timesteps_turkey[-10:]"
   ]
  },
  {
   "cell_type": "code",
   "execution_count": null,
   "metadata": {
    "colab": {
     "base_uri": "https://localhost:8080/",
     "height": 442
    },
    "id": "3v4N_Ig_XEah",
    "outputId": "df7f29e7-89b5-4899-ef13-6ed25b124281"
   },
   "outputs": [],
   "source": [
    "plt.figure(figsize=(10, 7))\n",
    "plot_time_series(timesteps=btc_timesteps_turkey,\n",
    "                 values=btc_price_turkey,\n",
    "                 format=\"-\",\n",
    "                 label=\"BTC Price + Turkey problem\",\n",
    "                 start=2500\n",
    "                 )"
   ]
  },
  {
   "cell_type": "code",
   "execution_count": null,
   "metadata": {
    "id": "xJhsS376X10v"
   },
   "outputs": [],
   "source": [
    "HORIZON = 1\n",
    "WINDOW_SIZE = 7"
   ]
  },
  {
   "cell_type": "code",
   "execution_count": null,
   "metadata": {
    "colab": {
     "base_uri": "https://localhost:8080/"
    },
    "id": "I5sr13L6XgoK",
    "outputId": "087c5def-855c-4db0-a864-756e4c69079d"
   },
   "outputs": [],
   "source": [
    "# Create train and test sets for turkey problem data\n",
    "full_windows, full_labels = make_windows(np.array(btc_price_turkey), window_size=WINDOW_SIZE, horizon=HORIZON)\n",
    "\n",
    "X_train, X_test, y_train, y_test = make_train_test_splits(full_windows, full_labels)\n",
    "len(X_train), len(X_test), len(y_train), len(y_test)"
   ]
  },
  {
   "cell_type": "code",
   "execution_count": null,
   "metadata": {
    "colab": {
     "base_uri": "https://localhost:8080/"
    },
    "id": "pODLvlkxX-HN",
    "outputId": "b016adf7-f2e0-43d3-f93e-92a79b863be0"
   },
   "outputs": [],
   "source": [
    "model_1.summary()"
   ]
  },
  {
   "cell_type": "markdown",
   "metadata": {
    "id": "GfBSPvK8YEKk"
   },
   "source": [
    "### Build a turkey model (model to predict on turkey data)"
   ]
  },
  {
   "cell_type": "code",
   "execution_count": null,
   "metadata": {
    "colab": {
     "base_uri": "https://localhost:8080/"
    },
    "id": "vPC1kfV4Yk4e",
    "outputId": "3db72326-c245-4efe-b938-66c4e8d73ab9"
   },
   "outputs": [],
   "source": [
    "# Clone model 1 architecture for turkey model and fit the turkey model on the turkey data\n",
    "turkey_model = tf.keras.models.clone_model(model_1)\n",
    "turkey_model._name = \"model_10_turkey_model\"\n",
    "turkey_model.compile(loss=\"mae\",\n",
    "                     optimizer=tf.keras.optimizers.Adam())\n",
    "turkey_model.fit(X_train, y_train,\n",
    "                 epochs=100,\n",
    "                 verbose=0,\n",
    "                 batch_size=128,\n",
    "                 validation_data=(X_test, y_test),\n",
    "                 callbacks=[create_model_checkpoint(turkey_model.name)])"
   ]
  },
  {
   "cell_type": "code",
   "execution_count": null,
   "metadata": {
    "colab": {
     "base_uri": "https://localhost:8080/"
    },
    "id": "fPG74MpMZIpn",
    "outputId": "cee5cb96-ed4e-41d0-e8a2-dcc8ba2adb44"
   },
   "outputs": [],
   "source": [
    "# Evaluate model on test data\n",
    "turkey_model.evaluate(X_test, y_test)"
   ]
  },
  {
   "cell_type": "code",
   "execution_count": null,
   "metadata": {
    "colab": {
     "base_uri": "https://localhost:8080/"
    },
    "id": "w5jMawIKZTp0",
    "outputId": "1f6f0f94-2654-4770-a023-ceda93781330"
   },
   "outputs": [],
   "source": [
    "# Load best performing turkey model and evaluate on test data\n",
    "turkey_model = tf.keras.models.load_model(\"model_experiments/model_10_turkey_model\")\n",
    "turkey_model.evaluate(X_test, y_test)"
   ]
  },
  {
   "cell_type": "code",
   "execution_count": null,
   "metadata": {
    "colab": {
     "base_uri": "https://localhost:8080/"
    },
    "id": "BOoXjU75ZfAj",
    "outputId": "ec79e783-3102-4b5d-86b3-5e525065afdf"
   },
   "outputs": [],
   "source": [
    "# Make predictions with turkey model\n",
    "turkey_preds = make_preds(turkey_model, X_test)\n",
    "turkey_preds[:10]"
   ]
  },
  {
   "cell_type": "code",
   "execution_count": null,
   "metadata": {
    "colab": {
     "base_uri": "https://localhost:8080/"
    },
    "id": "9rg_td6FZo5z",
    "outputId": "b5cdc9b9-078c-4eba-dd1b-35384af4381b"
   },
   "outputs": [],
   "source": [
    "# Evaluate turkey preds\n",
    "turkey_results = evaluate_preds(y_true=y_test,\n",
    "                                y_pred=turkey_preds)\n",
    "turkey_results"
   ]
  },
  {
   "cell_type": "code",
   "execution_count": null,
   "metadata": {
    "colab": {
     "base_uri": "https://localhost:8080/"
    },
    "id": "D0w-PvufZyM8",
    "outputId": "85494af2-d81b-4168-f5a9-18730e9a3b2e"
   },
   "outputs": [],
   "source": [
    "model_1_results"
   ]
  },
  {
   "cell_type": "code",
   "execution_count": null,
   "metadata": {
    "colab": {
     "base_uri": "https://localhost:8080/",
     "height": 442
    },
    "id": "2yWONYMkZ3pm",
    "outputId": "16deeca6-a641-46e3-e26f-b5031089a9d7"
   },
   "outputs": [],
   "source": [
    "plt.figure(figsize=(10, 7))\n",
    "offset=0\n",
    "plot_time_series(timesteps=btc_timesteps_turkey[-len(X_test):],\n",
    "                 values=btc_price_turkey[-len(y_test):], \n",
    "                 format=\"-\",\n",
    "                 label=\"Turkey Test Data\", \n",
    "                 start=offset)\n",
    "plot_time_series(timesteps=btc_timesteps_turkey[-len(X_test):],\n",
    "                 values=turkey_preds,\n",
    "                 label=\"Turkey Preds\",\n",
    "                 start=offset);\n"
   ]
  },
  {
   "cell_type": "markdown",
   "metadata": {
    "id": "RTxj9Q4tbPgS"
   },
   "source": [
    "## Compare models"
   ]
  },
  {
   "cell_type": "code",
   "execution_count": null,
   "metadata": {
    "colab": {
     "base_uri": "https://localhost:8080/"
    },
    "id": "TygoL8v3c5Se",
    "outputId": "cf575749-9900-4a84-8390-3ab27de71610"
   },
   "outputs": [],
   "source": [
    "ensemble_results"
   ]
  },
  {
   "cell_type": "code",
   "execution_count": null,
   "metadata": {
    "colab": {
     "base_uri": "https://localhost:8080/",
     "height": 363
    },
    "id": "5fupP-bZcMXx",
    "outputId": "f6b22b93-487d-4418-a60b-f6d915e8cf1e"
   },
   "outputs": [],
   "source": [
    "# Compare different model results (w = window, h = horizon, e.g. w=7 means a window size of 7)\n",
    "model_results = pd.DataFrame({\"naive_model\": naive_results,\n",
    "                              \"model_1_dense_w7_h1\": model_1_results,\n",
    "                              \"model_2_dense_w30_h1\": model_2_results,\n",
    "                              \"model_3_dense_w30_h7\": model_3_results,\n",
    "                              \"model_4_CONV1D\": model_4_results,\n",
    "                              \"model_5_LSTM\": model_5_results,\n",
    "                              \"model_6_multivariate\": model_6_results,\n",
    "                              \"model_7_NBEATS\": model_7_results,\n",
    "                              \"model_8_ensemble\": ensemble_results,\n",
    "                              \"model_10_turkey\": turkey_results}).T\n",
    "model_results.head(10)                            "
   ]
  },
  {
   "cell_type": "code",
   "execution_count": null,
   "metadata": {
    "colab": {
     "base_uri": "https://localhost:8080/",
     "height": 539
    },
    "id": "hR94V_YKdDHc",
    "outputId": "1de7df1d-f608-4ac5-b471-d8c0022eda16"
   },
   "outputs": [],
   "source": [
    "# Sort model results by MAE and plot them \n",
    "model_results[[\"mae\"]].sort_values(by=\"mae\").plot(figsize=(10, 7), kind=\"bar\");"
   ]
  },
  {
   "cell_type": "markdown",
   "metadata": {
    "id": "LG4JyLqFdSxZ"
   },
   "source": [
    "## Exercises and extra curriculum\n",
    "\n",
    "What a journey we've been on!\n",
    "\n",
    "Thank you so much for following along.\n",
    "\n",
    "For all the exercises and extra curriculum related to this section, please refer to the course GitHub: https://github.com/mrdbourke/tensorflow-deep-learning#course-materials"
   ]
  }
 ],
 "metadata": {
  "accelerator": "GPU",
  "colab": {
   "authorship_tag": "ABX9TyPBu2ykKT65cqAZKu/z7eu0",
   "collapsed_sections": [],
   "include_colab_link": true,
   "name": "10_time_series_forecasting_with_tensorflow_video.ipynb",
   "provenance": [],
   "toc_visible": true
  },
  "kernelspec": {
   "display_name": "Python 3",
   "language": "python",
   "name": "python3"
  },
  "language_info": {
   "codemirror_mode": {
    "name": "ipython",
    "version": 3
   },
   "file_extension": ".py",
   "mimetype": "text/x-python",
   "name": "python",
   "nbconvert_exporter": "python",
   "pygments_lexer": "ipython3",
   "version": "3.8.5"
  }
 },
 "nbformat": 4,
 "nbformat_minor": 1
}
