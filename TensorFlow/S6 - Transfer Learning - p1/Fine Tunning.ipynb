{
 "cells": [
  {
   "cell_type": "code",
   "execution_count": null,
   "id": "84033243",
   "metadata": {},
   "outputs": [],
   "source": [
    "# To begin fine-tuning, let's start by setting the last 10 layers of our base_model.trainable = True\n",
    "base_model.trainable = True\n",
    "\n",
    "# Freeze all layers except for the last 10\n",
    "for layer in base_model.layers[:-10]:\n",
    "  layer.trainable = False\n",
    "\n",
    "# Recompile (we have to recompile our models every time we make a change)\n",
    "model_2.compile(loss=\"categorical_crossentropy\",\n",
    "                optimizer=tf.keras.optimizers.Adam(lr=0.0001), # when fine-tuning you typically want to lower the learning rate by 10x*\n",
    "                metrics=[\"accuracy\"])\n",
    "\n",
    "\n",
    "\n",
    "https://keras.io/guides/transfer_learning/\n",
    "    \n",
    "    \n",
    "    \n",
    "    bajar tasa de aprendizaje"
   ]
  }
 ],
 "metadata": {
  "kernelspec": {
   "display_name": "Python 3 (ipykernel)",
   "language": "python",
   "name": "python3"
  },
  "language_info": {
   "codemirror_mode": {
    "name": "ipython",
    "version": 3
   },
   "file_extension": ".py",
   "mimetype": "text/x-python",
   "name": "python",
   "nbconvert_exporter": "python",
   "pygments_lexer": "ipython3",
   "version": "3.10.12"
  }
 },
 "nbformat": 4,
 "nbformat_minor": 5
}
