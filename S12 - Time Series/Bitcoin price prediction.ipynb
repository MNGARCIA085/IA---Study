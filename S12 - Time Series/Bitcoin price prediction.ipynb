{
 "cells": [
  {
   "cell_type": "markdown",
   "metadata": {},
   "source": [
    "# TIME SERIES"
   ]
  },
  {
   "cell_type": "markdown",
   "metadata": {},
   "source": [
    "## Tabla de contenido"
   ]
  },
  {
   "cell_type": "markdown",
   "metadata": {},
   "source": [
    "## Objetivos"
   ]
  },
  {
   "cell_type": "code",
   "execution_count": null,
   "metadata": {},
   "outputs": [],
   "source": []
  },
  {
   "cell_type": "markdown",
   "metadata": {},
   "source": [
    "## Librerías necesarias"
   ]
  },
  {
   "cell_type": "code",
   "execution_count": 1,
   "metadata": {},
   "outputs": [],
   "source": [
    "# que no se impriman info y warnings\n",
    "import os\n",
    "os.environ['TF_CPP_MIN_LOG_LEVEL'] = '2' "
   ]
  },
  {
   "cell_type": "code",
   "execution_count": null,
   "metadata": {},
   "outputs": [],
   "source": []
  },
  {
   "cell_type": "code",
   "execution_count": 4,
   "metadata": {},
   "outputs": [],
   "source": [
    "import tensorflow as tf\n",
    "import matplotlib.pyplot as plt\n",
    "import matplotlib.image as mpimg\n",
    "import numpy as np\n",
    "from tensorflow.keras import layers,callbacks,models,Sequential,losses\n",
    "import seaborn as sns\n",
    "from sklearn.metrics import confusion_matrix\n",
    "#import keras_tuner\n",
    "from tensorflow import keras\n",
    "from keras import backend as K\n",
    "import os,random\n",
    "import pandas as pd\n",
    "from tensorflow.keras.preprocessing.image import ImageDataGenerator\n",
    "#import tensorflow_hub as hub\n",
    "from tensorflow.keras.preprocessing.image import ImageDataGenerator\n",
    "from tensorflow.keras.applications.efficientnet import preprocess_input\n",
    "from tensorflow.keras.layers.experimental import preprocessing\n",
    "import seaborn as sns\n",
    "from sklearn.metrics import classification_report, confusion_matrix\n",
    "import csv\n",
    "from datetime import datetime"
   ]
  },
  {
   "cell_type": "markdown",
   "metadata": {},
   "source": [
    "## Helper fucntions"
   ]
  },
  {
   "cell_type": "code",
   "execution_count": 5,
   "metadata": {},
   "outputs": [],
   "source": [
    "# Create a function to plot time series data\n",
    "def plot_time_series(timesteps, values, format=\".\", start=0, end=None, label=None):\n",
    "  \"\"\"\n",
    "  Plots timesteps (a series of points in time) against values (a series of values across timesteps).\n",
    "\n",
    "  Parameters\n",
    "  ----------\n",
    "  timesteps : array of timestep values\n",
    "  values : array of values across time\n",
    "  format : style of plot, default \".\"\n",
    "  start : where to start the plot (setting a value will index from start of timesteps & values)\n",
    "  end : where to end the plot (similar to start but for the end)\n",
    "  label : label to show on plot about values, default None \n",
    "  \"\"\"\n",
    "  # Plot the series\n",
    "  plt.plot(timesteps[start:end], values[start:end], format, label=label)\n",
    "  plt.xlabel(\"Time\")\n",
    "  plt.ylabel(\"BTC Price\")\n",
    "  if label:\n",
    "    plt.legend(fontsize=14) # make label bigger\n",
    "  plt.grid(True)"
   ]
  },
  {
   "cell_type": "markdown",
   "metadata": {},
   "source": [
    "## Carga de datos"
   ]
  },
  {
   "cell_type": "markdown",
   "metadata": {},
   "source": [
    "Descargamos los datos de https://www.coindesk.com/price/bitcoin/"
   ]
  },
  {
   "cell_type": "code",
   "execution_count": 1,
   "metadata": {},
   "outputs": [
    {
     "name": "stdout",
     "output_type": "stream",
     "text": [
      "--2023-12-08 15:37:39--  https://raw.githubusercontent.com/mrdbourke/tensorflow-deep-learning/main/extras/BTC_USD_2013-10-01_2021-05-18-CoinDesk.csv\n",
      "Resolviendo raw.githubusercontent.com (raw.githubusercontent.com)... 2606:50c0:8000::154, 2606:50c0:8002::154, 2606:50c0:8001::154, ...\n",
      "Conectando con raw.githubusercontent.com (raw.githubusercontent.com)[2606:50c0:8000::154]:443... conectado.\n",
      "Petición HTTP enviada, esperando respuesta... 200 OK\n",
      "Longitud: 178509 (174K) [text/plain]\n",
      "Guardando como: ‘BTC_USD_2013-10-01_2021-05-18-CoinDesk.csv’\n",
      "\n",
      "BTC_USD_2013-10-01_ 100%[===================>] 174,33K  --.-KB/s    en 0,03s   \n",
      "\n",
      "2023-12-08 15:37:40 (6,60 MB/s) - ‘BTC_USD_2013-10-01_2021-05-18-CoinDesk.csv’ guardado [178509/178509]\n",
      "\n"
     ]
    }
   ],
   "source": [
    "!wget https://raw.githubusercontent.com/mrdbourke/tensorflow-deep-learning/main/extras/BTC_USD_2013-10-01_2021-05-18-CoinDesk.csv "
   ]
  },
  {
   "cell_type": "code",
   "execution_count": 6,
   "metadata": {},
   "outputs": [
    {
     "name": "stdout",
     "output_type": "stream",
     "text": [
      " 10_time_series_forecasting_in_tensorflow.ipynb\r\n",
      " 10_time_series_forecasting_with_tensorflow_video.ipynb\r\n",
      "'Bitcoin price prediction.ipynb'\r\n",
      " BTC_USD_2013-10-01_2021-05-18-CoinDesk.csv\r\n"
     ]
    }
   ],
   "source": [
    "!ls"
   ]
  },
  {
   "cell_type": "code",
   "execution_count": 6,
   "metadata": {},
   "outputs": [
    {
     "data": {
      "text/html": [
       "<div>\n",
       "<style scoped>\n",
       "    .dataframe tbody tr th:only-of-type {\n",
       "        vertical-align: middle;\n",
       "    }\n",
       "\n",
       "    .dataframe tbody tr th {\n",
       "        vertical-align: top;\n",
       "    }\n",
       "\n",
       "    .dataframe thead th {\n",
       "        text-align: right;\n",
       "    }\n",
       "</style>\n",
       "<table border=\"1\" class=\"dataframe\">\n",
       "  <thead>\n",
       "    <tr style=\"text-align: right;\">\n",
       "      <th></th>\n",
       "      <th>Currency</th>\n",
       "      <th>Closing Price (USD)</th>\n",
       "      <th>24h Open (USD)</th>\n",
       "      <th>24h High (USD)</th>\n",
       "      <th>24h Low (USD)</th>\n",
       "    </tr>\n",
       "    <tr>\n",
       "      <th>Date</th>\n",
       "      <th></th>\n",
       "      <th></th>\n",
       "      <th></th>\n",
       "      <th></th>\n",
       "      <th></th>\n",
       "    </tr>\n",
       "  </thead>\n",
       "  <tbody>\n",
       "    <tr>\n",
       "      <th>2013-10-01</th>\n",
       "      <td>BTC</td>\n",
       "      <td>123.65499</td>\n",
       "      <td>124.30466</td>\n",
       "      <td>124.75166</td>\n",
       "      <td>122.56349</td>\n",
       "    </tr>\n",
       "    <tr>\n",
       "      <th>2013-10-02</th>\n",
       "      <td>BTC</td>\n",
       "      <td>125.45500</td>\n",
       "      <td>123.65499</td>\n",
       "      <td>125.75850</td>\n",
       "      <td>123.63383</td>\n",
       "    </tr>\n",
       "    <tr>\n",
       "      <th>2013-10-03</th>\n",
       "      <td>BTC</td>\n",
       "      <td>108.58483</td>\n",
       "      <td>125.45500</td>\n",
       "      <td>125.66566</td>\n",
       "      <td>83.32833</td>\n",
       "    </tr>\n",
       "    <tr>\n",
       "      <th>2013-10-04</th>\n",
       "      <td>BTC</td>\n",
       "      <td>118.67466</td>\n",
       "      <td>108.58483</td>\n",
       "      <td>118.67500</td>\n",
       "      <td>107.05816</td>\n",
       "    </tr>\n",
       "    <tr>\n",
       "      <th>2013-10-05</th>\n",
       "      <td>BTC</td>\n",
       "      <td>121.33866</td>\n",
       "      <td>118.67466</td>\n",
       "      <td>121.93633</td>\n",
       "      <td>118.00566</td>\n",
       "    </tr>\n",
       "  </tbody>\n",
       "</table>\n",
       "</div>"
      ],
      "text/plain": [
       "           Currency  Closing Price (USD)  24h Open (USD)  24h High (USD)  \\\n",
       "Date                                                                       \n",
       "2013-10-01      BTC            123.65499       124.30466       124.75166   \n",
       "2013-10-02      BTC            125.45500       123.65499       125.75850   \n",
       "2013-10-03      BTC            108.58483       125.45500       125.66566   \n",
       "2013-10-04      BTC            118.67466       108.58483       118.67500   \n",
       "2013-10-05      BTC            121.33866       118.67466       121.93633   \n",
       "\n",
       "            24h Low (USD)  \n",
       "Date                       \n",
       "2013-10-01      122.56349  \n",
       "2013-10-02      123.63383  \n",
       "2013-10-03       83.32833  \n",
       "2013-10-04      107.05816  \n",
       "2013-10-05      118.00566  "
      ]
     },
     "execution_count": 6,
     "metadata": {},
     "output_type": "execute_result"
    }
   ],
   "source": [
    "# importamos los datos con pandas\n",
    "\n",
    "df = pd.read_csv(\"BTC_USD_2013-10-01_2021-05-18-CoinDesk.csv\",\n",
    "                 parse_dates=[\"Date\"],\n",
    "                 index_col=[\"Date\"]) # prase the date column and tell pandas column 1 is a datetime \n",
    "\n",
    "df.head()"
   ]
  },
  {
   "cell_type": "code",
   "execution_count": 7,
   "metadata": {},
   "outputs": [
    {
     "name": "stdout",
     "output_type": "stream",
     "text": [
      "<class 'pandas.core.frame.DataFrame'>\n",
      "DatetimeIndex: 2787 entries, 2013-10-01 to 2021-05-18\n",
      "Data columns (total 5 columns):\n",
      " #   Column               Non-Null Count  Dtype  \n",
      "---  ------               --------------  -----  \n",
      " 0   Currency             2787 non-null   object \n",
      " 1   Closing Price (USD)  2787 non-null   float64\n",
      " 2   24h Open (USD)       2787 non-null   float64\n",
      " 3   24h High (USD)       2787 non-null   float64\n",
      " 4   24h Low (USD)        2787 non-null   float64\n",
      "dtypes: float64(4), object(1)\n",
      "memory usage: 130.6+ KB\n"
     ]
    }
   ],
   "source": [
    "df.info()"
   ]
  },
  {
   "cell_type": "code",
   "execution_count": 8,
   "metadata": {},
   "outputs": [
    {
     "data": {
      "text/plain": [
       "2787"
      ]
     },
     "execution_count": 8,
     "metadata": {},
     "output_type": "execute_result"
    }
   ],
   "source": [
    "len(df)"
   ]
  },
  {
   "cell_type": "markdown",
   "metadata": {},
   "source": [
    "We've collected the historical price of Bitcoin for the past ~8 years but there's 2787 samples.\n",
    "\n",
    "Typically deep learning models usually like lots and lots and lots of samples (where lots and lots and lots can thousands to tens of thousands to millions).\n",
    "\n",
    "A smaller number of samples is something you'll often run into with time series data problems.\n",
    "\n",
    "> 🔑 **Note:** The **seasonality** of a time series dataset is referred as the number of samples per year. So for our Bitcoin data, it has a seaonality of daily or value of 365 because we collect one sample per day meaning we'll get 365 samples per year.\n",
    "\n",
    "\n",
    "-> afinar la definición"
   ]
  },
  {
   "cell_type": "code",
   "execution_count": 9,
   "metadata": {},
   "outputs": [
    {
     "data": {
      "text/html": [
       "<div>\n",
       "<style scoped>\n",
       "    .dataframe tbody tr th:only-of-type {\n",
       "        vertical-align: middle;\n",
       "    }\n",
       "\n",
       "    .dataframe tbody tr th {\n",
       "        vertical-align: top;\n",
       "    }\n",
       "\n",
       "    .dataframe thead th {\n",
       "        text-align: right;\n",
       "    }\n",
       "</style>\n",
       "<table border=\"1\" class=\"dataframe\">\n",
       "  <thead>\n",
       "    <tr style=\"text-align: right;\">\n",
       "      <th></th>\n",
       "      <th>Price</th>\n",
       "    </tr>\n",
       "    <tr>\n",
       "      <th>Date</th>\n",
       "      <th></th>\n",
       "    </tr>\n",
       "  </thead>\n",
       "  <tbody>\n",
       "    <tr>\n",
       "      <th>2013-10-01</th>\n",
       "      <td>123.65499</td>\n",
       "    </tr>\n",
       "    <tr>\n",
       "      <th>2013-10-02</th>\n",
       "      <td>125.45500</td>\n",
       "    </tr>\n",
       "    <tr>\n",
       "      <th>2013-10-03</th>\n",
       "      <td>108.58483</td>\n",
       "    </tr>\n",
       "    <tr>\n",
       "      <th>2013-10-04</th>\n",
       "      <td>118.67466</td>\n",
       "    </tr>\n",
       "    <tr>\n",
       "      <th>2013-10-05</th>\n",
       "      <td>121.33866</td>\n",
       "    </tr>\n",
       "  </tbody>\n",
       "</table>\n",
       "</div>"
      ],
      "text/plain": [
       "                Price\n",
       "Date                 \n",
       "2013-10-01  123.65499\n",
       "2013-10-02  125.45500\n",
       "2013-10-03  108.58483\n",
       "2013-10-04  118.67466\n",
       "2013-10-05  121.33866"
      ]
     },
     "execution_count": 9,
     "metadata": {},
     "output_type": "execute_result"
    }
   ],
   "source": [
    "# Only want closing price for each day\n",
    "# me quedo sólo con lo que preciso y hago un rename\n",
    "bitcoin_prices = pd.DataFrame(df[\"Closing Price (USD)\"]).rename(columns={\"Closing Price (USD)\": \"Price\"})\n",
    "bitcoin_prices.head()"
   ]
  },
  {
   "cell_type": "code",
   "execution_count": 10,
   "metadata": {},
   "outputs": [
    {
     "data": {
      "image/png": "[encoded data removed]",
      "text/plain": [
       "<Figure size 648x360 with 1 Axes>"
      ]
     },
     "metadata": {
      "needs_background": "light"
     },
     "output_type": "display_data"
    }
   ],
   "source": [
    "bitcoin_prices.plot(figsize=(9, 5))\n",
    "plt.ylabel(\"BTC Price\")\n",
    "plt.title(\"Price of Bitcoin from 1 Oct 2013 to 18 May 2021\", fontsize=16)\n",
    "plt.legend(fontsize=14);"
   ]
  },
  {
   "cell_type": "markdown",
   "metadata": {},
   "source": [
    "<b>Importando los datos usando el módulo CSV reader de python</b> (una alternativa a usar Pandas)"
   ]
  },
  {
   "cell_type": "code",
   "execution_count": 11,
   "metadata": {},
   "outputs": [
    {
     "data": {
      "text/plain": [
       "([datetime.datetime(2013, 10, 1, 0, 0),\n",
       "  datetime.datetime(2013, 10, 2, 0, 0),\n",
       "  datetime.datetime(2013, 10, 3, 0, 0),\n",
       "  datetime.datetime(2013, 10, 4, 0, 0),\n",
       "  datetime.datetime(2013, 10, 5, 0, 0),\n",
       "  datetime.datetime(2013, 10, 6, 0, 0),\n",
       "  datetime.datetime(2013, 10, 7, 0, 0),\n",
       "  datetime.datetime(2013, 10, 8, 0, 0),\n",
       "  datetime.datetime(2013, 10, 9, 0, 0),\n",
       "  datetime.datetime(2013, 10, 10, 0, 0)],\n",
       " [123.65499,\n",
       "  125.455,\n",
       "  108.58483,\n",
       "  118.67466,\n",
       "  121.33866,\n",
       "  120.65533,\n",
       "  121.795,\n",
       "  123.033,\n",
       "  124.049,\n",
       "  125.96116])"
      ]
     },
     "execution_count": 11,
     "metadata": {},
     "output_type": "execute_result"
    }
   ],
   "source": [
    "# Importing and formatting historical Bitcoin data with Python\n",
    "timesteps = []\n",
    "btc_price = []\n",
    "with open(\"BTC_USD_2013-10-01_2021-05-18-CoinDesk.csv\", \"r\") as f:\n",
    "  csv_reader = csv.reader(f, delimiter=\",\")\n",
    "  next(csv_reader) # skip first line (this gets rid of the column titles)\n",
    "  for line in csv_reader:\n",
    "    timesteps.append(datetime.strptime(line[1], \"%Y-%m-%d\")) # get the dates as dates (not strings)\n",
    "    btc_price.append(float(line[2])) # get the closing price as float\n",
    "\n",
    "# View first 10 of each\n",
    "timesteps[:10], btc_price[:10]"
   ]
  },
  {
   "cell_type": "code",
   "execution_count": 12,
   "metadata": {},
   "outputs": [
    {
     "data": {
      "image/png": "[encoded data removed]",
      "text/plain": [
       "<Figure size 576x360 with 1 Axes>"
      ]
     },
     "metadata": {
      "needs_background": "light"
     },
     "output_type": "display_data"
    }
   ],
   "source": [
    "plt.figure(figsize=(8,5))\n",
    "plt.plot(timesteps, btc_price)\n",
    "plt.ylabel(\"BTC Price\")\n",
    "plt.title(\"Price of Bitcoin from 1 Oct 2013 to 18 May 2021\", fontsize=16)\n",
    "plt.xlabel(\"Date\");"
   ]
  },
  {
   "cell_type": "markdown",
   "metadata": {},
   "source": [
    "### Train test split"
   ]
  },
  {
   "cell_type": "markdown",
   "metadata": {},
   "source": [
    "NO puedo usar train_test_split de sklearn así nomás, pues hace una división aleatoria y esto es una serie temporal; el orden importa!!!"
   ]
  },
  {
   "cell_type": "code",
   "execution_count": 13,
   "metadata": {},
   "outputs": [
    {
     "data": {
      "text/plain": [
       "(array(['2013-10-01T00:00:00.000000000', '2013-10-02T00:00:00.000000000',\n",
       "        '2013-10-03T00:00:00.000000000', '2013-10-04T00:00:00.000000000',\n",
       "        '2013-10-05T00:00:00.000000000', '2013-10-06T00:00:00.000000000',\n",
       "        '2013-10-07T00:00:00.000000000', '2013-10-08T00:00:00.000000000',\n",
       "        '2013-10-09T00:00:00.000000000', '2013-10-10T00:00:00.000000000'],\n",
       "       dtype='datetime64[ns]'),\n",
       " array([123.65499, 125.455  , 108.58483, 118.67466, 121.33866, 120.65533,\n",
       "        121.795  , 123.033  , 124.049  , 125.96116]))"
      ]
     },
     "execution_count": 13,
     "metadata": {},
     "output_type": "execute_result"
    }
   ],
   "source": [
    "# Get bitcoin date array\n",
    "timesteps = bitcoin_prices.index.to_numpy()\n",
    "prices = bitcoin_prices[\"Price\"].to_numpy()\n",
    "\n",
    "timesteps[:10], prices[:10]"
   ]
  },
  {
   "cell_type": "code",
   "execution_count": 14,
   "metadata": {},
   "outputs": [
    {
     "data": {
      "text/plain": [
       "(2229, 558, 2229, 558)"
      ]
     },
     "execution_count": 14,
     "metadata": {},
     "output_type": "execute_result"
    }
   ],
   "source": [
    "# Create train and test splits the right way for time series data\n",
    "split_size = int(0.8 * len(prices)) # 80% train, 20% test - you can change these values as needed, e.g. 90/10, 95/5\n",
    "\n",
    "# Create train data splits (everything before the split)\n",
    "X_train, y_train = timesteps[:split_size], prices[:split_size]\n",
    "\n",
    "# Create test data splits (everything beyond the split)\n",
    "X_test, y_test = timesteps[split_size:], prices[split_size:]\n",
    "\n",
    "len(X_train), len(X_test), len(y_train), len(y_test)"
   ]
  },
  {
   "cell_type": "code",
   "execution_count": 15,
   "metadata": {},
   "outputs": [
    {
     "data": {
      "image/png": "[encoded data removed]",
      "text/plain": [
       "<Figure size 648x432 with 1 Axes>"
      ]
     },
     "metadata": {
      "needs_background": "light"
     },
     "output_type": "display_data"
    }
   ],
   "source": [
    "# Test out plotting function\n",
    "plt.figure(figsize=(9, 6))\n",
    "plot_time_series(timesteps=X_train, values=y_train, label=\"Train data\")\n",
    "plot_time_series(timesteps=X_test, values=y_test, label=\"Test data\")"
   ]
  },
  {
   "cell_type": "markdown",
   "metadata": {},
   "source": [
    "## Modelos a probar"
   ]
  },
  {
   "cell_type": "markdown",
   "metadata": {},
   "source": [
    "We've got some Bitcoin historical data, to model it, let's run a series of modelling experiments and see which model performs best.\n",
    "\n",
    "Terms to be familiar with:\n",
    "* **Horizon** = number of timesteps into the future we're going to predict\n",
    "* **Window size** = number of timesteps we're going to use to predict **horizon**\n",
    "\n",
    "Modelling experiments we're running:\n",
    "* 0\tNaïve model (baseline)\t\n",
    "* 1\tDense model, horizon = 1, window = 7\n",
    "* 2\tSame as 1, \thorizon = 1, window = 30\n",
    "* 3\tSame as 1, \thorizon = 7, window =\t30\n",
    "* 4\tConv1D\n",
    "* 5\tLSTM\n",
    "* 6\tSame as 1 (but with multivariate data)\n",
    "* 7\tN-BEATs Algorithm\n",
    "* 8\tEnsemble (multiple models optimized on different loss functions)\n",
    "* 9\tFuture prediction model (model to predict future values)\n",
    "* 10\tSame as 1 (but with turkey 🦃 data introduced)"
   ]
  },
  {
   "cell_type": "markdown",
   "metadata": {},
   "source": [
    "<b> <font color='green'>Naive Forecast</font></b>"
   ]
  },
  {
   "cell_type": "markdown",
   "metadata": {},
   "source": [
    "The formula looks like this:\n",
    "\n",
    "$$\\hat{y}_{t} = y_{t-1}$$\n",
    "\n",
    "In English:\n",
    "\n",
    "> The prediction at timestep t (y-hat) is equal to the value at timestep t-1 (previous timestep) - this is for a horizon of 1."
   ]
  },
  {
   "cell_type": "code",
   "execution_count": 16,
   "metadata": {},
   "outputs": [
    {
     "data": {
      "text/plain": [
       "(array([9226.48582088, 8794.35864452, 8798.04205463, 9081.18687849,\n",
       "        8711.53433917, 8760.89271814, 8749.52059102, 8656.97092235,\n",
       "        8500.64355816, 8469.2608989 ]),\n",
       " array([57107.12067189, 58788.20967893, 58102.19142623, 55715.54665129,\n",
       "        56573.5554719 , 52147.82118698, 49764.1320816 , 50032.69313676,\n",
       "        47885.62525472, 45604.61575361]))"
      ]
     },
     "execution_count": 16,
     "metadata": {},
     "output_type": "execute_result"
    }
   ],
   "source": [
    "# Create a naive forecast \n",
    "naive_forecast = y_test[:-1]\n",
    "\n",
    "naive_forecast[:10], naive_forecast[-10:]"
   ]
  },
  {
   "cell_type": "code",
   "execution_count": 17,
   "metadata": {},
   "outputs": [
    {
     "data": {
      "image/png": "[encoded data removed]",
      "text/plain": [
       "<Figure size 648x432 with 1 Axes>"
      ]
     },
     "metadata": {
      "needs_background": "light"
     },
     "output_type": "display_data"
    }
   ],
   "source": [
    "# Plot naive forecast\n",
    "plt.figure(figsize=(9, 6))\n",
    "# plot_time_series(timesteps=X_train, values=y_train, label=\"Train data\")\n",
    "plot_time_series(timesteps=X_test, values=y_test, start=350, format=\"-\", label=\"Test data\")\n",
    "plot_time_series(timesteps=X_test[1:], values=naive_forecast, start=350, format=\"-\", label=\"Naive Forecast\")"
   ]
  },
  {
   "cell_type": "markdown",
   "metadata": {},
   "source": [
    "## Evaluando series temporales"
   ]
  },
  {
   "cell_type": "markdown",
   "metadata": {},
   "source": [
    "Let's look into some evaluation metrics for time series forecasting. \n",
    "\n",
    "What are we doing?\n",
    "\n",
    "We're predicting a number, so that means we have a form of a regression problem.\n",
    "\n",
    "Because we're working on a regression problem, we'll need some regression-like metrics.\n",
    "\n",
    "A few common regression metrics (which can also be used for time series forecasting):\n",
    "* MAE - mean absolute error\n",
    "* MSE - mean squared error\n",
    "* RMSE - root mean square error\n",
    "* MAPE/sMAPE - (symmetric) mean absolute percentage error\n",
    "* MASE - mean absolute scaled error\n",
    "\n",
    "For all of the above metrics, **lower is better**, for example, an MAE of 0 that is better than an MAE of 100.\n",
    "\n",
    "The main thing we're evaluating here is: **how do our model's forecasts (y_pred) compare against the actual values (y_true or ground truth values)?**\n",
    "\n",
    "> 📖 **Resource:** For a deeper dive on the various kinds of time series forecasting methods see [Forecasting: Principles and Practice chapter 5.8](https://otexts.com/fpp3/accuracy.html) "
   ]
  },
  {
   "cell_type": "markdown",
   "metadata": {},
   "source": [
    "<b> Implementando MASE </b>"
   ]
  },
  {
   "cell_type": "code",
   "execution_count": 18,
   "metadata": {},
   "outputs": [
    {
     "name": "stdout",
     "output_type": "stream",
     "text": [
      "tf.Tensor(\n",
      "[[1. 2.]\n",
      " [5. 3.]], shape=(2, 2), dtype=float32)\n",
      "tf.Tensor(2.75, shape=(), dtype=float32)\n",
      "tf.Tensor([3.  2.5], shape=(2,), dtype=float32)\n",
      "tf.Tensor([1.5 4. ], shape=(2,), dtype=float32)\n",
      "tf.Tensor(\n",
      "[[1.5]\n",
      " [4. ]], shape=(2, 1), dtype=float32)\n"
     ]
    }
   ],
   "source": [
    "# repaso reduce_mean\n",
    "\n",
    "\"\"\"\n",
    "tf.math.reduce_mean(\n",
    "    input_tensor, axis=None, keepdims=False, name=None\n",
    ")\n",
    "\"\"\"\n",
    "\n",
    "x = tf.constant( [ [1., 2.], [5.,3.] ])\n",
    "\n",
    "print(x)\n",
    "\n",
    "print(tf.math.reduce_mean(x)) # (1+2+5+3)/4  -> 2.75\n",
    "\n",
    "print(tf.math.reduce_mean(x,axis=0)) # (1+5)/2 ; (2+3)/2\n",
    "\n",
    "print(tf.math.reduce_mean(x,axis=1)) # (1+2)/2 ; (5+3)/2\n",
    "\n",
    "print(tf.math.reduce_mean(x,axis=1,keepdims=True)) "
   ]
  },
  {
   "cell_type": "code",
   "execution_count": 19,
   "metadata": {},
   "outputs": [
    {
     "name": "stdout",
     "output_type": "stream",
     "text": [
      "[4 7]\n",
      "[1 4]\n"
     ]
    },
    {
     "data": {
      "text/plain": [
       "array([3, 3])"
      ]
     },
     "execution_count": 19,
     "metadata": {},
     "output_type": "execute_result"
    }
   ],
   "source": [
    "# ayuda para lo que sigue\n",
    "\n",
    "y = np.array([1, 4, 7])\n",
    "\n",
    "\n",
    "# yt - ty-1 : -> (7-4), (4-1)\n",
    "\n",
    "\n",
    "print(y[1:]) # es desde la primera porque en la atrasada no tengo con qué restar al inicio\n",
    "print(y[:-1])\n",
    "\n",
    "y[1:] - y[:-1]\n",
    "\n"
   ]
  },
  {
   "cell_type": "code",
   "execution_count": 20,
   "metadata": {},
   "outputs": [],
   "source": [
    "# MASE implementation\n",
    "def mean_absolute_scaled_error(y_true, y_pred):\n",
    "  \"\"\"\n",
    "  Implement MASE (assuming no seasonality of data).\n",
    "  \"\"\"\n",
    "  mae = tf.reduce_mean(tf.abs(y_true-y_pred))\n",
    "\n",
    "  # Find MAE of naive forecast (no seasonality)\n",
    "  mae_naive_no_season = tf.reduce_mean(tf.abs(y_true[1:] - y_true[:-1])) # our seasonality is 1 day (hence the shift of 1)\n",
    "\n",
    "  return mae / mae_naive_no_season"
   ]
  },
  {
   "cell_type": "code",
   "execution_count": 21,
   "metadata": {},
   "outputs": [
    {
     "data": {
      "text/plain": [
       "0.9995699939182626"
      ]
     },
     "execution_count": 21,
     "metadata": {},
     "output_type": "execute_result"
    }
   ],
   "source": [
    "# Test MASE (this value should = 1 or be very close to 1 with the naive forecast)\n",
    "mean_absolute_scaled_error(y_true=y_test[1:], y_pred=naive_forecast).numpy()"
   ]
  },
  {
   "cell_type": "markdown",
   "metadata": {},
   "source": [
    "Función para computar las distintas métricas"
   ]
  },
  {
   "cell_type": "code",
   "execution_count": 22,
   "metadata": {},
   "outputs": [],
   "source": [
    "# Create a function to take in model predictions and truth values and return evaluation metrics\n",
    "def evaluate_preds(y_true, y_pred):\n",
    "  # Make sure float32 datatype (for metric calculations)\n",
    "  y_true = tf.cast(y_true, dtype=tf.float32)\n",
    "  y_pred = tf.cast(y_pred, dtype=tf.float32)\n",
    "\n",
    "  # Calculate various evaluation metrics \n",
    "  mae = tf.keras.metrics.mean_absolute_error(y_true, y_pred)\n",
    "  mse = tf.keras.metrics.mean_squared_error(y_true, y_pred)\n",
    "  rmse = tf.sqrt(mse)\n",
    "  mape = tf.keras.metrics.mean_absolute_percentage_error(y_true, y_pred)\n",
    "  mase = mean_absolute_scaled_error(y_true, y_pred)\n",
    "\n",
    "  return {\"mae\": mae.numpy(),\n",
    "          \"mse\": mse.numpy(),\n",
    "          \"rmse\": rmse.numpy(),\n",
    "          \"mape\": mape.numpy(),\n",
    "          \"mase\": mase.numpy()}"
   ]
  },
  {
   "cell_type": "code",
   "execution_count": 23,
   "metadata": {},
   "outputs": [
    {
     "data": {
      "text/plain": [
       "{'mae': 567.9802,\n",
       " 'mse': 1147547.0,\n",
       " 'rmse': 1071.2362,\n",
       " 'mape': 2.5165248,\n",
       " 'mase': 0.99957}"
      ]
     },
     "execution_count": 23,
     "metadata": {},
     "output_type": "execute_result"
    }
   ],
   "source": [
    "naive_results = evaluate_preds(y_true=y_test[1:],\n",
    "                               y_pred=naive_forecast)\n",
    "\n",
    "naive_results"
   ]
  },
  {
   "cell_type": "markdown",
   "metadata": {},
   "source": [
    "## <font color='#9400D3'> Format Data Part 2: Windowing our dataset </font>\n",
    "\n",
    "\n",
    "--> antes usamos train/dev/test, ahora usaremos ventanas\n",
    "\n",
    "\n",
    "Why do we window?\n",
    "\n",
    "We window our time series dataset to turn our data into a supervised learning problem.\n",
    "\n",
    "```\n",
    "Windowing for one week\n",
    "[0, 1, 2, 3, 4, 5, 6] -> [7]\n",
    "[1, 2, 3, 4, 5, 6, 7] -> [8]\n",
    "[2, 3, 4, 5, 6, 7, 8] -> [9]\n",
    "```"
   ]
  },
  {
   "cell_type": "code",
   "execution_count": 24,
   "metadata": {},
   "outputs": [
    {
     "name": "stdout",
     "output_type": "stream",
     "text": [
      "We want to use: [123.65499, 125.455, 108.58483, 118.67466, 121.33866, 120.65533, 121.795] to predict this: 123.033\n"
     ]
    }
   ],
   "source": [
    "# What we want to do with our Bitcoin data\n",
    "print(f\"We want to use: {btc_price[:7]} to predict this: {btc_price[7]}\")"
   ]
  },
  {
   "cell_type": "code",
   "execution_count": 25,
   "metadata": {},
   "outputs": [],
   "source": [
    "# Let's setup global variables for window and horizon size\n",
    "HORIZON = 1 # predict next 1 day\n",
    "WINDOW_SIZE = 7 # use the past week of Bitcoin data to make the prediction"
   ]
  },
  {
   "cell_type": "code",
   "execution_count": 26,
   "metadata": {},
   "outputs": [],
   "source": [
    "# Create function to label windowed data\n",
    "def get_labelled_windows(x, horizon=HORIZON):\n",
    "  \"\"\"\n",
    "  Creates labels for windowed dataset.\n",
    "\n",
    "  E.g. if horizon=1\n",
    "  Input: [0, 1, 2, 3, 4, 5, 6, 7] -> Output: ([0, 1, 2, 3, 4, 5, 6], [7])\n",
    "  \"\"\"\n",
    "  return x[:, :-horizon], x[:, -horizon:]"
   ]
  },
  {
   "cell_type": "code",
   "execution_count": 27,
   "metadata": {},
   "outputs": [
    {
     "name": "stdout",
     "output_type": "stream",
     "text": [
      "Window: [0 1 2 3 4 5 6] -> Label: 7\n"
     ]
    }
   ],
   "source": [
    "# Test out the window labelling function\n",
    "test_window, test_label = get_labelled_windows(tf.expand_dims(tf.range(8), axis=0))\n",
    "print(f\"Window: {tf.squeeze(test_window).numpy()} -> Label: {tf.squeeze(test_label).numpy()}\")"
   ]
  },
  {
   "cell_type": "markdown",
   "metadata": {},
   "source": [
    "We've got a way to label our windowed data.\n",
    "\n",
    "However, this only works on a small scale.\n",
    "\n",
    "We need a way to do the above across our entire time series.\n",
    "\n",
    "We could do this with Python for loops, however, for large time series, that'd be quite lsow.\n",
    "\n",
    "To speed things up, we'll leverage NumPy's array indexing - https://numpy.org/doc/stable/reference/arrays.indexing.html.\n",
    "\n",
    "Our function will:\n",
    "1. Create a window step of specific window size (e.g. [0, 1, 2, 3, 4, 5, 6])\n",
    "2. Use NumPy indexing to create a 2D array of multiple window steps, for example: \n",
    "```\n",
    "[[0, 1, 2, 3, 4, 5, 6],\n",
    "[1, 2, 3, 4, 5, 6, 7],\n",
    "[2, 3, 4, 5, 6, 7, 8]]\n",
    "```\n",
    "3. Uses the 2D array of multiple window steps (from 2.) to index on a target series (e.g. the historical price of Bitcoin)\n",
    "4. Uses our `get_labelled_windows()` function we created above to turn the window steps into windows with a specified horizon \n",
    "\n",
    "> 📖 **Resource:** The function we're about to create has been adapted from the following article: https://towardsdatascience.com/fast-and-robust-sliding-window-vectorization-with-numpy-3ad950ed62f5"
   ]
  },
  {
   "cell_type": "code",
   "execution_count": 28,
   "metadata": {},
   "outputs": [
    {
     "name": "stdout",
     "output_type": "stream",
     "text": [
      "aux [10 11 12 13 14]\n",
      "\n",
      "window step: [[0 1 2 3]]\n",
      "\n",
      "window indexes [[0 1 2 3]\n",
      " [1 2 3 4]]\n"
     ]
    },
    {
     "data": {
      "text/plain": [
       "array([[10, 11, 12, 13],\n",
       "       [11, 12, 13, 14]])"
      ]
     },
     "execution_count": 28,
     "metadata": {},
     "output_type": "execute_result"
    }
   ],
   "source": [
    "# Ayuda de código\n",
    "\n",
    "\n",
    "window_size = 3\n",
    "horizon = 1\n",
    "\n",
    "\n",
    "aux = np.array([10, 11, 12, 13, 14])\n",
    "\n",
    "\n",
    "print(f\"aux {aux}\\n\")\n",
    "\n",
    "\n",
    "window_step = np.expand_dims(np.arange(window_size+horizon), axis=0)\n",
    "\n",
    "\n",
    "print(f\"window step: {window_step}\\n\")\n",
    "\n",
    "window_indexes = window_step + np.expand_dims(np.arange(len(aux)-(window_size+horizon-1)), axis=0).T \n",
    "\n",
    "\n",
    "print(f\"window indexes {window_indexes}\")\n",
    "\n",
    "\n",
    "aux[window_indexes]\n",
    "\n",
    "\n",
    "\n",
    "\n",
    "#aux[[[0,1,2,3],[1,2,3,4]]]\n"
   ]
  },
  {
   "cell_type": "code",
   "execution_count": 32,
   "metadata": {},
   "outputs": [],
   "source": [
    "# Create function to view NumPy arrays as windows\n",
    "def make_windows(x, window_size=WINDOW_SIZE, horizon=HORIZON):\n",
    "    \"\"\"\n",
    "    Turns a 1D array into a 2D array of sequential labelled windows of window_size with horizon size labels.\n",
    "    \"\"\"\n",
    "    #print(f\"entrada: {x}\\n\")\n",
    "\n",
    "\n",
    "    # 1. Create a window of specific window_size (add the horzion on the end for labelling later)\n",
    "    window_step = np.expand_dims(np.arange(window_size+horizon), axis=0)\n",
    "\n",
    "\n",
    "    print(f\"window setp: {window_step}\\n\")\n",
    "\n",
    "\n",
    "    # 2. Create a 2D array of multiple window steps (minus 1 to account for 0 indexing)\n",
    "    window_indexes = window_step + np.expand_dims(np.arange(len(x)-(window_size+horizon-1)), axis=0).T \n",
    "        # create 2D array of windows of size window_size\n",
    "        # print(f\"Window indexes:\\n {window_indexes, window_indexes.shape}\")\n",
    "\n",
    "    # np.arange(4) -> [0,1,2,3]\n",
    "    \"\"\"\n",
    "    np.expand_dims(np.arange(4),axis=0).T + [[1]]\n",
    "    array([[1],\n",
    "           [2],\n",
    "           [3],\n",
    "           [4]])\n",
    "    \"\"\"\n",
    "        \n",
    "        \n",
    "        \n",
    "    #print(f\"window_indexes: {window_indexes}\\n\")\n",
    "\n",
    "\n",
    "    # 3. Index on the target array (a time series) with 2D array of multiple window steps\n",
    "    windowed_array = x[window_indexes]\n",
    "\n",
    "\n",
    "    #print(f\"windowed_array: {windowed_array}\\n\")\n",
    "\n",
    "\n",
    "    # 4. Get the labelled windows\n",
    "    windows, labels = get_labelled_windows(windowed_array, horizon=horizon)\n",
    "    return windows, labels"
   ]
  },
  {
   "cell_type": "code",
   "execution_count": 33,
   "metadata": {},
   "outputs": [
    {
     "name": "stdout",
     "output_type": "stream",
     "text": [
      "window setp: [[0 1 2 3 4 5 6 7]]\n",
      "\n"
     ]
    },
    {
     "data": {
      "text/plain": [
       "(2780, 2780)"
      ]
     },
     "execution_count": 33,
     "metadata": {},
     "output_type": "execute_result"
    }
   ],
   "source": [
    "full_windows, full_labels = make_windows(prices, window_size=WINDOW_SIZE, horizon=HORIZON)\n",
    "len(full_windows), len(full_labels)"
   ]
  },
  {
   "cell_type": "code",
   "execution_count": 34,
   "metadata": {},
   "outputs": [
    {
     "name": "stdout",
     "output_type": "stream",
     "text": [
      "Window: [123.65499 125.455   108.58483 118.67466 121.33866 120.65533 121.795  ] -> Label: [123.033]\n",
      "Window: [125.455   108.58483 118.67466 121.33866 120.65533 121.795   123.033  ] -> Label: [124.049]\n",
      "Window: [108.58483 118.67466 121.33866 120.65533 121.795   123.033   124.049  ] -> Label: [125.96116]\n"
     ]
    }
   ],
   "source": [
    "# View the first 3 windows/labels\n",
    "for i in range(3):\n",
    "    print(f\"Window: {full_windows[i]} -> Label: {full_labels[i]}\")"
   ]
  },
  {
   "cell_type": "markdown",
   "metadata": {},
   "source": [
    "> 🔑 **Note:** There's a function which does similar to the above in tf.keras.preprocessing, an extension could be to try and replicate what we've done using the premade function: https://www.tensorflow.org/api_docs/python/tf/keras/preprocessing/timeseries_dataset_from_array "
   ]
  },
  {
   "cell_type": "code",
   "execution_count": 35,
   "metadata": {},
   "outputs": [
    {
     "name": "stdout",
     "output_type": "stream",
     "text": [
      "tf.Tensor(\n",
      "[[10 11 12]\n",
      " [11 12 13]\n",
      " [12 13 14]], shape=(3, 3), dtype=int32)\n"
     ]
    }
   ],
   "source": [
    "\"\"\"\n",
    "tf.keras.utils.timeseries_dataset_from_array(\n",
    "    data,\n",
    "    targets,\n",
    "    sequence_length,\n",
    "    sequence_stride=1,\n",
    "    sampling_rate=1,\n",
    "    batch_size=128,\n",
    "    shuffle=False,\n",
    "    seed=None,\n",
    "    start_index=None,\n",
    "    end_index=None\n",
    ")\n",
    "\"\"\"\n",
    "\n",
    "\n",
    "\"\"\"\n",
    "\n",
    "La exploraré primero sólo con las entradas y leugo tmb. con los targets\n",
    "\n",
    "\"\"\"\n",
    "\n",
    "\n",
    "\n",
    "\n",
    "window_size = 3\n",
    "horizon = 1\n",
    "data = np.array([10, 11, 12, 13, 14])\n",
    "\n",
    "\n",
    "aux = tf.keras.utils.timeseries_dataset_from_array(\n",
    "    data,\n",
    "    targets=None,\n",
    "    sequence_length=window_size,\n",
    "    sequence_stride=horizon\n",
    ")\n",
    "\n",
    "\n",
    "for a in aux:\n",
    "    print(a)\n",
    "\n",
    "\n"
   ]
  },
  {
   "cell_type": "code",
   "execution_count": 160,
   "metadata": {},
   "outputs": [
    {
     "name": "stdout",
     "output_type": "stream",
     "text": [
      "tf.Tensor(\n",
      "[[ 123.65499  125.455    108.58483  118.67466  121.33866  120.65533\n",
      "   121.795  ]\n",
      " [ 125.455    108.58483  118.67466  121.33866  120.65533  121.795\n",
      "   123.033  ]\n",
      " [ 108.58483  118.67466  121.33866  120.65533  121.795    123.033\n",
      "   124.049  ]\n",
      " [ 118.67466  121.33866  120.65533  121.795    123.033    124.049\n",
      "   125.96116]\n",
      " [ 121.33866  120.65533  121.795    123.033    124.049    125.96116\n",
      "   125.27966]\n",
      " [ 120.65533  121.795    123.033    124.049    125.96116  125.27966\n",
      "   125.9275 ]\n",
      " [ 121.795    123.033    124.049    125.96116  125.27966  125.9275\n",
      "   126.38333]\n",
      " [ 123.033    124.049    125.96116  125.27966  125.9275   126.38333\n",
      "   135.24199]\n",
      " [ 124.049    125.96116  125.27966  125.9275   126.38333  135.24199\n",
      "   133.20333]\n",
      " [ 125.96116  125.27966  125.9275   126.38333  135.24199  133.20333\n",
      "   142.76333]\n",
      " [ 125.27966  125.9275   126.38333  135.24199  133.20333  142.76333\n",
      "   137.92333]\n",
      " [ 125.9275   126.38333  135.24199  133.20333  142.76333  137.92333\n",
      "   142.95166]\n",
      " [ 126.38333  135.24199  133.20333  142.76333  137.92333  142.95166\n",
      "   152.55183]\n",
      " [ 135.24199  133.20333  142.76333  137.92333  142.95166  152.55183\n",
      "   160.33883]\n",
      " [ 133.20333  142.76333  137.92333  142.95166  152.55183  160.33883\n",
      "   164.31499]\n",
      " [ 142.76333  137.92333  142.95166  152.55183  160.33883  164.31499\n",
      "   177.63333]\n",
      " [ 137.92333  142.95166  152.55183  160.33883  164.31499  177.63333\n",
      "   188.29716]\n",
      " [ 142.95166  152.55183  160.33883  164.31499  177.63333  188.29716\n",
      "   200.70166]\n",
      " [ 152.55183  160.33883  164.31499  177.63333  188.29716  200.70166\n",
      "   180.355  ]\n",
      " [ 160.33883  164.31499  177.63333  188.29716  200.70166  180.355\n",
      "   175.03166]\n",
      " [ 164.31499  177.63333  188.29716  200.70166  180.355    175.03166\n",
      "   177.6965 ]\n",
      " [ 177.63333  188.29716  200.70166  180.355    175.03166  177.6965\n",
      "   187.15983]\n",
      " [ 188.29716  200.70166  180.355    175.03166  177.6965   187.15983\n",
      "   192.75666]\n",
      " [ 200.70166  180.355    175.03166  177.6965   187.15983  192.75666\n",
      "   197.4    ]\n",
      " [ 180.355    175.03166  177.6965   187.15983  192.75666  197.4\n",
      "   196.02499]\n",
      " [ 175.03166  177.6965   187.15983  192.75666  197.4      196.02499\n",
      "   198.04883]\n",
      " [ 177.6965   187.15983  192.75666  197.4      196.02499  198.04883\n",
      "   198.93233]\n",
      " [ 187.15983  192.75666  197.4      196.02499  198.04883  198.93233\n",
      "   200.543  ]\n",
      " [ 192.75666  197.4      196.02499  198.04883  198.93233  200.543\n",
      "   210.3075 ]\n",
      " [ 197.4      196.02499  198.04883  198.93233  200.543    210.3075\n",
      "   225.02   ]\n",
      " [ 196.02499  198.04883  198.93233  200.543    210.3075   225.02\n",
      "   248.25333]\n",
      " [ 198.04883  198.93233  200.543    210.3075   225.02     248.25333\n",
      "   262.32666]\n",
      " [ 198.93233  200.543    210.3075   225.02     248.25333  262.32666\n",
      "   294.48699]\n",
      " [ 200.543    210.3075   225.02     248.25333  262.32666  294.48699\n",
      "   331.10325]\n",
      " [ 210.3075   225.02     248.25333  262.32666  294.48699  331.10325\n",
      "   285.8875 ]\n",
      " [ 225.02     248.25333  262.32666  294.48699  331.10325  285.8875\n",
      "   304.97974]\n",
      " [ 248.25333  262.32666  294.48699  331.10325  285.8875   304.97974\n",
      "   338.137  ]\n",
      " [ 262.32666  294.48699  331.10325  285.8875   304.97974  338.137\n",
      "   357.48   ]\n",
      " [ 294.48699  331.10325  285.8875   304.97974  338.137    357.48\n",
      "   402.954  ]\n",
      " [ 331.10325  285.8875   304.97974  338.137    357.48     402.954\n",
      "   409.10375]\n",
      " [ 285.8875   304.97974  338.137    357.48     402.954    409.10375\n",
      "   420.21649]\n",
      " [ 304.97974  338.137    357.48     402.954    409.10375  420.21649\n",
      "   437.29725]\n",
      " [ 338.137    357.48     402.954    409.10375  420.21649  437.29725\n",
      "   510.6025 ]\n",
      " [ 357.48     402.954    409.10375  420.21649  437.29725  510.6025\n",
      "   693.65   ]\n",
      " [ 402.954    409.10375  420.21649  437.29725  510.6025   693.65\n",
      "   531.54249]\n",
      " [ 409.10375  420.21649  437.29725  510.6025   693.65     531.54249\n",
      "   574.71599]\n",
      " [ 420.21649  437.29725  510.6025   693.65     531.54249  574.71599\n",
      "   681.33   ]\n",
      " [ 437.29725  510.6025   693.65     531.54249  574.71599  681.33\n",
      "   774.18   ]\n",
      " [ 510.6025   693.65     531.54249  574.71599  681.33     774.18\n",
      "   746.19374]\n",
      " [ 693.65     531.54249  574.71599  681.33     774.18     746.19374\n",
      "   768.8475 ]\n",
      " [ 531.54249  574.71599  681.33     774.18     746.19374  768.8475\n",
      "   789.36475]\n",
      " [ 574.71599  681.33     774.18     746.19374  768.8475   789.36475\n",
      "   893.1815 ]\n",
      " [ 681.33     774.18     746.19374  768.8475   789.36475  893.1815\n",
      "   934.355  ]\n",
      " [ 774.18     746.19374  768.8475   789.36475  893.1815   934.355\n",
      "  1068.363  ]\n",
      " [ 746.19374  768.8475   789.36475  893.1815   934.355   1068.363\n",
      "  1154.92593]\n",
      " [ 768.8475   789.36475  893.1815   934.355   1068.363   1154.92593\n",
      "  1099.51926]\n",
      " [ 789.36475  893.1815   934.355   1068.363   1154.92593 1099.51926\n",
      "  1019.78966]\n",
      " [ 893.1815   934.355   1068.363   1154.92593 1099.51926 1019.78966\n",
      "  1028.845  ]\n",
      " [ 934.355   1068.363   1154.92593 1099.51926 1019.78966 1028.845\n",
      "  1071.2848 ]\n",
      " [1068.363   1154.92593 1099.51926 1019.78966 1028.845   1071.2848\n",
      "  1139.33083]\n",
      " [1154.92593 1099.51926 1019.78966 1028.845   1071.2848  1139.33083\n",
      "  1004.61633]\n",
      " [1099.51926 1019.78966 1028.845   1071.2848  1139.33083 1004.61633\n",
      "   759.43041]\n",
      " [1019.78966 1028.845   1071.2848  1139.33083 1004.61633  759.43041\n",
      "   689.81   ]\n",
      " [1028.845   1071.2848  1139.33083 1004.61633  759.43041  689.81\n",
      "   841.83966]\n",
      " [1071.2848  1139.33083 1004.61633  759.43041  689.81     841.83966\n",
      "   916.77599]\n",
      " [1139.33083 1004.61633  759.43041  689.81     841.83966  916.77599\n",
      "   967.42866]\n",
      " [1004.61633  759.43041  689.81     841.83966  916.77599  967.42866\n",
      "   866.29003]\n",
      " [ 759.43041  689.81     841.83966  916.77599  967.42866  866.29003\n",
      "   911.23204]\n",
      " [ 689.81     841.83966  916.77599  967.42866  866.29003  911.23204\n",
      "   889.81946]\n",
      " [ 841.83966  916.77599  967.42866  866.29003  911.23204  889.81946\n",
      "   848.9975 ]\n",
      " [ 916.77599  967.42866  866.29003  911.23204  889.81946  848.9975\n",
      "   868.95316]\n",
      " [ 967.42866  866.29003  911.23204  889.81946  848.9975   868.95316\n",
      "   653.80483]\n",
      " [ 866.29003  911.23204  889.81946  848.9975   868.95316  653.80483\n",
      "   654.06266]\n",
      " [ 911.23204  889.81946  848.9975   868.95316  653.80483  654.06266\n",
      "   553.69166]\n",
      " [ 889.81946  848.9975   868.95316  653.80483  654.06266  553.69166\n",
      "   693.05883]\n",
      " [ 848.9975   868.95316  653.80483  654.06266  553.69166  693.05883\n",
      "   649.38965]\n",
      " [ 868.95316  653.80483  654.06266  553.69166  693.05883  649.38965\n",
      "   595.95883]\n",
      " [ 653.80483  654.06266  553.69166  693.05883  649.38965  595.95883\n",
      "   647.68316]\n",
      " [ 654.06266  553.69166  693.05883  649.38965  595.95883  647.68316\n",
      "   671.58116]\n",
      " [ 553.69166  693.05883  649.38965  595.95883  647.68316  671.58116\n",
      "   659.84333]\n",
      " [ 693.05883  649.38965  595.95883  647.68316  671.58116  659.84333\n",
      "   702.00083]\n",
      " [ 649.38965  595.95883  647.68316  671.58116  659.84333  702.00083\n",
      "   758.01016]\n",
      " [ 595.95883  647.68316  671.58116  659.84333  702.00083  758.01016\n",
      "   734.01166]\n",
      " [ 647.68316  671.58116  659.84333  702.00083  758.01016  734.01166\n",
      "   717.92623]\n",
      " [ 671.58116  659.84333  702.00083  758.01016  734.01166  717.92623\n",
      "   752.82022]\n",
      " [ 659.84333  702.00083  758.01016  734.01166  717.92623  752.82022\n",
      "   744.17249]\n",
      " [ 702.00083  758.01016  734.01166  717.92623  752.82022  744.17249\n",
      "   768.40783]\n",
      " [ 758.01016  734.01166  717.92623  752.82022  744.17249  768.40783\n",
      "   769.09849]\n",
      " [ 734.01166  717.92623  752.82022  744.17249  768.40783  769.09849\n",
      "   804.02719]\n",
      " [ 717.92623  752.82022  744.17249  768.40783  769.09849  804.02719\n",
      "   813.31748]\n",
      " [ 752.82022  744.17249  768.40783  769.09849  804.02719  813.31748\n",
      "   871.11583]\n",
      " [ 744.17249  768.40783  769.09849  804.02719  813.31748  871.11583\n",
      "   970.65083]\n",
      " [ 768.40783  769.09849  804.02719  813.31748  871.11583  970.65083\n",
      "   962.46447]\n",
      " [ 769.09849  804.02719  813.31748  871.11583  970.65083  962.46447\n",
      "   855.75933]\n",
      " [ 804.02719  813.31748  871.11583  970.65083  962.46447  855.75933\n",
      "   860.84166]\n",
      " [ 813.31748  871.11583  970.65083  962.46447  855.75933  860.84166\n",
      "   847.5325 ]\n",
      " [ 871.11583  970.65083  962.46447  855.75933  860.84166  847.5325\n",
      "   892.26115]\n",
      " [ 970.65083  962.46447  855.75933  860.84166  847.5325   892.26115\n",
      "   916.69666]\n",
      " [ 962.46447  855.75933  860.84166  847.5325   892.26115  916.69666\n",
      "   873.27168]\n",
      " [ 855.75933  860.84166  847.5325   892.26115  916.69666  873.27168\n",
      "   863.69888]\n",
      " [ 860.84166  847.5325   892.26115  916.69666  873.27168  863.69888\n",
      "   853.25666]\n",
      " [ 847.5325   892.26115  916.69666  873.27168  863.69888  853.25666\n",
      "   874.07416]\n",
      " [ 892.26115  916.69666  873.27168  863.69888  853.25666  874.07416\n",
      "   842.19173]\n",
      " [ 916.69666  873.27168  863.69888  853.25666  874.07416  842.19173\n",
      "   834.86666]\n",
      " [ 873.27168  863.69888  853.25666  874.07416  842.19173  834.86666\n",
      "   838.42916]\n",
      " [ 863.69888  853.25666  874.07416  842.19173  834.86666  838.42916\n",
      "   881.87583]\n",
      " [ 853.25666  874.07416  842.19173  834.86666  838.42916  881.87583\n",
      "   873.28916]\n",
      " [ 874.07416  842.19173  834.86666  838.42916  881.87583  873.28916\n",
      "   874.13266]\n",
      " [ 842.19173  834.86666  838.42916  881.87583  873.28916  874.13266\n",
      "   864.56116]\n",
      " [ 834.86666  838.42916  881.87583  873.28916  874.13266  864.56116\n",
      "   838.14997]\n",
      " [ 838.42916  881.87583  873.28916  874.13266  864.56116  838.14997\n",
      "   834.57416]\n",
      " [ 881.87583  873.28916  874.13266  864.56116  838.14997  834.57416\n",
      "   858.12641]\n",
      " [ 873.28916  874.13266  864.56116  838.14997  834.57416  858.12641\n",
      "   887.08337]\n",
      " [ 874.13266  864.56116  838.14997  834.57416  858.12641  887.08337\n",
      "   830.53133]\n",
      " [ 864.56116  838.14997  834.57416  858.12641  887.08337  830.53133\n",
      "   832.89496]\n",
      " [ 838.14997  834.57416  858.12641  887.08337  830.53133  832.89496\n",
      "   832.87399]\n",
      " [ 834.57416  858.12641  887.08337  830.53133  832.89496  832.87399\n",
      "   841.48914]\n",
      " [ 858.12641  887.08337  830.53133  832.89496  832.87399  841.48914\n",
      "   847.36383]\n",
      " [ 887.08337  830.53133  832.89496  832.87399  841.48914  847.36383\n",
      "   854.7225 ]\n",
      " [ 830.53133  832.89496  832.87399  841.48914  847.36383  854.7225\n",
      "   856.03366]\n",
      " [ 832.89496  832.87399  841.48914  847.36383  854.7225   856.03366\n",
      "   847.70697]\n",
      " [ 832.87399  841.48914  847.36383  854.7225   856.03366  847.70697\n",
      "   844.28836]\n",
      " [ 841.48914  847.36383  854.7225   856.03366  847.70697  844.28836\n",
      "   802.75333]\n",
      " [ 847.36383  854.7225   856.03366  847.70697  844.28836  802.75333\n",
      "   748.43559]\n",
      " [ 854.7225   856.03366  847.70697  844.28836  802.75333  748.43559\n",
      "   692.66914]\n",
      " [ 856.03366  847.70697  844.28836  802.75333  748.43559  692.66914\n",
      "   668.86463]\n",
      " [ 847.70697  844.28836  802.75333  748.43559  692.66914  668.86463\n",
      "   700.44843]\n",
      " [ 844.28836  802.75333  748.43559  692.66914  668.86463  700.44843\n",
      "   694.3125 ]], shape=(128, 7), dtype=float64)\n",
      "tf.Tensor(\n",
      "[[802.75333 748.43559 692.66914 668.86463 700.44843 694.3125  665.7975 ]\n",
      " [748.43559 692.66914 668.86463 700.44843 694.3125  665.7975  645.615  ]\n",
      " [692.66914 668.86463 700.44843 694.3125  665.7975  645.615   578.4125 ]\n",
      " [668.86463 700.44843 694.3125  665.7975  645.615   578.4125  641.91   ]\n",
      " [700.44843 694.3125  665.7975  645.615   578.4125  641.91    656.2725 ]\n",
      " [694.3125  665.7975  645.615   578.4125  641.91    656.2725  611.04499]\n",
      " [665.7975  645.615   578.4125  641.91    656.2725  611.04499 634.99   ]\n",
      " [645.615   578.4125  641.91    656.2725  611.04499 634.99    618.79   ]\n",
      " [578.4125  641.91    656.2725  611.04499 634.99    618.79    619.8425 ]\n",
      " [641.91    656.2725  611.04499 634.99    618.79    619.8425  545.7625 ]\n",
      " [656.2725  611.04499 634.99    618.79    619.8425  545.7625  561.535  ]\n",
      " [611.04499 634.99    618.79    619.8425  545.7625  561.535   622.22   ]\n",
      " [634.99    618.79    619.8425  545.7625  561.535   622.22    572.7675 ]\n",
      " [618.79    619.8425  545.7625  561.535   622.22    572.7675  501.155  ]\n",
      " [619.8425  545.7625  561.535   622.22    572.7675  501.155   550.6025 ]\n",
      " [545.7625  561.535   622.22    572.7675  501.155   550.6025  573.1025 ]\n",
      " [561.535   622.22    572.7675  501.155   550.6025  573.1025  567.2925 ]\n",
      " [622.22    572.7675  501.155   550.6025  573.1025  567.2925  551.73   ]\n",
      " [572.7675  501.155   550.6025  573.1025  567.2925  551.73    560.195  ]\n",
      " [501.155   550.6025  573.1025  567.2925  551.73    560.195   567.7    ]\n",
      " [550.6025  573.1025  567.2925  551.73    560.195   567.7     666.1475 ]\n",
      " [573.1025  567.2925  551.73    560.195   567.7     666.1475  660.84   ]\n",
      " [567.2925  551.73    560.195   567.7     666.1475  660.84    662.0225 ]\n",
      " [551.73    560.195   567.7     666.1475  660.84    662.0225  651.285  ]\n",
      " [560.195   567.7     666.1475  660.84    662.0225  651.285   612.33   ]\n",
      " [567.7     666.1475  660.84    662.0225  651.285   612.33    611.1625 ]\n",
      " [666.1475  660.84    662.0225  651.285   612.33    611.1625  637.615  ]\n",
      " [660.84    662.0225  651.285   612.33    611.1625  637.615   626.     ]\n",
      " [662.0225  651.285   612.33    611.1625  637.615   626.      633.74749]\n",
      " [651.285   612.33    611.1625  637.615   626.      633.74749 631.755  ]\n",
      " [612.33    611.1625  637.615   626.      633.74749 631.755   636.41414]\n",
      " [611.1625  637.615   626.      633.74749 631.755   636.41414 628.18751]\n",
      " [637.615   626.      633.74749 631.755   636.41414 628.18751 632.95333]\n",
      " [626.      633.74749 631.755   636.41414 628.18751 632.95333 630.34833]\n",
      " [633.74749 631.755   636.41414 628.18751 632.95333 630.34833 617.24333]\n",
      " [631.755   636.41414 628.18751 632.95333 630.34833 617.24333 616.86665]\n",
      " [636.41414 628.18751 632.95333 630.34833 617.24333 616.86665 601.015  ]\n",
      " [628.18751 632.95333 630.34833 617.24333 616.86665 601.015   581.33333]\n",
      " [632.95333 630.34833 617.24333 616.86665 601.015   581.33333 570.36168]\n",
      " [630.34833 617.24333 616.86665 601.015   581.33333 570.36168 562.95333]\n",
      " [617.24333 616.86665 601.015   581.33333 570.36168 562.95333 557.16833]\n",
      " [616.86665 601.015   581.33333 570.36168 562.95333 557.16833 573.34998]\n",
      " [601.015   581.33333 570.36168 562.95333 557.16833 573.34998 572.49161]\n",
      " [581.33333 570.36168 562.95333 557.16833 573.34998 572.49161 570.54833]\n",
      " [570.36168 562.95333 557.16833 573.34998 572.49161 570.54833 509.70665]\n",
      " [562.95333 557.16833 573.34998 572.49161 570.54833 509.70665 499.24998]\n",
      " [557.16833 573.34998 572.49161 570.54833 509.70665 499.24998 486.80845]\n",
      " [573.34998 572.49161 570.54833 509.70665 499.24998 486.80845 472.4783 ]\n",
      " [572.49161 570.54833 509.70665 499.24998 486.80845 472.4783  464.88   ]\n",
      " [570.54833 509.70665 499.24998 486.80845 472.4783  464.88    480.16581]\n",
      " [509.70665 499.24998 486.80845 472.4783  464.88    480.16581 427.87498]\n",
      " [499.24998 486.80845 472.4783  464.88    480.16581 427.87498 432.99716]\n",
      " [486.80845 472.4783  464.88    480.16581 427.87498 432.99716 453.87148]\n",
      " [472.4783  464.88    480.16581 427.87498 432.99716 453.87148 462.445  ]\n",
      " [464.88    480.16581 427.87498 432.99716 453.87148 462.445   456.46948]\n",
      " [480.16581 427.87498 432.99716 453.87148 462.445   456.46948 452.81   ]\n",
      " [427.87498 432.99716 453.87148 462.445   456.46948 452.81    450.48083]\n",
      " [432.99716 453.87148 462.445   456.46948 452.81    450.48083 426.98333]\n",
      " [453.87148 462.445   456.46948 452.81    450.48083 426.98333 374.59166]\n",
      " [462.445   456.46948 452.81    450.48083 426.98333 374.59166 438.24666]\n",
      " [456.46948 452.81    450.48083 426.98333 374.59166 438.24666 423.51566]\n",
      " [452.81    450.48083 426.98333 374.59166 438.24666 423.51566 409.03166]\n",
      " [450.48083 426.98333 374.59166 438.24666 423.51566 409.03166 455.28316]\n",
      " [426.98333 374.59166 438.24666 423.51566 409.03166 455.28316 517.09666]\n",
      " [374.59166 438.24666 423.51566 409.03166 455.28316 517.09666 522.455  ]\n",
      " [438.24666 423.51566 409.03166 455.28316 517.09666 522.455   490.8785 ]\n",
      " [423.51566 409.03166 455.28316 517.09666 522.455   490.8785  469.38332]\n",
      " [409.03166 455.28316 517.09666 522.455   490.8785  469.38332 507.80663]\n",
      " [455.28316 517.09666 522.455   490.8785  469.38332 507.80663 505.09665]\n",
      " [517.09666 522.455   490.8785  469.38332 507.80663 505.09665 497.65001]\n",
      " [522.455   490.8785  469.38332 507.80663 505.09665 497.65001 487.84   ]\n",
      " [490.8785  469.38332 507.80663 505.09665 497.65001 487.84    487.11333]\n",
      " [469.38332 507.80663 505.09665 497.65001 487.84    487.11333 469.08816]\n",
      " [507.80663 505.09665 497.65001 487.84    487.11333 469.08816 448.77834]\n",
      " [505.09665 497.65001 487.84    487.11333 469.08816 448.77834 452.14829]\n",
      " [497.65001 487.84    487.11333 469.08816 448.77834 452.14829 426.78166]\n",
      " [487.84    487.11333 469.08816 448.77834 452.14829 426.78166 432.60498]\n",
      " [487.11333 469.08816 448.77834 452.14829 426.78166 432.60498 444.85668]\n",
      " [469.08816 448.77834 452.14829 426.78166 432.60498 444.85668 454.55666]\n",
      " [448.77834 452.14829 426.78166 432.60498 444.85668 454.55666 453.59833]\n",
      " [452.14829 426.78166 432.60498 444.85668 454.55666 453.59833 441.97833]\n",
      " [426.78166 432.60498 444.85668 454.55666 453.59833 441.97833 438.29035]\n",
      " [432.60498 444.85668 454.55666 453.59833 441.97833 438.29035 432.78748]\n",
      " [444.85668 454.55666 453.59833 441.97833 438.29035 432.78748 418.61831]\n",
      " [454.55666 453.59833 441.97833 438.29035 432.78748 418.61831 428.42593]\n",
      " [453.59833 441.97833 438.29035 432.78748 418.61831 428.42593 442.57666]\n",
      " [441.97833 438.29035 432.78748 418.61831 428.42593 442.57666 439.04   ]\n",
      " [438.29035 432.78748 418.61831 428.42593 442.57666 439.04    449.04333]\n",
      " [432.78748 418.61831 428.42593 442.57666 439.04    449.04333 449.74166]\n",
      " [418.61831 428.42593 442.57666 439.04    449.04333 449.74166 434.27   ]\n",
      " [428.42593 442.57666 439.04    449.04333 449.74166 434.27    437.     ]\n",
      " [442.57666 439.04    449.04333 449.74166 434.27    437.      438.88   ]\n",
      " [439.04    449.04333 449.74166 434.27    437.      438.88    445.045  ]\n",
      " [449.04333 449.74166 434.27    437.      438.88    445.045   443.18   ]\n",
      " [449.74166 434.27    437.      438.88    445.045   443.18    445.60666]\n",
      " [434.27    437.      438.88    445.045   443.18    445.60666 445.15666]\n",
      " [437.      438.88    445.045   443.18    445.60666 445.15666 444.73833]\n",
      " [438.88    445.045   443.18    445.60666 445.15666 444.73833 455.65333]\n",
      " [445.045   443.18    445.60666 445.15666 444.73833 455.65333 489.86999]\n",
      " [443.18    445.60666 445.15666 444.73833 455.65333 489.86999 490.18666]\n",
      " [445.60666 445.15666 444.73833 455.65333 489.86999 490.18666 522.31   ]\n",
      " [445.15666 444.73833 455.65333 489.86999 490.18666 522.31    512.30833]\n",
      " [444.73833 455.65333 489.86999 490.18666 522.31    512.30833 533.92999]\n",
      " [455.65333 489.86999 490.18666 522.31    512.30833 533.92999 579.59333]\n",
      " [489.86999 490.18666 522.31    512.30833 533.92999 579.59333 581.51   ]\n",
      " [490.18666 522.31    512.30833 533.92999 579.59333 581.51    572.44833]\n",
      " [522.31    512.30833 533.92999 579.59333 581.51    572.44833 562.4    ]\n",
      " [512.30833 533.92999 579.59333 581.51    572.44833 562.4     571.845  ]\n",
      " [533.92999 579.59333 581.51    572.44833 562.4     571.845   612.12666]\n",
      " [579.59333 581.51    572.44833 562.4     571.845   612.12666 638.16333]\n",
      " [581.51    572.44833 562.4     571.845   612.12666 638.16333 634.98333]\n",
      " [572.44833 562.4     571.845   612.12666 638.16333 634.98333 660.24666]\n",
      " [562.4     571.845   612.12666 638.16333 634.98333 660.24666 627.79833]\n",
      " [571.845   612.12666 638.16333 634.98333 660.24666 627.79833 642.89166]\n",
      " [612.12666 638.16333 634.98333 660.24666 627.79833 642.89166 652.52666]\n",
      " [638.16333 634.98333 660.24666 627.79833 642.89166 652.52666 648.60166]\n",
      " [634.98333 660.24666 627.79833 642.89166 652.52666 648.60166 652.59166]\n",
      " [660.24666 627.79833 642.89166 652.52666 648.60166 652.59166 652.11   ]\n",
      " [627.79833 642.89166 652.52666 648.60166 652.59166 652.11    644.085  ]\n",
      " [642.89166 652.52666 648.60166 652.59166 652.11    644.085   642.00666]\n",
      " [652.52666 648.60166 652.59166 652.11    644.085   642.00666 632.55   ]\n",
      " [648.60166 652.59166 652.11    644.085   642.00666 632.55    585.48333]\n",
      " [652.59166 652.11    644.085   642.00666 632.55    585.48333 588.52333]\n",
      " [652.11    644.085   642.00666 632.55    585.48333 588.52333 570.28833]\n",
      " [644.085   642.00666 632.55    585.48333 588.52333 570.28833 589.06666]\n",
      " [642.00666 632.55    585.48333 588.52333 570.28833 589.06666 592.25666]\n",
      " [632.55    585.48333 588.52333 570.28833 589.06666 592.25666 610.41333]\n",
      " [585.48333 588.52333 570.28833 589.06666 592.25666 610.41333 601.88666]], shape=(128, 7), dtype=float64)\n",
      "tf.Tensor(\n",
      "[[588.52333 570.28833 589.06666 592.25666 610.41333 601.88666 594.09333]\n",
      " [570.28833 589.06666 592.25666 610.41333 601.88666 594.09333 582.04499]\n",
      " [589.06666 592.25666 610.41333 601.88666 594.09333 582.04499 599.57   ]\n",
      " [592.25666 610.41333 601.88666 594.09333 582.04499 599.57    592.405  ]\n",
      " [610.41333 601.88666 594.09333 582.04499 599.57    592.405   584.64166]\n",
      " [601.88666 594.09333 582.04499 599.57    592.405   584.64166 575.905  ]\n",
      " [594.09333 582.04499 599.57    592.405   584.64166 575.905   571.76666]\n",
      " [582.04499 599.57    592.405   584.64166 575.905   571.76666 582.43166]\n",
      " [599.57    592.405   584.64166 575.905   571.76666 582.43166 597.66833]\n",
      " [592.405   584.64166 575.905   571.76666 582.43166 597.66833 598.73333]\n",
      " [584.64166 575.905   571.76666 582.43166 597.66833 598.73333 597.51333]\n",
      " [575.905   571.76666 582.43166 597.66833 598.73333 597.51333 647.12249]\n",
      " [571.76666 582.43166 597.66833 598.73333 597.51333 647.12249 637.85625]\n",
      " [582.43166 597.66833 598.73333 597.51333 647.12249 637.85625 642.65125]\n",
      " [597.66833 598.73333 597.51333 647.12249 637.85625 642.65125 643.95124]\n",
      " [598.73333 597.51333 647.12249 637.85625 642.65125 643.95124 628.41625]\n",
      " [597.51333 647.12249 637.85625 642.65125 643.95124 628.41625 631.03   ]\n",
      " [647.12249 637.85625 642.65125 643.95124 628.41625 631.03    631.29875]\n",
      " [637.85625 642.65125 643.95124 628.41625 631.03    631.29875 621.24249]\n",
      " [642.65125 643.95124 628.41625 631.03    631.29875 621.24249 620.72   ]\n",
      " [643.95124 628.41625 631.03    631.29875 621.24249 620.72    621.3075 ]\n",
      " [628.41625 631.03    631.29875 621.24249 620.72    621.3075  616.83124]\n",
      " [631.03    631.29875 621.24249 620.72    621.3075  616.83124 634.35749]\n",
      " [631.29875 621.24249 620.72    621.3075  616.83124 634.35749 627.69   ]\n",
      " [621.24249 620.72    621.3075  616.83124 634.35749 627.69    621.42499]\n",
      " [620.72    621.3075  616.83124 634.35749 627.69    621.42499 618.73875]\n",
      " [621.3075  616.83124 634.35749 627.69    621.42499 618.73875 619.8075 ]\n",
      " [616.83124 634.35749 627.69    621.42499 618.73875 619.8075  614.68875]\n",
      " [634.35749 627.69    621.42499 618.73875 619.8075  614.68875 623.49749]\n",
      " [627.69    621.42499 618.73875 619.8075  614.68875 623.49749 623.99625]\n",
      " [621.42499 618.73875 619.8075  614.68875 623.49749 623.99625 623.00625]\n",
      " [618.73875 619.8075  614.68875 623.49749 623.99625 623.00625 617.96124]\n",
      " [619.8075  614.68875 623.49749 623.99625 623.00625 617.96124 622.10749]\n",
      " [614.68875 623.49749 623.99625 623.00625 617.96124 622.10749 618.4475 ]\n",
      " [623.49749 623.99625 623.00625 617.96124 622.10749 618.4475  617.6875 ]\n",
      " [623.99625 623.00625 617.96124 622.10749 618.4475  617.6875  602.93125]\n",
      " [623.00625 617.96124 622.10749 618.4475  617.6875  602.93125 597.585  ]\n",
      " [617.96124 622.10749 618.4475  617.6875  602.93125 597.585   592.96375]\n",
      " [622.10749 618.4475  617.6875  602.93125 597.585   592.96375 580.11   ]\n",
      " [618.4475  617.6875  602.93125 597.585   592.96375 580.11    585.44875]\n",
      " [617.6875  602.93125 597.585   592.96375 580.11    585.44875 580.5175 ]\n",
      " [602.93125 597.585   592.96375 580.11    585.44875 580.5175  564.57   ]\n",
      " [597.585   592.96375 580.11    585.44875 580.5175  564.57    583.39   ]\n",
      " [592.96375 580.11    585.44875 580.5175  564.57    583.39    593.80625]\n",
      " [580.11    585.44875 580.5175  564.57    583.39    593.80625 581.52   ]\n",
      " [585.44875 580.5175  564.57    583.39    593.80625 581.52    585.80125]\n",
      " [580.5175  564.57    583.39    593.80625 581.52    585.80125 582.33375]\n",
      " [564.57    583.39    593.80625 581.52    585.80125 582.33375 582.52125]\n",
      " [583.39    593.80625 581.52    585.80125 582.33375 582.52125 583.62375]\n",
      " [593.80625 581.52    585.80125 582.33375 582.52125 583.62375 595.80875]\n",
      " [581.52    585.80125 582.33375 582.52125 583.62375 595.80875 585.39625]\n",
      " [585.80125 582.33375 582.52125 583.62375 595.80875 585.39625 586.05875]\n",
      " [582.33375 582.52125 583.62375 595.80875 585.39625 586.05875 588.7525 ]\n",
      " [582.52125 583.62375 595.80875 585.39625 586.05875 588.7525  566.31625]\n",
      " [583.62375 595.80875 585.39625 586.05875 588.7525  566.31625 565.55125]\n",
      " [595.80875 585.39625 586.05875 588.7525  566.31625 565.55125 534.54   ]\n",
      " [585.39625 586.05875 588.7525  566.31625 565.55125 534.54    511.4725 ]\n",
      " [586.05875 588.7525  566.31625 565.55125 534.54    511.4725  487.56625]\n",
      " [588.7525  566.31625 565.55125 534.54    511.4725  487.56625 516.62625]\n",
      " [566.31625 565.55125 534.54    511.4725  487.56625 516.62625 489.4675 ]\n",
      " [565.55125 534.54    511.4725  487.56625 516.62625 489.4675  455.91625]\n",
      " [534.54    511.4725  487.56625 516.62625 489.4675  455.91625 472.91   ]\n",
      " [511.4725  487.56625 516.62625 489.4675  455.91625 472.91    519.015  ]\n",
      " [487.56625 516.62625 489.4675  455.91625 472.91    519.015   508.12875]\n",
      " [516.62625 489.4675  455.91625 472.91    519.015   508.12875 507.51   ]\n",
      " [489.4675  455.91625 472.91    519.015   508.12875 507.51    501.63125]\n",
      " [455.91625 472.91    519.015   508.12875 507.51    501.63125 503.32125]\n",
      " [472.91    519.015   508.12875 507.51    501.63125 503.32125 504.62625]\n",
      " [519.015   508.12875 507.51    501.63125 503.32125 504.62625 513.39125]\n",
      " [508.12875 507.51    501.63125 503.32125 504.62625 513.39125 514.62375]\n",
      " [507.51    501.63125 503.32125 504.62625 513.39125 514.62375 506.025  ]\n",
      " [501.63125 503.32125 504.62625 513.39125 514.62375 506.025   504.70625]\n",
      " [503.32125 504.62625 513.39125 514.62375 506.025   504.70625 502.055  ]\n",
      " [504.62625 513.39125 514.62375 506.025   504.70625 502.055   474.5425 ]\n",
      " [513.39125 514.62375 506.025   504.70625 502.055   474.5425  477.98375]\n",
      " [514.62375 506.025   504.70625 502.055   474.5425  477.98375 476.88375]\n",
      " [506.025   504.70625 502.055   474.5425  477.98375 476.88375 475.65   ]\n",
      " [504.70625 502.055   474.5425  477.98375 476.88375 475.65    485.65125]\n",
      " [502.055   474.5425  477.98375 476.88375 475.65    485.65125 480.9075 ]\n",
      " [474.5425  477.98375 476.88375 475.65    485.65125 480.9075  481.88375]\n",
      " [477.98375 476.88375 475.65    485.65125 480.9075  481.88375 473.58625]\n",
      " [476.88375 475.65    485.65125 480.9075  481.88375 473.58625 468.5775 ]\n",
      " [475.65    485.65125 480.9075  481.88375 473.58625 468.5775  474.29125]\n",
      " [485.65125 480.9075  481.88375 473.58625 468.5775  474.29125 479.4175 ]\n",
      " [480.9075  481.88375 473.58625 468.5775  474.29125 479.4175  473.6725 ]\n",
      " [481.88375 473.58625 468.5775  474.29125 479.4175  473.6725  471.5325 ]\n",
      " [473.58625 468.5775  474.29125 479.4175  473.6725  471.5325  475.37875]\n",
      " [468.5775  474.29125 479.4175  473.6725  471.5325  475.37875 475.02125]\n",
      " [474.29125 479.4175  473.6725  471.5325  475.37875 475.02125 471.08375]\n",
      " [479.4175  473.6725  471.5325  475.37875 475.02125 471.08375 464.55375]\n",
      " [473.6725  471.5325  475.37875 475.02125 471.08375 464.55375 449.95875]\n",
      " [471.5325  475.37875 475.02125 471.08375 464.55375 449.95875 425.4475 ]\n",
      " [475.37875 475.02125 471.08375 464.55375 449.95875 425.4475  410.08   ]\n",
      " [475.02125 471.08375 464.55375 449.95875 425.4475  410.08    405.79625]\n",
      " [471.08375 464.55375 449.95875 425.4475  410.08    405.79625 399.0975 ]\n",
      " [464.55375 449.95875 425.4475  410.08    405.79625 399.0975  399.5025 ]\n",
      " [449.95875 425.4475  410.08    405.79625 399.0975  399.5025  427.8125 ]\n",
      " [425.4475  410.08    405.79625 399.0975  399.5025  427.8125  416.12   ]\n",
      " [410.08    405.79625 399.0975  399.5025  427.8125  416.12    410.15   ]\n",
      " [405.79625 399.0975  399.5025  427.8125  416.12    410.15    403.4975 ]\n",
      " [399.0975  399.5025  427.8125  416.12    410.15    403.4975  398.84   ]\n",
      " [399.5025  427.8125  416.12    410.15    403.4975  398.84    377.97875]\n",
      " [427.8125  416.12    410.15    403.4975  398.84    377.97875 376.08375]\n",
      " [416.12    410.15    403.4975  398.84    377.97875 376.08375 387.94   ]\n",
      " [410.15    403.4975  398.84    377.97875 376.08375 387.94    381.7475 ]\n",
      " [403.4975  398.84    377.97875 376.08375 387.94    381.7475  372.0575 ]\n",
      " [398.84    377.97875 376.08375 387.94    381.7475  372.0575  360.7525 ]\n",
      " [377.97875 376.08375 387.94    381.7475  372.0575  360.7525  335.98125]\n",
      " [376.08375 387.94    381.7475  372.0575  360.7525  335.98125 308.07875]\n",
      " [387.94    381.7475  372.0575  360.7525  335.98125 308.07875 337.23375]\n",
      " [381.7475  372.0575  360.7525  335.98125 308.07875 337.23375 326.2325 ]\n",
      " [372.0575  360.7525  335.98125 308.07875 337.23375 326.2325  351.34625]\n",
      " [360.7525  335.98125 308.07875 337.23375 326.2325  351.34625 368.59625]\n",
      " [335.98125 308.07875 337.23375 326.2325  351.34625 368.59625 359.2025 ]\n",
      " [308.07875 337.23375 326.2325  351.34625 368.59625 359.2025  356.99875]\n",
      " [337.23375 326.2325  351.34625 368.59625 359.2025  356.99875 371.15625]\n",
      " [326.2325  351.34625 368.59625 359.2025  356.99875 371.15625 392.7825 ]\n",
      " [351.34625 368.59625 359.2025  356.99875 371.15625 392.7825  396.34625]\n",
      " [368.59625 359.2025  356.99875 371.15625 392.7825  396.34625 392.56625]\n",
      " [359.2025  356.99875 371.15625 392.7825  396.34625 392.56625 376.26875]\n",
      " [356.99875 371.15625 392.7825  396.34625 392.56625 376.26875 378.675  ]\n",
      " [371.15625 392.7825  396.34625 392.56625 376.26875 378.675   390.95875]\n",
      " [392.7825  396.34625 392.56625 376.26875 378.675   390.95875 381.72375]\n",
      " [396.34625 392.56625 376.26875 378.675   390.95875 381.72375 380.0575 ]\n",
      " [392.56625 376.26875 378.675   390.95875 381.72375 380.0575  382.93875]\n",
      " [376.26875 378.675   390.95875 381.72375 380.0575  382.93875 376.59   ]\n",
      " [378.675   390.95875 381.72375 380.0575  382.93875 376.59    351.7825 ]\n",
      " [390.95875 381.72375 380.0575  382.93875 376.59    351.7825  353.6325 ]], shape=(128, 7), dtype=float64)\n",
      "tf.Tensor(\n",
      "[[381.72375 380.0575  382.93875 376.59    351.7825  353.6325  345.1925 ]\n",
      " [380.0575  382.93875 376.59    351.7825  353.6325  345.1925  350.9775 ]\n",
      " [382.93875 376.59    351.7825  353.6325  345.1925  350.9775  349.79625]\n",
      " [376.59    351.7825  353.6325  345.1925  350.9775  349.79625 348.9025 ]\n",
      " [351.7825  353.6325  345.1925  350.9775  349.79625 348.9025  335.53625]\n",
      " [353.6325  345.1925  350.9775  349.79625 348.9025  335.53625 343.55875]\n",
      " [345.1925  350.9775  349.79625 348.9025  335.53625 343.55875 338.0105 ]\n",
      " [350.9775  349.79625 348.9025  335.53625 343.55875 338.0105  325.22633]\n",
      " [349.79625 348.9025  335.53625 343.55875 338.0105  325.22633 331.60083]\n",
      " [348.9025  335.53625 343.55875 338.0105  325.22633 331.60083 324.71833]\n",
      " [335.53625 343.55875 338.0105  325.22633 331.60083 324.71833 332.45666]\n",
      " [343.55875 338.0105  325.22633 331.60083 324.71833 332.45666 336.585  ]\n",
      " [338.0105  325.22633 331.60083 324.71833 332.45666 336.585   346.775  ]\n",
      " [325.22633 331.60083 324.71833 332.45666 336.585   346.775   344.81166]\n",
      " [331.60083 324.71833 332.45666 336.585   346.775   344.81166 343.065  ]\n",
      " [324.71833 332.45666 336.585   346.775   344.81166 343.065   358.50166]\n",
      " [332.45666 336.585   346.775   344.81166 343.065   358.50166 368.07666]\n",
      " [336.585   346.775   344.81166 343.065   358.50166 368.07666 376.99666]\n",
      " [346.775   344.81166 343.065   358.50166 368.07666 376.99666 442.10666]\n",
      " [344.81166 343.065   358.50166 368.07666 376.99666 442.10666 389.00333]\n",
      " [343.065   358.50166 368.07666 376.99666 442.10666 389.00333 394.92666]\n",
      " [358.50166 368.07666 376.99666 442.10666 389.00333 394.92666 377.08   ]\n",
      " [368.07666 376.99666 442.10666 389.00333 394.92666 377.08    400.47166]\n",
      " [376.99666 442.10666 389.00333 394.92666 377.08    400.47166 384.93   ]\n",
      " [442.10666 389.00333 394.92666 377.08    400.47166 384.93    375.83333]\n",
      " [389.00333 394.92666 377.08    400.47166 384.93    375.83333 376.16   ]\n",
      " [394.92666 377.08    400.47166 384.93    375.83333 376.16    348.565  ]\n",
      " [377.08    400.47166 384.93    375.83333 376.16    348.565   352.42   ]\n",
      " [400.47166 384.93    375.83333 376.16    348.565   352.42    356.8    ]\n",
      " [384.93    375.83333 376.16    348.565   352.42    356.8     367.83   ]\n",
      " [375.83333 376.16    348.565   352.42    356.8     367.83    381.20666]\n",
      " [376.16    348.565   352.42    356.8     367.83    381.20666 375.498  ]\n",
      " [348.565   352.42    356.8     367.83    381.20666 375.498   372.819  ]\n",
      " [352.42    356.8     367.83    381.20666 375.498   372.819   368.983  ]\n",
      " [356.8     367.83    381.20666 375.498   372.819   368.983   375.44   ]\n",
      " [367.83    381.20666 375.498   372.819   368.983   375.44    376.851  ]\n",
      " [381.20666 375.498   372.819   368.983   375.44    376.851   376.13218]\n",
      " [375.498   372.819   368.983   375.44    376.851   376.13218 377.862  ]\n",
      " [372.819   368.983   375.44    376.851   376.13218 377.862   382.452  ]\n",
      " [368.983   375.44    376.851   376.13218 377.862   382.452   376.382  ]\n",
      " [375.44    376.851   376.13218 377.862   382.452   376.382   368.3618 ]\n",
      " [376.851   376.13218 377.862   382.452   376.382   368.3618  373.414  ]\n",
      " [376.13218 377.862   382.452   376.382   368.3618  373.414   373.744  ]\n",
      " [377.862   382.452   376.382   368.3618  373.414   373.744   373.155  ]\n",
      " [382.452   376.382   368.3618  373.414   373.744   373.155   357.884  ]\n",
      " [376.382   368.3618  373.414   373.744   373.155   357.884   348.898  ]\n",
      " [368.3618  373.414   373.744   373.155   357.884   348.898   341.041  ]\n",
      " [373.414   373.744   373.155   357.884   348.898   341.041   348.272  ]\n",
      " [373.744   373.155   357.884   348.898   341.041   348.272   346.742  ]\n",
      " [373.155   357.884   348.898   341.041   348.272   346.742   347.348  ]\n",
      " [357.884   348.898   341.041   348.272   346.742   347.348   348.674  ]\n",
      " [348.898   341.041   348.272   346.742   347.348   348.674   338.547  ]\n",
      " [341.041   348.272   346.742   347.348   348.674   338.547   330.536  ]\n",
      " [348.272   346.742   347.348   348.674   338.547   330.536   317.405  ]\n",
      " [346.742   347.348   348.674   338.547   330.536   317.405   306.45999]\n",
      " [347.348   348.674   338.547   330.536   317.405   306.45999 319.196  ]\n",
      " [348.674   338.547   330.536   317.405   306.45999 319.196   321.89299]\n",
      " [338.547   330.536   317.405   306.45999 319.196   321.89299 320.03499]\n",
      " [330.536   317.405   306.45999 319.196   321.89299 320.03499 328.701  ]\n",
      " [317.405   306.45999 319.196   321.89299 320.03499 328.701   332.053  ]\n",
      " [306.45999 319.196   321.89299 320.03499 328.701   332.053   321.386  ]\n",
      " [319.196   321.89299 320.03499 328.701   332.053   321.386   318.563  ]\n",
      " [321.89299 320.03499 328.701   332.053   321.386   318.563   320.868  ]\n",
      " [320.03499 328.701   332.053   321.386   318.563   320.868   316.009  ]\n",
      " [328.701   332.053   321.386   318.563   320.868   316.009   315.64   ]\n",
      " [332.053   321.386   318.563   320.868   316.009   315.64    313.994  ]\n",
      " [321.386   318.563   320.868   316.009   315.64    313.994   309.903  ]\n",
      " [318.563   320.868   316.009   315.64    313.994   309.903   317.204  ]\n",
      " [320.868   316.009   315.64    313.994   309.903   317.204   314.49899]\n",
      " [316.009   315.64    313.994   309.903   317.204   314.49899 311.14099]\n",
      " [315.64    313.994   309.903   317.204   314.49899 311.14099 277.853  ]\n",
      " [313.994   309.903   317.204   314.49899 311.14099 277.853   270.813  ]\n",
      " [309.903   317.204   314.49899 311.14099 277.853   270.813   272.0175 ]\n",
      " [317.204   314.49899 311.14099 277.853   270.813   272.0175  283.84125]\n",
      " [314.49899 311.14099 277.853   270.813   272.0175  283.84125 290.485  ]\n",
      " [311.14099 277.853   270.813   272.0175  283.84125 290.485   281.03625]\n",
      " [277.853   270.813   272.0175  283.84125 290.485   281.03625 286.688  ]\n",
      " [270.813   272.0175  283.84125 290.485   281.03625 286.688   277.64999]\n",
      " [272.0175  283.84125 290.485   281.03625 286.688   277.64999 268.10199]\n",
      " [283.84125 290.485   281.03625 286.688   277.64999 268.10199 243.081  ]\n",
      " [290.485   281.03625 286.688   277.64999 268.10199 243.081   219.128  ]\n",
      " [281.03625 286.688   277.64999 268.10199 243.081   219.128   193.3511 ]\n",
      " [286.688   277.64999 268.10199 243.081   219.128   193.3511  220.5745 ]\n",
      " [277.64999 268.10199 243.081   219.128   193.3511  220.5745  209.1655 ]\n",
      " [268.10199 243.081   219.128   193.3511  220.5745  209.1655  195.59467]\n",
      " [243.081   219.128   193.3511  220.5745  209.1655  195.59467 212.2711 ]\n",
      " [219.128   193.3511  220.5745  209.1655  195.59467 212.2711  211.5401 ]\n",
      " [193.3511  220.5745  209.1655  195.59467 212.2711  211.5401  212.28249]\n",
      " [220.5745  209.1655  195.59467 212.2711  211.5401  212.28249 230.6754 ]\n",
      " [209.1655  195.59467 212.2711  211.5401  212.28249 230.6754  226.30419]\n",
      " [195.59467 212.2711  211.5401  212.28249 230.6754  226.30419 231.4242 ]\n",
      " [212.2711  211.5401  212.28249 230.6754  226.30419 231.4242  251.606  ]\n",
      " [211.5401  212.28249 230.6754  226.30419 231.4242  251.606   283.59769]\n",
      " [212.28249 230.6754  226.30419 231.4242  251.606   283.59769 258.5374 ]\n",
      " [230.6754  226.30419 231.4242  251.606   283.59769 258.5374  257.447  ]\n",
      " [226.30419 231.4242  251.606   283.59769 258.5374  257.447   235.948  ]\n",
      " [231.4242  251.606   283.59769 258.5374  257.447   235.948   233.141  ]\n",
      " [251.606   283.59769 258.5374  257.447   235.948   233.141   226.94116]\n",
      " [283.59769 258.5374  257.447   235.948   233.141   226.94116 216.66066]\n",
      " [258.5374  257.447   235.948   233.141   226.94116 216.66066 229.80441]\n",
      " [257.447   235.948   233.141   226.94116 216.66066 229.80441 237.65175]\n",
      " [235.948   233.141   226.94116 216.66066 229.80441 237.65175 225.83858]\n",
      " [233.141   226.94116 216.66066 229.80441 237.65175 225.83858 226.554  ]\n",
      " [226.94116 216.66066 229.80441 237.65175 225.83858 226.554   219.75625]\n",
      " [216.66066 229.80441 237.65175 225.83858 226.554   219.75625 225.46666]\n",
      " [229.80441 237.65175 225.83858 226.554   219.75625 225.46666 225.73291]\n",
      " [237.65175 225.83858 226.554   219.75625 225.46666 225.73291 222.78408]\n",
      " [225.83858 226.554   219.75625 225.46666 225.73291 222.78408 220.16725]\n",
      " [226.554   219.75625 225.46666 225.73291 222.78408 220.16725 223.00366]\n",
      " [219.75625 225.46666 225.73291 222.78408 220.16725 223.00366 218.72833]\n",
      " [225.46666 225.73291 222.78408 220.16725 223.00366 218.72833 223.96716]\n",
      " [225.73291 222.78408 220.16725 223.00366 218.72833 223.96716 237.65716]\n",
      " [222.78408 220.16725 223.00366 218.72833 223.96716 237.65716 256.21758]\n",
      " [220.16725 223.00366 218.72833 223.96716 237.65716 256.21758 230.1355 ]\n",
      " [223.00366 218.72833 223.96716 237.65716 256.21758 230.1355  235.71275]\n",
      " [218.72833 223.96716 237.65716 256.21758 230.1355  235.71275 242.93183]\n",
      " [223.96716 237.65716 256.21758 230.1355  235.71275 242.93183 237.1035 ]\n",
      " [237.65716 256.21758 230.1355  235.71275 242.93183 237.1035  241.07183]\n",
      " [256.21758 230.1355  235.71275 242.93183 237.1035  241.07183 245.70566]\n",
      " [230.1355  235.71275 242.93183 237.1035  241.07183 245.70566 245.145  ]\n",
      " [235.71275 242.93183 237.1035  241.07183 245.70566 245.145   235.14141]\n",
      " [242.93183 237.1035  241.07183 245.70566 245.145   235.14141 238.93183]\n",
      " [237.1035  241.07183 245.70566 245.145   235.14141 238.93183 238.15225]\n",
      " [241.07183 245.70566 245.145   235.14141 238.93183 238.15225 235.67716]\n",
      " [245.70566 245.145   235.14141 238.93183 238.15225 235.67716 251.28908]\n",
      " [245.145   235.14141 238.93183 238.15225 235.67716 251.28908 251.03416]\n",
      " [235.14141 238.93183 238.15225 235.67716 251.28908 251.03416 251.9314 ]\n",
      " [238.93183 238.15225 235.67716 251.28908 251.03416 251.9314  258.8485 ]], shape=(128, 7), dtype=float64)\n",
      "tf.Tensor(\n",
      "[[238.15225 235.67716 251.28908 251.03416 251.9314  258.8485  270.7625 ]\n",
      " [235.67716 251.28908 251.03416 251.9314  258.8485  270.7625  278.1172 ]\n",
      " [251.28908 251.03416 251.9314  258.8485  270.7625  278.1172  269.2606 ]\n",
      " [251.03416 251.9314  258.8485  270.7625  278.1172  269.2606  274.8977 ]\n",
      " [251.9314  258.8485  270.7625  278.1172  269.2606  274.8977  270.86109]\n",
      " [258.8485  270.7625  278.1172  269.2606  274.8977  270.86109 276.72789]\n",
      " [270.7625  278.1172  269.2606  274.8977  270.86109 276.72789 277.98519]\n",
      " [278.1172  269.2606  274.8977  270.86109 276.72789 277.98519 294.1886 ]\n",
      " [269.2606  274.8977  270.86109 276.72789 277.98519 294.1886  289.7149 ]\n",
      " [274.8977  270.86109 276.72789 277.98519 294.1886  289.7149  292.8678 ]\n",
      " [270.86109 276.72789 277.98519 294.1886  289.7149  292.8678  293.224  ]\n",
      " [276.72789 277.98519 294.1886  289.7149  292.8678  293.224   282.644  ]\n",
      " [277.98519 294.1886  289.7149  292.8678  293.224   282.644   283.0809 ]\n",
      " [294.1886  289.7149  292.8678  293.224   282.644   283.0809  290.61579]\n",
      " [289.7149  292.8678  293.224   282.644   283.0809  290.61579 290.542  ]\n",
      " [292.8678  293.224   282.644   283.0809  290.61579 290.542   283.7507 ]\n",
      " [293.224   282.644   283.0809  290.61579 290.542   283.7507  252.44789]\n",
      " [282.644   283.0809  290.61579 290.542   283.7507  252.44789 263.4741 ]\n",
      " [283.0809  290.61579 290.542   283.7507  252.44789 263.4741  259.913  ]\n",
      " [290.61579 290.542   283.7507  252.44789 263.4741  259.913   259.3943 ]\n",
      " [290.542   283.7507  252.44789 263.4741  259.913   259.3943  267.5549 ]\n",
      " [283.7507  252.44789 263.4741  259.913   259.3943  267.5549  265.273  ]\n",
      " [252.44789 263.4741  259.913   259.3943  267.5549  265.273   246.6733 ]\n",
      " [263.4741  259.913   259.3943  267.5549  265.273   246.6733  245.6489 ]\n",
      " [259.913   259.3943  267.5549  265.273   246.6733  245.6489  246.5497 ]\n",
      " [259.3943  267.5549  265.273   246.6733  245.6489  246.5497  248.4467 ]\n",
      " [267.5549  265.273   246.6733  245.6489  246.5497  248.4467  246.728  ]\n",
      " [265.273   246.6733  245.6489  246.5497  248.4467  246.728   245.1133 ]\n",
      " [246.6733  245.6489  246.5497  248.4467  246.728   245.1133  247.2639 ]\n",
      " [245.6489  246.5497  248.4467  246.728   245.1133  247.2639  243.3028 ]\n",
      " [246.5497  248.4467  246.728   245.1133  247.2639  243.3028  246.96   ]\n",
      " [248.4467  246.728   245.1133  247.2639  243.3028  246.96    252.0578 ]\n",
      " [246.728   245.1133  247.2639  243.3028  246.96    252.0578  253.4334 ]\n",
      " [245.1133  247.2639  243.3028  246.96    252.0578  253.4334  252.0256 ]\n",
      " [247.2639  243.3028  246.96    252.0578  253.4334  252.0256  260.3589 ]\n",
      " [243.3028  246.96    252.0578  253.4334  252.0256  260.3589  252.0909 ]\n",
      " [246.96    252.0578  253.4334  252.0256  260.3589  252.0909  252.8629 ]\n",
      " [252.0578  253.4334  252.0256  260.3589  252.0909  252.8629  244.0449 ]\n",
      " [253.4334  252.0256  260.3589  252.0909  252.8629  244.0449  240.9478 ]\n",
      " [252.0256  260.3589  252.0909  252.8629  244.0449  240.9478  236.4388 ]\n",
      " [260.3589  252.0909  252.8629  244.0449  240.9478  236.4388  236.5542 ]\n",
      " [252.0909  252.8629  244.0449  240.9478  236.4388  236.5542  235.522  ]\n",
      " [252.8629  244.0449  240.9478  236.4388  236.5542  235.522   222.6009 ]\n",
      " [244.0449  240.9478  236.4388  236.5542  235.522   222.6009  220.9126 ]\n",
      " [240.9478  236.4388  236.5542  235.522   222.6009  220.9126  226.0171 ]\n",
      " [236.4388  236.5542  235.522   222.6009  220.9126  226.0171  227.9255 ]\n",
      " [236.5542  235.522   222.6009  220.9126  226.0171  227.9255  223.317  ]\n",
      " [235.522   222.6009  220.9126  226.0171  227.9255  223.317   223.4062 ]\n",
      " [222.6009  220.9126  226.0171  227.9255  223.317   223.4062  223.9214 ]\n",
      " [220.9126  226.0171  227.9255  223.317   223.4062  223.9214  224.9815 ]\n",
      " [226.0171  227.9255  223.317   223.4062  223.9214  224.9815  235.50369]\n",
      " [227.9255  223.317   223.4062  223.9214  224.9815  235.50369 234.15749]\n",
      " [223.317   223.4062  223.9214  224.9815  235.50369 234.15749 233.40079]\n",
      " [223.4062  223.9214  224.9815  235.50369 234.15749 233.40079 228.92379]\n",
      " [223.9214  224.9815  235.50369 234.15749 233.40079 228.92379 219.94549]\n",
      " [224.9815  235.50369 234.15749 233.40079 228.92379 219.94549 219.19029]\n",
      " [235.50369 234.15749 233.40079 228.92379 219.94549 219.19029 227.3867 ]\n",
      " [234.15749 233.40079 228.92379 219.94549 219.19029 227.3867  225.3545 ]\n",
      " [233.40079 228.92379 219.94549 219.19029 227.3867  225.3545  225.9976 ]\n",
      " [228.92379 219.94549 219.19029 227.3867  225.3545  225.9976  236.6827 ]\n",
      " [219.94549 219.19029 227.3867  225.3545  225.9976  236.6827  233.8511 ]\n",
      " [219.19029 227.3867  225.3545  225.9976  236.6827  233.8511  236.2378 ]\n",
      " [227.3867  225.3545  225.9976  236.6827  233.8511  236.2378  240.3646 ]\n",
      " [225.3545  225.9976  236.6827  233.8511  236.2378  240.3646  235.6033 ]\n",
      " [225.9976  236.6827  233.8511  236.2378  240.3646  235.6033  235.6017 ]\n",
      " [236.6827  233.8511  236.2378  240.3646  235.6033  235.6017  230.4207 ]\n",
      " [233.8511  236.2378  240.3646  235.6033  235.6017  230.4207  237.059  ]\n",
      " [236.2378  240.3646  235.6033  235.6017  230.4207  237.059   244.6989 ]\n",
      " [240.3646  235.6033  235.6017  230.4207  237.059   244.6989  241.516  ]\n",
      " [235.6033  235.6017  230.4207  237.059   244.6989  241.516   239.4036 ]\n",
      " [235.6017  230.4207  237.059   244.6989  241.516   239.4036  240.00079]\n",
      " [230.4207  237.059   244.6989  241.516   239.4036  240.00079 241.3529 ]\n",
      " [237.059   244.6989  241.516   239.4036  240.00079 241.3529  235.5478 ]\n",
      " [244.6989  241.516   239.4036  240.00079 241.3529  235.5478  237.5737 ]\n",
      " [241.516   239.4036  240.00079 241.3529  235.5478  237.5737  236.657  ]\n",
      " [239.4036  240.00079 241.3529  235.5478  237.5737  236.657   236.339  ]\n",
      " [240.00079 241.3529  235.5478  237.5737  236.657   236.339   236.2319 ]\n",
      " [241.3529  235.5478  237.5737  236.657   236.339   236.2319  233.3119 ]\n",
      " [235.5478  237.5737  236.657   236.339   236.2319  233.3119  232.7193 ]\n",
      " [237.5737  236.657   236.339   236.2319  233.3119  232.7193  234.204  ]\n",
      " [236.657   236.339   236.2319  233.3119  232.7193  234.204   235.86329]\n",
      " [236.339   236.2319  233.3119  232.7193  234.204   235.86329 240.1588 ]\n",
      " [236.2319  233.3119  232.7193  234.204   235.86329 240.1588  239.7985 ]\n",
      " [233.3119  232.7193  234.204   235.86329 240.1588  239.7985  240.9415 ]\n",
      " [232.7193  234.204   235.86329 240.1588  239.7985  240.9415  237.6588 ]\n",
      " [234.204   235.86329 240.1588  239.7985  240.9415  237.6588  237.1844 ]\n",
      " [235.86329 240.1588  239.7985  240.9415  237.6588  237.1844  237.6708 ]\n",
      " [240.1588  239.7985  240.9415  237.6588  237.1844  237.6708  237.2277 ]\n",
      " [239.7985  240.9415  237.6588  237.1844  237.6708  237.2277  236.1404 ]\n",
      " [240.9415  237.6588  237.1844  237.6708  237.2277  236.1404  233.3328 ]\n",
      " [237.6588  237.1844  237.6708  237.2277  236.1404  233.3328  230.8331 ]\n",
      " [237.1844  237.6708  237.2277  236.1404  233.3328  230.8331  223.415  ]\n",
      " [237.6708  237.2277  236.1404  233.3328  230.8331  223.415   226.6168 ]\n",
      " [237.2277  236.1404  233.3328  230.8331  223.415   226.6168  225.444  ]\n",
      " [236.1404  233.3328  230.8331  223.415   226.6168  225.444   223.9665 ]\n",
      " [233.3328  230.8331  223.415   226.6168  225.444   223.9665  224.2525 ]\n",
      " [230.8331  223.415   226.6168  225.444   223.9665  224.2525  225.8403 ]\n",
      " [223.415   226.6168  225.444   223.9665  224.2525  225.8403  223.69459]\n",
      " [226.6168  225.444   223.9665  224.2525  225.8403  223.69459 228.1884 ]\n",
      " [225.444   223.9665  224.2525  225.8403  223.69459 228.1884  229.2025 ]\n",
      " [223.9665  224.2525  225.8403  223.69459 228.1884  229.2025  229.9599 ]\n",
      " [224.2525  225.8403  223.69459 228.1884  229.2025  229.9599  229.9082 ]\n",
      " [225.8403  223.69459 228.1884  229.2025  229.9599  229.9082  230.6695 ]\n",
      " [223.69459 228.1884  229.2025  229.9599  229.9082  230.6695  233.1445 ]\n",
      " [228.1884  229.2025  229.9599  229.9082  230.6695  233.1445  234.7473 ]\n",
      " [229.2025  229.9599  229.9082  230.6695  233.1445  234.7473  237.39899]\n",
      " [229.9599  229.9082  230.6695  233.1445  234.7473  237.39899 248.7435 ]\n",
      " [229.9082  230.6695  233.1445  234.7473  237.39899 248.7435  247.2359 ]\n",
      " [230.6695  233.1445  234.7473  237.39899 248.7435  247.2359  249.0733 ]\n",
      " [233.1445  234.7473  237.39899 248.7435  247.2359  249.0733  240.7897 ]\n",
      " [234.7473  237.39899 248.7435  247.2359  249.0733  240.7897  244.15625]\n",
      " [237.39899 248.7435  247.2359  249.0733  240.7897  244.15625 244.9588 ]\n",
      " [248.7435  247.2359  249.0733  240.7897  244.15625 244.9588  247.1273 ]\n",
      " [247.2359  249.0733  240.7897  244.15625 244.9588  247.1273  243.371  ]\n",
      " [249.0733  240.7897  244.15625 244.9588  247.1273  243.371   240.9204 ]\n",
      " [240.7897  244.15625 244.9588  247.1273  243.371   240.9204  242.31912]\n",
      " [244.15625 244.9588  247.1273  243.371   240.9204  242.31912 242.28812]\n",
      " [244.9588  247.1273  243.371   240.9204  242.31912 242.28812 250.382  ]\n",
      " [247.1273  243.371   240.9204  242.31912 242.28812 250.382   249.42725]\n",
      " [243.371   240.9204  242.31912 242.28812 250.382   249.42725 258.38549]\n",
      " [240.9204  242.31912 242.28812 250.382   249.42725 258.38549 261.71749]\n",
      " [242.31912 242.28812 250.382   249.42725 258.38549 261.71749 259.62937]\n",
      " [242.28812 250.382   249.42725 258.38549 261.71749 259.62937 255.52675]\n",
      " [250.382   249.42725 258.38549 261.71749 259.62937 255.52675 253.87887]\n",
      " [249.42725 258.38549 261.71749 259.62937 255.52675 253.87887 261.42899]\n",
      " [258.38549 261.71749 259.62937 255.52675 253.87887 261.42899 267.60762]\n",
      " [261.71749 259.62937 255.52675 253.87887 261.42899 267.60762 270.07587]\n",
      " [259.62937 255.52675 253.87887 261.42899 267.60762 270.07587 264.356  ]], shape=(128, 7), dtype=float64)\n",
      "tf.Tensor(\n",
      "[[255.52675 253.87887 261.42899 267.60762 270.07587 264.356   267.943  ]\n",
      " [253.87887 261.42899 267.60762 270.07587 264.356   267.943   269.24925]\n",
      " [261.42899 267.60762 270.07587 264.356   267.943   269.24925 286.53662]\n",
      " [267.60762 270.07587 264.356   267.943   269.24925 286.53662 301.03837]\n",
      " [270.07587 264.356   267.943   269.24925 286.53662 301.03837 304.9905 ]\n",
      " [264.356   267.943   269.24925 286.53662 301.03837 304.9905  290.93137]\n",
      " [267.943   269.24925 286.53662 301.03837 304.9905  290.93137 288.48787]\n",
      " [269.24925 286.53662 301.03837 304.9905  290.93137 288.48787 287.55762]\n",
      " [286.53662 301.03837 304.9905  290.93137 288.48787 287.55762 276.97924]\n",
      " [301.03837 304.9905  290.93137 288.48787 287.55762 276.97924 278.33337]\n",
      " [304.9905  290.93137 288.48787 287.55762 276.97924 278.33337 275.30687]\n",
      " [290.93137 288.48787 287.55762 276.97924 278.33337 275.30687 274.28387]\n",
      " [288.48787 287.55762 276.97924 278.33337 275.30687 274.28387 279.45925]\n",
      " [287.55762 276.97924 278.33337 275.30687 274.28387 279.45925 274.87242]\n",
      " [276.97924 278.33337 275.30687 274.28387 279.45925 274.87242 276.2095 ]\n",
      " [278.33337 275.30687 274.28387 279.45925 274.87242 276.2095  276.24491]\n",
      " [275.30687 274.28387 279.45925 274.87242 276.2095  276.24491 287.55583]\n",
      " [274.28387 279.45925 274.87242 276.2095  276.24491 287.55583 287.83983]\n",
      " [279.45925 274.87242 276.2095  276.24491 287.55583 287.83983 291.20091]\n",
      " [274.87242 276.2095  276.24491 287.55583 287.83983 291.20091 293.15058]\n",
      " [276.2095  276.24491 287.55583 287.83983 291.20091 293.15058 292.99425]\n",
      " [276.24491 287.55583 287.83983 291.20091 293.15058 292.99425 288.61658]\n",
      " [287.55583 287.83983 291.20091 293.15058 292.99425 288.61658 286.74491]\n",
      " [287.83983 291.20091 293.15058 292.99425 288.61658 286.74491 282.33741]\n",
      " [291.20091 293.15058 292.99425 288.61658 286.74491 282.33741 278.68258]\n",
      " [293.15058 292.99425 288.61658 286.74491 282.33741 278.68258 279.48591]\n",
      " [292.99425 288.61658 286.74491 282.33741 278.68258 279.48591 283.49091]\n",
      " [288.61658 286.74491 282.33741 278.68258 279.48591 283.49091 284.24366]\n",
      " [286.74491 282.33741 278.68258 279.48591 283.49091 284.24366 280.9375 ]\n",
      " [282.33741 278.68258 279.48591 283.49091 284.24366 280.9375  275.92866]\n",
      " [278.68258 279.48591 283.49091 284.24366 280.9375  275.92866 278.2765 ]\n",
      " [279.48591 283.49091 284.24366 280.9375  275.92866 278.2765  261.75225]\n",
      " [283.49091 284.24366 280.9375  275.92866 278.2765  261.75225 265.0825 ]\n",
      " [284.24366 280.9375  275.92866 278.2765  261.75225 265.0825  264.87516]\n",
      " [280.9375  275.92866 278.2765  261.75225 265.0825  264.87516 270.22325]\n",
      " [275.92866 278.2765  261.75225 265.0825  264.87516 270.22325 264.14299]\n",
      " [278.2765  261.75225 265.0825  264.87516 270.22325 264.14299 262.01758]\n",
      " [261.75225 265.0825  264.87516 270.22325 264.14299 262.01758 265.3955 ]\n",
      " [265.0825  264.87516 270.22325 264.14299 262.01758 265.3955  261.20058]\n",
      " [264.87516 270.22325 264.14299 262.01758 265.3955  261.20058 258.0065 ]\n",
      " [270.22325 264.14299 262.01758 265.3955  261.20058 258.0065  256.44841]\n",
      " [264.14299 262.01758 265.3955  261.20058 258.0065  256.44841 230.38424]\n",
      " [262.01758 265.3955  261.20058 258.0065  256.44841 230.38424 232.06483]\n",
      " [265.3955  261.20058 258.0065  256.44841 230.38424 232.06483 234.56375]\n",
      " [261.20058 258.0065  256.44841 230.38424 232.06483 234.56375 233.03691]\n",
      " [258.0065  256.44841 230.38424 232.06483 234.56375 233.03691 231.21275]\n",
      " [256.44841 230.38424 232.06483 234.56375 233.03691 231.21275 227.23233]\n",
      " [230.38424 232.06483 234.56375 233.03691 231.21275 227.23233 203.18133]\n",
      " [232.06483 234.56375 233.03691 231.21275 227.23233 203.18133 219.81583]\n",
      " [234.56375 233.03691 231.21275 227.23233 203.18133 219.81583 224.53608]\n",
      " [233.03691 231.21275 227.23233 203.18133 219.81583 224.53608 224.18875]\n",
      " [231.21275 227.23233 203.18133 219.81583 224.53608 224.18875 230.93575]\n",
      " [227.23233 203.18133 219.81583 224.53608 224.18875 230.93575 230.58541]\n",
      " [203.18133 219.81583 224.53608 224.18875 230.93575 230.58541 227.18083]\n",
      " [219.81583 224.53608 224.18875 230.93575 230.58541 227.18083 229.02966]\n",
      " [224.53608 224.18875 230.93575 230.58541 227.18083 229.02966 226.28841]\n",
      " [224.18875 230.93575 230.58541 227.18083 229.02966 226.28841 228.35299]\n",
      " [230.93575 230.58541 227.18083 229.02966 226.28841 228.35299 227.14741]\n",
      " [230.58541 227.18083 229.02966 226.28841 228.35299 227.14741 229.66691]\n",
      " [227.18083 229.02966 226.28841 228.35299 227.14741 229.66691 240.70116]\n",
      " [229.02966 226.28841 228.35299 227.14741 229.66691 240.70116 239.88   ]\n",
      " [226.28841 228.35299 227.14741 229.66691 240.70116 239.88    242.01891]\n",
      " [228.35299 227.14741 229.66691 240.70116 239.88    242.01891 244.31383]\n",
      " [227.14741 229.66691 240.70116 239.88    242.01891 244.31383 237.99466]\n",
      " [229.66691 240.70116 239.88    242.01891 244.31383 237.99466 240.56366]\n",
      " [240.70116 239.88    242.01891 244.31383 237.99466 240.56366 239.81675]\n",
      " [239.88    242.01891 244.31383 237.99466 240.56366 239.81675 235.053  ]\n",
      " [242.01891 244.31383 237.99466 240.56366 239.81675 235.053   229.15808]\n",
      " [244.31383 237.99466 240.56366 239.81675 235.053   229.15808 230.51091]\n",
      " [237.99466 240.56366 239.81675 235.053   229.15808 230.51091 230.98066]\n",
      " [240.56366 239.81675 235.053   229.15808 230.51091 230.98066 229.58975]\n",
      " [239.81675 235.053   229.15808 230.51091 230.98066 229.58975 233.2385 ]\n",
      " [235.053   229.15808 230.51091 230.98066 229.58975 233.2385  232.50008]\n",
      " [229.15808 230.51091 230.98066 229.58975 233.2385  232.50008 231.33733]\n",
      " [230.51091 230.98066 229.58975 233.2385  232.50008 231.33733 230.75433]\n",
      " [230.98066 229.58975 233.2385  232.50008 231.33733 230.75433 227.79358]\n",
      " [229.58975 233.2385  232.50008 231.33733 230.75433 227.79358 231.30983]\n",
      " [233.2385  232.50008 231.33733 230.75433 227.79358 231.30983 231.09508]\n",
      " [232.50008 231.33733 230.75433 227.79358 231.30983 231.09508 233.74475]\n",
      " [231.33733 230.75433 227.79358 231.30983 231.09508 233.74475 234.92466]\n",
      " [230.75433 227.79358 231.30983 231.09508 233.74475 234.92466 234.32908]\n",
      " [227.79358 231.30983 231.09508 233.74475 234.92466 234.32908 237.21116]\n",
      " [231.30983 231.09508 233.74475 234.92466 234.32908 237.21116 238.56625]\n",
      " [231.09508 233.74475 234.92466 234.32908 237.21116 238.56625 238.06125]\n",
      " [233.74475 234.92466 234.32908 237.21116 238.56625 238.06125 237.15191]\n",
      " [234.92466 234.32908 237.21116 238.56625 238.06125 237.15191 238.06358]\n",
      " [234.32908 237.21116 238.56625 238.06125 237.15191 238.06358 237.63516]\n",
      " [237.21116 238.56625 238.06125 237.15191 238.06358 237.63516 238.99883]\n",
      " [238.56625 238.06125 237.15191 238.06358 237.63516 238.99883 238.82433]\n",
      " [238.06125 237.15191 238.06358 237.63516 238.99883 238.82433 240.63075]\n",
      " [237.15191 238.06358 237.63516 238.99883 238.82433 240.63075 246.49633]\n",
      " [238.06358 237.63516 238.99883 238.82433 240.63075 246.49633 244.49816]\n",
      " [237.63516 238.99883 238.82433 240.63075 246.49633 244.49816 243.25675]\n",
      " [238.99883 238.82433 240.63075 246.49633 244.49816 243.25675 244.96533]\n",
      " [238.82433 240.63075 246.49633 244.49816 243.25675 244.96533 245.07   ]\n",
      " [240.63075 246.49633 244.49816 243.25675 244.96533 245.07    247.65041]\n",
      " [246.49633 244.49816 243.25675 244.96533 245.07    247.65041 244.57641]\n",
      " [244.49816 243.25675 244.96533 245.07    247.65041 244.57641 249.45908]\n",
      " [243.25675 244.96533 245.07    247.65041 244.57641 249.45908 254.64216]\n",
      " [244.96533 245.07    247.65041 244.57641 249.45908 254.64216 255.72741]\n",
      " [245.07    247.65041 244.57641 249.45908 254.64216 255.72741 267.53983]\n",
      " [247.65041 244.57641 249.45908 254.64216 255.72741 267.53983 270.04041]\n",
      " [244.57641 249.45908 254.64216 255.72741 267.53983 270.04041 264.98625]\n",
      " [249.45908 254.64216 255.72741 267.53983 270.04041 264.98625 264.92575]\n",
      " [254.64216 255.72741 267.53983 270.04041 264.98625 264.92575 270.49541]\n",
      " [255.72741 267.53983 270.04041 264.98625 264.92575 270.49541 267.46908]\n",
      " [267.53983 270.04041 264.98625 264.92575 270.49541 267.46908 274.25325]\n",
      " [270.04041 264.98625 264.92575 270.49541 267.46908 274.25325 279.97908]\n",
      " [264.98625 264.92575 270.49541 267.46908 274.25325 279.97908 286.86941]\n",
      " [264.92575 270.49541 267.46908 274.25325 279.97908 286.86941 284.286  ]\n",
      " [270.49541 267.46908 274.25325 279.97908 286.86941 284.286   287.83091]\n",
      " [267.46908 274.25325 279.97908 286.86941 284.286   287.83091 300.53566]\n",
      " [274.25325 279.97908 286.86941 284.286   287.83091 300.53566 304.32691]\n",
      " [279.97908 286.86941 284.286   287.83091 300.53566 304.32691 326.55691]\n",
      " [286.86941 284.286   287.83091 300.53566 304.32691 326.55691 327.58425]\n",
      " [284.286   287.83091 300.53566 304.32691 326.55691 327.58425 311.70274]\n",
      " [287.83091 300.53566 304.32691 326.55691 327.58425 311.70274 325.64666]\n",
      " [300.53566 304.32691 326.55691 327.58425 311.70274 325.64666 369.51133]\n",
      " [304.32691 326.55691 327.58425 311.70274 325.64666 369.51133 432.46133]\n",
      " [326.55691 327.58425 311.70274 325.64666 369.51133 432.46133 434.31683]\n",
      " [327.58425 311.70274 325.64666 369.51133 432.46133 434.31683 359.586  ]\n",
      " [311.70274 325.64666 369.51133 432.46133 434.31683 359.586   377.64099]\n",
      " [325.64666 369.51133 432.46133 434.31683 359.586   377.64099 387.775  ]\n",
      " [369.51133 432.46133 434.31683 359.586   377.64099 387.775   370.652  ]\n",
      " [432.46133 434.31683 359.586   377.64099 387.775   370.652   376.948  ]\n",
      " [434.31683 359.586   377.64099 387.775   370.652   376.948   311.702  ]\n",
      " [359.586   377.64099 387.775   370.652   376.948   311.702   320.036  ]\n",
      " [377.64099 387.775   370.652   376.948   311.702   320.036   337.893  ]], shape=(128, 7), dtype=float64)\n",
      "tf.Tensor(\n",
      "[[387.775   370.652   376.948   311.702   320.036   337.893   334.125  ]\n",
      " [370.652   376.948   311.702   320.036   337.893   334.125   333.951  ]\n",
      " [376.948   311.702   320.036   337.893   334.125   333.951   320.06   ]\n",
      " [311.702   320.036   337.893   334.125   333.951   320.06    337.759  ]\n",
      " [320.036   337.893   334.125   333.951   320.06    337.759   333.33299]\n",
      " [337.893   334.125   333.951   320.06    337.759   333.33299 334.02499]\n",
      " [334.125   333.951   320.06    337.759   333.33299 334.02499 315.63099]\n",
      " [333.951   320.06    337.759   333.33299 334.02499 315.63099 321.482  ]\n",
      " [320.06    337.759   333.33299 334.02499 315.63099 321.482   326.365  ]\n",
      " [337.759   333.33299 334.02499 315.63099 321.482   326.365   322.606  ]\n",
      " [333.33299 334.02499 315.63099 321.482   326.365   322.606   320.993  ]\n",
      " [334.02499 315.63099 321.482   326.365   322.606   320.993   318.337  ]\n",
      " [315.63099 321.482   326.365   322.606   320.993   318.337   332.471  ]\n",
      " [321.482   326.365   322.606   320.993   318.337   332.471   349.138  ]\n",
      " [326.365   322.606   320.993   318.337   332.471   349.138   354.954  ]\n",
      " [322.606   320.993   318.337   332.471   349.138   354.954   356.806  ]\n",
      " [320.993   318.337   332.471   349.138   354.954   356.806   375.204  ]\n",
      " [318.337   332.471   349.138   354.954   356.806   375.204   377.798  ]\n",
      " [332.471   349.138   354.954   356.806   375.204   377.798   352.128  ]\n",
      " [349.138   354.954   356.806   375.204   377.798   352.128   366.788  ]\n",
      " [354.954   356.806   375.204   377.798   352.128   366.788   358.443  ]\n",
      " [356.806   375.204   377.798   352.128   366.788   358.443   369.956  ]\n",
      " [375.204   377.798   352.128   366.788   358.443   369.956   394.861  ]\n",
      " [377.798   352.128   366.788   358.443   369.956   394.861   391.618  ]\n",
      " [352.128   366.788   358.443   369.956   394.861   391.618   395.59299]\n",
      " [366.788   358.443   369.956   394.861   391.618   395.59299 421.424  ]\n",
      " [358.443   369.956   394.861   391.618   395.59299 421.424   415.076  ]\n",
      " [369.956   394.861   391.618   395.59299 421.424   415.076   421.813  ]\n",
      " [394.861   391.618   395.59299 421.424   415.076   421.813   467.831  ]\n",
      " [391.618   395.59299 421.424   415.076   421.813   467.831   435.091  ]\n",
      " [395.59299 421.424   415.076   421.813   467.831   435.091   437.021  ]\n",
      " [421.424   415.076   421.813   467.831   435.091   437.021   453.676  ]\n",
      " [415.076   421.813   467.831   435.091   437.021   453.676   445.805  ]\n",
      " [421.813   467.831   435.091   437.021   453.676   445.805   451.102  ]\n",
      " [467.831   435.091   437.021   453.676   445.805   451.102   456.425  ]\n",
      " [435.091   437.021   453.676   445.805   451.102   456.425   464.218  ]\n",
      " [437.021   453.676   445.805   451.102   456.425   464.218   460.238  ]\n",
      " [453.676   445.805   451.102   456.425   464.218   460.238   435.64099]\n",
      " [445.805   451.102   456.425   464.218   460.238   435.64099 438.276  ]\n",
      " [451.102   456.425   464.218   460.238   435.64099 438.276   437.994  ]\n",
      " [456.425   464.218   460.238   435.64099 438.276   437.994   456.572  ]\n",
      " [464.218   460.238   435.64099 438.276   437.994   456.572   455.743  ]\n",
      " [460.238   435.64099 438.276   437.994   456.572   455.743   447.606  ]\n",
      " [435.64099 438.276   437.994   456.572   455.743   447.606   419.338  ]\n",
      " [438.276   437.994   456.572   455.743   447.606   419.338   427.817  ]\n",
      " [437.994   456.572   455.743   447.606   419.338   427.817   422.741  ]\n",
      " [456.572   455.743   447.606   419.338   427.817   422.741   431.029  ]\n",
      " [455.743   447.606   419.338   427.817   422.741   431.029   424.962  ]\n",
      " [447.606   419.338   427.817   422.741   431.029   424.962   432.358  ]\n",
      " [419.338   427.817   422.741   431.029   424.962   432.358   433.773  ]\n",
      " [427.817   422.741   431.029   424.962   432.358   433.773   431.985  ]\n",
      " [422.741   431.029   424.962   432.358   433.773   431.985   431.691  ]\n",
      " [431.029   424.962   432.358   433.773   431.985   431.691   433.732  ]\n",
      " [424.962   432.358   433.773   431.985   431.691   433.732   427.164  ]\n",
      " [432.358   433.773   431.985   431.691   433.732   427.164   441.021  ]\n",
      " [433.773   431.985   431.691   433.732   427.164   441.021   457.168  ]\n",
      " [431.985   431.691   433.732   427.164   441.021   457.168   452.368  ]\n",
      " [431.691   433.732   427.164   441.021   457.168   452.368   445.327  ]\n",
      " [433.732   427.164   441.021   457.168   452.368   445.327   450.312  ]\n",
      " [427.164   441.021   457.168   452.368   445.327   450.312   446.614  ]\n",
      " [441.021   457.168   452.368   445.327   450.312   446.614   431.156  ]\n",
      " [457.168   452.368   445.327   450.312   446.614   431.156   431.41   ]\n",
      " [452.368   445.327   450.312   446.614   431.156   431.41    416.29   ]\n",
      " [445.327   450.312   446.614   431.156   431.41    416.29    372.737  ]\n",
      " [450.312   446.614   431.156   431.41    416.29    372.737   383.138  ]\n",
      " [446.614   431.156   431.41    416.29    372.737   383.138   380.817  ]\n",
      " [431.156   431.41    416.29    372.737   383.138   380.817   382.738  ]\n",
      " [431.41    416.29    372.737   383.138   380.817   382.738   378.775  ]\n",
      " [416.29    372.737   383.138   380.817   382.738   378.775   417.439  ]\n",
      " [372.737   383.138   380.817   382.738   378.775   417.439   403.271  ]\n",
      " [383.138   380.817   382.738   378.775   417.439   403.271   388.219  ]\n",
      " [380.817   382.738   378.775   417.439   403.271   388.219   388.538  ]\n",
      " [382.738   378.775   417.439   403.271   388.219   388.538   397.885  ]\n",
      " [378.775   417.439   403.271   388.219   388.538   397.885   390.715  ]\n",
      " [417.439   403.271   388.219   388.538   397.885   390.715   392.389  ]\n",
      " [403.271   388.219   388.538   397.885   390.715   392.389   381.356  ]\n",
      " [388.219   388.538   397.885   390.715   392.389   381.356   369.133  ]\n",
      " [388.538   397.885   390.715   392.389   381.356   369.133   376.952  ]\n",
      " [397.885   390.715   392.389   381.356   369.133   376.952   378.174  ]\n",
      " [390.715   392.389   381.356   369.133   376.952   378.174   372.157  ]\n",
      " [392.389   381.356   369.133   376.952   378.174   372.157   372.453  ]\n",
      " [381.356   369.133   376.952   378.174   372.157   372.453   372.762  ]\n",
      " [369.133   376.952   378.174   372.157   372.453   372.762   370.433  ]\n",
      " [376.952   378.174   372.157   372.453   372.762   370.433   386.954  ]\n",
      " [378.174   372.157   372.453   372.762   370.433   386.954   377.889  ]\n",
      " [372.157   372.453   372.762   370.433   386.954   377.889   376.44   ]\n",
      " [372.453   372.762   370.433   386.954   377.889   376.44    376.924  ]\n",
      " [372.762   370.433   386.954   377.889   376.44    376.924   372.434  ]\n",
      " [370.433   386.954   377.889   376.44    376.924   372.434   374.764  ]\n",
      " [386.954   377.889   376.44    376.924   372.434   374.764   379.186  ]\n",
      " [377.889   376.44    376.924   372.434   374.764   379.186   378.576  ]\n",
      " [376.44    376.924   372.434   374.764   379.186   378.576   388.87   ]\n",
      " [376.924   372.434   374.764   379.186   378.576   388.87    397.23   ]\n",
      " [372.434   374.764   379.186   378.576   388.87    397.23    405.621  ]\n",
      " [374.764   379.186   378.576   388.87    397.23    405.621   401.663  ]\n",
      " [379.186   378.576   388.87    397.23    405.621   401.663   407.017  ]\n",
      " [378.576   388.87    397.23    405.621   401.663   407.017   417.492  ]\n",
      " [388.87    397.23    405.621   401.663   407.017   417.492   421.956  ]\n",
      " [397.23    405.621   401.663   407.017   417.492   421.956   422.054  ]\n",
      " [405.621   401.663   407.017   417.492   421.956   422.054   439.61   ]\n",
      " [401.663   407.017   417.492   421.956   422.054   439.61    436.14   ]\n",
      " [407.017   417.492   421.956   422.054   439.61    436.14    438.745  ]\n",
      " [417.492   421.956   422.054   439.61    436.14    438.745   419.896  ]\n",
      " [421.956   422.054   439.61    436.14    438.745   419.896   422.617  ]\n",
      " [422.054   439.61    436.14    438.745   419.896   422.617   421.244  ]\n",
      " [439.61    436.14    438.745   419.896   422.617   421.244   433.401  ]\n",
      " [436.14    438.745   419.896   422.617   421.244   433.401   425.502  ]\n",
      " [438.745   419.896   422.617   421.244   433.401   425.502   438.28   ]\n",
      " [419.896   422.617   421.244   433.401   425.502   438.28    436.426  ]\n",
      " [422.617   421.244   433.401   425.502   438.28    436.426   434.001  ]\n",
      " [421.244   433.401   425.502   438.28    436.426   434.001   419.254  ]\n",
      " [433.401   425.502   438.28    436.426   434.001   419.254   421.597  ]\n",
      " [425.502   438.28    436.426   434.001   419.254   421.597   407.722  ]\n",
      " [438.28    436.426   434.001   419.254   421.597   407.722   397.883  ]\n",
      " [436.426   434.001   419.254   421.597   407.722   397.883   407.276  ]\n",
      " [434.001   419.254   421.597   407.722   397.883   407.276   414.213  ]\n",
      " [419.254   421.597   407.722   397.883   407.276   414.213   410.739  ]\n",
      " [421.597   407.722   397.883   407.276   414.213   410.739   411.672  ]\n",
      " [407.722   397.883   407.276   414.213   410.739   411.672   416.708  ]\n",
      " [397.883   407.276   414.213   410.739   411.672   416.708   415.04   ]\n",
      " [407.276   414.213   410.739   411.672   416.708   415.04    411.637  ]\n",
      " [414.213   410.739   411.672   416.708   415.04    411.637   414.208  ]\n",
      " [410.739   411.672   416.708   415.04    411.637   414.208   416.034  ]\n",
      " [411.672   416.708   415.04    411.637   414.208   416.034   414.167  ]\n",
      " [416.708   415.04    411.637   414.208   416.034   414.167   417.138  ]\n",
      " [415.04    411.637   414.208   416.034   414.167   417.138   417.154  ]\n",
      " [411.637   414.208   416.034   414.167   417.138   417.154   407.473  ]\n",
      " [414.208   416.034   414.167   417.138   417.154   407.473   409.24   ]], shape=(128, 7), dtype=float64)\n",
      "tf.Tensor(\n",
      "[[416.034   414.167   417.138   417.154   407.473   409.24    407.496  ]\n",
      " [414.167   417.138   417.154   407.473   409.24    407.496   415.125  ]\n",
      " [417.138   417.154   407.473   409.24    407.496   415.125   417.318  ]\n",
      " [417.154   407.473   409.24    407.496   415.125   417.318   415.837  ]\n",
      " [407.473   409.24    407.496   415.125   417.318   415.837   414.75699]\n",
      " [409.24    407.496   415.125   417.318   415.837   414.75699 416.851  ]\n",
      " [407.496   415.125   417.318   415.837   414.75699 416.851   416.233  ]\n",
      " [415.125   417.318   415.837   414.75699 416.851   416.233   424.297  ]\n",
      " [417.318   415.837   414.75699 416.851   416.233   424.297   423.597  ]\n",
      " [415.837   414.75699 416.851   416.233   424.297   423.597   414.613  ]\n",
      " [414.75699 416.851   416.233   424.297   423.597   414.613   414.458  ]\n",
      " [416.851   416.233   424.297   423.597   414.613   414.458   416.012  ]\n",
      " [416.233   424.297   423.597   414.613   414.458   416.012   418.785  ]\n",
      " [424.297   423.597   414.613   414.458   416.012   418.785   418.93999]\n",
      " [423.597   414.613   414.458   416.012   418.785   418.93999 418.593  ]\n",
      " [414.613   414.458   416.012   418.785   418.93999 418.593   422.044  ]\n",
      " [414.458   416.012   418.785   418.93999 418.593   422.044   422.29499]\n",
      " [416.012   418.785   418.93999 418.593   422.044   422.29499 420.553  ]\n",
      " [418.785   418.93999 418.593   422.044   422.29499 420.553   421.616  ]\n",
      " [418.93999 418.593   422.044   422.29499 420.553   421.616   415.751  ]\n",
      " [418.593   422.044   422.29499 420.553   421.616   415.751   418.078  ]\n",
      " [422.044   422.29499 420.553   421.616   415.751   418.078   421.192  ]\n",
      " [422.29499 420.553   421.616   415.751   418.078   421.192   426.383  ]\n",
      " [420.553   421.616   415.751   418.078   421.192   426.383   426.84399]\n",
      " [421.616   415.751   418.078   421.192   426.383   426.84399 425.494  ]\n",
      " [415.751   418.078   421.192   426.383   426.84399 425.494   426.279  ]\n",
      " [418.078   421.192   426.383   426.84399 425.494   426.279   429.775  ]\n",
      " [421.192   426.383   426.84399 425.494   426.279   429.775   430.453  ]\n",
      " [426.383   426.84399 425.494   426.279   429.775   430.453   429.318  ]\n",
      " [426.84399 425.494   426.279   429.775   430.453   429.318   428.522  ]\n",
      " [425.494   426.279   429.775   430.453   429.318   428.522   435.926  ]\n",
      " [426.279   429.775   430.453   429.318   428.522   435.926   443.758  ]\n",
      " [429.775   430.453   429.318   428.522   435.926   443.758   446.776  ]\n",
      " [430.453   429.318   428.522   435.926   443.758   446.776   447.233  ]\n",
      " [429.318   428.522   435.926   443.758   446.776   447.233   455.152  ]\n",
      " [428.522   435.926   443.758   446.776   447.233   455.152   458.626  ]\n",
      " [435.926   443.758   446.776   447.233   455.152   458.626   464.429  ]\n",
      " [443.758   446.776   447.233   455.152   458.626   464.429   466.064  ]\n",
      " [446.776   447.233   455.152   458.626   464.429   466.064   441.304  ]\n",
      " [447.233   455.152   458.626   464.429   466.064   441.304   446.236  ]\n",
      " [455.152   458.626   464.429   466.064   441.304   446.236   454.375  ]\n",
      " [458.626   464.429   466.064   441.304   446.236   454.375   449.108  ]\n",
      " [464.429   466.064   441.304   446.236   454.375   449.108   453.067  ]\n",
      " [466.064   441.304   446.236   454.375   449.108   453.067   443.681  ]\n",
      " [441.304   446.236   454.375   449.108   453.067   443.681   449.157  ]\n",
      " [446.236   454.375   449.108   453.067   443.681   449.157   447.73999]\n",
      " [454.375   449.108   453.067   443.681   449.157   447.73999 447.58599]\n",
      " [449.108   453.067   443.681   449.157   447.73999 447.58599 458.864  ]\n",
      " [453.067   443.681   449.157   447.73999 447.58599 458.864   459.937  ]\n",
      " [443.681   449.157   447.73999 447.58599 458.864   459.937   458.708  ]\n",
      " [449.157   447.73999 447.58599 458.864   459.937   458.708   460.954  ]\n",
      " [447.73999 447.58599 458.864   459.937   458.708   460.954   454.39399]\n",
      " [447.58599 458.864   459.937   458.708   460.954   454.39399 451.155  ]\n",
      " [458.864   459.937   458.708   460.954   454.39399 451.155   453.701  ]\n",
      " [459.937   458.708   460.954   454.39399 451.155   453.701   456.039  ]\n",
      " [458.708   460.954   454.39399 451.155   453.701   456.039   456.093  ]\n",
      " [460.954   454.39399 451.155   453.701   456.039   456.093   457.64099]\n",
      " [454.39399 451.155   453.701   456.039   456.093   457.64099 454.278  ]\n",
      " [451.155   453.701   456.039   456.093   457.64099 454.278   454.064  ]\n",
      " [453.701   456.039   456.093   457.64099 454.278   454.064   453.494  ]\n",
      " [456.039   456.093   457.64099 454.278   454.064   453.494   440.231  ]\n",
      " [456.093   457.64099 454.278   454.064   453.494   440.231   442.953  ]\n",
      " [457.64099 454.278   454.064   453.494   440.231   442.953   442.892  ]\n",
      " [454.278   454.064   453.494   440.231   442.953   442.892   440.551  ]\n",
      " [454.064   453.494   440.231   442.953   442.892   440.551   444.489  ]\n",
      " [453.494   440.231   442.953   442.892   440.551   444.489   447.035  ]\n",
      " [440.231   442.953   442.892   440.551   444.489   447.035   448.278  ]\n",
      " [442.953   442.892   440.551   444.489   447.035   448.278   467.262  ]\n",
      " [442.892   440.551   444.489   447.035   448.278   467.262   489.847  ]\n",
      " [440.551   444.489   447.035   448.278   467.262   489.847   516.051  ]\n",
      " [444.489   447.035   448.278   467.262   489.847   516.051   529.917  ]\n",
      " [447.035   448.278   467.262   489.847   516.051   529.917   537.23299]\n",
      " [448.278   467.262   489.847   516.051   529.917   537.23299 528.04999]\n",
      " [467.262   489.847   516.051   529.917   537.23299 528.04999 538.568  ]\n",
      " [489.847   516.051   529.917   537.23299 528.04999 538.568   537.185  ]\n",
      " [516.051   529.917   537.23299 528.04999 538.568   537.185   571.139  ]\n",
      " [529.917   537.23299 528.04999 538.568   537.185   571.139   579.343  ]\n",
      " [537.23299 528.04999 538.568   537.185   571.139   579.343   578.84899]\n",
      " [528.04999 538.568   537.185   571.139   579.343   578.84899 585.399  ]\n",
      " [538.568   537.185   571.139   579.343   578.84899 585.399   576.226  ]\n",
      " [537.185   571.139   579.343   578.84899 585.399   576.226   580.43599]\n",
      " [571.139   579.343   578.84899 585.399   576.226   580.43599 574.953  ]\n",
      " [579.343   578.84899 585.399   576.226   580.43599 574.953   583.87   ]\n",
      " [578.84899 585.399   576.226   580.43599 574.953   583.87    633.205  ]\n",
      " [585.399   576.226   580.43599 574.953   583.87    633.205   682.226  ]\n",
      " [576.226   580.43599 574.953   583.87    633.205   682.226   695.155  ]\n",
      " [580.43599 574.953   583.87    633.205   682.226   695.155   685.442  ]\n",
      " [574.953   583.87    633.205   682.226   695.155   685.442   732.357  ]\n",
      " [583.87    633.205   682.226   695.155   685.442   732.357   773.25   ]\n",
      " [633.205   682.226   695.155   685.442   732.357   773.25    736.386  ]\n",
      " [682.226   695.155   685.442   732.357   773.25    736.386   747.831  ]\n",
      " [695.155   685.442   732.357   773.25    736.386   747.831   758.903  ]\n",
      " [685.442   732.357   773.25    736.386   747.831   758.903   702.696  ]\n",
      " [732.357   773.25    736.386   747.831   758.903   702.696   657.013  ]\n",
      " [773.25    736.386   747.831   758.903   702.696   657.013   581.249  ]\n",
      " [736.386   747.831   758.903   702.696   657.013   581.249   657.08999]\n",
      " [747.831   758.903   702.696   657.013   581.249   657.08999 687.168  ]\n",
      " [758.903   702.696   657.013   581.249   657.08999 687.168   657.22399]\n",
      " [702.696   657.013   581.249   657.08999 687.168   657.22399 644.091  ]\n",
      " [657.013   581.249   657.08999 687.168   657.22399 644.091   655.94399]\n",
      " [581.249   657.08999 687.168   657.22399 644.091   655.94399 634.357  ]\n",
      " [657.08999 687.168   657.22399 644.091   655.94399 634.357   635.093  ]\n",
      " [687.168   657.22399 644.091   655.94399 634.357   635.093   683.293  ]\n",
      " [657.22399 644.091   655.94399 634.357   635.093   683.293   678.567  ]\n",
      " [644.091   655.94399 634.357   635.093   683.293   678.567   690.179  ]\n",
      " [655.94399 634.357   635.093   683.293   678.567   690.179   670.741  ]\n",
      " [634.357   635.093   683.293   678.567   690.179   670.741   679.351  ]\n",
      " [635.093   683.293   678.567   690.179   670.741   679.351   676.872  ]\n",
      " [683.293   678.567   690.179   670.741   679.351   676.872   671.814  ]\n",
      " [678.567   690.179   670.741   679.351   676.872   671.814   640.476  ]\n",
      " [690.179   670.741   679.351   676.872   671.814   640.476   654.85299]\n",
      " [670.741   679.351   676.872   671.814   640.476   654.85299 649.356  ]\n",
      " [679.351   676.872   671.814   640.476   654.85299 649.356   656.747  ]\n",
      " [676.872   671.814   640.476   654.85299 649.356   656.747   648.136  ]\n",
      " [671.814   640.476   654.85299 649.356   656.747   648.136   663.443  ]\n",
      " [640.476   654.85299 649.356   656.747   648.136   663.443   654.018  ]\n",
      " [654.85299 649.356   656.747   648.136   663.443   654.018   663.638  ]\n",
      " [649.356   656.747   648.136   663.443   654.018   663.638   666.56499]\n",
      " [656.747   648.136   663.443   654.018   663.638   666.56499 665.113  ]\n",
      " [648.136   663.443   654.018   663.638   666.56499 665.113   681.239  ]\n",
      " [663.443   654.018   663.638   666.56499 665.113   681.239   673.832  ]\n",
      " [654.018   663.638   666.56499 665.113   681.239   673.832   673.008  ]\n",
      " [663.638   666.56499 665.113   681.239   673.832   673.008   662.034  ]\n",
      " [666.56499 665.113   681.239   673.832   673.008   662.034   666.747  ]\n",
      " [665.113   681.239   673.832   673.008   662.034   666.747   654.725  ]\n",
      " [681.239   673.832   673.008   662.034   666.747   654.725   654.895  ]\n",
      " [673.832   673.008   662.034   666.747   654.725   654.895   660.284  ]\n",
      " [673.008   662.034   666.747   654.725   654.895   660.284   655.418  ]], shape=(128, 7), dtype=float64)\n",
      "tf.Tensor(\n",
      "[[662.034   666.747   654.725   654.895   660.284   655.418   650.82899]\n",
      " [666.747   654.725   654.895   660.284   655.418   650.82899 656.91599]\n",
      " [654.725   654.895   660.284   655.418   650.82899 656.91599 655.427  ]\n",
      " [654.895   660.284   655.418   650.82899 656.91599 655.427   656.681  ]\n",
      " [660.284   655.418   650.82899 656.91599 655.427   656.681   635.588  ]\n",
      " [655.418   650.82899 656.91599 655.427   656.681   635.588   621.37299]\n",
      " [650.82899 656.91599 655.427   656.681   635.588   621.37299 601.227  ]\n",
      " [656.91599 655.427   656.681   635.588   621.37299 601.227   555.926  ]\n",
      " [655.427   656.681   635.588   621.37299 601.227   555.926   578.52374]\n",
      " [656.681   635.588   621.37299 601.227   555.926   578.52374 570.33875]\n",
      " [635.588   621.37299 601.227   555.926   578.52374 570.33875 574.87375]\n",
      " [621.37299 601.227   555.926   578.52374 570.33875 574.87375 588.51625]\n",
      " [601.227   555.926   578.52374 570.33875 574.87375 588.51625 589.66125]\n",
      " [555.926   578.52374 570.33875 574.87375 588.51625 589.66125 586.715  ]\n",
      " [578.52374 570.33875 574.87375 588.51625 589.66125 586.715   585.23875]\n",
      " [570.33875 574.87375 588.51625 589.66125 586.715   585.23875 594.81625]\n",
      " [574.87375 588.51625 589.66125 586.715   585.23875 594.81625 581.9625 ]\n",
      " [588.51625 589.66125 586.715   585.23875 594.81625 581.9625  584.87375]\n",
      " [589.66125 586.715   585.23875 594.81625 581.9625  584.87375 581.65   ]\n",
      " [586.715   585.23875 594.81625 581.9625  584.87375 581.65    571.9625 ]\n",
      " [585.23875 594.81625 581.9625  584.87375 581.65    571.9625  567.60749]\n",
      " [594.81625 581.9625  584.87375 581.65    571.9625  567.60749 575.54125]\n",
      " [581.9625  584.87375 581.65    571.9625  567.60749 575.54125 572.37249]\n",
      " [584.87375 581.65    571.9625  567.60749 575.54125 572.37249 573.01625]\n",
      " [581.65    571.9625  567.60749 575.54125 572.37249 573.01625 573.08   ]\n",
      " [571.9625  567.60749 575.54125 572.37249 573.01625 573.08    581.35375]\n",
      " [567.60749 575.54125 572.37249 573.01625 573.08    581.35375 579.6675 ]\n",
      " [575.54125 572.37249 573.01625 573.08    581.35375 579.6675  585.5075 ]\n",
      " [572.37249 573.01625 573.08    581.35375 579.6675  585.5075  577.98749]\n",
      " [573.01625 573.08    581.35375 579.6675  585.5075  577.98749 574.5825 ]\n",
      " [573.08    581.35375 579.6675  585.5075  577.98749 574.5825  575.0625 ]\n",
      " [581.35375 579.6675  585.5075  577.98749 574.5825  575.0625  575.3425 ]\n",
      " [579.6675  585.5075  577.98749 574.5825  575.0625  575.3425  568.78875]\n",
      " [585.5075  577.98749 574.5825  575.0625  575.3425  568.78875 574.49749]\n",
      " [577.98749 574.5825  575.0625  575.3425  568.78875 574.49749 571.94125]\n",
      " [574.5825  575.0625  575.3425  568.78875 574.49749 571.94125 573.78125]\n",
      " [575.0625  575.3425  568.78875 574.49749 571.94125 573.78125 572.96   ]\n",
      " [575.3425  568.78875 574.49749 571.94125 573.78125 572.96    570.1    ]\n",
      " [568.78875 574.49749 571.94125 573.78125 572.96    570.1     572.52125]\n",
      " [574.49749 571.94125 573.78125 572.96    570.1     572.52125 596.45375]\n",
      " [571.94125 573.78125 572.96    570.1     572.52125 596.45375 606.0525 ]\n",
      " [573.78125 572.96    570.1     572.52125 596.45375 606.0525  604.465  ]\n",
      " [572.96    570.1     572.52125 596.45375 606.0525  604.465   609.4325 ]\n",
      " [570.1     572.52125 596.45375 606.0525  604.465   609.4325  613.67499]\n",
      " [572.52125 596.45375 606.0525  604.465   609.4325  613.67499 623.6    ]\n",
      " [596.45375 606.0525  604.465   609.4325  613.67499 623.6     620.59875]\n",
      " [606.0525  604.465   609.4325  613.67499 623.6     620.59875 622.03375]\n",
      " [604.465   609.4325  613.67499 623.6     620.59875 622.03375 604.8275 ]\n",
      " [609.4325  613.67499 623.6     620.59875 622.03375 604.8275  607.03625]\n",
      " [613.67499 623.6     620.59875 622.03375 604.8275  607.03625 606.885  ]\n",
      " [623.6     620.59875 622.03375 604.8275  607.03625 606.885   606.8975 ]\n",
      " [620.59875 622.03375 604.8275  607.03625 606.885   606.8975  605.52125]\n",
      " [622.03375 604.8275  607.03625 606.885   606.8975  605.52125 606.04625]\n",
      " [604.8275  607.03625 606.885   606.8975  605.52125 606.04625 605.08   ]\n",
      " [607.03625 606.885   606.8975  605.52125 606.04625 605.08    609.37249]\n",
      " [606.885   606.8975  605.52125 606.04625 605.08    609.37249 606.7175 ]\n",
      " [606.8975  605.52125 606.04625 605.08    609.37249 606.7175  595.93375]\n",
      " [605.52125 606.04625 605.08    609.37249 606.7175  595.93375 596.225  ]\n",
      " [606.04625 605.08    609.37249 606.7175  595.93375 596.225   595.0175 ]\n",
      " [605.08    609.37249 606.7175  595.93375 596.225   595.0175  602.4075 ]\n",
      " [609.37249 606.7175  595.93375 596.225   595.0175  602.4075  601.36875]\n",
      " [606.7175  595.93375 596.225   595.0175  602.4075  601.36875 598.9075 ]\n",
      " [595.93375 596.225   595.0175  602.4075  601.36875 598.9075  605.0175 ]\n",
      " [596.225   595.0175  602.4075  601.36875 598.9075  605.0175  602.885  ]\n",
      " [595.0175  602.4075  601.36875 598.9075  605.0175  602.885   603.58124]\n",
      " [602.4075  601.36875 598.9075  605.0175  602.885   603.58124 604.52125]\n",
      " [601.36875 598.9075  605.0175  602.885   603.58124 604.52125 610.58375]\n",
      " [598.9075  605.0175  602.885   603.58124 604.52125 610.58375 613.23749]\n",
      " [605.0175  602.885   603.58124 604.52125 610.58375 613.23749 611.88874]\n",
      " [602.885   603.58124 604.52125 610.58375 613.23749 611.88874 609.495  ]\n",
      " [603.58124 604.52125 610.58375 613.23749 611.88874 609.495   608.125  ]\n",
      " [604.52125 610.58375 613.23749 611.88874 609.495   608.125   610.57   ]\n",
      " [610.58375 613.23749 611.88874 609.495   608.125   610.57    610.23375]\n",
      " [613.23749 611.88874 609.495   608.125   610.57    610.23375 617.445  ]\n",
      " [611.88874 609.495   608.125   610.57    610.23375 617.445   614.59625]\n",
      " [609.495   608.125   610.57    610.23375 617.445   614.59625 615.91625]\n",
      " [608.125   610.57    610.23375 617.445   614.59625 615.91625 618.3275 ]\n",
      " [610.57    610.23375 617.445   614.59625 615.91625 618.3275  637.21624]\n",
      " [610.23375 617.445   614.59625 615.91625 618.3275  637.21624 637.73625]\n",
      " [617.445   614.59625 615.91625 618.3275  637.21624 637.73625 635.88375]\n",
      " [614.59625 615.91625 618.3275  637.21624 637.73625 635.88375 638.975  ]\n",
      " [615.91625 618.3275  637.21624 637.73625 635.88375 638.975   638.605  ]\n",
      " [618.3275  637.21624 637.73625 635.88375 638.975   638.605   636.635  ]\n",
      " [637.21624 637.73625 635.88375 638.975   638.605   636.635   637.01625]\n",
      " [637.73625 635.88375 638.975   638.605   636.635   637.01625 634.605  ]\n",
      " [635.88375 638.975   638.605   636.635   637.01625 634.605   626.36875]\n",
      " [638.975   638.605   636.635   637.01625 634.605   626.36875 629.61249]\n",
      " [638.605   636.635   637.01625 634.605   626.36875 629.61249 630.61875]\n",
      " [636.635   637.01625 634.605   626.36875 629.61249 630.61875 650.895  ]\n",
      " [637.01625 634.605   626.36875 629.61249 630.61875 650.895   647.69375]\n",
      " [634.605   626.36875 629.61249 630.61875 650.895   647.69375 652.235  ]\n",
      " [626.36875 629.61249 630.61875 650.895   647.69375 652.235   657.05625]\n",
      " [629.61249 630.61875 650.895   647.69375 652.235   657.05625 684.3775 ]\n",
      " [630.61875 650.895   647.69375 652.235   657.05625 684.3775  684.2975 ]\n",
      " [650.895   647.69375 652.235   657.05625 684.3775  684.2975  700.135  ]\n",
      " [647.69375 652.235   657.05625 684.3775  684.2975  700.135   704.91   ]\n",
      " [652.235   657.05625 684.3775  684.2975  700.135   704.91    693.89625]\n",
      " [657.05625 684.3775  684.2975  700.135   704.91    693.89625 708.955  ]\n",
      " [684.3775  684.2975  700.135   704.91    693.89625 708.955   725.6925 ]\n",
      " [684.2975  700.135   704.91    693.89625 708.955   725.6925  741.84875]\n",
      " [700.135   704.91    693.89625 708.955   725.6925  741.84875 701.21875]\n",
      " [704.91    693.89625 708.955   725.6925  741.84875 701.21875 702.175  ]\n",
      " [693.89625 708.955   725.6925  741.84875 701.21875 702.175   705.47875]\n",
      " [708.955   725.6925  741.84875 701.21875 702.175   705.47875 705.47125]\n",
      " [725.6925  741.84875 701.21875 702.175   705.47875 705.47125 706.13375]\n",
      " [741.84875 701.21875 702.175   705.47875 705.47125 706.13375 728.36125]\n",
      " [701.21875 702.175   705.47875 705.47125 706.13375 728.36125 719.2525 ]\n",
      " [702.175   705.47875 705.47125 706.13375 728.36125 719.2525  714.57125]\n",
      " [705.47875 705.47125 706.13375 728.36125 719.2525  714.57125 715.7725 ]\n",
      " [705.47125 706.13375 728.36125 719.2525  714.57125 715.7725  694.72125]\n",
      " [706.13375 728.36125 719.2525  714.57125 715.7725  694.72125 704.62125]\n",
      " [728.36125 719.2525  714.57125 715.7725  694.72125 704.62125 711.39625]\n",
      " [719.2525  714.57125 715.7725  694.72125 704.62125 711.39625 710.9275 ]\n",
      " [714.57125 715.7725  694.72125 704.62125 711.39625 710.9275  745.92625]\n",
      " [715.7725  694.72125 704.62125 711.39625 710.9275  745.92625 738.665  ]\n",
      " [694.72125 704.62125 711.39625 710.9275  745.92625 738.665   748.8075 ]\n",
      " [704.62125 711.39625 710.9275  745.92625 738.665   748.8075  752.5525 ]\n",
      " [711.39625 710.9275  745.92625 738.665   748.8075  752.5525  730.365  ]\n",
      " [710.9275  745.92625 738.665   748.8075  752.5525  730.365   734.84   ]\n",
      " [745.92625 738.665   748.8075  752.5525  730.365   734.84    745.97875]\n",
      " [738.665   748.8075  752.5525  730.365   734.84    745.97875 739.81875]\n",
      " [748.8075  752.5525  730.365   734.84    745.97875 739.81875 730.3125 ]\n",
      " [752.5525  730.365   734.84    745.97875 739.81875 730.3125  737.4025 ]\n",
      " [730.365   734.84    745.97875 739.81875 730.3125  737.4025  727.445  ]\n",
      " [734.84    745.97875 739.81875 730.3125  737.4025  727.445   731.9    ]\n",
      " [745.97875 739.81875 730.3125  737.4025  727.445   731.9     731.12625]\n",
      " [739.81875 730.3125  737.4025  727.445   731.9     731.12625 731.64   ]\n",
      " [730.3125  737.4025  727.445   731.9     731.12625 731.64    744.1025 ]], shape=(128, 7), dtype=float64)\n",
      "tf.Tensor(\n",
      "[[ 737.4025   727.445    731.9      731.12625  731.64     744.1025\n",
      "   766.5925 ]\n",
      " [ 727.445    731.9      731.12625  731.64     744.1025   766.5925\n",
      "   769.915  ]\n",
      " [ 731.9      731.12625  731.64     744.1025   766.5925   769.915\n",
      "   764.3575 ]\n",
      " [ 731.12625  731.64     744.1025   766.5925   769.915    764.3575\n",
      "   760.1    ]\n",
      " [ 731.64     744.1025   766.5925   769.915    764.3575   760.1\n",
      "   754.82625]\n",
      " [ 744.1025   766.5925   769.915    764.3575   760.1      754.82625\n",
      "   758.35375]\n",
      " [ 766.5925   769.915    764.3575   760.1      754.82625  758.35375\n",
      "   763.23625]\n",
      " [ 769.915    764.3575   760.1      754.82625  758.35375  763.23625\n",
      "   766.8725 ]\n",
      " [ 764.3575   760.1      754.82625  758.35375  763.23625  766.8725\n",
      "   773.2825 ]\n",
      " [ 760.1      754.82625  758.35375  763.23625  766.8725   773.2825\n",
      "   765.9525 ]\n",
      " [ 754.82625  758.35375  763.23625  766.8725   773.2825   765.9525\n",
      "   769.8275 ]\n",
      " [ 758.35375  763.23625  766.8725   773.2825   765.9525   769.8275\n",
      "   774.38625]\n",
      " [ 763.23625  766.8725   773.2825   765.9525   769.8275   774.38625\n",
      "   778.35625]\n",
      " [ 766.8725   773.2825   765.9525   769.8275   774.38625  778.35625\n",
      "   776.9825 ]\n",
      " [ 773.2825   765.9525   769.8275   774.38625  778.35625  776.9825\n",
      "   776.415  ]\n",
      " [ 765.9525   769.8275   774.38625  778.35625  776.9825   776.415\n",
      "   786.9725 ]\n",
      " [ 769.8275   774.38625  778.35625  776.9825   776.415    786.9725\n",
      "   789.24625]\n",
      " [ 774.38625  778.35625  776.9825   776.415    786.9725   789.24625\n",
      "   791.     ]\n",
      " [ 778.35625  776.9825   776.415    786.9725   789.24625  791.\n",
      "   789.2325 ]\n",
      " [ 776.9825   776.415    786.9725   789.24625  791.       789.2325\n",
      "   805.79625]\n",
      " [ 776.415    786.9725   789.24625  791.       789.2325   805.79625\n",
      "   842.63875]\n",
      " [ 786.9725   789.24625  791.       789.2325   805.79625  842.63875\n",
      "   910.9325 ]\n",
      " [ 789.24625  791.       789.2325   805.79625  842.63875  910.9325\n",
      "   910.2475 ]\n",
      " [ 791.       789.2325   805.79625  842.63875  910.9325   910.2475\n",
      "   870.13125]\n",
      " [ 789.2325   805.79625  842.63875  910.9325   910.2475   870.13125\n",
      "   905.45625]\n",
      " [ 805.79625  842.63875  910.9325   910.2475   870.13125  905.45625\n",
      "   900.36625]\n",
      " [ 842.63875  910.9325   910.2475   870.13125  905.45625  900.36625\n",
      "   948.89875]\n",
      " [ 910.9325   910.2475   870.13125  905.45625  900.36625  948.89875\n",
      "   971.645  ]\n",
      " [ 910.2475   870.13125  905.45625  900.36625  948.89875  971.645\n",
      "   954.84375]\n",
      " [ 870.13125  905.45625  900.36625  948.89875  971.645    954.84375\n",
      "   952.455  ]\n",
      " [ 905.45625  900.36625  948.89875  971.645    954.84375  952.455\n",
      "   964.325  ]\n",
      " [ 900.36625  948.89875  971.645    954.84375  952.455    964.325\n",
      "  1009.97375]\n",
      " [ 948.89875  971.645    954.84375  952.455    964.325   1009.97375\n",
      "  1028.33375]\n",
      " [ 971.645    954.84375  952.455    964.325   1009.97375 1028.33375\n",
      "  1047.09999]\n",
      " [ 954.84375  952.455    964.325   1009.97375 1028.33375 1047.09999\n",
      "  1140.385  ]\n",
      " [ 952.455    964.325   1009.97375 1028.33375 1047.09999 1140.385\n",
      "   985.93875]\n",
      " [ 964.325   1009.97375 1028.33375 1047.09999 1140.385    985.93875\n",
      "   837.83625]\n",
      " [1009.97375 1028.33375 1047.09999 1140.385    985.93875  837.83625\n",
      "   923.52375]\n",
      " [1028.33375 1047.09999 1140.385    985.93875  837.83625  923.52375\n",
      "   889.33875]\n",
      " [1047.09999 1140.385    985.93875  837.83625  923.52375  889.33875\n",
      "   905.22625]\n",
      " [1140.385    985.93875  837.83625  923.52375  889.33875  905.22625\n",
      "   910.60625]\n",
      " [ 985.93875  837.83625  923.52375  889.33875  905.22625  910.60625\n",
      "   772.66125]\n",
      " [ 837.83625  923.52375  889.33875  905.22625  910.60625  772.66125\n",
      "   784.89375]\n",
      " [ 923.52375  889.33875  905.22625  910.60625  772.66125  784.89375\n",
      "   820.68875]\n",
      " [ 889.33875  905.22625  910.60625  772.66125  784.89375  820.68875\n",
      "   821.19625]\n",
      " [ 905.22625  910.60625  772.66125  784.89375  820.68875  821.19625\n",
      "   830.74   ]\n",
      " [ 910.60625  772.66125  784.89375  820.68875  821.19625  830.74\n",
      "   848.58125]\n",
      " [ 772.66125  784.89375  820.68875  821.19625  830.74     848.58125\n",
      "   890.29375]\n",
      " [ 784.89375  820.68875  821.19625  830.74     848.58125  890.29375\n",
      "   888.0625 ]\n",
      " [ 820.68875  821.19625  830.74     848.58125  890.29375  888.0625\n",
      "   896.16375]\n",
      " [ 821.19625  830.74     848.58125  890.29375  888.0625   896.16375\n",
      "   920.58875]\n",
      " [ 830.74     848.58125  890.29375  888.0625   896.16375  920.58875\n",
      "   934.7775 ]\n",
      " [ 848.58125  890.29375  888.0625   896.16375  920.58875  934.7775\n",
      "   920.365  ]\n",
      " [ 890.29375  888.0625   896.16375  920.58875  934.7775   920.365\n",
      "   912.2125 ]\n",
      " [ 888.0625   896.16375  920.58875  934.7775   920.365    912.2125\n",
      "   898.55   ]\n",
      " [ 896.16375  920.58875  934.7775   920.365    912.2125   898.55\n",
      "   901.05   ]\n",
      " [ 920.58875  934.7775   920.365    912.2125   898.55     901.05\n",
      "   912.84375]\n",
      " [ 934.7775   920.365    912.2125   898.55     901.05     912.84375\n",
      "   919.795  ]\n",
      " [ 920.365    912.2125   898.55     901.05     912.84375  919.795\n",
      "   920.82875]\n",
      " [ 912.2125   898.55     901.05     912.84375  919.795    920.82875\n",
      "   916.91125]\n",
      " [ 898.55     901.05     912.84375  919.795    920.82875  916.91125\n",
      "   921.35125]\n",
      " [ 901.05     912.84375  919.795    920.82875  916.91125  921.35125\n",
      "   973.065  ]\n",
      " [ 912.84375  919.795    920.82875  916.91125  921.35125  973.065\n",
      "   982.8275 ]\n",
      " [ 919.795    920.82875  916.91125  921.35125  973.065    982.8275\n",
      "  1020.09   ]\n",
      " [ 920.82875  916.91125  921.35125  973.065    982.8275  1020.09\n",
      "  1011.215  ]\n",
      " [ 916.91125  921.35125  973.065    982.8275  1020.09    1011.215\n",
      "  1029.40124]\n",
      " [ 921.35125  973.065    982.8275  1020.09    1011.215   1029.40124\n",
      "  1019.3125 ]\n",
      " [ 973.065    982.8275  1020.09    1011.215   1029.40124 1019.3125\n",
      "  1029.40875]\n",
      " [ 982.8275  1020.09    1011.215   1029.40124 1019.3125  1029.40875\n",
      "  1067.70875]\n",
      " [1020.09    1011.215   1029.40124 1019.3125  1029.40875 1067.70875\n",
      "  1072.205  ]\n",
      " [1011.215   1029.40124 1019.3125  1029.40875 1067.70875 1072.205\n",
      "   974.95875]\n",
      " [1029.40124 1019.3125  1029.40875 1067.70875 1072.205    974.95875\n",
      "   997.2275 ]\n",
      " [1019.3125  1029.40875 1067.70875 1072.205    974.95875  997.2275\n",
      "  1004.71375]\n",
      " [1029.40875 1067.70875 1072.205    974.95875  997.2275  1004.71375\n",
      "  1004.85375]\n",
      " [1067.70875 1072.205    974.95875  997.2275  1004.71375 1004.85375\n",
      "   994.58   ]\n",
      " [1072.205    974.95875  997.2275  1004.71375 1004.85375  994.58\n",
      "  1003.59   ]\n",
      " [ 974.95875  997.2275  1004.71375 1004.85375  994.58    1003.59\n",
      "  1018.41125]\n",
      " [ 997.2275  1004.71375 1004.85375  994.58    1003.59    1018.41125\n",
      "  1038.86625]\n",
      " [1004.71375 1004.85375  994.58    1003.59    1018.41125 1038.86625\n",
      "  1058.315  ]\n",
      " [1004.85375  994.58    1003.59    1018.41125 1038.86625 1058.315\n",
      "  1052.84375]\n",
      " [ 994.58    1003.59    1018.41125 1038.86625 1058.315   1052.84375\n",
      "  1046.66249]\n",
      " [1003.59    1018.41125 1038.86625 1058.315   1052.84375 1046.66249\n",
      "  1079.5825 ]\n",
      " [1018.41125 1038.86625 1058.315   1052.84375 1046.66249 1079.5825\n",
      "  1112.86375]\n",
      " [1038.86625 1058.315   1052.84375 1046.66249 1079.5825  1112.86375\n",
      "  1122.515  ]\n",
      " [1058.315   1052.84375 1046.66249 1079.5825  1112.86375 1122.515\n",
      "  1193.501  ]\n",
      " [1052.84375 1046.66249 1079.5825  1112.86375 1122.515   1193.501\n",
      "  1182.429  ]\n",
      " [1046.66249 1079.5825  1112.86375 1122.515   1193.501   1182.429\n",
      "  1139.848  ]\n",
      " [1079.5825  1112.86375 1122.515   1193.501   1182.429   1139.848\n",
      "  1189.366  ]\n",
      " [1112.86375 1122.515   1193.501   1182.429   1139.848   1189.366\n",
      "  1189.94699]\n",
      " [1122.515   1193.501   1182.429   1139.848   1189.366   1189.94699\n",
      "  1193.611  ]\n",
      " [1193.501   1182.429   1139.848   1189.366   1189.94699 1193.611\n",
      "  1221.05   ]\n",
      " [1182.429   1139.848   1189.366   1189.94699 1193.611   1221.05\n",
      "  1269.776  ]\n",
      " [1139.848   1189.366   1189.94699 1193.611   1221.05    1269.776\n",
      "  1285.376  ]\n",
      " [1189.366   1189.94699 1193.611   1221.05    1269.776   1285.376\n",
      "  1260.668  ]\n",
      " [1189.94699 1193.611   1221.05    1269.776   1285.376   1260.668\n",
      "  1273.24699]\n",
      " [1193.611   1221.05    1269.776   1285.376   1260.668   1273.24699\n",
      "  1280.30499]\n",
      " [1221.05    1269.776   1285.376   1260.668   1273.24699 1280.30499\n",
      "  1206.357  ]\n",
      " [1269.776   1285.376   1260.668   1273.24699 1280.30499 1206.357\n",
      "  1153.06   ]\n",
      " [1285.376   1260.668   1273.24699 1280.30499 1206.357   1153.06\n",
      "  1200.557  ]\n",
      " [1260.668   1273.24699 1280.30499 1206.357   1153.06    1200.557\n",
      "  1147.625  ]\n",
      " [1273.24699 1280.30499 1206.357   1153.06    1200.557   1147.625\n",
      "  1186.351  ]\n",
      " [1280.30499 1206.357   1153.06    1200.557   1147.625   1186.351\n",
      "  1235.553  ]\n",
      " [1206.357   1153.06    1200.557   1147.625   1186.351   1235.553\n",
      "  1242.806  ]\n",
      " [1153.06    1200.557   1147.625   1186.351   1235.553   1242.806\n",
      "  1245.892  ]\n",
      " [1200.557   1147.625   1186.351   1235.553   1242.806   1245.892\n",
      "  1247.67099]\n",
      " [1147.625   1186.351   1235.553   1242.806   1245.892   1247.67099\n",
      "  1126.08199]\n",
      " [1186.351   1235.553   1242.806   1245.892   1247.67099 1126.08199\n",
      "  1062.07   ]\n",
      " [1235.553   1242.806   1245.892   1247.67099 1126.08199 1062.07\n",
      "  1000.24599]\n",
      " [1242.806   1245.892   1247.67099 1126.08199 1062.07    1000.24599\n",
      "  1036.226  ]\n",
      " [1245.892   1247.67099 1126.08199 1062.07    1000.24599 1036.226\n",
      "  1065.481  ]\n",
      " [1247.67099 1126.08199 1062.07    1000.24599 1036.226   1065.481\n",
      "  1091.333  ]\n",
      " [1126.08199 1062.07    1000.24599 1036.226   1065.481   1091.333\n",
      "  1036.099  ]\n",
      " [1062.07    1000.24599 1036.226   1065.481   1091.333   1036.099\n",
      "  1013.844  ]\n",
      " [1000.24599 1036.226   1065.481   1091.333   1036.099   1013.844\n",
      "   921.808  ]\n",
      " [1036.226   1065.481   1091.333   1036.099   1013.844    921.808\n",
      "   962.508  ]\n",
      " [1065.481   1091.333   1036.099   1013.844    921.808    962.508\n",
      "   968.293  ]\n",
      " [1091.333   1036.099   1013.844    921.808    962.508    968.293\n",
      "  1035.32199]\n",
      " [1036.099   1013.844    921.808    962.508    968.293   1035.32199\n",
      "  1011.969  ]\n",
      " [1013.844    921.808    962.508    968.293   1035.32199 1011.969\n",
      "  1041.374  ]\n",
      " [ 921.808    962.508    968.293   1035.32199 1011.969   1041.374\n",
      "  1048.86299]\n",
      " [ 962.508    968.293   1035.32199 1011.969   1041.374   1048.86299\n",
      "  1077.557  ]\n",
      " [ 968.293   1035.32199 1011.969   1041.374   1048.86299 1077.557\n",
      "  1082.37   ]\n",
      " [1035.32199 1011.969   1041.374   1048.86299 1077.557   1082.37\n",
      "  1140.037  ]\n",
      " [1011.969   1041.374   1048.86299 1077.557   1082.37    1140.037\n",
      "  1148.092  ]\n",
      " [1041.374   1048.86299 1077.557   1082.37    1140.037   1148.092\n",
      "  1139.86   ]\n",
      " [1048.86299 1077.557   1082.37    1140.037   1148.092   1139.86\n",
      "  1150.685  ]\n",
      " [1077.557   1082.37    1140.037   1148.092   1139.86    1150.685\n",
      "  1177.284  ]\n",
      " [1082.37    1140.037   1148.092   1139.86    1150.685   1177.284\n",
      "  1196.896  ]], shape=(128, 7), dtype=float64)\n",
      "tf.Tensor(\n",
      "[[1140.037   1148.092   1139.86    1150.685   1177.284   1196.896\n",
      "  1187.03299]\n",
      " [1148.092   1139.86    1150.685   1177.284   1196.896   1187.03299\n",
      "  1213.801  ]\n",
      " [1139.86    1150.685   1177.284   1196.896   1187.03299 1213.801\n",
      "  1206.74   ]\n",
      " [1150.685   1177.284   1196.896   1187.03299 1213.801   1206.74\n",
      "  1226.896  ]\n",
      " [1177.284   1196.896   1187.03299 1213.801   1206.74    1226.896\n",
      "  1216.269  ]\n",
      " [1196.896   1187.03299 1213.801   1206.74    1226.896   1216.269\n",
      "  1187.136  ]\n",
      " [1187.03299 1213.801   1206.74    1226.896   1216.269   1187.136\n",
      "  1186.10899]\n",
      " [1213.801   1206.74    1226.896   1216.269   1187.136   1186.10899\n",
      "  1189.55   ]\n",
      " [1206.74    1226.896   1216.269   1187.136   1186.10899 1189.55\n",
      "  1184.2    ]\n",
      " [1226.896   1216.269   1187.136   1186.10899 1189.55    1184.2\n",
      "  1211.73799]\n",
      " [1216.269   1187.136   1186.10899 1189.55    1184.2     1211.73799\n",
      "  1218.666  ]\n",
      " [1187.136   1186.10899 1189.55    1184.2     1211.73799 1218.666\n",
      "  1227.981  ]\n",
      " [1186.10899 1189.55    1184.2     1211.73799 1218.666   1227.981\n",
      "  1261.702  ]\n",
      " [1189.55    1184.2     1211.73799 1218.666   1227.981   1261.702\n",
      "  1255.25125]\n",
      " [1184.2     1211.73799 1218.666   1227.981   1261.702   1255.25125\n",
      "  1232.7575 ]\n",
      " [1211.73799 1218.666   1227.981   1261.702   1255.25125 1232.7575\n",
      "  1243.43   ]\n",
      " [1218.666   1227.981   1261.702   1255.25125 1232.7575  1243.43\n",
      "  1251.5775 ]\n",
      " [1227.981   1261.702   1255.25125 1232.7575  1243.43    1251.5775\n",
      "  1269.69625]\n",
      " [1261.702   1255.25125 1232.7575  1243.43    1251.5775  1269.69625\n",
      "  1289.7475 ]\n",
      " [1255.25125 1232.7575  1243.43    1251.5775  1269.69625 1289.7475\n",
      "  1335.825  ]\n",
      " [1232.7575  1243.43    1251.5775  1269.69625 1289.7475  1335.825\n",
      "  1319.7    ]\n",
      " [1243.43    1251.5775  1269.69625 1289.7475  1335.825   1319.7\n",
      "  1311.58874]\n",
      " [1251.5775  1269.69625 1289.7475  1335.825   1319.7     1311.58874\n",
      "  1370.79   ]\n",
      " [1269.69625 1289.7475  1335.825   1319.7     1311.58874 1370.79\n",
      "  1416.61   ]\n",
      " [1289.7475  1335.825   1319.7     1311.58874 1370.79    1416.61\n",
      "  1448.88625]\n",
      " [1335.825   1319.7     1311.58874 1370.79    1416.61    1448.88625\n",
      "  1506.7725 ]\n",
      " [1319.7     1311.58874 1370.79    1416.61    1448.88625 1506.7725\n",
      "  1543.31   ]\n",
      " [1311.58874 1370.79    1416.61    1448.88625 1506.7725  1543.31\n",
      "  1536.1525 ]\n",
      " [1370.79    1416.61    1448.88625 1506.7725  1543.31    1536.1525\n",
      "  1554.6025 ]\n",
      " [1416.61    1448.88625 1506.7725  1543.31    1536.1525  1554.6025\n",
      "  1564.065  ]\n",
      " [1448.88625 1506.7725  1543.31    1536.1525  1554.6025  1564.065\n",
      "  1644.72875]\n",
      " [1506.7725  1543.31    1536.1525  1554.6025  1564.065   1644.72875\n",
      "  1695.83125]\n",
      " [1543.31    1536.1525  1554.6025  1564.065   1644.72875 1695.83125\n",
      "  1748.35375]\n",
      " [1536.1525  1554.6025  1564.065   1644.72875 1695.83125 1748.35375\n",
      "  1774.52   ]\n",
      " [1554.6025  1564.065   1644.72875 1695.83125 1748.35375 1774.52\n",
      "  1634.6075 ]\n",
      " [1564.065   1644.72875 1695.83125 1748.35375 1774.52    1634.6075\n",
      "  1774.805  ]\n",
      " [1644.72875 1695.83125 1748.35375 1774.52    1634.6075  1774.805\n",
      "  1747.04375]\n",
      " [1695.83125 1748.35375 1774.52    1634.6075  1774.805   1747.04375\n",
      "  1665.0325 ]\n",
      " [1748.35375 1774.52    1634.6075  1774.805   1747.04375 1665.0325\n",
      "  1744.44125]\n",
      " [1774.52    1634.6075  1774.805   1747.04375 1665.0325  1744.44125\n",
      "  1796.89625]\n",
      " [1634.6075  1774.805   1747.04375 1665.0325  1744.44125 1796.89625\n",
      "  1913.13875]\n",
      " [1774.805   1747.04375 1665.0325  1744.44125 1796.89625 1913.13875\n",
      "  1983.97875]\n",
      " [1747.04375 1665.0325  1744.44125 1796.89625 1913.13875 1983.97875\n",
      "  2074.69625]\n",
      " [1665.0325  1744.44125 1796.89625 1913.13875 1983.97875 2074.69625\n",
      "  2114.98875]\n",
      " [1744.44125 1796.89625 1913.13875 1983.97875 2074.69625 2114.98875\n",
      "  2196.66874]\n",
      " [1796.89625 1913.13875 1983.97875 2074.69625 2114.98875 2196.66874\n",
      "  2348.55249]\n",
      " [1913.13875 1983.97875 2074.69625 2114.98875 2196.66874 2348.55249\n",
      "  2581.85375]\n",
      " [1983.97875 2074.69625 2114.98875 2196.66874 2348.55249 2581.85375\n",
      "  2460.95375]\n",
      " [2074.69625 2114.98875 2196.66874 2348.55249 2581.85375 2460.95375\n",
      "  2232.2875 ]\n",
      " [2114.98875 2196.66874 2348.55249 2581.85375 2460.95375 2232.2875\n",
      "  2234.83374]\n",
      " [2196.66874 2348.55249 2581.85375 2460.95375 2232.2875  2234.83374\n",
      "  2195.785  ]\n",
      " [2348.55249 2581.85375 2460.95375 2232.2875  2234.83374 2195.785\n",
      "  2315.73625]\n",
      " [2581.85375 2460.95375 2232.2875  2234.83374 2195.785   2315.73625\n",
      "  2170.98124]\n",
      " [2460.95375 2232.2875  2234.83374 2195.785   2315.73625 2170.98124\n",
      "  2402.125  ]\n",
      " [2232.2875  2234.83374 2195.785   2315.73625 2170.98124 2402.125\n",
      "  2477.1725 ]\n",
      " [2234.83374 2195.785   2315.73625 2170.98124 2402.125   2477.1725\n",
      "  2475.2975 ]\n",
      " [2195.785   2315.73625 2170.98124 2402.125   2477.1725  2475.2975\n",
      "  2526.31125]\n",
      " [2315.73625 2170.98124 2402.125   2477.1725  2475.2975  2526.31125\n",
      "  2605.125  ]\n",
      " [2170.98124 2402.125   2477.1725  2475.2975  2526.31125 2605.125\n",
      "  2855.03   ]\n",
      " [2402.125   2477.1725  2475.2975  2526.31125 2605.125   2855.03\n",
      "  2900.8525 ]\n",
      " [2477.1725  2475.2975  2526.31125 2605.125   2855.03    2900.8525\n",
      "  2737.9025 ]\n",
      " [2475.2975  2526.31125 2605.125   2855.03    2900.8525  2737.9025\n",
      "  2826.03875]\n",
      " [2526.31125 2605.125   2855.03    2900.8525  2737.9025  2826.03875\n",
      "  2846.00625]\n",
      " [2605.125   2855.03    2900.8525  2737.9025  2826.03875 2846.00625\n",
      "  2910.33625]\n",
      " [2855.03    2900.8525  2737.9025  2826.03875 2846.00625 2910.33625\n",
      "  3007.0125 ]\n",
      " [2900.8525  2737.9025  2826.03875 2846.00625 2910.33625 3007.0125\n",
      "  2697.0775 ]\n",
      " [2737.9025  2826.03875 2846.00625 2910.33625 3007.0125  2697.0775\n",
      "  2780.1825 ]\n",
      " [2826.03875 2846.00625 2910.33625 3007.0125  2697.0775  2780.1825\n",
      "  2518.54875]\n",
      " [2846.00625 2910.33625 3007.0125  2697.0775  2780.1825  2518.54875\n",
      "  2438.61749]\n",
      " [2910.33625 3007.0125  2697.0775  2780.1825  2518.54875 2438.61749\n",
      "  2520.78375]\n",
      " [3007.0125  2697.0775  2780.1825  2518.54875 2438.61749 2520.78375\n",
      "  2680.1025 ]\n",
      " [2697.0775  2780.1825  2518.54875 2438.61749 2520.78375 2680.1025\n",
      "  2611.67999]\n",
      " [2780.1825  2518.54875 2438.61749 2520.78375 2680.1025  2611.67999\n",
      "  2667.5475 ]\n",
      " [2518.54875 2438.61749 2520.78375 2680.1025  2611.67999 2667.5475\n",
      "  2805.0975 ]\n",
      " [2438.61749 2520.78375 2680.1025  2611.67999 2667.5475  2805.0975\n",
      "  2702.00375]\n",
      " [2520.78375 2680.1025  2611.67999 2667.5475  2805.0975  2702.00375\n",
      "  2763.29125]\n",
      " [2680.1025  2611.67999 2667.5475  2805.0975  2702.00375 2763.29125\n",
      "  2740.5925 ]\n",
      " [2611.67999 2667.5475  2805.0975  2702.00375 2763.29125 2740.5925\n",
      "  2598.15875]\n",
      " [2667.5475  2805.0975  2702.00375 2763.29125 2740.5925  2598.15875\n",
      "  2630.59499]\n",
      " [2805.0975  2702.00375 2763.29125 2740.5925  2598.15875 2630.59499\n",
      "  2513.42999]\n",
      " [2702.00375 2763.29125 2740.5925  2598.15875 2630.59499 2513.42999\n",
      "  2556.1675 ]\n",
      " [2763.29125 2740.5925  2598.15875 2630.59499 2513.42999 2556.1675\n",
      "  2591.2675 ]\n",
      " [2740.5925  2598.15875 2630.59499 2513.42999 2556.1675  2591.2675\n",
      "  2547.3225 ]\n",
      " [2598.15875 2630.59499 2513.42999 2556.1675  2591.2675  2547.3225\n",
      "  2479.05499]\n",
      " [2630.59499 2513.42999 2556.1675  2591.2675  2547.3225  2479.05499\n",
      "  2424.69875]\n",
      " [2513.42999 2556.1675  2591.2675  2547.3225  2479.05499 2424.69875\n",
      "  2513.74125]\n",
      " [2556.1675  2591.2675  2547.3225  2479.05499 2424.69875 2513.74125\n",
      "  2640.06125]\n",
      " [2591.2675  2547.3225  2479.05499 2424.69875 2513.74125 2640.06125\n",
      "  2588.67875]\n",
      " [2547.3225  2479.05499 2424.69875 2513.74125 2640.06125 2588.67875\n",
      "  2634.17375]\n",
      " [2479.05499 2424.69875 2513.74125 2640.06125 2588.67875 2634.17375\n",
      "  2598.57   ]\n",
      " [2424.69875 2513.74125 2640.06125 2588.67875 2634.17375 2598.57\n",
      "  2514.3625 ]\n",
      " [2513.74125 2640.06125 2588.67875 2634.17375 2598.57    2514.3625\n",
      "  2586.0425 ]\n",
      " [2640.06125 2588.67875 2634.17375 2598.57    2514.3625  2586.0425\n",
      "  2524.12624]\n",
      " [2588.67875 2634.17375 2598.57    2514.3625  2586.0425  2524.12624\n",
      "  2352.265  ]\n",
      " [2634.17375 2598.57    2514.3625  2586.0425  2524.12624 2352.265\n",
      "  2292.91375]\n",
      " [2598.57    2514.3625  2586.0425  2524.12624 2352.265   2292.91375\n",
      "  2437.55375]\n",
      " [2514.3625  2586.0425  2524.12624 2352.265   2292.91375 2437.55375\n",
      "  2337.67875]\n",
      " [2586.0425  2524.12624 2352.265   2292.91375 2437.55375 2337.67875\n",
      "  2109.37375]\n",
      " [2524.12624 2352.265   2292.91375 2437.55375 2337.67875 2109.37375\n",
      "  2045.5725 ]\n",
      " [2352.265   2292.91375 2437.55375 2337.67875 2109.37375 2045.5725\n",
      "  1986.9425 ]\n",
      " [2292.91375 2437.55375 2337.67875 2109.37375 2045.5725  1986.9425\n",
      "  2189.23999]\n",
      " [2437.55375 2337.67875 2109.37375 2045.5725  1986.9425  2189.23999\n",
      "  2354.8925 ]\n",
      " [2337.67875 2109.37375 2045.5725  1986.9425  2189.23999 2354.8925\n",
      "  2349.355  ]\n",
      " [2109.37375 2045.5725  1986.9425  2189.23999 2354.8925  2349.355\n",
      "  2740.56875]\n",
      " [2045.5725  1986.9425  2189.23999 2354.8925  2349.355   2740.56875\n",
      "  2738.775  ]\n",
      " [1986.9425  2189.23999 2354.8925  2349.355   2740.56875 2738.775\n",
      "  2831.67875]\n",
      " [2189.23999 2354.8925  2349.355   2740.56875 2738.775   2831.67875\n",
      "  2772.3675 ]\n",
      " [2354.8925  2349.355   2740.56875 2738.775   2831.67875 2772.3675\n",
      "  2768.8025 ]\n",
      " [2349.355   2740.56875 2738.775   2831.67875 2772.3675  2768.8025\n",
      "  2540.20874]\n",
      " [2740.56875 2738.775   2831.67875 2772.3675  2768.8025  2540.20874\n",
      "  2570.195  ]\n",
      " [2738.775   2831.67875 2772.3675  2768.8025  2540.20874 2570.195\n",
      "  2699.72125]\n",
      " [2831.67875 2772.3675  2768.8025  2540.20874 2570.195   2699.72125\n",
      "  2719.69   ]\n",
      " [2772.3675  2768.8025  2540.20874 2570.195   2699.72125 2719.69\n",
      "  2714.70375]\n",
      " [2768.8025  2540.20874 2570.195   2699.72125 2719.69    2714.70375\n",
      "  2718.6175 ]\n",
      " [2540.20874 2570.195   2699.72125 2719.69    2714.70375 2718.6175\n",
      "  2867.65375]\n",
      " [2570.195   2699.72125 2719.69    2714.70375 2718.6175  2867.65375\n",
      "  2739.70875]\n",
      " [2699.72125 2719.69    2714.70375 2718.6175  2867.65375 2739.70875\n",
      "  2740.07125]\n",
      " [2719.69    2714.70375 2718.6175  2867.65375 2739.70875 2740.07125\n",
      "  2811.71   ]\n",
      " [2714.70375 2718.6175  2867.65375 2739.70875 2740.07125 2811.71\n",
      "  3123.41125]\n",
      " [2718.6175  2867.65375 2739.70875 2740.07125 2811.71    3123.41125\n",
      "  3254.71   ]\n",
      " [2867.65375 2739.70875 2740.07125 2811.71    3123.41125 3254.71\n",
      "  3274.6375 ]\n",
      " [2739.70875 2740.07125 2811.71    3123.41125 3254.71    3274.6375\n",
      "  3474.7625 ]\n",
      " [2740.07125 2811.71    3123.41125 3254.71    3274.6375  3474.7625\n",
      "  3416.185  ]\n",
      " [2811.71    3123.41125 3254.71    3274.6375  3474.7625  3416.185\n",
      "  3364.41125]\n",
      " [3123.41125 3254.71    3274.6375  3474.7625  3416.185   3364.41125\n",
      "  3451.8525 ]\n",
      " [3254.71    3274.6375  3474.7625  3416.185   3364.41125 3451.8525\n",
      "  3705.43   ]\n",
      " [3274.6375  3474.7625  3416.185   3364.41125 3451.8525  3705.43\n",
      "  4104.015  ]\n",
      " [3474.7625  3416.185   3364.41125 3451.8525  3705.43    4104.015\n",
      "  4036.7575 ]], shape=(128, 7), dtype=float64)\n",
      "tf.Tensor(\n",
      "[[ 3416.185    3364.41125  3451.8525   3705.43     4104.015    4036.7575\n",
      "   4462.67625]\n",
      " [ 3364.41125  3451.8525   3705.43     4104.015    4036.7575   4462.67625\n",
      "   4118.9025 ]\n",
      " [ 3451.8525   3705.43     4104.015    4036.7575   4462.67625  4118.9025\n",
      "   4322.42125]\n",
      " [ 3705.43     4104.015    4036.7575   4462.67625  4118.9025   4322.42125\n",
      "   4311.685  ]\n",
      " [ 4104.015    4036.7575   4462.67625  4118.9025   4322.42125  4311.685\n",
      "   4180.23875]\n",
      " [ 4036.7575   4462.67625  4118.9025   4322.42125  4311.685    4180.23875\n",
      "   4139.38125]\n",
      " [ 4462.67625  4118.9025   4322.42125  4311.685    4180.23875  4139.38125\n",
      "   4110.94125]\n",
      " [ 4118.9025   4322.42125  4311.685    4180.23875  4139.38125  4110.94125\n",
      "   3911.27625]\n",
      " [ 4322.42125  4311.685    4180.23875  4139.38125  4110.94125  3911.27625\n",
      "   4162.79249]\n",
      " [ 4311.685    4180.23875  4139.38125  4110.94125  3911.27625  4162.79249\n",
      "   4178.75625]\n",
      " [ 4180.23875  4139.38125  4110.94125  3911.27625  4162.79249  4178.75625\n",
      "   4396.03125]\n",
      " [ 4139.38125  4110.94125  3911.27625  4162.79249  4178.75625  4396.03125\n",
      "   4359.9025 ]\n",
      " [ 4110.94125  3911.27625  4162.79249  4178.75625  4396.03125  4359.9025\n",
      "   4381.39625]\n",
      " [ 3911.27625  4162.79249  4178.75625  4396.03125  4359.9025   4381.39625\n",
      "   4340.46   ]\n",
      " [ 4162.79249  4178.75625  4396.03125  4359.9025   4381.39625  4340.46\n",
      "   4442.6575 ]\n",
      " [ 4178.75625  4396.03125  4359.9025   4381.39625  4340.46     4442.6575\n",
      "   4664.64375]\n",
      " [ 4396.03125  4359.9025   4381.39625  4340.46     4442.6575   4664.64375\n",
      "   4676.1425 ]\n",
      " [ 4359.9025   4381.39625  4340.46     4442.6575   4664.64375  4676.1425\n",
      "   4783.17   ]\n",
      " [ 4381.39625  4340.46     4442.6575   4664.64375  4676.1425   4783.17\n",
      "   4864.285  ]\n",
      " [ 4340.46     4442.6575   4664.64375  4676.1425   4783.17     4864.285\n",
      "   4672.56875]\n",
      " [ 4442.6575   4664.64375  4676.1425   4783.17     4864.285    4672.56875\n",
      "   4593.1825 ]\n",
      " [ 4664.64375  4676.1425   4783.17     4864.285    4672.56875  4593.1825\n",
      "   4160.535  ]\n",
      " [ 4676.1425   4783.17     4864.285    4672.56875  4593.1825   4160.535\n",
      "   4517.57   ]\n",
      " [ 4783.17     4864.285    4672.56875  4593.1825   4160.535    4517.57\n",
      "   4543.1025 ]\n",
      " [ 4864.285    4672.56875  4593.1825   4160.535    4517.57     4543.1025\n",
      "   4628.6025 ]\n",
      " [ 4672.56875  4593.1825   4160.535    4517.57     4543.1025   4628.6025\n",
      "   4280.975  ]\n",
      " [ 4593.1825   4160.535    4517.57     4543.1025   4628.6025   4280.975\n",
      "   4194.21875]\n",
      " [ 4160.535    4517.57     4543.1025   4628.6025   4280.975    4194.21875\n",
      "   4307.82625]\n",
      " [ 4517.57     4543.1025   4628.6025   4280.975    4194.21875  4307.82625\n",
      "   4295.76124]\n",
      " [ 4543.1025   4628.6025   4280.975    4194.21875  4307.82625  4295.76124\n",
      "   3944.58375]\n",
      " [ 4628.6025   4280.975    4194.21875  4307.82625  4295.76124  3944.58375\n",
      "   3817.0575 ]\n",
      " [ 4280.975    4194.21875  4307.82625  4295.76124  3944.58375  3817.0575\n",
      "   3358.10875]\n",
      " [ 4194.21875  4307.82625  4295.76124  3944.58375  3817.0575   3358.10875\n",
      "   3772.68375]\n",
      " [ 4307.82625  4295.76124  3944.58375  3817.0575   3358.10875  3772.68375\n",
      "   3608.595  ]\n",
      " [ 4295.76124  3944.58375  3817.0575   3358.10875  3772.68375  3608.595\n",
      "   3764.6175 ]\n",
      " [ 3944.58375  3817.0575   3358.10875  3772.68375  3608.595    3764.6175\n",
      "   3976.3875 ]\n",
      " [ 3817.0575   3358.10875  3772.68375  3608.595    3764.6175   3976.3875\n",
      "   3863.18625]\n",
      " [ 3358.10875  3772.68375  3608.595    3764.6175   3976.3875   3863.18625\n",
      "   3827.685  ]\n",
      " [ 3772.68375  3608.595    3764.6175   3976.3875   3863.18625  3827.685\n",
      "   3690.99125]\n",
      " [ 3608.595    3764.6175   3976.3875   3863.18625  3827.685    3690.99125\n",
      "   3612.1625 ]\n",
      " [ 3764.6175   3976.3875   3863.18625  3827.685    3690.99125  3612.1625\n",
      "   3772.8475 ]\n",
      " [ 3976.3875   3863.18625  3827.685    3690.99125  3612.1625   3772.8475\n",
      "   3753.435  ]\n",
      " [ 3863.18625  3827.685    3690.99125  3612.1625   3772.8475   3753.435\n",
      "   3920.99125]\n",
      " [ 3827.685    3690.99125  3612.1625   3772.8475   3753.435    3920.99125\n",
      "   3939.515  ]\n",
      " [ 3690.99125  3612.1625   3772.8475   3753.435    3920.99125  3939.515\n",
      "   4220.28   ]\n",
      " [ 3612.1625   3772.8475   3753.435    3920.99125  3939.515    4220.28\n",
      "   4062.20375]\n",
      " [ 3772.8475   3753.435    3920.99125  3939.515    4220.28     4062.20375\n",
      "   4207.825  ]\n",
      " [ 3753.435    3920.99125  3939.515    4220.28     4062.20375  4207.825\n",
      "   4300.55125]\n",
      " [ 3920.99125  3939.515    4220.28     4062.20375  4207.825    4300.55125\n",
      "   4414.1775 ]\n",
      " [ 3939.515    4220.28     4062.20375  4207.825    4300.55125  4414.1775\n",
      "   4424.4725 ]\n",
      " [ 4220.28     4062.20375  4207.825    4300.55125  4414.1775   4424.4725\n",
      "   4307.555  ]\n",
      " [ 4062.20375  4207.825    4300.55125  4414.1775   4424.4725   4307.555\n",
      "   4186.78374]\n",
      " [ 4207.825    4300.55125  4414.1775   4424.4725   4307.555    4186.78374\n",
      "   4325.23625]\n",
      " [ 4300.55125  4414.1775   4424.4725   4307.555    4186.78374  4325.23625\n",
      "   4370.16875]\n",
      " [ 4414.1775   4424.4725   4307.555    4186.78374  4325.23625  4370.16875\n",
      "   4446.17249]\n",
      " [ 4424.4725   4307.555    4186.78374  4325.23625  4370.16875  4446.17249\n",
      "   4624.34875]\n",
      " [ 4307.555    4186.78374  4325.23625  4370.16875  4446.17249  4624.34875\n",
      "   4789.30125]\n",
      " [ 4186.78374  4325.23625  4370.16875  4446.17249  4624.34875  4789.30125\n",
      "   4741.70875]\n",
      " [ 4325.23625  4370.16875  4446.17249  4624.34875  4789.30125  4741.70875\n",
      "   4858.60499]\n",
      " [ 4370.16875  4446.17249  4624.34875  4789.30125  4741.70875  4858.60499\n",
      "   5728.5475 ]\n",
      " [ 4446.17249  4624.34875  4789.30125  4741.70875  4858.60499  5728.5475\n",
      "   5666.97875]\n",
      " [ 4624.34875  4789.30125  4741.70875  4858.60499  5728.5475   5666.97875\n",
      "   5779.07375]\n",
      " [ 4789.30125  4741.70875  4858.60499  5728.5475   5666.97875  5779.07375\n",
      "   5607.01   ]\n",
      " [ 4741.70875  4858.60499  5728.5475   5666.97875  5779.07375  5607.01\n",
      "   5643.55375]\n",
      " [ 4858.60499  5728.5475   5666.97875  5779.07375  5607.01     5643.55375\n",
      "   5495.03875]\n",
      " [ 5728.5475   5666.97875  5779.07375  5607.01     5643.55375  5495.03875\n",
      "   5627.08625]\n",
      " [ 5666.97875  5779.07375  5607.01     5643.55375  5495.03875  5627.08625\n",
      "   5686.52625]\n",
      " [ 5779.07375  5607.01     5643.55375  5495.03875  5627.08625  5686.52625\n",
      "   6098.115  ]\n",
      " [ 5607.01     5643.55375  5495.03875  5627.08625  5686.52625  6098.115\n",
      "   5949.07875]\n",
      " [ 5643.55375  5495.03875  5627.08625  5686.52625  6098.115    5949.07875\n",
      "   5969.795  ]\n",
      " [ 5495.03875  5627.08625  5686.52625  6098.115    5949.07875  5969.795\n",
      "   5649.005  ]\n",
      " [ 5627.08625  5686.52625  6098.115    5949.07875  5969.795    5649.005\n",
      "   5550.85875]\n",
      " [ 5686.52625  6098.115    5949.07875  5969.795    5649.005    5550.85875\n",
      "   5776.87875]\n",
      " [ 6098.115    5949.07875  5969.795    5649.005    5550.85875  5776.87875\n",
      "   5923.70625]\n",
      " [ 5949.07875  5969.795    5649.005    5550.85875  5776.87875  5923.70625\n",
      "   5737.1025 ]\n",
      " [ 5969.795    5649.005    5550.85875  5776.87875  5923.70625  5737.1025\n",
      "   5741.7225 ]\n",
      " [ 5649.005    5550.85875  5776.87875  5923.70625  5737.1025   5741.7225\n",
      "   6151.325  ]\n",
      " [ 5550.85875  5776.87875  5923.70625  5737.1025   5741.7225   6151.325\n",
      "   6130.56375]\n",
      " [ 5776.87875  5923.70625  5737.1025   5741.7225   6151.325    6130.56375\n",
      "   6424.515  ]\n",
      " [ 5923.70625  5737.1025   5741.7225   6151.325    6130.56375  6424.515\n",
      "   6879.365  ]\n",
      " [ 5737.1025   5741.7225   6151.325    6130.56375  6424.515    6879.365\n",
      "   7199.2375 ]\n",
      " [ 5741.7225   6151.325    6130.56375  6424.515    6879.365    7199.2375\n",
      "   7210.46875]\n",
      " [ 6151.325    6130.56375  6424.515    6879.365    7199.2375   7210.46875\n",
      "   7376.7425 ]\n",
      " [ 6130.56375  6424.515    6879.365    7199.2375   7210.46875  7376.7425\n",
      "   7231.93   ]\n",
      " [ 6424.515    6879.365    7199.2375   7210.46875  7376.7425   7231.93\n",
      "   7123.89375]\n",
      " [ 6879.365    7199.2375   7210.46875  7376.7425   7231.93     7123.89375\n",
      "   7356.50625]\n",
      " [ 7199.2375   7210.46875  7376.7425   7231.93     7123.89375  7356.50625\n",
      "   7342.82375]\n",
      " [ 7210.46875  7376.7425   7231.93     7123.89375  7356.50625  7342.82375\n",
      "   7250.77   ]\n",
      " [ 7376.7425   7231.93     7123.89375  7356.50625  7342.82375  7250.77\n",
      "   6773.695  ]\n",
      " [ 7231.93     7123.89375  7356.50625  7342.82375  7250.77     6773.695\n",
      "   6075.30125]\n",
      " [ 7123.89375  7356.50625  7342.82375  7250.77     6773.695    6075.30125\n",
      "   5969.13   ]\n",
      " [ 7356.50625  7342.82375  7250.77     6773.695    6075.30125  5969.13\n",
      "   6666.27125]\n",
      " [ 7342.82375  7250.77     6773.695    6075.30125  5969.13     6666.27125\n",
      "   6867.42625]\n",
      " [ 7250.77     6773.695    6075.30125  5969.13     6666.27125  6867.42625\n",
      "   7259.3    ]\n",
      " [ 6773.695    6075.30125  5969.13     6666.27125  6867.42625  7259.3\n",
      "   7924.1825 ]\n",
      " [ 6075.30125  5969.13     6666.27125  6867.42625  7259.3      7924.1825\n",
      "   7598.2775 ]\n",
      " [ 5969.13     6666.27125  6867.42625  7259.3      7924.1825   7598.2775\n",
      "   7787.45625]\n",
      " [ 6666.27125  6867.42625  7259.3      7924.1825   7598.2775   7787.45625\n",
      "   7954.7675 ]\n",
      " [ 6867.42625  7259.3      7924.1825   7598.2775   7787.45625  7954.7675\n",
      "   7879.06   ]\n",
      " [ 7259.3      7924.1825   7598.2775   7787.45625  7954.7675   7879.06\n",
      "   8150.6325 ]\n",
      " [ 7924.1825   7598.2775   7787.45625  7954.7675   7879.06     8150.6325\n",
      "   8208.75375]\n",
      " [ 7598.2775   7787.45625  7954.7675   7879.06     8150.6325   8208.75375\n",
      "   8094.445  ]\n",
      " [ 7787.45625  7954.7675   7879.06     8150.6325   8208.75375  8094.445\n",
      "   8190.87125]\n",
      " [ 7954.7675   7879.06     8150.6325   8208.75375  8094.445    8190.87125\n",
      "   8851.305  ]\n",
      " [ 7879.06     8150.6325   8208.75375  8094.445    8190.87125  8851.305\n",
      "   9573.9675 ]\n",
      " [ 8150.6325   8208.75375  8094.445    8190.87125  8851.305    9573.9675\n",
      "   9713.09625]\n",
      " [ 8208.75375  8094.445    8190.87125  8851.305    9573.9675   9713.09625\n",
      "  10295.6225 ]\n",
      " [ 8094.445    8190.87125  8851.305    9573.9675   9713.09625 10295.6225\n",
      "  10542.6625 ]\n",
      " [ 8190.87125  8851.305    9573.9675   9713.09625 10295.6225  10542.6625\n",
      "   9706.10375]\n",
      " [ 8851.305    9573.9675   9713.09625 10295.6225  10542.6625   9706.10375\n",
      "  10923.20125]\n",
      " [ 9573.9675   9713.09625 10295.6225  10542.6625   9706.10375 10923.20125\n",
      "  10973.54375]\n",
      " [ 9713.09625 10295.6225  10542.6625   9706.10375 10923.20125 10973.54375\n",
      "  11382.20875]\n",
      " [10295.6225  10542.6625   9706.10375 10923.20125 10973.54375 11382.20875\n",
      "  11597.23125]\n",
      " [10542.6625   9706.10375 10923.20125 10973.54375 11382.20875 11597.23125\n",
      "  12230.365  ]\n",
      " [ 9706.10375 10923.20125 10973.54375 11382.20875 11597.23125 12230.365\n",
      "  13734.52   ]\n",
      " [10923.20125 10973.54375 11382.20875 11597.23125 12230.365   13734.52\n",
      "  16403.42125]\n",
      " [10973.54375 11382.20875 11597.23125 12230.365   13734.52    16403.42125\n",
      "  15732.1    ]\n",
      " [11382.20875 11597.23125 12230.365   13734.52    16403.42125 15732.1\n",
      "  13152.52875]\n",
      " [11597.23125 12230.365   13734.52    16403.42125 15732.1     13152.52875\n",
      "  16299.2975 ]\n",
      " [12230.365   13734.52    16403.42125 15732.1     13152.52875 16299.2975\n",
      "  16374.8975 ]\n",
      " [13734.52    16403.42125 15732.1     13152.52875 16299.2975  16374.8975\n",
      "  16678.28749]\n",
      " [16403.42125 15732.1     13152.52875 16299.2975  16374.8975  16678.28749\n",
      "  16246.13875]\n",
      " [15732.1     13152.52875 16299.2975  16374.8975  16678.28749 16246.13875\n",
      "  17221.65125]\n",
      " [13152.52875 16299.2975  16374.8975  16678.28749 16246.13875 17221.65125\n",
      "  17436.5975 ]\n",
      " [16299.2975  16374.8975  16678.28749 16246.13875 17221.65125 17436.5975\n",
      "  19166.97874]\n",
      " [16374.8975  16678.28749 16246.13875 17221.65125 17436.5975  19166.97874\n",
      "  18640.2625 ]\n",
      " [16678.28749 16246.13875 17221.65125 17436.5975  19166.97874 18640.2625\n",
      "  18984.7675 ]\n",
      " [16246.13875 17221.65125 17436.5975  19166.97874 18640.2625  18984.7675\n",
      "  16862.57125]], shape=(128, 7), dtype=float64)\n",
      "tf.Tensor(\n",
      "[[17221.65125 17436.5975  19166.97874 18640.2625  18984.7675  16862.57125\n",
      "  16925.0175 ]\n",
      " [17436.5975  19166.97874 18640.2625  18984.7675  16862.57125 16925.0175\n",
      "  14182.46499]\n",
      " [19166.97874 18640.2625  18984.7675  16862.57125 16925.0175  14182.46499\n",
      "  14694.5825 ]\n",
      " [18640.2625  18984.7675  16862.57125 16925.0175  14182.46499 14694.5825\n",
      "  14103.21875]\n",
      " [18984.7675  16862.57125 16925.0175  14182.46499 14694.5825  14103.21875\n",
      "  13387.34875]\n",
      " [16862.57125 16925.0175  14182.46499 14694.5825  14103.21875 13387.34875\n",
      "  14652.3675 ]\n",
      " [16925.0175  14182.46499 14694.5825  14103.21875 13387.34875 14652.3675\n",
      "  15846.07375]\n",
      " [14182.46499 14694.5825  14103.21875 13387.34875 14652.3675  15846.07375\n",
      "  14362.40375]\n",
      " [14694.5825  14103.21875 13387.34875 14652.3675  15846.07375 14362.40375\n",
      "  14867.5725 ]\n",
      " [14103.21875 13387.34875 14652.3675  15846.07375 14362.40375 14867.5725\n",
      "  13643.695  ]\n",
      " [13387.34875 14652.3675  15846.07375 14362.40375 14867.5725  13643.695\n",
      "  13062.145  ]\n",
      " [14652.3675  15846.07375 14362.40375 14867.5725  13643.695   13062.145\n",
      "  13439.4175 ]\n",
      " [15846.07375 14362.40375 14867.5725  13643.695   13062.145   13439.4175\n",
      "  13337.62125]\n",
      " [14362.40375 14867.5725  13643.695   13062.145   13439.4175  13337.62125\n",
      "  14881.545  ]\n",
      " [14867.5725  13643.695   13062.145   13439.4175  13337.62125 14881.545\n",
      "  15104.45   ]\n",
      " [13643.695   13062.145   13439.4175  13337.62125 14881.545   15104.45\n",
      "  14953.8525 ]\n",
      " [13062.145   13439.4175  13337.62125 14881.545   15104.45    14953.8525\n",
      "  16576.69625]\n",
      " [13439.4175  13337.62125 14881.545   15104.45    14953.8525  16576.69625\n",
      "  16735.10625]\n",
      " [13337.62125 14881.545   15104.45    14953.8525  16576.69625 16735.10625\n",
      "  15632.41125]\n",
      " [14881.545   15104.45    14953.8525  16576.69625 16735.10625 15632.41125\n",
      "  15242.93625]\n",
      " [15104.45    14953.8525  16576.69625 16735.10625 15632.41125 15242.93625\n",
      "  14122.825  ]\n",
      " [14953.8525  16576.69625 16735.10625 15632.41125 15242.93625 14122.825\n",
      "  13269.5975 ]\n",
      " [16576.69625 16735.10625 15632.41125 15242.93625 14122.825   13269.5975\n",
      "  13633.36375]\n",
      " [16735.10625 15632.41125 15242.93625 14122.825   13269.5975  13633.36375\n",
      "  14165.90625]\n",
      " [15632.41125 15242.93625 14122.825   13269.5975  13633.36375 14165.90625\n",
      "  14217.3625 ]\n",
      " [15242.93625 14122.825   13269.5975  13633.36375 14165.90625 14217.3625\n",
      "  13519.92625]\n",
      " [14122.825   13269.5975  13633.36375 14165.90625 14217.3625  13519.92625\n",
      "  12915.11625]\n",
      " [13269.5975  13633.36375 14165.90625 14217.3625  13519.92625 12915.11625\n",
      "  10870.16875]\n",
      " [13633.36375 14165.90625 14217.3625  13519.92625 12915.11625 10870.16875\n",
      "  11340.65   ]\n",
      " [14165.90625 14217.3625  13519.92625 12915.11625 10870.16875 11340.65\n",
      "  11137.36875]\n",
      " [14217.3625  13519.92625 12915.11625 10870.16875 11340.65    11137.36875\n",
      "  11742.94125]\n",
      " [13519.92625 12915.11625 10870.16875 11340.65    11137.36875 11742.94125\n",
      "  12486.06625]\n",
      " [12915.11625 10870.16875 11340.65    11137.36875 11742.94125 12486.06625\n",
      "  11508.62   ]\n",
      " [10870.16875 11340.65    11137.36875 11742.94125 12486.06625 11508.62\n",
      "  10872.9025 ]\n",
      " [11340.65    11137.36875 11742.94125 12486.06625 11508.62    10872.9025\n",
      "  10830.9275 ]\n",
      " [11137.36875 11742.94125 12486.06625 11508.62    10872.9025  10830.9275\n",
      "  11629.375  ]\n",
      " [11742.94125 12486.06625 11508.62    10872.9025  10830.9275  11629.375\n",
      "  11524.345  ]\n",
      " [12486.06625 11508.62    10872.9025  10830.9275  11629.375   11524.345\n",
      "  11005.615  ]\n",
      " [11508.62    10872.9025  10830.9275  11629.375   11524.345   11005.615\n",
      "  11452.23   ]\n",
      " [10872.9025  10830.9275  11629.375   11524.345   11005.615   11452.23\n",
      "  11412.79375]\n",
      " [10830.9275  11629.375   11524.345   11005.615   11452.23    11412.79375\n",
      "  10917.15125]\n",
      " [11629.375   11524.345   11005.615   11452.23    11412.79375 10917.15125\n",
      "   9914.4725 ]\n",
      " [11524.345   11005.615   11452.23    11412.79375 10917.15125  9914.4725\n",
      "   9970.30875]\n",
      " [11005.615   11452.23    11412.79375 10917.15125  9914.4725   9970.30875\n",
      "   8715.59499]\n",
      " [11452.23    11412.79375 10917.15125  9914.4725   9970.30875  8715.59499\n",
      "   8285.50124]\n",
      " [11412.79375 10917.15125  9914.4725   9970.30875  8715.59499  8285.50124\n",
      "   9192.045  ]\n",
      " [10917.15125  9914.4725   9970.30875  8715.59499  8285.50124  9192.045\n",
      "   8136.39   ]\n",
      " [ 9914.4725   9970.30875  8715.59499  8285.50124  9192.045    8136.39\n",
      "   6332.37   ]\n",
      " [ 9970.30875  8715.59499  8285.50124  9192.045    8136.39     6332.37\n",
      "   7270.5075 ]\n",
      " [ 8715.59499  8285.50124  9192.045    8136.39     6332.37     7270.5075\n",
      "   7987.28125]\n",
      " [ 8285.50124  9192.045    8136.39     6332.37     7270.5075   7987.28125\n",
      "   8086.7725 ]\n",
      " [ 9192.045    8136.39     6332.37     7270.5075   7987.28125  8086.7725\n",
      "   8930.13875]\n",
      " [ 8136.39     6332.37     7270.5075   7987.28125  8086.7725   8930.13875\n",
      "   8045.44   ]\n",
      " [ 6332.37     7270.5075   7987.28125  8086.7725   8930.13875  8045.44\n",
      "   8478.92499]\n",
      " [ 7270.5075   7987.28125  8086.7725   8930.13875  8045.44     8478.92499\n",
      "   8766.8525 ]\n",
      " [ 7987.28125  8086.7725   8930.13875  8045.44     8478.92499  8766.8525\n",
      "   8693.2525 ]\n",
      " [ 8086.7725   8930.13875  8045.44     8478.92499  8766.8525   8693.2525\n",
      "   9659.2875 ]\n",
      " [ 8930.13875  8045.44     8478.92499  8766.8525   8693.2525   9659.2875\n",
      "  10110.83875]\n",
      " [ 8045.44     8478.92499  8766.8525   8693.2525   9659.2875  10110.83875\n",
      "  10474.77125]\n",
      " [ 8478.92499  8766.8525   8693.2525   9659.2875  10110.83875 10474.77125\n",
      "  10855.9375 ]\n",
      " [ 8766.8525   8693.2525   9659.2875  10110.83875 10474.77125 10855.9375\n",
      "  10537.00625]\n",
      " [ 8693.2525   9659.2875  10110.83875 10474.77125 10855.9375  10537.00625\n",
      "  11416.03875]\n",
      " [ 9659.2875  10110.83875 10474.77125 10855.9375  10537.00625 11416.03875\n",
      "  10928.02   ]\n",
      " [10110.83875 10474.77125 10855.9375  10537.00625 11416.03875 10928.02\n",
      "  10727.9525 ]\n",
      " [10474.77125 10855.9375  10537.00625 11416.03875 10928.02    10727.9525\n",
      "   9809.72125]\n",
      " [10855.9375  10537.00625 11416.03875 10928.02    10727.9525   9809.72125\n",
      "  10412.36875]\n",
      " [10537.00625 11416.03875 10928.02    10727.9525   9809.72125 10412.36875\n",
      "   9585.285  ]\n",
      " [11416.03875 10928.02    10727.9525   9809.72125 10412.36875  9585.285\n",
      "   9627.71625]\n",
      " [10928.02    10727.9525   9809.72125 10412.36875  9585.285    9627.71625\n",
      "  10272.9025 ]\n",
      " [10727.9525   9809.72125 10412.36875  9585.285    9627.71625 10272.9025\n",
      "  10903.01875]\n",
      " [ 9809.72125 10412.36875  9585.285    9627.71625 10272.9025  10903.01875\n",
      "  10352.04625]\n",
      " [10412.36875  9585.285    9627.71625 10272.9025  10903.01875 10352.04625\n",
      "  11100.2925 ]\n",
      " [ 9585.285    9627.71625 10272.9025  10903.01875 10352.04625 11100.2925\n",
      "  11305.1225 ]\n",
      " [ 9627.71625 10272.9025  10903.01875 10352.04625 11100.2925  11305.1225\n",
      "  11171.8175 ]\n",
      " [10272.9025  10903.01875 10352.04625 11100.2925  11305.1225  11171.8175\n",
      "  11558.475  ]\n",
      " [10903.01875 10352.04625 11100.2925  11305.1225  11171.8175  11558.475\n",
      "  11246.7475 ]\n",
      " [10352.04625 11100.2925  11305.1225  11171.8175  11558.475   11246.7475\n",
      "  10735.88625]\n",
      " [11100.2925  11305.1225  11171.8175  11558.475   11246.7475  10735.88625\n",
      "   9552.75875]\n",
      " [11305.1225  11171.8175  11558.475   11246.7475  10735.88625  9552.75875\n",
      "   8980.19249]\n",
      " [11171.8175  11558.475   11246.7475  10735.88625  9552.75875  8980.19249\n",
      "   9251.2925 ]\n",
      " [11558.475   11246.7475  10735.88625  9552.75875  8980.19249  9251.2925\n",
      "   8680.6075 ]\n",
      " [11246.7475  10735.88625  9552.75875  8980.19249  9251.2925   8680.6075\n",
      "   9433.47374]\n",
      " [10735.88625  9552.75875  8980.19249  9251.2925   8680.6075   9433.47374\n",
      "   9047.5125 ]\n",
      " [ 9552.75875  8980.19249  9251.2925   8680.6075   9433.47374  9047.5125\n",
      "   9260.70875]\n",
      " [ 8980.19249  9251.2925   8680.6075   9433.47374  9047.5125   9260.70875\n",
      "   7895.98875]\n",
      " [ 9251.2925   8680.6075   9433.47374  9047.5125   9260.70875  7895.98875\n",
      "   8039.6025 ]\n",
      " [ 8680.6075   9433.47374  9047.5125   9260.70875  7895.98875  8039.6025\n",
      "   8206.555  ]\n",
      " [ 9433.47374  9047.5125   9260.70875  7895.98875  8039.6025   8206.555\n",
      "   7667.99   ]\n",
      " [ 9047.5125   9260.70875  7895.98875  8039.6025   8206.555    7667.99\n",
      "   8189.49125]\n",
      " [ 9260.70875  7895.98875  8039.6025   8206.555    7667.99     8189.49125\n",
      "   8597.3375 ]\n",
      " [ 7895.98875  8039.6025   8206.555    7667.99     8189.49125  8597.3375\n",
      "   9028.2975 ]\n",
      " [ 8039.6025   8206.555    7667.99     8189.49125  8597.3375   9028.2975\n",
      "   9023.7175 ]\n",
      " [ 8206.555    7667.99     8189.49125  8597.3375   9028.2975   9023.7175\n",
      "   8411.6525 ]\n",
      " [ 7667.99     8189.49125  8597.3375   9028.2975   9023.7175   8411.6525\n",
      "   8881.98625]\n",
      " [ 8189.49125  8597.3375   9028.2975   9023.7175   8411.6525   8881.98625\n",
      "   8548.8125 ]\n",
      " [ 8597.3375   9028.2975   9023.7175   8411.6525   8881.98625  8548.8125\n",
      "   8429.33124]\n",
      " [ 9028.2975   9023.7175   8411.6525   8881.98625  8548.8125   8429.33124\n",
      "   7854.6375 ]\n",
      " [ 9023.7175   8411.6525   8881.98625  8548.8125   8429.33124  7854.6375\n",
      "   7863.255  ]\n",
      " [ 8411.6525   8881.98625  8548.8125   8429.33124  7854.6375   7863.255\n",
      "   7866.36   ]\n",
      " [ 8881.98625  8548.8125   8429.33124  7854.6375   7863.255    7866.36\n",
      "   6861.325  ]\n",
      " [ 8548.8125   8429.33124  7854.6375   7863.255    7866.36     6861.325\n",
      "   6970.36375]\n",
      " [ 8429.33124  7854.6375   7863.255    7866.36     6861.325    6970.36375\n",
      "   6926.875  ]\n",
      " [ 7854.6375   7863.255    7866.36     6861.325    6970.36375  6926.875\n",
      "   6986.835  ]\n",
      " [ 7863.255    7866.36     6861.325    6970.36375  6926.875    6986.835\n",
      "   7182.12   ]\n",
      " [ 7866.36     6861.325    6970.36375  6926.875    6986.835    7182.12\n",
      "   7295.89   ]\n",
      " [ 6861.325    6970.36375  6926.875    6986.835    7182.12     7295.89\n",
      "   6769.48375]\n",
      " [ 6970.36375  6926.875    6986.835    7182.12     7295.89     6769.48375\n",
      "   6766.5925 ]\n",
      " [ 6926.875    6986.835    7182.12     7295.89     6769.48375  6766.5925\n",
      "   6854.92125]\n",
      " [ 6986.835    7182.12     7295.89     6769.48375  6766.5925   6854.92125\n",
      "   6964.4325 ]\n",
      " [ 7182.12     7295.89     6769.48375  6766.5925   6854.92125  6964.4325\n",
      "   7125.53875]\n",
      " [ 7295.89     6769.48375  6766.5925   6854.92125  6964.4325   7125.53875\n",
      "   6789.2675 ]\n",
      " [ 6769.48375  6766.5925   6854.92125  6964.4325   7125.53875  6789.2675\n",
      "   6824.49375]\n",
      " [ 6766.5925   6854.92125  6964.4325   7125.53875  6789.2675   6824.49375\n",
      "   6941.63875]\n",
      " [ 6854.92125  6964.4325   7125.53875  6789.2675   6824.49375  6941.63875\n",
      "   7823.55875]\n",
      " [ 6964.4325   7125.53875  6789.2675   6824.49375  6941.63875  7823.55875\n",
      "   8040.88125]\n",
      " [ 7125.53875  6789.2675   6824.49375  6941.63875  7823.55875  8040.88125\n",
      "   8083.57375]\n",
      " [ 6789.2675   6824.49375  6941.63875  7823.55875  8040.88125  8083.57375\n",
      "   8160.4125 ]\n",
      " [ 6824.49375  6941.63875  7823.55875  8040.88125  8083.57375  8160.4125\n",
      "   8030.57   ]\n",
      " [ 6941.63875  7823.55875  8040.88125  8083.57375  8160.4125   8030.57\n",
      "   7937.61   ]\n",
      " [ 7823.55875  8040.88125  8083.57375  8160.4125   8030.57     7937.61\n",
      "   8188.71875]\n",
      " [ 8040.88125  8083.57375  8160.4125   8030.57     7937.61     8188.71875\n",
      "   8333.81374]\n",
      " [ 8083.57375  8160.4125   8030.57     7937.61     8188.71875  8333.81374\n",
      "   8866.67   ]\n",
      " [ 8160.4125   8030.57     7937.61     8188.71875  8333.81374  8866.67\n",
      "   8830.05875]\n",
      " [ 8030.57     7937.61     8188.71875  8333.81374  8866.67     8830.05875\n",
      "   8868.16124]\n",
      " [ 7937.61     8188.71875  8333.81374  8866.67     8830.05875  8868.16124\n",
      "   9191.82   ]\n",
      " [ 8188.71875  8333.81374  8866.67     8830.05875  8868.16124  9191.82\n",
      "   9373.3025 ]\n",
      " [ 8333.81374  8866.67     8830.05875  8868.16124  9191.82     9373.3025\n",
      "   8807.515  ]\n",
      " [ 8866.67     8830.05875  8868.16124  9191.82     9373.3025   8807.515\n",
      "   9153.64125]], shape=(128, 7), dtype=float64)\n",
      "tf.Tensor(\n",
      "[[8830.05875    8868.16124    9191.82       9373.3025     8807.515\n",
      "  9153.64125    9144.38375   ]\n",
      " [8868.16124    9191.82       9373.3025     8807.515      9153.64125\n",
      "  9144.38375    9444.1425    ]\n",
      " [9191.82       9373.3025     8807.515      9153.64125    9144.38375\n",
      "  9444.1425     9268.7175    ]\n",
      " [9373.3025     8807.515      9153.64125    9144.38375    9444.1425\n",
      "  9268.7175     8949.87624   ]\n",
      " [8807.515      9153.64125    9144.38375    9444.1425     9268.7175\n",
      "  8949.87624    9029.47875   ]\n",
      " [9153.64125    9144.38375    9444.1425     9268.7175     8949.87624\n",
      "  9029.47875    9228.8525    ]\n",
      " [9144.38375    9444.1425     9268.7175     8949.87624    9029.47875\n",
      "  9228.8525     9572.69875   ]\n",
      " [9444.1425     9268.7175     8949.87624    9029.47875    9228.8525\n",
      "  9572.69875    9817.5975    ]\n",
      " [9268.7175     8949.87624    9029.47875    9228.8525     9572.69875\n",
      "  9817.5975     9845.54375   ]\n",
      " [8949.87624    9029.47875    9228.8525     9572.69875    9817.5975\n",
      "  9845.54375    9326.76125   ]\n",
      " [9029.47875    9228.8525     9572.69875    9817.5975     9845.54375\n",
      "  9326.76125    9424.99124   ]\n",
      " [9228.8525     9572.69875    9817.5975     9845.54375    9326.76125\n",
      "  9424.99124    9039.02875   ]\n",
      " [9572.69875    9817.5975     9845.54375    9326.76125    9424.99124\n",
      "  9039.02875    9327.04999   ]\n",
      " [9817.5975     9845.54375    9326.76125    9424.99124    9039.02875\n",
      "  9327.04999    8920.25625   ]\n",
      " [9845.54375    9326.76125    9424.99124    9039.02875    9327.04999\n",
      "  8920.25625    8408.35875   ]\n",
      " [9326.76125    9424.99124    9039.02875    9327.04999    8920.25625\n",
      "  8408.35875    8442.23875   ]\n",
      " [9424.99124    9039.02875    9327.04999    8920.25625    8408.35875\n",
      "  8442.23875    8398.86249   ]\n",
      " [9039.02875    9327.04999    8920.25625    8408.35875    8442.23875\n",
      "  8398.86249    8711.38875   ]\n",
      " [9327.04999    8920.25625    8408.35875    8442.23875    8398.86249\n",
      "  8711.38875    8159.25625   ]\n",
      " [8920.25625    8408.35875    8442.23875    8398.86249    8711.38875\n",
      "  8159.25625    8360.22875   ]\n",
      " [8408.35875    8442.23875    8398.86249    8711.38875    8159.25625\n",
      "  8360.22875    7996.82125   ]\n",
      " [8442.23875    8398.86249    8711.38875    8159.25625    8360.22875\n",
      "  7996.82125    8237.3425    ]\n",
      " [8398.86249    8711.38875    8159.25625    8360.22875    7996.82125\n",
      "  8237.3425     8250.395     ]\n",
      " [8711.38875    8159.25625    8360.22875    7996.82125    8237.3425\n",
      "  8250.395      8493.13125   ]\n",
      " [8159.25625    8360.22875    7996.82125    8237.3425     8250.395\n",
      "  8493.13125    8324.025     ]\n",
      " [8360.22875    7996.82125    8237.3425     8250.395      8493.13125\n",
      "  8324.025      7951.51375   ]\n",
      " [7996.82125    8237.3425     8250.395      8493.13125    8324.025\n",
      "  7951.51375    7614.96375   ]\n",
      " [8237.3425     8250.395      8493.13125    8324.025      7951.51375\n",
      "  7614.96375    7599.9525    ]\n",
      " [8250.395      8493.13125    8324.025      7951.51375    7614.96375\n",
      "  7599.9525     7436.835     ]\n",
      " [8493.13125    8324.025      7951.51375    7614.96375    7599.9525\n",
      "  7436.835      7296.79625   ]\n",
      " [8324.025      7951.51375    7614.96375    7599.9525     7436.835\n",
      "  7296.79625    7383.2175    ]\n",
      " [7951.51375    7614.96375    7599.9525     7436.835      7296.79625\n",
      "  7383.2175     7118.42375   ]\n",
      " [7614.96375    7599.9525     7436.835      7296.79625    7383.2175\n",
      "  7118.42375    7491.61125   ]\n",
      " [7599.9525     7436.835      7296.79625    7383.2175     7118.42375\n",
      "  7491.61125    7363.27625   ]\n",
      " [7436.835      7296.79625    7383.2175     7118.42375    7491.61125\n",
      "  7363.27625    7490.62125   ]\n",
      " [7296.79625    7383.2175     7118.42375    7491.61125    7363.27625\n",
      "  7490.62125    7518.33332893]\n",
      " [7383.2175     7118.42375    7491.61125    7363.27625    7490.62125\n",
      "  7518.33332893 7630.40338816]\n",
      " [7118.42375    7491.61125    7363.27625    7490.62125    7518.33332893\n",
      "  7630.40338816 7716.14506806]\n",
      " [7491.61125    7363.27625    7490.62125    7518.33332893 7630.40338816\n",
      "  7716.14506806 7505.58927693]\n",
      " [7363.27625    7490.62125    7518.33332893 7630.40338816 7716.14506806\n",
      "  7505.58927693 7624.18797056]\n",
      " [7490.62125    7518.33332893 7630.40338816 7716.14506806 7505.58927693\n",
      "  7624.18797056 7658.57      ]\n",
      " [7518.33332893 7630.40338816 7716.14506806 7505.58927693 7624.18797056\n",
      "  7658.57       7684.93      ]\n",
      " [7630.40338816 7716.14506806 7505.58927693 7624.18797056 7658.57\n",
      "  7684.93       7618.11      ]\n",
      " [7716.14506806 7505.58927693 7624.18797056 7658.57       7684.93\n",
      "  7618.11       7495.1       ]\n",
      " [7505.58927693 7624.18797056 7658.57       7684.93       7618.11\n",
      "  7495.1        6770.31      ]\n",
      " [7624.18797056 7658.57       7684.93       7618.11       7495.1\n",
      "  6770.31       6780.34080267]\n",
      " [7658.57       7684.93       7618.11       7495.1        6770.31\n",
      "  6780.34080267 6525.32918161]\n",
      " [7684.93       7618.11       7495.1        6770.31       6780.34080267\n",
      "  6525.32918161 6321.65596478]\n",
      " [7618.11       7495.1        6770.31       6780.34080267 6525.32918161\n",
      "  6321.65596478 6601.32415774]\n",
      " [7495.1        6770.31       6780.34080267 6525.32918161 6321.65596478\n",
      "  6601.32415774 6397.44116994]\n",
      " [6770.31       6780.34080267 6525.32918161 6321.65596478 6601.32415774\n",
      "  6397.44116994 6529.54401499]\n",
      " [6780.34080267 6525.32918161 6321.65596478 6601.32415774 6397.44116994\n",
      "  6529.54401499 6482.86869686]\n",
      " [6525.32918161 6321.65596478 6601.32415774 6397.44116994 6529.54401499\n",
      "  6482.86869686 6711.64966998]\n",
      " [6321.65596478 6601.32415774 6397.44116994 6529.54401499 6482.86869686\n",
      "  6711.64966998 6731.71014664]\n",
      " [6601.32415774 6397.44116994 6529.54401499 6482.86869686 6711.64966998\n",
      "  6731.71014664 6736.86772124]\n",
      " [6397.44116994 6529.54401499 6482.86869686 6711.64966998 6731.71014664\n",
      "  6736.86772124 6729.92593695]\n",
      " [6529.54401499 6482.86869686 6711.64966998 6731.71014664 6736.86772124\n",
      "  6729.92593695 6099.44527734]\n",
      " [6482.86869686 6711.64966998 6731.71014664 6736.86772124 6729.92593695\n",
      "  6099.44527734 6198.70082359]\n",
      " [6711.64966998 6731.71014664 6736.86772124 6729.92593695 6099.44527734\n",
      "  6198.70082359 6142.39256971]\n",
      " [6731.71014664 6736.86772124 6729.92593695 6099.44527734 6198.70082359\n",
      "  6142.39256971 6244.32845497]\n",
      " [6736.86772124 6729.92593695 6099.44527734 6198.70082359 6142.39256971\n",
      "  6244.32845497 6148.42270541]\n",
      " [6729.92593695 6099.44527734 6198.70082359 6142.39256971 6244.32845497\n",
      "  6148.42270541 6140.19149955]\n",
      " [6099.44527734 6198.70082359 6142.39256971 6244.32845497 6148.42270541\n",
      "  6140.19149955 5954.52658181]\n",
      " [6198.70082359 6142.39256971 6244.32845497 6148.42270541 6140.19149955\n",
      "  5954.52658181 6189.30925194]\n",
      " [6142.39256971 6244.32845497 6148.42270541 6140.19149955 5954.52658181\n",
      "  6189.30925194 6343.89219996]\n",
      " [6244.32845497 6148.42270541 6140.19149955 5954.52658181 6189.30925194\n",
      "  6343.89219996 6373.27785412]\n",
      " [6148.42270541 6140.19149955 5954.52658181 6189.30925194 6343.89219996\n",
      "  6373.27785412 6629.74959485]\n",
      " [6140.19149955 5954.52658181 6189.30925194 6343.89219996 6373.27785412\n",
      "  6629.74959485 6482.83059363]\n",
      " [5954.52658181 6189.30925194 6343.89219996 6373.27785412 6629.74959485\n",
      "  6482.83059363 6589.63279301]\n",
      " [6189.30925194 6343.89219996 6373.27785412 6629.74959485 6482.83059363\n",
      "  6589.63279301 6538.68243234]\n",
      " [6343.89219996 6373.27785412 6629.74959485 6482.83059363 6589.63279301\n",
      "  6538.68243234 6596.53      ]\n",
      " [6373.27785412 6629.74959485 6482.83059363 6589.63279301 6538.68243234\n",
      "  6596.53       6570.4275921 ]\n",
      " [6629.74959485 6482.83059363 6589.63279301 6538.68243234 6596.53\n",
      "  6570.4275921  6744.98867917]\n",
      " [6482.83059363 6589.63279301 6538.68243234 6596.53       6570.4275921\n",
      "  6744.98867917 6694.53085108]\n",
      " [6589.63279301 6538.68243234 6596.53       6570.4275921  6744.98867917\n",
      "  6694.53085108 6364.3875896 ]\n",
      " [6538.68243234 6596.53       6570.4275921  6744.98867917 6694.53085108\n",
      "  6364.3875896  6360.4466682 ]\n",
      " [6596.53       6570.4275921  6744.98867917 6694.53085108 6364.3875896\n",
      "  6360.4466682  6144.81011795]\n",
      " [6570.4275921  6744.98867917 6694.53085108 6364.3875896  6360.4466682\n",
      "  6144.81011795 6215.59      ]\n",
      " [6744.98867917 6694.53085108 6364.3875896  6360.4466682  6144.81011795\n",
      "  6215.59       6254.67812918]\n",
      " [6694.53085108 6364.3875896  6360.4466682  6144.81011795 6215.59\n",
      "  6254.67812918 6366.34990356]\n",
      " [6364.3875896  6360.4466682  6144.81011795 6215.59       6254.67812918\n",
      "  6366.34990356 6671.62591907]\n",
      " [6360.4466682  6144.81011795 6215.59       6254.67812918 6366.34990356\n",
      "  6671.62591907 7315.55104034]\n",
      " [6144.81011795 6215.59       6254.67812918 6366.34990356 6671.62591907\n",
      "  7315.55104034 7359.73701834]\n",
      " [6215.59       6254.67812918 6366.34990356 6671.62591907 7315.55104034\n",
      "  7359.73701834 7484.63967039]\n",
      " [6254.67812918 6366.34990356 6671.62591907 7315.55104034 7359.73701834\n",
      "  7484.63967039 7357.44567732]\n",
      " [6366.34990356 6671.62591907 7315.55104034 7359.73701834 7484.63967039\n",
      "  7357.44567732 7424.73423781]\n",
      " [6671.62591907 7315.55104034 7359.73701834 7484.63967039 7357.44567732\n",
      "  7424.73423781 7411.20052473]\n",
      " [7315.55104034 7359.73701834 7484.63967039 7357.44567732 7424.73423781\n",
      "  7411.20052473 7730.24747981]\n",
      " [7359.73701834 7484.63967039 7357.44567732 7424.73423781 7411.20052473\n",
      "  7730.24747981 8325.80153367]\n",
      " [7484.63967039 7357.44567732 7424.73423781 7411.20052473 7730.24747981\n",
      "  8325.80153367 8271.59791968]\n",
      " [7357.44567732 7424.73423781 7411.20052473 7730.24747981 8325.80153367\n",
      "  8271.59791968 7925.24739588]\n",
      " [7424.73423781 7411.20052473 7730.24747981 8325.80153367 8271.59791968\n",
      "  7925.24739588 8254.27734834]\n",
      " [7411.20052473 7730.24747981 8325.80153367 8271.59791968 7925.24739588\n",
      "  8254.27734834 8184.69553517]\n",
      " [7730.24747981 8325.80153367 8271.59791968 7925.24739588 8254.27734834\n",
      "  8184.69553517 8201.89008995]\n",
      " [8325.80153367 8271.59791968 7925.24739588 8254.27734834 8184.69553517\n",
      "  8201.89008995 8166.3883602 ]\n",
      " [8271.59791968 7925.24739588 8254.27734834 8184.69553517 8201.89008995\n",
      "  8166.3883602  7700.83412852]\n",
      " [7925.24739588 8254.27734834 8184.69553517 8201.89008995 8166.3883602\n",
      "  7700.83412852 7588.58618022]\n",
      " [8254.27734834 8184.69553517 8201.89008995 8166.3883602  7700.83412852\n",
      "  7588.58618022 7547.31495051]\n",
      " [8184.69553517 8201.89008995 8166.3883602  7700.83412852 7588.58618022\n",
      "  7547.31495051 7423.07437799]\n",
      " [8201.89008995 8166.3883602  7700.83412852 7588.58618022 7547.31495051\n",
      "  7423.07437799 7396.04112154]\n",
      " [8166.3883602  7700.83412852 7588.58618022 7547.31495051 7423.07437799\n",
      "  7396.04112154 7411.51529936]\n",
      " [7700.83412852 7588.58618022 7547.31495051 7423.07437799 7396.04112154\n",
      "  7411.51529936 7402.33663374]\n",
      " [7588.58618022 7547.31495051 7423.07437799 7396.04112154 7411.51529936\n",
      "  7402.33663374 6748.44148418]\n",
      " [7547.31495051 7423.07437799 7396.04112154 7411.51529936 7402.33663374\n",
      "  6748.44148418 6460.15315501]\n",
      " [7423.07437799 7396.04112154 7411.51529936 7402.33663374 6748.44148418\n",
      "  6460.15315501 6482.97344876]\n",
      " [7396.04112154 7411.51529936 7402.33663374 6748.44148418 6460.15315501\n",
      "  6482.97344876 6092.53310366]\n",
      " [7411.51529936 7402.33663374 6748.44148418 6460.15315501 6482.97344876\n",
      "  6092.53310366 6391.59925837]\n",
      " [7402.33663374 6748.44148418 6460.15315501 6482.97344876 6092.53310366\n",
      "  6391.59925837 6338.73895675]\n",
      " [6748.44148418 6460.15315501 6482.97344876 6092.53310366 6391.59925837\n",
      "  6338.73895675 6260.19299503]\n",
      " [6460.15315501 6482.97344876 6092.53310366 6391.59925837 6338.73895675\n",
      "  6260.19299503 6123.44760061]\n",
      " [6482.97344876 6092.53310366 6391.59925837 6338.73895675 6260.19299503\n",
      "  6123.44760061 6332.60689993]\n",
      " [6092.53310366 6391.59925837 6338.73895675 6260.19299503 6123.44760061\n",
      "  6332.60689993 6273.88806954]\n",
      " [6391.59925837 6338.73895675 6260.19299503 6123.44760061 6332.60689993\n",
      "  6273.88806954 6566.5952834 ]\n",
      " [6338.73895675 6260.19299503 6123.44760061 6332.60689993 6273.88806954\n",
      "  6566.5952834  6396.94636862]\n",
      " [6260.19299503 6123.44760061 6332.60689993 6273.88806954 6566.5952834\n",
      "  6396.94636862 6516.66838214]\n",
      " [6123.44760061 6332.60689993 6273.88806954 6566.5952834  6396.94636862\n",
      "  6516.66838214 6299.39533313]\n",
      " [6332.60689993 6273.88806954 6566.5952834  6396.94636862 6516.66838214\n",
      "  6299.39533313 6470.73356665]\n",
      " [6273.88806954 6566.5952834  6396.94636862 6516.66838214 6299.39533313\n",
      "  6470.73356665 6355.88180885]\n",
      " [6566.5952834  6396.94636862 6516.66838214 6299.39533313 6470.73356665\n",
      "  6355.88180885 6503.83236196]\n",
      " [6396.94636862 6516.66838214 6299.39533313 6470.73356665 6355.88180885\n",
      "  6503.83236196 6675.36068278]\n",
      " [6516.66838214 6299.39533313 6470.73356665 6355.88180885 6503.83236196\n",
      "  6675.36068278 6725.03232699]\n",
      " [6299.39533313 6470.73356665 6355.88180885 6503.83236196 6675.36068278\n",
      "  6725.03232699 6689.8226826 ]\n",
      " [6470.73356665 6355.88180885 6503.83236196 6675.36068278 6725.03232699\n",
      "  6689.8226826  6756.62892587]\n",
      " [6355.88180885 6503.83236196 6675.36068278 6725.03232699 6689.8226826\n",
      "  6756.62892587 7084.29361674]\n",
      " [6503.83236196 6675.36068278 6725.03232699 6689.8226826  6756.62892587\n",
      "  7084.29361674 7059.23123526]\n",
      " [6675.36068278 6725.03232699 6689.8226826  6756.62892587 7084.29361674\n",
      "  7059.23123526 6938.9145823 ]\n",
      " [6725.03232699 6689.8226826  6756.62892587 7084.29361674 7059.23123526\n",
      "  6938.9145823  7028.44731157]\n",
      " [6689.8226826  6756.62892587 7084.29361674 7059.23123526 6938.9145823\n",
      "  7028.44731157 7198.05843623]], shape=(128, 7), dtype=float64)\n",
      "tf.Tensor(\n",
      "[[6756.62892587 7084.29361674 7059.23123526 6938.9145823  7028.44731157\n",
      "  7198.05843623 7282.85851383]\n",
      " [7084.29361674 7059.23123526 6938.9145823  7028.44731157 7198.05843623\n",
      "  7282.85851383 7260.25159256]\n",
      " [7059.23123526 6938.9145823  7028.44731157 7198.05843623 7282.85851383\n",
      "  7260.25159256 7361.27186424]\n",
      " [6938.9145823  7028.44731157 7198.05843623 7282.85851383 7260.25159256\n",
      "  7361.27186424 6913.11501294]\n",
      " [7028.44731157 7198.05843623 7282.85851383 7260.25159256 7361.27186424\n",
      "  6913.11501294 6471.49388365]\n",
      " [7198.05843623 7282.85851383 7260.25159256 7361.27186424 6913.11501294\n",
      "  6471.49388365 6400.26870566]\n",
      " [7282.85851383 7260.25159256 7361.27186424 6913.11501294 6471.49388365\n",
      "  6400.26870566 6181.74420696]\n",
      " [7260.25159256 7361.27186424 6913.11501294 6471.49388365 6400.26870566\n",
      "  6181.74420696 6253.93720134]\n",
      " [7361.27186424 6913.11501294 6471.49388365 6400.26870566 6181.74420696\n",
      "  6253.93720134 6275.08313218]\n",
      " [6913.11501294 6471.49388365 6400.26870566 6181.74420696 6253.93720134\n",
      "  6275.08313218 6275.66958827]\n",
      " [6471.49388365 6400.26870566 6181.74420696 6253.93720134 6275.08313218\n",
      "  6275.66958827 6277.49440913]\n",
      " [6400.26870566 6181.74420696 6253.93720134 6275.08313218 6275.66958827\n",
      "  6277.49440913 6283.18419982]\n",
      " [6181.74420696 6253.93720134 6275.08313218 6275.66958827 6277.49440913\n",
      "  6283.18419982 6285.98246631]\n",
      " [6253.93720134 6275.08313218 6275.66958827 6277.49440913 6283.18419982\n",
      "  6285.98246631 6280.31010688]\n",
      " [6275.08313218 6275.66958827 6277.49440913 6283.18419982 6285.98246631\n",
      "  6280.31010688 6281.40935565]\n",
      " [6275.66958827 6277.49440913 6283.18419982 6285.98246631 6280.31010688\n",
      "  6281.40935565 6273.22008256]\n",
      " [6277.49440913 6283.18419982 6285.98246631 6280.31010688 6281.40935565\n",
      "  6273.22008256 6278.59548618]\n",
      " [6283.18419982 6285.98246631 6280.31010688 6281.40935565 6273.22008256\n",
      "  6278.59548618 6282.61072659]\n",
      " [6285.98246631 6280.31010688 6281.40935565 6273.22008256 6278.59548618\n",
      "  6282.61072659 6288.0701703 ]\n",
      " [6280.31010688 6281.40935565 6273.22008256 6278.59548618 6282.61072659\n",
      "  6288.0701703  6317.69968502]\n",
      " [6281.40935565 6273.22008256 6278.59548618 6282.61072659 6288.0701703\n",
      "  6317.69968502 6293.83642084]\n",
      " [6273.22008256 6278.59548618 6282.61072659 6288.0701703  6317.69968502\n",
      "  6293.83642084 6289.62132698]\n",
      " [6278.59548618 6282.61072659 6288.0701703  6317.69968502 6293.83642084\n",
      "  6289.62132698 6466.99456391]\n",
      " [6282.61072659 6288.0701703  6317.69968502 6293.83642084 6289.62132698\n",
      "  6466.99456391 6391.38598059]\n",
      " [6288.0701703  6317.69968502 6293.83642084 6289.62132698 6466.99456391\n",
      "  6391.38598059 6509.77662125]\n",
      " [6317.69968502 6293.83642084 6289.62132698 6466.99456391 6391.38598059\n",
      "  6509.77662125 6698.41604688]\n",
      " [6293.83642084 6289.62132698 6466.99456391 6391.38598059 6509.77662125\n",
      "  6698.41604688 6502.68815132]\n",
      " [6289.62132698 6466.99456391 6391.38598059 6509.77662125 6698.41604688\n",
      "  6502.68815132 6576.6143197 ]\n",
      " [6466.99456391 6391.38598059 6509.77662125 6698.41604688 6502.68815132\n",
      "  6576.6143197  6647.38794673]\n",
      " [6391.38598059 6509.77662125 6698.41604688 6502.68815132 6576.6143197\n",
      "  6647.38794673 6603.75434205]\n",
      " [6509.77662125 6698.41604688 6502.68815132 6576.6143197  6647.38794673\n",
      "  6603.75434205 6576.35422894]\n",
      " [6698.41604688 6502.68815132 6576.6143197  6647.38794673 6603.75434205\n",
      "  6576.35422894 6481.24577033]\n",
      " [6502.68815132 6576.6143197  6647.38794673 6603.75434205 6576.35422894\n",
      "  6481.24577033 6594.93578579]\n",
      " [6576.6143197  6647.38794673 6603.75434205 6576.35422894 6481.24577033\n",
      "  6594.93578579 6630.57529707]\n",
      " [6647.38794673 6603.75434205 6576.35422894 6481.24577033 6594.93578579\n",
      "  6630.57529707 6595.26032626]\n",
      " [6603.75434205 6576.35422894 6481.24577033 6594.93578579 6630.57529707\n",
      "  6595.26032626 6591.68631834]\n",
      " [6576.35422894 6481.24577033 6594.93578579 6630.57529707 6595.26032626\n",
      "  6591.68631834 6662.86849956]\n",
      " [6481.24577033 6594.93578579 6630.57529707 6595.26032626 6591.68631834\n",
      "  6662.86849956 6663.02107075]\n",
      " [6594.93578579 6630.57529707 6595.26032626 6591.68631834 6662.86849956\n",
      "  6663.02107075 6619.49584514]\n",
      " [6630.57529707 6595.26032626 6591.68631834 6662.86849956 6663.02107075\n",
      "  6619.49584514 6285.85920264]\n",
      " [6595.26032626 6591.68631834 6662.86849956 6663.02107075 6619.49584514\n",
      "  6285.85920264 6309.1989214 ]\n",
      " [6591.68631834 6662.86849956 6663.02107075 6619.49584514 6285.85920264\n",
      "  6309.1989214  6331.13115408]\n",
      " [6662.86849956 6663.02107075 6619.49584514 6285.85920264 6309.1989214\n",
      "  6331.13115408 6361.41701627]\n",
      " [6663.02107075 6619.49584514 6285.85920264 6309.1989214  6331.13115408\n",
      "  6361.41701627 6721.58750328]\n",
      " [6619.49584514 6285.85920264 6309.1989214  6331.13115408 6361.41701627\n",
      "  6721.58750328 6724.8330779 ]\n",
      " [6285.85920264 6309.1989214  6331.13115408 6361.41701627 6721.58750328\n",
      "  6724.8330779  6444.74700959]\n",
      " [6309.1989214  6331.13115408 6361.41701627 6721.58750328 6724.8330779\n",
      "  6444.74700959 6374.64886255]\n",
      " [6331.13115408 6361.41701627 6721.58750328 6724.8330779  6444.74700959\n",
      "  6374.64886255 6372.68681707]\n",
      " [6361.41701627 6721.58750328 6724.8330779  6444.74700959 6374.64886255\n",
      "  6372.68681707 6407.47908491]\n",
      " [6721.58750328 6724.8330779  6444.74700959 6374.64886255 6372.68681707\n",
      "  6407.47908491 6412.53049073]\n",
      " [6724.8330779  6444.74700959 6374.64886255 6372.68681707 6407.47908491\n",
      "  6412.53049073 6396.88015425]\n",
      " [6444.74700959 6374.64886255 6372.68681707 6407.47908491 6412.53049073\n",
      "  6396.88015425 6396.25232404]\n",
      " [6374.64886255 6372.68681707 6407.47908491 6412.53049073 6396.88015425\n",
      "  6396.25232404 6407.66717523]\n",
      " [6372.68681707 6407.47908491 6412.53049073 6396.88015425 6396.25232404\n",
      "  6407.66717523 6405.50072582]\n",
      " [6407.47908491 6412.53049073 6396.88015425 6396.25232404 6407.66717523\n",
      "  6405.50072582 6392.17933738]\n",
      " [6412.53049073 6396.88015425 6396.25232404 6407.66717523 6405.50072582\n",
      "  6392.17933738 6436.35548393]\n",
      " [6396.88015425 6396.25232404 6407.66717523 6405.50072582 6392.17933738\n",
      "  6436.35548393 6429.68714143]\n",
      " [6396.25232404 6407.66717523 6405.50072582 6392.17933738 6436.35548393\n",
      "  6429.68714143 6266.18968272]\n",
      " [6407.66717523 6405.50072582 6392.17933738 6436.35548393 6429.68714143\n",
      "  6266.18968272 6276.46449972]\n",
      " [6405.50072582 6392.17933738 6436.35548393 6429.68714143 6266.18968272\n",
      "  6276.46449972 6321.71367131]\n",
      " [6392.17933738 6436.35548393 6429.68714143 6266.18968272 6276.46449972\n",
      "  6321.71367131 6341.09481265]\n",
      " [6436.35548393 6429.68714143 6266.18968272 6276.46449972 6321.71367131\n",
      "  6341.09481265 6360.14127192]\n",
      " [6429.68714143 6266.18968272 6276.46449972 6321.71367131 6341.09481265\n",
      "  6360.14127192 6344.73894294]\n",
      " [6266.18968272 6276.46449972 6321.71367131 6341.09481265 6360.14127192\n",
      "  6344.73894294 6405.13975468]\n",
      " [6276.46449972 6321.71367131 6341.09481265 6360.14127192 6344.73894294\n",
      "  6405.13975468 6396.35212354]\n",
      " [6321.71367131 6341.09481265 6360.14127192 6344.73894294 6405.13975468\n",
      "  6396.35212354 6425.91780182]\n",
      " [6341.09481265 6360.14127192 6344.73894294 6405.13975468 6396.35212354\n",
      "  6425.91780182 6514.48945274]\n",
      " [6360.14127192 6344.73894294 6405.13975468 6396.35212354 6425.91780182\n",
      "  6514.48945274 6412.52428906]\n",
      " [6344.73894294 6405.13975468 6396.35212354 6425.91780182 6514.48945274\n",
      "  6412.52428906 6343.63250376]\n",
      " [6405.13975468 6396.35212354 6425.91780182 6514.48945274 6412.52428906\n",
      "  6343.63250376 6365.65523152]\n",
      " [6396.35212354 6425.91780182 6514.48945274 6412.52428906 6343.63250376\n",
      "  6365.65523152 6327.4806461 ]\n",
      " [6425.91780182 6514.48945274 6412.52428906 6343.63250376 6365.65523152\n",
      "  6327.4806461  6327.15469606]\n",
      " [6514.48945274 6412.52428906 6343.63250376 6365.65523152 6327.4806461\n",
      "  6327.15469606 6282.43867716]\n",
      " [6412.52428906 6343.63250376 6365.65523152 6327.4806461  6327.15469606\n",
      "  6282.43867716 5524.80109342]\n",
      " [6343.63250376 6365.65523152 6327.4806461  6327.15469606 6282.43867716\n",
      "  5524.80109342 5511.15283353]\n",
      " [6365.65523152 6327.4806461  6327.15469606 6282.43867716 5524.80109342\n",
      "  5511.15283353 5448.60063357]\n",
      " [6327.4806461  6327.15469606 6282.43867716 5524.80109342 5511.15283353\n",
      "  5448.60063357 5497.41127873]\n",
      " [6327.15469606 6282.43867716 5524.80109342 5511.15283353 5448.60063357\n",
      "  5497.41127873 5553.01489501]\n",
      " [6282.43867716 5524.80109342 5511.15283353 5448.60063357 5497.41127873\n",
      "  5553.01489501 4800.34289746]\n",
      " [5524.80109342 5511.15283353 5448.60063357 5497.41127873 5553.01489501\n",
      "  4800.34289746 4246.31277406]\n",
      " [5511.15283353 5448.60063357 5497.41127873 5553.01489501 4800.34289746\n",
      "  4246.31277406 4478.29955829]\n",
      " [5448.60063357 5497.41127873 5553.01489501 4800.34289746 4246.31277406\n",
      "  4478.29955829 4405.74403136]\n",
      " [5497.41127873 5553.01489501 4800.34289746 4246.31277406 4478.29955829\n",
      "  4405.74403136 4329.91722032]\n",
      " [5553.01489501 4800.34289746 4246.31277406 4478.29955829 4405.74403136\n",
      "  4329.91722032 3728.87264849]\n",
      " [4800.34289746 4246.31277406 4478.29955829 4405.74403136 4329.91722032\n",
      "  3728.87264849 3951.20502915]\n",
      " [4246.31277406 4478.29955829 4405.74403136 4329.91722032 3728.87264849\n",
      "  3951.20502915 3640.5571648 ]\n",
      " [4478.29955829 4405.74403136 4329.91722032 3728.87264849 3951.20502915\n",
      "  3640.5571648  3792.19236412]\n",
      " [4405.74403136 4329.91722032 3728.87264849 3951.20502915 3640.5571648\n",
      "  3792.19236412 4174.31997237]\n",
      " [4329.91722032 3728.87264849 3951.20502915 3640.5571648  3792.19236412\n",
      "  4174.31997237 4218.60836311]\n",
      " [3728.87264849 3951.20502915 3640.5571648  3792.19236412 4174.31997237\n",
      "  4218.60836311 3952.4478954 ]\n",
      " [3951.20502915 3640.5571648  3792.19236412 4174.31997237 4218.60836311\n",
      "  3952.4478954  4178.60382773]\n",
      " [3640.5571648  3792.19236412 4174.31997237 4218.60836311 3952.4478954\n",
      "  4178.60382773 4118.51824177]\n",
      " [3792.19236412 4174.31997237 4218.60836311 3952.4478954  4178.60382773\n",
      "  4118.51824177 3847.03273741]\n",
      " [4174.31997237 4218.60836311 3952.4478954  4178.60382773 4118.51824177\n",
      "  3847.03273741 3889.29211969]\n",
      " [4218.60836311 3952.4478954  4178.60382773 4118.51824177 3847.03273741\n",
      "  3889.29211969 3713.57338275]\n",
      " [3952.4478954  4178.60382773 4118.51824177 3847.03273741 3889.29211969\n",
      "  3713.57338275 3578.20662404]\n",
      " [4178.60382773 4118.51824177 3847.03273741 3889.29211969 3713.57338275\n",
      "  3578.20662404 3391.87414597]\n",
      " [4118.51824177 3847.03273741 3889.29211969 3713.57338275 3578.20662404\n",
      "  3391.87414597 3452.61618539]\n",
      " [3847.03273741 3889.29211969 3713.57338275 3578.20662404 3391.87414597\n",
      "  3452.61618539 3507.3063672 ]\n",
      " [3889.29211969 3713.57338275 3578.20662404 3391.87414597 3452.61618539\n",
      "  3507.3063672  3419.73376846]\n",
      " [3713.57338275 3578.20662404 3391.87414597 3452.61618539 3507.3063672\n",
      "  3419.73376846 3360.94662826]\n",
      " [3578.20662404 3391.87414597 3452.61618539 3507.3063672  3419.73376846\n",
      "  3360.94662826 3414.83374883]\n",
      " [3391.87414597 3452.61618539 3507.3063672  3419.73376846 3360.94662826\n",
      "  3414.83374883 3263.54791299]\n",
      " [3452.61618539 3507.3063672  3419.73376846 3360.94662826 3414.83374883\n",
      "  3263.54791299 3212.20708073]\n",
      " [3507.3063672  3419.73376846 3360.94662826 3414.83374883 3263.54791299\n",
      "  3212.20708073 3194.96227244]\n",
      " [3419.73376846 3360.94662826 3414.83374883 3263.54791299 3212.20708073\n",
      "  3194.96227244 3200.64246809]\n",
      " [3360.94662826 3414.83374883 3263.54791299 3212.20708073 3194.96227244\n",
      "  3200.64246809 3478.46120265]\n",
      " [3414.83374883 3263.54791299 3212.20708073 3194.96227244 3200.64246809\n",
      "  3478.46120265 3562.89494636]\n",
      " [3263.54791299 3212.20708073 3194.96227244 3200.64246809 3478.46120265\n",
      "  3562.89494636 3709.31675921]\n",
      " [3212.20708073 3194.96227244 3200.64246809 3478.46120265 3562.89494636\n",
      "  3709.31675921 4065.79995285]\n",
      " [3194.96227244 3200.64246809 3478.46120265 3562.89494636 3709.31675921\n",
      "  4065.79995285 3824.73979391]\n",
      " [3200.64246809 3478.46120265 3562.89494636 3709.31675921 4065.79995285\n",
      "  3824.73979391 3862.72632865]\n",
      " [3478.46120265 3562.89494636 3709.31675921 4065.79995285 3824.73979391\n",
      "  3862.72632865 3949.79434166]\n",
      " [3562.89494636 3709.31675921 4065.79995285 3824.73979391 3862.72632865\n",
      "  3949.79434166 4054.29625982]\n",
      " [3709.31675921 4065.79995285 3824.73979391 3862.72632865 3949.79434166\n",
      "  4054.29625982 3767.3500239 ]\n",
      " [4065.79995285 3824.73979391 3862.72632865 3949.79434166 4054.29625982\n",
      "  3767.3500239  3807.15302247]\n",
      " [3824.73979391 3862.72632865 3949.79434166 4054.29625982 3767.3500239\n",
      "  3807.15302247 3587.19822292]\n",
      " [3862.72632865 3949.79434166 4054.29625982 3767.3500239  3807.15302247\n",
      "  3587.19822292 3865.52930044]\n",
      " [3949.79434166 4054.29625982 3767.3500239  3807.15302247 3587.19822292\n",
      "  3865.52930044 3725.48      ]\n",
      " [4054.29625982 3767.3500239  3807.15302247 3587.19822292 3865.52930044\n",
      "  3725.48       3832.4       ]\n",
      " [3767.3500239  3807.15302247 3587.19822292 3865.52930044 3725.48\n",
      "  3832.4        3689.56462034]\n",
      " [3807.15302247 3587.19822292 3865.52930044 3725.48       3832.4\n",
      "  3689.56462034 3715.56444113]\n",
      " [3587.19822292 3865.52930044 3725.48       3832.4        3689.56462034\n",
      "  3715.56444113 3882.30475435]\n",
      " [3865.52930044 3725.48       3832.4        3689.56462034 3715.56444113\n",
      "  3882.30475435 3795.5927413 ]\n",
      " [3725.48       3832.4        3689.56462034 3715.56444113 3882.30475435\n",
      "  3795.5927413  3812.38110768]\n",
      " [3832.4        3689.56462034 3715.56444113 3882.30475435 3795.5927413\n",
      "  3812.38110768 3809.91434296]\n",
      " [3689.56462034 3715.56444113 3882.30475435 3795.5927413  3812.38110768\n",
      "  3809.91434296 4014.13318707]\n",
      " [3715.56444113 3882.30475435 3795.5927413  3812.38110768 3809.91434296\n",
      "  4014.13318707 3989.63174093]], shape=(128, 7), dtype=float64)\n",
      "tf.Tensor(\n",
      "[[3882.30475435 3795.5927413  3812.38110768 3809.91434296 4014.13318707\n",
      "  3989.63174093 3992.98614391]\n",
      " [3795.5927413  3812.38110768 3809.91434296 4014.13318707 3989.63174093\n",
      "  3992.98614391 3995.32519316]\n",
      " [3812.38110768 3809.91434296 4014.13318707 3989.63174093 3992.98614391\n",
      "  3995.32519316 3617.34629116]\n",
      " [3809.91434296 4014.13318707 3989.63174093 3992.98614391 3995.32519316\n",
      "  3617.34629116 3606.16489038]\n",
      " [4014.13318707 3989.63174093 3992.98614391 3995.32519316 3617.34629116\n",
      "  3606.16489038 3611.52823785]\n",
      " [3989.63174093 3992.98614391 3995.32519316 3617.34629116 3606.16489038\n",
      "  3611.52823785 3497.6693915 ]\n",
      " [3992.98614391 3995.32519316 3617.34629116 3606.16489038 3611.52823785\n",
      "  3497.6693915  3654.34706736]\n",
      " [3995.32519316 3617.34629116 3606.16489038 3611.52823785 3497.6693915\n",
      "  3654.34706736 3568.75125874]\n",
      " [3617.34629116 3606.16489038 3611.52823785 3497.6693915  3654.34706736\n",
      "  3568.75125874 3593.72173977]\n",
      " [3606.16489038 3611.52823785 3497.6693915  3654.34706736 3568.75125874\n",
      "  3593.72173977 3623.7173367 ]\n",
      " [3611.52823785 3497.6693915  3654.34706736 3568.75125874 3593.72173977\n",
      "  3623.7173367  3605.85518688]\n",
      " [3497.6693915  3654.34706736 3568.75125874 3593.72173977 3623.7173367\n",
      "  3605.85518688 3690.90856369]\n",
      " [3654.34706736 3568.75125874 3593.72173977 3623.7173367  3605.85518688\n",
      "  3690.90856369 3544.22172428]\n",
      " [3568.75125874 3593.72173977 3623.7173367  3605.85518688 3690.90856369\n",
      "  3544.22172428 3528.46352945]\n",
      " [3593.72173977 3623.7173367  3605.85518688 3690.90856369 3544.22172428\n",
      "  3528.46352945 3581.55194724]\n",
      " [3623.7173367  3605.85518688 3690.90856369 3544.22172428 3528.46352945\n",
      "  3581.55194724 3549.7707991 ]\n",
      " [3605.85518688 3690.90856369 3544.22172428 3528.46352945 3581.55194724\n",
      "  3549.7707991  3562.92047646]\n",
      " [3690.90856369 3544.22172428 3528.46352945 3581.55194724 3549.7707991\n",
      "  3562.92047646 3566.6661637 ]\n",
      " [3544.22172428 3528.46352945 3581.55194724 3549.7707991  3562.92047646\n",
      "  3566.6661637  3563.27800955]\n",
      " [3528.46352945 3581.55194724 3549.7707991  3562.92047646 3566.6661637\n",
      "  3563.27800955 3539.62094724]\n",
      " [3581.55194724 3549.7707991  3562.92047646 3566.6661637  3563.27800955\n",
      "  3539.62094724 3425.26216119]\n",
      " [3549.7707991  3562.92047646 3566.6661637  3563.27800955 3539.62094724\n",
      "  3425.26216119 3395.01864525]\n",
      " [3562.92047646 3566.6661637  3563.27800955 3539.62094724 3425.26216119\n",
      "  3395.01864525 3441.03221542]\n",
      " [3566.6661637  3563.27800955 3539.62094724 3425.26216119 3395.01864525\n",
      "  3441.03221542 3420.63322658]\n",
      " [3563.27800955 3539.62094724 3425.26216119 3395.01864525 3441.03221542\n",
      "  3420.63322658 3439.80569888]\n",
      " [3539.62094724 3425.26216119 3395.01864525 3441.03221542 3420.63322658\n",
      "  3439.80569888 3433.03528522]\n",
      " [3425.26216119 3395.01864525 3441.03221542 3420.63322658 3439.80569888\n",
      "  3433.03528522 3404.4993134 ]\n",
      " [3395.01864525 3441.03221542 3420.63322658 3439.80569888 3433.03528522\n",
      "  3404.4993134  3412.2304311 ]\n",
      " [3441.03221542 3420.63322658 3439.80569888 3433.03528522 3404.4993134\n",
      "  3412.2304311  3419.76789875]\n",
      " [3420.63322658 3439.80569888 3433.03528522 3404.4993134  3412.2304311\n",
      "  3419.76789875 3367.51903158]\n",
      " [3439.80569888 3433.03528522 3404.4993134  3412.2304311  3419.76789875\n",
      "  3367.51903158 3360.53407586]\n",
      " [3433.03528522 3404.4993134  3412.2304311  3419.76789875 3367.51903158\n",
      "  3360.53407586 3591.02215188]\n",
      " [3404.4993134  3412.2304311  3419.76789875 3367.51903158 3360.53407586\n",
      "  3591.02215188 3617.46468013]\n",
      " [3412.2304311  3419.76789875 3367.51903158 3360.53407586 3591.02215188\n",
      "  3617.46468013 3621.15400271]\n",
      " [3419.76789875 3367.51903158 3360.53407586 3591.02215188 3617.46468013\n",
      "  3621.15400271 3593.18317657]\n",
      " [3367.51903158 3360.53407586 3591.02215188 3617.46468013 3621.15400271\n",
      "  3593.18317657 3579.34188103]\n",
      " [3360.53407586 3591.02215188 3617.46468013 3621.15400271 3593.18317657\n",
      "  3579.34188103 3569.55483278]\n",
      " [3591.02215188 3617.46468013 3621.15400271 3593.18317657 3579.34188103\n",
      "  3569.55483278 3558.3968581 ]\n",
      " [3617.46468013 3621.15400271 3593.18317657 3579.34188103 3569.55483278\n",
      "  3558.3968581  3566.24776463]\n",
      " [3621.15400271 3593.18317657 3579.34188103 3569.55483278 3558.3968581\n",
      "  3566.24776463 3596.40519124]\n",
      " [3593.18317657 3579.34188103 3569.55483278 3558.3968581  3566.24776463\n",
      "  3596.40519124 3606.15198841]\n",
      " [3579.34188103 3569.55483278 3558.3968581  3566.24776463 3596.40519124\n",
      "  3606.15198841 3865.31816498]\n",
      " [3569.55483278 3558.3968581  3566.24776463 3596.40519124 3606.15198841\n",
      "  3865.31816498 3904.48292023]\n",
      " [3558.3968581  3566.24776463 3596.40519124 3606.15198841 3865.31816498\n",
      "  3904.48292023 3924.73984392]\n",
      " [3566.24776463 3596.40519124 3606.15198841 3865.31816498 3904.48292023\n",
      "  3924.73984392 3889.75848518]\n",
      " [3596.40519124 3606.15198841 3865.31816498 3904.48292023 3924.73984392\n",
      "  3889.75848518 3933.60758963]\n",
      " [3606.15198841 3865.31816498 3904.48292023 3924.73984392 3889.75848518\n",
      "  3933.60758963 4105.1127586 ]\n",
      " [3865.31816498 3904.48292023 3924.73984392 3889.75848518 3933.60758963\n",
      "  4105.1127586  3763.6205158 ]\n",
      " [3904.48292023 3924.73984392 3889.75848518 3933.60758963 4105.1127586\n",
      "  3763.6205158  3819.86534144]\n",
      " [3924.73984392 3889.75848518 3933.60758963 4105.1127586  3763.6205158\n",
      "  3819.86534144 3797.58178951]\n",
      " [3889.75848518 3933.60758963 4105.1127586  3763.6205158  3819.86534144\n",
      "  3797.58178951 3772.93633533]\n",
      " [3933.60758963 4105.1127586  3763.6205158  3819.86534144 3797.58178951\n",
      "  3772.93633533 3799.67854295]\n",
      " [4105.1127586  3763.6205158  3819.86534144 3797.58178951 3772.93633533\n",
      "  3799.67854295 3811.61197937]\n",
      " [3763.6205158  3819.86534144 3797.58178951 3772.93633533 3799.67854295\n",
      "  3811.61197937 3804.41917011]\n",
      " [3819.86534144 3797.58178951 3772.93633533 3799.67854295 3811.61197937\n",
      "  3804.41917011 3782.66410112]\n",
      " [3797.58178951 3772.93633533 3799.67854295 3811.61197937 3804.41917011\n",
      "  3782.66410112 3689.86289319]\n",
      " [3772.93633533 3799.67854295 3811.61197937 3804.41917011 3782.66410112\n",
      "  3689.86289319 3832.08088473]\n",
      " [3799.67854295 3811.61197937 3804.41917011 3782.66410112 3689.86289319\n",
      "  3832.08088473 3848.95636968]\n",
      " [3811.61197937 3804.41917011 3782.66410112 3689.86289319 3832.08088473\n",
      "  3848.95636968 3859.83998333]\n",
      " [3804.41917011 3782.66410112 3689.86289319 3832.08088473 3848.95636968\n",
      "  3859.83998333 3828.37190407]\n",
      " [3782.66410112 3689.86289319 3832.08088473 3848.95636968 3859.83998333\n",
      "  3828.37190407 3898.86845956]\n",
      " [3689.86289319 3832.08088473 3848.95636968 3859.83998333 3828.37190407\n",
      "  3898.86845956 3899.65586896]\n",
      " [3832.08088473 3848.95636968 3859.83998333 3828.37190407 3898.86845956\n",
      "  3899.65586896 3851.24918965]\n",
      " [3848.95636968 3859.83998333 3828.37190407 3898.86845956 3899.65586896\n",
      "  3851.24918965 3866.29594632]\n",
      " [3859.83998333 3828.37190407 3898.86845956 3899.65586896 3851.24918965\n",
      "  3866.29594632 3846.27444151]\n",
      " [3828.37190407 3898.86845956 3899.65586896 3851.24918965 3866.29594632\n",
      "  3846.27444151 3855.74436266]\n",
      " [3898.86845956 3899.65586896 3851.24918965 3866.29594632 3846.27444151\n",
      "  3855.74436266 3892.05230114]\n",
      " [3899.65586896 3851.24918965 3866.29594632 3846.27444151 3855.74436266\n",
      "  3892.05230114 3985.85123648]\n",
      " [3851.24918965 3866.29594632 3846.27444151 3855.74436266 3892.05230114\n",
      "  3985.85123648 3970.38904461]\n",
      " [3866.29594632 3846.27444151 3855.74436266 3892.05230114 3985.85123648\n",
      "  3970.38904461 3974.4157641 ]\n",
      " [3846.27444151 3855.74436266 3892.05230114 3985.85123648 3970.38904461\n",
      "  3974.4157641  3996.03713076]\n",
      " [3855.74436266 3892.05230114 3985.85123648 3970.38904461 3974.4157641\n",
      "  3996.03713076 4027.78739549]\n",
      " [3892.05230114 3985.85123648 3970.38904461 3974.4157641  3996.03713076\n",
      "  4027.78739549 3974.81142946]\n",
      " [3985.85123648 3970.38904461 3974.4157641  3996.03713076 4027.78739549\n",
      "  3974.81142946 3987.30522491]\n",
      " [3970.38904461 3974.4157641  3996.03713076 4027.78739549 3974.81142946\n",
      "  3987.30522491 3977.70744329]\n",
      " [3974.4157641  3996.03713076 4027.78739549 3974.81142946 3987.30522491\n",
      "  3977.70744329 3968.43870099]\n",
      " [3996.03713076 4027.78739549 3974.81142946 3987.30522491 3977.70744329\n",
      "  3968.43870099 3913.78171705]\n",
      " [4027.78739549 3974.81142946 3987.30522491 3977.70744329 3968.43870099\n",
      "  3913.78171705 3915.37531978]\n",
      " [3974.81142946 3987.30522491 3977.70744329 3968.43870099 3913.78171705\n",
      "  3915.37531978 4018.5905097 ]\n",
      " [3987.30522491 3977.70744329 3968.43870099 3913.78171705 3915.37531978\n",
      "  4018.5905097  4008.37087185]\n",
      " [3977.70744329 3968.43870099 3913.78171705 3915.37531978 4018.5905097\n",
      "  4008.37087185 4080.26011419]\n",
      " [3968.43870099 3913.78171705 3915.37531978 4018.5905097  4008.37087185\n",
      "  4080.26011419 4081.2216047 ]\n",
      " [3913.78171705 3915.37531978 4018.5905097  4008.37087185 4080.26011419\n",
      "  4081.2216047  4094.70479138]\n",
      " [3915.37531978 4018.5905097  4008.37087185 4080.26011419 4081.2216047\n",
      "  4094.70479138 4135.18493997]\n",
      " [4018.5905097  4008.37087185 4080.26011419 4081.2216047  4094.70479138\n",
      "  4135.18493997 4818.77063535]\n",
      " [4008.37087185 4080.26011419 4081.2216047  4094.70479138 4135.18493997\n",
      "  4818.77063535 5102.15075264]\n",
      " [4080.26011419 4081.2216047  4094.70479138 4135.18493997 4818.77063535\n",
      "  5102.15075264 4875.5994314 ]\n",
      " [4081.2216047  4094.70479138 4135.18493997 4818.77063535 5102.15075264\n",
      "  4875.5994314  5030.93327059]\n",
      " [4094.70479138 4135.18493997 4818.77063535 5102.15075264 4875.5994314\n",
      "  5030.93327059 5028.32108194]\n",
      " [4135.18493997 4818.77063535 5102.15075264 4875.5994314  5030.93327059\n",
      "  5028.32108194 5198.17317029]\n",
      " [4818.77063535 5102.15075264 4875.5994314  5030.93327059 5028.32108194\n",
      "  5198.17317029 5260.20504309]\n",
      " [5102.15075264 4875.5994314  5030.93327059 5028.32108194 5198.17317029\n",
      "  5260.20504309 5179.99764922]\n",
      " [4875.5994314  5030.93327059 5028.32108194 5198.17317029 5260.20504309\n",
      "  5179.99764922 5283.54375783]\n",
      " [5030.93327059 5028.32108194 5198.17317029 5260.20504309 5179.99764922\n",
      "  5283.54375783 5049.60582354]\n",
      " [5028.32108194 5198.17317029 5260.20504309 5179.99764922 5283.54375783\n",
      "  5049.60582354 5077.51586409]\n",
      " [5198.17317029 5260.20504309 5179.99764922 5283.54375783 5049.60582354\n",
      "  5077.51586409 5066.86704016]\n",
      " [5260.20504309 5179.99764922 5283.54375783 5049.60582354 5077.51586409\n",
      "  5066.86704016 5158.38740101]\n",
      " [5179.99764922 5283.54375783 5049.60582354 5077.51586409 5066.86704016\n",
      "  5158.38740101 5045.67516591]\n",
      " [5283.54375783 5049.60582354 5077.51586409 5066.86704016 5158.38740101\n",
      "  5045.67516591 5184.20446778]\n",
      " [5049.60582354 5077.51586409 5066.86704016 5158.38740101 5045.67516591\n",
      "  5184.20446778 5220.95993382]\n",
      " [5077.51586409 5066.86704016 5158.38740101 5045.67516591 5184.20446778\n",
      "  5220.95993382 5276.55898233]\n",
      " [5066.86704016 5158.38740101 5045.67516591 5184.20446778 5220.95993382\n",
      "  5276.55898233 5266.66124588]\n",
      " [5158.38740101 5045.67516591 5184.20446778 5220.95993382 5276.55898233\n",
      "  5266.66124588 5292.1483297 ]\n",
      " [5045.67516591 5184.20446778 5220.95993382 5276.55898233 5266.66124588\n",
      "  5292.1483297  5276.55831816]\n",
      " [5184.20446778 5220.95993382 5276.55898233 5266.66124588 5292.1483297\n",
      "  5276.55831816 5398.4334166 ]\n",
      " [5220.95993382 5276.55898233 5266.66124588 5292.1483297  5276.55831816\n",
      "  5398.4334166  5552.52191055]\n",
      " [5276.55898233 5266.66124588 5292.1483297  5276.55831816 5398.4334166\n",
      "  5552.52191055 5432.99101742]\n",
      " [5266.66124588 5292.1483297  5276.55831816 5398.4334166  5552.52191055\n",
      "  5432.99101742 5132.22752627]\n",
      " [5292.1483297  5276.55831816 5398.4334166  5552.52191055 5432.99101742\n",
      "  5132.22752627 5151.57452817]\n",
      " [5276.55831816 5398.4334166  5552.52191055 5432.99101742 5132.22752627\n",
      "  5151.57452817 5200.19323932]\n",
      " [5398.4334166  5552.52191055 5432.99101742 5132.22752627 5151.57452817\n",
      "  5200.19323932 5152.54573963]\n",
      " [5552.52191055 5432.99101742 5132.22752627 5151.57452817 5200.19323932\n",
      "  5152.54573963 5151.43349968]\n",
      " [5432.99101742 5132.22752627 5151.57452817 5200.19323932 5152.54573963\n",
      "  5151.43349968 5277.44446889]\n",
      " [5132.22752627 5151.57452817 5200.19323932 5152.54573963 5151.43349968\n",
      "  5277.44446889 5297.94249222]\n",
      " [5151.57452817 5200.19323932 5152.54573963 5151.43349968 5277.44446889\n",
      "  5297.94249222 5405.87806701]\n",
      " [5200.19323932 5152.54573963 5151.43349968 5277.44446889 5297.94249222\n",
      "  5405.87806701 5697.6790538 ]\n",
      " [5152.54573963 5151.43349968 5277.44446889 5297.94249222 5405.87806701\n",
      "  5697.6790538  5812.3317793 ]\n",
      " [5151.43349968 5277.44446889 5297.94249222 5405.87806701 5697.6790538\n",
      "  5812.3317793  5713.03505181]\n",
      " [5277.44446889 5297.94249222 5405.87806701 5697.6790538  5812.3317793\n",
      "  5713.03505181 5706.00842079]\n",
      " [5297.94249222 5405.87806701 5697.6790538  5812.3317793  5713.03505181\n",
      "  5706.00842079 5899.52969346]\n",
      " [5405.87806701 5697.6790538  5812.3317793  5713.03505181 5706.00842079\n",
      "  5899.52969346 5932.44139139]\n",
      " [5697.6790538  5812.3317793  5713.03505181 5706.00842079 5899.52969346\n",
      "  5932.44139139 6159.68590183]\n",
      " [5812.3317793  5713.03505181 5706.00842079 5899.52969346 5932.44139139\n",
      "  6159.68590183 6387.82945044]\n",
      " [5713.03505181 5706.00842079 5899.52969346 5932.44139139 6159.68590183\n",
      "  6387.82945044 7254.80553616]\n",
      " [5706.00842079 5899.52969346 5932.44139139 6159.68590183 6387.82945044\n",
      "  7254.80553616 6992.70666146]\n",
      " [5899.52969346 5932.44139139 6159.68590183 6387.82945044 7254.80553616\n",
      "  6992.70666146 7906.94083505]\n",
      " [5932.44139139 6159.68590183 6387.82945044 7254.80553616 6992.70666146\n",
      "  7906.94083505 7928.41741635]\n",
      " [6159.68590183 6387.82945044 7254.80553616 6992.70666146 7906.94083505\n",
      "  7928.41741635 8177.45351918]], shape=(128, 7), dtype=float64)\n",
      "tf.Tensor(\n",
      "[[ 6387.82945044  7254.80553616  6992.70666146  7906.94083505\n",
      "   7928.41741635  8177.45351918  7820.07624282]\n",
      " [ 7254.80553616  6992.70666146  7906.94083505  7928.41741635\n",
      "   8177.45351918  7820.07624282  7243.65053896]\n",
      " [ 6992.70666146  7906.94083505  7928.41741635  8177.45351918\n",
      "   7820.07624282  7243.65053896  7295.64972882]\n",
      " [ 7906.94083505  7928.41741635  8177.45351918  7820.07624282\n",
      "   7243.65053896  7295.64972882  8221.25939535]\n",
      " [ 7928.41741635  8177.45351918  7820.07624282  7243.65053896\n",
      "   7295.64972882  8221.25939535  7917.0124988 ]\n",
      " [ 8177.45351918  7820.07624282  7243.65053896  7295.64972882\n",
      "   8221.25939535  7917.0124988   7961.12874316]\n",
      " [ 7820.07624282  7243.65053896  7295.64972882  8221.25939535\n",
      "   7917.0124988   7961.12874316  7723.90387962]\n",
      " [ 7243.65053896  7295.64972882  8221.25939535  7917.0124988\n",
      "   7961.12874316  7723.90387962  7903.8469104 ]\n",
      " [ 7295.64972882  8221.25939535  7917.0124988   7961.12874316\n",
      "   7723.90387962  7903.8469104   8038.50679075]\n",
      " [ 8221.25939535  7917.0124988   7961.12874316  7723.90387962\n",
      "   7903.8469104   8038.50679075  8089.5701635 ]\n",
      " [ 7917.0124988   7961.12874316  7723.90387962  7903.8469104\n",
      "   8038.50679075  8089.5701635   8653.14236802]\n",
      " [ 7961.12874316  7723.90387962  7903.8469104   8038.50679075\n",
      "   8089.5701635   8653.14236802  8800.34660615]\n",
      " [ 7723.90387962  7903.8469104   8038.50679075  8089.5701635\n",
      "   8653.14236802  8800.34660615  8719.331485  ]\n",
      " [ 7903.8469104   8038.50679075  8089.5701635   8653.14236802\n",
      "   8800.34660615  8719.331485    8672.40010729]\n",
      " [ 8038.50679075  8089.5701635   8653.14236802  8800.34660615\n",
      "   8719.331485    8672.40010729  8287.04025632]\n",
      " [ 8089.5701635   8653.14236802  8800.34660615  8719.331485\n",
      "   8672.40010729  8287.04025632  8513.20388193]\n",
      " [ 8653.14236802  8800.34660615  8719.331485    8672.40010729\n",
      "   8287.04025632  8513.20388193  8588.47950497]\n",
      " [ 8800.34660615  8719.331485    8672.40010729  8287.04025632\n",
      "   8513.20388193  8588.47950497  8744.26556072]\n",
      " [ 8719.331485    8672.40010729  8287.04025632  8513.20388193\n",
      "   8588.47950497  8744.26556072  8474.04822912]\n",
      " [ 8672.40010729  8287.04025632  8513.20388193  8588.47950497\n",
      "   8744.26556072  8474.04822912  7645.5725139 ]\n",
      " [ 8287.04025632  8513.20388193  8588.47950497  8744.26556072\n",
      "   8474.04822912  7645.5725139   7790.32113496]\n",
      " [ 8513.20388193  8588.47950497  8744.26556072  8474.04822912\n",
      "   7645.5725139   7790.32113496  7730.88172589]\n",
      " [ 8588.47950497  8744.26556072  8474.04822912  7645.5725139\n",
      "   7790.32113496  7730.88172589  8030.25607944]\n",
      " [ 8744.26556072  8474.04822912  7645.5725139   7790.32113496\n",
      "   7730.88172589  8030.25607944  7949.42579863]\n",
      " [ 8474.04822912  7645.5725139   7790.32113496  7730.88172589\n",
      "   8030.25607944  7949.42579863  7600.92249209]\n",
      " [ 7645.5725139   7790.32113496  7730.88172589  8030.25607944\n",
      "   7949.42579863  7600.92249209  7954.00623772]\n",
      " [ 7790.32113496  7730.88172589  8030.25607944  7949.42579863\n",
      "   7600.92249209  7954.00623772  7903.62525038]\n",
      " [ 7730.88172589  8030.25607944  7949.42579863  7600.92249209\n",
      "   7954.00623772  7903.62525038  8151.78867978]\n",
      " [ 8030.25607944  7949.42579863  7600.92249209  7954.00623772\n",
      "   7903.62525038  8151.78867978  8256.72009946]\n",
      " [ 7949.42579863  7600.92249209  7954.00623772  7903.62525038\n",
      "   8151.78867978  8256.72009946  8667.78795399]\n",
      " [ 7600.92249209  7954.00623772  7903.62525038  8151.78867978\n",
      "   8256.72009946  8667.78795399  8836.16841291]\n",
      " [ 7954.00623772  7903.62525038  8151.78867978  8256.72009946\n",
      "   8667.78795399  8836.16841291  9061.54046064]\n",
      " [ 7903.62525038  8151.78867978  8256.72009946  8667.78795399\n",
      "   8836.16841291  9061.54046064  9346.9750872 ]\n",
      " [ 8151.78867978  8256.72009946  8667.78795399  8836.16841291\n",
      "   9061.54046064  9346.9750872   9012.48784965]\n",
      " [ 8256.72009946  8667.78795399  8836.16841291  9061.54046064\n",
      "   9346.9750872   9012.48784965  9259.12363839]\n",
      " [ 8667.78795399  8836.16841291  9061.54046064  9346.9750872\n",
      "   9012.48784965  9259.12363839  9559.90068857]\n",
      " [ 8836.16841291  9061.54046064  9346.9750872   9012.48784965\n",
      "   9259.12363839  9559.90068857  9906.40796505]\n",
      " [ 9061.54046064  9346.9750872   9012.48784965  9259.12363839\n",
      "   9559.90068857  9906.40796505 10461.41216881]\n",
      " [ 9346.9750872   9012.48784965  9259.12363839  9559.90068857\n",
      "   9906.40796505 10461.41216881 10843.57097478]\n",
      " [ 9012.48784965  9259.12363839  9559.90068857  9906.40796505\n",
      "  10461.41216881 10843.57097478 10996.45974954]\n",
      " [ 9259.12363839  9559.90068857  9906.40796505 10461.41216881\n",
      "  10843.57097478 10996.45974954 11665.40968373]\n",
      " [ 9559.90068857  9906.40796505 10461.41216881 10843.57097478\n",
      "  10996.45974954 11665.40968373 12444.92585999]\n",
      " [ 9906.40796505 10461.41216881 10843.57097478 10996.45974954\n",
      "  11665.40968373 12444.92585999 11086.26882865]\n",
      " [10461.41216881 10843.57097478 10996.45974954 11665.40968373\n",
      "  12444.92585999 11086.26882865 12316.95301202]\n",
      " [10843.57097478 10996.45974954 11665.40968373 12444.92585999\n",
      "  11086.26882865 12316.95301202 12024.0809722 ]\n",
      " [10996.45974954 11665.40968373 12444.92585999 11086.26882865\n",
      "  12316.95301202 12024.0809722  10932.31050717]\n",
      " [11665.40968373 12444.92585999 11086.26882865 12316.95301202\n",
      "  12024.0809722  10932.31050717 10454.68381833]\n",
      " [12444.92585999 11086.26882865 12316.95301202 12024.0809722\n",
      "  10932.31050717 10454.68381833 10800.13013995]\n",
      " [11086.26882865 12316.95301202 12024.0809722  10932.31050717\n",
      "  10454.68381833 10800.13013995 11942.24022479]\n",
      " [12316.95301202 12024.0809722  10932.31050717 10454.68381833\n",
      "  10800.13013995 11942.24022479 11645.52460634]\n",
      " [12024.0809722  10932.31050717 10454.68381833 10800.13013995\n",
      "  11942.24022479 11645.52460634 10946.20905474]\n",
      " [10932.31050717 10454.68381833 10800.13013995 11942.24022479\n",
      "  11645.52460634 10946.20905474 11219.04600044]\n",
      " [10454.68381833 10800.13013995 11942.24022479 11645.52460634\n",
      "  10946.20905474 11219.04600044 11422.11446803]\n",
      " [10800.13013995 11942.24022479 11645.52460634 10946.20905474\n",
      "  11219.04600044 11422.11446803 12335.99939465]\n",
      " [11942.24022479 11645.52460634 10946.20905474 11219.04600044\n",
      "  11422.11446803 12335.99939465 12575.90406744]\n",
      " [11645.52460634 10946.20905474 11219.04600044 11422.11446803\n",
      "  12335.99939465 12575.90406744 12054.18379349]\n",
      " [10946.20905474 11219.04600044 11422.11446803 12335.99939465\n",
      "  12575.90406744 12054.18379349 11324.14469698]\n",
      " [11219.04600044 11422.11446803 12335.99939465 12575.90406744\n",
      "  12054.18379349 11324.14469698 11802.95996359]\n",
      " [11422.11446803 12335.99939465 12575.90406744 12054.18379349\n",
      "  11324.14469698 11802.95996359 11279.60273563]\n",
      " [12335.99939465 12575.90406744 12054.18379349 11324.14469698\n",
      "  11802.95996359 11279.60273563 10506.39582731]\n",
      " [12575.90406744 12054.18379349 11324.14469698 11802.95996359\n",
      "  11279.60273563 10506.39582731 10934.48273955]\n",
      " [12054.18379349 11324.14469698 11802.95996359 11279.60273563\n",
      "  10506.39582731 10934.48273955  9490.41051575]\n",
      " [11324.14469698 11802.95996359 11279.60273563 10506.39582731\n",
      "  10934.48273955  9490.41051575  9733.13213409]\n",
      " [11802.95996359 11279.60273563 10506.39582731 10934.48273955\n",
      "   9490.41051575  9733.13213409 10603.34887317]\n",
      " [11279.60273563 10506.39582731 10934.48273955  9490.41051575\n",
      "   9733.13213409 10603.34887317 10466.26093815]\n",
      " [10506.39582731 10934.48273955  9490.41051575  9733.13213409\n",
      "  10603.34887317 10466.26093815 10983.21600203]\n",
      " [10934.48273955  9490.41051575  9733.13213409 10603.34887317\n",
      "  10466.26093815 10983.21600203 10551.13163333]\n",
      " [ 9490.41051575  9733.13213409 10603.34887317 10466.26093815\n",
      "  10983.21600203 10551.13163333 10285.63923067]\n",
      " [ 9733.13213409 10603.34887317 10466.26093815 10983.21600203\n",
      "  10551.13163333 10285.63923067 10027.53261225]\n",
      " [10603.34887317 10466.26093815 10983.21600203 10551.13163333\n",
      "  10285.63923067 10027.53261225  9771.50476132]\n",
      " [10466.26093815 10983.21600203 10551.13163333 10285.63923067\n",
      "  10027.53261225  9771.50476132  9897.42935152]\n",
      " [10983.21600203 10551.13163333 10285.63923067 10027.53261225\n",
      "   9771.50476132  9897.42935152  9812.22635058]\n",
      " [10551.13163333 10285.63923067 10027.53261225  9771.50476132\n",
      "   9897.42935152  9812.22635058  9440.14003731]\n",
      " [10285.63923067 10027.53261225  9771.50476132  9897.42935152\n",
      "   9812.22635058  9440.14003731  9495.85526141]\n",
      " [10027.53261225  9771.50476132  9897.42935152  9812.22635058\n",
      "   9440.14003731  9495.85526141  9506.70427314]\n",
      " [ 9771.50476132  9897.42935152  9812.22635058  9440.14003731\n",
      "   9495.85526141  9506.70427314  9572.7353718 ]\n",
      " [ 9897.42935152  9812.22635058  9440.14003731  9495.85526141\n",
      "   9506.70427314  9572.7353718  10005.29447332]\n",
      " [ 9812.22635058  9440.14003731  9495.85526141  9506.70427314\n",
      "   9572.7353718  10005.29447332 10385.20060612]\n",
      " [ 9440.14003731  9495.85526141  9506.70427314  9572.7353718\n",
      "  10005.29447332 10385.20060612 10513.91147159]\n",
      " [ 9495.85526141  9506.70427314  9572.7353718  10005.29447332\n",
      "  10385.20060612 10513.91147159 10831.25985541]\n",
      " [ 9506.70427314  9572.7353718  10005.29447332 10385.20060612\n",
      "  10513.91147159 10831.25985541 10985.80754163]\n",
      " [ 9572.7353718  10005.29447332 10385.20060612 10513.91147159\n",
      "  10831.25985541 10985.80754163 11811.78705415]\n",
      " [10005.29447332 10385.20060612 10513.91147159 10831.25985541\n",
      "  10985.80754163 11811.78705415 11310.18722361]\n",
      " [10385.20060612 10513.91147159 10831.25985541 10985.80754163\n",
      "  11811.78705415 11310.18722361 11956.04722302]\n",
      " [10513.91147159 10831.25985541 10985.80754163 11811.78705415\n",
      "  11310.18722361 11956.04722302 11817.45548252]\n",
      " [10831.25985541 10985.80754163 11811.78705415 11310.18722361\n",
      "  11956.04722302 11817.45548252 11827.57457169]\n",
      " [10985.80754163 11811.78705415 11310.18722361 11956.04722302\n",
      "  11817.45548252 11827.57457169 11278.2812549 ]\n",
      " [11811.78705415 11310.18722361 11956.04722302 11817.45548252\n",
      "  11827.57457169 11278.2812549  11485.36578299]\n",
      " [11310.18722361 11956.04722302 11817.45548252 11827.57457169\n",
      "  11278.2812549  11485.36578299 11391.9686539 ]\n",
      " [11956.04722302 11817.45548252 11827.57457169 11278.2812549\n",
      "  11485.36578299 11391.9686539  10869.37911286]\n",
      " [11817.45548252 11827.57457169 11278.2812549  11485.36578299\n",
      "  11391.9686539  10869.37911286 10211.4985817 ]\n",
      " [11827.57457169 11278.2812549  11485.36578299 11391.9686539\n",
      "  10869.37911286 10211.4985817  10386.53955002]\n",
      " [11278.2812549  11485.36578299 11391.9686539  10869.37911286\n",
      "  10211.4985817  10386.53955002 10388.45059256]\n",
      " [11485.36578299 11391.9686539  10869.37911286 10211.4985817\n",
      "  10386.53955002 10388.45059256 10212.10144174]\n",
      " [11391.9686539  10869.37911286 10211.4985817  10386.53955002\n",
      "  10388.45059256 10212.10144174 10335.37283857]\n",
      " [10869.37911286 10211.4985817  10386.53955002 10388.45059256\n",
      "  10212.10144174 10335.37283857 10774.81030583]\n",
      " [10211.4985817  10386.53955002 10388.45059256 10212.10144174\n",
      "  10335.37283857 10774.81030583 10818.50700762]\n",
      " [10386.53955002 10388.45059256 10212.10144174 10335.37283857\n",
      "  10774.81030583 10818.50700762 10064.91679448]\n",
      " [10388.45059256 10212.10144174 10335.37283857 10774.81030583\n",
      "  10818.50700762 10064.91679448 10161.16474949]\n",
      " [10212.10144174 10335.37283857 10774.81030583 10818.50700762\n",
      "  10064.91679448 10161.16474949 10364.28135369]\n",
      " [10335.37283857 10774.81030583 10818.50700762 10064.91679448\n",
      "  10161.16474949 10364.28135369 10171.49746068]\n",
      " [10774.81030583 10818.50700762 10064.91679448 10161.16474949\n",
      "  10364.28135369 10171.49746068 10068.92241992]\n",
      " [10818.50700762 10064.91679448 10161.16474949 10364.28135369\n",
      "  10171.49746068 10068.92241992 10312.21503985]\n",
      " [10064.91679448 10161.16474949 10364.28135369 10171.49746068\n",
      "  10068.92241992 10312.21503985 10122.19653296]\n",
      " [10161.16474949 10364.28135369 10171.49746068 10068.92241992\n",
      "  10312.21503985 10122.19653296  9743.16205105]\n",
      " [10364.28135369 10171.49746068 10068.92241992 10312.21503985\n",
      "  10122.19653296  9743.16205105  9487.97643352]\n",
      " [10171.49746068 10068.92241992 10312.21503985 10122.19653296\n",
      "   9743.16205105  9487.97643352  9590.73633692]\n",
      " [10068.92241992 10312.21503985 10122.19653296  9743.16205105\n",
      "   9487.97643352  9590.73633692  9624.98391053]\n",
      " [10312.21503985 10122.19653296  9743.16205105  9487.97643352\n",
      "   9590.73633692  9624.98391053  9780.66789703]\n",
      " [10122.19653296  9743.16205105  9487.97643352  9590.73633692\n",
      "   9624.98391053  9780.66789703 10381.85595925]\n",
      " [ 9743.16205105  9487.97643352  9590.73633692  9624.98391053\n",
      "   9780.66789703 10381.85595925 10691.31129913]\n",
      " [ 9487.97643352  9590.73633692  9624.98391053  9780.66789703\n",
      "  10381.85595925 10691.31129913 10555.04690084]\n",
      " [ 9590.73633692  9624.98391053  9780.66789703 10381.85595925\n",
      "  10691.31129913 10555.04690084 10576.31789153]\n",
      " [ 9624.98391053  9780.66789703 10381.85595925 10691.31129913\n",
      "  10555.04690084 10576.31789153 10334.02388585]\n",
      " [ 9780.66789703 10381.85595925 10691.31129913 10555.04690084\n",
      "  10576.31789153 10334.02388585 10495.22736421]\n",
      " [10381.85595925 10691.31129913 10555.04690084 10576.31789153\n",
      "  10334.02388585 10495.22736421 10402.79653069]\n",
      " [10691.31129913 10555.04690084 10576.31789153 10334.02388585\n",
      "  10495.22736421 10402.79653069 10332.94218811]\n",
      " [10555.04690084 10576.31789153 10334.02388585 10495.22736421\n",
      "  10402.79653069 10332.94218811 10082.94682648]\n",
      " [10576.31789153 10334.02388585 10495.22736421 10402.79653069\n",
      "  10332.94218811 10082.94682648 10152.75298408]\n",
      " [10334.02388585 10495.22736421 10402.79653069 10332.94218811\n",
      "  10082.94682648 10152.75298408 10396.76720474]\n",
      " [10495.22736421 10402.79653069 10332.94218811 10082.94682648\n",
      "  10152.75298408 10396.76720474 10299.47696049]\n",
      " [10402.79653069 10332.94218811 10082.94682648 10152.75298408\n",
      "  10396.76720474 10299.47696049 10351.23202184]\n",
      " [10332.94218811 10082.94682648 10152.75298408 10396.76720474\n",
      "  10299.47696049 10351.23202184 10302.19071368]\n",
      " [10082.94682648 10152.75298408 10396.76720474 10299.47696049\n",
      "  10351.23202184 10302.19071368 10301.65965169]\n",
      " [10152.75298408 10396.76720474 10299.47696049 10351.23202184\n",
      "  10302.19071368 10301.65965169 10231.42151196]\n",
      " [10396.76720474 10299.47696049 10351.23202184 10302.19071368\n",
      "  10301.65965169 10231.42151196 10168.28770938]\n",
      " [10299.47696049 10351.23202184 10302.19071368 10301.65965169\n",
      "  10231.42151196 10168.28770938 10223.5055788 ]\n",
      " [10351.23202184 10302.19071368 10301.65965169 10231.42151196\n",
      "  10168.28770938 10223.5055788  10138.33520522]], shape=(128, 7), dtype=float64)\n",
      "tf.Tensor(\n",
      "[[10302.19071368 10301.65965169 10231.42151196 10168.28770938\n",
      "  10223.5055788  10138.33520522  9984.52051597]\n",
      " [10301.65965169 10231.42151196 10168.28770938 10223.5055788\n",
      "  10138.33520522  9984.52051597 10031.86670899]\n",
      " [10231.42151196 10168.28770938 10223.5055788  10138.33520522\n",
      "   9984.52051597 10031.86670899  9719.71869611]\n",
      " [10168.28770938 10223.5055788  10138.33520522  9984.52051597\n",
      "  10031.86670899  9719.71869611  8688.97352596]\n",
      " [10223.5055788  10138.33520522  9984.52051597 10031.86670899\n",
      "   9719.71869611  8688.97352596  8438.70855249]\n",
      " [10138.33520522  9984.52051597 10031.86670899  9719.71869611\n",
      "   8688.97352596  8438.70855249  8103.21089959]\n",
      " [ 9984.52051597 10031.86670899  9719.71869611  8688.97352596\n",
      "   8438.70855249  8103.21089959  8195.210697  ]\n",
      " [10031.86670899  9719.71869611  8688.97352596  8438.70855249\n",
      "   8103.21089959  8195.210697    8146.414032  ]\n",
      " [ 9719.71869611  8688.97352596  8438.70855249  8103.21089959\n",
      "   8195.210697    8146.414032    8085.71329042]\n",
      " [ 8688.97352596  8438.70855249  8103.21089959  8195.210697\n",
      "   8146.414032    8085.71329042  8241.34147   ]\n",
      " [ 8438.70855249  8103.21089959  8195.210697    8146.414032\n",
      "   8085.71329042  8241.34147     8333.68919042]\n",
      " [ 8103.21089959  8195.210697    8146.414032    8085.71329042\n",
      "   8241.34147     8333.68919042  8273.46401766]\n",
      " [ 8195.210697    8146.414032    8085.71329042  8241.34147\n",
      "   8333.68919042  8273.46401766  8203.8438328 ]\n",
      " [ 8146.414032    8085.71329042  8241.34147     8333.68919042\n",
      "   8273.46401766  8203.8438328   8163.9026381 ]\n",
      " [ 8085.71329042  8241.34147     8333.68919042  8273.46401766\n",
      "   8203.8438328   8163.9026381   8137.14668904]\n",
      " [ 8241.34147     8333.68919042  8273.46401766  8203.8438328\n",
      "   8163.9026381   8137.14668904  7853.69330483]\n",
      " [ 8333.68919042  8273.46401766  8203.8438328   8163.9026381\n",
      "   8137.14668904  7853.69330483  8236.2083793 ]\n",
      " [ 8273.46401766  8203.8438328   8163.9026381   8137.14668904\n",
      "   7853.69330483  8236.2083793   8201.63781819]\n",
      " [ 8203.8438328   8163.9026381   8137.14668904  7853.69330483\n",
      "   8236.2083793   8201.63781819  8572.38081243]\n",
      " [ 8163.9026381   8137.14668904  7853.69330483  8236.2083793\n",
      "   8201.63781819  8572.38081243  8582.1445177 ]\n",
      " [ 8137.14668904  7853.69330483  8236.2083793   8201.63781819\n",
      "   8572.38081243  8582.1445177   8320.1715814 ]\n",
      " [ 7853.69330483  8236.2083793   8201.63781819  8572.38081243\n",
      "   8582.1445177   8320.1715814   8328.60426039]\n",
      " [ 8236.2083793   8201.63781819  8572.38081243  8582.1445177\n",
      "   8320.1715814   8328.60426039  8282.17732583]\n",
      " [ 8201.63781819  8572.38081243  8582.1445177   8320.1715814\n",
      "   8328.60426039  8282.17732583  8337.81899854]\n",
      " [ 8572.38081243  8582.1445177   8320.1715814   8328.60426039\n",
      "   8282.17732583  8337.81899854  8162.44      ]\n",
      " [ 8582.1445177   8320.1715814   8328.60426039  8282.17732583\n",
      "   8337.81899854  8162.44        8003.82039479]\n",
      " [ 8320.1715814   8328.60426039  8282.17732583  8337.81899854\n",
      "   8162.44        8003.82039479  8058.05808111]\n",
      " [ 8328.60426039  8282.17732583  8337.81899854  8162.44\n",
      "   8003.82039479  8058.05808111  7970.2394756 ]\n",
      " [ 8282.17732583  8337.81899854  8162.44        8003.82039479\n",
      "   8058.05808111  7970.2394756   7943.34710706]\n",
      " [ 8337.81899854  8162.44        8003.82039479  8058.05808111\n",
      "   7970.2394756   7943.34710706  8200.3187634 ]\n",
      " [ 8162.44        8003.82039479  8058.05808111  7970.2394756\n",
      "   7943.34710706  8200.3187634   8200.24609949]\n",
      " [ 8003.82039479  8058.05808111  7970.2394756   7943.34710706\n",
      "   8200.3187634   8200.24609949  8073.40954388]\n",
      " [ 8058.05808111  7970.2394756   7943.34710706  8200.3187634\n",
      "   8200.24609949  8073.40954388  7420.41583649]\n",
      " [ 7970.2394756   7943.34710706  8200.3187634   8200.24609949\n",
      "   8073.40954388  7420.41583649  7460.61741593]\n",
      " [ 7943.34710706  8200.3187634   8200.24609949  8073.40954388\n",
      "   7420.41583649  7460.61741593  8591.22389742]\n",
      " [ 8200.3187634   8200.24609949  8073.40954388  7420.41583649\n",
      "   7460.61741593  8591.22389742  9171.30653186]\n",
      " [ 8200.24609949  8073.40954388  7420.41583649  7460.61741593\n",
      "   8591.22389742  9171.30653186  9578.36755607]\n",
      " [ 8073.40954388  7420.41583649  7460.61741593  8591.22389742\n",
      "   9171.30653186  9578.36755607  9458.22335963]\n",
      " [ 7420.41583649  7460.61741593  8591.22389742  9171.30653186\n",
      "   9578.36755607  9458.22335963  9455.72469261]\n",
      " [ 7460.61741593  8591.22389742  9171.30653186  9578.36755607\n",
      "   9458.22335963  9455.72469261  9225.99547934]\n",
      " [ 8591.22389742  9171.30653186  9578.36755607  9458.22335963\n",
      "   9455.72469261  9225.99547934  9131.41063031]\n",
      " [ 9171.30653186  9578.36755607  9458.22335963  9455.72469261\n",
      "   9225.99547934  9131.41063031  9197.63234462]\n",
      " [ 9578.36755607  9458.22335963  9455.72469261  9225.99547934\n",
      "   9131.41063031  9197.63234462  9290.89660239]\n",
      " [ 9458.22335963  9455.72469261  9225.99547934  9131.41063031\n",
      "   9197.63234462  9290.89660239  9202.41545055]\n",
      " [ 9455.72469261  9225.99547934  9131.41063031  9197.63234462\n",
      "   9290.89660239  9202.41545055  9369.62808116]\n",
      " [ 9225.99547934  9131.41063031  9197.63234462  9290.89660239\n",
      "   9202.41545055  9369.62808116  9326.59962378]\n",
      " [ 9131.41063031  9197.63234462  9290.89660239  9202.41545055\n",
      "   9369.62808116  9326.59962378  9335.75240233]\n",
      " [ 9197.63234462  9290.89660239  9202.41545055  9369.62808116\n",
      "   9326.59962378  9335.75240233  9226.48582088]\n",
      " [ 9290.89660239  9202.41545055  9369.62808116  9326.59962378\n",
      "   9335.75240233  9226.48582088  8794.35864452]\n",
      " [ 9202.41545055  9369.62808116  9326.59962378  9335.75240233\n",
      "   9226.48582088  8794.35864452  8798.04205463]\n",
      " [ 9369.62808116  9326.59962378  9335.75240233  9226.48582088\n",
      "   8794.35864452  8798.04205463  9081.18687849]\n",
      " [ 9326.59962378  9335.75240233  9226.48582088  8794.35864452\n",
      "   8798.04205463  9081.18687849  8711.53433917]\n",
      " [ 9335.75240233  9226.48582088  8794.35864452  8798.04205463\n",
      "   9081.18687849  8711.53433917  8760.89271814]\n",
      " [ 9226.48582088  8794.35864452  8798.04205463  9081.18687849\n",
      "   8711.53433917  8760.89271814  8749.52059102]\n",
      " [ 8794.35864452  8798.04205463  9081.18687849  8711.53433917\n",
      "   8760.89271814  8749.52059102  8656.97092235]\n",
      " [ 8798.04205463  9081.18687849  8711.53433917  8760.89271814\n",
      "   8749.52059102  8656.97092235  8500.64355816]\n",
      " [ 9081.18687849  8711.53433917  8760.89271814  8749.52059102\n",
      "   8656.97092235  8500.64355816  8469.2608989 ]\n",
      " [ 8711.53433917  8760.89271814  8749.52059102  8656.97092235\n",
      "   8500.64355816  8469.2608989   8537.33965197]\n",
      " [ 8760.89271814  8749.52059102  8656.97092235  8500.64355816\n",
      "   8469.2608989   8537.33965197  8205.80636599]\n",
      " [ 8749.52059102  8656.97092235  8500.64355816  8469.2608989\n",
      "   8537.33965197  8205.80636599  8118.4885358 ]\n",
      " [ 8656.97092235  8500.64355816  8469.2608989   8537.33965197\n",
      "   8205.80636599  8118.4885358   8074.84317361]\n",
      " [ 8500.64355816  8469.2608989   8537.33965197  8205.80636599\n",
      "   8118.4885358   8074.84317361  7612.7405735 ]\n",
      " [ 8469.2608989   8537.33965197  8205.80636599  8118.4885358\n",
      "   8074.84317361  7612.7405735   7262.11053495]\n",
      " [ 8537.33965197  8205.80636599  8118.4885358   8074.84317361\n",
      "   7612.7405735   7262.11053495  7303.40575852]\n",
      " [ 8205.80636599  8118.4885358   8074.84317361  7612.7405735\n",
      "   7262.11053495  7303.40575852  7041.73293642]\n",
      " [ 8118.4885358   8074.84317361  7612.7405735   7262.11053495\n",
      "   7303.40575852  7041.73293642  7211.86180875]\n",
      " [ 8074.84317361  7612.7405735   7262.11053495  7303.40575852\n",
      "   7041.73293642  7211.86180875  7141.06944869]\n",
      " [ 7612.7405735   7262.11053495  7303.40575852  7041.73293642\n",
      "   7211.86180875  7141.06944869  7523.4806726 ]\n",
      " [ 7262.11053495  7303.40575852  7041.73293642  7211.86180875\n",
      "   7141.06944869  7523.4806726   7390.20746923]\n",
      " [ 7303.40575852  7041.73293642  7211.86180875  7141.06944869\n",
      "   7523.4806726   7390.20746923  7729.26593894]\n",
      " [ 7041.73293642  7211.86180875  7141.06944869  7523.4806726\n",
      "   7390.20746923  7729.26593894  7542.23560864]\n",
      " [ 7211.86180875  7141.06944869  7523.4806726   7390.20746923\n",
      "   7729.26593894  7542.23560864  7381.96300782]\n",
      " [ 7141.06944869  7523.4806726   7390.20746923  7729.26593894\n",
      "   7542.23560864  7381.96300782  7333.43293049]\n",
      " [ 7523.4806726   7390.20746923  7729.26593894  7542.23560864\n",
      "   7381.96300782  7333.43293049  7315.36776456]\n",
      " [ 7390.20746923  7729.26593894  7542.23560864  7381.96300782\n",
      "   7333.43293049  7315.36776456  7213.73376172]\n",
      " [ 7729.26593894  7542.23560864  7381.96300782  7333.43293049\n",
      "   7315.36776456  7213.73376172  7398.78704961]\n",
      " [ 7542.23560864  7381.96300782  7333.43293049  7315.36776456\n",
      "   7213.73376172  7398.78704961  7511.88058312]\n",
      " [ 7381.96300782  7333.43293049  7315.36776456  7213.73376172\n",
      "   7398.78704961  7511.88058312  7532.12351309]\n",
      " [ 7333.43293049  7315.36776456  7213.73376172  7398.78704961\n",
      "   7511.88058312  7532.12351309  7550.23919987]\n",
      " [ 7315.36776456  7213.73376172  7398.78704961  7511.88058312\n",
      "   7532.12351309  7550.23919987  7333.09604316]\n",
      " [ 7213.73376172  7398.78704961  7511.88058312  7532.12351309\n",
      "   7550.23919987  7333.09604316  7239.76257544]\n",
      " [ 7398.78704961  7511.88058312  7532.12351309  7550.23919987\n",
      "   7333.09604316  7239.76257544  7198.06667705]\n",
      " [ 7511.88058312  7532.12351309  7550.23919987  7333.09604316\n",
      "   7239.76257544  7198.06667705  7190.27236926]\n",
      " [ 7532.12351309  7550.23919987  7333.09604316  7239.76257544\n",
      "   7198.06667705  7190.27236926  7238.87432299]\n",
      " [ 7550.23919987  7333.09604316  7239.76257544  7198.06667705\n",
      "   7190.27236926  7238.87432299  7087.02498535]\n",
      " [ 7333.09604316  7239.76257544  7198.06667705  7190.27236926\n",
      "   7238.87432299  7087.02498535  7112.73147612]\n",
      " [ 7239.76257544  7198.06667705  7190.27236926  7238.87432299\n",
      "   7087.02498535  7112.73147612  6883.49639377]\n",
      " [ 7198.06667705  7190.27236926  7238.87432299  7087.02498535\n",
      "   7112.73147612  6883.49639377  6584.02884335]\n",
      " [ 7190.27236926  7238.87432299  7087.02498535  7112.73147612\n",
      "   6883.49639377  6584.02884335  7424.01540023]\n",
      " [ 7238.87432299  7087.02498535  7112.73147612  6883.49639377\n",
      "   6584.02884335  7424.01540023  7147.56832379]\n",
      " [ 7087.02498535  7112.73147612  6883.49639377  6584.02884335\n",
      "   7424.01540023  7147.56832379  7139.93337053]\n",
      " [ 7112.73147612  6883.49639377  6584.02884335  7424.01540023\n",
      "   7147.56832379  7139.93337053  7286.33508116]\n",
      " [ 6883.49639377  6584.02884335  7424.01540023  7147.56832379\n",
      "   7139.93337053  7286.33508116  7236.98620461]\n",
      " [ 6584.02884335  7424.01540023  7147.56832379  7139.93337053\n",
      "   7286.33508116  7236.98620461  7166.17237853]\n",
      " [ 7424.01540023  7147.56832379  7139.93337053  7286.33508116\n",
      "   7236.98620461  7166.17237853  7235.6266505 ]\n",
      " [ 7147.56832379  7139.93337053  7286.33508116  7236.98620461\n",
      "   7166.17237853  7235.6266505   7212.80939522]\n",
      " [ 7139.93337053  7286.33508116  7236.98620461  7166.17237853\n",
      "   7235.6266505   7212.80939522  7183.70653603]\n",
      " [ 7286.33508116  7236.98620461  7166.17237853  7235.6266505\n",
      "   7212.80939522  7183.70653603  7227.29371168]\n",
      " [ 7236.98620461  7166.17237853  7235.6266505   7212.80939522\n",
      "   7183.70653603  7227.29371168  7311.56064392]\n",
      " [ 7166.17237853  7235.6266505   7212.80939522  7183.70653603\n",
      "   7227.29371168  7311.56064392  7385.46484791]\n",
      " [ 7235.6266505   7212.80939522  7183.70653603  7227.29371168\n",
      "   7311.56064392  7385.46484791  7251.27679432]\n",
      " [ 7212.80939522  7183.70653603  7227.29371168  7311.56064392\n",
      "   7385.46484791  7251.27679432  7179.95781929]\n",
      " [ 7183.70653603  7227.29371168  7311.56064392  7385.46484791\n",
      "   7251.27679432  7179.95781929  7174.74401195]\n",
      " [ 7227.29371168  7311.56064392  7385.46484791  7251.27679432\n",
      "   7179.95781929  7174.74401195  6955.48757967]\n",
      " [ 7311.56064392  7385.46484791  7251.27679432  7179.95781929\n",
      "   7174.74401195  6955.48757967  7291.21950532]\n",
      " [ 7385.46484791  7251.27679432  7179.95781929  7174.74401195\n",
      "   6955.48757967  7291.21950532  7337.63667014]\n",
      " [ 7251.27679432  7179.95781929  7174.74401195  6955.48757967\n",
      "   7291.21950532  7337.63667014  7347.43326444]\n",
      " [ 7179.95781929  7174.74401195  6955.48757967  7291.21950532\n",
      "   7337.63667014  7347.43326444  7713.86075365]\n",
      " [ 7174.74401195  6955.48757967  7291.21950532  7337.63667014\n",
      "   7347.43326444  7713.86075365  8039.60370082]\n",
      " [ 6955.48757967  7291.21950532  7337.63667014  7347.43326444\n",
      "   7713.86075365  8039.60370082  8067.60636906]\n",
      " [ 7291.21950532  7337.63667014  7347.43326444  7713.86075365\n",
      "   8039.60370082  8067.60636906  7808.70136382]\n",
      " [ 7337.63667014  7347.43326444  7713.86075365  8039.60370082\n",
      "   8067.60636906  7808.70136382  8087.45288524]\n",
      " [ 7347.43326444  7713.86075365  8039.60370082  8067.60636906\n",
      "   7808.70136382  8087.45288524  8078.99353199]\n",
      " [ 7713.86075365  8039.60370082  8067.60636906  7808.70136382\n",
      "   8087.45288524  8078.99353199  8149.31371715]\n",
      " [ 8039.60370082  8067.60636906  7808.70136382  8087.45288524\n",
      "   8078.99353199  8149.31371715  8116.96100795]\n",
      " [ 8067.60636906  7808.70136382  8087.45288524  8078.99353199\n",
      "   8149.31371715  8116.96100795  8735.14243914]\n",
      " [ 7808.70136382  8087.45288524  8078.99353199  8149.31371715\n",
      "   8116.96100795  8735.14243914  8843.67573222]\n",
      " [ 8087.45288524  8078.99353199  8149.31371715  8116.96100795\n",
      "   8735.14243914  8843.67573222  8711.6375779 ]\n",
      " [ 8078.99353199  8149.31371715  8116.96100795  8735.14243914\n",
      "   8843.67573222  8711.6375779   8925.29902845]\n",
      " [ 8149.31371715  8116.96100795  8735.14243914  8843.67573222\n",
      "   8711.6375779   8925.29902845  8939.86430025]\n",
      " [ 8116.96100795  8735.14243914  8843.67573222  8711.6375779\n",
      "   8925.29902845  8939.86430025  8638.18144046]\n",
      " [ 8735.14243914  8843.67573222  8711.6375779   8925.29902845\n",
      "   8939.86430025  8638.18144046  8652.68376299]\n",
      " [ 8843.67573222  8711.6375779   8925.29902845  8939.86430025\n",
      "   8638.18144046  8652.68376299  8708.78601343]\n",
      " [ 8711.6375779   8925.29902845  8939.86430025  8638.18144046\n",
      "   8652.68376299  8708.78601343  8635.07435696]\n",
      " [ 8925.29902845  8939.86430025  8638.18144046  8652.68376299\n",
      "   8708.78601343  8635.07435696  8384.08877677]\n",
      " [ 8939.86430025  8638.18144046  8652.68376299  8708.78601343\n",
      "   8635.07435696  8384.08877677  8451.23229602]\n",
      " [ 8638.18144046  8652.68376299  8708.78601343  8635.07435696\n",
      "   8384.08877677  8451.23229602  8347.56750541]\n",
      " [ 8652.68376299  8708.78601343  8635.07435696  8384.08877677\n",
      "   8451.23229602  8347.56750541  8562.30747044]], shape=(128, 7), dtype=float64)\n",
      "tf.Tensor(\n",
      "[[ 8708.78601343  8635.07435696  8384.08877677  8451.23229602\n",
      "   8347.56750541  8562.30747044  8881.96239146]\n",
      " [ 8635.07435696  8384.08877677  8451.23229602  8347.56750541\n",
      "   8562.30747044  8881.96239146  9131.11498806]\n",
      " [ 8384.08877677  8451.23229602  8347.56750541  8562.30747044\n",
      "   8881.96239146  9131.11498806  9320.97840625]\n",
      " [ 8451.23229602  8347.56750541  8562.30747044  8881.96239146\n",
      "   9131.11498806  9320.97840625  9545.07795659]\n",
      " [ 8347.56750541  8562.30747044  8881.96239146  9131.11498806\n",
      "   9320.97840625  9545.07795659  9388.88075189]\n",
      " [ 8562.30747044  8881.96239146  9131.11498806  9320.97840625\n",
      "   9545.07795659  9388.88075189  9363.19338276]\n",
      " [ 8881.96239146  9131.11498806  9320.97840625  9545.07795659\n",
      "   9388.88075189  9363.19338276  9385.26038584]\n",
      " [ 9131.11498806  9320.97840625  9545.07795659  9388.88075189\n",
      "   9363.19338276  9385.26038584  9269.70703484]\n",
      " [ 9320.97840625  9545.07795659  9388.88075189  9363.19338276\n",
      "   9385.26038584  9269.70703484  9177.89463721]\n",
      " [ 9545.07795659  9388.88075189  9363.19338276  9385.26038584\n",
      "   9269.70703484  9177.89463721  9625.4566372 ]\n",
      " [ 9388.88075189  9363.19338276  9385.26038584  9269.70703484\n",
      "   9177.89463721  9625.4566372   9681.37741131]\n",
      " [ 9363.19338276  9385.26038584  9269.70703484  9177.89463721\n",
      "   9625.4566372   9681.37741131  9795.34406595]\n",
      " [ 9385.26038584  9269.70703484  9177.89463721  9625.4566372\n",
      "   9681.37741131  9795.34406595  9927.77825642]\n",
      " [ 9269.70703484  9177.89463721  9625.4566372   9681.37741131\n",
      "   9795.34406595  9927.77825642 10132.70649911]\n",
      " [ 9177.89463721  9625.4566372   9681.37741131  9795.34406595\n",
      "   9927.77825642 10132.70649911  9838.90001628]\n",
      " [ 9625.4566372   9681.37741131  9795.34406595  9927.77825642\n",
      "  10132.70649911  9838.90001628 10236.63514823]\n",
      " [ 9681.37741131  9795.34406595  9927.77825642 10132.70649911\n",
      "   9838.90001628 10236.63514823 10364.92628823]\n",
      " [ 9795.34406595  9927.77825642 10132.70649911  9838.90001628\n",
      "  10236.63514823 10364.92628823 10218.0997373 ]\n",
      " [ 9927.77825642 10132.70649911  9838.90001628 10236.63514823\n",
      "  10364.92628823 10218.0997373  10367.52799811]\n",
      " [10132.70649911  9838.90001628 10236.63514823 10364.92628823\n",
      "  10218.0997373  10367.52799811  9926.35369057]\n",
      " [ 9838.90001628 10236.63514823 10364.92628823 10218.0997373\n",
      "  10367.52799811  9926.35369057  9876.23496321]\n",
      " [10236.63514823 10364.92628823 10218.0997373  10367.52799811\n",
      "   9926.35369057  9876.23496321  9636.62409482]\n",
      " [10364.92628823 10218.0997373  10367.52799811  9926.35369057\n",
      "   9876.23496321  9636.62409482 10189.99598297]\n",
      " [10218.0997373  10367.52799811  9926.35369057  9876.23496321\n",
      "   9636.62409482 10189.99598297  9701.0371915 ]\n",
      " [10367.52799811  9926.35369057  9876.23496321  9636.62409482\n",
      "  10189.99598297  9701.0371915   9631.48494596]\n",
      " [ 9926.35369057  9876.23496321  9636.62409482 10189.99598297\n",
      "   9701.0371915   9631.48494596  9670.85865437]\n",
      " [ 9876.23496321  9636.62409482 10189.99598297  9701.0371915\n",
      "   9631.48494596  9670.85865437  9689.08674285]\n",
      " [ 9636.62409482 10189.99598297  9701.0371915   9631.48494596\n",
      "   9670.85865437  9689.08674285  9919.55144784]\n",
      " [10189.99598297  9701.0371915   9631.48494596  9670.85865437\n",
      "   9689.08674285  9919.55144784  9640.46950506]\n",
      " [ 9701.0371915   9631.48494596  9670.85865437  9689.08674285\n",
      "   9919.55144784  9640.46950506  9392.86962872]\n",
      " [ 9631.48494596  9670.85865437  9689.08674285  9919.55144784\n",
      "   9640.46950506  9392.86962872  8787.97836316]\n",
      " [ 9670.85865437  9689.08674285  9919.55144784  9640.46950506\n",
      "   9392.86962872  8787.97836316  8784.99535244]\n",
      " [ 9689.08674285  9919.55144784  9640.46950506  9392.86962872\n",
      "   8787.97836316  8784.99535244  8778.4705108 ]\n",
      " [ 9919.55144784  9640.46950506  9392.86962872  8787.97836316\n",
      "   8784.99535244  8778.4705108   8639.5914173 ]\n",
      " [ 9640.46950506  9392.86962872  8787.97836316  8784.99535244\n",
      "   8778.4705108   8639.5914173   8548.94832242]\n",
      " [ 9392.86962872  8787.97836316  8784.99535244  8778.4705108\n",
      "   8639.5914173   8548.94832242  8923.04439826]\n",
      " [ 8787.97836316  8784.99535244  8778.4705108   8639.5914173\n",
      "   8548.94832242  8923.04439826  8791.11205813]\n",
      " [ 8784.99535244  8778.4705108   8639.5914173   8548.94832242\n",
      "   8923.04439826  8791.11205813  8756.96106241]\n",
      " [ 8778.4705108   8639.5914173   8548.94832242  8923.04439826\n",
      "   8791.11205813  8756.96106241  9078.57877713]\n",
      " [ 8639.5914173   8548.94832242  8923.04439826  8791.11205813\n",
      "   8756.96106241  9078.57877713  9126.63682222]\n",
      " [ 8548.94832242  8923.04439826  8791.11205813  8756.96106241\n",
      "   9078.57877713  9126.63682222  8925.21348778]\n",
      " [ 8923.04439826  8791.11205813  8756.96106241  9078.57877713\n",
      "   9126.63682222  8925.21348778  8166.31389402]\n",
      " [ 8791.11205813  8756.96106241  9078.57877713  9126.63682222\n",
      "   8925.21348778  8166.31389402  7875.75087522]\n",
      " [ 8756.96106241  9078.57877713  9126.63682222  8925.21348778\n",
      "   8166.31389402  7875.75087522  7959.22827421]\n",
      " [ 9078.57877713  9126.63682222  8925.21348778  8166.31389402\n",
      "   7875.75087522  7959.22827421  7955.30628418]\n",
      " [ 9126.63682222  8925.21348778  8166.31389402  7875.75087522\n",
      "   7959.22827421  7955.30628418  5800.20890483]\n",
      " [ 8925.21348778  8166.31389402  7875.75087522  7959.22827421\n",
      "   7955.30628418  5800.20890483  5672.68120103]\n",
      " [ 8166.31389402  7875.75087522  7959.22827421  7955.30628418\n",
      "   5800.20890483  5672.68120103  5304.14995219]\n",
      " [ 7875.75087522  7959.22827421  7955.30628418  5800.20890483\n",
      "   5672.68120103  5304.14995219  5355.18737353]\n",
      " [ 7959.22827421  7955.30628418  5800.20890483  5672.68120103\n",
      "   5304.14995219  5355.18737353  4944.70233598]\n",
      " [ 7955.30628418  5800.20890483  5672.68120103  5304.14995219\n",
      "   5355.18737353  4944.70233598  5465.58259412]\n",
      " [ 5800.20890483  5672.68120103  5304.14995219  5355.18737353\n",
      "   4944.70233598  5465.58259412  5363.82285325]\n",
      " [ 5672.68120103  5304.14995219  5355.18737353  4944.70233598\n",
      "   5465.58259412  5363.82285325  6301.06340407]\n",
      " [ 5304.14995219  5355.18737353  4944.70233598  5465.58259412\n",
      "   5363.82285325  6301.06340407  6185.27983852]\n",
      " [ 5355.18737353  4944.70233598  5465.58259412  5363.82285325\n",
      "   6301.06340407  6185.27983852  6187.05375022]\n",
      " [ 4944.70233598  5465.58259412  5363.82285325  6301.06340407\n",
      "   6185.27983852  6187.05375022  5884.34013347]\n",
      " [ 5465.58259412  5363.82285325  6301.06340407  6185.27983852\n",
      "   6187.05375022  5884.34013347  6455.45468825]\n",
      " [ 5363.82285325  6301.06340407  6185.27983852  6187.05375022\n",
      "   5884.34013347  6455.45468825  6784.31801143]\n",
      " [ 6301.06340407  6185.27983852  6187.05375022  5884.34013347\n",
      "   6455.45468825  6784.31801143  6706.98508913]\n",
      " [ 6185.27983852  6187.05375022  5884.34013347  6455.45468825\n",
      "   6784.31801143  6706.98508913  6721.49539238]\n",
      " [ 6187.05375022  5884.34013347  6455.45468825  6784.31801143\n",
      "   6706.98508913  6721.49539238  6682.7800492 ]\n",
      " [ 5884.34013347  6455.45468825  6784.31801143  6706.98508913\n",
      "   6721.49539238  6682.7800492   6229.48834283]\n",
      " [ 6455.45468825  6784.31801143  6706.98508913  6721.49539238\n",
      "   6682.7800492   6229.48834283  5922.48983509]\n",
      " [ 6784.31801143  6706.98508913  6721.49539238  6682.7800492\n",
      "   6229.48834283  5922.48983509  6483.73944553]\n",
      " [ 6706.98508913  6721.49539238  6682.7800492   6229.48834283\n",
      "   5922.48983509  6483.73944553  6446.42134684]\n",
      " [ 6721.49539238  6682.7800492   6229.48834283  5922.48983509\n",
      "   6483.73944553  6446.42134684  6537.3364615 ]\n",
      " [ 6682.7800492   6229.48834283  5922.48983509  6483.73944553\n",
      "   6446.42134684  6537.3364615   6850.55871169]\n",
      " [ 6229.48834283  5922.48983509  6483.73944553  6446.42134684\n",
      "   6537.3364615   6850.55871169  6776.37009357]\n",
      " [ 5922.48983509  6483.73944553  6446.42134684  6537.3364615\n",
      "   6850.55871169  6776.37009357  6855.93326446]\n",
      " [ 6483.73944553  6446.42134684  6537.3364615   6850.55871169\n",
      "   6776.37009357  6855.93326446  6805.3622869 ]\n",
      " [ 6446.42134684  6537.3364615   6850.55871169  6776.37009357\n",
      "   6855.93326446  6805.3622869   7278.24396977]\n",
      " [ 6537.3364615   6850.55871169  6776.37009357  6855.93326446\n",
      "   6805.3622869   7278.24396977  7175.66747656]\n",
      " [ 6850.55871169  6776.37009357  6855.93326446  6805.3622869\n",
      "   7278.24396977  7175.66747656  7367.29339845]\n",
      " [ 6776.37009357  6855.93326446  6805.3622869   7278.24396977\n",
      "   7175.66747656  7367.29339845  7321.81661389]\n",
      " [ 6855.93326446  6805.3622869   7278.24396977  7175.66747656\n",
      "   7367.29339845  7321.81661389  6866.39818901]\n",
      " [ 6805.3622869   7278.24396977  7175.66747656  7367.29339845\n",
      "   7321.81661389  6866.39818901  6873.84849516]\n",
      " [ 7278.24396977  7175.66747656  7367.29339845  7321.81661389\n",
      "   6866.39818901  6873.84849516  7043.43886352]\n",
      " [ 7175.66747656  7367.29339845  7321.81661389  6866.39818901\n",
      "   6873.84849516  7043.43886352  6889.86377235]\n",
      " [ 7367.29339845  7321.81661389  6866.39818901  6873.84849516\n",
      "   7043.43886352  6889.86377235  6887.55490783]\n",
      " [ 7321.81661389  6866.39818901  6873.84849516  7043.43886352\n",
      "   6889.86377235  6887.55490783  6718.79995028]\n",
      " [ 6866.39818901  6873.84849516  7043.43886352  6889.86377235\n",
      "   6887.55490783  6718.79995028  7166.58281714]\n",
      " [ 6873.84849516  7043.43886352  6889.86377235  6887.55490783\n",
      "   6718.79995028  7166.58281714  7065.08238904]\n",
      " [ 7043.43886352  6889.86377235  6887.55490783  6718.79995028\n",
      "   7166.58281714  7065.08238904  7277.14058556]\n",
      " [ 6889.86377235  6887.55490783  6718.79995028  7166.58281714\n",
      "   7065.08238904  7277.14058556  7185.87030343]\n",
      " [ 6887.55490783  6718.79995028  7166.58281714  7065.08238904\n",
      "   7277.14058556  7185.87030343  6856.14643454]\n",
      " [ 6718.79995028  7166.58281714  7065.08238904  7277.14058556\n",
      "   7185.87030343  6856.14643454  6904.4757727 ]\n",
      " [ 7166.58281714  7065.08238904  7277.14058556  7185.87030343\n",
      "   6856.14643454  6904.4757727   7118.38874792]\n",
      " [ 7065.08238904  7277.14058556  7185.87030343  6856.14643454\n",
      "   6904.4757727   7118.38874792  7562.03283175]\n",
      " [ 7277.14058556  7185.87030343  6856.14643454  6904.4757727\n",
      "   7118.38874792  7562.03283175  7497.86176383]\n",
      " [ 7185.87030343  6856.14643454  6904.4757727   7118.38874792\n",
      "   7562.03283175  7497.86176383  7542.3034007 ]\n",
      " [ 6856.14643454  6904.4757727   7118.38874792  7562.03283175\n",
      "   7497.86176383  7542.3034007   7624.85378592]\n",
      " [ 6904.4757727   7118.38874792  7562.03283175  7497.86176383\n",
      "   7542.3034007   7624.85378592  7776.50754257]\n",
      " [ 7118.38874792  7562.03283175  7497.86176383  7542.3034007\n",
      "   7624.85378592  7776.50754257  7761.75878408]\n",
      " [ 7562.03283175  7497.86176383  7542.3034007   7624.85378592\n",
      "   7776.50754257  7761.75878408  8773.10648796]\n",
      " [ 7497.86176383  7542.3034007   7624.85378592  7776.50754257\n",
      "   7761.75878408  8773.10648796  8767.67262337]\n",
      " [ 7542.3034007   7624.85378592  7776.50754257  7761.75878408\n",
      "   8773.10648796  8767.67262337  8853.77448401]\n",
      " [ 7624.85378592  7776.50754257  7761.75878408  8773.10648796\n",
      "   8767.67262337  8853.77448401  8963.0575578 ]\n",
      " [ 7776.50754257  7761.75878408  8773.10648796  8767.67262337\n",
      "   8853.77448401  8963.0575578   8904.71381654]\n",
      " [ 7761.75878408  8773.10648796  8767.67262337  8853.77448401\n",
      "   8963.0575578   8904.71381654  8887.50589259]\n",
      " [ 8773.10648796  8767.67262337  8853.77448401  8963.0575578\n",
      "   8904.71381654  8887.50589259  8978.28358712]\n",
      " [ 8767.67262337  8853.77448401  8963.0575578   8904.71381654\n",
      "   8887.50589259  8978.28358712  9371.68427279]\n",
      " [ 8853.77448401  8963.0575578   8904.71381654  8887.50589259\n",
      "   8978.28358712  9371.68427279  9900.67886662]\n",
      " [ 8963.0575578   8904.71381654  8887.50589259  8978.28358712\n",
      "   9371.68427279  9900.67886662  9917.24841434]\n",
      " [ 8904.71381654  8887.50589259  8978.28358712  9371.68427279\n",
      "   9900.67886662  9917.24841434  9617.51819493]\n",
      " [ 8887.50589259  8978.28358712  9371.68427279  9900.67886662\n",
      "   9917.24841434  9617.51819493  8786.65518165]\n",
      " [ 8978.28358712  9371.68427279  9900.67886662  9917.24841434\n",
      "   9617.51819493  8786.65518165  8608.12524504]\n",
      " [ 9371.68427279  9900.67886662  9917.24841434  9617.51819493\n",
      "   8786.65518165  8608.12524504  8815.2312449 ]\n",
      " [ 9900.67886662  9917.24841434  9617.51819493  8786.65518165\n",
      "   8608.12524504  8815.2312449   9330.9864847 ]\n",
      " [ 9917.24841434  9617.51819493  8786.65518165  8608.12524504\n",
      "   8815.2312449   9330.9864847   9757.29658559]\n",
      " [ 9617.51819493  8786.65518165  8608.12524504  8815.2312449\n",
      "   9330.9864847   9757.29658559  9362.63555697]\n",
      " [ 8786.65518165  8608.12524504  8815.2312449   9330.9864847\n",
      "   9757.29658559  9362.63555697  9418.91855051]\n",
      " [ 8608.12524504  8815.2312449   9330.9864847   9757.29658559\n",
      "   9362.63555697  9418.91855051  9684.70195935]\n",
      " [ 8815.2312449   9330.9864847   9757.29658559  9362.63555697\n",
      "   9418.91855051  9684.70195935  9723.68015045]\n",
      " [ 9330.9864847   9757.29658559  9362.63555697  9418.91855051\n",
      "   9684.70195935  9723.68015045  9719.48085448]\n",
      " [ 9757.29658559  9362.63555697  9418.91855051  9684.70195935\n",
      "   9723.68015045  9719.48085448  9540.88656658]\n",
      " [ 9362.63555697  9418.91855051  9684.70195935  9723.68015045\n",
      "   9719.48085448  9540.88656658  9141.15063742]\n",
      " [ 9418.91855051  9684.70195935  9723.68015045  9719.48085448\n",
      "   9540.88656658  9141.15063742  9192.84513581]\n",
      " [ 9684.70195935  9723.68015045  9719.48085448  9540.88656658\n",
      "   9141.15063742  9192.84513581  9220.07588747]\n",
      " [ 9723.68015045  9719.48085448  9540.88656658  9141.15063742\n",
      "   9192.84513581  9220.07588747  9048.71511916]\n",
      " [ 9719.48085448  9540.88656658  9141.15063742  9192.84513581\n",
      "   9220.07588747  9048.71511916  8905.78160454]\n",
      " [ 9540.88656658  9141.15063742  9192.84513581  9220.07588747\n",
      "   9048.71511916  8905.78160454  8835.72722404]\n",
      " [ 9141.15063742  9192.84513581  9220.07588747  9048.71511916\n",
      "   8905.78160454  8835.72722404  9112.97917559]\n",
      " [ 9192.84513581  9220.07588747  9048.71511916  8905.78160454\n",
      "   8835.72722404  9112.97917559  9507.52466466]\n",
      " [ 9220.07588747  9048.71511916  8905.78160454  8835.72722404\n",
      "   9112.97917559  9507.52466466  9425.28186919]\n",
      " [ 9048.71511916  8905.78160454  8835.72722404  9112.97917559\n",
      "   9507.52466466  9425.28186919  9688.32439037]\n",
      " [ 8905.78160454  8835.72722404  9112.97917559  9507.52466466\n",
      "   9425.28186919  9688.32439037  9427.67008414]\n",
      " [ 8835.72722404  9112.97917559  9507.52466466  9425.28186919\n",
      "   9688.32439037  9427.67008414 10268.58198473]\n",
      " [ 9112.97917559  9507.52466466  9425.28186919  9688.32439037\n",
      "   9427.67008414 10268.58198473  9516.13544309]], shape=(128, 7), dtype=float64)\n",
      "tf.Tensor(\n",
      "[[ 9507.52466466  9425.28186919  9688.32439037  9427.67008414\n",
      "  10268.58198473  9516.13544309  9667.06075426]\n",
      " [ 9425.28186919  9688.32439037  9427.67008414 10268.58198473\n",
      "   9516.13544309  9667.06075426  9811.3670946 ]\n",
      " [ 9688.32439037  9427.67008414 10268.58198473  9516.13544309\n",
      "   9667.06075426  9811.3670946   9659.66129819]\n",
      " [ 9427.67008414 10268.58198473  9516.13544309  9667.06075426\n",
      "   9811.3670946   9659.66129819  9677.05099451]\n",
      " [10268.58198473  9516.13544309  9667.06075426  9811.3670946\n",
      "   9659.66129819  9677.05099451  9737.45855879]\n",
      " [ 9516.13544309  9667.06075426  9811.3670946   9659.66129819\n",
      "   9677.05099451  9737.45855879  9791.92789977]\n",
      " [ 9667.06075426  9811.3670946   9659.66129819  9677.05099451\n",
      "   9737.45855879  9791.92789977  9786.14202048]\n",
      " [ 9811.3670946   9659.66129819  9677.05099451  9737.45855879\n",
      "   9791.92789977  9786.14202048  9874.96704752]\n",
      " [ 9659.66129819  9677.05099451  9737.45855879  9791.92789977\n",
      "   9786.14202048  9874.96704752  9260.83264099]\n",
      " [ 9677.05099451  9737.45855879  9791.92789977  9786.14202048\n",
      "   9874.96704752  9260.83264099  9464.22809682]\n",
      " [ 9737.45855879  9791.92789977  9786.14202048  9874.96704752\n",
      "   9260.83264099  9464.22809682  9458.6597544 ]\n",
      " [ 9791.92789977  9786.14202048  9874.96704752  9260.83264099\n",
      "   9464.22809682  9458.6597544   9351.95372801]\n",
      " [ 9786.14202048  9874.96704752  9260.83264099  9464.22809682\n",
      "   9458.6597544   9351.95372801  9441.76899555]\n",
      " [ 9874.96704752  9260.83264099  9464.22809682  9458.6597544\n",
      "   9351.95372801  9441.76899555  9510.66063729]\n",
      " [ 9260.83264099  9464.22809682  9458.6597544   9351.95372801\n",
      "   9441.76899555  9510.66063729  9457.62707441]\n",
      " [ 9464.22809682  9458.6597544   9351.95372801  9441.76899555\n",
      "   9510.66063729  9457.62707441  9398.64209362]\n",
      " [ 9458.6597544   9351.95372801  9441.76899555  9510.66063729\n",
      "   9457.62707441  9398.64209362  9279.76076517]\n",
      " [ 9351.95372801  9441.76899555  9510.66063729  9457.62707441\n",
      "   9398.64209362  9279.76076517  9353.07819619]\n",
      " [ 9441.76899555  9510.66063729  9457.62707441  9398.64209362\n",
      "   9279.76076517  9353.07819619  9289.10449144]\n",
      " [ 9510.66063729  9457.62707441  9398.64209362  9279.76076517\n",
      "   9353.07819619  9289.10449144  9680.9471279 ]\n",
      " [ 9457.62707441  9398.64209362  9279.76076517  9353.07819619\n",
      "   9289.10449144  9680.9471279   9609.68024553]\n",
      " [ 9398.64209362  9279.76076517  9353.07819619  9289.10449144\n",
      "   9680.9471279   9609.68024553  9311.13631832]\n",
      " [ 9279.76076517  9353.07819619  9289.10449144  9680.9471279\n",
      "   9609.68024553  9311.13631832  9252.63337177]\n",
      " [ 9353.07819619  9289.10449144  9680.9471279   9609.68024553\n",
      "   9311.13631832  9252.63337177  9171.73208577]\n",
      " [ 9289.10449144  9680.9471279   9609.68024553  9311.13631832\n",
      "   9252.63337177  9171.73208577  9022.153768  ]\n",
      " [ 9680.9471279   9609.68024553  9311.13631832  9252.63337177\n",
      "   9171.73208577  9022.153768    9101.85005736]\n",
      " [ 9609.68024553  9311.13631832  9252.63337177  9171.73208577\n",
      "   9022.153768    9101.85005736  9188.06137546]\n",
      " [ 9311.13631832  9252.63337177  9171.73208577  9022.153768\n",
      "   9101.85005736  9188.06137546  9148.44485856]\n",
      " [ 9252.63337177  9171.73208577  9022.153768    9101.85005736\n",
      "   9188.06137546  9148.44485856  9236.31677043]\n",
      " [ 9171.73208577  9022.153768    9101.85005736  9188.06137546\n",
      "   9148.44485856  9236.31677043  9097.79736639]\n",
      " [ 9022.153768    9101.85005736  9188.06137546  9148.44485856\n",
      "   9236.31677043  9097.79736639  9094.32456102]\n",
      " [ 9101.85005736  9188.06137546  9148.44485856  9236.31677043\n",
      "   9097.79736639  9094.32456102  9124.6535344 ]\n",
      " [ 9188.06137546  9148.44485856  9236.31677043  9097.79736639\n",
      "   9094.32456102  9124.6535344   9055.46448252]\n",
      " [ 9148.44485856  9236.31677043  9097.79736639  9094.32456102\n",
      "   9124.6535344   9055.46448252  9278.80563704]\n",
      " [ 9236.31677043  9097.79736639  9094.32456102  9124.6535344\n",
      "   9055.46448252  9278.80563704  9244.41581454]\n",
      " [ 9097.79736639  9094.32456102  9124.6535344   9055.46448252\n",
      "   9278.80563704  9244.41581454  9471.75997342]\n",
      " [ 9094.32456102  9124.6535344   9055.46448252  9278.80563704\n",
      "   9244.41581454  9471.75997342  9236.14325371]\n",
      " [ 9124.6535344   9055.46448252  9278.80563704  9244.41581454\n",
      "   9471.75997342  9236.14325371  9243.17525915]\n",
      " [ 9055.46448252  9278.80563704  9244.41581454  9471.75997342\n",
      "   9236.14325371  9243.17525915  9229.85975494]\n",
      " [ 9278.80563704  9244.41581454  9471.75997342  9236.14325371\n",
      "   9243.17525915  9229.85975494  9286.73704209]\n",
      " [ 9244.41581454  9471.75997342  9236.14325371  9243.17525915\n",
      "   9229.85975494  9286.73704209  9238.99375486]\n",
      " [ 9471.75997342  9236.14325371  9243.17525915  9229.85975494\n",
      "   9286.73704209  9238.99375486  9260.47098018]\n",
      " [ 9236.14325371  9243.17525915  9229.85975494  9286.73704209\n",
      "   9238.99375486  9260.47098018  9211.02643289]\n",
      " [ 9243.17525915  9229.85975494  9286.73704209  9238.99375486\n",
      "   9260.47098018  9211.02643289  9133.77783034]\n",
      " [ 9229.85975494  9286.73704209  9238.99375486  9260.47098018\n",
      "   9211.02643289  9133.77783034  9160.41059149]\n",
      " [ 9286.73704209  9238.99375486  9260.47098018  9211.02643289\n",
      "   9133.77783034  9160.41059149  9176.6863901 ]\n",
      " [ 9238.99375486  9260.47098018  9211.02643289  9133.77783034\n",
      "   9160.41059149  9176.6863901   9190.2715342 ]\n",
      " [ 9260.47098018  9211.02643289  9133.77783034  9160.41059149\n",
      "   9176.6863901   9190.2715342   9172.58833257]\n",
      " [ 9211.02643289  9133.77783034  9160.41059149  9176.6863901\n",
      "   9190.2715342   9172.58833257  9395.06444588]\n",
      " [ 9133.77783034  9160.41059149  9176.6863901   9190.2715342\n",
      "   9172.58833257  9395.06444588  9530.79088535]\n",
      " [ 9160.41059149  9176.6863901   9190.2715342   9172.58833257\n",
      "   9395.06444588  9530.79088535  9617.37786138]\n",
      " [ 9176.6863901   9190.2715342   9172.58833257  9395.06444588\n",
      "   9530.79088535  9617.37786138  9568.97472596]\n",
      " [ 9190.2715342   9172.58833257  9395.06444588  9530.79088535\n",
      "   9617.37786138  9568.97472596  9708.9491401 ]\n",
      " [ 9172.58833257  9395.06444588  9530.79088535  9617.37786138\n",
      "   9568.97472596  9708.9491401   9938.95122286]\n",
      " [ 9395.06444588  9530.79088535  9617.37786138  9568.97472596\n",
      "   9708.9491401   9938.95122286 11187.77972696]\n",
      " [ 9530.79088535  9617.37786138  9568.97472596  9708.9491401\n",
      "   9938.95122286 11187.77972696 10939.67014155]\n",
      " [ 9617.37786138  9568.97472596  9708.9491401   9938.95122286\n",
      "  11187.77972696 10939.67014155 11284.45898685]\n",
      " [ 9568.97472596  9708.9491401   9938.95122286 11187.77972696\n",
      "  10939.67014155 11284.45898685 11118.91841243]\n",
      " [ 9708.9491401   9938.95122286 11187.77972696 10939.67014155\n",
      "  11284.45898685 11118.91841243 11373.31725664]\n",
      " [ 9938.95122286 11187.77972696 10939.67014155 11284.45898685\n",
      "  11118.91841243 11373.31725664 11766.74829709]\n",
      " [11187.77972696 10939.67014155 11284.45898685 11118.91841243\n",
      "  11373.31725664 11766.74829709 11139.09838035]\n",
      " [10939.67014155 11284.45898685 11118.91841243 11373.31725664\n",
      "  11766.74829709 11139.09838035 11261.80633174]\n",
      " [11284.45898685 11118.91841243 11373.31725664 11766.74829709\n",
      "  11139.09838035 11261.80633174 11228.02632402]\n",
      " [11118.91841243 11373.31725664 11766.74829709 11139.09838035\n",
      "  11261.80633174 11228.02632402 11653.40758556]\n",
      " [11373.31725664 11766.74829709 11139.09838035 11261.80633174\n",
      "  11228.02632402 11653.40758556 11796.81736499]\n",
      " [11766.74829709 11139.09838035 11261.80633174 11228.02632402\n",
      "  11653.40758556 11796.81736499 11639.93541013]\n",
      " [11139.09838035 11261.80633174 11228.02632402 11653.40758556\n",
      "  11796.81736499 11639.93541013 11744.9120755 ]\n",
      " [11261.80633174 11228.02632402 11653.40758556 11796.81736499\n",
      "  11639.93541013 11744.9120755  11673.12323754]\n",
      " [11228.02632402 11653.40758556 11796.81736499 11639.93541013\n",
      "  11744.9120755  11673.12323754 11832.22730813]\n",
      " [11653.40758556 11796.81736499 11639.93541013 11744.9120755\n",
      "  11673.12323754 11832.22730813 11340.58234064]\n",
      " [11796.81736499 11639.93541013 11744.9120755  11673.12323754\n",
      "  11832.22730813 11340.58234064 11549.54631437]\n",
      " [11639.93541013 11744.9120755  11673.12323754 11832.22730813\n",
      "  11340.58234064 11549.54631437 11752.16865623]\n",
      " [11744.9120755  11673.12323754 11832.22730813 11340.58234064\n",
      "  11549.54631437 11752.16865623 11783.28341126]\n",
      " [11673.12323754 11832.22730813 11340.58234064 11549.54631437\n",
      "  11752.16865623 11783.28341126 11895.62694989]\n",
      " [11832.22730813 11340.58234064 11549.54631437 11752.16865623\n",
      "  11783.28341126 11895.62694989 11896.94717019]\n",
      " [11340.58234064 11549.54631437 11752.16865623 11783.28341126\n",
      "  11895.62694989 11896.94717019 12399.11188466]\n",
      " [11549.54631437 11752.16865623 11783.28341126 11895.62694989\n",
      "  11896.94717019 12399.11188466 12071.73890908]\n",
      " [11752.16865623 11783.28341126 11895.62694989 11896.94717019\n",
      "  12399.11188466 12071.73890908 11749.82950876]\n",
      " [11783.28341126 11895.62694989 11896.94717019 12399.11188466\n",
      "  12071.73890908 11749.82950876 11833.8973487 ]\n",
      " [11895.62694989 11896.94717019 12399.11188466 12071.73890908\n",
      "  11749.82950876 11833.8973487  11583.13894263]\n",
      " [11896.94717019 12399.11188466 12071.73890908 11749.82950876\n",
      "  11833.8973487  11583.13894263 11674.62435391]\n",
      " [12399.11188466 12071.73890908 11749.82950876 11833.8973487\n",
      "  11583.13894263 11674.62435391 11666.41012224]\n",
      " [12071.73890908 11749.82950876 11833.8973487  11583.13894263\n",
      "  11674.62435391 11666.41012224 11744.01269665]\n",
      " [11749.82950876 11833.8973487  11583.13894263 11674.62435391\n",
      "  11666.41012224 11744.01269665 11378.72602981]\n",
      " [11833.8973487  11583.13894263 11674.62435391 11666.41012224\n",
      "  11744.01269665 11378.72602981 11458.82259649]\n",
      " [11583.13894263 11674.62435391 11666.41012224 11744.01269665\n",
      "  11378.72602981 11458.82259649 11302.1209645 ]\n",
      " [11674.62435391 11666.41012224 11744.01269665 11378.72602981\n",
      "  11458.82259649 11302.1209645  11482.22568651]\n",
      " [11666.41012224 11744.01269665 11378.72602981 11458.82259649\n",
      "  11302.1209645  11482.22568651 11515.04443069]\n",
      " [11744.01269665 11378.72602981 11458.82259649 11302.1209645\n",
      "  11482.22568651 11515.04443069 11657.00393423]\n",
      " [11378.72602981 11458.82259649 11302.1209645  11482.22568651\n",
      "  11515.04443069 11657.00393423 11678.37325542]\n",
      " [11458.82259649 11302.1209645  11482.22568651 11515.04443069\n",
      "  11657.00393423 11678.37325542 11964.20867246]\n",
      " [11302.1209645  11482.22568651 11515.04443069 11657.00393423\n",
      "  11678.37325542 11964.20867246 11427.70260497]\n",
      " [11482.22568651 11515.04443069 11657.00393423 11678.37325542\n",
      "  11964.20867246 11427.70260497 10712.92064607]\n",
      " [11515.04443069 11657.00393423 11678.37325542 11964.20867246\n",
      "  11427.70260497 10712.92064607 10563.89693862]\n",
      " [11657.00393423 11678.37325542 11964.20867246 11427.70260497\n",
      "  10712.92064607 10563.89693862 10042.85485437]\n",
      " [11678.37325542 11964.20867246 11427.70260497 10712.92064607\n",
      "  10563.89693862 10042.85485437 10207.60500296]\n",
      " [11964.20867246 11427.70260497 10712.92064607 10563.89693862\n",
      "  10042.85485437 10207.60500296 10381.77610693]\n",
      " [11427.70260497 10712.92064607 10563.89693862 10042.85485437\n",
      "  10207.60500296 10381.77610693 10043.19644129]\n",
      " [10712.92064607 10563.89693862 10042.85485437 10207.60500296\n",
      "  10381.77610693 10043.19644129 10268.46091575]\n",
      " [10563.89693862 10042.85485437 10207.60500296 10381.77610693\n",
      "  10043.19644129 10268.46091575 10341.01598385]\n",
      " [10042.85485437 10207.60500296 10381.77610693 10043.19644129\n",
      "  10268.46091575 10341.01598385 10380.53959723]\n",
      " [10207.60500296 10381.77610693 10043.19644129 10268.46091575\n",
      "  10341.01598385 10380.53959723 10436.36540836]\n",
      " [10381.77610693 10043.19644129 10268.46091575 10341.01598385\n",
      "  10380.53959723 10436.36540836 10313.06857949]\n",
      " [10043.19644129 10268.46091575 10341.01598385 10380.53959723\n",
      "  10436.36540836 10313.06857949 10680.29756117]\n",
      " [10268.46091575 10341.01598385 10380.53959723 10436.36540836\n",
      "  10313.06857949 10680.29756117 10829.5053072 ]\n",
      " [10341.01598385 10380.53959723 10436.36540836 10313.06857949\n",
      "  10680.29756117 10829.5053072  11033.38352648]\n",
      " [10380.53959723 10436.36540836 10313.06857949 10680.29756117\n",
      "  10829.5053072  11033.38352648 10937.1112591 ]\n",
      " [10436.36540836 10313.06857949 10680.29756117 10829.5053072\n",
      "  11033.38352648 10937.1112591  10933.9311624 ]\n",
      " [10313.06857949 10680.29756117 10829.5053072  11033.38352648\n",
      "  10937.1112591  10933.9311624  11048.87927816]\n",
      " [10680.29756117 10829.5053072  11033.38352648 10937.1112591\n",
      "  10933.9311624  11048.87927816 10852.91013894]\n",
      " [10829.5053072  11033.38352648 10937.1112591  10933.9311624\n",
      "  11048.87927816 10852.91013894 10526.2028872 ]\n",
      " [11033.38352648 10937.1112591  10933.9311624  11048.87927816\n",
      "  10852.91013894 10526.2028872  10531.16456263]\n",
      " [10937.1112591  10933.9311624  11048.87927816 10852.91013894\n",
      "  10526.2028872  10531.16456263 10260.03301241]\n",
      " [10933.9311624  11048.87927816 10852.91013894 10526.2028872\n",
      "  10531.16456263 10260.03301241 10672.95680806]\n",
      " [11048.87927816 10852.91013894 10526.2028872  10531.16456263\n",
      "  10260.03301241 10672.95680806 10729.06960742]\n",
      " [10852.91013894 10526.2028872  10531.16456263 10260.03301241\n",
      "  10672.95680806 10729.06960742 10741.47646752]\n",
      " [10526.2028872  10531.16456263 10260.03301241 10672.95680806\n",
      "  10729.06960742 10741.47646752 10752.34544975]\n",
      " [10531.16456263 10260.03301241 10672.95680806 10729.06960742\n",
      "  10741.47646752 10752.34544975 10863.06572391]\n",
      " [10260.03301241 10672.95680806 10729.06960742 10741.47646752\n",
      "  10752.34544975 10863.06572391 10764.28437072]\n",
      " [10672.95680806 10729.06960742 10741.47646752 10752.34544975\n",
      "  10863.06572391 10764.28437072 10741.5795495 ]\n",
      " [10729.06960742 10741.47646752 10752.34544975 10863.06572391\n",
      "  10764.28437072 10741.5795495  10626.6009565 ]\n",
      " [10741.47646752 10752.34544975 10863.06572391 10764.28437072\n",
      "  10741.5795495  10626.6009565  10567.33019523]\n",
      " [10752.34544975 10863.06572391 10764.28437072 10741.5795495\n",
      "  10626.6009565  10567.33019523 10555.02867878]\n",
      " [10863.06572391 10764.28437072 10741.5795495  10626.6009565\n",
      "  10567.33019523 10555.02867878 10660.61118264]\n",
      " [10764.28437072 10741.5795495  10626.6009565  10567.33019523\n",
      "  10555.02867878 10660.61118264 10756.40458492]\n",
      " [10741.5795495  10626.6009565  10567.33019523 10555.02867878\n",
      "  10660.61118264 10756.40458492 10589.62639353]\n",
      " [10626.6009565  10567.33019523 10555.02867878 10660.61118264\n",
      "  10756.40458492 10589.62639353 10645.75478678]\n",
      " [10567.33019523 10555.02867878 10660.61118264 10756.40458492\n",
      "  10589.62639353 10645.75478678 10897.59543151]], shape=(128, 7), dtype=float64)\n",
      "tf.Tensor(\n",
      "[[10555.02867878 10660.61118264 10756.40458492 10589.62639353\n",
      "  10645.75478678 10897.59543151 11052.39508367]\n",
      " [10660.61118264 10756.40458492 10589.62639353 10645.75478678\n",
      "  10897.59543151 11052.39508367 11360.85271687]\n",
      " [10756.40458492 10589.62639353 10645.75478678 10897.59543151\n",
      "  11052.39508367 11360.85271687 11334.02674203]\n",
      " [10589.62639353 10645.75478678 10897.59543151 11052.39508367\n",
      "  11360.85271687 11334.02674203 11666.21170032]\n",
      " [10645.75478678 10897.59543151 11052.39508367 11360.85271687\n",
      "  11334.02674203 11666.21170032 11443.73279182]\n",
      " [10897.59543151 11052.39508367 11360.85271687 11334.02674203\n",
      "  11666.21170032 11443.73279182 11395.54736637]\n",
      " [11052.39508367 11360.85271687 11334.02674203 11666.21170032\n",
      "  11443.73279182 11395.54736637 11504.54900671]\n",
      " [11360.85271687 11334.02674203 11666.21170032 11443.73279182\n",
      "  11395.54736637 11504.54900671 11355.16043945]\n",
      " [11334.02674203 11666.21170032 11443.73279182 11395.54736637\n",
      "  11504.54900671 11355.16043945 11358.70637963]\n",
      " [11666.21170032 11443.73279182 11395.54736637 11504.54900671\n",
      "  11355.16043945 11358.70637963 11471.00254779]\n",
      " [11443.73279182 11395.54736637 11504.54900671 11355.16043945\n",
      "  11358.70637963 11471.00254779 11776.59299733]\n",
      " [11395.54736637 11504.54900671 11355.16043945 11358.70637963\n",
      "  11471.00254779 11776.59299733 11936.36291334]\n",
      " [11504.54900671 11355.16043945 11358.70637963 11471.00254779\n",
      "  11776.59299733 11936.36291334 13102.93446155]\n",
      " [11355.16043945 11358.70637963 11471.00254779 11776.59299733\n",
      "  11936.36291334 13102.93446155 13140.66928406]\n",
      " [11358.70637963 11471.00254779 11776.59299733 11936.36291334\n",
      "  13102.93446155 13140.66928406 12933.82356549]\n",
      " [11471.00254779 11776.59299733 11936.36291334 13102.93446155\n",
      "  13140.66928406 12933.82356549 13081.67255949]\n",
      " [11776.59299733 11936.36291334 13102.93446155 13140.66928406\n",
      "  12933.82356549 13081.67255949 13008.45325775]\n",
      " [11936.36291334 13102.93446155 13140.66928406 12933.82356549\n",
      "  13081.67255949 13008.45325775 13033.52427008]\n",
      " [13102.93446155 13140.66928406 12933.82356549 13081.67255949\n",
      "  13008.45325775 13033.52427008 13721.28222485]\n",
      " [13140.66928406 12933.82356549 13081.67255949 13008.45325775\n",
      "  13033.52427008 13721.28222485 13282.26034792]\n",
      " [12933.82356549 13081.67255949 13008.45325775 13033.52427008\n",
      "  13721.28222485 13282.26034792 13467.73178281]\n",
      " [13081.67255949 13008.45325775 13033.52427008 13721.28222485\n",
      "  13282.26034792 13467.73178281 13573.71050315]\n",
      " [13008.45325775 13033.52427008 13721.28222485 13282.26034792\n",
      "  13467.73178281 13573.71050315 13891.21683316]\n",
      " [13033.52427008 13721.28222485 13282.26034792 13467.73178281\n",
      "  13573.71050315 13891.21683316 13730.19731094]\n",
      " [13721.28222485 13282.26034792 13467.73178281 13573.71050315\n",
      "  13891.21683316 13730.19731094 13633.69821689]\n",
      " [13282.26034792 13467.73178281 13573.71050315 13891.21683316\n",
      "  13730.19731094 13633.69821689 13832.93840977]\n",
      " [13467.73178281 13573.71050315 13891.21683316 13730.19731094\n",
      "  13633.69821689 13832.93840977 14163.9768155 ]\n",
      " [13573.71050315 13891.21683316 13730.19731094 13633.69821689\n",
      "  13832.93840977 14163.9768155  15424.52767669]\n",
      " [13891.21683316 13730.19731094 13633.69821689 13832.93840977\n",
      "  14163.9768155  15424.52767669 15540.59659081]\n",
      " [13730.19731094 13633.69821689 13832.93840977 14163.9768155\n",
      "  15424.52767669 15540.59659081 14783.98167853]\n",
      " [13633.69821689 13832.93840977 14163.9768155  15424.52767669\n",
      "  15540.59659081 14783.98167853 15500.33425474]\n",
      " [13832.93840977 14163.9768155  15424.52767669 15540.59659081\n",
      "  14783.98167853 15500.33425474 15283.78013873]\n",
      " [14163.9768155  15424.52767669 15540.59659081 14783.98167853\n",
      "  15500.33425474 15283.78013873 15374.04438576]\n",
      " [15424.52767669 15540.59659081 14783.98167853 15500.33425474\n",
      "  15283.78013873 15374.04438576 15820.49524108]\n",
      " [15540.59659081 14783.98167853 15500.33425474 15283.78013873\n",
      "  15374.04438576 15820.49524108 16253.31027194]\n",
      " [14783.98167853 15500.33425474 15283.78013873 15374.04438576\n",
      "  15820.49524108 16253.31027194 16347.04492035]\n",
      " [15500.33425474 15283.78013873 15374.04438576 15820.49524108\n",
      "  16253.31027194 16347.04492035 15991.8330244 ]\n",
      " [15283.78013873 15374.04438576 15820.49524108 16253.31027194\n",
      "  16347.04492035 15991.8330244  15918.08012811]\n",
      " [15374.04438576 15820.49524108 16253.31027194 16347.04492035\n",
      "  15991.8330244  15918.08012811 16752.00298996]\n",
      " [15820.49524108 16253.31027194 16347.04492035 15991.8330244\n",
      "  15918.08012811 16752.00298996 17593.48641493]\n",
      " [16253.31027194 16347.04492035 15991.8330244  15918.08012811\n",
      "  16752.00298996 17593.48641493 17834.63653371]\n",
      " [16347.04492035 15991.8330244  15918.08012811 16752.00298996\n",
      "  17593.48641493 17834.63653371 17954.8580091 ]\n",
      " [15991.8330244  15918.08012811 16752.00298996 17593.48641493\n",
      "  17834.63653371 17954.8580091  18612.87067218]\n",
      " [15918.08012811 16752.00298996 17593.48641493 17834.63653371\n",
      "  17954.8580091  18612.87067218 18591.85660475]\n",
      " [16752.00298996 17593.48641493 17834.63653371 17954.8580091\n",
      "  18612.87067218 18591.85660475 18629.99553726]\n",
      " [17593.48641493 17834.63653371 17954.8580091  18612.87067218\n",
      "  18591.85660475 18629.99553726 18469.20046948]\n",
      " [17834.63653371 17954.8580091  18612.87067218 18591.85660475\n",
      "  18629.99553726 18469.20046948 19045.73646565]\n",
      " [17954.8580091  18612.87067218 18591.85660475 18629.99553726\n",
      "  18469.20046948 19045.73646565 18746.9348067 ]\n",
      " [18612.87067218 18591.85660475 18629.99553726 18469.20046948\n",
      "  19045.73646565 18746.9348067  17187.40627633]\n",
      " [18591.85660475 18629.99553726 18469.20046948 19045.73646565\n",
      "  18746.9348067  17187.40627633 17023.96140009]\n",
      " [18629.99553726 18469.20046948 19045.73646565 18746.9348067\n",
      "  17187.40627633 17023.96140009 17814.78027844]\n",
      " [18469.20046948 19045.73646565 18746.9348067  17187.40627633\n",
      "  17023.96140009 17814.78027844 18114.41434928]\n",
      " [19045.73646565 18746.9348067  17187.40627633 17023.96140009\n",
      "  17814.78027844 18114.41434928 19382.36058587]\n",
      " [18746.9348067  17187.40627633 17023.96140009 17814.78027844\n",
      "  18114.41434928 19382.36058587 18980.97745012]\n",
      " [17187.40627633 17023.96140009 17814.78027844 18114.41434928\n",
      "  19382.36058587 18980.97745012 19184.89784774]\n",
      " [17023.96140009 17814.78027844 18114.41434928 19382.36058587\n",
      "  18980.97745012 19184.89784774 19464.53170456]\n",
      " [17814.78027844 18114.41434928 19382.36058587 18980.97745012\n",
      "  19184.89784774 19464.53170456 18813.12476029]\n",
      " [18114.41434928 19382.36058587 18980.97745012 19184.89784774\n",
      "  19464.53170456 18813.12476029 19045.0202726 ]\n",
      " [19382.36058587 18980.97745012 19184.89784774 19464.53170456\n",
      "  18813.12476029 19045.0202726  19113.93339509]\n",
      " [18980.97745012 19184.89784774 19464.53170456 18813.12476029\n",
      "  19045.0202726  19113.93339509 19107.59979531]\n",
      " [19184.89784774 19464.53170456 18813.12476029 19045.0202726\n",
      "  19113.93339509 19107.59979531 18682.45783321]\n",
      " [19464.53170456 18813.12476029 19045.0202726  19113.93339509\n",
      "  19107.59979531 18682.45783321 18543.00704922]\n",
      " [18813.12476029 19045.0202726  19113.93339509 19107.59979531\n",
      "  18682.45783321 18543.00704922 18359.47660034]\n",
      " [19045.0202726  19113.93339509 19107.59979531 18682.45783321\n",
      "  18543.00704922 18359.47660034 18137.31937461]\n",
      " [19113.93339509 19107.59979531 18682.45783321 18543.00704922\n",
      "  18359.47660034 18137.31937461 18882.26017106]\n",
      " [19107.59979531 18682.45783321 18543.00704922 18359.47660034\n",
      "  18137.31937461 18882.26017106 19060.27690128]\n",
      " [18682.45783321 18543.00704922 18359.47660034 18137.31937461\n",
      "  18882.26017106 19060.27690128 19251.22400471]\n",
      " [18543.00704922 18359.47660034 18137.31937461 18882.26017106\n",
      "  19060.27690128 19251.22400471 19443.47635283]\n",
      " [18359.47660034 18137.31937461 18882.26017106 19060.27690128\n",
      "  19251.22400471 19443.47635283 21310.65626223]\n",
      " [18137.31937461 18882.26017106 19060.27690128 19251.22400471\n",
      "  19443.47635283 21310.65626223 22895.97623755]\n",
      " [18882.26017106 19060.27690128 19251.22400471 19443.47635283\n",
      "  21310.65626223 22895.97623755 23008.77625674]\n",
      " [19060.27690128 19251.22400471 19443.47635283 21310.65626223\n",
      "  22895.97623755 23008.77625674 23890.82264887]\n",
      " [19251.22400471 19443.47635283 21310.65626223 22895.97623755\n",
      "  23008.77625674 23890.82264887 23537.36989089]\n",
      " [19443.47635283 21310.65626223 22895.97623755 23008.77625674\n",
      "  23890.82264887 23537.36989089 23177.27099799]\n",
      " [21310.65626223 22895.97623755 23008.77625674 23890.82264887\n",
      "  23537.36989089 23177.27099799 23433.98075814]\n",
      " [22895.97623755 23008.77625674 23890.82264887 23537.36989089\n",
      "  23177.27099799 23433.98075814 23224.45413785]\n",
      " [23008.77625674 23890.82264887 23537.36989089 23177.27099799\n",
      "  23433.98075814 23224.45413785 23623.88553323]\n",
      " [23890.82264887 23537.36989089 23177.27099799 23433.98075814\n",
      "  23224.45413785 23623.88553323 24581.00617127]\n",
      " [23537.36989089 23177.27099799 23433.98075814 23224.45413785\n",
      "  23623.88553323 24581.00617127 26381.29623292]\n",
      " [23177.27099799 23433.98075814 23224.45413785 23623.88553323\n",
      "  24581.00617127 26381.29623292 26389.29026494]\n",
      " [23433.98075814 23224.45413785 23623.88553323 24581.00617127\n",
      "  26381.29623292 26389.29026494 26718.0294634 ]\n",
      " [23224.45413785 23623.88553323 24581.00617127 26381.29623292\n",
      "  26389.29026494 26718.0294634  26975.72956452]\n",
      " [23623.88553323 24581.00617127 26381.29623292 26389.29026494\n",
      "  26718.0294634  26975.72956452 28768.83620753]\n",
      " [24581.00617127 26381.29623292 26389.29026494 26718.0294634\n",
      "  26975.72956452 28768.83620753 29111.52156712]\n",
      " [26381.29623292 26389.29026494 26718.0294634  26975.72956452\n",
      "  28768.83620753 29111.52156712 29333.60512062]\n",
      " [26389.29026494 26718.0294634  26975.72956452 28768.83620753\n",
      "  29111.52156712 29333.60512062 32154.16736327]\n",
      " [26718.0294634  26975.72956452 28768.83620753 29111.52156712\n",
      "  29333.60512062 32154.16736327 33002.53642704]\n",
      " [26975.72956452 28768.83620753 29111.52156712 29333.60512062\n",
      "  32154.16736327 33002.53642704 31431.61227972]\n",
      " [28768.83620753 29111.52156712 29333.60512062 32154.16736327\n",
      "  33002.53642704 31431.61227972 34433.60651384]\n",
      " [29111.52156712 29333.60512062 32154.16736327 33002.53642704\n",
      "  31431.61227972 34433.60651384 36275.75634767]\n",
      " [29333.60512062 32154.16736327 33002.53642704 31431.61227972\n",
      "  34433.60651384 36275.75634767 39713.50785672]\n",
      " [32154.16736327 33002.53642704 31431.61227972 34433.60651384\n",
      "  36275.75634767 39713.50785672 40519.44859753]\n",
      " [33002.53642704 31431.61227972 34433.60651384 36275.75634767\n",
      "  39713.50785672 40519.44859753 40258.92398866]\n",
      " [31431.61227972 34433.60651384 36275.75634767 39713.50785672\n",
      "  40519.44859753 40258.92398866 38709.76537488]\n",
      " [34433.60651384 36275.75634767 39713.50785672 40519.44859753\n",
      "  40258.92398866 38709.76537488 34409.64237522]\n",
      " [36275.75634767 39713.50785672 40519.44859753 40258.92398866\n",
      "  38709.76537488 34409.64237522 34214.61026205]\n",
      " [39713.50785672 40519.44859753 40258.92398866 38709.76537488\n",
      "  34409.64237522 34214.61026205 37017.00750345]\n",
      " [40519.44859753 40258.92398866 38709.76537488 34409.64237522\n",
      "  34214.61026205 37017.00750345 38435.86351466]\n",
      " [40258.92398866 38709.76537488 34409.64237522 34214.61026205\n",
      "  37017.00750345 38435.86351466 36751.58497369]\n",
      " [38709.76537488 34409.64237522 34214.61026205 37017.00750345\n",
      "  38435.86351466 36751.58497369 36016.77960594]\n",
      " [34409.64237522 34214.61026205 37017.00750345 38435.86351466\n",
      "  36751.58497369 36016.77960594 36375.81137926]\n",
      " [34214.61026205 37017.00750345 38435.86351466 36751.58497369\n",
      "  36016.77960594 36375.81137926 36346.60950223]\n",
      " [37017.00750345 38435.86351466 36751.58497369 36016.77960594\n",
      "  36375.81137926 36346.60950223 36577.51964639]\n",
      " [38435.86351466 36751.58497369 36016.77960594 36375.81137926\n",
      "  36346.60950223 36577.51964639 35004.53262688]\n",
      " [36751.58497369 36016.77960594 36375.81137926 36346.60950223\n",
      "  36577.51964639 35004.53262688 30606.18267565]\n",
      " [36016.77960594 36375.81137926 36346.60950223 36577.51964639\n",
      "  35004.53262688 30606.18267565 33368.36593189]\n",
      " [36375.81137926 36346.60950223 36577.51964639 35004.53262688\n",
      "  30606.18267565 33368.36593189 32070.0974252 ]\n",
      " [36346.60950223 36577.51964639 35004.53262688 30606.18267565\n",
      "  33368.36593189 32070.0974252  32285.72613244]\n",
      " [36577.51964639 35004.53262688 30606.18267565 33368.36593189\n",
      "  32070.0974252  32285.72613244 32500.25596269]\n",
      " [35004.53262688 30606.18267565 33368.36593189 32070.0974252\n",
      "  32285.72613244 32500.25596269 32324.55565073]\n",
      " [30606.18267565 33368.36593189 32070.0974252  32285.72613244\n",
      "  32500.25596269 32324.55565073 30534.99937302]\n",
      " [33368.36593189 32070.0974252  32285.72613244 32500.25596269\n",
      "  32324.55565073 30534.99937302 33408.21833739]\n",
      " [32070.0974252  32285.72613244 32500.25596269 32324.55565073\n",
      "  30534.99937302 33408.21833739 34842.55739312]\n",
      " [32285.72613244 32500.25596269 32324.55565073 30534.99937302\n",
      "  33408.21833739 34842.55739312 34622.37323153]\n",
      " [32500.25596269 32324.55565073 30534.99937302 33408.21833739\n",
      "  34842.55739312 34622.37323153 33087.36986452]\n",
      " [32324.55565073 30534.99937302 33408.21833739 34842.55739312\n",
      "  34622.37323153 33087.36986452 33613.32076431]\n",
      " [30534.99937302 33408.21833739 34842.55739312 34622.37323153\n",
      "  33087.36986452 33613.32076431 35632.90195152]\n",
      " [33408.21833739 34842.55739312 34622.37323153 33087.36986452\n",
      "  33613.32076431 35632.90195152 37397.42636409]\n",
      " [34842.55739312 34622.37323153 33087.36986452 33613.32076431\n",
      "  35632.90195152 37397.42636409 37256.25211087]\n",
      " [34622.37323153 33087.36986452 33613.32076431 35632.90195152\n",
      "  37397.42636409 37256.25211087 37851.59659008]\n",
      " [33087.36986452 33613.32076431 35632.90195152 37397.42636409\n",
      "  37256.25211087 37851.59659008 40302.79979284]\n",
      " [33613.32076431 35632.90195152 37397.42636409 37256.25211087\n",
      "  37851.59659008 40302.79979284 38461.6814033 ]\n",
      " [35632.90195152 37397.42636409 37256.25211087 37851.59659008\n",
      "  40302.79979284 38461.6814033  44716.68546906]\n",
      " [37397.42636409 37256.25211087 37851.59659008 40302.79979284\n",
      "  38461.6814033  44716.68546906 46674.85168811]\n",
      " [37256.25211087 37851.59659008 40302.79979284 38461.6814033\n",
      "  44716.68546906 46674.85168811 45237.47568925]\n",
      " [37851.59659008 40302.79979284 38461.6814033  44716.68546906\n",
      "  46674.85168811 45237.47568925 47500.8975242 ]\n",
      " [40302.79979284 38461.6814033  44716.68546906 46674.85168811\n",
      "  45237.47568925 47500.8975242  47884.1828623 ]\n",
      " [38461.6814033  44716.68546906 46674.85168811 45237.47568925\n",
      "  47500.8975242  47884.1828623  47005.1906489 ]], shape=(128, 7), dtype=float64)\n",
      "tf.Tensor(\n",
      "[[44716.68546906 46674.85168811 45237.47568925 47500.8975242\n",
      "  47884.1828623  47005.1906489  49151.16757632]\n",
      " [46674.85168811 45237.47568925 47500.8975242  47884.1828623\n",
      "  47005.1906489  49151.16757632 48125.99219541]\n",
      " [45237.47568925 47500.8975242  47884.1828623  47005.1906489\n",
      "  49151.16757632 48125.99219541 48840.41447458]\n",
      " [47500.8975242  47884.1828623  47005.1906489  49151.16757632\n",
      "  48125.99219541 48840.41447458 52165.30255522]\n",
      " [47884.1828623  47005.1906489  49151.16757632 48125.99219541\n",
      "  48840.41447458 52165.30255522 51728.50879673]\n",
      " [47005.1906489  49151.16757632 48125.99219541 48840.41447458\n",
      "  52165.30255522 51728.50879673 55719.2043617 ]\n",
      " [49151.16757632 48125.99219541 48840.41447458 52165.30255522\n",
      "  51728.50879673 55719.2043617  54801.64864399]\n",
      " [48125.99219541 48840.41447458 52165.30255522 51728.50879673\n",
      "  55719.2043617  54801.64864399 57128.64260647]\n",
      " [48840.41447458 52165.30255522 51728.50879673 55719.2043617\n",
      "  54801.64864399 57128.64260647 54181.91464919]\n",
      " [52165.30255522 51728.50879673 55719.2043617  54801.64864399\n",
      "  57128.64260647 54181.91464919 48172.87747693]\n",
      " [51728.50879673 55719.2043617  54801.64864399 57128.64260647\n",
      "  54181.91464919 48172.87747693 48745.43298434]\n",
      " [55719.2043617  54801.64864399 57128.64260647 54181.91464919\n",
      "  48172.87747693 48745.43298434 48291.41208335]\n",
      " [54801.64864399 57128.64260647 54181.91464919 48172.87747693\n",
      "  48745.43298434 48291.41208335 45752.11491941]\n",
      " [57128.64260647 54181.91464919 48172.87747693 48745.43298434\n",
      "  48291.41208335 45752.11491941 46642.60607658]\n",
      " [54181.91464919 48172.87747693 48745.43298434 48291.41208335\n",
      "  45752.11491941 46642.60607658 45092.8065726 ]\n",
      " [48172.87747693 48745.43298434 48291.41208335 45752.11491941\n",
      "  46642.60607658 45092.8065726  49248.91401331]\n",
      " [48745.43298434 48291.41208335 45752.11491941 46642.60607658\n",
      "  45092.8065726  49248.91401331 47900.77687833]\n",
      " [48291.41208335 45752.11491941 46642.60607658 45092.8065726\n",
      "  49248.91401331 47900.77687833 50811.85517444]\n",
      " [45752.11491941 46642.60607658 45092.8065726  49248.91401331\n",
      "  47900.77687833 50811.85517444 48259.48707666]\n",
      " [46642.60607658 45092.8065726  49248.91401331 47900.77687833\n",
      "  50811.85517444 48259.48707666 49149.73082884]\n",
      " [45092.8065726  49248.91401331 47900.77687833 50811.85517444\n",
      "  48259.48707666 49149.73082884 48879.15190416]\n",
      " [49248.91401331 47900.77687833 50811.85517444 48259.48707666\n",
      "  49149.73082884 48879.15190416 50594.69857451]\n",
      " [47900.77687833 50811.85517444 48259.48707666 49149.73082884\n",
      "  48879.15190416 50594.69857451 51503.25813218]\n",
      " [50811.85517444 48259.48707666 49149.73082884 48879.15190416\n",
      "  50594.69857451 51503.25813218 54458.03781142]\n",
      " [48259.48707666 49149.73082884 48879.15190416 50594.69857451\n",
      "  51503.25813218 54458.03781142 56915.17393505]\n",
      " [49149.73082884 48879.15190416 50594.69857451 51503.25813218\n",
      "  54458.03781142 56915.17393505 57636.75796197]\n",
      " [48879.15190416 50594.69857451 51503.25813218 54458.03781142\n",
      "  56915.17393505 57636.75796197 57306.16626299]\n",
      " [50594.69857451 51503.25813218 54458.03781142 56915.17393505\n",
      "  57636.75796197 57306.16626299 60743.04182491]\n",
      " [51503.25813218 54458.03781142 56915.17393505 57636.75796197\n",
      "  57306.16626299 60743.04182491 60197.9019918 ]\n",
      " [54458.03781142 56915.17393505 57636.75796197 57306.16626299\n",
      "  60743.04182491 60197.9019918  56300.33410863]\n",
      " [56915.17393505 57636.75796197 57306.16626299 60743.04182491\n",
      "  60197.9019918  56300.33410863 56639.78394967]\n",
      " [57636.75796197 57306.16626299 60743.04182491 60197.9019918\n",
      "  56300.33410863 56639.78394967 58567.28378106]\n",
      " [57306.16626299 60743.04182491 60197.9019918  56300.33410863\n",
      "  56639.78394967 58567.28378106 57983.09474357]\n",
      " [60743.04182491 60197.9019918  56300.33410863 56639.78394967\n",
      "  58567.28378106 57983.09474357 58451.73146595]\n",
      " [60197.9019918  56300.33410863 56639.78394967 58567.28378106\n",
      "  57983.09474357 58451.73146595 58593.60245406]\n",
      " [56300.33410863 56639.78394967 58567.28378106 57983.09474357\n",
      "  58451.73146595 58593.60245406 57796.46737122]\n",
      " [56639.78394967 58567.28378106 57983.09474357 58451.73146595\n",
      "  58593.60245406 57796.46737122 54329.35863463]\n",
      " [58567.28378106 57983.09474357 58451.73146595 58593.60245406\n",
      "  57796.46737122 54329.35863463 54794.29771371]\n",
      " [57983.09474357 58451.73146595 58593.60245406 57796.46737122\n",
      "  54329.35863463 54794.29771371 52787.74552575]\n",
      " [58451.73146595 58593.60245406 57796.46737122 54329.35863463\n",
      "  54794.29771371 52787.74552575 52173.86798025]\n",
      " [58593.60245406 57796.46737122 54329.35863463 54794.29771371\n",
      "  52787.74552575 52173.86798025 54483.0457323 ]\n",
      " [57796.46737122 54329.35863463 54794.29771371 52787.74552575\n",
      "  52173.86798025 54483.0457323  56234.356105  ]\n",
      " [54329.35863463 54794.29771371 52787.74552575 52173.86798025\n",
      "  54483.0457323  56234.356105   55343.92581533]\n",
      " [54794.29771371 52787.74552575 52173.86798025 54483.0457323\n",
      "  56234.356105   55343.92581533 57627.6792491 ]\n",
      " [52787.74552575 52173.86798025 54483.0457323  56234.356105\n",
      "  55343.92581533 57627.6792491  58734.47543372]\n",
      " [52173.86798025 54483.0457323  56234.356105   55343.92581533\n",
      "  57627.6792491  58734.47543372 58724.66451663]\n",
      " [54483.0457323  56234.356105   55343.92581533 57627.6792491\n",
      "  58734.47543372 58724.66451663 58984.61292993]\n",
      " [56234.356105   55343.92581533 57627.6792491  58734.47543372\n",
      "  58724.66451663 58984.61292993 58821.62699444]\n",
      " [55343.92581533 57627.6792491  58734.47543372 58724.66451663\n",
      "  58984.61292993 58821.62699444 57517.79877314]\n",
      " [57627.6792491  58734.47543372 58724.66451663 58984.61292993\n",
      "  58821.62699444 57517.79877314 58177.40276373]\n",
      " [58734.47543372 58724.66451663 58984.61292993 58821.62699444\n",
      "  57517.79877314 58177.40276373 58843.55954021]\n",
      " [58724.66451663 58984.61292993 58821.62699444 57517.79877314\n",
      "  58177.40276373 58843.55954021 58040.18760188]\n",
      " [58984.61292993 58821.62699444 57517.79877314 58177.40276373\n",
      "  58843.55954021 58040.18760188 56508.94286388]\n",
      " [58821.62699444 57517.79877314 58177.40276373 58843.55954021\n",
      "  58040.18760188 56508.94286388 57880.90568386]\n",
      " [57517.79877314 58177.40276373 58843.55954021 58040.18760188\n",
      "  56508.94286388 57880.90568386 58171.9090187 ]\n",
      " [58177.40276373 58843.55954021 58040.18760188 56508.94286388\n",
      "  57880.90568386 58171.9090187  59295.95004401]\n",
      " [58843.55954021 58040.18760188 56508.94286388 57880.90568386\n",
      "  58171.9090187  59295.95004401 59822.90167743]\n",
      " [58040.18760188 56508.94286388 57880.90568386 58171.9090187\n",
      "  59295.95004401 59822.90167743 59853.19724227]\n",
      " [56508.94286388 57880.90568386 58171.9090187  59295.95004401\n",
      "  59822.90167743 59853.19724227 63223.88439079]\n",
      " [57880.90568386 58171.9090187  59295.95004401 59822.90167743\n",
      "  59853.19724227 63223.88439079 62926.5571759 ]\n",
      " [58171.9090187  59295.95004401 59822.90167743 59853.19724227\n",
      "  63223.88439079 62926.5571759  63346.78903511]\n",
      " [59295.95004401 59822.90167743 59853.19724227 63223.88439079\n",
      "  62926.5571759  63346.78903511 61965.7825981 ]\n",
      " [59822.90167743 59853.19724227 63223.88439079 62926.5571759\n",
      "  63346.78903511 61965.7825981  60574.44472823]\n",
      " [59853.19724227 63223.88439079 62926.5571759  63346.78903511\n",
      "  61965.7825981  60574.44472823 56850.83016569]\n",
      " [63223.88439079 62926.5571759  63346.78903511 61965.7825981\n",
      "  60574.44472823 56850.83016569 56224.10158771]\n",
      " [62926.5571759  63346.78903511 61965.7825981  60574.44472823\n",
      "  56850.83016569 56224.10158771 56608.76974839]\n",
      " [63346.78903511 61965.7825981  60574.44472823 56850.83016569\n",
      "  56224.10158771 56608.76974839 54144.42747606]\n",
      " [61965.7825981  60574.44472823 56850.83016569 56224.10158771\n",
      "  56608.76974839 54144.42747606 51965.05955941]\n",
      " [60574.44472823 56850.83016569 56224.10158771 56608.76974839\n",
      "  54144.42747606 51965.05955941 50669.14438218]\n",
      " [56850.83016569 56224.10158771 56608.76974839 54144.42747606\n",
      "  51965.05955941 50669.14438218 50733.76950364]\n",
      " [56224.10158771 56608.76974839 54144.42747606 51965.05955941\n",
      "  50669.14438218 50733.76950364 48542.95220298]\n",
      " [56608.76974839 54144.42747606 51965.05955941 50669.14438218\n",
      "  50733.76950364 48542.95220298 53558.70784462]\n",
      " [54144.42747606 51965.05955941 50669.14438218 50733.76950364\n",
      "  48542.95220298 53558.70784462 55123.86198142]\n",
      " [51965.05955941 50669.14438218 50733.76950364 48542.95220298\n",
      "  53558.70784462 55123.86198142 54591.51532554]\n",
      " [50669.14438218 50733.76950364 48542.95220298 53558.70784462\n",
      "  55123.86198142 54591.51532554 53260.29534115]\n",
      " [50733.76950364 48542.95220298 53558.70784462 55123.86198142\n",
      "  54591.51532554 53260.29534115 57302.64642408]\n",
      " [48542.95220298 53558.70784462 55123.86198142 54591.51532554\n",
      "  53260.29534115 57302.64642408 57677.9752219 ]\n",
      " [53558.70784462 55123.86198142 54591.51532554 53260.29534115\n",
      "  57302.64642408 57677.9752219  56427.04312502]\n",
      " [55123.86198142 54591.51532554 53260.29534115 57302.64642408\n",
      "  57677.9752219  56427.04312502 57255.30683756]\n",
      " [54591.51532554 53260.29534115 57302.64642408 57677.9752219\n",
      "  56427.04312502 57255.30683756 53658.84312082]\n",
      " [53260.29534115 57302.64642408 57677.9752219  56427.04312502\n",
      "  57255.30683756 53658.84312082 57252.7021845 ]\n",
      " [57302.64642408 57677.9752219  56427.04312502 57255.30683756\n",
      "  53658.84312082 57252.7021845  56583.84987917]\n",
      " [57677.9752219  56427.04312502 57255.30683756 53658.84312082\n",
      "  57252.7021845  56583.84987917 57107.12067189]\n",
      " [56427.04312502 57255.30683756 53658.84312082 57252.7021845\n",
      "  56583.84987917 57107.12067189 58788.20967893]\n",
      " [57255.30683756 53658.84312082 57252.7021845  56583.84987917\n",
      "  57107.12067189 58788.20967893 58102.19142623]\n",
      " [53658.84312082 57252.7021845  56583.84987917 57107.12067189\n",
      "  58788.20967893 58102.19142623 55715.54665129]\n",
      " [57252.7021845  56583.84987917 57107.12067189 58788.20967893\n",
      "  58102.19142623 55715.54665129 56573.5554719 ]\n",
      " [56583.84987917 57107.12067189 58788.20967893 58102.19142623\n",
      "  55715.54665129 56573.5554719  52147.82118698]\n",
      " [57107.12067189 58788.20967893 58102.19142623 55715.54665129\n",
      "  56573.5554719  52147.82118698 49764.1320816 ]\n",
      " [58788.20967893 58102.19142623 55715.54665129 56573.5554719\n",
      "  52147.82118698 49764.1320816  50032.69313676]\n",
      " [58102.19142623 55715.54665129 56573.5554719  52147.82118698\n",
      "  49764.1320816  50032.69313676 47885.62525472]\n",
      " [55715.54665129 56573.5554719  52147.82118698 49764.1320816\n",
      "  50032.69313676 47885.62525472 45604.61575361]\n",
      " [56573.5554719  52147.82118698 49764.1320816  50032.69313676\n",
      "  47885.62525472 45604.61575361 43144.47129086]], shape=(93, 7), dtype=float64)\n"
     ]
    }
   ],
   "source": [
    "aux = tf.keras.utils.timeseries_dataset_from_array(\n",
    "    prices,\n",
    "    targets=None,\n",
    "    sequence_length=WINDOW_SIZE,\n",
    "    sequence_stride=HORIZON\n",
    ")\n",
    "\n",
    "for a in aux:\n",
    "    print(a)\n",
    "    "
   ]
  },
  {
   "cell_type": "code",
   "execution_count": 36,
   "metadata": {},
   "outputs": [
    {
     "name": "stdout",
     "output_type": "stream",
     "text": [
      "Entradas: [[ 1  2  3]\n",
      " [ 2  3  4]\n",
      " [ 3  4  5]\n",
      " [ 4  5  6]\n",
      " [ 5  6  7]\n",
      " [ 6  7  8]\n",
      " [ 7  8  9]\n",
      " [ 8  9 10]\n",
      " [ 9 10 11]\n",
      " [10 11 12]\n",
      " [11 12 13]\n",
      " [12 13 14]\n",
      " [13 14 15]\n",
      " [14 15 16]] Siguiente valor: [ 4  5  6  7  8  9 10 11 12 13 14 15 16 17]\n",
      "<class 'tensorflow.python.data.ops.batch_op._BatchDataset'>\n"
     ]
    }
   ],
   "source": [
    "data = np.arange(1, 18)\n",
    "\n",
    "# Definir la ventana de entrada (tamaño 3)\n",
    "sequence_length = 3\n",
    "\n",
    "# Crear el conjunto de datos usando timeseries_dataset_from_array\n",
    "dataset = tf.keras.utils.timeseries_dataset_from_array(\n",
    "    data,\n",
    "    targets=data[sequence_length:],  # Puedes ajustar esto según tus necesidades específicas\n",
    "    sequence_length=sequence_length,\n",
    "    sequence_stride=1,\n",
    "    batch_size=32  # Ajusta el tamaño del lote según tus necesidades\n",
    ")\n",
    "\n",
    "# Imprimir las muestras generadas\n",
    "for batch in dataset:\n",
    "    inputs, targets = batch\n",
    "    print(\"Entradas:\", inputs.numpy(), \"Siguiente valor:\", targets.numpy())\n",
    "\n",
    "\n",
    "    \n",
    "print(type(dataset))    \n"
   ]
  },
  {
   "cell_type": "markdown",
   "metadata": {},
   "source": [
    "## Turning windows into training and test sets"
   ]
  },
  {
   "cell_type": "code",
   "execution_count": 37,
   "metadata": {},
   "outputs": [
    {
     "data": {
      "text/plain": [
       "(array([[123.65499, 125.455  , 108.58483, 118.67466, 121.33866, 120.65533,\n",
       "         121.795  ],\n",
       "        [125.455  , 108.58483, 118.67466, 121.33866, 120.65533, 121.795  ,\n",
       "         123.033  ],\n",
       "        [108.58483, 118.67466, 121.33866, 120.65533, 121.795  , 123.033  ,\n",
       "         124.049  ],\n",
       "        [118.67466, 121.33866, 120.65533, 121.795  , 123.033  , 124.049  ,\n",
       "         125.96116],\n",
       "        [121.33866, 120.65533, 121.795  , 123.033  , 124.049  , 125.96116,\n",
       "         125.27966]]),\n",
       " array([[123.033  ],\n",
       "        [124.049  ],\n",
       "        [125.96116],\n",
       "        [125.27966],\n",
       "        [125.9275 ]]))"
      ]
     },
     "execution_count": 37,
     "metadata": {},
     "output_type": "execute_result"
    }
   ],
   "source": [
    "full_windows[:5], full_labels[:5]"
   ]
  },
  {
   "cell_type": "code",
   "execution_count": 45,
   "metadata": {},
   "outputs": [],
   "source": [
    "# Make the train/test splits para nuestro dataset ventaneado\n",
    "def make_train_test_splits(windows, labels, test_split=0.2):\n",
    "    \"\"\"\n",
    "    Splits matching pairs of winodws and labels into train and test splits.\n",
    "    \"\"\"\n",
    "    split_size = int(len(windows) * (1-test_split)) # this will default to 80% train/20% test: len(windows)=2780 aqu[i\n",
    "    train_windows = windows[:split_size]\n",
    "    train_labels = labels[:split_size]\n",
    "    test_windows = windows[split_size:]\n",
    "    test_labels = labels[split_size:]\n",
    "    return train_windows, test_windows, train_labels, test_labels"
   ]
  },
  {
   "cell_type": "code",
   "execution_count": 46,
   "metadata": {},
   "outputs": [
    {
     "data": {
      "text/plain": [
       "(2224, 556, 2224, 556)"
      ]
     },
     "execution_count": 46,
     "metadata": {},
     "output_type": "execute_result"
    }
   ],
   "source": [
    "# Create train and test windows \n",
    "train_windows, test_windows, train_labels, test_labels = make_train_test_splits(full_windows, full_labels)\n",
    "len(train_windows), len(test_windows), len(train_labels), len(test_labels)"
   ]
  },
  {
   "cell_type": "code",
   "execution_count": 40,
   "metadata": {},
   "outputs": [
    {
     "data": {
      "text/plain": [
       "(array([[123.65499, 125.455  , 108.58483, 118.67466, 121.33866, 120.65533,\n",
       "         121.795  ],\n",
       "        [125.455  , 108.58483, 118.67466, 121.33866, 120.65533, 121.795  ,\n",
       "         123.033  ],\n",
       "        [108.58483, 118.67466, 121.33866, 120.65533, 121.795  , 123.033  ,\n",
       "         124.049  ],\n",
       "        [118.67466, 121.33866, 120.65533, 121.795  , 123.033  , 124.049  ,\n",
       "         125.96116],\n",
       "        [121.33866, 120.65533, 121.795  , 123.033  , 124.049  , 125.96116,\n",
       "         125.27966]]),\n",
       " array([[123.033  ],\n",
       "        [124.049  ],\n",
       "        [125.96116],\n",
       "        [125.27966],\n",
       "        [125.9275 ]]))"
      ]
     },
     "execution_count": 40,
     "metadata": {},
     "output_type": "execute_result"
    }
   ],
   "source": [
    "train_windows[:5], train_labels[:5]"
   ]
  },
  {
   "cell_type": "code",
   "execution_count": 41,
   "metadata": {},
   "outputs": [
    {
     "data": {
      "text/plain": [
       "(array([[9290.89660239, 9202.41545055, 9369.62808116, 9326.59962378,\n",
       "         9335.75240233, 9226.48582088, 8794.35864452],\n",
       "        [9202.41545055, 9369.62808116, 9326.59962378, 9335.75240233,\n",
       "         9226.48582088, 8794.35864452, 8798.04205463],\n",
       "        [9369.62808116, 9326.59962378, 9335.75240233, 9226.48582088,\n",
       "         8794.35864452, 8798.04205463, 9081.18687849],\n",
       "        [9326.59962378, 9335.75240233, 9226.48582088, 8794.35864452,\n",
       "         8798.04205463, 9081.18687849, 8711.53433917],\n",
       "        [9335.75240233, 9226.48582088, 8794.35864452, 8798.04205463,\n",
       "         9081.18687849, 8711.53433917, 8760.89271814]]),\n",
       " array([[8798.04205463],\n",
       "        [9081.18687849],\n",
       "        [8711.53433917],\n",
       "        [8760.89271814],\n",
       "        [8749.52059102]]))"
      ]
     },
     "execution_count": 41,
     "metadata": {},
     "output_type": "execute_result"
    }
   ],
   "source": [
    "test_windows[:5], test_labels[:5]"
   ]
  },
  {
   "cell_type": "code",
   "execution_count": 47,
   "metadata": {},
   "outputs": [
    {
     "data": {
      "text/plain": [
       "((2224, 1), (2229,))"
      ]
     },
     "execution_count": 47,
     "metadata": {},
     "output_type": "execute_result"
    }
   ],
   "source": [
    "train_labels.shape, y_train.shape"
   ]
  },
  {
   "cell_type": "markdown",
   "metadata": {},
   "source": [
    "Como los arreglos anteriores tienen distinto shape, debemos hacer el squeeze para compararlos apropiadamente (hay que deshacerse de la dimension con tamanio 1)"
   ]
  },
  {
   "cell_type": "code",
   "execution_count": 48,
   "metadata": {},
   "outputs": [
    {
     "data": {
      "text/plain": [
       "True"
      ]
     },
     "execution_count": 48,
     "metadata": {},
     "output_type": "execute_result"
    }
   ],
   "source": [
    "# Check to see if train labels are the same (before and after window split)\n",
    "np.array_equal(np.squeeze(train_labels[:-HORIZON-1]), y_train[WINDOW_SIZE:])"
   ]
  },
  {
   "cell_type": "markdown",
   "metadata": {},
   "source": [
    "## Make a modelling checkpoint callback\n",
    "\n",
    "Because our model's performance will fluctuate from experiment to experiment, we're going to write a model checkpoint so we can compare apples to apples.\n",
    "\n",
    "More specifically, we want to compare each of our model's best performances against the other model's best performances.\n",
    "\n",
    "For example if our model performs the best on epoch 55 (but we're training for 100 epochs), we want to load and evaluate the model saved on epoch 55.\n",
    "\n",
    "We can create a modelling checkpoint callback using the following: https://www.tensorflow.org/api_docs/python/tf/keras/callbacks/ModelCheckpoint"
   ]
  },
  {
   "cell_type": "code",
   "execution_count": 49,
   "metadata": {},
   "outputs": [],
   "source": [
    "# Create a function to implement a ModelCheckpoint callback with a specific filename \n",
    "def create_model_checkpoint(model_name, save_path=\"model_experiments\"):\n",
    "  return tf.keras.callbacks.ModelCheckpoint(filepath=os.path.join(save_path, model_name),\n",
    "                                            monitor=\"val_loss\",\n",
    "                                            verbose=0, # only output a limited amount of text\n",
    "                                            save_best_only=True)"
   ]
  },
  {
   "cell_type": "markdown",
   "metadata": {},
   "source": [
    "## MODELOS"
   ]
  },
  {
   "cell_type": "markdown",
   "metadata": {},
   "source": [
    "Probaremos distintos modelos."
   ]
  },
  {
   "cell_type": "markdown",
   "metadata": {},
   "source": [
    "### Model 1: Dense model (window = 7, horizon = 1)\n",
    "\n",
    "Our first deep model is going to be a simple dense model:\n",
    "* A single dense layer with 128 hidden units and ReLU\n",
    "* An output layer with linear activation (no activation)\n",
    "* Adam optimizaiton and MAE loss function\n",
    "* Batch size of 128 (previously we've used 32) \n",
    "* 100 epochs \n",
    "\n",
    "Why these values?\n",
    "\n",
    "I picked them out of experimentation.\n",
    "\n",
    "* **Hyperparameters** = values a machine learning practitioner (you!) can adjust themselves\n",
    "* **Parameters** = values a model learns on its own"
   ]
  },
  {
   "cell_type": "code",
   "execution_count": 50,
   "metadata": {},
   "outputs": [
    {
     "name": "stdout",
     "output_type": "stream",
     "text": [
      "Epoch 1/100\n",
      "12/18 [===================>..........] - ETA: 0s - loss: 2092.7891 - mae: 2092.7891 - mse: 12127795.0000  "
     ]
    },
    {
     "name": "stderr",
     "output_type": "stream",
     "text": [
      "WARNING:absl:Found untraced functions such as _update_step_xla while saving (showing 1 of 1). These functions will not be directly callable after loading.\n"
     ]
    },
    {
     "name": "stdout",
     "output_type": "stream",
     "text": [
      "INFO:tensorflow:Assets written to: model_experiments\\model_1_dense\\assets\n"
     ]
    },
    {
     "name": "stderr",
     "output_type": "stream",
     "text": [
      "INFO:tensorflow:Assets written to: model_experiments\\model_1_dense\\assets\n"
     ]
    },
    {
     "name": "stdout",
     "output_type": "stream",
     "text": [
      "18/18 [==============================] - 20s 614ms/step - loss: 1565.6630 - mae: 1565.6630 - mse: 8551988.0000 - val_loss: 2868.6318 - val_mae: 2868.6318 - val_mse: 17376240.0000\n",
      "Epoch 2/100\n",
      "15/18 [========================>.....] - ETA: 0s - loss: 363.7988 - mae: 363.7988 - mse: 476102.7812"
     ]
    },
    {
     "name": "stderr",
     "output_type": "stream",
     "text": [
      "WARNING:absl:Found untraced functions such as _update_step_xla while saving (showing 1 of 1). These functions will not be directly callable after loading.\n"
     ]
    },
    {
     "name": "stdout",
     "output_type": "stream",
     "text": [
      "INFO:tensorflow:Assets written to: model_experiments\\model_1_dense\\assets\n"
     ]
    },
    {
     "name": "stderr",
     "output_type": "stream",
     "text": [
      "INFO:tensorflow:Assets written to: model_experiments\\model_1_dense\\assets\n"
     ]
    },
    {
     "name": "stdout",
     "output_type": "stream",
     "text": [
      "18/18 [==============================] - 8s 474ms/step - loss: 350.3177 - mae: 350.3177 - mse: 438750.5312 - val_loss: 1294.9534 - val_mae: 1294.9532 - val_mse: 4094741.7500\n",
      "Epoch 3/100\n",
      "13/18 [====================>.........] - ETA: 0s - loss: 181.0281 - mae: 181.0281 - mse: 157511.5156"
     ]
    },
    {
     "name": "stderr",
     "output_type": "stream",
     "text": [
      "WARNING:absl:Found untraced functions such as _update_step_xla while saving (showing 1 of 1). These functions will not be directly callable after loading.\n"
     ]
    },
    {
     "name": "stdout",
     "output_type": "stream",
     "text": [
      "INFO:tensorflow:Assets written to: model_experiments\\model_1_dense\\assets\n"
     ]
    },
    {
     "name": "stderr",
     "output_type": "stream",
     "text": [
      "INFO:tensorflow:Assets written to: model_experiments\\model_1_dense\\assets\n"
     ]
    },
    {
     "name": "stdout",
     "output_type": "stream",
     "text": [
      "18/18 [==============================] - 8s 478ms/step - loss: 173.2682 - mae: 173.2682 - mse: 145073.4219 - val_loss: 855.8322 - val_mae: 855.8322 - val_mse: 2197617.7500\n",
      "Epoch 4/100\n",
      "15/18 [========================>.....] - ETA: 0s - loss: 145.2320 - mae: 145.2320 - mse: 115146.3281"
     ]
    },
    {
     "name": "stderr",
     "output_type": "stream",
     "text": [
      "WARNING:absl:Found untraced functions such as _update_step_xla while saving (showing 1 of 1). These functions will not be directly callable after loading.\n"
     ]
    },
    {
     "name": "stdout",
     "output_type": "stream",
     "text": [
      "INFO:tensorflow:Assets written to: model_experiments\\model_1_dense\\assets\n"
     ]
    },
    {
     "name": "stderr",
     "output_type": "stream",
     "text": [
      "INFO:tensorflow:Assets written to: model_experiments\\model_1_dense\\assets\n"
     ]
    },
    {
     "name": "stdout",
     "output_type": "stream",
     "text": [
      "18/18 [==============================] - 8s 479ms/step - loss: 147.6045 - mae: 147.6045 - mse: 121148.8906 - val_loss: 797.5656 - val_mae: 797.5656 - val_mse: 2081228.0000\n",
      "Epoch 5/100\n",
      "18/18 [==============================] - 7s 399ms/step - loss: 143.1299 - mae: 143.1299 - mse: 112549.5469 - val_loss: 822.7496 - val_mae: 822.7496 - val_mse: 2046857.2500\n",
      "Epoch 6/100\n",
      "12/18 [===================>..........] - ETA: 0s - loss: 142.5253 - mae: 142.5253 - mse: 119111.8359"
     ]
    },
    {
     "name": "stderr",
     "output_type": "stream",
     "text": [
      "WARNING:absl:Found untraced functions such as _update_step_xla while saving (showing 1 of 1). These functions will not be directly callable after loading.\n"
     ]
    },
    {
     "name": "stdout",
     "output_type": "stream",
     "text": [
      "INFO:tensorflow:Assets written to: model_experiments\\model_1_dense\\assets\n"
     ]
    },
    {
     "name": "stderr",
     "output_type": "stream",
     "text": [
      "INFO:tensorflow:Assets written to: model_experiments\\model_1_dense\\assets\n"
     ]
    },
    {
     "name": "stdout",
     "output_type": "stream",
     "text": [
      "18/18 [==============================] - 8s 467ms/step - loss: 140.6158 - mae: 140.6158 - mse: 110231.7344 - val_loss: 763.1176 - val_mae: 763.1176 - val_mse: 1897893.7500\n",
      "Epoch 7/100\n",
      "13/18 [====================>.........] - ETA: 0s - loss: 144.3669 - mae: 144.3669 - mse: 119336.1328"
     ]
    },
    {
     "name": "stderr",
     "output_type": "stream",
     "text": [
      "WARNING:absl:Found untraced functions such as _update_step_xla while saving (showing 1 of 1). These functions will not be directly callable after loading.\n"
     ]
    },
    {
     "name": "stdout",
     "output_type": "stream",
     "text": [
      "INFO:tensorflow:Assets written to: model_experiments\\model_1_dense\\assets\n"
     ]
    },
    {
     "name": "stderr",
     "output_type": "stream",
     "text": [
      "INFO:tensorflow:Assets written to: model_experiments\\model_1_dense\\assets\n"
     ]
    },
    {
     "name": "stdout",
     "output_type": "stream",
     "text": [
      "18/18 [==============================] - 8s 485ms/step - loss: 135.5747 - mae: 135.5747 - mse: 103776.8594 - val_loss: 756.5637 - val_mae: 756.5637 - val_mse: 1830527.3750\n",
      "Epoch 8/100\n",
      "18/18 [==============================] - 7s 390ms/step - loss: 134.5956 - mae: 134.5956 - mse: 101142.5000 - val_loss: 770.5492 - val_mae: 770.5492 - val_mse: 1823632.8750\n",
      "Epoch 9/100\n",
      " 1/18 [>.............................] - ETA: 0s - loss: 106.6263 - mae: 106.6263 - mse: 50960.0508"
     ]
    },
    {
     "name": "stderr",
     "output_type": "stream",
     "text": [
      "WARNING:absl:Found untraced functions such as _update_step_xla while saving (showing 1 of 1). These functions will not be directly callable after loading.\n"
     ]
    },
    {
     "name": "stdout",
     "output_type": "stream",
     "text": [
      "INFO:tensorflow:Assets written to: model_experiments\\model_1_dense\\assets\n"
     ]
    },
    {
     "name": "stderr",
     "output_type": "stream",
     "text": [
      "INFO:tensorflow:Assets written to: model_experiments\\model_1_dense\\assets\n"
     ]
    },
    {
     "name": "stdout",
     "output_type": "stream",
     "text": [
      "18/18 [==============================] - 7s 433ms/step - loss: 131.9263 - mae: 131.9263 - mse: 98906.8438 - val_loss: 725.9913 - val_mae: 725.9913 - val_mse: 1724245.0000\n",
      "Epoch 10/100\n",
      "18/18 [==============================] - 7s 409ms/step - loss: 132.6297 - mae: 132.6297 - mse: 97774.3672 - val_loss: 794.3015 - val_mae: 794.3015 - val_mse: 1850795.3750\n",
      "Epoch 11/100\n",
      "18/18 [==============================] - 7s 393ms/step - loss: 129.9384 - mae: 129.9384 - mse: 95381.4062 - val_loss: 767.9622 - val_mae: 767.9622 - val_mse: 1761266.6250\n",
      "Epoch 12/100\n",
      "14/18 [======================>.......] - ETA: 0s - loss: 126.8171 - mae: 126.8171 - mse: 94291.6094"
     ]
    },
    {
     "name": "stderr",
     "output_type": "stream",
     "text": [
      "WARNING:absl:Found untraced functions such as _update_step_xla while saving (showing 1 of 1). These functions will not be directly callable after loading.\n"
     ]
    },
    {
     "name": "stdout",
     "output_type": "stream",
     "text": [
      "INFO:tensorflow:Assets written to: model_experiments\\model_1_dense\\assets\n"
     ]
    },
    {
     "name": "stderr",
     "output_type": "stream",
     "text": [
      "INFO:tensorflow:Assets written to: model_experiments\\model_1_dense\\assets\n"
     ]
    },
    {
     "name": "stdout",
     "output_type": "stream",
     "text": [
      "18/18 [==============================] - 4s 229ms/step - loss: 126.6941 - mae: 126.6941 - mse: 92140.9453 - val_loss: 717.9283 - val_mae: 717.9283 - val_mse: 1621103.6250\n",
      "Epoch 13/100\n",
      "16/18 [=========================>....] - ETA: 0s - loss: 126.5160 - mae: 126.5160 - mse: 93665.5938"
     ]
    },
    {
     "name": "stderr",
     "output_type": "stream",
     "text": [
      "WARNING:absl:Found untraced functions such as _update_step_xla while saving (showing 1 of 1). These functions will not be directly callable after loading.\n"
     ]
    },
    {
     "name": "stdout",
     "output_type": "stream",
     "text": [
      "INFO:tensorflow:Assets written to: model_experiments\\model_1_dense\\assets\n"
     ]
    },
    {
     "name": "stderr",
     "output_type": "stream",
     "text": [
      "INFO:tensorflow:Assets written to: model_experiments\\model_1_dense\\assets\n"
     ]
    },
    {
     "name": "stdout",
     "output_type": "stream",
     "text": [
      "18/18 [==============================] - 4s 234ms/step - loss: 125.4139 - mae: 125.4139 - mse: 90672.6094 - val_loss: 707.1702 - val_mae: 707.1702 - val_mse: 1580115.1250\n",
      "Epoch 14/100\n",
      "13/18 [====================>.........] - ETA: 0s - loss: 126.0142 - mae: 126.0142 - mse: 86465.3438"
     ]
    },
    {
     "name": "stderr",
     "output_type": "stream",
     "text": [
      "WARNING:absl:Found untraced functions such as _update_step_xla while saving (showing 1 of 1). These functions will not be directly callable after loading.\n"
     ]
    },
    {
     "name": "stdout",
     "output_type": "stream",
     "text": [
      "INFO:tensorflow:Assets written to: model_experiments\\model_1_dense\\assets\n"
     ]
    },
    {
     "name": "stderr",
     "output_type": "stream",
     "text": [
      "INFO:tensorflow:Assets written to: model_experiments\\model_1_dense\\assets\n"
     ]
    },
    {
     "name": "stdout",
     "output_type": "stream",
     "text": [
      "18/18 [==============================] - 4s 239ms/step - loss: 125.7588 - mae: 125.7588 - mse: 89189.6797 - val_loss: 678.8139 - val_mae: 678.8139 - val_mse: 1507055.2500\n",
      "Epoch 15/100\n",
      "18/18 [==============================] - 3s 162ms/step - loss: 122.3331 - mae: 122.3331 - mse: 86996.3125 - val_loss: 700.6558 - val_mae: 700.6558 - val_mse: 1542583.8750\n",
      "Epoch 16/100\n",
      "18/18 [==============================] - 3s 150ms/step - loss: 123.9429 - mae: 123.9429 - mse: 89843.4062 - val_loss: 699.3520 - val_mae: 699.3520 - val_mse: 1530881.3750\n",
      "Epoch 17/100\n",
      "14/18 [======================>.......] - ETA: 0s - loss: 122.9023 - mae: 122.9023 - mse: 82183.2969"
     ]
    },
    {
     "name": "stderr",
     "output_type": "stream",
     "text": [
      "WARNING:absl:Found untraced functions such as _update_step_xla while saving (showing 1 of 1). These functions will not be directly callable after loading.\n"
     ]
    },
    {
     "name": "stdout",
     "output_type": "stream",
     "text": [
      "INFO:tensorflow:Assets written to: model_experiments\\model_1_dense\\assets\n"
     ]
    },
    {
     "name": "stderr",
     "output_type": "stream",
     "text": [
      "INFO:tensorflow:Assets written to: model_experiments\\model_1_dense\\assets\n"
     ]
    },
    {
     "name": "stdout",
     "output_type": "stream",
     "text": [
      "18/18 [==============================] - 4s 224ms/step - loss: 122.9985 - mae: 122.9985 - mse: 85674.4062 - val_loss: 665.0091 - val_mae: 665.0091 - val_mse: 1479953.7500\n",
      "Epoch 18/100\n",
      "18/18 [==============================] - 3s 170ms/step - loss: 124.5413 - mae: 124.5413 - mse: 85262.4375 - val_loss: 686.0311 - val_mae: 686.0311 - val_mse: 1553612.0000\n",
      "Epoch 19/100\n",
      "15/18 [========================>.....] - ETA: 0s - loss: 123.3616 - mae: 123.3616 - mse: 91385.0781"
     ]
    },
    {
     "name": "stderr",
     "output_type": "stream",
     "text": [
      "WARNING:absl:Found untraced functions such as _update_step_xla while saving (showing 1 of 1). These functions will not be directly callable after loading.\n"
     ]
    },
    {
     "name": "stdout",
     "output_type": "stream",
     "text": [
      "INFO:tensorflow:Assets written to: model_experiments\\model_1_dense\\assets\n"
     ]
    },
    {
     "name": "stderr",
     "output_type": "stream",
     "text": [
      "INFO:tensorflow:Assets written to: model_experiments\\model_1_dense\\assets\n"
     ]
    },
    {
     "name": "stdout",
     "output_type": "stream",
     "text": [
      "18/18 [==============================] - 4s 221ms/step - loss: 121.7427 - mae: 121.7427 - mse: 86681.2891 - val_loss: 653.2174 - val_mae: 653.2174 - val_mse: 1405453.2500\n",
      "Epoch 20/100\n",
      "18/18 [==============================] - ETA: 0s - loss: 118.4090 - mae: 118.4090 - mse: 82765.2344"
     ]
    },
    {
     "name": "stderr",
     "output_type": "stream",
     "text": [
      "WARNING:absl:Found untraced functions such as _update_step_xla while saving (showing 1 of 1). These functions will not be directly callable after loading.\n"
     ]
    },
    {
     "name": "stdout",
     "output_type": "stream",
     "text": [
      "INFO:tensorflow:Assets written to: model_experiments\\model_1_dense\\assets\n"
     ]
    },
    {
     "name": "stderr",
     "output_type": "stream",
     "text": [
      "INFO:tensorflow:Assets written to: model_experiments\\model_1_dense\\assets\n"
     ]
    },
    {
     "name": "stdout",
     "output_type": "stream",
     "text": [
      "18/18 [==============================] - 4s 243ms/step - loss: 118.4090 - mae: 118.4090 - mse: 82765.2344 - val_loss: 646.6528 - val_mae: 646.6528 - val_mse: 1408957.6250\n",
      "Epoch 21/100\n",
      "11/18 [=================>............] - ETA: 0s - loss: 122.1658 - mae: 122.1658 - mse: 90705.3516"
     ]
    },
    {
     "name": "stderr",
     "output_type": "stream",
     "text": [
      "WARNING:absl:Found untraced functions such as _update_step_xla while saving (showing 1 of 1). These functions will not be directly callable after loading.\n"
     ]
    },
    {
     "name": "stdout",
     "output_type": "stream",
     "text": [
      "INFO:tensorflow:Assets written to: model_experiments\\model_1_dense\\assets\n"
     ]
    },
    {
     "name": "stderr",
     "output_type": "stream",
     "text": [
      "INFO:tensorflow:Assets written to: model_experiments\\model_1_dense\\assets\n"
     ]
    },
    {
     "name": "stdout",
     "output_type": "stream",
     "text": [
      "18/18 [==============================] - 4s 263ms/step - loss: 118.2693 - mae: 118.2693 - mse: 83621.9609 - val_loss: 632.5958 - val_mae: 632.5958 - val_mse: 1353164.3750\n",
      "Epoch 22/100\n",
      "13/18 [====================>.........] - ETA: 0s - loss: 119.1961 - mae: 119.1961 - mse: 86403.3203"
     ]
    },
    {
     "name": "stderr",
     "output_type": "stream",
     "text": [
      "WARNING:absl:Found untraced functions such as _update_step_xla while saving (showing 1 of 1). These functions will not be directly callable after loading.\n"
     ]
    },
    {
     "name": "stdout",
     "output_type": "stream",
     "text": [
      "INFO:tensorflow:Assets written to: model_experiments\\model_1_dense\\assets\n"
     ]
    },
    {
     "name": "stderr",
     "output_type": "stream",
     "text": [
      "INFO:tensorflow:Assets written to: model_experiments\\model_1_dense\\assets\n"
     ]
    },
    {
     "name": "stdout",
     "output_type": "stream",
     "text": [
      "18/18 [==============================] - 4s 242ms/step - loss: 118.0688 - mae: 118.0688 - mse: 82994.3281 - val_loss: 629.0775 - val_mae: 629.0775 - val_mse: 1342705.3750\n",
      "Epoch 23/100\n",
      "18/18 [==============================] - 3s 163ms/step - loss: 116.9532 - mae: 116.9532 - mse: 81693.3438 - val_loss: 711.0159 - val_mae: 711.0159 - val_mse: 1531741.1250\n",
      "Epoch 24/100\n",
      "15/18 [========================>.....] - ETA: 0s - loss: 119.1056 - mae: 119.1056 - mse: 81649.3828"
     ]
    },
    {
     "name": "stderr",
     "output_type": "stream",
     "text": [
      "WARNING:absl:Found untraced functions such as _update_step_xla while saving (showing 1 of 1). These functions will not be directly callable after loading.\n"
     ]
    },
    {
     "name": "stdout",
     "output_type": "stream",
     "text": [
      "INFO:tensorflow:Assets written to: model_experiments\\model_1_dense\\assets\n"
     ]
    },
    {
     "name": "stderr",
     "output_type": "stream",
     "text": [
      "INFO:tensorflow:Assets written to: model_experiments\\model_1_dense\\assets\n"
     ]
    },
    {
     "name": "stdout",
     "output_type": "stream",
     "text": [
      "18/18 [==============================] - 4s 225ms/step - loss: 119.7504 - mae: 119.7504 - mse: 81766.0938 - val_loss: 623.1592 - val_mae: 623.1592 - val_mse: 1324715.6250\n",
      "Epoch 25/100\n",
      "18/18 [==============================] - 3s 160ms/step - loss: 116.8460 - mae: 116.8460 - mse: 81617.0547 - val_loss: 647.9628 - val_mae: 647.9628 - val_mse: 1415764.6250\n",
      "Epoch 26/100\n",
      "18/18 [==============================] - 3s 149ms/step - loss: 116.6995 - mae: 116.6995 - mse: 80852.6328 - val_loss: 635.0495 - val_mae: 635.0495 - val_mse: 1340753.2500\n",
      "Epoch 27/100\n",
      "15/18 [========================>.....] - ETA: 0s - loss: 117.5781 - mae: 117.5781 - mse: 85134.3438"
     ]
    },
    {
     "name": "stderr",
     "output_type": "stream",
     "text": [
      "WARNING:absl:Found untraced functions such as _update_step_xla while saving (showing 1 of 1). These functions will not be directly callable after loading.\n"
     ]
    },
    {
     "name": "stdout",
     "output_type": "stream",
     "text": [
      "INFO:tensorflow:Assets written to: model_experiments\\model_1_dense\\assets\n"
     ]
    },
    {
     "name": "stderr",
     "output_type": "stream",
     "text": [
      "INFO:tensorflow:Assets written to: model_experiments\\model_1_dense\\assets\n"
     ]
    },
    {
     "name": "stdout",
     "output_type": "stream",
     "text": [
      "18/18 [==============================] - 4s 234ms/step - loss: 117.4283 - mae: 117.4283 - mse: 81368.6875 - val_loss: 621.9890 - val_mae: 621.9890 - val_mse: 1310896.2500\n",
      "Epoch 28/100\n",
      "18/18 [==============================] - 3s 162ms/step - loss: 116.2603 - mae: 116.2603 - mse: 79444.0469 - val_loss: 629.0479 - val_mae: 629.0479 - val_mse: 1347574.2500\n",
      "Epoch 29/100\n",
      "15/18 [========================>.....] - ETA: 0s - loss: 112.8214 - mae: 112.8214 - mse: 77120.0078 "
     ]
    },
    {
     "name": "stderr",
     "output_type": "stream",
     "text": [
      "WARNING:absl:Found untraced functions such as _update_step_xla while saving (showing 1 of 1). These functions will not be directly callable after loading.\n"
     ]
    },
    {
     "name": "stdout",
     "output_type": "stream",
     "text": [
      "INFO:tensorflow:Assets written to: model_experiments\\model_1_dense\\assets\n"
     ]
    },
    {
     "name": "stderr",
     "output_type": "stream",
     "text": [
      "INFO:tensorflow:Assets written to: model_experiments\\model_1_dense\\assets\n"
     ]
    },
    {
     "name": "stdout",
     "output_type": "stream",
     "text": [
      "18/18 [==============================] - 4s 216ms/step - loss: 113.3203 - mae: 113.3203 - mse: 78571.2969 - val_loss: 618.1346 - val_mae: 618.1346 - val_mse: 1307564.3750\n",
      "Epoch 30/100\n",
      "14/18 [======================>.......] - ETA: 0s - loss: 115.8604 - mae: 115.8604 - mse: 82578.6719 "
     ]
    },
    {
     "name": "stderr",
     "output_type": "stream",
     "text": [
      "WARNING:absl:Found untraced functions such as _update_step_xla while saving (showing 1 of 1). These functions will not be directly callable after loading.\n"
     ]
    },
    {
     "name": "stdout",
     "output_type": "stream",
     "text": [
      "INFO:tensorflow:Assets written to: model_experiments\\model_1_dense\\assets\n"
     ]
    },
    {
     "name": "stderr",
     "output_type": "stream",
     "text": [
      "INFO:tensorflow:Assets written to: model_experiments\\model_1_dense\\assets\n"
     ]
    },
    {
     "name": "stdout",
     "output_type": "stream",
     "text": [
      "18/18 [==============================] - 4s 241ms/step - loss: 114.2611 - mae: 114.2611 - mse: 78308.9062 - val_loss: 611.5264 - val_mae: 611.5264 - val_mse: 1280922.2500\n",
      "Epoch 31/100\n",
      "13/18 [====================>.........] - ETA: 0s - loss: 106.1734 - mae: 106.1734 - mse: 62894.8516"
     ]
    },
    {
     "name": "stderr",
     "output_type": "stream",
     "text": [
      "WARNING:absl:Found untraced functions such as _update_step_xla while saving (showing 1 of 1). These functions will not be directly callable after loading.\n"
     ]
    },
    {
     "name": "stdout",
     "output_type": "stream",
     "text": [
      "INFO:tensorflow:Assets written to: model_experiments\\model_1_dense\\assets\n"
     ]
    },
    {
     "name": "stderr",
     "output_type": "stream",
     "text": [
      "INFO:tensorflow:Assets written to: model_experiments\\model_1_dense\\assets\n"
     ]
    },
    {
     "name": "stdout",
     "output_type": "stream",
     "text": [
      "18/18 [==============================] - 4s 236ms/step - loss: 112.9091 - mae: 112.9091 - mse: 77433.3203 - val_loss: 606.6161 - val_mae: 606.6161 - val_mse: 1269441.8750\n",
      "Epoch 32/100\n",
      "18/18 [==============================] - 3s 155ms/step - loss: 112.0820 - mae: 112.0820 - mse: 76621.5938 - val_loss: 621.6833 - val_mae: 621.6833 - val_mse: 1320085.1250\n",
      "Epoch 33/100\n",
      "15/18 [========================>.....] - ETA: 0s - loss: 117.5357 - mae: 117.5357 - mse: 81301.4531"
     ]
    },
    {
     "name": "stderr",
     "output_type": "stream",
     "text": [
      "WARNING:absl:Found untraced functions such as _update_step_xla while saving (showing 1 of 1). These functions will not be directly callable after loading.\n"
     ]
    },
    {
     "name": "stdout",
     "output_type": "stream",
     "text": [
      "INFO:tensorflow:Assets written to: model_experiments\\model_1_dense\\assets\n"
     ]
    },
    {
     "name": "stderr",
     "output_type": "stream",
     "text": [
      "INFO:tensorflow:Assets written to: model_experiments\\model_1_dense\\assets\n"
     ]
    },
    {
     "name": "stdout",
     "output_type": "stream",
     "text": [
      "18/18 [==============================] - 4s 229ms/step - loss: 115.9191 - mae: 115.9191 - mse: 76677.6094 - val_loss: 604.0845 - val_mae: 604.0845 - val_mse: 1259922.7500\n",
      "Epoch 34/100\n",
      "18/18 [==============================] - 3s 164ms/step - loss: 112.8798 - mae: 112.8798 - mse: 76102.5312 - val_loss: 616.4028 - val_mae: 616.4028 - val_mse: 1279475.6250\n",
      "Epoch 35/100\n",
      "18/18 [==============================] - 3s 151ms/step - loss: 117.5457 - mae: 117.5457 - mse: 77088.5938 - val_loss: 612.5381 - val_mae: 612.5381 - val_mse: 1288486.5000\n",
      "Epoch 36/100\n",
      "14/18 [======================>.......] - ETA: 0s - loss: 112.8023 - mae: 112.8023 - mse: 71746.9844"
     ]
    },
    {
     "name": "stderr",
     "output_type": "stream",
     "text": [
      "WARNING:absl:Found untraced functions such as _update_step_xla while saving (showing 1 of 1). These functions will not be directly callable after loading.\n"
     ]
    },
    {
     "name": "stdout",
     "output_type": "stream",
     "text": [
      "INFO:tensorflow:Assets written to: model_experiments\\model_1_dense\\assets\n"
     ]
    },
    {
     "name": "stderr",
     "output_type": "stream",
     "text": [
      "INFO:tensorflow:Assets written to: model_experiments\\model_1_dense\\assets\n"
     ]
    },
    {
     "name": "stdout",
     "output_type": "stream",
     "text": [
      "18/18 [==============================] - 4s 223ms/step - loss: 115.1115 - mae: 115.1115 - mse: 76885.4297 - val_loss: 598.9272 - val_mae: 598.9272 - val_mse: 1244351.2500\n",
      "Epoch 37/100\n",
      "18/18 [==============================] - 3s 157ms/step - loss: 112.8819 - mae: 112.8819 - mse: 75372.5000 - val_loss: 601.0388 - val_mae: 601.0388 - val_mse: 1250404.1250\n",
      "Epoch 38/100\n",
      "18/18 [==============================] - 3s 152ms/step - loss: 110.8843 - mae: 110.8843 - mse: 74922.1484 - val_loss: 633.3006 - val_mae: 633.3006 - val_mse: 1309203.2500\n",
      "Epoch 39/100\n",
      "18/18 [==============================] - 3s 151ms/step - loss: 126.1552 - mae: 126.1552 - mse: 78466.5156 - val_loss: 654.2411 - val_mae: 654.2411 - val_mse: 1409978.5000\n",
      "Epoch 40/100\n",
      "18/18 [==============================] - 3s 157ms/step - loss: 119.4129 - mae: 119.4129 - mse: 78514.4922 - val_loss: 722.1755 - val_mae: 722.1755 - val_mse: 1608080.6250\n",
      "Epoch 41/100\n",
      "14/18 [======================>.......] - ETA: 0s - loss: 120.5141 - mae: 120.5141 - mse: 81717.7031"
     ]
    },
    {
     "name": "stderr",
     "output_type": "stream",
     "text": [
      "WARNING:absl:Found untraced functions such as _update_step_xla while saving (showing 1 of 1). These functions will not be directly callable after loading.\n"
     ]
    },
    {
     "name": "stdout",
     "output_type": "stream",
     "text": [
      "INFO:tensorflow:Assets written to: model_experiments\\model_1_dense\\assets\n"
     ]
    },
    {
     "name": "stderr",
     "output_type": "stream",
     "text": [
      "INFO:tensorflow:Assets written to: model_experiments\\model_1_dense\\assets\n"
     ]
    },
    {
     "name": "stdout",
     "output_type": "stream",
     "text": [
      "18/18 [==============================] - 4s 225ms/step - loss: 123.2788 - mae: 123.2788 - mse: 83793.8047 - val_loss: 597.2546 - val_mae: 597.2546 - val_mse: 1241147.1250\n",
      "Epoch 42/100\n",
      "18/18 [==============================] - 3s 161ms/step - loss: 111.0656 - mae: 111.0656 - mse: 74658.1797 - val_loss: 613.8504 - val_mae: 613.8504 - val_mse: 1267575.0000\n",
      "Epoch 43/100\n",
      "18/18 [==============================] - 3s 157ms/step - loss: 110.6027 - mae: 110.6027 - mse: 74204.2500 - val_loss: 669.7993 - val_mae: 669.7993 - val_mse: 1389729.3750\n",
      "Epoch 44/100\n",
      "18/18 [==============================] - 3s 151ms/step - loss: 117.0561 - mae: 117.0561 - mse: 77675.7188 - val_loss: 626.2496 - val_mae: 626.2496 - val_mse: 1322212.7500\n",
      "Epoch 45/100\n",
      "14/18 [======================>.......] - ETA: 0s - loss: 115.6461 - mae: 115.6461 - mse: 75132.7344"
     ]
    },
    {
     "name": "stderr",
     "output_type": "stream",
     "text": [
      "WARNING:absl:Found untraced functions such as _update_step_xla while saving (showing 1 of 1). These functions will not be directly callable after loading.\n"
     ]
    },
    {
     "name": "stdout",
     "output_type": "stream",
     "text": [
      "INFO:tensorflow:Assets written to: model_experiments\\model_1_dense\\assets\n"
     ]
    },
    {
     "name": "stderr",
     "output_type": "stream",
     "text": [
      "INFO:tensorflow:Assets written to: model_experiments\\model_1_dense\\assets\n"
     ]
    },
    {
     "name": "stdout",
     "output_type": "stream",
     "text": [
      "18/18 [==============================] - 4s 224ms/step - loss: 114.0648 - mae: 114.0648 - mse: 75637.2578 - val_loss: 590.5810 - val_mae: 590.5810 - val_mse: 1218937.5000\n",
      "Epoch 46/100\n",
      "18/18 [==============================] - 3s 162ms/step - loss: 116.4264 - mae: 116.4264 - mse: 78172.1328 - val_loss: 839.7062 - val_mae: 839.7062 - val_mse: 1985886.6250\n",
      "Epoch 47/100\n",
      "18/18 [==============================] - 3s 151ms/step - loss: 122.6693 - mae: 122.6693 - mse: 82340.7500 - val_loss: 595.2831 - val_mae: 595.2831 - val_mse: 1226699.2500\n",
      "Epoch 48/100\n",
      "18/18 [==============================] - 3s 153ms/step - loss: 110.9388 - mae: 110.9388 - mse: 74978.2891 - val_loss: 597.9928 - val_mae: 597.9928 - val_mse: 1245236.0000\n",
      "Epoch 49/100\n",
      "18/18 [==============================] - 3s 150ms/step - loss: 111.5490 - mae: 111.5490 - mse: 73099.6641 - val_loss: 666.5469 - val_mae: 666.5469 - val_mse: 1381352.7500\n",
      "Epoch 50/100\n",
      "16/18 [=========================>....] - ETA: 0s - loss: 116.1884 - mae: 116.1884 - mse: 77507.2422"
     ]
    },
    {
     "name": "stderr",
     "output_type": "stream",
     "text": [
      "WARNING:absl:Found untraced functions such as _update_step_xla while saving (showing 1 of 1). These functions will not be directly callable after loading.\n"
     ]
    },
    {
     "name": "stdout",
     "output_type": "stream",
     "text": [
      "INFO:tensorflow:Assets written to: model_experiments\\model_1_dense\\assets\n"
     ]
    },
    {
     "name": "stderr",
     "output_type": "stream",
     "text": [
      "INFO:tensorflow:Assets written to: model_experiments\\model_1_dense\\assets\n"
     ]
    },
    {
     "name": "stdout",
     "output_type": "stream",
     "text": [
      "18/18 [==============================] - 4s 222ms/step - loss: 113.2350 - mae: 113.2350 - mse: 74622.3516 - val_loss: 590.1390 - val_mae: 590.1390 - val_mse: 1220637.8750\n",
      "Epoch 51/100\n",
      "18/18 [==============================] - 3s 161ms/step - loss: 110.5273 - mae: 110.5273 - mse: 72934.6328 - val_loss: 667.3062 - val_mae: 667.3062 - val_mse: 1436474.7500\n",
      "Epoch 52/100\n",
      "15/18 [========================>.....] - ETA: 0s - loss: 114.5743 - mae: 114.5743 - mse: 78517.4766"
     ]
    },
    {
     "name": "stderr",
     "output_type": "stream",
     "text": [
      "WARNING:absl:Found untraced functions such as _update_step_xla while saving (showing 1 of 1). These functions will not be directly callable after loading.\n"
     ]
    },
    {
     "name": "stdout",
     "output_type": "stream",
     "text": [
      "INFO:tensorflow:Assets written to: model_experiments\\model_1_dense\\assets\n"
     ]
    },
    {
     "name": "stderr",
     "output_type": "stream",
     "text": [
      "INFO:tensorflow:Assets written to: model_experiments\\model_1_dense\\assets\n"
     ]
    },
    {
     "name": "stdout",
     "output_type": "stream",
     "text": [
      "18/18 [==============================] - 4s 227ms/step - loss: 114.1542 - mae: 114.1542 - mse: 75694.9375 - val_loss: 584.8660 - val_mae: 584.8660 - val_mse: 1208312.6250\n",
      "Epoch 53/100\n",
      "18/18 [==============================] - 3s 159ms/step - loss: 111.0221 - mae: 111.0221 - mse: 72824.5938 - val_loss: 640.9602 - val_mae: 640.9602 - val_mse: 1359729.5000\n",
      "Epoch 54/100\n",
      "18/18 [==============================] - 3s 152ms/step - loss: 117.3799 - mae: 117.3799 - mse: 75857.9219 - val_loss: 622.8309 - val_mae: 622.8309 - val_mse: 1277992.0000\n",
      "Epoch 55/100\n",
      "18/18 [==============================] - 3s 147ms/step - loss: 113.1345 - mae: 113.1345 - mse: 75580.7891 - val_loss: 612.5164 - val_mae: 612.5164 - val_mse: 1279588.3750\n",
      "Epoch 56/100\n",
      "14/18 [======================>.......] - ETA: 0s - loss: 112.6095 - mae: 112.6095 - mse: 75435.1953"
     ]
    },
    {
     "name": "stderr",
     "output_type": "stream",
     "text": [
      "WARNING:absl:Found untraced functions such as _update_step_xla while saving (showing 1 of 1). These functions will not be directly callable after loading.\n"
     ]
    },
    {
     "name": "stdout",
     "output_type": "stream",
     "text": [
      "INFO:tensorflow:Assets written to: model_experiments\\model_1_dense\\assets\n"
     ]
    },
    {
     "name": "stderr",
     "output_type": "stream",
     "text": [
      "INFO:tensorflow:Assets written to: model_experiments\\model_1_dense\\assets\n"
     ]
    },
    {
     "name": "stdout",
     "output_type": "stream",
     "text": [
      "18/18 [==============================] - 4s 238ms/step - loss: 110.1584 - mae: 110.1584 - mse: 71971.4453 - val_loss: 583.4382 - val_mae: 583.4382 - val_mse: 1199405.0000\n",
      "Epoch 57/100\n",
      "18/18 [==============================] - 3s 161ms/step - loss: 114.1799 - mae: 114.1799 - mse: 74394.3750 - val_loss: 587.2573 - val_mae: 587.2573 - val_mse: 1215801.7500\n",
      "Epoch 58/100\n",
      "15/18 [========================>.....] - ETA: 0s - loss: 111.8961 - mae: 111.8961 - mse: 73301.5000"
     ]
    },
    {
     "name": "stderr",
     "output_type": "stream",
     "text": [
      "WARNING:absl:Found untraced functions such as _update_step_xla while saving (showing 1 of 1). These functions will not be directly callable after loading.\n"
     ]
    },
    {
     "name": "stdout",
     "output_type": "stream",
     "text": [
      "INFO:tensorflow:Assets written to: model_experiments\\model_1_dense\\assets\n"
     ]
    },
    {
     "name": "stderr",
     "output_type": "stream",
     "text": [
      "INFO:tensorflow:Assets written to: model_experiments\\model_1_dense\\assets\n"
     ]
    },
    {
     "name": "stdout",
     "output_type": "stream",
     "text": [
      "18/18 [==============================] - 4s 226ms/step - loss: 111.3157 - mae: 111.3157 - mse: 74524.9375 - val_loss: 583.1870 - val_mae: 583.1870 - val_mse: 1195689.5000\n",
      "Epoch 59/100\n",
      "18/18 [==============================] - 3s 163ms/step - loss: 107.8622 - mae: 107.8622 - mse: 70773.3516 - val_loss: 583.4982 - val_mae: 583.4982 - val_mse: 1205591.0000\n",
      "Epoch 60/100\n",
      "18/18 [==============================] - 3s 151ms/step - loss: 109.8666 - mae: 109.8666 - mse: 72692.4141 - val_loss: 635.9451 - val_mae: 635.9451 - val_mse: 1298906.7500\n",
      "Epoch 61/100\n",
      "18/18 [==============================] - 3s 151ms/step - loss: 110.3842 - mae: 110.3842 - mse: 72129.8594 - val_loss: 585.4757 - val_mae: 585.4757 - val_mse: 1196340.2500\n",
      "Epoch 62/100\n",
      "18/18 [==============================] - 3s 150ms/step - loss: 108.5457 - mae: 108.5457 - mse: 71445.5469 - val_loss: 602.9730 - val_mae: 602.9730 - val_mse: 1252554.1250\n",
      "Epoch 63/100\n",
      "18/18 [==============================] - 3s 153ms/step - loss: 109.9320 - mae: 109.9320 - mse: 71811.2891 - val_loss: 601.2348 - val_mae: 601.2348 - val_mse: 1223047.1250\n",
      "Epoch 64/100\n",
      "18/18 [==============================] - 3s 150ms/step - loss: 110.2306 - mae: 110.2306 - mse: 72621.8828 - val_loss: 586.5217 - val_mae: 586.5217 - val_mse: 1212959.1250\n",
      "Epoch 65/100\n",
      "18/18 [==============================] - 3s 151ms/step - loss: 108.5834 - mae: 108.5834 - mse: 72380.4844 - val_loss: 769.0204 - val_mae: 769.0204 - val_mse: 1659340.2500\n",
      "Epoch 66/100\n",
      "18/18 [==============================] - 3s 150ms/step - loss: 114.2853 - mae: 114.2853 - mse: 77176.0000 - val_loss: 625.3485 - val_mae: 625.3485 - val_mse: 1309893.1250\n",
      "Epoch 67/100\n",
      "16/18 [=========================>....] - ETA: 0s - loss: 110.3844 - mae: 110.3844 - mse: 75010.0078 "
     ]
    },
    {
     "name": "stderr",
     "output_type": "stream",
     "text": [
      "WARNING:absl:Found untraced functions such as _update_step_xla while saving (showing 1 of 1). These functions will not be directly callable after loading.\n"
     ]
    },
    {
     "name": "stdout",
     "output_type": "stream",
     "text": [
      "INFO:tensorflow:Assets written to: model_experiments\\model_1_dense\\assets\n"
     ]
    },
    {
     "name": "stderr",
     "output_type": "stream",
     "text": [
      "INFO:tensorflow:Assets written to: model_experiments\\model_1_dense\\assets\n"
     ]
    },
    {
     "name": "stdout",
     "output_type": "stream",
     "text": [
      "18/18 [==============================] - 4s 224ms/step - loss: 109.6454 - mae: 109.6454 - mse: 74102.7969 - val_loss: 577.3099 - val_mae: 577.3099 - val_mse: 1190153.3750\n",
      "Epoch 68/100\n",
      "18/18 [==============================] - 3s 156ms/step - loss: 107.4787 - mae: 107.4787 - mse: 71333.7031 - val_loss: 593.7999 - val_mae: 593.7999 - val_mse: 1207373.8750\n",
      "Epoch 69/100\n",
      "18/18 [==============================] - 3s 155ms/step - loss: 107.9201 - mae: 107.9201 - mse: 69398.7344 - val_loss: 578.8853 - val_mae: 578.8853 - val_mse: 1180522.2500\n",
      "Epoch 70/100\n",
      "18/18 [==============================] - 3s 158ms/step - loss: 113.9685 - mae: 113.9685 - mse: 72251.0938 - val_loss: 735.9075 - val_mae: 735.9075 - val_mse: 1619752.7500\n",
      "Epoch 71/100\n",
      "18/18 [==============================] - 3s 154ms/step - loss: 110.7382 - mae: 110.7382 - mse: 70861.7109 - val_loss: 578.0120 - val_mae: 578.0120 - val_mse: 1178382.0000\n",
      "Epoch 72/100\n",
      "14/18 [======================>.......] - ETA: 0s - loss: 105.1680 - mae: 105.1680 - mse: 68490.2109 "
     ]
    },
    {
     "name": "stderr",
     "output_type": "stream",
     "text": [
      "WARNING:absl:Found untraced functions such as _update_step_xla while saving (showing 1 of 1). These functions will not be directly callable after loading.\n"
     ]
    },
    {
     "name": "stdout",
     "output_type": "stream",
     "text": [
      "INFO:tensorflow:Assets written to: model_experiments\\model_1_dense\\assets\n"
     ]
    },
    {
     "name": "stderr",
     "output_type": "stream",
     "text": [
      "INFO:tensorflow:Assets written to: model_experiments\\model_1_dense\\assets\n"
     ]
    },
    {
     "name": "stdout",
     "output_type": "stream",
     "text": [
      "18/18 [==============================] - 4s 222ms/step - loss: 109.2722 - mae: 109.2722 - mse: 71065.5938 - val_loss: 575.8472 - val_mae: 575.8472 - val_mse: 1187293.0000\n",
      "Epoch 73/100\n",
      "18/18 [==============================] - 3s 160ms/step - loss: 115.2482 - mae: 115.2482 - mse: 71967.3047 - val_loss: 643.7083 - val_mae: 643.7083 - val_mse: 1318749.5000\n",
      "Epoch 74/100\n",
      "18/18 [==============================] - 3s 151ms/step - loss: 118.4595 - mae: 118.4595 - mse: 76004.5859 - val_loss: 624.9346 - val_mae: 624.9346 - val_mse: 1302868.2500\n",
      "Epoch 75/100\n",
      "18/18 [==============================] - 3s 153ms/step - loss: 107.1701 - mae: 107.1701 - mse: 68736.6406 - val_loss: 583.7456 - val_mae: 583.7456 - val_mse: 1208719.7500\n",
      "Epoch 76/100\n",
      "18/18 [==============================] - 3s 152ms/step - loss: 110.0600 - mae: 110.0600 - mse: 71796.1797 - val_loss: 608.3516 - val_mae: 608.3516 - val_mse: 1236644.8750\n",
      "Epoch 77/100\n",
      "18/18 [==============================] - 3s 153ms/step - loss: 109.4243 - mae: 109.4243 - mse: 71616.3438 - val_loss: 602.1095 - val_mae: 602.1095 - val_mse: 1239671.0000\n",
      "Epoch 78/100\n",
      "18/18 [==============================] - 3s 150ms/step - loss: 111.0102 - mae: 111.0102 - mse: 72750.5781 - val_loss: 577.8558 - val_mae: 577.8558 - val_mse: 1177495.7500\n",
      "Epoch 79/100\n",
      "18/18 [==============================] - 3s 148ms/step - loss: 108.3594 - mae: 108.3594 - mse: 69447.9531 - val_loss: 579.3672 - val_mae: 579.3672 - val_mse: 1180750.2500\n",
      "Epoch 80/100\n",
      "18/18 [==============================] - 3s 148ms/step - loss: 110.8059 - mae: 110.8059 - mse: 71714.5000 - val_loss: 581.9140 - val_mae: 581.9140 - val_mse: 1201973.8750\n",
      "Epoch 81/100\n",
      "18/18 [==============================] - 3s 154ms/step - loss: 113.2327 - mae: 113.2327 - mse: 71778.0703 - val_loss: 597.3237 - val_mae: 597.3237 - val_mse: 1214446.7500\n",
      "Epoch 82/100\n",
      "15/18 [========================>.....] - ETA: 0s - loss: 115.9630 - mae: 115.9630 - mse: 76329.4141"
     ]
    },
    {
     "name": "stderr",
     "output_type": "stream",
     "text": [
      "WARNING:absl:Found untraced functions such as _update_step_xla while saving (showing 1 of 1). These functions will not be directly callable after loading.\n"
     ]
    },
    {
     "name": "stdout",
     "output_type": "stream",
     "text": [
      "INFO:tensorflow:Assets written to: model_experiments\\model_1_dense\\assets\n"
     ]
    },
    {
     "name": "stderr",
     "output_type": "stream",
     "text": [
      "INFO:tensorflow:Assets written to: model_experiments\\model_1_dense\\assets\n"
     ]
    },
    {
     "name": "stdout",
     "output_type": "stream",
     "text": [
      "18/18 [==============================] - 4s 230ms/step - loss: 114.2528 - mae: 114.2528 - mse: 75679.2109 - val_loss: 569.3028 - val_mae: 569.3028 - val_mse: 1169221.5000\n",
      "Epoch 83/100\n",
      "18/18 [==============================] - 3s 166ms/step - loss: 107.3397 - mae: 107.3397 - mse: 69215.6328 - val_loss: 612.8638 - val_mae: 612.8638 - val_mse: 1274528.7500\n",
      "Epoch 84/100\n",
      "18/18 [==============================] - 3s 151ms/step - loss: 107.5238 - mae: 107.5238 - mse: 69419.9844 - val_loss: 626.3076 - val_mae: 626.3076 - val_mse: 1300256.7500\n",
      "Epoch 85/100\n",
      "18/18 [==============================] - 2s 146ms/step - loss: 112.4546 - mae: 112.4546 - mse: 71858.1250 - val_loss: 617.7500 - val_mae: 617.7500 - val_mse: 1252978.6250\n",
      "Epoch 86/100\n",
      "18/18 [==============================] - 3s 151ms/step - loss: 113.1513 - mae: 113.1513 - mse: 72952.0078 - val_loss: 591.9734 - val_mae: 591.9734 - val_mse: 1221407.3750\n",
      "Epoch 87/100\n",
      "18/18 [==============================] - 3s 154ms/step - loss: 109.0590 - mae: 109.0590 - mse: 71118.5078 - val_loss: 597.4297 - val_mae: 597.4297 - val_mse: 1213874.3750\n",
      "Epoch 88/100\n",
      "12/18 [===================>..........] - ETA: 0s - loss: 108.6299 - mae: 108.6299 - mse: 74270.6328"
     ]
    },
    {
     "name": "stderr",
     "output_type": "stream",
     "text": [
      "WARNING:absl:Found untraced functions such as _update_step_xla while saving (showing 1 of 1). These functions will not be directly callable after loading.\n"
     ]
    },
    {
     "name": "stdout",
     "output_type": "stream",
     "text": [
      "INFO:tensorflow:Assets written to: model_experiments\\model_1_dense\\assets\n"
     ]
    },
    {
     "name": "stderr",
     "output_type": "stream",
     "text": [
      "INFO:tensorflow:Assets written to: model_experiments\\model_1_dense\\assets\n"
     ]
    },
    {
     "name": "stdout",
     "output_type": "stream",
     "text": [
      "18/18 [==============================] - 4s 225ms/step - loss: 108.1246 - mae: 108.1246 - mse: 69683.9844 - val_loss: 568.6423 - val_mae: 568.6423 - val_mse: 1167961.3750\n",
      "Epoch 89/100\n",
      "18/18 [==============================] - 3s 154ms/step - loss: 106.7551 - mae: 106.7551 - mse: 69756.0078 - val_loss: 581.1609 - val_mae: 581.1609 - val_mse: 1184069.7500\n",
      "Epoch 90/100\n",
      "18/18 [==============================] - 3s 149ms/step - loss: 108.6320 - mae: 108.6320 - mse: 71147.7891 - val_loss: 615.6082 - val_mae: 615.6082 - val_mse: 1277664.8750\n",
      "Epoch 91/100\n",
      "18/18 [==============================] - 3s 149ms/step - loss: 107.7352 - mae: 107.7352 - mse: 69841.9844 - val_loss: 569.1108 - val_mae: 569.1108 - val_mse: 1161302.0000\n",
      "Epoch 92/100\n",
      "18/18 [==============================] - 3s 149ms/step - loss: 106.0667 - mae: 106.0667 - mse: 68595.3516 - val_loss: 573.5012 - val_mae: 573.5012 - val_mse: 1183497.5000\n",
      "Epoch 93/100\n",
      "14/18 [======================>.......] - ETA: 0s - loss: 108.5474 - mae: 108.5474 - mse: 73887.7344"
     ]
    },
    {
     "name": "stderr",
     "output_type": "stream",
     "text": [
      "WARNING:absl:Found untraced functions such as _update_step_xla while saving (showing 1 of 1). These functions will not be directly callable after loading.\n"
     ]
    },
    {
     "name": "stdout",
     "output_type": "stream",
     "text": [
      "INFO:tensorflow:Assets written to: model_experiments\\model_1_dense\\assets\n"
     ]
    },
    {
     "name": "stderr",
     "output_type": "stream",
     "text": [
      "INFO:tensorflow:Assets written to: model_experiments\\model_1_dense\\assets\n"
     ]
    },
    {
     "name": "stdout",
     "output_type": "stream",
     "text": [
      "18/18 [==============================] - 4s 213ms/step - loss: 106.0891 - mae: 106.0891 - mse: 68774.2109 - val_loss: 568.3724 - val_mae: 568.3724 - val_mse: 1162602.3750\n",
      "Epoch 94/100\n",
      "18/18 [==============================] - 3s 161ms/step - loss: 108.3322 - mae: 108.3322 - mse: 68233.9141 - val_loss: 673.6637 - val_mae: 673.6637 - val_mse: 1383900.7500\n",
      "Epoch 95/100\n",
      "18/18 [==============================] - 2s 145ms/step - loss: 116.5190 - mae: 116.5190 - mse: 72737.0312 - val_loss: 641.5853 - val_mae: 641.5853 - val_mse: 1311091.5000\n",
      "Epoch 96/100\n",
      "18/18 [==============================] - 3s 148ms/step - loss: 107.8395 - mae: 107.8395 - mse: 70027.7734 - val_loss: 589.4084 - val_mae: 589.4084 - val_mse: 1195544.3750\n",
      "Epoch 97/100\n",
      "18/18 [==============================] - 3s 151ms/step - loss: 108.6287 - mae: 108.6287 - mse: 71172.3828 - val_loss: 578.3364 - val_mae: 578.3364 - val_mse: 1191600.3750\n",
      "Epoch 98/100\n",
      "13/18 [====================>.........] - ETA: 0s - loss: 106.3302 - mae: 106.3302 - mse: 61563.5078"
     ]
    },
    {
     "name": "stderr",
     "output_type": "stream",
     "text": [
      "WARNING:absl:Found untraced functions such as _update_step_xla while saving (showing 1 of 1). These functions will not be directly callable after loading.\n"
     ]
    },
    {
     "name": "stdout",
     "output_type": "stream",
     "text": [
      "INFO:tensorflow:Assets written to: model_experiments\\model_1_dense\\assets\n"
     ]
    },
    {
     "name": "stderr",
     "output_type": "stream",
     "text": [
      "INFO:tensorflow:Assets written to: model_experiments\\model_1_dense\\assets\n"
     ]
    },
    {
     "name": "stdout",
     "output_type": "stream",
     "text": [
      "18/18 [==============================] - 4s 219ms/step - loss: 108.5293 - mae: 108.5293 - mse: 70564.8047 - val_loss: 567.7196 - val_mae: 567.7196 - val_mse: 1163274.8750\n",
      "Epoch 99/100\n",
      "18/18 [==============================] - 3s 158ms/step - loss: 106.0037 - mae: 106.0037 - mse: 67326.1016 - val_loss: 577.9264 - val_mae: 577.9264 - val_mse: 1174571.6250\n",
      "Epoch 100/100\n",
      "18/18 [==============================] - 3s 156ms/step - loss: 111.9670 - mae: 111.9670 - mse: 70068.2812 - val_loss: 605.3766 - val_mae: 605.3766 - val_mse: 1230429.0000\n"
     ]
    },
    {
     "data": {
      "text/plain": [
       "<keras.callbacks.History at 0x20be9b8e340>"
      ]
     },
     "execution_count": 50,
     "metadata": {},
     "output_type": "execute_result"
    }
   ],
   "source": [
    "# 1. Construct model\n",
    "model_1 = tf.keras.Sequential([\n",
    "  layers.Dense(128, activation=\"relu\"),\n",
    "  layers.Dense(HORIZON, activation=\"linear\")               \n",
    "], name=\"model_1_dense\") # name our model so we can save it\n",
    "\n",
    "# 2. Compile\n",
    "model_1.compile(loss=\"mae\",\n",
    "                optimizer=tf.keras.optimizers.Adam(),\n",
    "                metrics=[\"mae\", \"mse\"])\n",
    "\n",
    "# 3. Fit the model\n",
    "model_1.fit(x=train_windows,\n",
    "            y=train_labels,\n",
    "            epochs=100,\n",
    "            verbose=1,\n",
    "            batch_size=128,\n",
    "            validation_data=(test_windows, test_labels),\n",
    "            callbacks=[create_model_checkpoint(model_name=model_1.name)])"
   ]
  },
  {
   "cell_type": "code",
   "execution_count": 51,
   "metadata": {},
   "outputs": [
    {
     "name": "stdout",
     "output_type": "stream",
     "text": [
      "18/18 [==============================] - 3s 4ms/step - loss: 605.3766 - mae: 605.3766 - mse: 1230428.7500\n"
     ]
    },
    {
     "data": {
      "text/plain": [
       "[605.3765869140625, 605.3765869140625, 1230428.75]"
      ]
     },
     "execution_count": 51,
     "metadata": {},
     "output_type": "execute_result"
    }
   ],
   "source": [
    "# Evaluate model on test data\n",
    "model_1.evaluate(test_windows, test_labels)"
   ]
  },
  {
   "cell_type": "code",
   "execution_count": 52,
   "metadata": {},
   "outputs": [
    {
     "name": "stdout",
     "output_type": "stream",
     "text": [
      "18/18 [==============================] - 8s 4ms/step - loss: 567.7196 - mae: 567.7196 - mse: 1163274.8750\n"
     ]
    },
    {
     "data": {
      "text/plain": [
       "[567.7196044921875, 567.7196044921875, 1163274.875]"
      ]
     },
     "execution_count": 52,
     "metadata": {},
     "output_type": "execute_result"
    }
   ],
   "source": [
    "# Load in saved best performing model_1 and evaluate it on test data\n",
    "model_1 = tf.keras.models.load_model(\"model_experiments/model_1_dense/\")\n",
    "model_1.evaluate(test_windows, test_labels)"
   ]
  },
  {
   "cell_type": "markdown",
   "metadata": {},
   "source": [
    "### Making forecasts with a model (on the test dataset)\n",
    "\n",
    "To make \"forecasts\" on the test dataset (note: these won't be actual forecasts, they're only psuedo forecasts because actual forecasts are into the future), let's write a function to:\n",
    "\n",
    "1. Take in a train model\n",
    "2. Takes in some input data (same kind of data the model was trained on)\n",
    "3. Passes the input data to the model's `predict()` method\n",
    "4. Returns the predictions "
   ]
  },
  {
   "cell_type": "code",
   "execution_count": 54,
   "metadata": {},
   "outputs": [],
   "source": [
    "def make_preds(model, input_data):\n",
    "  \"\"\"\n",
    "  Uses model to make predictions input_data.\n",
    "  \"\"\"\n",
    "  forecast = model.predict(input_data)\n",
    "  return tf.squeeze(forecast) # return 1D array of predictions"
   ]
  },
  {
   "cell_type": "code",
   "execution_count": 55,
   "metadata": {},
   "outputs": [
    {
     "name": "stdout",
     "output_type": "stream",
     "text": [
      "18/18 [==============================] - 8s 3ms/step\n"
     ]
    },
    {
     "data": {
      "text/plain": [
       "(556,\n",
       " <tf.Tensor: shape=(10,), dtype=float32, numpy=\n",
       " array([8839.101, 8779.1  , 8994.885, 8770.263, 8776.422, 8689.774,\n",
       "        8685.369, 8510.457, 8450.48 , 8512.33 ], dtype=float32)>)"
      ]
     },
     "execution_count": 55,
     "metadata": {},
     "output_type": "execute_result"
    }
   ],
   "source": [
    "# Make predictions using model_1 on the test dataset and view results\n",
    "model_1_preds = make_preds(model_1, test_windows) \n",
    "len(model_1_preds), model_1_preds[:10]"
   ]
  },
  {
   "cell_type": "code",
   "execution_count": 56,
   "metadata": {},
   "outputs": [
    {
     "data": {
      "text/plain": [
       "(TensorShape([556]), TensorShape([556]))"
      ]
     },
     "execution_count": 56,
     "metadata": {},
     "output_type": "execute_result"
    }
   ],
   "source": [
    "tf.squeeze(test_labels).shape, model_1_preds.shape"
   ]
  },
  {
   "cell_type": "code",
   "execution_count": 57,
   "metadata": {},
   "outputs": [
    {
     "data": {
      "text/plain": [
       "{'mae': 567.7195,\n",
       " 'mse': 1163274.6,\n",
       " 'rmse': 1078.5521,\n",
       " 'mape': 2.5577545,\n",
       " 'mase': 0.9973259}"
      ]
     },
     "execution_count": 57,
     "metadata": {},
     "output_type": "execute_result"
    }
   ],
   "source": [
    "# Evaluate preds\n",
    "model_1_results = evaluate_preds(y_true=tf.squeeze(test_labels),\n",
    "                                 y_pred=model_1_preds)\n",
    "model_1_results"
   ]
  },
  {
   "cell_type": "code",
   "execution_count": 58,
   "metadata": {},
   "outputs": [
    {
     "data": {
      "text/plain": [
       "{'mae': 567.9802,\n",
       " 'mse': 1147547.0,\n",
       " 'rmse': 1071.2362,\n",
       " 'mape': 2.5165248,\n",
       " 'mase': 0.99957}"
      ]
     },
     "execution_count": 58,
     "metadata": {},
     "output_type": "execute_result"
    }
   ],
   "source": [
    "naive_results"
   ]
  },
  {
   "cell_type": "code",
   "execution_count": 59,
   "metadata": {},
   "outputs": [
    {
     "data": {
      "text/plain": [
       "(556, 1)"
      ]
     },
     "execution_count": 59,
     "metadata": {},
     "output_type": "execute_result"
    }
   ],
   "source": [
    "test_labels.shape"
   ]
  },
  {
   "cell_type": "code",
   "execution_count": 62,
   "metadata": {},
   "outputs": [
    {
     "data": {
      "image/png": "[encoded data removed]",
      "text/plain": [
       "<Figure size 720x504 with 1 Axes>"
      ]
     },
     "metadata": {
      "needs_background": "light"
     },
     "output_type": "display_data"
    }
   ],
   "source": [
    "# Let's plot our model 1 predictions\n",
    "offset = 450\n",
    "plt.figure(figsize=(10, 7))\n",
    "# Account for the test_window offset and index into test_labels to ensure correct plotting\n",
    "plot_time_series(timesteps=X_test[-len(test_windows):], \n",
    "                 values=test_labels[:, 0], \n",
    "                 start=offset, \n",
    "                 label=\"Test Data\")\n",
    "\n",
    "plot_time_series(timesteps=X_test[-len(test_windows):],\n",
    "                 values=model_1_preds,\n",
    "                 start=offset, \n",
    "                 format=\"-\",\n",
    "                 label=\"model_1_preds\")"
   ]
  },
  {
   "cell_type": "markdown",
   "metadata": {},
   "source": [
    "### Model 2: Dense (window = 30, horizon = 1)"
   ]
  },
  {
   "cell_type": "code",
   "execution_count": 63,
   "metadata": {},
   "outputs": [],
   "source": [
    "HORIZON = 1 # predict one step at a time (one day of Bitcoin prices)\n",
    "WINDOW_SIZE = 30 # use 30 timesteps in past"
   ]
  },
  {
   "cell_type": "code",
   "execution_count": 64,
   "metadata": {},
   "outputs": [
    {
     "name": "stdout",
     "output_type": "stream",
     "text": [
      "window setp: [[ 0  1  2  3  4  5  6  7  8  9 10 11 12 13 14 15 16 17 18 19 20 21 22 23\n",
      "  24 25 26 27 28 29 30]]\n",
      "\n"
     ]
    },
    {
     "data": {
      "text/plain": [
       "(2757, 2757)"
      ]
     },
     "execution_count": 64,
     "metadata": {},
     "output_type": "execute_result"
    }
   ],
   "source": [
    "# Make windowed data with appropriate horizon and window sizes\n",
    "full_windows, full_labels = make_windows(prices, window_size=WINDOW_SIZE, horizon=HORIZON)\n",
    "len(full_windows), len(full_labels)\n"
   ]
  },
  {
   "cell_type": "code",
   "execution_count": 65,
   "metadata": {},
   "outputs": [
    {
     "data": {
      "text/plain": [
       "(2205, 552, 2205, 552)"
      ]
     },
     "execution_count": 65,
     "metadata": {},
     "output_type": "execute_result"
    }
   ],
   "source": [
    "# Make train and testing windows\n",
    "train_windows, test_windows, train_labels, test_labels = make_train_test_splits(windows=full_windows,\n",
    "                                                                                labels=full_labels,\n",
    "                                                                                test_split=0.2)\n",
    "len(train_windows), len(test_windows), len(train_labels), len(test_labels)"
   ]
  },
  {
   "cell_type": "code",
   "execution_count": 66,
   "metadata": {},
   "outputs": [
    {
     "name": "stderr",
     "output_type": "stream",
     "text": [
      "WARNING:absl:Found untraced functions such as _update_step_xla while saving (showing 1 of 1). These functions will not be directly callable after loading.\n"
     ]
    },
    {
     "name": "stdout",
     "output_type": "stream",
     "text": [
      "INFO:tensorflow:Assets written to: model_experiments\\model_2_dense\\assets\n"
     ]
    },
    {
     "name": "stderr",
     "output_type": "stream",
     "text": [
      "INFO:tensorflow:Assets written to: model_experiments\\model_2_dense\\assets\n",
      "WARNING:absl:Found untraced functions such as _update_step_xla while saving (showing 1 of 1). These functions will not be directly callable after loading.\n"
     ]
    },
    {
     "name": "stdout",
     "output_type": "stream",
     "text": [
      "INFO:tensorflow:Assets written to: model_experiments\\model_2_dense\\assets\n"
     ]
    },
    {
     "name": "stderr",
     "output_type": "stream",
     "text": [
      "INFO:tensorflow:Assets written to: model_experiments\\model_2_dense\\assets\n",
      "WARNING:absl:Found untraced functions such as _update_step_xla while saving (showing 1 of 1). These functions will not be directly callable after loading.\n"
     ]
    },
    {
     "name": "stdout",
     "output_type": "stream",
     "text": [
      "INFO:tensorflow:Assets written to: model_experiments\\model_2_dense\\assets\n"
     ]
    },
    {
     "name": "stderr",
     "output_type": "stream",
     "text": [
      "INFO:tensorflow:Assets written to: model_experiments\\model_2_dense\\assets\n",
      "WARNING:absl:Found untraced functions such as _update_step_xla while saving (showing 1 of 1). These functions will not be directly callable after loading.\n"
     ]
    },
    {
     "name": "stdout",
     "output_type": "stream",
     "text": [
      "INFO:tensorflow:Assets written to: model_experiments\\model_2_dense\\assets\n"
     ]
    },
    {
     "name": "stderr",
     "output_type": "stream",
     "text": [
      "INFO:tensorflow:Assets written to: model_experiments\\model_2_dense\\assets\n",
      "WARNING:absl:Found untraced functions such as _update_step_xla while saving (showing 1 of 1). These functions will not be directly callable after loading.\n"
     ]
    },
    {
     "name": "stdout",
     "output_type": "stream",
     "text": [
      "INFO:tensorflow:Assets written to: model_experiments\\model_2_dense\\assets\n"
     ]
    },
    {
     "name": "stderr",
     "output_type": "stream",
     "text": [
      "INFO:tensorflow:Assets written to: model_experiments\\model_2_dense\\assets\n",
      "WARNING:absl:Found untraced functions such as _update_step_xla while saving (showing 1 of 1). These functions will not be directly callable after loading.\n"
     ]
    },
    {
     "name": "stdout",
     "output_type": "stream",
     "text": [
      "INFO:tensorflow:Assets written to: model_experiments\\model_2_dense\\assets\n"
     ]
    },
    {
     "name": "stderr",
     "output_type": "stream",
     "text": [
      "INFO:tensorflow:Assets written to: model_experiments\\model_2_dense\\assets\n",
      "WARNING:absl:Found untraced functions such as _update_step_xla while saving (showing 1 of 1). These functions will not be directly callable after loading.\n"
     ]
    },
    {
     "name": "stdout",
     "output_type": "stream",
     "text": [
      "INFO:tensorflow:Assets written to: model_experiments\\model_2_dense\\assets\n"
     ]
    },
    {
     "name": "stderr",
     "output_type": "stream",
     "text": [
      "INFO:tensorflow:Assets written to: model_experiments\\model_2_dense\\assets\n",
      "WARNING:absl:Found untraced functions such as _update_step_xla while saving (showing 1 of 1). These functions will not be directly callable after loading.\n"
     ]
    },
    {
     "name": "stdout",
     "output_type": "stream",
     "text": [
      "INFO:tensorflow:Assets written to: model_experiments\\model_2_dense\\assets\n"
     ]
    },
    {
     "name": "stderr",
     "output_type": "stream",
     "text": [
      "INFO:tensorflow:Assets written to: model_experiments\\model_2_dense\\assets\n",
      "WARNING:absl:Found untraced functions such as _update_step_xla while saving (showing 1 of 1). These functions will not be directly callable after loading.\n"
     ]
    },
    {
     "name": "stdout",
     "output_type": "stream",
     "text": [
      "INFO:tensorflow:Assets written to: model_experiments\\model_2_dense\\assets\n"
     ]
    },
    {
     "name": "stderr",
     "output_type": "stream",
     "text": [
      "INFO:tensorflow:Assets written to: model_experiments\\model_2_dense\\assets\n",
      "WARNING:absl:Found untraced functions such as _update_step_xla while saving (showing 1 of 1). These functions will not be directly callable after loading.\n"
     ]
    },
    {
     "name": "stdout",
     "output_type": "stream",
     "text": [
      "INFO:tensorflow:Assets written to: model_experiments\\model_2_dense\\assets\n"
     ]
    },
    {
     "name": "stderr",
     "output_type": "stream",
     "text": [
      "INFO:tensorflow:Assets written to: model_experiments\\model_2_dense\\assets\n",
      "WARNING:absl:Found untraced functions such as _update_step_xla while saving (showing 1 of 1). These functions will not be directly callable after loading.\n"
     ]
    },
    {
     "name": "stdout",
     "output_type": "stream",
     "text": [
      "INFO:tensorflow:Assets written to: model_experiments\\model_2_dense\\assets\n"
     ]
    },
    {
     "name": "stderr",
     "output_type": "stream",
     "text": [
      "INFO:tensorflow:Assets written to: model_experiments\\model_2_dense\\assets\n",
      "WARNING:absl:Found untraced functions such as _update_step_xla while saving (showing 1 of 1). These functions will not be directly callable after loading.\n"
     ]
    },
    {
     "name": "stdout",
     "output_type": "stream",
     "text": [
      "INFO:tensorflow:Assets written to: model_experiments\\model_2_dense\\assets\n"
     ]
    },
    {
     "name": "stderr",
     "output_type": "stream",
     "text": [
      "INFO:tensorflow:Assets written to: model_experiments\\model_2_dense\\assets\n",
      "WARNING:absl:Found untraced functions such as _update_step_xla while saving (showing 1 of 1). These functions will not be directly callable after loading.\n"
     ]
    },
    {
     "name": "stdout",
     "output_type": "stream",
     "text": [
      "INFO:tensorflow:Assets written to: model_experiments\\model_2_dense\\assets\n"
     ]
    },
    {
     "name": "stderr",
     "output_type": "stream",
     "text": [
      "INFO:tensorflow:Assets written to: model_experiments\\model_2_dense\\assets\n",
      "WARNING:absl:Found untraced functions such as _update_step_xla while saving (showing 1 of 1). These functions will not be directly callable after loading.\n"
     ]
    },
    {
     "name": "stdout",
     "output_type": "stream",
     "text": [
      "INFO:tensorflow:Assets written to: model_experiments\\model_2_dense\\assets\n"
     ]
    },
    {
     "name": "stderr",
     "output_type": "stream",
     "text": [
      "INFO:tensorflow:Assets written to: model_experiments\\model_2_dense\\assets\n",
      "WARNING:absl:Found untraced functions such as _update_step_xla while saving (showing 1 of 1). These functions will not be directly callable after loading.\n"
     ]
    },
    {
     "name": "stdout",
     "output_type": "stream",
     "text": [
      "INFO:tensorflow:Assets written to: model_experiments\\model_2_dense\\assets\n"
     ]
    },
    {
     "name": "stderr",
     "output_type": "stream",
     "text": [
      "INFO:tensorflow:Assets written to: model_experiments\\model_2_dense\\assets\n",
      "WARNING:absl:Found untraced functions such as _update_step_xla while saving (showing 1 of 1). These functions will not be directly callable after loading.\n"
     ]
    },
    {
     "name": "stdout",
     "output_type": "stream",
     "text": [
      "INFO:tensorflow:Assets written to: model_experiments\\model_2_dense\\assets\n"
     ]
    },
    {
     "name": "stderr",
     "output_type": "stream",
     "text": [
      "INFO:tensorflow:Assets written to: model_experiments\\model_2_dense\\assets\n",
      "WARNING:absl:Found untraced functions such as _update_step_xla while saving (showing 1 of 1). These functions will not be directly callable after loading.\n"
     ]
    },
    {
     "name": "stdout",
     "output_type": "stream",
     "text": [
      "INFO:tensorflow:Assets written to: model_experiments\\model_2_dense\\assets\n"
     ]
    },
    {
     "name": "stderr",
     "output_type": "stream",
     "text": [
      "INFO:tensorflow:Assets written to: model_experiments\\model_2_dense\\assets\n",
      "WARNING:absl:Found untraced functions such as _update_step_xla while saving (showing 1 of 1). These functions will not be directly callable after loading.\n"
     ]
    },
    {
     "name": "stdout",
     "output_type": "stream",
     "text": [
      "INFO:tensorflow:Assets written to: model_experiments\\model_2_dense\\assets\n"
     ]
    },
    {
     "name": "stderr",
     "output_type": "stream",
     "text": [
      "INFO:tensorflow:Assets written to: model_experiments\\model_2_dense\\assets\n",
      "WARNING:absl:Found untraced functions such as _update_step_xla while saving (showing 1 of 1). These functions will not be directly callable after loading.\n"
     ]
    },
    {
     "name": "stdout",
     "output_type": "stream",
     "text": [
      "INFO:tensorflow:Assets written to: model_experiments\\model_2_dense\\assets\n"
     ]
    },
    {
     "name": "stderr",
     "output_type": "stream",
     "text": [
      "INFO:tensorflow:Assets written to: model_experiments\\model_2_dense\\assets\n",
      "WARNING:absl:Found untraced functions such as _update_step_xla while saving (showing 1 of 1). These functions will not be directly callable after loading.\n"
     ]
    },
    {
     "name": "stdout",
     "output_type": "stream",
     "text": [
      "INFO:tensorflow:Assets written to: model_experiments\\model_2_dense\\assets\n"
     ]
    },
    {
     "name": "stderr",
     "output_type": "stream",
     "text": [
      "INFO:tensorflow:Assets written to: model_experiments\\model_2_dense\\assets\n",
      "WARNING:absl:Found untraced functions such as _update_step_xla while saving (showing 1 of 1). These functions will not be directly callable after loading.\n"
     ]
    },
    {
     "name": "stdout",
     "output_type": "stream",
     "text": [
      "INFO:tensorflow:Assets written to: model_experiments\\model_2_dense\\assets\n"
     ]
    },
    {
     "name": "stderr",
     "output_type": "stream",
     "text": [
      "INFO:tensorflow:Assets written to: model_experiments\\model_2_dense\\assets\n",
      "WARNING:absl:Found untraced functions such as _update_step_xla while saving (showing 1 of 1). These functions will not be directly callable after loading.\n"
     ]
    },
    {
     "name": "stdout",
     "output_type": "stream",
     "text": [
      "INFO:tensorflow:Assets written to: model_experiments\\model_2_dense\\assets\n"
     ]
    },
    {
     "name": "stderr",
     "output_type": "stream",
     "text": [
      "INFO:tensorflow:Assets written to: model_experiments\\model_2_dense\\assets\n",
      "WARNING:absl:Found untraced functions such as _update_step_xla while saving (showing 1 of 1). These functions will not be directly callable after loading.\n"
     ]
    },
    {
     "name": "stdout",
     "output_type": "stream",
     "text": [
      "INFO:tensorflow:Assets written to: model_experiments\\model_2_dense\\assets\n"
     ]
    },
    {
     "name": "stderr",
     "output_type": "stream",
     "text": [
      "INFO:tensorflow:Assets written to: model_experiments\\model_2_dense\\assets\n",
      "WARNING:absl:Found untraced functions such as _update_step_xla while saving (showing 1 of 1). These functions will not be directly callable after loading.\n"
     ]
    },
    {
     "name": "stdout",
     "output_type": "stream",
     "text": [
      "INFO:tensorflow:Assets written to: model_experiments\\model_2_dense\\assets\n"
     ]
    },
    {
     "name": "stderr",
     "output_type": "stream",
     "text": [
      "INFO:tensorflow:Assets written to: model_experiments\\model_2_dense\\assets\n",
      "WARNING:absl:Found untraced functions such as _update_step_xla while saving (showing 1 of 1). These functions will not be directly callable after loading.\n"
     ]
    },
    {
     "name": "stdout",
     "output_type": "stream",
     "text": [
      "INFO:tensorflow:Assets written to: model_experiments\\model_2_dense\\assets\n"
     ]
    },
    {
     "name": "stderr",
     "output_type": "stream",
     "text": [
      "INFO:tensorflow:Assets written to: model_experiments\\model_2_dense\\assets\n",
      "WARNING:absl:Found untraced functions such as _update_step_xla while saving (showing 1 of 1). These functions will not be directly callable after loading.\n"
     ]
    },
    {
     "name": "stdout",
     "output_type": "stream",
     "text": [
      "INFO:tensorflow:Assets written to: model_experiments\\model_2_dense\\assets\n"
     ]
    },
    {
     "name": "stderr",
     "output_type": "stream",
     "text": [
      "INFO:tensorflow:Assets written to: model_experiments\\model_2_dense\\assets\n",
      "WARNING:absl:Found untraced functions such as _update_step_xla while saving (showing 1 of 1). These functions will not be directly callable after loading.\n"
     ]
    },
    {
     "name": "stdout",
     "output_type": "stream",
     "text": [
      "INFO:tensorflow:Assets written to: model_experiments\\model_2_dense\\assets\n"
     ]
    },
    {
     "name": "stderr",
     "output_type": "stream",
     "text": [
      "INFO:tensorflow:Assets written to: model_experiments\\model_2_dense\\assets\n",
      "WARNING:absl:Found untraced functions such as _update_step_xla while saving (showing 1 of 1). These functions will not be directly callable after loading.\n"
     ]
    },
    {
     "name": "stdout",
     "output_type": "stream",
     "text": [
      "INFO:tensorflow:Assets written to: model_experiments\\model_2_dense\\assets\n"
     ]
    },
    {
     "name": "stderr",
     "output_type": "stream",
     "text": [
      "INFO:tensorflow:Assets written to: model_experiments\\model_2_dense\\assets\n",
      "WARNING:absl:Found untraced functions such as _update_step_xla while saving (showing 1 of 1). These functions will not be directly callable after loading.\n"
     ]
    },
    {
     "name": "stdout",
     "output_type": "stream",
     "text": [
      "INFO:tensorflow:Assets written to: model_experiments\\model_2_dense\\assets\n"
     ]
    },
    {
     "name": "stderr",
     "output_type": "stream",
     "text": [
      "INFO:tensorflow:Assets written to: model_experiments\\model_2_dense\\assets\n",
      "WARNING:absl:Found untraced functions such as _update_step_xla while saving (showing 1 of 1). These functions will not be directly callable after loading.\n"
     ]
    },
    {
     "name": "stdout",
     "output_type": "stream",
     "text": [
      "INFO:tensorflow:Assets written to: model_experiments\\model_2_dense\\assets\n"
     ]
    },
    {
     "name": "stderr",
     "output_type": "stream",
     "text": [
      "INFO:tensorflow:Assets written to: model_experiments\\model_2_dense\\assets\n",
      "WARNING:absl:Found untraced functions such as _update_step_xla while saving (showing 1 of 1). These functions will not be directly callable after loading.\n"
     ]
    },
    {
     "name": "stdout",
     "output_type": "stream",
     "text": [
      "INFO:tensorflow:Assets written to: model_experiments\\model_2_dense\\assets\n"
     ]
    },
    {
     "name": "stderr",
     "output_type": "stream",
     "text": [
      "INFO:tensorflow:Assets written to: model_experiments\\model_2_dense\\assets\n",
      "WARNING:absl:Found untraced functions such as _update_step_xla while saving (showing 1 of 1). These functions will not be directly callable after loading.\n"
     ]
    },
    {
     "name": "stdout",
     "output_type": "stream",
     "text": [
      "INFO:tensorflow:Assets written to: model_experiments\\model_2_dense\\assets\n"
     ]
    },
    {
     "name": "stderr",
     "output_type": "stream",
     "text": [
      "INFO:tensorflow:Assets written to: model_experiments\\model_2_dense\\assets\n"
     ]
    },
    {
     "data": {
      "text/plain": [
       "<keras.callbacks.History at 0x20bebe3b3d0>"
      ]
     },
     "execution_count": 66,
     "metadata": {},
     "output_type": "execute_result"
    }
   ],
   "source": [
    "\n",
    "#import absl.logging\n",
    "#absl.logging.set_verbosity(absl.logging.ERROR)\n",
    "\n",
    "\n",
    "\n",
    "# Create model\n",
    "model_2 = tf.keras.Sequential([\n",
    "  layers.Dense(128, activation=\"relu\"),\n",
    "  layers.Dense(HORIZON)\n",
    "], name=\"model_2_dense\")\n",
    "\n",
    "# Compile\n",
    "model_2.compile(loss=\"mae\",\n",
    "                optimizer=tf.keras.optimizers.Adam())\n",
    "\n",
    "# Fit\n",
    "model_2.fit(train_windows,\n",
    "            train_labels,\n",
    "            epochs=100,\n",
    "            batch_size=128,\n",
    "            verbose=0,\n",
    "            validation_data=(test_windows, test_labels),\n",
    "            callbacks=[create_model_checkpoint(model_name=model_2.name)])"
   ]
  },
  {
   "cell_type": "code",
   "execution_count": 67,
   "metadata": {},
   "outputs": [
    {
     "name": "stdout",
     "output_type": "stream",
     "text": [
      "18/18 [==============================] - 2s 3ms/step - loss: 711.5032\n"
     ]
    },
    {
     "data": {
      "text/plain": [
       "711.503173828125"
      ]
     },
     "execution_count": 67,
     "metadata": {},
     "output_type": "execute_result"
    }
   ],
   "source": [
    "# Evaluate model 2 on test data\n",
    "model_2.evaluate(test_windows, test_labels)"
   ]
  },
  {
   "cell_type": "code",
   "execution_count": 68,
   "metadata": {},
   "outputs": [
    {
     "name": "stdout",
     "output_type": "stream",
     "text": [
      "18/18 [==============================] - 8s 4ms/step - loss: 638.0246\n"
     ]
    },
    {
     "data": {
      "text/plain": [
       "638.0245971679688"
      ]
     },
     "execution_count": 68,
     "metadata": {},
     "output_type": "execute_result"
    }
   ],
   "source": [
    "# Load in the best performing model\n",
    "model_2 = tf.keras.models.load_model(\"model_experiments/model_2_dense/\")\n",
    "model_2.evaluate(test_windows, test_labels)"
   ]
  },
  {
   "cell_type": "code",
   "execution_count": 69,
   "metadata": {},
   "outputs": [
    {
     "name": "stdout",
     "output_type": "stream",
     "text": [
      "18/18 [==============================] - 8s 3ms/step\n"
     ]
    }
   ],
   "source": [
    "# Get forecast predictions\n",
    "model_2_preds = make_preds(model_2,\n",
    "                           input_data=test_windows)"
   ]
  },
  {
   "cell_type": "code",
   "execution_count": 70,
   "metadata": {},
   "outputs": [
    {
     "data": {
      "text/plain": [
       "(TensorShape([552]), TensorShape([552]))"
      ]
     },
     "execution_count": 70,
     "metadata": {},
     "output_type": "execute_result"
    }
   ],
   "source": [
    "tf.squeeze(test_labels).shape, model_2_preds.shape"
   ]
  },
  {
   "cell_type": "code",
   "execution_count": 71,
   "metadata": {},
   "outputs": [
    {
     "data": {
      "text/plain": [
       "{'mae': 638.0246,\n",
       " 'mse': 1394639.2,\n",
       " 'rmse': 1180.9485,\n",
       " 'mape': 2.8341324,\n",
       " 'mase': 1.1152732}"
      ]
     },
     "execution_count": 71,
     "metadata": {},
     "output_type": "execute_result"
    }
   ],
   "source": [
    "# Evaluate results for model 2 predictions\n",
    "model_2_results = evaluate_preds(y_true=tf.squeeze(test_labels),\n",
    "                                 y_pred=model_2_preds)\n",
    "model_2_results"
   ]
  },
  {
   "cell_type": "code",
   "execution_count": 72,
   "metadata": {},
   "outputs": [
    {
     "data": {
      "text/plain": [
       "{'mae': 567.7195,\n",
       " 'mse': 1163274.6,\n",
       " 'rmse': 1078.5521,\n",
       " 'mape': 2.5577545,\n",
       " 'mase': 0.9973259}"
      ]
     },
     "execution_count": 72,
     "metadata": {},
     "output_type": "execute_result"
    }
   ],
   "source": [
    "model_1_results"
   ]
  },
  {
   "cell_type": "code",
   "execution_count": 73,
   "metadata": {},
   "outputs": [
    {
     "data": {
      "image/png": "[encoded data removed]",
      "text/plain": [
       "<Figure size 720x504 with 1 Axes>"
      ]
     },
     "metadata": {
      "needs_background": "light"
     },
     "output_type": "display_data"
    }
   ],
   "source": [
    "offset = 300\n",
    "plt.figure(figsize=(10, 7))\n",
    "# Account for test_window offset when plotting\n",
    "plot_time_series(timesteps=X_test[-len(test_windows):], values=test_labels[:, 0], start=offset, format=\"-\", label=\"Test Data\")\n",
    "plot_time_series(timesteps=X_test[-len(test_windows):], values=model_2_preds, start=offset, format=\"-\", label=\"model_2_preds\")"
   ]
  },
  {
   "cell_type": "markdown",
   "metadata": {},
   "source": [
    "### Model 3: Dense (window = 30, horizon = 7)"
   ]
  },
  {
   "cell_type": "code",
   "execution_count": 74,
   "metadata": {},
   "outputs": [],
   "source": [
    "import absl.logging\n",
    "absl.logging.set_verbosity(absl.logging.ERROR)"
   ]
  },
  {
   "cell_type": "code",
   "execution_count": 75,
   "metadata": {},
   "outputs": [
    {
     "data": {
      "text/plain": [
       "array([123.65499, 125.455  , 108.58483, 118.67466, 121.33866, 120.65533,\n",
       "       121.795  , 123.033  , 124.049  , 125.96116])"
      ]
     },
     "execution_count": 75,
     "metadata": {},
     "output_type": "execute_result"
    }
   ],
   "source": [
    "prices[:10]"
   ]
  },
  {
   "cell_type": "code",
   "execution_count": 76,
   "metadata": {},
   "outputs": [
    {
     "name": "stdout",
     "output_type": "stream",
     "text": [
      "window setp: [[ 0  1  2  3  4  5  6  7  8  9 10 11 12 13 14 15 16 17 18 19 20 21 22 23\n",
      "  24 25 26 27 28 29 30 31 32 33 34 35 36]]\n",
      "\n"
     ]
    },
    {
     "data": {
      "text/plain": [
       "(2751, 2751)"
      ]
     },
     "execution_count": 76,
     "metadata": {},
     "output_type": "execute_result"
    }
   ],
   "source": [
    "HORIZON = 7\n",
    "WINDOW_SIZE = 30\n",
    "\n",
    "full_windows, full_labels = make_windows(prices, window_size=WINDOW_SIZE, horizon=HORIZON)\n",
    "len(full_windows), len(full_labels)"
   ]
  },
  {
   "cell_type": "code",
   "execution_count": 77,
   "metadata": {},
   "outputs": [
    {
     "data": {
      "text/plain": [
       "(2200, 551, 2200, 551)"
      ]
     },
     "execution_count": 77,
     "metadata": {},
     "output_type": "execute_result"
    }
   ],
   "source": [
    "train_windows, test_windows, train_labels, test_labels = make_train_test_splits(windows=full_windows,\n",
    "                                                                                labels=full_labels)\n",
    "len(train_windows), len(test_windows), len(train_labels), len(test_labels)"
   ]
  },
  {
   "cell_type": "code",
   "execution_count": 78,
   "metadata": {},
   "outputs": [],
   "source": [
    "def build_model_arq1(horizon,name):\n",
    "    model = tf.keras.Sequential([\n",
    "      layers.Dense(128, activation=\"relu\"),\n",
    "      layers.Dense(horizon)\n",
    "    ], name=name)\n",
    "    return model\n",
    "    "
   ]
  },
  {
   "cell_type": "code",
   "execution_count": 80,
   "metadata": {},
   "outputs": [
    {
     "name": "stdout",
     "output_type": "stream",
     "text": [
      "Epoch 1/100\n",
      "12/18 [===================>..........] - ETA: 0s - loss: 2639.1091  INFO:tensorflow:Assets written to: model_experiments\\model_3_dense\\assets\n"
     ]
    },
    {
     "name": "stderr",
     "output_type": "stream",
     "text": [
      "INFO:tensorflow:Assets written to: model_experiments\\model_3_dense\\assets\n"
     ]
    },
    {
     "name": "stdout",
     "output_type": "stream",
     "text": [
      "18/18 [==============================] - 19s 570ms/step - loss: 2270.1941 - val_loss: 5791.6606\n",
      "Epoch 2/100\n",
      "14/18 [======================>.......] - ETA: 0s - loss: 650.1761 INFO:tensorflow:Assets written to: model_experiments\\model_3_dense\\assets\n"
     ]
    },
    {
     "name": "stderr",
     "output_type": "stream",
     "text": [
      "INFO:tensorflow:Assets written to: model_experiments\\model_3_dense\\assets\n"
     ]
    },
    {
     "name": "stdout",
     "output_type": "stream",
     "text": [
      "18/18 [==============================] - 8s 464ms/step - loss: 633.5262 - val_loss: 2532.1270\n",
      "Epoch 3/100\n",
      "15/18 [========================>.....] - ETA: 0s - loss: 442.7328INFO:tensorflow:Assets written to: model_experiments\\model_3_dense\\assets\n"
     ]
    },
    {
     "name": "stderr",
     "output_type": "stream",
     "text": [
      "INFO:tensorflow:Assets written to: model_experiments\\model_3_dense\\assets\n"
     ]
    },
    {
     "name": "stdout",
     "output_type": "stream",
     "text": [
      "18/18 [==============================] - 4s 226ms/step - loss: 432.7866 - val_loss: 2391.5435\n",
      "Epoch 4/100\n",
      "12/18 [===================>..........] - ETA: 0s - loss: 398.9554INFO:tensorflow:Assets written to: model_experiments\\model_3_dense\\assets\n"
     ]
    },
    {
     "name": "stderr",
     "output_type": "stream",
     "text": [
      "INFO:tensorflow:Assets written to: model_experiments\\model_3_dense\\assets\n"
     ]
    },
    {
     "name": "stdout",
     "output_type": "stream",
     "text": [
      "18/18 [==============================] - 4s 237ms/step - loss: 384.2367 - val_loss: 1942.3467\n",
      "Epoch 5/100\n",
      "18/18 [==============================] - 3s 167ms/step - loss: 361.0821 - val_loss: 1943.6615\n",
      "Epoch 6/100\n",
      "13/18 [====================>.........] - ETA: 0s - loss: 361.2849INFO:tensorflow:Assets written to: model_experiments\\model_3_dense\\assets\n"
     ]
    },
    {
     "name": "stderr",
     "output_type": "stream",
     "text": [
      "INFO:tensorflow:Assets written to: model_experiments\\model_3_dense\\assets\n"
     ]
    },
    {
     "name": "stdout",
     "output_type": "stream",
     "text": [
      "18/18 [==============================] - 4s 213ms/step - loss: 344.1886 - val_loss: 1768.8789\n",
      "Epoch 7/100\n",
      "14/18 [======================>.......] - ETA: 0s - loss: 323.9063INFO:tensorflow:Assets written to: model_experiments\\model_3_dense\\assets\n"
     ]
    },
    {
     "name": "stderr",
     "output_type": "stream",
     "text": [
      "INFO:tensorflow:Assets written to: model_experiments\\model_3_dense\\assets\n"
     ]
    },
    {
     "name": "stdout",
     "output_type": "stream",
     "text": [
      "18/18 [==============================] - 4s 226ms/step - loss: 330.1219 - val_loss: 1682.9568\n",
      "Epoch 8/100\n",
      "18/18 [==============================] - 3s 163ms/step - loss: 319.5902 - val_loss: 1709.1088\n",
      "Epoch 9/100\n",
      "15/18 [========================>.....] - ETA: 0s - loss: 311.8464INFO:tensorflow:Assets written to: model_experiments\\model_3_dense\\assets\n"
     ]
    },
    {
     "name": "stderr",
     "output_type": "stream",
     "text": [
      "INFO:tensorflow:Assets written to: model_experiments\\model_3_dense\\assets\n"
     ]
    },
    {
     "name": "stdout",
     "output_type": "stream",
     "text": [
      "18/18 [==============================] - 4s 214ms/step - loss: 308.9303 - val_loss: 1650.4434\n",
      "Epoch 10/100\n",
      "18/18 [==============================] - 3s 158ms/step - loss: 305.8604 - val_loss: 1699.1807\n",
      "Epoch 11/100\n",
      "14/18 [======================>.......] - ETA: 0s - loss: 302.9837INFO:tensorflow:Assets written to: model_experiments\\model_3_dense\\assets\n"
     ]
    },
    {
     "name": "stderr",
     "output_type": "stream",
     "text": [
      "INFO:tensorflow:Assets written to: model_experiments\\model_3_dense\\assets\n"
     ]
    },
    {
     "name": "stdout",
     "output_type": "stream",
     "text": [
      "18/18 [==============================] - 4s 226ms/step - loss: 301.5754 - val_loss: 1642.7747\n",
      "Epoch 12/100\n",
      "16/18 [=========================>....] - ETA: 0s - loss: 287.2351INFO:tensorflow:Assets written to: model_experiments\\model_3_dense\\assets\n"
     ]
    },
    {
     "name": "stderr",
     "output_type": "stream",
     "text": [
      "INFO:tensorflow:Assets written to: model_experiments\\model_3_dense\\assets\n"
     ]
    },
    {
     "name": "stdout",
     "output_type": "stream",
     "text": [
      "18/18 [==============================] - 4s 228ms/step - loss: 286.6664 - val_loss: 1556.1661\n",
      "Epoch 13/100\n",
      "13/18 [====================>.........] - ETA: 0s - loss: 272.4953INFO:tensorflow:Assets written to: model_experiments\\model_3_dense\\assets\n"
     ]
    },
    {
     "name": "stderr",
     "output_type": "stream",
     "text": [
      "INFO:tensorflow:Assets written to: model_experiments\\model_3_dense\\assets\n"
     ]
    },
    {
     "name": "stdout",
     "output_type": "stream",
     "text": [
      "18/18 [==============================] - 4s 224ms/step - loss: 278.0891 - val_loss: 1477.1538\n",
      "Epoch 14/100\n",
      "18/18 [==============================] - 3s 159ms/step - loss: 276.8574 - val_loss: 1540.4271\n",
      "Epoch 15/100\n",
      "18/18 [==============================] - 3s 151ms/step - loss: 271.9645 - val_loss: 1614.3217\n",
      "Epoch 16/100\n",
      "18/18 [==============================] - 3s 155ms/step - loss: 275.9416 - val_loss: 1759.5846\n",
      "Epoch 17/100\n",
      "18/18 [==============================] - 3s 151ms/step - loss: 271.0386 - val_loss: 1654.8058\n",
      "Epoch 18/100\n",
      "13/18 [====================>.........] - ETA: 0s - loss: 270.8666INFO:tensorflow:Assets written to: model_experiments\\model_3_dense\\assets\n"
     ]
    },
    {
     "name": "stderr",
     "output_type": "stream",
     "text": [
      "INFO:tensorflow:Assets written to: model_experiments\\model_3_dense\\assets\n"
     ]
    },
    {
     "name": "stdout",
     "output_type": "stream",
     "text": [
      "18/18 [==============================] - 4s 220ms/step - loss: 269.6369 - val_loss: 1461.4957\n",
      "Epoch 19/100\n",
      "16/18 [=========================>....] - ETA: 0s - loss: 268.8062INFO:tensorflow:Assets written to: model_experiments\\model_3_dense\\assets\n"
     ]
    },
    {
     "name": "stderr",
     "output_type": "stream",
     "text": [
      "INFO:tensorflow:Assets written to: model_experiments\\model_3_dense\\assets\n"
     ]
    },
    {
     "name": "stdout",
     "output_type": "stream",
     "text": [
      "18/18 [==============================] - 4s 224ms/step - loss: 271.1724 - val_loss: 1437.0299\n",
      "Epoch 20/100\n",
      "13/18 [====================>.........] - ETA: 0s - loss: 276.5213INFO:tensorflow:Assets written to: model_experiments\\model_3_dense\\assets\n"
     ]
    },
    {
     "name": "stderr",
     "output_type": "stream",
     "text": [
      "INFO:tensorflow:Assets written to: model_experiments\\model_3_dense\\assets\n"
     ]
    },
    {
     "name": "stdout",
     "output_type": "stream",
     "text": [
      "18/18 [==============================] - 4s 220ms/step - loss: 262.3022 - val_loss: 1390.7211\n",
      "Epoch 21/100\n",
      "18/18 [==============================] - 3s 160ms/step - loss: 256.6707 - val_loss: 1463.5098\n",
      "Epoch 22/100\n",
      "18/18 [==============================] - 3s 149ms/step - loss: 251.2312 - val_loss: 1391.7533\n",
      "Epoch 23/100\n",
      "18/18 [==============================] - 3s 149ms/step - loss: 253.2961 - val_loss: 1480.0007\n",
      "Epoch 24/100\n",
      "13/18 [====================>.........] - ETA: 0s - loss: 252.3694INFO:tensorflow:Assets written to: model_experiments\\model_3_dense\\assets\n"
     ]
    },
    {
     "name": "stderr",
     "output_type": "stream",
     "text": [
      "INFO:tensorflow:Assets written to: model_experiments\\model_3_dense\\assets\n"
     ]
    },
    {
     "name": "stdout",
     "output_type": "stream",
     "text": [
      "18/18 [==============================] - 4s 223ms/step - loss: 248.2249 - val_loss: 1376.9574\n",
      "Epoch 25/100\n",
      "18/18 [==============================] - 3s 170ms/step - loss: 246.8361 - val_loss: 1657.7025\n",
      "Epoch 26/100\n",
      "18/18 [==============================] - 3s 147ms/step - loss: 252.6801 - val_loss: 1615.3535\n",
      "Epoch 27/100\n",
      "14/18 [======================>.......] - ETA: 0s - loss: 253.9896INFO:tensorflow:Assets written to: model_experiments\\model_3_dense\\assets\n"
     ]
    },
    {
     "name": "stderr",
     "output_type": "stream",
     "text": [
      "INFO:tensorflow:Assets written to: model_experiments\\model_3_dense\\assets\n"
     ]
    },
    {
     "name": "stdout",
     "output_type": "stream",
     "text": [
      "18/18 [==============================] - 4s 213ms/step - loss: 249.7136 - val_loss: 1371.4240\n",
      "Epoch 28/100\n",
      "18/18 [==============================] - 3s 161ms/step - loss: 243.4238 - val_loss: 1460.9047\n",
      "Epoch 29/100\n",
      "18/18 [==============================] - 3s 164ms/step - loss: 250.1641 - val_loss: 1389.4111\n",
      "Epoch 30/100\n",
      "15/18 [========================>.....] - ETA: 0s - loss: 257.2940INFO:tensorflow:Assets written to: model_experiments\\model_3_dense\\assets\n"
     ]
    },
    {
     "name": "stderr",
     "output_type": "stream",
     "text": [
      "INFO:tensorflow:Assets written to: model_experiments\\model_3_dense\\assets\n"
     ]
    },
    {
     "name": "stdout",
     "output_type": "stream",
     "text": [
      "18/18 [==============================] - 4s 213ms/step - loss: 257.5331 - val_loss: 1339.4673\n",
      "Epoch 31/100\n",
      "18/18 [==============================] - 2s 140ms/step - loss: 241.6330 - val_loss: 1371.7235\n",
      "Epoch 32/100\n",
      "13/18 [====================>.........] - ETA: 0s - loss: 245.2882INFO:tensorflow:Assets written to: model_experiments\\model_3_dense\\assets\n"
     ]
    },
    {
     "name": "stderr",
     "output_type": "stream",
     "text": [
      "INFO:tensorflow:Assets written to: model_experiments\\model_3_dense\\assets\n"
     ]
    },
    {
     "name": "stdout",
     "output_type": "stream",
     "text": [
      "18/18 [==============================] - 4s 222ms/step - loss: 239.1550 - val_loss: 1316.6100\n",
      "Epoch 33/100\n",
      "18/18 [==============================] - 3s 173ms/step - loss: 240.6933 - val_loss: 1412.0529\n",
      "Epoch 34/100\n",
      "14/18 [======================>.......] - ETA: 0s - loss: 242.5137INFO:tensorflow:Assets written to: model_experiments\\model_3_dense\\assets\n"
     ]
    },
    {
     "name": "stderr",
     "output_type": "stream",
     "text": [
      "INFO:tensorflow:Assets written to: model_experiments\\model_3_dense\\assets\n"
     ]
    },
    {
     "name": "stdout",
     "output_type": "stream",
     "text": [
      "18/18 [==============================] - 4s 213ms/step - loss: 246.5285 - val_loss: 1308.0386\n",
      "Epoch 35/100\n",
      "18/18 [==============================] - 3s 177ms/step - loss: 240.5161 - val_loss: 1312.0603\n",
      "Epoch 36/100\n",
      "18/18 [==============================] - 3s 166ms/step - loss: 246.5619 - val_loss: 1324.0791\n",
      "Epoch 37/100\n",
      "18/18 [==============================] - 3s 163ms/step - loss: 242.5628 - val_loss: 1405.8691\n",
      "Epoch 38/100\n",
      "18/18 [==============================] - 3s 164ms/step - loss: 240.9673 - val_loss: 1499.6926\n",
      "Epoch 39/100\n",
      "18/18 [==============================] - 3s 162ms/step - loss: 245.4082 - val_loss: 1311.7567\n",
      "Epoch 40/100\n",
      "18/18 [==============================] - 3s 165ms/step - loss: 235.5133 - val_loss: 1339.0613\n",
      "Epoch 41/100\n",
      "16/18 [=========================>....] - ETA: 0s - loss: 243.2406INFO:tensorflow:Assets written to: model_experiments\\model_3_dense\\assets\n"
     ]
    },
    {
     "name": "stderr",
     "output_type": "stream",
     "text": [
      "INFO:tensorflow:Assets written to: model_experiments\\model_3_dense\\assets\n"
     ]
    },
    {
     "name": "stdout",
     "output_type": "stream",
     "text": [
      "18/18 [==============================] - 4s 229ms/step - loss: 242.1608 - val_loss: 1299.8630\n",
      "Epoch 42/100\n",
      "18/18 [==============================] - 3s 178ms/step - loss: 242.5050 - val_loss: 1301.1292\n",
      "Epoch 43/100\n",
      "18/18 [==============================] - 3s 167ms/step - loss: 243.0531 - val_loss: 1367.0730\n",
      "Epoch 44/100\n",
      "18/18 [==============================] - 3s 163ms/step - loss: 240.5387 - val_loss: 1353.7477\n",
      "Epoch 45/100\n",
      "17/18 [===========================>..] - ETA: 0s - loss: 235.8747INFO:tensorflow:Assets written to: model_experiments\\model_3_dense\\assets\n"
     ]
    },
    {
     "name": "stderr",
     "output_type": "stream",
     "text": [
      "INFO:tensorflow:Assets written to: model_experiments\\model_3_dense\\assets\n"
     ]
    },
    {
     "name": "stdout",
     "output_type": "stream",
     "text": [
      "18/18 [==============================] - 4s 227ms/step - loss: 234.2492 - val_loss: 1285.8055\n",
      "Epoch 46/100\n",
      "18/18 [==============================] - 3s 176ms/step - loss: 236.0773 - val_loss: 1444.8436\n",
      "Epoch 47/100\n",
      "18/18 [==============================] - 3s 163ms/step - loss: 237.0062 - val_loss: 1315.5272\n",
      "Epoch 48/100\n",
      "17/18 [===========================>..] - ETA: 0s - loss: 232.8850INFO:tensorflow:Assets written to: model_experiments\\model_3_dense\\assets\n"
     ]
    },
    {
     "name": "stderr",
     "output_type": "stream",
     "text": [
      "INFO:tensorflow:Assets written to: model_experiments\\model_3_dense\\assets\n"
     ]
    },
    {
     "name": "stdout",
     "output_type": "stream",
     "text": [
      "18/18 [==============================] - 4s 228ms/step - loss: 234.5241 - val_loss: 1285.2368\n",
      "Epoch 49/100\n",
      "18/18 [==============================] - 3s 180ms/step - loss: 235.8454 - val_loss: 1318.1200\n",
      "Epoch 50/100\n",
      "18/18 [==============================] - 3s 164ms/step - loss: 234.5080 - val_loss: 1363.3787\n",
      "Epoch 51/100\n",
      "18/18 [==============================] - 3s 163ms/step - loss: 234.4081 - val_loss: 1380.9061\n",
      "Epoch 52/100\n",
      "18/18 [==============================] - 3s 161ms/step - loss: 234.9353 - val_loss: 1352.0947\n",
      "Epoch 53/100\n",
      "18/18 [==============================] - 3s 172ms/step - loss: 234.2019 - val_loss: 1340.2434\n",
      "Epoch 54/100\n",
      "18/18 [==============================] - 3s 168ms/step - loss: 240.2628 - val_loss: 1383.1608\n",
      "Epoch 55/100\n",
      "13/18 [====================>.........] - ETA: 0s - loss: 254.3271INFO:tensorflow:Assets written to: model_experiments\\model_3_dense\\assets\n"
     ]
    },
    {
     "name": "stderr",
     "output_type": "stream",
     "text": [
      "INFO:tensorflow:Assets written to: model_experiments\\model_3_dense\\assets\n"
     ]
    },
    {
     "name": "stdout",
     "output_type": "stream",
     "text": [
      "18/18 [==============================] - 4s 230ms/step - loss: 251.2493 - val_loss: 1281.9716\n",
      "Epoch 56/100\n",
      "18/18 [==============================] - 3s 186ms/step - loss: 237.0264 - val_loss: 1642.2402\n",
      "Epoch 57/100\n",
      "18/18 [==============================] - 3s 165ms/step - loss: 251.8501 - val_loss: 1568.1799\n",
      "Epoch 58/100\n",
      "18/18 [==============================] - 3s 164ms/step - loss: 239.5258 - val_loss: 1323.1819\n",
      "Epoch 59/100\n",
      "18/18 [==============================] - 3s 164ms/step - loss: 231.2460 - val_loss: 1337.2157\n",
      "Epoch 60/100\n",
      "18/18 [==============================] - 3s 163ms/step - loss: 230.5275 - val_loss: 1492.3732\n",
      "Epoch 61/100\n",
      "16/18 [=========================>....] - ETA: 0s - loss: 235.6523INFO:tensorflow:Assets written to: model_experiments\\model_3_dense\\assets\n"
     ]
    },
    {
     "name": "stderr",
     "output_type": "stream",
     "text": [
      "INFO:tensorflow:Assets written to: model_experiments\\model_3_dense\\assets\n"
     ]
    },
    {
     "name": "stdout",
     "output_type": "stream",
     "text": [
      "18/18 [==============================] - 4s 222ms/step - loss: 232.2929 - val_loss: 1276.2917\n",
      "Epoch 62/100\n",
      "18/18 [==============================] - 3s 179ms/step - loss: 230.4764 - val_loss: 1511.4703\n",
      "Epoch 63/100\n",
      "18/18 [==============================] - 3s 165ms/step - loss: 232.1022 - val_loss: 1286.9779\n",
      "Epoch 64/100\n",
      "18/18 [==============================] - 3s 184ms/step - loss: 230.2014 - val_loss: 1323.8241\n",
      "Epoch 65/100\n",
      "18/18 [==============================] - 3s 167ms/step - loss: 230.0624 - val_loss: 1283.7422\n",
      "Epoch 66/100\n",
      "18/18 [==============================] - 3s 161ms/step - loss: 227.1662 - val_loss: 1390.6113\n",
      "Epoch 67/100\n",
      "18/18 [==============================] - 3s 162ms/step - loss: 230.6444 - val_loss: 1344.6973\n",
      "Epoch 68/100\n",
      "18/18 [==============================] - 3s 164ms/step - loss: 228.1143 - val_loss: 1324.4188\n",
      "Epoch 69/100\n",
      "18/18 [==============================] - 3s 165ms/step - loss: 231.6334 - val_loss: 1381.4253\n",
      "Epoch 70/100\n",
      "18/18 [==============================] - 3s 164ms/step - loss: 233.5227 - val_loss: 1361.4656\n",
      "Epoch 71/100\n",
      "16/18 [=========================>....] - ETA: 0s - loss: 229.6889INFO:tensorflow:Assets written to: model_experiments\\model_3_dense\\assets\n"
     ]
    },
    {
     "name": "stderr",
     "output_type": "stream",
     "text": [
      "INFO:tensorflow:Assets written to: model_experiments\\model_3_dense\\assets\n"
     ]
    },
    {
     "name": "stdout",
     "output_type": "stream",
     "text": [
      "18/18 [==============================] - 4s 224ms/step - loss: 230.2012 - val_loss: 1273.4814\n",
      "Epoch 72/100\n",
      "18/18 [==============================] - 3s 180ms/step - loss: 235.8833 - val_loss: 1318.2894\n",
      "Epoch 73/100\n",
      "18/18 [==============================] - 3s 165ms/step - loss: 228.7628 - val_loss: 1358.1588\n",
      "Epoch 74/100\n",
      "18/18 [==============================] - 3s 162ms/step - loss: 232.0607 - val_loss: 1292.2100\n",
      "Epoch 75/100\n",
      "18/18 [==============================] - 3s 168ms/step - loss: 227.7287 - val_loss: 1276.9741\n",
      "Epoch 76/100\n",
      "18/18 [==============================] - 3s 162ms/step - loss: 228.7307 - val_loss: 1286.4604\n",
      "Epoch 77/100\n",
      "18/18 [==============================] - 3s 164ms/step - loss: 231.3463 - val_loss: 1282.1538\n",
      "Epoch 78/100\n",
      "16/18 [=========================>....] - ETA: 0s - loss: 229.8646INFO:tensorflow:Assets written to: model_experiments\\model_3_dense\\assets\n"
     ]
    },
    {
     "name": "stderr",
     "output_type": "stream",
     "text": [
      "INFO:tensorflow:Assets written to: model_experiments\\model_3_dense\\assets\n"
     ]
    },
    {
     "name": "stdout",
     "output_type": "stream",
     "text": [
      "18/18 [==============================] - 4s 225ms/step - loss: 227.9284 - val_loss: 1260.8369\n",
      "Epoch 79/100\n",
      "18/18 [==============================] - 3s 180ms/step - loss: 225.8139 - val_loss: 1278.8623\n",
      "Epoch 80/100\n",
      "18/18 [==============================] - 3s 164ms/step - loss: 225.6283 - val_loss: 1269.0977\n",
      "Epoch 81/100\n",
      "18/18 [==============================] - 3s 164ms/step - loss: 226.4957 - val_loss: 1310.6738\n",
      "Epoch 82/100\n",
      "18/18 [==============================] - 3s 162ms/step - loss: 230.3148 - val_loss: 1313.9852\n",
      "Epoch 83/100\n",
      "18/18 [==============================] - 3s 173ms/step - loss: 238.1760 - val_loss: 1319.2812\n",
      "Epoch 84/100\n",
      "18/18 [==============================] - 3s 164ms/step - loss: 230.5950 - val_loss: 1269.3966\n",
      "Epoch 85/100\n",
      "14/18 [======================>.......] - ETA: 0s - loss: 225.0011INFO:tensorflow:Assets written to: model_experiments\\model_3_dense\\assets\n"
     ]
    },
    {
     "name": "stderr",
     "output_type": "stream",
     "text": [
      "INFO:tensorflow:Assets written to: model_experiments\\model_3_dense\\assets\n"
     ]
    },
    {
     "name": "stdout",
     "output_type": "stream",
     "text": [
      "18/18 [==============================] - 4s 234ms/step - loss: 225.7147 - val_loss: 1240.6742\n",
      "Epoch 86/100\n",
      "14/18 [======================>.......] - ETA: 0s - loss: 221.4898INFO:tensorflow:Assets written to: model_experiments\\model_3_dense\\assets\n"
     ]
    },
    {
     "name": "stderr",
     "output_type": "stream",
     "text": [
      "INFO:tensorflow:Assets written to: model_experiments\\model_3_dense\\assets\n"
     ]
    },
    {
     "name": "stdout",
     "output_type": "stream",
     "text": [
      "18/18 [==============================] - 4s 240ms/step - loss: 227.5133 - val_loss: 1232.6573\n",
      "Epoch 87/100\n",
      "18/18 [==============================] - 3s 179ms/step - loss: 232.2941 - val_loss: 1347.6274\n",
      "Epoch 88/100\n",
      "18/18 [==============================] - 3s 164ms/step - loss: 236.9503 - val_loss: 1391.2712\n",
      "Epoch 89/100\n",
      "18/18 [==============================] - 3s 166ms/step - loss: 227.1820 - val_loss: 1240.4125\n",
      "Epoch 90/100\n",
      "18/18 [==============================] - 3s 171ms/step - loss: 225.8540 - val_loss: 1312.8730\n",
      "Epoch 91/100\n",
      "18/18 [==============================] - 3s 162ms/step - loss: 227.5296 - val_loss: 1240.0490\n",
      "Epoch 92/100\n",
      "18/18 [==============================] - 3s 165ms/step - loss: 228.8429 - val_loss: 1291.4908\n",
      "Epoch 93/100\n",
      "17/18 [===========================>..] - ETA: 0s - loss: 223.2345INFO:tensorflow:Assets written to: model_experiments\\model_3_dense\\assets\n"
     ]
    },
    {
     "name": "stderr",
     "output_type": "stream",
     "text": [
      "INFO:tensorflow:Assets written to: model_experiments\\model_3_dense\\assets\n"
     ]
    },
    {
     "name": "stdout",
     "output_type": "stream",
     "text": [
      "18/18 [==============================] - 4s 228ms/step - loss: 223.8485 - val_loss: 1229.4498\n",
      "Epoch 94/100\n",
      "18/18 [==============================] - 3s 183ms/step - loss: 228.6358 - val_loss: 1330.4991\n",
      "Epoch 95/100\n",
      "18/18 [==============================] - 3s 162ms/step - loss: 232.0547 - val_loss: 1442.4535\n",
      "Epoch 96/100\n",
      "18/18 [==============================] - 3s 165ms/step - loss: 226.6221 - val_loss: 1305.9816\n",
      "Epoch 97/100\n",
      "18/18 [==============================] - 3s 192ms/step - loss: 224.7748 - val_loss: 1277.7271\n",
      "Epoch 98/100\n",
      "18/18 [==============================] - 3s 160ms/step - loss: 221.7679 - val_loss: 1364.0068\n",
      "Epoch 99/100\n",
      "18/18 [==============================] - 3s 163ms/step - loss: 227.1757 - val_loss: 1300.3475\n",
      "Epoch 100/100\n",
      "18/18 [==============================] - 3s 163ms/step - loss: 224.0734 - val_loss: 1249.4102\n"
     ]
    },
    {
     "data": {
      "text/plain": [
       "<keras.callbacks.History at 0x20bee97c970>"
      ]
     },
     "execution_count": 80,
     "metadata": {},
     "output_type": "execute_result"
    }
   ],
   "source": [
    "# build\n",
    "model_3 = build_model_arq1(HORIZON,\"model_3_dense\")\n",
    "\n",
    "# Compile\n",
    "model_3.compile(loss=\"MAE\",\n",
    "                optimizer=tf.keras.optimizers.Adam())\n",
    "\n",
    "# Fit\n",
    "model_3.fit(train_windows,\n",
    "            train_labels,\n",
    "            batch_size=128,\n",
    "            epochs=100,\n",
    "            verbose=1,\n",
    "            validation_data=(test_windows, test_labels),\n",
    "            callbacks=[create_model_checkpoint(model_name=model_3.name)])"
   ]
  },
  {
   "cell_type": "code",
   "execution_count": 82,
   "metadata": {},
   "outputs": [
    {
     "name": "stdout",
     "output_type": "stream",
     "text": [
      "18/18 [==============================] - 1s 1ms/step - loss: 1249.4102\n"
     ]
    },
    {
     "data": {
      "text/plain": [
       "1249.41015625"
      ]
     },
     "execution_count": 82,
     "metadata": {},
     "output_type": "execute_result"
    }
   ],
   "source": [
    "# Evaluate the model on the test data\n",
    "\n",
    "# va a ser mayor xq aotra el horizonte ya no es 1, sino que mucho m[as\n",
    "# predceinos mucho m[as alla en el futuro]\n",
    "\n",
    "model_3.evaluate(test_windows, test_labels)"
   ]
  },
  {
   "cell_type": "code",
   "execution_count": 83,
   "metadata": {},
   "outputs": [
    {
     "name": "stdout",
     "output_type": "stream",
     "text": [
      "18/18 [==============================] - 3s 2ms/step - loss: 1229.4498\n"
     ]
    },
    {
     "data": {
      "text/plain": [
       "1229.4498291015625"
      ]
     },
     "execution_count": 83,
     "metadata": {},
     "output_type": "execute_result"
    }
   ],
   "source": [
    "# Load best version of model_3 and evaluate\n",
    "model_3 = tf.keras.models.load_model(\"model_experiments/model_3_dense\")\n",
    "model_3.evaluate(test_windows, test_labels)"
   ]
  },
  {
   "cell_type": "code",
   "execution_count": 84,
   "metadata": {},
   "outputs": [
    {
     "name": "stdout",
     "output_type": "stream",
     "text": [
      "18/18 [==============================] - 3s 2ms/step\n"
     ]
    },
    {
     "data": {
      "text/plain": [
       "<tf.Tensor: shape=(5, 7), dtype=float32, numpy=\n",
       "array([[9343.65  , 9332.62  , 9388.587 , 9430.069 , 9494.41  , 9481.166 ,\n",
       "        9768.468 ],\n",
       "       [9006.663 , 9109.024 , 8998.934 , 9070.09  , 9042.174 , 9157.99  ,\n",
       "        9260.968 ],\n",
       "       [8739.267 , 8870.123 , 8884.829 , 8928.307 , 9019.677 , 9099.83  ,\n",
       "        9049.9375],\n",
       "       [8787.225 , 8892.512 , 9045.965 , 9057.401 , 9192.3545, 9349.307 ,\n",
       "        9130.95  ],\n",
       "       [8662.469 , 8805.07  , 9065.919 , 8936.128 , 9116.969 , 9344.89  ,\n",
       "        9099.368 ]], dtype=float32)>"
      ]
     },
     "execution_count": 84,
     "metadata": {},
     "output_type": "execute_result"
    }
   ],
   "source": [
    "# Make predictions with model_3\n",
    "model_3_preds = make_preds(model_3,\n",
    "                           input_data=test_windows)\n",
    "model_3_preds[:5]"
   ]
  },
  {
   "cell_type": "code",
   "execution_count": 85,
   "metadata": {},
   "outputs": [
    {
     "data": {
      "text/plain": [
       "{'mae': 638.0246,\n",
       " 'mse': 1394639.2,\n",
       " 'rmse': 1180.9485,\n",
       " 'mape': 2.8341324,\n",
       " 'mase': 1.1152732}"
      ]
     },
     "execution_count": 85,
     "metadata": {},
     "output_type": "execute_result"
    }
   ],
   "source": [
    "model_2_results"
   ]
  },
  {
   "cell_type": "code",
   "execution_count": 86,
   "metadata": {},
   "outputs": [
    {
     "data": {
      "text/plain": [
       "(TensorShape([551, 7]), TensorShape([552]), TensorShape([556]))"
      ]
     },
     "execution_count": 86,
     "metadata": {},
     "output_type": "execute_result"
    }
   ],
   "source": [
    "model_3_preds.shape, model_2_preds.shape, model_1_preds.shape"
   ]
  },
  {
   "cell_type": "code",
   "execution_count": 87,
   "metadata": {},
   "outputs": [
    {
     "data": {
      "text/plain": [
       "{'mae': array([ 669.4951  ,  341.00754 ,  335.1144  ,  438.5074  ,  478.17508 ,\n",
       "         499.12912 ,  512.37726 ,  601.09143 ,  581.9726  ,  664.9132  ,\n",
       "         838.3371  ,  750.3346  ,  769.3454  ,  753.144   ,  618.5243  ,\n",
       "         298.8381  ,  189.96373 ,  232.75935 ,  267.6792  ,  307.01654 ,\n",
       "         195.00252 ,  229.77023 ,  341.05707 ,  392.19162 ,  203.79387 ,\n",
       "         138.65276 ,  151.02121 ,  202.57268 ,  154.63567 ,  258.9133  ,\n",
       "         352.75586 ,  408.2233  ,  336.44232 ,  422.95844 ,  299.68744 ,\n",
       "         317.14676 ,  338.13168 ,  288.16553 ,  235.80545 ,  142.31648 ,\n",
       "         401.8229  ,   49.648647,  133.55922 ,   90.967636,   87.42139 ,\n",
       "         129.1898  ,  111.563126,  107.82959 ,  120.31501 ,  131.57555 ,\n",
       "         179.5355  ,  179.02748 ,  203.131   ,  126.91176 ,  186.97209 ,\n",
       "         309.988   ,  490.9031  ,  466.55942 ,  445.69238 ,  511.24658 ,\n",
       "         382.33316 ,  149.80818 ,  236.90471 ,  348.18588 ,  335.79498 ,\n",
       "         452.9527  ,  478.3228  ,  599.2579  ,  195.59766 ,  232.44685 ,\n",
       "         281.15765 ,  420.21695 ,  564.00336 ,  381.5018  ,  276.50977 ,\n",
       "         289.3234  ,  270.4915  ,  315.4728  ,  436.8796  ,  685.78406 ,\n",
       "         758.3404  ,  572.3171  ,  289.07016 ,  231.3199  ,  157.06236 ,\n",
       "         213.13937 ,  188.61328 ,  234.70926 ,  292.64243 ,  534.4503  ,\n",
       "         531.5179  ,  418.32465 ,  333.96457 ,  239.57004 ,  214.3584  ,\n",
       "         364.37485 ,  359.1723  ,  508.94293 ,  630.5321  ,  776.55524 ,\n",
       "         509.74203 ,  378.85867 ,  195.39076 ,  391.77484 ,  321.1395  ,\n",
       "         410.99652 ,  561.9566  ,  760.5703  , 1016.73566 , 1031.6433  ,\n",
       "         936.3262  ,  471.55008 ,  180.24734 ,  101.79464 ,  194.08371 ,\n",
       "         409.06705 ,  374.85904 ,  498.02838 ,  647.50226 , 1182.2386  ,\n",
       "        1746.1599  , 2227.944   , 2062.034   , 2114.1812  , 2379.556   ,\n",
       "        2599.0352  , 1183.5123  ,  495.616   ,  444.9405  ,  527.73035 ,\n",
       "         913.3636  ,  845.43024 ,  905.8337  ,  370.87848 ,  301.0685  ,\n",
       "         268.72342 ,  514.77313 ,  334.82114 ,  218.36607 ,  288.98822 ,\n",
       "         282.33405 ,  326.12674 ,  441.6396  ,  888.9821  ,  820.87    ,\n",
       "         713.55273 ,  578.9996  ,  336.9393  ,  184.89432 ,  259.69147 ,\n",
       "         296.77728 ,  380.3399  ,  412.44357 ,  395.69412 ,  406.02475 ,\n",
       "         158.43785 ,  118.95417 ,  177.34996 ,  193.32506 ,  209.66623 ,\n",
       "         283.08154 ,  200.051   ,  228.99373 ,  202.89404 ,  190.5233  ,\n",
       "         261.86545 ,  464.73697 ,  646.84845 ,  549.8045  ,  641.20886 ,\n",
       "         810.54083 ,  849.8639  ,  865.2783  , 1080.5956  ,  435.417   ,\n",
       "         347.00894 ,  303.6882  ,  337.27817 ,  317.048   ,  460.42258 ,\n",
       "         575.8962  ,  550.6938  ,  623.0805  ,  807.77094 ,  879.6657  ,\n",
       "         318.25375 ,  465.13297 ,  681.27094 ,  427.16    ,  135.3531  ,\n",
       "         251.25488 ,  330.07156 ,  459.45035 ,  506.21274 ,  647.71387 ,\n",
       "         637.38043 ,  307.4152  ,  198.94002 ,  213.87332 ,  271.10687 ,\n",
       "         492.6384  ,  634.57    ,  548.25195 ,  394.96387 ,  257.6448  ,\n",
       "         249.07576 ,  215.07715 ,  526.5911  ,  212.49219 ,  249.63406 ,\n",
       "         296.94293 ,  238.1589  ,  214.26562 ,  246.17592 ,  419.25266 ,\n",
       "         497.97922 ,  624.5972  ,  211.75139 ,  212.45842 ,  243.87514 ,\n",
       "         287.34988 ,  190.45299 ,  194.18875 ,  225.47029 ,  203.72531 ,\n",
       "         229.66016 ,  186.23438 ,  323.66714 ,  382.98297 ,  482.50113 ,\n",
       "         447.49567 ,  330.55902 ,  281.83023 ,  126.201035,  146.26088 ,\n",
       "         132.3238  ,  127.30245 ,  170.69029 ,   82.96261 ,  108.19503 ,\n",
       "         104.424385,  126.12528 ,  155.90527 ,  177.57297 ,  278.14468 ,\n",
       "         207.82283 ,  233.38281 ,  171.22865 ,  192.47697 ,  214.8549  ,\n",
       "         157.45201 ,  109.89886 ,   81.5339  ,  111.867325,  162.51717 ,\n",
       "         213.50154 ,  505.4848  ,  618.73914 ,  756.14594 ,  821.791   ,\n",
       "        1049.3704  , 1258.4039  , 1239.6508  ,  430.72043 ,  251.36621 ,\n",
       "         201.92899 ,  243.20383 ,  218.55176 ,  341.81738 ,  135.25963 ,\n",
       "         144.21414 ,  253.93066 ,  225.96024 ,  254.36537 ,  276.54477 ,\n",
       "         287.2768  ,  266.9428  ,  267.83273 ,  208.73438 ,  279.4011  ,\n",
       "         227.79715 ,  260.68082 ,  197.28459 ,  380.08383 ,  546.8167  ,\n",
       "         585.0067  ,  363.36816 ,  294.30762 ,  316.24176 ,  324.14594 ,\n",
       "         400.78125 ,  387.8234  ,  126.08119 ,  151.74791 ,  360.19754 ,\n",
       "         489.49945 ,  671.27985 ,  949.0911  , 1160.3214  , 1550.5295  ,\n",
       "        1566.7743  ,  979.0883  ,  630.60645 ,  113.89467 ,  133.84207 ,\n",
       "         140.1928  ,  353.07993 ,  219.08385 ,  249.0201  ,  225.94572 ,\n",
       "         260.79395 ,  370.51187 ,  229.16965 ,  271.07617 ,  409.67438 ,\n",
       "         486.0088  ,  504.97183 ,  579.88434 ,  432.51645 ,  147.79842 ,\n",
       "         128.1822  ,  246.33998 ,  183.55637 ,  203.69531 ,  301.78726 ,\n",
       "         436.10547 ,  452.23746 ,  429.95312 ,  251.78236 ,  127.17899 ,\n",
       "          80.28111 ,  232.34514 ,  266.4598  ,  312.46973 ,  502.73312 ,\n",
       "         530.5742  ,  516.8495  ,  361.38086 ,  179.52637 ,  195.92941 ,\n",
       "         371.6938  ,  260.38657 ,  328.92606 ,  501.79477 ,  669.0204  ,\n",
       "         951.149   , 1194.751   , 1143.1191  , 1178.3448  ,  345.62653 ,\n",
       "         152.5332  ,  170.09277 ,  172.32631 ,  180.06795 ,  291.53683 ,\n",
       "         132.80371 ,  168.87332 ,  408.2959  ,  624.78156 ,  574.32117 ,\n",
       "         767.1696  , 1118.2072  , 1210.759   , 1117.6843  ,  390.63364 ,\n",
       "         335.69684 ,  407.3132  ,  261.62863 ,  458.15277 ,  857.986   ,\n",
       "         911.9022  ,  873.8414  ,  915.9997  , 1374.7317  , 1761.8287  ,\n",
       "        1482.6549  ,  969.8675  ,  569.7017  ,  538.38226 ,  693.2257  ,\n",
       "         967.7821  , 1065.5115  ,  976.9188  ,  998.8242  ,  940.0497  ,\n",
       "         737.7054  , 1446.4473  , 1294.6927  , 1133.8837  ,  223.1995  ,\n",
       "         315.3482  ,  653.6772  , 1129.4286  ,  689.4526  ,  656.6314  ,\n",
       "         659.44446 ,  606.03375 ,  419.20535 ,  639.6105  , 1310.5701  ,\n",
       "        2227.3901  , 2695.28    , 2993.0583  , 3182.2202  , 3254.0896  ,\n",
       "        2233.459   ,  769.1286  ,  473.90738 ,  866.8524  , 1040.0363  ,\n",
       "        1200.4459  , 1692.5033  , 2627.9622  , 3398.9958  , 3130.906   ,\n",
       "        2377.2917  , 2546.4888  , 2736.964   , 3473.092   , 3167.1848  ,\n",
       "        4195.2373  , 5336.367   , 4523.4204  , 4149.4604  , 4852.0264  ,\n",
       "        3544.2678  , 2841.7327  , 2333.0686  , 3555.2344  , 4782.796   ,\n",
       "        4457.8335  , 1380.1378  ,  919.50946 , 1172.5653  , 2641.2344  ,\n",
       "        2844.3372  , 2910.737   , 3356.7712  , 3834.295   , 4120.968   ,\n",
       "        3781.5164  ,  892.8189  , 1060.651   , 1313.6534  , 1639.1133  ,\n",
       "        1626.1057  , 1980.5812  , 3572.4907  , 3401.1282  , 2136.937   ,\n",
       "        2056.8972  , 3186.5413  , 4457.389   , 4422.9893  , 4606.785   ,\n",
       "        4890.09    , 6134.6084  , 5951.0537  , 7728.2124  , 4828.561   ,\n",
       "        1527.2238  , 1489.658   , 1104.4108  , 2053.3599  , 2730.6802  ,\n",
       "        2891.1138  , 3599.5403  , 3573.5178  , 3355.76    , 3993.491   ,\n",
       "        5554.499   , 6870.3164  , 9829.325   , 9255.806   , 4442.2065  ,\n",
       "        2517.0112  , 1793.4755  , 1498.5675  , 2945.888   , 4426.5654  ,\n",
       "        1722.8533  , 2754.3347  , 2158.5642  , 3651.7075  , 4452.7964  ,\n",
       "        5693.0513  , 6300.441   , 5753.801   , 3920.9995  , 2141.7349  ,\n",
       "        1248.1478  , 1531.3739  , 2061.4636  , 3615.7427  , 1415.178   ,\n",
       "        1963.9727  , 3397.384   , 4661.008   , 5316.2876  , 5432.5166  ,\n",
       "        5460.587   , 1984.0536  , 1168.6267  , 2236.7266  , 4671.347   ,\n",
       "        3597.1106  , 2354.9387  , 2409.7053  , 1271.4799  , 1029.0374  ,\n",
       "        1120.8025  ,  916.68304 , 1220.0831  , 1097.8655  ,  860.69977 ,\n",
       "         884.00446 , 1255.615   , 2123.1172  , 2708.793   , 2712.6345  ,\n",
       "        2077.26    , 2498.356   , 3145.7612  , 4436.4736  , 5902.8467  ,\n",
       "        7954.707   , 8710.491   , 8687.073   , 6413.1016  , 4727.7896  ,\n",
       "        4207.3525  , 2553.0715  , 1725.7762  , 2411.6082  , 3690.0312  ,\n",
       "        5844.2     , 3389.7917  , 1821.0111  , 1851.7545  , 1953.0664  ,\n",
       "        1160.3761  , 1502.5831  ,  692.6278  , 1838.2913  , 1861.6825  ,\n",
       "        1931.6914  , 2795.1458  , 4145.3906  , 5913.024   , 7828.1396  ,\n",
       "        9079.829   ], dtype=float32),\n",
       " 'mse': array([5.01008906e+05, 1.62465516e+05, 1.45307156e+05, 2.68084969e+05,\n",
       "        3.19967531e+05, 3.38126312e+05, 3.44237156e+05, 4.89073938e+05,\n",
       "        5.16327062e+05, 6.43557875e+05, 9.70666000e+05, 7.94990062e+05,\n",
       "        7.06091125e+05, 6.17672688e+05, 4.18927844e+05, 1.18104539e+05,\n",
       "        5.07269180e+04, 8.79397656e+04, 1.16818672e+05, 1.33936391e+05,\n",
       "        5.95337617e+04, 6.34214922e+04, 1.36046672e+05, 1.72777109e+05,\n",
       "        5.04741250e+04, 3.71522578e+04, 4.01595625e+04, 4.75907500e+04,\n",
       "        3.25532246e+04, 7.40043828e+04, 1.57298531e+05, 1.88029859e+05,\n",
       "        1.59832719e+05, 2.96219469e+05, 1.76102047e+05, 1.54398547e+05,\n",
       "        1.79481266e+05, 1.38656422e+05, 8.51862500e+04, 4.52954336e+04,\n",
       "        1.90981328e+05, 3.83453174e+03, 2.36186191e+04, 1.05602393e+04,\n",
       "        1.02054316e+04, 2.02270527e+04, 2.01744648e+04, 1.92706504e+04,\n",
       "        2.47408262e+04, 3.82096758e+04, 5.24075898e+04, 3.71531914e+04,\n",
       "        5.57181680e+04, 2.42619785e+04, 6.06906289e+04, 1.72475344e+05,\n",
       "        2.85674969e+05, 2.69943875e+05, 2.25306141e+05, 2.69291531e+05,\n",
       "        1.62292781e+05, 5.04806602e+04, 9.82218984e+04, 1.91686109e+05,\n",
       "        1.80283984e+05, 2.61956781e+05, 2.65565344e+05, 3.84953312e+05,\n",
       "        4.94411367e+04, 6.74107188e+04, 1.03032336e+05, 2.21290109e+05,\n",
       "        3.66302469e+05, 2.02429141e+05, 1.08281836e+05, 1.17079789e+05,\n",
       "        1.05578234e+05, 1.67225625e+05, 2.85759438e+05, 5.33898500e+05,\n",
       "        6.02307812e+05, 3.49094844e+05, 1.11639367e+05, 6.47883047e+04,\n",
       "        4.90626328e+04, 7.83117031e+04, 5.84106367e+04, 7.70790469e+04,\n",
       "        1.15719234e+05, 3.24701656e+05, 3.19497156e+05, 1.90591078e+05,\n",
       "        1.37696422e+05, 6.81866016e+04, 6.45412422e+04, 1.58555578e+05,\n",
       "        2.08670953e+05, 3.81819281e+05, 4.80684500e+05, 6.96662875e+05,\n",
       "        3.01302812e+05, 1.61712375e+05, 6.32124648e+04, 2.00861391e+05,\n",
       "        2.37971984e+05, 3.46958938e+05, 4.80137312e+05, 7.76930188e+05,\n",
       "        1.30075175e+06, 1.17321062e+06, 9.04371438e+05, 2.42521078e+05,\n",
       "        5.87594180e+04, 1.90515215e+04, 6.17112852e+04, 1.99670031e+05,\n",
       "        2.58363109e+05, 4.08270062e+05, 5.43027188e+05, 2.52435575e+06,\n",
       "        4.67434350e+06, 6.65173350e+06, 5.70784250e+06, 6.13922050e+06,\n",
       "        6.68648250e+06, 6.87134300e+06, 1.53729900e+06, 3.16722781e+05,\n",
       "        3.00526000e+05, 3.72828500e+05, 9.94654500e+05, 8.32895062e+05,\n",
       "        9.02898000e+05, 1.74593922e+05, 1.02198883e+05, 1.09207672e+05,\n",
       "        3.20776719e+05, 1.45634781e+05, 5.05718047e+04, 1.21637812e+05,\n",
       "        1.16558914e+05, 1.38980250e+05, 2.32855766e+05, 8.43927938e+05,\n",
       "        7.37811875e+05, 5.44264812e+05, 3.58050906e+05, 1.29614359e+05,\n",
       "        4.37289375e+04, 9.22738906e+04, 1.14549164e+05, 2.28388719e+05,\n",
       "        2.13522969e+05, 1.94234391e+05, 2.03195469e+05, 3.81686953e+04,\n",
       "        1.83659062e+04, 4.49059727e+04, 5.61791133e+04, 5.91951953e+04,\n",
       "        1.23953438e+05, 4.81431680e+04, 5.64317422e+04, 5.56951016e+04,\n",
       "        4.77540742e+04, 9.10013281e+04, 2.35037141e+05, 5.59063438e+05,\n",
       "        4.91265719e+05, 7.05880312e+05, 9.52350312e+05, 9.03204000e+05,\n",
       "        8.68640312e+05, 1.17417725e+06, 1.97111328e+05, 2.15724172e+05,\n",
       "        2.00207609e+05, 1.70665750e+05, 1.54184953e+05, 2.75599188e+05,\n",
       "        3.57208500e+05, 3.56226219e+05, 6.06576812e+05, 8.10912875e+05,\n",
       "        8.87563000e+05, 1.33944281e+05, 2.73518531e+05, 4.94196438e+05,\n",
       "        2.15844219e+05, 3.60762031e+04, 9.42900781e+04, 1.71730234e+05,\n",
       "        2.79828688e+05, 3.47572719e+05, 5.23400500e+05, 4.31370062e+05,\n",
       "        1.28904008e+05, 6.93186797e+04, 8.14251328e+04, 8.61397344e+04,\n",
       "        3.47744938e+05, 5.28679125e+05, 3.73736281e+05, 2.31694109e+05,\n",
       "        1.59376078e+05, 9.54411797e+04, 8.69433516e+04, 2.84546500e+05,\n",
       "        6.90662734e+04, 6.37702422e+04, 1.48131047e+05, 1.28964383e+05,\n",
       "        6.46307930e+04, 8.05613359e+04, 2.03822719e+05, 2.85576656e+05,\n",
       "        4.09169844e+05, 6.64050469e+04, 6.60878906e+04, 9.60750781e+04,\n",
       "        1.21955961e+05, 4.73649570e+04, 4.92400938e+04, 6.88734297e+04,\n",
       "        5.56492422e+04, 7.24031641e+04, 5.96421484e+04, 1.44203422e+05,\n",
       "        1.78809125e+05, 2.69946094e+05, 2.19074031e+05, 1.25083250e+05,\n",
       "        8.81805156e+04, 1.97123477e+04, 3.28221328e+04, 3.05471289e+04,\n",
       "        1.95886602e+04, 3.55277773e+04, 1.62005088e+04, 1.73050254e+04,\n",
       "        1.59977520e+04, 2.28439473e+04, 2.91067559e+04, 4.16235430e+04,\n",
       "        9.05358047e+04, 6.20616758e+04, 7.49937656e+04, 3.79122773e+04,\n",
       "        5.33626562e+04, 5.75287227e+04, 3.57064844e+04, 1.64346543e+04,\n",
       "        9.88367676e+03, 1.70294863e+04, 3.29720234e+04, 5.56033711e+04,\n",
       "        5.07828250e+05, 6.80482688e+05, 9.81545312e+05, 1.04660181e+06,\n",
       "        1.39636175e+06, 1.79061712e+06, 1.58160925e+06, 2.35883734e+05,\n",
       "        1.14904086e+05, 5.09772773e+04, 7.11927031e+04, 6.78743828e+04,\n",
       "        1.61800875e+05, 3.02993340e+04, 2.86557676e+04, 7.86377891e+04,\n",
       "        9.96162344e+04, 1.18993922e+05, 1.15066336e+05, 1.11407305e+05,\n",
       "        9.17946406e+04, 8.00123672e+04, 5.97562578e+04, 1.11693688e+05,\n",
       "        8.81989766e+04, 7.61689297e+04, 8.09173047e+04, 1.68708094e+05,\n",
       "        3.45368562e+05, 3.95587188e+05, 1.84008906e+05, 1.30401250e+05,\n",
       "        1.43250234e+05, 1.30998062e+05, 1.72477281e+05, 1.72017219e+05,\n",
       "        1.90905723e+04, 3.85382422e+04, 1.85620656e+05, 4.17697312e+05,\n",
       "        7.49027875e+05, 1.30370188e+06, 1.70932412e+06, 2.75813450e+06,\n",
       "        2.60334000e+06, 1.00909331e+06, 4.09437906e+05, 2.12419395e+04,\n",
       "        3.50065391e+04, 3.08036777e+04, 1.32634359e+05, 7.22441797e+04,\n",
       "        7.52940547e+04, 7.03028984e+04, 8.10943125e+04, 1.61560000e+05,\n",
       "        6.57092109e+04, 1.11479328e+05, 2.97688781e+05, 3.54843562e+05,\n",
       "        3.10452250e+05, 3.82978938e+05, 2.17738641e+05, 4.39770195e+04,\n",
       "        2.07292773e+04, 8.23966484e+04, 5.07140859e+04, 6.21327617e+04,\n",
       "        1.32920516e+05, 2.43338078e+05, 2.52509359e+05, 2.12409234e+05,\n",
       "        8.59501250e+04, 3.04075762e+04, 9.49491113e+03, 8.54152109e+04,\n",
       "        9.21384453e+04, 1.78838469e+05, 3.05871219e+05, 3.16413281e+05,\n",
       "        2.94469438e+05, 1.53098906e+05, 4.95122852e+04, 5.56751797e+04,\n",
       "        1.60476578e+05, 9.34280078e+04, 2.69305094e+05, 5.04413812e+05,\n",
       "        8.23862812e+05, 1.28530188e+06, 1.64678562e+06, 1.42514062e+06,\n",
       "        1.45197362e+06, 1.72656797e+05, 3.82731250e+04, 4.89413516e+04,\n",
       "        5.15575820e+04, 5.67594180e+04, 1.30506172e+05, 2.58335273e+04,\n",
       "        4.13535742e+04, 5.04075938e+05, 8.17693188e+05, 6.40514812e+05,\n",
       "        1.02368588e+06, 1.61074288e+06, 1.62110688e+06, 1.39236488e+06,\n",
       "        2.66874000e+05, 1.60191109e+05, 2.10245703e+05, 9.90985000e+04,\n",
       "        3.34648469e+05, 9.84324500e+05, 1.22382312e+06, 1.16204525e+06,\n",
       "        1.27023762e+06, 2.30865475e+06, 3.38411450e+06, 2.26401875e+06,\n",
       "        9.89909812e+05, 3.64586000e+05, 3.63807000e+05, 1.03048550e+06,\n",
       "        1.84855638e+06, 1.68564600e+06, 1.38145012e+06, 1.67583862e+06,\n",
       "        1.25163388e+06, 7.64390562e+05, 2.32394925e+06, 1.82119462e+06,\n",
       "        1.42367800e+06, 8.84955000e+04, 1.23122125e+05, 5.42429438e+05,\n",
       "        1.55990262e+06, 7.91643688e+05, 5.98005938e+05, 5.26564500e+05,\n",
       "        5.13527094e+05, 3.58743438e+05, 1.10378062e+06, 3.40619125e+06,\n",
       "        7.49681600e+06, 1.03600570e+07, 1.16957790e+07, 1.16098380e+07,\n",
       "        1.09036180e+07, 5.11067700e+06, 7.76862500e+05, 3.21522812e+05,\n",
       "        1.15296612e+06, 1.49117862e+06, 2.31358150e+06, 4.32016700e+06,\n",
       "        8.87974500e+06, 1.31485630e+07, 1.09309520e+07, 8.43910300e+06,\n",
       "        1.02086660e+07, 1.01909130e+07, 1.47775580e+07, 1.44953890e+07,\n",
       "        2.63698560e+07, 3.80721440e+07, 2.97986040e+07, 2.22138300e+07,\n",
       "        2.84755620e+07, 1.82499620e+07, 1.01710660e+07, 8.26069850e+06,\n",
       "        1.72547420e+07, 2.69180160e+07, 2.15722720e+07, 2.31369675e+06,\n",
       "        1.83550238e+06, 2.12386475e+06, 1.16644410e+07, 1.37261120e+07,\n",
       "        1.36327050e+07, 1.70894560e+07, 1.98501960e+07, 1.91109900e+07,\n",
       "        1.52585740e+07, 1.45838788e+06, 2.16574250e+06, 2.11083100e+06,\n",
       "        3.34790200e+06, 3.15526175e+06, 4.08292625e+06, 1.52012300e+07,\n",
       "        1.37547510e+07, 6.15250750e+06, 5.71260400e+06, 1.26436890e+07,\n",
       "        2.60821940e+07, 3.23806560e+07, 3.11990560e+07, 3.43320240e+07,\n",
       "        4.76450640e+07, 4.07458240e+07, 6.23677360e+07, 2.39304100e+07,\n",
       "        2.66421275e+06, 4.17736125e+06, 2.38701775e+06, 7.55004300e+06,\n",
       "        1.14184470e+07, 1.22574940e+07, 1.63012470e+07, 1.69436500e+07,\n",
       "        1.33224890e+07, 1.86347420e+07, 4.29824360e+07, 5.73458760e+07,\n",
       "        1.09116936e+08, 8.95308960e+07, 2.22779300e+07, 9.71439900e+06,\n",
       "        5.61310550e+06, 3.37015650e+06, 1.06209730e+07, 2.10373820e+07,\n",
       "        5.07807450e+06, 1.08931310e+07, 8.59476700e+06, 2.17947500e+07,\n",
       "        2.76094540e+07, 4.04661720e+07, 4.62908680e+07, 3.50632240e+07,\n",
       "        1.82608660e+07, 6.58457150e+06, 2.71246050e+06, 3.82147600e+06,\n",
       "        4.88581550e+06, 1.36635570e+07, 4.23506650e+06, 7.91234000e+06,\n",
       "        1.85894880e+07, 3.23364760e+07, 3.70126680e+07, 3.53625520e+07,\n",
       "        3.18389160e+07, 5.04093350e+06, 1.92456175e+06, 6.89955350e+06,\n",
       "        2.30843840e+07, 1.38370950e+07, 6.32362500e+06, 6.52138300e+06,\n",
       "        2.07987988e+06, 1.43876625e+06, 2.42374850e+06, 1.81561112e+06,\n",
       "        1.88459888e+06, 1.77612512e+06, 1.30587988e+06, 1.42335525e+06,\n",
       "        2.57730475e+06, 7.11583550e+06, 9.69537800e+06, 8.78156500e+06,\n",
       "        6.08048250e+06, 7.95675350e+06, 1.33875450e+07, 3.09667840e+07,\n",
       "        4.84774040e+07, 7.85716080e+07, 9.05222240e+07, 8.50299680e+07,\n",
       "        5.09588040e+07, 2.93053100e+07, 2.15684380e+07, 1.04280650e+07,\n",
       "        4.34493450e+06, 7.61887650e+06, 1.57925990e+07, 3.54322560e+07,\n",
       "        1.27042540e+07, 3.92325350e+06, 4.14051200e+06, 4.65074500e+06,\n",
       "        2.91395875e+06, 5.13288650e+06, 2.05100088e+06, 4.49910450e+06,\n",
       "        5.60027900e+06, 5.63332000e+06, 1.54715520e+07, 2.71912040e+07,\n",
       "        5.06750840e+07, 8.32313600e+07, 1.06981000e+08], dtype=float32),\n",
       " 'rmse': array([  707.8198  ,   403.0701  ,   381.19177 ,   517.7692  ,\n",
       "          565.65674 ,   581.48627 ,   586.7173  ,   699.3382  ,\n",
       "          718.559   ,   802.2206  ,   985.2238  ,   891.62213 ,\n",
       "          840.2923  ,   785.9216  ,   647.24634 ,   343.66342 ,\n",
       "          225.22636 ,   296.5464  ,   341.78748 ,   365.9732  ,\n",
       "          243.9954  ,   251.83624 ,   368.84506 ,   415.66467 ,\n",
       "          224.66447 ,   192.7492  ,   200.39851 ,   218.15305 ,\n",
       "          180.42513 ,   272.03748 ,   396.6088  ,   433.62408 ,\n",
       "          399.79083 ,   544.2605  ,   419.64514 ,   392.9358  ,\n",
       "          423.65228 ,   372.36597 ,   291.86682 ,   212.82724 ,\n",
       "          437.0141  ,    61.923595,   153.6835  ,   102.76302 ,\n",
       "          101.021935,   142.22185 ,   142.03685 ,   138.81877 ,\n",
       "          157.29218 ,   195.47296 ,   228.92705 ,   192.75163 ,\n",
       "          236.04697 ,   155.76257 ,   246.35468 ,   415.3015  ,\n",
       "          534.4857  ,   519.5612  ,   474.66425 ,   518.93304 ,\n",
       "          402.85577 ,   224.67902 ,   313.40372 ,   437.81973 ,\n",
       "          424.5986  ,   511.81714 ,   515.3303  ,   620.44604 ,\n",
       "          222.35362 ,   259.63574 ,   320.9865  ,   470.41483 ,\n",
       "          605.22925 ,   449.92126 ,   329.06204 ,   342.16925 ,\n",
       "          324.92804 ,   408.9323  ,   534.5647  ,   730.6836  ,\n",
       "          776.0849  ,   590.84247 ,   334.1248  ,   254.53546 ,\n",
       "          221.50087 ,   279.8423  ,   241.68292 ,   277.63113 ,\n",
       "          340.1753  ,   569.826   ,   565.2408  ,   436.56738 ,\n",
       "          371.07468 ,   261.12564 ,   254.04968 ,   398.19037 ,\n",
       "          456.80515 ,   617.9153  ,   693.31415 ,   834.6633  ,\n",
       "          548.9106  ,   402.13477 ,   251.4209  ,   448.17563 ,\n",
       "          487.82373 ,   589.0322  ,   692.91943 ,   881.43646 ,\n",
       "         1140.505   ,  1083.1484  ,   950.98444 ,   492.4643  ,\n",
       "          242.40343 ,   138.02725 ,   248.41756 ,   446.8445  ,\n",
       "          508.2943  ,   638.96014 ,   736.9038  ,  1588.8221  ,\n",
       "         2162.023   ,  2579.0955  ,  2389.1091  ,  2477.745   ,\n",
       "         2585.8235  ,  2621.3247  ,  1239.8787  ,   562.7813  ,\n",
       "          548.2025  ,   610.59686 ,   997.32367 ,   912.63086 ,\n",
       "          950.2095  ,   417.84436 ,   319.6856  ,   330.46585 ,\n",
       "          566.3715  ,   381.62125 ,   224.88176 ,   348.76614 ,\n",
       "          341.40726 ,   372.80054 ,   482.5513  ,   918.6555  ,\n",
       "          858.9598  ,   737.74304 ,   598.37354 ,   360.01993 ,\n",
       "          209.11465 ,   303.76617 ,   338.4511  ,   477.90033 ,\n",
       "          462.08545 ,   440.7203  ,   450.7721  ,   195.3681  ,\n",
       "          135.52087 ,   211.9103  ,   237.02133 ,   243.30063 ,\n",
       "          352.07022 ,   219.41551 ,   237.55367 ,   235.9981  ,\n",
       "          218.52705 ,   301.66428 ,   484.8063  ,   747.70544 ,\n",
       "          700.9035  ,   840.1668  ,   975.8844  ,   950.3705  ,\n",
       "          932.0087  ,  1083.5946  ,   443.97223 ,   464.46115 ,\n",
       "          447.44565 ,   413.11713 ,   392.6639  ,   524.9754  ,\n",
       "          597.66925 ,   596.8469  ,   778.8304  ,   900.507   ,\n",
       "          942.1056  ,   365.98398 ,   522.99    ,   702.9911  ,\n",
       "          464.59036 ,   189.93736 ,   307.0669  ,   414.40347 ,\n",
       "          528.98834 ,   589.553   ,   723.46423 ,   656.78766 ,\n",
       "          359.03204 ,   263.2844  ,   285.3509  ,   293.49573 ,\n",
       "          589.69904 ,   727.1033  ,   611.3397  ,   481.34613 ,\n",
       "          399.21933 ,   308.93555 ,   294.86157 ,   533.429   ,\n",
       "          262.80463 ,   252.52771 ,   384.87796 ,   359.11612 ,\n",
       "          254.22588 ,   283.83328 ,   451.4673  ,   534.39374 ,\n",
       "          639.6639  ,   257.69177 ,   257.07565 ,   309.9598  ,\n",
       "          349.22192 ,   217.63492 ,   221.9011  ,   262.43747 ,\n",
       "          235.90091 ,   269.07837 ,   244.21742 ,   379.74124 ,\n",
       "          422.85828 ,   519.56335 ,   468.05344 ,   353.6711  ,\n",
       "          296.95206 ,   140.40067 ,   181.1688  ,   174.77737 ,\n",
       "          139.95949 ,   188.48813 ,   127.28122 ,   131.54857 ,\n",
       "          126.48222 ,   151.14214 ,   170.60703 ,   204.0185  ,\n",
       "          300.8917  ,   249.12181 ,   273.84988 ,   194.71075 ,\n",
       "          231.00359 ,   239.85146 ,   188.9616  ,   128.19771 ,\n",
       "           99.41668 ,   130.49707 ,   181.582   ,   235.80367 ,\n",
       "          712.62067 ,   824.91376 ,   990.7297  ,  1023.0356  ,\n",
       "         1181.6775  ,  1338.1394  ,  1257.6205  ,   485.67862 ,\n",
       "          338.97507 ,   225.78148 ,   266.8196  ,   260.52713 ,\n",
       "          402.24478 ,   174.06703 ,   169.28015 ,   280.42432 ,\n",
       "          315.6204  ,   344.95496 ,   339.2143  ,   333.7773  ,\n",
       "          302.97632 ,   282.86456 ,   244.45093 ,   334.20605 ,\n",
       "          296.98312 ,   275.98718 ,   284.4597  ,   410.7409  ,\n",
       "          587.68066 ,   628.9572  ,   428.9626  ,   361.11115 ,\n",
       "          378.48413 ,   361.93655 ,   415.30383 ,   414.74957 ,\n",
       "          138.16864 ,   196.3116  ,   430.83716 ,   646.29504 ,\n",
       "          865.464   ,  1141.7976  ,  1307.4113  ,  1660.7632  ,\n",
       "         1613.4869  ,  1004.5364  ,   639.87335 ,   145.74615 ,\n",
       "          187.10034 ,   175.50977 ,   364.19    ,   268.78278 ,\n",
       "          274.3976  ,   265.14694 ,   284.77063 ,   401.94528 ,\n",
       "          256.33807 ,   333.8852  ,   545.60864 ,   595.6875  ,\n",
       "          557.18243 ,   618.8529  ,   466.62473 ,   209.70699 ,\n",
       "          143.97665 ,   287.04816 ,   225.19788 ,   249.26443 ,\n",
       "          364.58267 ,   493.2931  ,   502.50308 ,   460.87875 ,\n",
       "          293.17252 ,   174.37769 ,    97.44183 ,   292.25882 ,\n",
       "          303.54315 ,   422.89297 ,   553.0563  ,   562.5062  ,\n",
       "          542.6504  ,   391.27856 ,   222.51357 ,   235.95589 ,\n",
       "          400.59528 ,   305.65994 ,   518.94617 ,   710.22095 ,\n",
       "          907.6689  ,  1133.7115  ,  1283.2715  ,  1193.7925  ,\n",
       "         1204.9786  ,   415.5199  ,   195.63518 ,   221.22693 ,\n",
       "          227.06294 ,   238.24236 ,   361.25638 ,   160.72812 ,\n",
       "          203.35579 ,   709.98303 ,   904.2639  ,   800.3217  ,\n",
       "         1011.7736  ,  1269.1505  ,  1273.2269  ,  1179.9851  ,\n",
       "          516.5985  ,   400.23883 ,   458.52557 ,   314.79913 ,\n",
       "          578.4881  ,   992.1313  ,  1106.2654  ,  1077.982   ,\n",
       "         1127.0482  ,  1519.4258  ,  1839.5963  ,  1504.6656  ,\n",
       "          994.94214 ,   603.8096  ,   603.1642  ,  1015.1283  ,\n",
       "         1359.6162  ,  1298.3243  ,  1175.3511  ,  1294.5419  ,\n",
       "         1118.7644  ,   874.2943  ,  1524.4504  ,  1349.5165  ,\n",
       "         1193.1798  ,   297.48193 ,   350.88763 ,   736.4981  ,\n",
       "         1248.9606  ,   889.7436  ,   773.3084  ,   725.64764 ,\n",
       "          716.60803 ,   598.95197 ,  1050.6096  ,  1845.5869  ,\n",
       "         2738.0315  ,  3218.7043  ,  3419.9092  ,  3407.3213  ,\n",
       "         3302.0627  ,  2260.6807  ,   881.398   ,   567.02985 ,\n",
       "         1073.7626  ,  1221.1383  ,  1521.0461  ,  2078.5012  ,\n",
       "         2979.8901  ,  3626.0947  ,  3306.199   ,  2905.0134  ,\n",
       "         3195.1003  ,  3192.321   ,  3844.159   ,  3807.281   ,\n",
       "         5135.1587  ,  6170.2627  ,  5458.8096  ,  4713.155   ,\n",
       "         5336.25    ,  4271.9976  ,  3189.211   ,  2874.143   ,\n",
       "         4153.883   ,  5188.2573  ,  4644.596   ,  1521.0841  ,\n",
       "         1354.8071  ,  1457.3485  ,  3415.3245  ,  3704.8767  ,\n",
       "         3692.2493  ,  4133.9395  ,  4455.356   ,  4371.612   ,\n",
       "         3906.2224  ,  1207.6373  ,  1471.6462  ,  1452.8699  ,\n",
       "         1829.7273  ,  1776.3057  ,  2020.6252  ,  3898.8755  ,\n",
       "         3708.7397  ,  2480.4248  ,  2390.1055  ,  3555.7966  ,\n",
       "         5107.0728  ,  5690.4004  ,  5585.6113  ,  5859.3535  ,\n",
       "         6902.5405  ,  6383.2456  ,  7897.3247  ,  4891.872   ,\n",
       "         1632.2416  ,  2043.8594  ,  1544.9977  ,  2747.7341  ,\n",
       "         3379.1194  ,  3501.0703  ,  4037.4802  ,  4116.2666  ,\n",
       "         3649.9985  ,  4316.798   ,  6556.099   ,  7572.706   ,\n",
       "        10445.905   ,  9462.077   ,  4719.95    ,  3116.793   ,\n",
       "         2369.1992  ,  1835.7986  ,  3258.9834  ,  4586.653   ,\n",
       "         2253.4583  ,  3300.4744  ,  2931.6833  ,  4668.485   ,\n",
       "         5254.4697  ,  6361.3027  ,  6803.7393  ,  5921.421   ,\n",
       "         4273.2734  ,  2566.042   ,  1646.955   ,  1954.8596  ,\n",
       "         2210.3882  ,  3696.4248  ,  2057.9277  ,  2812.8882  ,\n",
       "         4311.5527  ,  5686.517   ,  6083.8037  ,  5946.642   ,\n",
       "         5642.598   ,  2245.2024  ,  1387.2858  ,  2626.7002  ,\n",
       "         4804.621   ,  3719.8247  ,  2514.682   ,  2553.7     ,\n",
       "         1442.1788  ,  1199.4858  ,  1556.8392  ,  1347.4462  ,\n",
       "         1372.8069  ,  1332.7135  ,  1142.751   ,  1193.0446  ,\n",
       "         1605.3987  ,  2667.5522  ,  3113.7402  ,  2963.3706  ,\n",
       "         2465.8635  ,  2820.7717  ,  3658.8994  ,  5564.781   ,\n",
       "         6962.572   ,  8864.0625  ,  9514.316   ,  9221.17    ,\n",
       "         7138.5435  ,  5413.438   ,  4644.183   ,  3229.2515  ,\n",
       "         2084.4507  ,  2760.2312  ,  3973.9902  ,  5952.5     ,\n",
       "         3564.3027  ,  1980.7205  ,  2034.8248  ,  2156.5586  ,\n",
       "         1707.0321  ,  2265.5874  ,  1432.1316  ,  2121.1094  ,\n",
       "         2366.491   ,  2373.4617  ,  3933.3894  ,  5214.5186  ,\n",
       "         7118.6436  ,  9123.122   , 10343.162   ], dtype=float32),\n",
       " 'mape': array([ 7.6470375 ,  3.9403856 ,  3.8769133 ,  5.1237397 ,  5.657339  ,\n",
       "         5.9847345 ,  6.213111  ,  7.486819  ,  7.5419307 ,  8.793943  ,\n",
       "        11.365958  , 10.327911  , 10.628184  , 10.396763  ,  8.554646  ,\n",
       "         4.132587  ,  2.6103275 ,  3.0865695 ,  3.5441499 ,  4.0762954 ,\n",
       "         2.6287527 ,  3.096294  ,  4.6379933 ,  5.3249283 ,  2.7678783 ,\n",
       "         1.8879777 ,  2.0586205 ,  2.747905  ,  2.0985122 ,  3.543897  ,\n",
       "         4.8999357 ,  5.6914396 ,  4.762095  ,  6.1645336 ,  4.383347  ,\n",
       "         4.6030455 ,  4.911066  ,  4.1788526 ,  3.4115846 ,  2.0272357 ,\n",
       "         5.531203  ,  0.68634874,  1.8477904 ,  1.2586421 ,  1.2105516 ,\n",
       "         1.781318  ,  1.5380496 ,  1.4947045 ,  1.6705282 ,  1.8577075 ,\n",
       "         2.5140176 ,  2.4919765 ,  2.8358173 ,  1.759888  ,  2.478021  ,\n",
       "         3.9713085 ,  6.31314   ,  5.901793  ,  5.5986567 ,  6.381754  ,\n",
       "         4.733337  ,  1.7877023 ,  2.7940085 ,  4.0371985 ,  3.8306692 ,\n",
       "         5.152573  ,  5.436635  ,  6.8066463 ,  2.2181327 ,  2.6710496 ,\n",
       "         3.2655246 ,  4.9176173 ,  6.639932  ,  4.5103984 ,  3.2659297 ,\n",
       "         3.4050863 ,  3.1026232 ,  3.425223  ,  4.6983957 ,  7.3925486 ,\n",
       "         8.133195  ,  6.113535  ,  3.0727952 ,  2.4523244 ,  1.689204  ,\n",
       "         2.284095  ,  1.9896309 ,  2.4077485 ,  2.963667  ,  5.367307  ,\n",
       "         5.2763844 ,  4.1326284 ,  3.2645743 ,  2.3427594 ,  2.1374302 ,\n",
       "         3.6419916 ,  3.6305585 ,  5.183375  ,  6.441682  ,  7.9803886 ,\n",
       "         5.2527566 ,  3.8959622 ,  1.9815371 ,  4.085696  ,  3.5074282 ,\n",
       "         4.565089  ,  6.26989   ,  8.582425  , 11.629943  , 11.785192  ,\n",
       "        10.717113  ,  5.4083323 ,  2.074615  ,  1.1495956 ,  2.1595466 ,\n",
       "         4.634526  ,  4.521628  ,  6.0851836 ,  7.9375243 , 17.144976  ,\n",
       "        27.009466  , 36.547626  , 35.801144  , 39.19929   , 44.232887  ,\n",
       "        48.38011   , 22.09177   ,  9.2764225 ,  7.5600452 ,  8.88061   ,\n",
       "        14.915769  , 13.409855  , 14.089838  ,  5.653017  ,  4.591296  ,\n",
       "         4.0428357 ,  7.8156314 ,  5.1044044 ,  3.4098587 ,  4.513341  ,\n",
       "         4.4119606 ,  5.1616626 ,  6.652896  , 13.249249  , 11.98854   ,\n",
       "        10.322379  ,  8.212689  ,  4.7155848 ,  2.5927093 ,  3.6378589 ,\n",
       "         4.167783  ,  5.485731  ,  5.944019  ,  5.75366   ,  5.915779  ,\n",
       "         2.3017406 ,  1.6859142 ,  2.5228162 ,  2.719773  ,  2.94207   ,\n",
       "         3.949234  ,  2.79994   ,  3.1843941 ,  2.8316417 ,  2.6680982 ,\n",
       "         3.463124  ,  6.111306  ,  8.095633  ,  6.598686  ,  7.4479103 ,\n",
       "         9.296044  ,  9.680592  ,  9.774321  , 12.175551  ,  4.8459444 ,\n",
       "         3.687131  ,  3.1242979 ,  3.5034754 ,  3.334762  ,  4.9416814 ,\n",
       "         6.163787  ,  6.005895  ,  7.0045733 ,  8.989401  ,  9.773059  ,\n",
       "         3.489042  ,  4.854197  ,  7.0939226 ,  4.4274387 ,  1.4439021 ,\n",
       "         2.6840825 ,  3.5542495 ,  4.9832115 ,  5.563701  ,  7.181667  ,\n",
       "         7.0539594 ,  3.4061708 ,  2.210397  ,  2.314185  ,  2.9061663 ,\n",
       "         5.068596  ,  6.527425  ,  5.61854   ,  4.013077  ,  2.5874126 ,\n",
       "         2.5407596 ,  2.160721  ,  5.4337406 ,  2.1870959 ,  2.5577614 ,\n",
       "         3.1100132 ,  2.5215404 ,  2.2422285 ,  2.5924807 ,  4.441827  ,\n",
       "         5.284432  ,  6.630337  ,  2.2490535 ,  2.2638512 ,  2.6055207 ,\n",
       "         3.0759544 ,  2.0315046 ,  2.07227   ,  2.4068308 ,  2.1771622 ,\n",
       "         2.4527128 ,  2.0039048 ,  3.4705055 ,  4.181933  ,  5.277163  ,\n",
       "         4.8928223 ,  3.619213  ,  3.0915205 ,  1.3821634 ,  1.6037961 ,\n",
       "         1.4542179 ,  1.3869609 ,  1.8615682 ,  0.90706795,  1.1685208 ,\n",
       "         1.1225095 ,  1.3529829 ,  1.6758648 ,  1.909014  ,  3.009652  ,\n",
       "         2.2568333 ,  2.539351  ,  1.8636522 ,  2.0978947 ,  2.3417537 ,\n",
       "         1.714481  ,  1.1929753 ,  0.8712082 ,  1.185088  ,  1.7042052 ,\n",
       "         2.212255  ,  4.883195  ,  5.840594  ,  6.9371476 ,  7.4432745 ,\n",
       "         9.448863  , 11.172171  , 10.980596  ,  3.7873652 ,  2.1951485 ,\n",
       "         1.7711695 ,  2.1159353 ,  1.9189438 ,  3.0079684 ,  1.1743662 ,\n",
       "         1.2302092 ,  2.1744845 ,  1.9601492 ,  2.2049215 ,  2.3909023 ,\n",
       "         2.4717453 ,  2.2909067 ,  2.2730362 ,  1.7358365 ,  2.3217351 ,\n",
       "         1.8892272 ,  2.190015  ,  1.6510162 ,  3.1925905 ,  4.670832  ,\n",
       "         5.0377803 ,  3.1517348 ,  2.5679095 ,  2.7657003 ,  2.8314607 ,\n",
       "         3.4913678 ,  3.3831384 ,  1.087296  ,  1.3138331 ,  3.1834476 ,\n",
       "         4.45871   ,  6.317886  ,  9.058612  , 11.135934  , 15.048364  ,\n",
       "        15.276146  ,  9.572444  ,  6.167261  ,  1.113654  ,  1.2913176 ,\n",
       "         1.3424703 ,  3.3641837 ,  2.040779  ,  2.3141863 ,  2.080402  ,\n",
       "         2.390137  ,  3.396731  ,  2.1150012 ,  2.5260594 ,  3.9042885 ,\n",
       "         4.621041  ,  4.786235  ,  5.4919267 ,  4.102743  ,  1.4025377 ,\n",
       "         1.205419  ,  2.2907257 ,  1.7123094 ,  1.9094586 ,  2.8403623 ,\n",
       "         4.1018105 ,  4.250224  ,  4.044125  ,  2.3739197 ,  1.1949317 ,\n",
       "         0.74529916,  2.110127  ,  2.401742  ,  2.7435677 ,  4.43344   ,\n",
       "         4.663577  ,  4.519569  ,  3.1540115 ,  1.5617644 ,  1.7081658 ,\n",
       "         3.245637  ,  2.2728612 ,  2.6732748 ,  3.9635272 ,  5.188555  ,\n",
       "         7.3675046 ,  9.254265  ,  8.793775  ,  8.936524  ,  2.6023712 ,\n",
       "         1.1498649 ,  1.269349  ,  1.2723376 ,  1.316653  ,  2.129066  ,\n",
       "         0.9729846 ,  1.2200843 ,  2.753004  ,  4.1490984 ,  3.7956338 ,\n",
       "         5.0073657 ,  7.329906  ,  7.920444  ,  7.2217145 ,  2.4730608 ,\n",
       "         2.157201  ,  2.5491147 ,  1.6348783 ,  2.804344  ,  5.1465044 ,\n",
       "         5.3253293 ,  5.003098  ,  5.138274  ,  7.634879  ,  9.697332  ,\n",
       "         8.1043625 ,  5.24301   ,  3.0526514 ,  2.9386413 ,  3.9722013 ,\n",
       "         5.5585976 ,  6.0653124 ,  5.546397  ,  5.7104826 ,  5.3235116 ,\n",
       "         3.9050255 ,  7.614778  ,  6.7824893 ,  5.909608  ,  1.1610509 ,\n",
       "         1.655973  ,  3.464377  ,  6.041405  ,  3.7419372 ,  3.5517466 ,\n",
       "         3.5595272 ,  3.2741382 ,  2.2611303 ,  3.1572487 ,  6.1666274 ,\n",
       "        10.293694  , 12.03875   , 13.113257  , 13.850084  , 14.063811  ,\n",
       "         9.573771  ,  3.2732296 ,  1.9901832 ,  3.5426419 ,  4.174155  ,\n",
       "         4.625266  ,  6.413653  ,  9.747231  , 12.382986  , 11.170365  ,\n",
       "         8.015142  ,  8.226334  ,  8.7691145 , 10.851522  ,  9.394065  ,\n",
       "        11.74821   , 14.422287  , 11.704099  , 10.684386  , 12.515804  ,\n",
       "         9.002732  ,  7.3595986 ,  6.445579  ,  9.932018  , 13.37072   ,\n",
       "        12.460228  ,  3.8320608 ,  2.455195  ,  3.1985908 ,  7.866221  ,\n",
       "         8.6030655 ,  8.940173  , 10.429098  , 11.942629  , 12.820238  ,\n",
       "        11.928543  ,  2.7874458 ,  3.3043687 ,  3.994053  ,  4.9401994 ,\n",
       "         4.869603  ,  5.861218  , 10.160102  ,  9.500725  ,  5.8487244 ,\n",
       "         5.4973545 ,  8.360316  , 11.119866  , 10.327624  , 10.533375  ,\n",
       "        10.804816  , 13.326109  , 12.810296  , 16.401365  , 10.161163  ,\n",
       "         3.185555  ,  2.984024  ,  2.181551  ,  3.923022  ,  5.1248364 ,\n",
       "         5.3019934 ,  6.5864334 ,  6.542452  ,  6.3163204 ,  7.733321  ,\n",
       "        11.445181  , 14.314164  , 20.887085  , 19.658018  ,  9.472188  ,\n",
       "         5.4226646 ,  3.8765578 ,  3.0761938 ,  6.0043435 ,  8.945981  ,\n",
       "         3.4112587 ,  5.342285  ,  4.007166  ,  6.6108055 ,  7.969807  ,\n",
       "         9.9729    , 10.855391  ,  9.914625  ,  6.693572  ,  3.62112   ,\n",
       "         2.109127  ,  2.5770748 ,  3.5657632 ,  6.2698975 ,  2.5252569 ,\n",
       "         3.5381005 ,  6.213079  ,  8.659053  ,  9.893692  , 10.084601  ,\n",
       "        10.113643  ,  3.6733623 ,  2.121773  ,  3.9000545 ,  8.1273985 ,\n",
       "         6.1938286 ,  4.0404143 ,  4.1213827 ,  2.1662426 ,  1.7675972 ,\n",
       "         1.9540274 ,  1.6012961 ,  2.110059  ,  1.9016815 ,  1.4875671 ,\n",
       "         1.5309373 ,  2.103866  ,  3.447213  ,  4.369895  ,  4.3710256 ,\n",
       "         3.3259516 ,  4.0796895 ,  5.2784424 ,  7.7115827 , 10.448109  ,\n",
       "        14.404356  , 16.18685   , 16.430912  , 12.513812  ,  9.289108  ,\n",
       "         8.236833  ,  5.060702  ,  3.3674412 ,  4.470281  ,  6.684746  ,\n",
       "        10.502185  ,  6.018721  ,  3.233524  ,  3.3021252 ,  3.4340281 ,\n",
       "         2.0934703 ,  2.7199144 ,  1.2716222 ,  3.2693405 ,  3.220912  ,\n",
       "         3.4856856 ,  5.3149505 ,  7.9994655 , 11.745366  , 16.0603    ,\n",
       "        19.360569  ], dtype=float32),\n",
       " 'mase': 2.187737}"
      ]
     },
     "execution_count": 87,
     "metadata": {},
     "output_type": "execute_result"
    }
   ],
   "source": [
    "# Evaluate model_3 results (these are going multi-dimensional because we're trying to predict more than one timestep at a time)\n",
    "model_3_results = evaluate_preds(y_true=tf.squeeze(test_labels),\n",
    "                                 y_pred=model_3_preds)\n",
    "model_3_results"
   ]
  },
  {
   "cell_type": "code",
   "execution_count": 90,
   "metadata": {},
   "outputs": [
    {
     "data": {
      "text/plain": [
       "TensorShape([551, 7])"
      ]
     },
     "execution_count": 90,
     "metadata": {},
     "output_type": "execute_result"
    }
   ],
   "source": [
    "model_3_preds.shape # el 7 es xq el horizonte es 7"
   ]
  },
  {
   "cell_type": "markdown",
   "metadata": {},
   "source": [
    "### Make our evaluation function work for larger horizons"
   ]
  },
  {
   "cell_type": "code",
   "execution_count": null,
   "metadata": {},
   "outputs": [],
   "source": []
  }
 ],
 "metadata": {
  "kernelspec": {
   "display_name": "Python 3",
   "language": "python",
   "name": "python3"
  },
  "language_info": {
   "codemirror_mode": {
    "name": "ipython",
    "version": 3
   },
   "file_extension": ".py",
   "mimetype": "text/x-python",
   "name": "python",
   "nbconvert_exporter": "python",
   "pygments_lexer": "ipython3",
   "version": "3.8.5"
  }
 },
 "nbformat": 4,
 "nbformat_minor": 5
}
