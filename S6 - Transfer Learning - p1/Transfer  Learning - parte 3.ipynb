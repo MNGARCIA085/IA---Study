{
 "cells": [
  {
   "cell_type": "markdown",
   "id": "e228c891",
   "metadata": {},
   "source": [
    "##fsdfds"
   ]
  },
  {
   "cell_type": "code",
   "execution_count": 2,
   "id": "c1b0a5ce",
   "metadata": {},
   "outputs": [],
   "source": [
    "# que no se impriman info y warnings\n",
    "import os\n",
    "os.environ['TF_CPP_MIN_LOG_LEVEL'] = '2' "
   ]
  },
  {
   "cell_type": "code",
   "execution_count": 3,
   "id": "399747ad",
   "metadata": {},
   "outputs": [],
   "source": [
    "import tensorflow as tf\n",
    "import matplotlib.pyplot as plt\n",
    "import matplotlib.image as mpimg\n",
    "import numpy as np\n",
    "from tensorflow.keras import layers,callbacks,models,Sequential,losses\n",
    "import seaborn as sns\n",
    "from sklearn.metrics import confusion_matrix\n",
    "import keras_tuner\n",
    "from tensorflow import keras\n",
    "from keras import backend as K\n",
    "import os,random\n",
    "import pandas as pd\n",
    "from sklearn.metrics import confusion_matrix\n",
    "from tensorflow.keras.preprocessing.image import ImageDataGenerator\n",
    "import tensorflow_hub as hub\n",
    "from tensorflow.keras.preprocessing.image import ImageDataGenerator\n",
    "from tensorflow.keras.applications.efficientnet import preprocess_input\n",
    "from tensorflow.keras.layers.experimental import preprocessing"
   ]
  },
  {
   "cell_type": "code",
   "execution_count": 4,
   "id": "907352df",
   "metadata": {},
   "outputs": [],
   "source": [
    "seed_value = 57\n",
    "np.random.seed(seed_value)\n",
    "tf.random.set_seed(seed_value)"
   ]
  },
  {
   "cell_type": "code",
   "execution_count": 5,
   "id": "4763448d",
   "metadata": {},
   "outputs": [],
   "source": [
    "IMG_SHAPE = (256,256)\n",
    "BATCH_SIZE = 32\n",
    "\n",
    "#train_dir='/home/marcos/Escritorio/IA/IA---Study/S6 - Transfer Learning - p1/data/natural_scenes/seg_train/seg_train'\n",
    "#test_dir='/home/marcos/Escritorio/IA/IA---Study/S6 - Transfer Learning - p1/data/natural_scenes/seg_test/seg_test'\n",
    "\n",
    "\n",
    "train_dir='data/Sports-celebrity images/train'\n",
    "test_dir='data/Sports-celebrity images/test'"
   ]
  },
  {
   "cell_type": "code",
   "execution_count": 6,
   "id": "392e1f17",
   "metadata": {},
   "outputs": [
    {
     "name": "stdout",
     "output_type": "stream",
     "text": [
      "Found 315 images belonging to 4 classes.\n",
      "Found 78 images belonging to 4 classes.\n",
      "Found 50 images belonging to 4 classes.\n"
     ]
    }
   ],
   "source": [
    "# Configura el generador de datos con solo preprocess_input\n",
    "train_datagen = ImageDataGenerator(preprocessing_function=preprocess_input,validation_split=0.2)\n",
    "\n",
    "\n",
    "# es de notar que NO ponemos rescaling en ImageDataGenerator pues tf.keras.applications.efficientnet\n",
    "# ya lo incluye\n",
    "\n",
    "\n",
    "#\n",
    "train_generator = train_datagen.flow_from_directory(\n",
    "    train_dir,\n",
    "    target_size = IMG_SHAPE,\n",
    "    batch_size=BATCH_SIZE,\n",
    "    class_mode='categorical',\n",
    "    subset='training'\n",
    ")\n",
    "\n",
    "validation_generator = train_datagen.flow_from_directory(\n",
    "    train_dir,\n",
    "    target_size = IMG_SHAPE,\n",
    "    batch_size=BATCH_SIZE,\n",
    "    class_mode='categorical',\n",
    "    subset='validation'\n",
    ")\n",
    "\n",
    "\n",
    "#\n",
    "test_datagen = ImageDataGenerator()\n",
    "\n",
    "test_generator = test_datagen.flow_from_directory(test_dir,\n",
    "                                             target_size=IMG_SHAPE,\n",
    "                                             batch_size=BATCH_SIZE,\n",
    "                                             class_mode=\"categorical\",\n",
    "                                                 shuffle=False) #nuevo!!!!\n",
    "\n"
   ]
  },
  {
   "cell_type": "code",
   "execution_count": 7,
   "id": "04ca310e",
   "metadata": {},
   "outputs": [
    {
     "name": "stdout",
     "output_type": "stream",
     "text": [
      "4\n"
     ]
    }
   ],
   "source": [
    "num_classes = train_generator.num_classes\n",
    "print(num_classes)"
   ]
  },
  {
   "cell_type": "code",
   "execution_count": 8,
   "id": "935df351",
   "metadata": {},
   "outputs": [
    {
     "name": "stdout",
     "output_type": "stream",
     "text": [
      "Nombres de las clases: ['Kane Williamson', 'Kobe Bryant', 'Maria Sharapova', 'Ronaldo']\n"
     ]
    }
   ],
   "source": [
    "# Obtiene el diccionario que asigna nombres de clases a sus índices\n",
    "class_indices = train_generator.class_indices\n",
    "# Invierte el diccionario para obtener un diccionario que asigna índices a nombres de clases\n",
    "indices_to_classes = {v: k for k, v in class_indices.items()}\n",
    "# Imprime los nombres de las clases\n",
    "class_names = list(indices_to_classes.values())\n",
    "print(\"Nombres de las clases:\", class_names)"
   ]
  },
  {
   "cell_type": "code",
   "execution_count": 9,
   "id": "ba18c877",
   "metadata": {},
   "outputs": [],
   "source": [
    "checkpoint_path = \"nature_model_checkpoint\"\n",
    "checkpoint_callback = tf.keras.callbacks.ModelCheckpoint(checkpoint_path,\n",
    "                                                         save_weights_only=True,\n",
    "                                                         monitor=\"val_accuracy\",\n",
    "                                                         save_best_only=True)"
   ]
  },
  {
   "cell_type": "code",
   "execution_count": 10,
   "id": "4d523c74",
   "metadata": {},
   "outputs": [],
   "source": [
    "# Setup data augmentation\n",
    "data_augmentation = Sequential([\n",
    "  preprocessing.RandomFlip(\"horizontal\"),\n",
    "  preprocessing.RandomRotation(0.2),\n",
    "  preprocessing.RandomHeight(0.2),\n",
    "  preprocessing.RandomWidth(0.2),\n",
    "  preprocessing.RandomZoom(0.2),\n",
    "  # preprocessing.Rescaling(1/255.) # rescale inputs of images to between 0 & 1, required for models like ResNet50\n",
    "], name=\"data_augmentation\")"
   ]
  },
  {
   "cell_type": "code",
   "execution_count": 11,
   "id": "426441d0",
   "metadata": {},
   "outputs": [],
   "source": [
    "# Setup the base model and freeze its layers (this will extract features)\n",
    "base_model = tf.keras.applications.EfficientNetB0(include_top=False)\n",
    "base_model.trainable = False\n",
    "\n",
    "# Setup model architecture with trainable top layers\n",
    "inputs = layers.Input(shape=IMG_SHAPE+(3,), name=\"input_layer\")\n",
    "\n",
    "x = data_augmentation(inputs) # augment images (only happens during training phase)\n",
    "\n",
    "x = base_model(x, training=False) # put the base model in inference mode so weights which need to stay frozen, \n",
    "    #stay frozen\n",
    "\n",
    "x = layers.GlobalAveragePooling2D(name=\"global_avg_pool_layer\")(x)\n",
    "\n",
    "outputs = layers.Dense(num_classes, activation=\"softmax\", name=\"output_layer\")(x)\n",
    "\n",
    "model = tf.keras.Model(inputs, outputs)\n"
   ]
  },
  {
   "cell_type": "code",
   "execution_count": 13,
   "id": "cd849ee4",
   "metadata": {},
   "outputs": [
    {
     "name": "stdout",
     "output_type": "stream",
     "text": [
      "Model: \"model\"\n",
      "_________________________________________________________________\n",
      " Layer (type)                Output Shape              Param #   \n",
      "=================================================================\n",
      " input_layer (InputLayer)    [(None, 256, 256, 3)]     0         \n",
      "                                                                 \n",
      " data_augmentation (Sequenti  (None, None, None, 3)    0         \n",
      " al)                                                             \n",
      "                                                                 \n",
      " efficientnetb0 (Functional)  (None, None, None, 1280)  4049571  \n",
      "                                                                 \n",
      " global_avg_pool_layer (Glob  (None, 1280)             0         \n",
      " alAveragePooling2D)                                             \n",
      "                                                                 \n",
      " output_layer (Dense)        (None, 4)                 5124      \n",
      "                                                                 \n",
      "=================================================================\n",
      "Total params: 4,054,695\n",
      "Trainable params: 5,124\n",
      "Non-trainable params: 4,049,571\n",
      "_________________________________________________________________\n"
     ]
    }
   ],
   "source": [
    "model.summary()"
   ]
  },
  {
   "cell_type": "code",
   "execution_count": 14,
   "id": "421eff49",
   "metadata": {},
   "outputs": [
    {
     "name": "stdout",
     "output_type": "stream",
     "text": [
      "Epoch 1/5\n",
      "10/10 [==============================] - 28s 2s/step - loss: 1.3715 - accuracy: 0.3365 - val_loss: 1.2161 - val_accuracy: 0.3846\n",
      "Epoch 2/5\n",
      "10/10 [==============================] - 22s 2s/step - loss: 1.1171 - accuracy: 0.5333 - val_loss: 1.0059 - val_accuracy: 0.6282\n",
      "Epoch 3/5\n",
      "10/10 [==============================] - 19s 2s/step - loss: 0.9200 - accuracy: 0.6762 - val_loss: 0.8979 - val_accuracy: 0.6667\n",
      "Epoch 4/5\n",
      "10/10 [==============================] - 19s 2s/step - loss: 0.7964 - accuracy: 0.7524 - val_loss: 0.7972 - val_accuracy: 0.7692\n",
      "Epoch 5/5\n",
      "10/10 [==============================] - 16s 2s/step - loss: 0.6957 - accuracy: 0.7841 - val_loss: 0.7202 - val_accuracy: 0.7821\n"
     ]
    }
   ],
   "source": [
    "# Compile\n",
    "model.compile(loss=\"categorical_crossentropy\",\n",
    "              optimizer=tf.keras.optimizers.Adam(),\n",
    "              metrics=[\"accuracy\"])\n",
    "\n",
    "# Fit\n",
    "history = model.fit(train_generator,\n",
    "                       epochs=5, # fit for 5 epochs to keep experiments quick\n",
    "                       validation_data=validation_generator,\n",
    "                       validation_steps=len(validation_generator), \n",
    "                       callbacks=[checkpoint_callback])"
   ]
  },
  {
   "cell_type": "markdown",
   "id": "8760e60d",
   "metadata": {},
   "source": [
    "## Fine-tuning"
   ]
  },
  {
   "cell_type": "code",
   "execution_count": 15,
   "id": "1150989b",
   "metadata": {},
   "outputs": [],
   "source": [
    "# Unfreeze all of the layers in the base model\n",
    "base_model.trainable = True\n",
    "\n",
    "# Refreeze every layer except the last 5\n",
    "for layer in base_model.layers[:-5]:\n",
    "  layer.trainable = False"
   ]
  },
  {
   "cell_type": "code",
   "execution_count": 16,
   "id": "9c1d802b",
   "metadata": {},
   "outputs": [],
   "source": [
    "# Recompile model with lower learning (it's typically best practice to lower the learning rate when fine-tuning)\n",
    "model.compile(loss=\"categorical_crossentropy\",\n",
    "              optimizer=tf.keras.optimizers.Adam(learning_rate=0.0001), # learning rate lowered by 10x\n",
    "              metrics=[\"accuracy\"])"
   ]
  },
  {
   "cell_type": "code",
   "execution_count": 17,
   "id": "3cd21601",
   "metadata": {},
   "outputs": [
    {
     "name": "stdout",
     "output_type": "stream",
     "text": [
      "input_layer True\n",
      "data_augmentation True\n",
      "efficientnetb0 True\n",
      "global_avg_pool_layer True\n",
      "output_layer True\n"
     ]
    }
   ],
   "source": [
    "# What layers in the model are trainable?\n",
    "for layer in model.layers:\n",
    "  print(layer.name, layer.trainable)"
   ]
  },
  {
   "cell_type": "code",
   "execution_count": 18,
   "id": "85efcee8",
   "metadata": {},
   "outputs": [
    {
     "name": "stdout",
     "output_type": "stream",
     "text": [
      "0 input_1 False\n",
      "1 rescaling False\n",
      "2 normalization False\n",
      "3 rescaling_1 False\n",
      "4 stem_conv_pad False\n",
      "5 stem_conv False\n",
      "6 stem_bn False\n",
      "7 stem_activation False\n",
      "8 block1a_dwconv False\n",
      "9 block1a_bn False\n",
      "10 block1a_activation False\n",
      "11 block1a_se_squeeze False\n",
      "12 block1a_se_reshape False\n",
      "13 block1a_se_reduce False\n",
      "14 block1a_se_expand False\n",
      "15 block1a_se_excite False\n",
      "16 block1a_project_conv False\n",
      "17 block1a_project_bn False\n",
      "18 block2a_expand_conv False\n",
      "19 block2a_expand_bn False\n",
      "20 block2a_expand_activation False\n",
      "21 block2a_dwconv_pad False\n",
      "22 block2a_dwconv False\n",
      "23 block2a_bn False\n",
      "24 block2a_activation False\n",
      "25 block2a_se_squeeze False\n",
      "26 block2a_se_reshape False\n",
      "27 block2a_se_reduce False\n",
      "28 block2a_se_expand False\n",
      "29 block2a_se_excite False\n",
      "30 block2a_project_conv False\n",
      "31 block2a_project_bn False\n",
      "32 block2b_expand_conv False\n",
      "33 block2b_expand_bn False\n",
      "34 block2b_expand_activation False\n",
      "35 block2b_dwconv False\n",
      "36 block2b_bn False\n",
      "37 block2b_activation False\n",
      "38 block2b_se_squeeze False\n",
      "39 block2b_se_reshape False\n",
      "40 block2b_se_reduce False\n",
      "41 block2b_se_expand False\n",
      "42 block2b_se_excite False\n",
      "43 block2b_project_conv False\n",
      "44 block2b_project_bn False\n",
      "45 block2b_drop False\n",
      "46 block2b_add False\n",
      "47 block3a_expand_conv False\n",
      "48 block3a_expand_bn False\n",
      "49 block3a_expand_activation False\n",
      "50 block3a_dwconv_pad False\n",
      "51 block3a_dwconv False\n",
      "52 block3a_bn False\n",
      "53 block3a_activation False\n",
      "54 block3a_se_squeeze False\n",
      "55 block3a_se_reshape False\n",
      "56 block3a_se_reduce False\n",
      "57 block3a_se_expand False\n",
      "58 block3a_se_excite False\n",
      "59 block3a_project_conv False\n",
      "60 block3a_project_bn False\n",
      "61 block3b_expand_conv False\n",
      "62 block3b_expand_bn False\n",
      "63 block3b_expand_activation False\n",
      "64 block3b_dwconv False\n",
      "65 block3b_bn False\n",
      "66 block3b_activation False\n",
      "67 block3b_se_squeeze False\n",
      "68 block3b_se_reshape False\n",
      "69 block3b_se_reduce False\n",
      "70 block3b_se_expand False\n",
      "71 block3b_se_excite False\n",
      "72 block3b_project_conv False\n",
      "73 block3b_project_bn False\n",
      "74 block3b_drop False\n",
      "75 block3b_add False\n",
      "76 block4a_expand_conv False\n",
      "77 block4a_expand_bn False\n",
      "78 block4a_expand_activation False\n",
      "79 block4a_dwconv_pad False\n",
      "80 block4a_dwconv False\n",
      "81 block4a_bn False\n",
      "82 block4a_activation False\n",
      "83 block4a_se_squeeze False\n",
      "84 block4a_se_reshape False\n",
      "85 block4a_se_reduce False\n",
      "86 block4a_se_expand False\n",
      "87 block4a_se_excite False\n",
      "88 block4a_project_conv False\n",
      "89 block4a_project_bn False\n",
      "90 block4b_expand_conv False\n",
      "91 block4b_expand_bn False\n",
      "92 block4b_expand_activation False\n",
      "93 block4b_dwconv False\n",
      "94 block4b_bn False\n",
      "95 block4b_activation False\n",
      "96 block4b_se_squeeze False\n",
      "97 block4b_se_reshape False\n",
      "98 block4b_se_reduce False\n",
      "99 block4b_se_expand False\n",
      "100 block4b_se_excite False\n",
      "101 block4b_project_conv False\n",
      "102 block4b_project_bn False\n",
      "103 block4b_drop False\n",
      "104 block4b_add False\n",
      "105 block4c_expand_conv False\n",
      "106 block4c_expand_bn False\n",
      "107 block4c_expand_activation False\n",
      "108 block4c_dwconv False\n",
      "109 block4c_bn False\n",
      "110 block4c_activation False\n",
      "111 block4c_se_squeeze False\n",
      "112 block4c_se_reshape False\n",
      "113 block4c_se_reduce False\n",
      "114 block4c_se_expand False\n",
      "115 block4c_se_excite False\n",
      "116 block4c_project_conv False\n",
      "117 block4c_project_bn False\n",
      "118 block4c_drop False\n",
      "119 block4c_add False\n",
      "120 block5a_expand_conv False\n",
      "121 block5a_expand_bn False\n",
      "122 block5a_expand_activation False\n",
      "123 block5a_dwconv False\n",
      "124 block5a_bn False\n",
      "125 block5a_activation False\n",
      "126 block5a_se_squeeze False\n",
      "127 block5a_se_reshape False\n",
      "128 block5a_se_reduce False\n",
      "129 block5a_se_expand False\n",
      "130 block5a_se_excite False\n",
      "131 block5a_project_conv False\n",
      "132 block5a_project_bn False\n",
      "133 block5b_expand_conv False\n",
      "134 block5b_expand_bn False\n",
      "135 block5b_expand_activation False\n",
      "136 block5b_dwconv False\n",
      "137 block5b_bn False\n",
      "138 block5b_activation False\n",
      "139 block5b_se_squeeze False\n",
      "140 block5b_se_reshape False\n",
      "141 block5b_se_reduce False\n",
      "142 block5b_se_expand False\n",
      "143 block5b_se_excite False\n",
      "144 block5b_project_conv False\n",
      "145 block5b_project_bn False\n",
      "146 block5b_drop False\n",
      "147 block5b_add False\n",
      "148 block5c_expand_conv False\n",
      "149 block5c_expand_bn False\n",
      "150 block5c_expand_activation False\n",
      "151 block5c_dwconv False\n",
      "152 block5c_bn False\n",
      "153 block5c_activation False\n",
      "154 block5c_se_squeeze False\n",
      "155 block5c_se_reshape False\n",
      "156 block5c_se_reduce False\n",
      "157 block5c_se_expand False\n",
      "158 block5c_se_excite False\n",
      "159 block5c_project_conv False\n",
      "160 block5c_project_bn False\n",
      "161 block5c_drop False\n",
      "162 block5c_add False\n",
      "163 block6a_expand_conv False\n",
      "164 block6a_expand_bn False\n",
      "165 block6a_expand_activation False\n",
      "166 block6a_dwconv_pad False\n",
      "167 block6a_dwconv False\n",
      "168 block6a_bn False\n",
      "169 block6a_activation False\n",
      "170 block6a_se_squeeze False\n",
      "171 block6a_se_reshape False\n",
      "172 block6a_se_reduce False\n",
      "173 block6a_se_expand False\n",
      "174 block6a_se_excite False\n",
      "175 block6a_project_conv False\n",
      "176 block6a_project_bn False\n",
      "177 block6b_expand_conv False\n",
      "178 block6b_expand_bn False\n",
      "179 block6b_expand_activation False\n",
      "180 block6b_dwconv False\n",
      "181 block6b_bn False\n",
      "182 block6b_activation False\n",
      "183 block6b_se_squeeze False\n",
      "184 block6b_se_reshape False\n",
      "185 block6b_se_reduce False\n",
      "186 block6b_se_expand False\n",
      "187 block6b_se_excite False\n",
      "188 block6b_project_conv False\n",
      "189 block6b_project_bn False\n",
      "190 block6b_drop False\n",
      "191 block6b_add False\n",
      "192 block6c_expand_conv False\n",
      "193 block6c_expand_bn False\n",
      "194 block6c_expand_activation False\n",
      "195 block6c_dwconv False\n",
      "196 block6c_bn False\n",
      "197 block6c_activation False\n",
      "198 block6c_se_squeeze False\n",
      "199 block6c_se_reshape False\n",
      "200 block6c_se_reduce False\n",
      "201 block6c_se_expand False\n",
      "202 block6c_se_excite False\n",
      "203 block6c_project_conv False\n",
      "204 block6c_project_bn False\n",
      "205 block6c_drop False\n",
      "206 block6c_add False\n",
      "207 block6d_expand_conv False\n",
      "208 block6d_expand_bn False\n",
      "209 block6d_expand_activation False\n",
      "210 block6d_dwconv False\n",
      "211 block6d_bn False\n",
      "212 block6d_activation False\n",
      "213 block6d_se_squeeze False\n",
      "214 block6d_se_reshape False\n",
      "215 block6d_se_reduce False\n",
      "216 block6d_se_expand False\n",
      "217 block6d_se_excite False\n",
      "218 block6d_project_conv False\n",
      "219 block6d_project_bn False\n",
      "220 block6d_drop False\n",
      "221 block6d_add False\n",
      "222 block7a_expand_conv False\n",
      "223 block7a_expand_bn False\n",
      "224 block7a_expand_activation False\n",
      "225 block7a_dwconv False\n",
      "226 block7a_bn False\n",
      "227 block7a_activation False\n",
      "228 block7a_se_squeeze False\n",
      "229 block7a_se_reshape False\n",
      "230 block7a_se_reduce False\n",
      "231 block7a_se_expand False\n",
      "232 block7a_se_excite False\n",
      "233 block7a_project_conv True\n",
      "234 block7a_project_bn True\n",
      "235 top_conv True\n",
      "236 top_bn True\n",
      "237 top_activation True\n"
     ]
    }
   ],
   "source": [
    "# Check which layers are trainable in our base model\n",
    "for layer_number, layer in enumerate(model.layers[2].layers):\n",
    "  print(layer_number, layer.name, layer.trainable)"
   ]
  },
  {
   "cell_type": "code",
   "execution_count": 19,
   "id": "27f5f2aa",
   "metadata": {},
   "outputs": [
    {
     "name": "stdout",
     "output_type": "stream",
     "text": [
      "Epoch 5/10\n",
      "10/10 [==============================] - 27s 2s/step - loss: 0.6346 - accuracy: 0.8063 - val_loss: 0.6458 - val_accuracy: 0.8077\n",
      "Epoch 6/10\n",
      "10/10 [==============================] - 16s 2s/step - loss: 0.5621 - accuracy: 0.8540 - val_loss: 0.5837 - val_accuracy: 0.8077\n",
      "Epoch 7/10\n",
      "10/10 [==============================] - 18s 2s/step - loss: 0.4908 - accuracy: 0.8667 - val_loss: 0.5394 - val_accuracy: 0.8077\n",
      "Epoch 8/10\n",
      "10/10 [==============================] - 19s 2s/step - loss: 0.4188 - accuracy: 0.8921 - val_loss: 0.5011 - val_accuracy: 0.8333\n",
      "Epoch 9/10\n",
      "10/10 [==============================] - 18s 2s/step - loss: 0.3691 - accuracy: 0.9143 - val_loss: 0.4742 - val_accuracy: 0.8333\n",
      "Epoch 10/10\n",
      "10/10 [==============================] - 19s 2s/step - loss: 0.3112 - accuracy: 0.9206 - val_loss: 0.4578 - val_accuracy: 0.8462\n"
     ]
    }
   ],
   "source": [
    "# Fine-tune for 5 more epochs\n",
    "fine_tune_epochs = 10 # model has already done 5 epochs (feature extraction), this is the total number of epochs we're after (5 + 5 = 10)\n",
    "\n",
    "# Fine-tune our model\n",
    "history_fine_tune = model.fit(train_generator,\n",
    "                                 epochs=fine_tune_epochs,\n",
    "                                 validation_data=validation_generator,\n",
    "                                 validation_steps=len(validation_generator),\n",
    "                                 initial_epoch=history.epoch[-1])"
   ]
  },
  {
   "cell_type": "code",
   "execution_count": 20,
   "id": "32d05dd7",
   "metadata": {},
   "outputs": [
    {
     "data": {
      "text/html": [
       "<div>\n",
       "<style scoped>\n",
       "    .dataframe tbody tr th:only-of-type {\n",
       "        vertical-align: middle;\n",
       "    }\n",
       "\n",
       "    .dataframe tbody tr th {\n",
       "        vertical-align: top;\n",
       "    }\n",
       "\n",
       "    .dataframe thead th {\n",
       "        text-align: right;\n",
       "    }\n",
       "</style>\n",
       "<table border=\"1\" class=\"dataframe\">\n",
       "  <thead>\n",
       "    <tr style=\"text-align: right;\">\n",
       "      <th></th>\n",
       "      <th>loss</th>\n",
       "      <th>accuracy</th>\n",
       "      <th>val_loss</th>\n",
       "      <th>val_accuracy</th>\n",
       "    </tr>\n",
       "  </thead>\n",
       "  <tbody>\n",
       "    <tr>\n",
       "      <th>0</th>\n",
       "      <td>1.371452</td>\n",
       "      <td>0.336508</td>\n",
       "      <td>1.216066</td>\n",
       "      <td>0.384615</td>\n",
       "    </tr>\n",
       "    <tr>\n",
       "      <th>1</th>\n",
       "      <td>1.117118</td>\n",
       "      <td>0.533333</td>\n",
       "      <td>1.005859</td>\n",
       "      <td>0.628205</td>\n",
       "    </tr>\n",
       "    <tr>\n",
       "      <th>2</th>\n",
       "      <td>0.920025</td>\n",
       "      <td>0.676190</td>\n",
       "      <td>0.897900</td>\n",
       "      <td>0.666667</td>\n",
       "    </tr>\n",
       "    <tr>\n",
       "      <th>3</th>\n",
       "      <td>0.796362</td>\n",
       "      <td>0.752381</td>\n",
       "      <td>0.797150</td>\n",
       "      <td>0.769231</td>\n",
       "    </tr>\n",
       "    <tr>\n",
       "      <th>4</th>\n",
       "      <td>0.695731</td>\n",
       "      <td>0.784127</td>\n",
       "      <td>0.720219</td>\n",
       "      <td>0.782051</td>\n",
       "    </tr>\n",
       "  </tbody>\n",
       "</table>\n",
       "</div>"
      ],
      "text/plain": [
       "       loss  accuracy  val_loss  val_accuracy\n",
       "0  1.371452  0.336508  1.216066      0.384615\n",
       "1  1.117118  0.533333  1.005859      0.628205\n",
       "2  0.920025  0.676190  0.897900      0.666667\n",
       "3  0.796362  0.752381  0.797150      0.769231\n",
       "4  0.695731  0.784127  0.720219      0.782051"
      ]
     },
     "execution_count": 20,
     "metadata": {},
     "output_type": "execute_result"
    }
   ],
   "source": [
    "aux = pd.DataFrame(history.history)\n",
    "aux"
   ]
  },
  {
   "cell_type": "code",
   "execution_count": 21,
   "id": "97cdbf03",
   "metadata": {},
   "outputs": [],
   "source": [
    "#from .utils import helper_functions\n",
    "\n",
    "def compare_historys(original_history, new_history, initial_epochs=5):\n",
    "    \"\"\"\n",
    "    Compares two TensorFlow model History objects.\n",
    "    \n",
    "    Args:\n",
    "      original_history: History object from original model (before new_history)\n",
    "      new_history: History object from continued model training (after original_history)\n",
    "      initial_epochs: Number of epochs in original_history (new_history plot starts from here) \n",
    "    \"\"\"\n",
    "    \n",
    "    # Get original history measurements\n",
    "    acc = original_history.history[\"accuracy\"]\n",
    "    loss = original_history.history[\"loss\"]\n",
    "\n",
    "    val_acc = original_history.history[\"val_accuracy\"]\n",
    "    val_loss = original_history.history[\"val_loss\"]\n",
    "\n",
    "    # Combine original history with new history\n",
    "    total_acc = acc + new_history.history[\"accuracy\"]\n",
    "    total_loss = loss + new_history.history[\"loss\"]\n",
    "\n",
    "    total_val_acc = val_acc + new_history.history[\"val_accuracy\"]\n",
    "    total_val_loss = val_loss + new_history.history[\"val_loss\"]\n",
    "\n",
    "    # Make plots\n",
    "    plt.figure(figsize=(8, 8))\n",
    "    plt.subplot(2, 1, 1)\n",
    "    plt.plot(total_acc, label='Training Accuracy')\n",
    "    plt.plot(total_val_acc, label='Validation Accuracy')\n",
    "    plt.plot([initial_epochs-1, initial_epochs-1],\n",
    "              plt.ylim(), label='Start Fine Tuning') # reshift plot around epochs\n",
    "    plt.legend(loc='lower right')\n",
    "    plt.title('Training and Validation Accuracy')\n",
    "\n",
    "    plt.subplot(2, 1, 2)\n",
    "    plt.plot(total_loss, label='Training Loss')\n",
    "    plt.plot(total_val_loss, label='Validation Loss')\n",
    "    plt.plot([initial_epochs-1, initial_epochs-1],\n",
    "              plt.ylim(), label='Start Fine Tuning') # reshift plot around epochs\n",
    "    plt.legend(loc='upper right')\n",
    "    plt.title('Training and Validation Loss')\n",
    "    plt.xlabel('epoch')\n",
    "    plt.show()\n",
    "\n"
   ]
  },
  {
   "cell_type": "code",
   "execution_count": 22,
   "id": "ea75f35d",
   "metadata": {},
   "outputs": [
    {
     "ename": "AttributeError",
     "evalue": "'dict' object has no attribute 'history'",
     "output_type": "error",
     "traceback": [
      "\u001b[0;31m---------------------------------------------------------------------------\u001b[0m",
      "\u001b[0;31mAttributeError\u001b[0m                            Traceback (most recent call last)",
      "Cell \u001b[0;32mIn [22], line 2\u001b[0m\n\u001b[1;32m      1\u001b[0m \u001b[38;5;66;03m# Compare the histories of feature extraction model with fine-tuning model\u001b[39;00m\n\u001b[0;32m----> 2\u001b[0m \u001b[43mcompare_historys\u001b[49m\u001b[43m(\u001b[49m\u001b[43moriginal_history\u001b[49m\u001b[38;5;241;43m=\u001b[39;49m\u001b[43mhistory\u001b[49m\u001b[38;5;241;43m.\u001b[39;49m\u001b[43mhistory\u001b[49m\u001b[43m,\u001b[49m\n\u001b[1;32m      3\u001b[0m \u001b[43m                 \u001b[49m\u001b[43mnew_history\u001b[49m\u001b[38;5;241;43m=\u001b[39;49m\u001b[43mhistory_fine_tune\u001b[49m\u001b[38;5;241;43m.\u001b[39;49m\u001b[43mhistory\u001b[49m\u001b[43m,\u001b[49m\n\u001b[1;32m      4\u001b[0m \u001b[43m                 \u001b[49m\u001b[43minitial_epochs\u001b[49m\u001b[38;5;241;43m=\u001b[39;49m\u001b[38;5;241;43m5\u001b[39;49m\u001b[43m)\u001b[49m\n",
      "Cell \u001b[0;32mIn [21], line 14\u001b[0m, in \u001b[0;36mcompare_historys\u001b[0;34m(original_history, new_history, initial_epochs)\u001b[0m\n\u001b[1;32m      4\u001b[0m \u001b[38;5;250m\u001b[39m\u001b[38;5;124;03m\"\"\"\u001b[39;00m\n\u001b[1;32m      5\u001b[0m \u001b[38;5;124;03mCompares two TensorFlow model History objects.\u001b[39;00m\n\u001b[1;32m      6\u001b[0m \u001b[38;5;124;03m\u001b[39;00m\n\u001b[0;32m   (...)\u001b[0m\n\u001b[1;32m     10\u001b[0m \u001b[38;5;124;03m  initial_epochs: Number of epochs in original_history (new_history plot starts from here) \u001b[39;00m\n\u001b[1;32m     11\u001b[0m \u001b[38;5;124;03m\"\"\"\u001b[39;00m\n\u001b[1;32m     13\u001b[0m \u001b[38;5;66;03m# Get original history measurements\u001b[39;00m\n\u001b[0;32m---> 14\u001b[0m acc \u001b[38;5;241m=\u001b[39m \u001b[43moriginal_history\u001b[49m\u001b[38;5;241;43m.\u001b[39;49m\u001b[43mhistory\u001b[49m[\u001b[38;5;124m\"\u001b[39m\u001b[38;5;124maccuracy\u001b[39m\u001b[38;5;124m\"\u001b[39m]\n\u001b[1;32m     15\u001b[0m loss \u001b[38;5;241m=\u001b[39m original_history\u001b[38;5;241m.\u001b[39mhistory[\u001b[38;5;124m\"\u001b[39m\u001b[38;5;124mloss\u001b[39m\u001b[38;5;124m\"\u001b[39m]\n\u001b[1;32m     17\u001b[0m val_acc \u001b[38;5;241m=\u001b[39m original_history\u001b[38;5;241m.\u001b[39mhistory[\u001b[38;5;124m\"\u001b[39m\u001b[38;5;124mval_accuracy\u001b[39m\u001b[38;5;124m\"\u001b[39m]\n",
      "\u001b[0;31mAttributeError\u001b[0m: 'dict' object has no attribute 'history'"
     ]
    }
   ],
   "source": [
    "# Compare the histories of feature extraction model with fine-tuning model\n",
    "compare_historys(original_history=history.history,\n",
    "                 new_history=history_fine_tune.history,\n",
    "                 initial_epochs=5)"
   ]
  },
  {
   "cell_type": "code",
   "execution_count": 23,
   "id": "2ae6e73e",
   "metadata": {},
   "outputs": [],
   "source": [
    "#save and load model\n",
    "\n",
    "# Save our fine-tuning model\n",
    "#model.save(\"drive/MyDrive/tensorflow_course/101_food_classes_10_percent_saved_big_dog_model\")\n",
    "#loaded_model = tf.keras.models.load_model(\"drive/MyDrive/tensorflow_course/101_food_classes_10_percent_saved_\n",
    "#big_dog_model\")\n",
    "#loaded_model_results = loaded_model.evaluate(test_data)\n",
    "#loaded_model_results"
   ]
  },
  {
   "cell_type": "code",
   "execution_count": 24,
   "id": "572e81d1",
   "metadata": {},
   "outputs": [
    {
     "name": "stdout",
     "output_type": "stream",
     "text": [
      "2/2 [==============================] - 2s 739ms/step - loss: 0.4011 - accuracy: 0.8600\n"
     ]
    },
    {
     "data": {
      "text/plain": [
       "[0.401071697473526, 0.8600000143051147]"
      ]
     },
     "execution_count": 24,
     "metadata": {},
     "output_type": "execute_result"
    }
   ],
   "source": [
    "model.evaluate(test_generator)"
   ]
  },
  {
   "cell_type": "markdown",
   "id": "134f3d53",
   "metadata": {},
   "source": [
    "### predictions"
   ]
  },
  {
   "cell_type": "code",
   "execution_count": 25,
   "id": "3eeed171",
   "metadata": {},
   "outputs": [
    {
     "data": {
      "text/plain": [
       "array([0, 0, 0, 0, 0, 0, 0, 0, 0, 0, 0, 0, 0, 0, 0, 0, 0, 0, 0, 1, 1, 1,\n",
       "       1, 1, 1, 1, 1, 1, 1, 2, 2, 2, 2, 2, 2, 2, 2, 2, 2, 2, 3, 3, 3, 3,\n",
       "       3, 3, 3, 3, 3, 3], dtype=int32)"
      ]
     },
     "execution_count": 25,
     "metadata": {},
     "output_type": "execute_result"
    }
   ],
   "source": [
    "test_generator.classes"
   ]
  },
  {
   "cell_type": "code",
   "execution_count": 26,
   "id": "472175f3",
   "metadata": {},
   "outputs": [
    {
     "name": "stdout",
     "output_type": "stream",
     "text": [
      "2/2 [==============================] - 3s 688ms/step\n"
     ]
    }
   ],
   "source": [
    "# Make predictions with model\n",
    "preds_probs = model.predict(test_generator) "
   ]
  },
  {
   "cell_type": "code",
   "execution_count": 27,
   "id": "511d2bd9",
   "metadata": {},
   "outputs": [
    {
     "data": {
      "text/plain": [
       "50"
      ]
     },
     "execution_count": 27,
     "metadata": {},
     "output_type": "execute_result"
    }
   ],
   "source": [
    "len(preds_probs)"
   ]
  },
  {
   "cell_type": "code",
   "execution_count": 28,
   "id": "69cbc048",
   "metadata": {},
   "outputs": [
    {
     "data": {
      "text/plain": [
       "(50, 4)"
      ]
     },
     "execution_count": 28,
     "metadata": {},
     "output_type": "execute_result"
    }
   ],
   "source": [
    "preds_probs.shape"
   ]
  },
  {
   "cell_type": "code",
   "execution_count": 29,
   "id": "0e693bc8",
   "metadata": {},
   "outputs": [
    {
     "data": {
      "text/plain": [
       "array([0.70339674, 0.0176453 , 0.04361644, 0.23534156], dtype=float32)"
      ]
     },
     "execution_count": 29,
     "metadata": {},
     "output_type": "execute_result"
    }
   ],
   "source": [
    "preds_probs[0]"
   ]
  },
  {
   "cell_type": "markdown",
   "id": "616e8850",
   "metadata": {},
   "source": [
    "vemos que me devolvió la probabilidad para cada clase"
   ]
  },
  {
   "cell_type": "code",
   "execution_count": 30,
   "id": "6947f079",
   "metadata": {},
   "outputs": [
    {
     "data": {
      "text/plain": [
       "1.0000000391155481"
      ]
     },
     "execution_count": 30,
     "metadata": {},
     "output_type": "execute_result"
    }
   ],
   "source": [
    "sum(preds_probs[0])"
   ]
  },
  {
   "cell_type": "code",
   "execution_count": 31,
   "id": "39236e8b",
   "metadata": {},
   "outputs": [],
   "source": [
    "pred_classes = np.argmax(preds_probs, axis=1)"
   ]
  },
  {
   "cell_type": "code",
   "execution_count": 32,
   "id": "26185003",
   "metadata": {},
   "outputs": [
    {
     "data": {
      "text/plain": [
       "0"
      ]
     },
     "execution_count": 32,
     "metadata": {},
     "output_type": "execute_result"
    }
   ],
   "source": [
    "pred_classes[0]"
   ]
  },
  {
   "cell_type": "code",
   "execution_count": 33,
   "id": "901ee6ee",
   "metadata": {},
   "outputs": [
    {
     "data": {
      "text/plain": [
       "50"
      ]
     },
     "execution_count": 33,
     "metadata": {},
     "output_type": "execute_result"
    }
   ],
   "source": [
    "len(pred_classes)"
   ]
  },
  {
   "cell_type": "markdown",
   "id": "a23ebdc2",
   "metadata": {},
   "source": [
    "### matriz de confusión "
   ]
  },
  {
   "cell_type": "code",
   "execution_count": 34,
   "id": "12b20de4",
   "metadata": {},
   "outputs": [
    {
     "name": "stdout",
     "output_type": "stream",
     "text": [
      "2/2 [==============================] - 2s 867ms/step\n"
     ]
    },
    {
     "data": {
      "image/png": "[encoded data removed]",
      "text/plain": [
       "<Figure size 800x600 with 2 Axes>"
      ]
     },
     "metadata": {},
     "output_type": "display_data"
    },
    {
     "name": "stdout",
     "output_type": "stream",
     "text": [
      "Informe de Clasificación:\n",
      "                 precision    recall  f1-score   support\n",
      "\n",
      "Kane Williamson       0.90      0.95      0.92        19\n",
      "    Kobe Bryant       0.86      0.60      0.71        10\n",
      "Maria Sharapova       0.75      0.82      0.78        11\n",
      "        Ronaldo       0.91      1.00      0.95        10\n",
      "\n",
      "       accuracy                           0.86        50\n",
      "      macro avg       0.85      0.84      0.84        50\n",
      "   weighted avg       0.86      0.86      0.85        50\n",
      "\n"
     ]
    }
   ],
   "source": [
    "import numpy as np\n",
    "import tensorflow as tf\n",
    "import matplotlib.pyplot as plt\n",
    "import seaborn as sns\n",
    "from sklearn.metrics import classification_report, confusion_matrix\n",
    "\n",
    "# Supongamos que ya tienes un modelo entrenado llamado 'modelo'\n",
    "# y 'test_generator' es tu generador de datos de prueba\n",
    "\n",
    "# Realiza predicciones en el conjunto de prueba\n",
    "predicciones = model.predict(test_generator)\n",
    "\n",
    "# Convierte las predicciones en etiquetas predichas\n",
    "etiquetas_predichas = np.argmax(predicciones, axis=1)\n",
    "\n",
    "# Obtiene las etiquetas reales del generador de prueba\n",
    "etiquetas_reales = test_generator.classes\n",
    "\n",
    "# Calcula la matriz de confusión\n",
    "matriz_confusion = confusion_matrix(etiquetas_reales, etiquetas_predichas)\n",
    "\n",
    "# Visualiza la matriz de confusión utilizando seaborn\n",
    "plt.figure(figsize=(8, 6))\n",
    "sns.heatmap(matriz_confusion, annot=True, fmt=\"d\", cmap=\"Blues\", xticklabels=test_generator.class_indices, yticklabels=test_generator.class_indices)\n",
    "plt.xlabel(\"Etiquetas Predichas\")\n",
    "plt.ylabel(\"Etiquetas Reales\")\n",
    "plt.title(\"Matriz de Confusión\")\n",
    "plt.show()\n",
    "\n",
    "# Imprime el informe de clasificación\n",
    "print(\"Informe de Clasificación:\")\n",
    "print(classification_report(etiquetas_reales, etiquetas_predichas, target_names=test_generator.class_indices))\n"
   ]
  },
  {
   "cell_type": "code",
   "execution_count": null,
   "id": "b63d3344",
   "metadata": {},
   "outputs": [],
   "source": []
  },
  {
   "cell_type": "code",
   "execution_count": null,
   "id": "3ba70e7e",
   "metadata": {},
   "outputs": [],
   "source": []
  },
  {
   "cell_type": "code",
   "execution_count": null,
   "id": "266a0367",
   "metadata": {},
   "outputs": [],
   "source": []
  },
  {
   "cell_type": "code",
   "execution_count": null,
   "id": "9ebea196",
   "metadata": {},
   "outputs": [],
   "source": []
  },
  {
   "cell_type": "code",
   "execution_count": null,
   "id": "4629441b",
   "metadata": {},
   "outputs": [],
   "source": []
  },
  {
   "cell_type": "code",
   "execution_count": null,
   "id": "7fbe4b60",
   "metadata": {},
   "outputs": [],
   "source": []
  },
  {
   "cell_type": "code",
   "execution_count": null,
   "id": "3c0f15b7",
   "metadata": {},
   "outputs": [],
   "source": []
  },
  {
   "cell_type": "code",
   "execution_count": 94,
   "id": "1a8f96dd",
   "metadata": {},
   "outputs": [
    {
     "name": "stdout",
     "output_type": "stream",
     "text": [
      "Mapeo de Clases a Índices:\n",
      "{'Kane Williamson': 0, 'Kobe Bryant': 1, 'Maria Sharapova': 2, 'Ronaldo': 3}\n",
      "Primeras 10 Etiquetas Reales:\n",
      "[0 0 0 0 0 0 0 0 0 0]\n",
      "Primeras 10 Etiquetas Predichas:\n",
      "[2 3 0 2 3 0 3 2 3 1]\n"
     ]
    }
   ],
   "source": [
    "# Imprime el mapeo de clases a índices\n",
    "print(\"Mapeo de Clases a Índices:\")\n",
    "print(test_generator.class_indices)\n",
    "\n",
    "# Imprime las primeras 10 etiquetas reales y predichas para verificar el orden\n",
    "print(\"Primeras 10 Etiquetas Reales:\")\n",
    "print(etiquetas_reales[:10])\n",
    "\n",
    "print(\"Primeras 10 Etiquetas Predichas:\")\n",
    "print(etiquetas_predichas[:10])"
   ]
  },
  {
   "cell_type": "code",
   "execution_count": null,
   "id": "e79eb185",
   "metadata": {},
   "outputs": [],
   "source": []
  },
  {
   "cell_type": "code",
   "execution_count": 76,
   "id": "4c679873",
   "metadata": {},
   "outputs": [
    {
     "name": "stdout",
     "output_type": "stream",
     "text": [
      "Nombre de archivo: Kane Williamson/kane_(101).jpg, Etiqueta Real: 0\n",
      "Nombre de archivo: Kane Williamson/kane_(102).jpg, Etiqueta Real: 0\n",
      "Nombre de archivo: Kane Williamson/kane_(103).jpg, Etiqueta Real: 0\n",
      "Nombre de archivo: Kane Williamson/kane_(104).jpg, Etiqueta Real: 0\n",
      "Nombre de archivo: Kane Williamson/kane_(105).jpg, Etiqueta Real: 0\n",
      "Nombre de archivo: Kane Williamson/kane_(106).jpg, Etiqueta Real: 0\n",
      "Nombre de archivo: Kane Williamson/kane_(107).jpg, Etiqueta Real: 0\n",
      "Nombre de archivo: Kane Williamson/kane_(108).jpg, Etiqueta Real: 0\n",
      "Nombre de archivo: Kane Williamson/kane_(109).jpg, Etiqueta Real: 0\n",
      "Nombre de archivo: Kane Williamson/kane_(110).jpg, Etiqueta Real: 0\n",
      "Nombre de archivo: Kane Williamson/kane_(111).jpg, Etiqueta Real: 0\n",
      "Nombre de archivo: Kane Williamson/kane_(112).jpg, Etiqueta Real: 0\n",
      "Nombre de archivo: Kane Williamson/kane_(113).jpg, Etiqueta Real: 0\n",
      "Nombre de archivo: Kane Williamson/kane_(114).jpg, Etiqueta Real: 0\n",
      "Nombre de archivo: Kane Williamson/kane_(115).jpg, Etiqueta Real: 0\n",
      "Nombre de archivo: Kane Williamson/kane_(116).jpg, Etiqueta Real: 0\n",
      "Nombre de archivo: Kane Williamson/kane_(117).jpg, Etiqueta Real: 0\n",
      "Nombre de archivo: Kane Williamson/kane_(118).jpg, Etiqueta Real: 0\n",
      "Nombre de archivo: Kane Williamson/kane_(119).jpg, Etiqueta Real: 0\n",
      "Nombre de archivo: Kobe Bryant/kobe_(101).jpg, Etiqueta Real: 1\n",
      "Nombre de archivo: Kobe Bryant/kobe_(102).jpg, Etiqueta Real: 1\n",
      "Nombre de archivo: Kobe Bryant/kobe_(103).jpg, Etiqueta Real: 1\n",
      "Nombre de archivo: Kobe Bryant/kobe_(104).jpg, Etiqueta Real: 1\n",
      "Nombre de archivo: Kobe Bryant/kobe_(105).jpg, Etiqueta Real: 1\n",
      "Nombre de archivo: Kobe Bryant/kobe_(106).jpg, Etiqueta Real: 1\n",
      "Nombre de archivo: Kobe Bryant/kobe_(107).jpg, Etiqueta Real: 1\n",
      "Nombre de archivo: Kobe Bryant/kobe_(108).jpg, Etiqueta Real: 1\n",
      "Nombre de archivo: Kobe Bryant/kobe_(109).jpg, Etiqueta Real: 1\n",
      "Nombre de archivo: Kobe Bryant/kobe_(110).jpg, Etiqueta Real: 1\n",
      "Nombre de archivo: Maria Sharapova/Sharapova_ (100).jpg, Etiqueta Real: 2\n",
      "Nombre de archivo: Maria Sharapova/Sharapova_ (101).jpg, Etiqueta Real: 2\n",
      "Nombre de archivo: Maria Sharapova/Sharapova_ (102).jpg, Etiqueta Real: 2\n",
      "Nombre de archivo: Maria Sharapova/Sharapova_ (103).jpg, Etiqueta Real: 2\n",
      "Nombre de archivo: Maria Sharapova/Sharapova_ (93).jpg, Etiqueta Real: 2\n",
      "Nombre de archivo: Maria Sharapova/Sharapova_ (94).jpg, Etiqueta Real: 2\n",
      "Nombre de archivo: Maria Sharapova/Sharapova_ (95).jpg, Etiqueta Real: 2\n",
      "Nombre de archivo: Maria Sharapova/Sharapova_ (96).jpg, Etiqueta Real: 2\n",
      "Nombre de archivo: Maria Sharapova/Sharapova_ (97).jpg, Etiqueta Real: 2\n",
      "Nombre de archivo: Maria Sharapova/Sharapova_ (98).jpg, Etiqueta Real: 2\n",
      "Nombre de archivo: Maria Sharapova/Sharapova_ (99).jpg, Etiqueta Real: 2\n",
      "Nombre de archivo: Ronaldo/ronaldo_(100).jpg, Etiqueta Real: 3\n",
      "Nombre de archivo: Ronaldo/ronaldo_(102).jpg, Etiqueta Real: 3\n",
      "Nombre de archivo: Ronaldo/ronaldo_(103).jpg, Etiqueta Real: 3\n",
      "Nombre de archivo: Ronaldo/ronaldo_(104).jpg, Etiqueta Real: 3\n",
      "Nombre de archivo: Ronaldo/ronaldo_(105).jpg, Etiqueta Real: 3\n",
      "Nombre de archivo: Ronaldo/ronaldo_(106).jpg, Etiqueta Real: 3\n",
      "Nombre de archivo: Ronaldo/ronaldo_(107).jpg, Etiqueta Real: 3\n",
      "Nombre de archivo: Ronaldo/ronaldo_(108).jpg, Etiqueta Real: 3\n",
      "Nombre de archivo: Ronaldo/ronaldo_(109).jpg, Etiqueta Real: 3\n",
      "Nombre de archivo: Ronaldo/ronaldo_(110).jpg, Etiqueta Real: 3\n"
     ]
    }
   ],
   "source": [
    "# Obtiene las etiquetas reales y los nombres de archivo\n",
    "etiquetas_reales = test_generator.classes\n",
    "nombres_archivos = test_generator.filenames\n",
    "\n",
    "# Muestra las etiquetas reales y los nombres de archivo asociados\n",
    "for etiqueta, nombre_archivo in zip(etiquetas_reales, nombres_archivos):\n",
    "    print(f\"Nombre de archivo: {nombre_archivo}, Etiqueta Real: {etiqueta}\")"
   ]
  },
  {
   "cell_type": "code",
   "execution_count": null,
   "id": "9fc3afcf",
   "metadata": {},
   "outputs": [],
   "source": []
  }
 ],
 "metadata": {
  "kernelspec": {
   "display_name": "Python 3 (ipykernel)",
   "language": "python",
   "name": "python3"
  },
  "language_info": {
   "codemirror_mode": {
    "name": "ipython",
    "version": 3
   },
   "file_extension": ".py",
   "mimetype": "text/x-python",
   "name": "python",
   "nbconvert_exporter": "python",
   "pygments_lexer": "ipython3",
   "version": "3.10.12"
  }
 },
 "nbformat": 4,
 "nbformat_minor": 5
}
