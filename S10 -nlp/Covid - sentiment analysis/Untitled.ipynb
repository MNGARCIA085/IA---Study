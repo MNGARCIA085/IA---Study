{
 "cells": [
  {
   "cell_type": "markdown",
   "id": "7cb268cb",
   "metadata": {},
   "source": [
    "# <center><font color='blue'>SENTIMENT ANALYSIS: COVID</center></font>"
   ]
  },
  {
   "cell_type": "markdown",
   "id": "410ef0e5",
   "metadata": {},
   "source": [
    "## Tabla de contenido\n",
    "- [1 - Objetivos](#1)\n",
    "- [2 - Librerías necesarias](#2)\n",
    "- [3 - Carga y visualización de datos](#3)\n",
    "- [4 - Pre-procesamiento de datos](#4)\n",
    "    - [4.1. - Datos faltantes](#4.1)\n",
    "    - [4.2. - Data Categóricos](#4.2)\n",
    "    - [4.2. - Balanceo de clases](#4.3)\n",
    "    - [4.4. - Pre-Procesamiento especial para NLP](#4.4)\n",
    "- [5 - Modelos](#5)\n",
    "- [6 - Ajuste de hiperparámetros](#6)\n",
    "- [7 - Conclusiones](#7)\n",
    "- [8 - Referencias](#8)"
   ]
  },
  {
   "cell_type": "markdown",
   "id": "42bd6143",
   "metadata": {},
   "source": [
    "<a name=\"1\"></a>\n",
    "## 1. Objetivos\n",
    "\n",
    "Practicar con un problema de procesamiento del lenguaje natural.\n",
    "<br>\n",
    "Aquí, dado un conjunto de tweets, analizar si el sentimiento es positivo o negativo"
   ]
  },
  {
   "cell_type": "markdown",
   "id": "ec9ea4fd",
   "metadata": {},
   "source": [
    "<a name=\"2\"></a>\n",
    "## 2. Librerías necesarias"
   ]
  },
  {
   "cell_type": "code",
   "execution_count": 1,
   "id": "c5b25607",
   "metadata": {},
   "outputs": [],
   "source": [
    "# que no se impriman info y warnings\n",
    "import os\n",
    "os.environ['TF_CPP_MIN_LOG_LEVEL'] = '2' "
   ]
  },
  {
   "cell_type": "code",
   "execution_count": 2,
   "id": "e6215602",
   "metadata": {},
   "outputs": [],
   "source": [
    "import tensorflow as tf\n",
    "import matplotlib.pyplot as plt\n",
    "import matplotlib.image as mpimg\n",
    "import numpy as np\n",
    "from tensorflow.keras import layers,callbacks,models,Sequential,losses\n",
    "import seaborn as sns\n",
    "from sklearn.metrics import confusion_matrix\n",
    "from tensorflow import keras\n",
    "from keras import backend as K\n",
    "import os,random\n",
    "import pandas as pd\n",
    "from tensorflow.keras.preprocessing.image import ImageDataGenerator\n",
    "from tensorflow.keras.preprocessing.image import ImageDataGenerator\n",
    "from tensorflow.keras.applications.efficientnet import preprocess_input\n",
    "from tensorflow.keras.layers.experimental import preprocessing\n",
    "import seaborn as sns\n",
    "from sklearn.metrics import classification_report, confusion_matrix\n",
    "import csv\n",
    "from datetime import datetime\n",
    "from sklearn.model_selection import train_test_split \n",
    "import nltk\n",
    "from nltk.corpus import stopwords\n",
    "from nltk.stem import WordNetLemmatizer\n",
    "from nltk.corpus import stopwords\n",
    "from nltk.tokenize import word_tokenize\n",
    "import re\n",
    "import tensorflow_hub as hub\n",
    "import keras_tuner"
   ]
  },
  {
   "cell_type": "markdown",
   "id": "8eb2a8f2",
   "metadata": {},
   "source": [
    "<a name=\"3\"></a>\n",
    "## 3. Carga y visualización de datos\n",
    "\n",
    "Tenemos 2 datasets, uno para entrenamiento y otro para test:"
   ]
  },
  {
   "cell_type": "code",
   "execution_count": 107,
   "id": "0d5087c3",
   "metadata": {},
   "outputs": [],
   "source": [
    "train_data_pandas = pd.read_csv('data/Corona_NLP_train.csv',encoding='latin-1')\n",
    "test_data_pandas = pd.read_csv('data/Corona_NLP_test.csv',encoding='latin-1')"
   ]
  },
  {
   "cell_type": "code",
   "execution_count": 4,
   "id": "9cd1da54",
   "metadata": {},
   "outputs": [
    {
     "data": {
      "text/html": [
       "<div>\n",
       "<style scoped>\n",
       "    .dataframe tbody tr th:only-of-type {\n",
       "        vertical-align: middle;\n",
       "    }\n",
       "\n",
       "    .dataframe tbody tr th {\n",
       "        vertical-align: top;\n",
       "    }\n",
       "\n",
       "    .dataframe thead th {\n",
       "        text-align: right;\n",
       "    }\n",
       "</style>\n",
       "<table border=\"1\" class=\"dataframe\">\n",
       "  <thead>\n",
       "    <tr style=\"text-align: right;\">\n",
       "      <th></th>\n",
       "      <th>UserName</th>\n",
       "      <th>ScreenName</th>\n",
       "      <th>Location</th>\n",
       "      <th>TweetAt</th>\n",
       "      <th>OriginalTweet</th>\n",
       "      <th>Sentiment</th>\n",
       "    </tr>\n",
       "  </thead>\n",
       "  <tbody>\n",
       "    <tr>\n",
       "      <th>0</th>\n",
       "      <td>3799</td>\n",
       "      <td>48751</td>\n",
       "      <td>London</td>\n",
       "      <td>16-03-2020</td>\n",
       "      <td>@MeNyrbie @Phil_Gahan @Chrisitv https://t.co/i...</td>\n",
       "      <td>Neutral</td>\n",
       "    </tr>\n",
       "    <tr>\n",
       "      <th>1</th>\n",
       "      <td>3800</td>\n",
       "      <td>48752</td>\n",
       "      <td>UK</td>\n",
       "      <td>16-03-2020</td>\n",
       "      <td>advice Talk to your neighbours family to excha...</td>\n",
       "      <td>Positive</td>\n",
       "    </tr>\n",
       "    <tr>\n",
       "      <th>2</th>\n",
       "      <td>3801</td>\n",
       "      <td>48753</td>\n",
       "      <td>Vagabonds</td>\n",
       "      <td>16-03-2020</td>\n",
       "      <td>Coronavirus Australia: Woolworths to give elde...</td>\n",
       "      <td>Positive</td>\n",
       "    </tr>\n",
       "    <tr>\n",
       "      <th>3</th>\n",
       "      <td>3802</td>\n",
       "      <td>48754</td>\n",
       "      <td>NaN</td>\n",
       "      <td>16-03-2020</td>\n",
       "      <td>My food stock is not the only one which is emp...</td>\n",
       "      <td>Positive</td>\n",
       "    </tr>\n",
       "    <tr>\n",
       "      <th>4</th>\n",
       "      <td>3803</td>\n",
       "      <td>48755</td>\n",
       "      <td>NaN</td>\n",
       "      <td>16-03-2020</td>\n",
       "      <td>Me, ready to go at supermarket during the #COV...</td>\n",
       "      <td>Extremely Negative</td>\n",
       "    </tr>\n",
       "  </tbody>\n",
       "</table>\n",
       "</div>"
      ],
      "text/plain": [
       "   UserName  ScreenName   Location     TweetAt  \\\n",
       "0      3799       48751     London  16-03-2020   \n",
       "1      3800       48752         UK  16-03-2020   \n",
       "2      3801       48753  Vagabonds  16-03-2020   \n",
       "3      3802       48754        NaN  16-03-2020   \n",
       "4      3803       48755        NaN  16-03-2020   \n",
       "\n",
       "                                       OriginalTweet           Sentiment  \n",
       "0  @MeNyrbie @Phil_Gahan @Chrisitv https://t.co/i...             Neutral  \n",
       "1  advice Talk to your neighbours family to excha...            Positive  \n",
       "2  Coronavirus Australia: Woolworths to give elde...            Positive  \n",
       "3  My food stock is not the only one which is emp...            Positive  \n",
       "4  Me, ready to go at supermarket during the #COV...  Extremely Negative  "
      ]
     },
     "execution_count": 4,
     "metadata": {},
     "output_type": "execute_result"
    }
   ],
   "source": [
    "train_data_pandas.head()"
   ]
  },
  {
   "cell_type": "markdown",
   "id": "2cc18ed5",
   "metadata": {},
   "source": [
    "<a name=\"4\"></a>\n",
    "## 4. Pre-procesamiento de datos"
   ]
  },
  {
   "cell_type": "markdown",
   "id": "55f705d5",
   "metadata": {},
   "source": [
    "<a name=\"4.1.\"></a>\n",
    "### 4.1. Datos faltantes"
   ]
  },
  {
   "cell_type": "code",
   "execution_count": 5,
   "id": "e27a2e6d",
   "metadata": {},
   "outputs": [
    {
     "name": "stdout",
     "output_type": "stream",
     "text": [
      "Datos faltantes train:\n",
      " UserName            0\n",
      "ScreenName          0\n",
      "Location         8590\n",
      "TweetAt             0\n",
      "OriginalTweet       0\n",
      "Sentiment           0\n",
      "dtype: int64 \n",
      "\n",
      "Datos faltantes test:\n",
      " UserName           0\n",
      "ScreenName         0\n",
      "Location         834\n",
      "TweetAt            0\n",
      "OriginalTweet      0\n",
      "Sentiment          0\n",
      "dtype: int64\n"
     ]
    }
   ],
   "source": [
    "print(f'Datos faltantes train:\\n {train_data_pandas.isnull().sum()} \\n')\n",
    "print(f'Datos faltantes test:\\n {test_data_pandas.isnull().sum()}')"
   ]
  },
  {
   "cell_type": "markdown",
   "id": "0cab1e77",
   "metadata": {},
   "source": [
    "Vemos que no hay datos faltantes en las columnas que nos interesan (OriginalTweet y Sentiment)."
   ]
  },
  {
   "cell_type": "markdown",
   "id": "ecf849bb",
   "metadata": {},
   "source": [
    "<a name=\"4.2\"></a>\n",
    "### 4.2. Datos categóricos \n",
    "\n",
    "Nos interesaremos en las columnas OriginalTweet y Sentiment; a su vez veremos las distintas opciones de esta última columna:"
   ]
  },
  {
   "cell_type": "code",
   "execution_count": 6,
   "id": "a07e94b1",
   "metadata": {},
   "outputs": [
    {
     "data": {
      "text/plain": [
       "array(['Neutral', 'Positive', 'Extremely Negative', 'Negative',\n",
       "       'Extremely Positive'], dtype=object)"
      ]
     },
     "execution_count": 6,
     "metadata": {},
     "output_type": "execute_result"
    }
   ],
   "source": [
    "train_data_pandas['Sentiment'].unique()"
   ]
  },
  {
   "cell_type": "markdown",
   "id": "ce5e5299",
   "metadata": {},
   "source": [
    "Convertiremos esta columna a valores numéricos; a su vez no nos interesa ser tan específicos respecto a si un sentimiento es postivo o extremadamente positivo, más bien distinguiremos entre positivo y negativo. Los neutrales los consideraremos positivos. "
   ]
  },
  {
   "cell_type": "code",
   "execution_count": 7,
   "id": "5bc1e9b6",
   "metadata": {},
   "outputs": [],
   "source": [
    "label_map = {'Extremely Negative':0,'Negative':0,'Neutral':1,'Positive':1,'Extremely Positive':1}\n",
    "train_data_pandas['Sentiment'] = train_data_pandas['Sentiment'].map(label_map)\n",
    "test_data_pandas['Sentiment'] = test_data_pandas['Sentiment'].map(label_map)"
   ]
  },
  {
   "cell_type": "markdown",
   "id": "b58eb476",
   "metadata": {},
   "source": [
    "Chequeamos"
   ]
  },
  {
   "cell_type": "code",
   "execution_count": 8,
   "id": "d725ef6a",
   "metadata": {},
   "outputs": [
    {
     "data": {
      "text/plain": [
       "array([1, 0])"
      ]
     },
     "execution_count": 8,
     "metadata": {},
     "output_type": "execute_result"
    }
   ],
   "source": [
    "train_data_pandas['Sentiment'].unique()"
   ]
  },
  {
   "cell_type": "markdown",
   "id": "11ab485e",
   "metadata": {},
   "source": [
    "<a name=\"4.3\"></a>\n",
    "### 4.3.  Balanceo de clases\n",
    "\n",
    "Veamos si las clases están balanceadas."
   ]
  },
  {
   "cell_type": "code",
   "execution_count": 9,
   "id": "db59aa35",
   "metadata": {},
   "outputs": [
    {
     "data": {
      "text/plain": [
       "1    25759\n",
       "0    15398\n",
       "Name: Sentiment, dtype: int64"
      ]
     },
     "execution_count": 9,
     "metadata": {},
     "output_type": "execute_result"
    }
   ],
   "source": [
    "train_data_pandas['Sentiment'].value_counts()"
   ]
  },
  {
   "cell_type": "code",
   "execution_count": 10,
   "id": "c58118f9",
   "metadata": {},
   "outputs": [
    {
     "data": {
      "text/plain": [
       "0.625871662171684"
      ]
     },
     "execution_count": 10,
     "metadata": {},
     "output_type": "execute_result"
    }
   ],
   "source": [
    "25759/(25759+15398)"
   ]
  },
  {
   "cell_type": "markdown",
   "id": "38c3636a",
   "metadata": {},
   "source": [
    "Tenemos un desbalance moderado."
   ]
  },
  {
   "cell_type": "markdown",
   "id": "c0baa4bd",
   "metadata": {},
   "source": [
    "<a name=\"4.4\"> </a>\n",
    "### 4.4. Pre-procesamiento especial para NLP\n",
    "\n",
    "Vamos a pe-procesar el texto de OriginalTweet, para ello:\n",
    "\n",
    "\n",
    "- Quitaremos las stop-words\n",
    "- Quitaremos algunos caracteres especiales, como \"@\"\n",
    "- Aplicaremos Lemmatization\n",
    "\n",
    "\n",
    "<b>Nota:</b> Habría que quitar también las puntuaciones, llevar todo a minúscula y tokenizar, pero eso lo haremos luego con TextVectorization.\n",
    "\n",
    "Descargaremos e imprimiremos para ver las stop words:"
   ]
  },
  {
   "cell_type": "code",
   "execution_count": 11,
   "id": "063ff6f1",
   "metadata": {},
   "outputs": [
    {
     "name": "stdout",
     "output_type": "stream",
     "text": [
      "['i', 'me', 'my', 'myself', 'we', 'our', 'ours', 'ourselves', 'you', \"you're\", \"you've\", \"you'll\", \"you'd\", 'your', 'yours', 'yourself', 'yourselves', 'he', 'him', 'his', 'himself', 'she', \"she's\", 'her', 'hers', 'herself', 'it', \"it's\", 'its', 'itself', 'they', 'them', 'their', 'theirs', 'themselves', 'what', 'which', 'who', 'whom', 'this', 'that', \"that'll\", 'these', 'those', 'am', 'is', 'are', 'was', 'were', 'be', 'been', 'being', 'have', 'has', 'had', 'having', 'do', 'does', 'did', 'doing', 'a', 'an', 'the', 'and', 'but', 'if', 'or', 'because', 'as', 'until', 'while', 'of', 'at', 'by', 'for', 'with', 'about', 'against', 'between', 'into', 'through', 'during', 'before', 'after', 'above', 'below', 'to', 'from', 'up', 'down', 'in', 'out', 'on', 'off', 'over', 'under', 'again', 'further', 'then', 'once', 'here', 'there', 'when', 'where', 'why', 'how', 'all', 'any', 'both', 'each', 'few', 'more', 'most', 'other', 'some', 'such', 'no', 'nor', 'not', 'only', 'own', 'same', 'so', 'than', 'too', 'very', 's', 't', 'can', 'will', 'just', 'don', \"don't\", 'should', \"should've\", 'now', 'd', 'll', 'm', 'o', 're', 've', 'y', 'ain', 'aren', \"aren't\", 'couldn', \"couldn't\", 'didn', \"didn't\", 'doesn', \"doesn't\", 'hadn', \"hadn't\", 'hasn', \"hasn't\", 'haven', \"haven't\", 'isn', \"isn't\", 'ma', 'mightn', \"mightn't\", 'mustn', \"mustn't\", 'needn', \"needn't\", 'shan', \"shan't\", 'shouldn', \"shouldn't\", 'wasn', \"wasn't\", 'weren', \"weren't\", 'won', \"won't\", 'wouldn', \"wouldn't\"]\n"
     ]
    },
    {
     "name": "stderr",
     "output_type": "stream",
     "text": [
      "[nltk_data] Downloading package stopwords to /home/marcos/nltk_data...\n",
      "[nltk_data]   Package stopwords is already up-to-date!\n"
     ]
    }
   ],
   "source": [
    "nltk.download('stopwords')\n",
    "# View stopwords\n",
    "print(stopwords.words('english'))"
   ]
  },
  {
   "cell_type": "markdown",
   "id": "09fb2995",
   "metadata": {},
   "source": [
    "También necesitaremos \"punkt\" y \"wordnet\":"
   ]
  },
  {
   "cell_type": "code",
   "execution_count": 12,
   "id": "eb42d306",
   "metadata": {},
   "outputs": [
    {
     "name": "stderr",
     "output_type": "stream",
     "text": [
      "[nltk_data] Downloading package punkt to /home/marcos/nltk_data...\n",
      "[nltk_data]   Package punkt is already up-to-date!\n",
      "[nltk_data] Downloading package wordnet to /home/marcos/nltk_data...\n",
      "[nltk_data]   Package wordnet is already up-to-date!\n"
     ]
    },
    {
     "data": {
      "text/plain": [
       "True"
      ]
     },
     "execution_count": 12,
     "metadata": {},
     "output_type": "execute_result"
    }
   ],
   "source": [
    "nltk.download('punkt')\n",
    "nltk.download('wordnet')"
   ]
  },
  {
   "cell_type": "markdown",
   "id": "8742b9e5",
   "metadata": {},
   "source": [
    "Quitamos las stop words y aplicaremos la lematización:"
   ]
  },
  {
   "cell_type": "code",
   "execution_count": 13,
   "id": "07e4e80b",
   "metadata": {},
   "outputs": [],
   "source": [
    "# Inicializar lematizador\n",
    "lemmatizer = WordNetLemmatizer()\n",
    "\n",
    "# stop words\n",
    "stop_words = set(stopwords.words('english'))\n",
    "\n",
    "# Función para quitar palabras de parada y lematizar un texto\n",
    "def preprocess_text(text):\n",
    "    words = word_tokenize(text)\n",
    "    filtered_words = [lemmatizer.lemmatize(word.lower()) for word in words if word.lower() not in stop_words]\n",
    "    return ' '.join(filtered_words)\n",
    "\n",
    "# Aplicar la función a la columna 'OriginalTweet' del dataset, tanto en train como test\n",
    "train_data_pandas['OriginalTweet'] = train_data_pandas['OriginalTweet'].apply(preprocess_text)\n",
    "test_data_pandas['OriginalTweet'] = test_data_pandas['OriginalTweet'].apply(preprocess_text)"
   ]
  },
  {
   "cell_type": "markdown",
   "id": "8a03ef59",
   "metadata": {},
   "source": [
    "Además vamos a eliminar caracteres especiales, como @ y # (nos quedaremos con otros, como \"!\", pues pueden ser importantes para el significado)."
   ]
  },
  {
   "cell_type": "code",
   "execution_count": 14,
   "id": "f7dec991",
   "metadata": {},
   "outputs": [],
   "source": [
    "# Eliminar arrobas en direcciones de correo electrónico o menciones\n",
    "def preprocess_text2(text):\n",
    "    return re.sub(r'[@#]', '', text) #&\n",
    "\n",
    "# lo aplicamos\n",
    "train_data_pandas['OriginalTweet'] = train_data_pandas['OriginalTweet'].apply(preprocess_text2)\n",
    "test_data_pandas['OriginalTweet'] = test_data_pandas['OriginalTweet'].apply(preprocess_text2)"
   ]
  },
  {
   "cell_type": "markdown",
   "id": "ec2d04cb",
   "metadata": {},
   "source": [
    "Veamos cómo quedaron los datos:"
   ]
  },
  {
   "cell_type": "code",
   "execution_count": 15,
   "id": "035411d8",
   "metadata": {},
   "outputs": [
    {
     "data": {
      "text/plain": [
       "0         menyrbie  phil_gahan  chrisitv http : //t.co/...\n",
       "1        advice talk neighbour family exchange phone nu...\n",
       "2        coronavirus australia : woolworth give elderly...\n",
       "3        food stock one empty ... please , n't panic , ...\n",
       "4        , ready go supermarket  covid19 outbreak . 'm ...\n",
       "                               ...                        \n",
       "41152    airline pilot offering stock supermarket shelf...\n",
       "41153    response complaint provided citing covid-19 re...\n",
       "41154    know itâs getting tough  kameronwilds rationi...\n",
       "41155    wrong smell hand sanitizer starting turn ?  co...\n",
       "41156     tartiicat well new/used rift going $ 700.00 a...\n",
       "Name: OriginalTweet, Length: 41157, dtype: object"
      ]
     },
     "execution_count": 15,
     "metadata": {},
     "output_type": "execute_result"
    }
   ],
   "source": [
    "train_data_pandas['OriginalTweet']"
   ]
  },
  {
   "cell_type": "markdown",
   "id": "29455bc6",
   "metadata": {},
   "source": [
    "#### Dividimos en train/val"
   ]
  },
  {
   "cell_type": "code",
   "execution_count": 16,
   "id": "3ad75c1c",
   "metadata": {},
   "outputs": [],
   "source": [
    "# Dividir los datos en conjuntos de entrenamiento y validación\n",
    "train_data, val_data = train_test_split(train_data_pandas, test_size=0.2, random_state=42)\n"
   ]
  },
  {
   "cell_type": "markdown",
   "id": "825dfbcf",
   "metadata": {},
   "source": [
    "#### Vamos ahora a crear los datasets para trabajar con tensorflow"
   ]
  },
  {
   "cell_type": "code",
   "execution_count": 17,
   "id": "2756717b",
   "metadata": {},
   "outputs": [],
   "source": [
    "# Cargar el DataFrame de pandas en un objeto tf.data.Dataset\n",
    "# armo según lo que me interesa\n",
    "train_dataset = tf.data.Dataset.from_tensor_slices((train_data['OriginalTweet'].values, \n",
    "                                              train_data['Sentiment'].values))\n",
    "\n",
    "\n",
    "\n",
    "validation_dataset = tf.data.Dataset.from_tensor_slices((val_data['OriginalTweet'].values, \n",
    "                                              val_data['Sentiment'].values))\n",
    "\n"
   ]
  },
  {
   "cell_type": "code",
   "execution_count": 18,
   "id": "6c3d0630",
   "metadata": {},
   "outputs": [
    {
     "name": "stdout",
     "output_type": "stream",
     "text": [
      "text:  b'unemployment claim made online virginia week : monday : 426 tuesday : 2,150 number going get bigger . http : //t.co/fueg2rl2dl'\n",
      "label:  0\n"
     ]
    }
   ],
   "source": [
    "# veo un dato de train y uno de test\n",
    "for example, label in train_dataset.take(1):\n",
    "  print('text: ', example.numpy())\n",
    "  print('label: ', label.numpy())\n",
    "    "
   ]
  },
  {
   "cell_type": "code",
   "execution_count": 19,
   "id": "a6ae9b01",
   "metadata": {},
   "outputs": [],
   "source": [
    "# Repetimos para test\n",
    "\n",
    "# Cargar el DataFrame de pandas en un objeto tf.data.Dataset\n",
    "test_dataset = tf.data.Dataset.from_tensor_slices((test_data_pandas['OriginalTweet'].values, \n",
    "                                                   test_data_pandas['Sentiment'].values))"
   ]
  },
  {
   "cell_type": "markdown",
   "id": "3b7f9381",
   "metadata": {},
   "source": [
    "Definimos el tamaño del buffer y del lote:"
   ]
  },
  {
   "cell_type": "code",
   "execution_count": 20,
   "id": "130c6023",
   "metadata": {},
   "outputs": [],
   "source": [
    "BUFFER_SIZE = 10000\n",
    "BATCH_SIZE = 64"
   ]
  },
  {
   "cell_type": "code",
   "execution_count": 21,
   "id": "f050ed90",
   "metadata": {},
   "outputs": [],
   "source": [
    "train_dataset = train_dataset.shuffle(BUFFER_SIZE).batch(BATCH_SIZE).prefetch(tf.data.AUTOTUNE)\n",
    "validation_dataset = validation_dataset.shuffle(BUFFER_SIZE).batch(BATCH_SIZE).prefetch(tf.data.AUTOTUNE)\n",
    "test_dataset = test_dataset.batch(BATCH_SIZE).prefetch(tf.data.AUTOTUNE)"
   ]
  },
  {
   "cell_type": "markdown",
   "id": "a5d07a18",
   "metadata": {},
   "source": [
    "Veamos algunos ejemplos y sus etiquetas"
   ]
  },
  {
   "cell_type": "code",
   "execution_count": 22,
   "id": "e3547c95",
   "metadata": {},
   "outputs": [
    {
     "name": "stdout",
     "output_type": "stream",
     "text": [
      "texts:  [b'make hand sanitizer home -tips 4u http : //t.co/ngvmozm0y1 via  youtube  handsanitizer  sanitizer  coronavirus  like4likes  homemadesanitizer'\n",
      " b\" maxberger  daiyoukaigeisha  daneuntamed  cancelstudentdebt well-targeted $ 1.6t . path circumventing . 's trojan horse ! proposal 2 lump w/ consumer debt . n't . 's tax . proposal rebuild economy post-\"\n",
      " b\"turkish woman inviting ppl travel turkey private airplane extreme price ofcourse ! ppl like putting others danger money although travelling band ppl n't care !  coronavirus  bbcbreaking http : //t.co/tdzqpskpfr\"]\n",
      "\n",
      "labels: , [1 0 1]\n"
     ]
    }
   ],
   "source": [
    "for example, label in train_dataset.take(1):\n",
    "  print(f'texts:  {example.numpy()[:3]}\\n')\n",
    "  print(f'labels: , {label.numpy()[:3]}')"
   ]
  },
  {
   "cell_type": "markdown",
   "id": "40570385",
   "metadata": {},
   "source": [
    "Ahora crearemos y aplicaremos una capa llamada <a href=\"https://www.tensorflow.org/api_docs/python/tf/keras/layers/TextVectorization\" target='_blanck'>TextVectorization</a>, que quitará las puntuaciones, pasará todo a minúsculas y tokenizará:"
   ]
  },
  {
   "cell_type": "code",
   "execution_count": 23,
   "id": "ddb36375",
   "metadata": {},
   "outputs": [],
   "source": [
    "VOCAB_SIZE = 10000\n",
    "max_length = 45 # max length our sequences will be (e.g. how many words from a Tweet does a model see?)\n",
    "\n",
    "\n",
    "encoder = tf.keras.layers.TextVectorization(max_tokens=VOCAB_SIZE,\n",
    "                                    output_mode=\"int\")\n",
    "                                    #output_sequence_length=max_length)\n",
    "\n",
    "# Fit the text vectorizer instance to the training data using the adapt() method\n",
    "encoder.adapt(train_dataset.map(lambda text, label: text))\n"
   ]
  },
  {
   "cell_type": "markdown",
   "id": "ee364817",
   "metadata": {},
   "source": [
    "A continuación se muestran los primeros 20 tokens:"
   ]
  },
  {
   "cell_type": "code",
   "execution_count": 24,
   "id": "ada68128",
   "metadata": {},
   "outputs": [
    {
     "data": {
      "text/plain": [
       "array(['', '[UNK]', 'http', 'coronavirus', 'covid19', 'price', 'store',\n",
       "       'supermarket', 'food', 'grocery', 'people', 'amp', 'consumer',\n",
       "       '19', 'covid', 'shopping', 's', 'online', 'need', 'time'],\n",
       "      dtype='<U27')"
      ]
     },
     "execution_count": 24,
     "metadata": {},
     "output_type": "execute_result"
    }
   ],
   "source": [
    "vocab = np.array(encoder.get_vocabulary())\n",
    "vocab[:20]"
   ]
  },
  {
   "cell_type": "markdown",
   "id": "540d7f75",
   "metadata": {},
   "source": [
    "Ahora que el vocabulario está configurado, la capa puede codificar el texto en índices. Los tensores de índices son rellenados con 0s para que tengan el tamaño de la secuencia más larga en el lote.\n",
    "\n",
    "Veamos un ejemplo"
   ]
  },
  {
   "cell_type": "code",
   "execution_count": 25,
   "id": "c80a2ded",
   "metadata": {},
   "outputs": [
    {
     "data": {
      "text/plain": [
       "array([[  54,   24,   30,   28,    1,    1,    2,    1,   65,  949,  551,\n",
       "          30,    3,    1,    1,    0,    0,    0,    0,    0,    0,    0,\n",
       "           0,    0,    0,    0,    0,    0,    0,    0,    0,    0,    0],\n",
       "       [   1,    1,    1,    1,    1,    1, 3524,    1,   16,    1, 6202,\n",
       "        2843,   71, 8337,  493,   12,  835,   26,   16,  771, 2843,    1,\n",
       "         134,  239,    0,    0,    0,    0,    0,    0,    0,    0,    0],\n",
       "       [7151,  381, 5713,  617,  345, 2415, 1145, 8838, 1846,    5,    1,\n",
       "         617,   29,  424,  192, 1690,  151, 2091, 4896, 3874,  617,   26,\n",
       "         161,    3, 6388,    2,    1,    0,    0,    0,    0,    0,    0]])"
      ]
     },
     "execution_count": 25,
     "metadata": {},
     "output_type": "execute_result"
    }
   ],
   "source": [
    "encoded_example = encoder(example)[:3].numpy()\n",
    "encoded_example"
   ]
  },
  {
   "cell_type": "markdown",
   "id": "3741a6cf",
   "metadata": {},
   "source": [
    "Vemos que rellena con 0s hasta tener siempre un largo de 45.\n",
    "\n",
    "Con esta configuración, el proceso no es completamente reversible (no hay un mapeo uno a uno)"
   ]
  },
  {
   "cell_type": "code",
   "execution_count": 26,
   "id": "5d873bce",
   "metadata": {},
   "outputs": [
    {
     "name": "stdout",
     "output_type": "stream",
     "text": [
      "Original:  b'make hand sanitizer home -tips 4u http : //t.co/ngvmozm0y1 via  youtube  handsanitizer  sanitizer  coronavirus  like4likes  homemadesanitizer'\n",
      "Round-trip:  make hand sanitizer home [UNK] [UNK] http [UNK] via youtube handsanitizer sanitizer coronavirus [UNK] [UNK]                  \n",
      "\n",
      "Original:  b\" maxberger  daiyoukaigeisha  daneuntamed  cancelstudentdebt well-targeted $ 1.6t . path circumventing . 's trojan horse ! proposal 2 lump w/ consumer debt . n't . 's tax . proposal rebuild economy post-\"\n",
      "Round-trip:  [UNK] [UNK] [UNK] [UNK] [UNK] [UNK] path [UNK] s [UNK] horse proposal 2 lump w consumer debt nt s tax proposal [UNK] economy post         \n",
      "\n",
      "Original:  b\"turkish woman inviting ppl travel turkey private airplane extreme price ofcourse ! ppl like putting others danger money although travelling band ppl n't care !  coronavirus  bbcbreaking http : //t.co/tdzqpskpfr\"\n",
      "Round-trip:  turkish woman inviting ppl travel turkey private airplane extreme price [UNK] ppl like putting others danger money although travelling band ppl nt care coronavirus bbcbreaking http [UNK]      \n",
      "\n"
     ]
    }
   ],
   "source": [
    "for n in range(3):\n",
    "  print(\"Original: \", example[n].numpy())\n",
    "  print(\"Round-trip: \", \" \".join(vocab[encoded_example[n]]))\n",
    "  print()"
   ]
  },
  {
   "cell_type": "markdown",
   "id": "4af48ea7",
   "metadata": {},
   "source": [
    "Puede observarse que hay muchos tokens desconocidos ([UNK])"
   ]
  },
  {
   "cell_type": "markdown",
   "id": "7bbbdb90",
   "metadata": {},
   "source": [
    "Finalmente, aplicaremos una capa de embedding."
   ]
  },
  {
   "cell_type": "code",
   "execution_count": 27,
   "id": "a9a0f1c2",
   "metadata": {},
   "outputs": [
    {
     "data": {
      "text/plain": [
       "<keras.layers.core.embedding.Embedding at 0x7f041899baf0>"
      ]
     },
     "execution_count": 27,
     "metadata": {},
     "output_type": "execute_result"
    }
   ],
   "source": [
    "\n",
    "embedding = tf.keras.layers.Embedding(input_dim=VOCAB_SIZE, # set the input shape; size of our vocabulary\n",
    "                                 output_dim=128, # set the size of the embedding vector\n",
    "                                 embeddings_initializer=\"uniform\", # default, initialize embedding vectors randomly\n",
    "                                 input_length=max_length # how long is each input\n",
    "                             )\n",
    "\n",
    "embedding"
   ]
  },
  {
   "cell_type": "markdown",
   "id": "dbf581ab",
   "metadata": {},
   "source": [
    "<a name=\"5\"> </a>\n",
    "## MODELOS\n",
    "\n",
    "Probaremos distinos modelos.\n"
   ]
  },
  {
   "cell_type": "code",
   "execution_count": 28,
   "id": "eb67012f",
   "metadata": {},
   "outputs": [],
   "source": [
    "tf.random.set_seed(42)"
   ]
  },
  {
   "cell_type": "code",
   "execution_count": 29,
   "id": "c1eecc5e",
   "metadata": {},
   "outputs": [],
   "source": [
    "# para guardar los resultados y comparar después\n",
    "\n",
    "results = []\n"
   ]
  },
  {
   "cell_type": "code",
   "execution_count": 30,
   "id": "41080333",
   "metadata": {},
   "outputs": [],
   "source": [
    "INPUT_SHAPE=(1,)"
   ]
  },
  {
   "cell_type": "markdown",
   "id": "9ee0fc1b",
   "metadata": {},
   "source": [
    "<a name=\"5.1\"> </a>\n",
    "### Modelo 1"
   ]
  },
  {
   "cell_type": "code",
   "execution_count": 31,
   "id": "a1bcc6c4",
   "metadata": {},
   "outputs": [],
   "source": [
    "\n",
    "def build_model_1(input_shape,name):\n",
    "    inputs = layers.Input(shape=input_shape, dtype=tf.string) # inputs are 1-dimensional strings\n",
    "    x = encoder(inputs) # turn the input text into numbers \n",
    "    x = embedding(x)\n",
    "    x = tf.keras.layers.GlobalAveragePooling1D()(x)\n",
    "    outputs = tf.keras.layers.Dense(1, activation=\"sigmoid\")(x)\n",
    "    model = tf.keras.Model(inputs, outputs, name=name) # construct the model\n",
    "    return model\n",
    "\n",
    "\n",
    "model_1 = build_model_1(INPUT_SHAPE,'model_1')\n",
    "\n"
   ]
  },
  {
   "cell_type": "code",
   "execution_count": 32,
   "id": "74dadf10",
   "metadata": {},
   "outputs": [
    {
     "name": "stdout",
     "output_type": "stream",
     "text": [
      "Model: \"model_1\"\n",
      "_________________________________________________________________\n",
      " Layer (type)                Output Shape              Param #   \n",
      "=================================================================\n",
      " input_1 (InputLayer)        [(None, 1)]               0         \n",
      "                                                                 \n",
      " text_vectorization (TextVec  (None, None)             0         \n",
      " torization)                                                     \n",
      "                                                                 \n",
      " embedding (Embedding)       (None, None, 128)         1280000   \n",
      "                                                                 \n",
      " global_average_pooling1d (G  (None, 128)              0         \n",
      " lobalAveragePooling1D)                                          \n",
      "                                                                 \n",
      " dense (Dense)               (None, 1)                 129       \n",
      "                                                                 \n",
      "=================================================================\n",
      "Total params: 1,280,129\n",
      "Trainable params: 1,280,129\n",
      "Non-trainable params: 0\n",
      "_________________________________________________________________\n"
     ]
    }
   ],
   "source": [
    "model_1.summary()"
   ]
  },
  {
   "cell_type": "code",
   "execution_count": 33,
   "id": "acacf449",
   "metadata": {},
   "outputs": [
    {
     "name": "stdout",
     "output_type": "stream",
     "text": [
      "Epoch 1/5\n",
      "515/515 [==============================] - 12s 21ms/step - loss: 0.5817 - accuracy: 0.6867 - precision: 0.6740 - recall: 0.9665 - val_loss: 0.4892 - val_accuracy: 0.7663 - val_precision: 0.7559 - val_recall: 0.9273\n",
      "Epoch 2/5\n",
      "515/515 [==============================] - 11s 22ms/step - loss: 0.4091 - accuracy: 0.8268 - precision: 0.8168 - recall: 0.9321 - val_loss: 0.4017 - val_accuracy: 0.8243 - val_precision: 0.8152 - val_recall: 0.9315\n",
      "Epoch 3/5\n",
      "515/515 [==============================] - 12s 23ms/step - loss: 0.3190 - accuracy: 0.8765 - precision: 0.8731 - recall: 0.9390 - val_loss: 0.3697 - val_accuracy: 0.8486 - val_precision: 0.8528 - val_recall: 0.9174\n",
      "Epoch 4/5\n",
      "515/515 [==============================] - 11s 22ms/step - loss: 0.2711 - accuracy: 0.8983 - precision: 0.8981 - recall: 0.9445 - val_loss: 0.3656 - val_accuracy: 0.8540 - val_precision: 0.8613 - val_recall: 0.9149\n",
      "Epoch 5/5\n",
      "515/515 [==============================] - 12s 23ms/step - loss: 0.2407 - accuracy: 0.9126 - precision: 0.9141 - recall: 0.9494 - val_loss: 0.3685 - val_accuracy: 0.8520 - val_precision: 0.8589 - val_recall: 0.9147\n"
     ]
    }
   ],
   "source": [
    "# Compile model\n",
    "model_1.compile(loss=\"binary_crossentropy\",\n",
    "                optimizer=tf.keras.optimizers.Adam(),\n",
    "                metrics=['accuracy', 'Precision','Recall'])\n",
    "\n",
    "# Fit the model\n",
    "history_1 = model_1.fit(train_dataset,\n",
    "                        epochs=5,\n",
    "                        validation_data=validation_dataset)\n",
    "                        #callbacks=[create_tensorboard_callback(dir_name=SAVE_DIR,\n",
    "                        #                                       experiment_name=\"model_1_dense\")])"
   ]
  },
  {
   "cell_type": "code",
   "execution_count": 34,
   "id": "06393ed0",
   "metadata": {},
   "outputs": [
    {
     "name": "stdout",
     "output_type": "stream",
     "text": [
      "60/60 [==============================] - 0s 2ms/step - loss: 0.4131 - accuracy: 0.8231 - precision: 0.8107 - recall: 0.8998\n"
     ]
    }
   ],
   "source": [
    "# evaluate\n",
    "score1 = model_1.evaluate(test_dataset)"
   ]
  },
  {
   "cell_type": "code",
   "execution_count": 73,
   "id": "d592ce56",
   "metadata": {},
   "outputs": [
    {
     "data": {
      "text/plain": [
       "'La precisión fue 81.0%, la precisión del 82.0% y el recall de 86.0%'"
      ]
     },
     "execution_count": 73,
     "metadata": {},
     "output_type": "execute_result"
    }
   ],
   "source": [
    "f\"La precisión fue {round(score1[1],2)*100}%, la precisión del {round(score1[2],2)*100}% y el recall de {round(score1[3],2)*100}%\""
   ]
  },
  {
   "cell_type": "markdown",
   "id": "1f27c720",
   "metadata": {},
   "source": [
    "Guardamos los resultados para poder comparar después\n"
   ]
  },
  {
   "cell_type": "code",
   "execution_count": 121,
   "id": "f2baf67b",
   "metadata": {},
   "outputs": [],
   "source": [
    "\n",
    "model_1_results = {\n",
    "    'name': 'Model 1',\n",
    "    'accuracy':score1[1],\n",
    "    'precision':score1[2],\n",
    "    'recall':score1[3],\n",
    "    'f1-score': (2*(score1[2]*score1[3]))/(score1[2]+score1[3])\n",
    "}\n",
    "\n",
    "\n",
    "results.append(model_1_results)\n"
   ]
  },
  {
   "cell_type": "markdown",
   "id": "b232260e",
   "metadata": {},
   "source": [
    "#### Predicciones"
   ]
  },
  {
   "cell_type": "code",
   "execution_count": 122,
   "id": "bcfc3a5e",
   "metadata": {},
   "outputs": [
    {
     "name": "stdout",
     "output_type": "stream",
     "text": [
      "1/1 [==============================] - 0s 76ms/step\n",
      "pred: [[0.96849597]]\n",
      "Predicción: 1\n"
     ]
    }
   ],
   "source": [
    "\"\"\"\n",
    "En la inferencia, la entrada debe pasar previamente por el pre-procesamiento (en este ejemplo\n",
    "por preprocess_text y pre-process_text2); no hace falta que pase por las caspas de text vectorization\n",
    "y embedding pues son parte del modelo\n",
    "\"\"\"\n",
    "\n",
    "\n",
    "# Texto de entrada para hacer una predicción\n",
    "input_text = \"this is very, very positive\"\n",
    "\n",
    "\n",
    "# pre-procesamiento\n",
    "input_text = preprocess_text(input_text)\n",
    "input_text = preprocess_text2(input_text)\n",
    "\n",
    "\n",
    "# predicción\n",
    "pred = model_1.predict(np.array([input_text]))\n",
    "\n",
    "print(f\"pred: {pred}\")\n",
    "\n",
    "\n",
    "# Convertir la salida a una predicción binaria (0 o 1)\n",
    "binary_prediction = 1 if pred[0, 0] > 0.5 else 0\n",
    "\n",
    "# Imprimir la predicción\n",
    "print(\"Predicción:\", binary_prediction)\n",
    "\n",
    "\n"
   ]
  },
  {
   "cell_type": "markdown",
   "id": "8d7c541a",
   "metadata": {},
   "source": [
    "<a name=\"5.2\"> </a>\n",
    "### Modelo 2 : LSTM\n"
   ]
  },
  {
   "cell_type": "markdown",
   "id": "7d5253b3",
   "metadata": {},
   "source": [
    "Arquitectura típica de una RNN:\n",
    "\n",
    "\n",
    "\n",
    "<img src=\"images/arq.png\" width=80%>\n",
    "\n",
    "\n",
    "\n",
    "\n"
   ]
  },
  {
   "cell_type": "code",
   "execution_count": 81,
   "id": "2cc37e23",
   "metadata": {},
   "outputs": [
    {
     "name": "stdout",
     "output_type": "stream",
     "text": [
      "After embedding: (None, 45, 128)\n",
      "After LSTM cell: (None, 64)\n"
     ]
    }
   ],
   "source": [
    "def build_model_2(input_shape):\n",
    "    inputs = layers.Input(shape=input_shape, dtype=\"string\")\n",
    "    x = encoder(inputs) # text vectorizer\n",
    "    x = embedding(x)\n",
    "    print(f\"After embedding: {x.shape}\")\n",
    "    x = layers.LSTM(64, activation=\"tanh\")(x)\n",
    "    print(f\"After LSTM cell: {x.shape}\")\n",
    "    x = layers.Dropout(0.5)(x) \n",
    "    x = layers.Dense(64, activation=\"relu\")(x) # optional dense layer to have on top of LSTM layer\n",
    "    outputs = layers.Dense(1, activation=\"sigmoid\")(x)\n",
    "    model = tf.keras.Model(inputs, outputs, name=\"model_2_LSTM\")\n",
    "    return model\n",
    "    \n",
    "\n",
    "model_2 = build_model_2(INPUT_SHAPE)\n",
    "    \n"
   ]
  },
  {
   "cell_type": "code",
   "execution_count": 82,
   "id": "d4ba0a76",
   "metadata": {},
   "outputs": [
    {
     "name": "stdout",
     "output_type": "stream",
     "text": [
      "Model: \"model_2_LSTM\"\n",
      "_________________________________________________________________\n",
      " Layer (type)                Output Shape              Param #   \n",
      "=================================================================\n",
      " input_7 (InputLayer)        [(None, 1)]               0         \n",
      "                                                                 \n",
      " text_vectorization_1 (TextV  (None, 45)               0         \n",
      " ectorization)                                                   \n",
      "                                                                 \n",
      " embedding_1 (Embedding)     (None, 45, 128)           1280000   \n",
      "                                                                 \n",
      " lstm_2 (LSTM)               (None, 64)                49408     \n",
      "                                                                 \n",
      " dropout (Dropout)           (None, 64)                0         \n",
      "                                                                 \n",
      " dense_8 (Dense)             (None, 64)                4160      \n",
      "                                                                 \n",
      " dense_9 (Dense)             (None, 1)                 65        \n",
      "                                                                 \n",
      "=================================================================\n",
      "Total params: 1,333,633\n",
      "Trainable params: 1,333,633\n",
      "Non-trainable params: 0\n",
      "_________________________________________________________________\n"
     ]
    }
   ],
   "source": [
    "model_2.summary()"
   ]
  },
  {
   "cell_type": "code",
   "execution_count": 83,
   "id": "2607dd97",
   "metadata": {},
   "outputs": [
    {
     "name": "stdout",
     "output_type": "stream",
     "text": [
      "Epoch 1/5\n",
      "515/515 [==============================] - 22s 39ms/step - loss: 0.2516 - accuracy: 0.9072 - precision: 0.9235 - recall: 0.9286 - val_loss: 0.6357 - val_accuracy: 0.8240 - val_precision: 0.8563 - val_recall: 0.8648\n",
      "Epoch 2/5\n",
      "515/515 [==============================] - 20s 40ms/step - loss: 0.1208 - accuracy: 0.9592 - precision: 0.9669 - recall: 0.9678 - val_loss: 0.6326 - val_accuracy: 0.8299 - val_precision: 0.8393 - val_recall: 0.9019\n",
      "Epoch 3/5\n",
      "515/515 [==============================] - 20s 39ms/step - loss: 0.1122 - accuracy: 0.9627 - precision: 0.9692 - recall: 0.9711 - val_loss: 0.6361 - val_accuracy: 0.8240 - val_precision: 0.8686 - val_recall: 0.8480\n",
      "Epoch 4/5\n",
      "515/515 [==============================] - 19s 36ms/step - loss: 0.1106 - accuracy: 0.9634 - precision: 0.9696 - recall: 0.9720 - val_loss: 0.6306 - val_accuracy: 0.8246 - val_precision: 0.8350 - val_recall: 0.8983\n",
      "Epoch 5/5\n",
      "515/515 [==============================] - 19s 36ms/step - loss: 0.0996 - accuracy: 0.9672 - precision: 0.9728 - recall: 0.9748 - val_loss: 0.6793 - val_accuracy: 0.8259 - val_precision: 0.8649 - val_recall: 0.8567\n"
     ]
    }
   ],
   "source": [
    "# Compile model\n",
    "model_2.compile(loss=\"binary_crossentropy\",\n",
    "                optimizer=tf.keras.optimizers.Adam(),\n",
    "                metrics=['accuracy', 'Precision','Recall'])\n",
    "\n",
    "# Fit the model\n",
    "history_2 = model_2.fit(train_dataset,\n",
    "                        epochs=5,\n",
    "                        validation_data=validation_dataset)"
   ]
  },
  {
   "cell_type": "code",
   "execution_count": 126,
   "id": "79bdbe56",
   "metadata": {},
   "outputs": [
    {
     "name": "stdout",
     "output_type": "stream",
     "text": [
      "60/60 [==============================] - 1s 9ms/step - loss: 0.6605 - accuracy: 0.8212 - precision: 0.8253 - recall: 0.8707\n"
     ]
    }
   ],
   "source": [
    "# evaluate\n",
    "score2 = model_2.evaluate(test_dataset)"
   ]
  },
  {
   "cell_type": "code",
   "execution_count": 127,
   "id": "d0b91c1c",
   "metadata": {},
   "outputs": [],
   "source": [
    "model_2_results = {\n",
    "    'name': 'Model 2',\n",
    "    'accuracy':score2[1],\n",
    "    'precision':score2[2],\n",
    "    'recall':score2[3],\n",
    "    'f1-score': (2*(score2[2]*score2[3]))/(score2[2]+score2[3])\n",
    "}\n",
    "\n",
    "\n",
    "results.append(model_2_results)\n"
   ]
  },
  {
   "cell_type": "markdown",
   "id": "a8c3230a",
   "metadata": {},
   "source": [
    "<a name=\"5.3\"> </a>\n",
    "### Modelo 3 : GRU"
   ]
  },
  {
   "cell_type": "code",
   "execution_count": 128,
   "id": "4e9fec95",
   "metadata": {},
   "outputs": [],
   "source": [
    "def build_model_3(input_shape):\n",
    "    # Build an RNN using the GRU cell\n",
    "    inputs = layers.Input(shape=(1,), dtype=\"string\")\n",
    "    x = encoder(inputs)\n",
    "    x = embedding(x)\n",
    "    x = layers.GRU(64, activation=\"tanh\")(x)\n",
    "    x = layers.Dense(64, activation=\"relu\")(x)\n",
    "    outputs = layers.Dense(1, activation=\"sigmoid\")(x)\n",
    "    model= tf.keras.Model(inputs, outputs, name=\"model_3_GRU\")\n",
    "    return model\n",
    "\n",
    "\n",
    "model_3 = build_model_3(INPUT_SHAPE)\n"
   ]
  },
  {
   "cell_type": "code",
   "execution_count": 129,
   "id": "1d269a4f",
   "metadata": {},
   "outputs": [
    {
     "name": "stdout",
     "output_type": "stream",
     "text": [
      "Epoch 1/5\n",
      "515/515 [==============================] - 20s 35ms/step - loss: 0.3153 - accuracy: 0.8508 - precision: 0.8297 - recall: 0.9581 - val_loss: 0.5551 - val_accuracy: 0.8315 - val_precision: 0.9039 - val_recall: 0.8188\n",
      "Epoch 2/5\n",
      "515/515 [==============================] - 18s 34ms/step - loss: 0.1216 - accuracy: 0.9619 - precision: 0.9664 - recall: 0.9729 - val_loss: 0.4588 - val_accuracy: 0.8506 - val_precision: 0.8710 - val_recall: 0.8946\n",
      "Epoch 3/5\n",
      "515/515 [==============================] - 17s 34ms/step - loss: 0.0893 - accuracy: 0.9719 - precision: 0.9735 - recall: 0.9817 - val_loss: 0.5964 - val_accuracy: 0.8518 - val_precision: 0.8714 - val_recall: 0.8963\n",
      "Epoch 4/5\n",
      "515/515 [==============================] - 18s 35ms/step - loss: 0.0719 - accuracy: 0.9759 - precision: 0.9781 - recall: 0.9835 - val_loss: 0.6087 - val_accuracy: 0.8460 - val_precision: 0.8626 - val_recall: 0.8977\n",
      "Epoch 5/5\n",
      "515/515 [==============================] - 19s 37ms/step - loss: 0.0633 - accuracy: 0.9786 - precision: 0.9797 - recall: 0.9863 - val_loss: 0.6441 - val_accuracy: 0.8517 - val_precision: 0.8654 - val_recall: 0.9044\n"
     ]
    }
   ],
   "source": [
    "# Compile model\n",
    "model_3.compile(loss=\"binary_crossentropy\",\n",
    "                optimizer=tf.keras.optimizers.Adam(),\n",
    "                metrics=['accuracy', 'Precision','Recall'])\n",
    "\n",
    "# Fit the model\n",
    "history_3 = model_3.fit(train_dataset,\n",
    "                        epochs=5,\n",
    "                        validation_data=validation_dataset)"
   ]
  },
  {
   "cell_type": "code",
   "execution_count": 130,
   "id": "013865ff",
   "metadata": {},
   "outputs": [
    {
     "name": "stdout",
     "output_type": "stream",
     "text": [
      "60/60 [==============================] - 0s 7ms/step - loss: 0.7627 - accuracy: 0.8189 - precision: 0.8149 - recall: 0.8827\n"
     ]
    }
   ],
   "source": [
    "# evaluate\n",
    "score3 = model_3.evaluate(test_dataset)\n",
    "\n"
   ]
  },
  {
   "cell_type": "code",
   "execution_count": 131,
   "id": "5c9ae9f7",
   "metadata": {},
   "outputs": [],
   "source": [
    "model_3_results = {\n",
    "    'name': 'Model 3',\n",
    "    'accuracy':score3[1],\n",
    "    'precision':score3[2],\n",
    "    'recall':score3[3],\n",
    "    'f1-score': (2*(score3[2]*score3[3]))/(score3[2]+score3[3])\n",
    "}\n",
    "\n",
    "\n",
    "results.append(model_3_results)"
   ]
  },
  {
   "cell_type": "markdown",
   "id": "8dfbf2c5",
   "metadata": {},
   "source": [
    "<a name=\"5.4\"> </a>\n",
    "### Modelo 4 : Bidirectional RNN model"
   ]
  },
  {
   "cell_type": "markdown",
   "id": "142f56ab",
   "metadata": {},
   "source": [
    "<img src=\"images/model4.png\">"
   ]
  },
  {
   "cell_type": "code",
   "execution_count": 132,
   "id": "850e46de",
   "metadata": {},
   "outputs": [],
   "source": [
    "def build_model_4(input_shape):\n",
    "    inputs = layers.Input(shape=input_shape, dtype=\"string\")\n",
    "    x = encoder(inputs)\n",
    "    x = embedding(x)\n",
    "    # x = layers.Bidirectional(layers.LSTM(64, return_sequences=True))(x) # return_sequences=True required for stacking RNN layers\n",
    "    x = layers.Bidirectional(layers.LSTM(64))(x)\n",
    "    x = layers.Dense(64, activation='relu')(x)\n",
    "    outputs = layers.Dense(1, activation=\"sigmoid\")(x)\n",
    "    model = tf.keras.Model(inputs, outputs, name=\"model_4_bidirectional\")\n",
    "    return model\n",
    "\n",
    "model_4 = build_model_4(INPUT_SHAPE)\n",
    "    \n",
    "    "
   ]
  },
  {
   "cell_type": "code",
   "execution_count": 133,
   "id": "3f6c3673",
   "metadata": {},
   "outputs": [
    {
     "name": "stdout",
     "output_type": "stream",
     "text": [
      "Epoch 1/5\n",
      "515/515 [==============================] - 32s 56ms/step - loss: 0.1440 - accuracy: 0.9498 - precision: 0.9553 - recall: 0.9648 - val_loss: 0.5187 - val_accuracy: 0.8502 - val_precision: 0.8662 - val_recall: 0.9006\n",
      "Epoch 2/5\n",
      "515/515 [==============================] - 29s 55ms/step - loss: 0.0774 - accuracy: 0.9745 - precision: 0.9752 - recall: 0.9843 - val_loss: 0.6640 - val_accuracy: 0.8454 - val_precision: 0.8847 - val_recall: 0.8667\n",
      "Epoch 3/5\n",
      "515/515 [==============================] - 27s 53ms/step - loss: 0.0577 - accuracy: 0.9807 - precision: 0.9805 - recall: 0.9887 - val_loss: 0.7481 - val_accuracy: 0.8392 - val_precision: 0.8438 - val_recall: 0.9130\n",
      "Epoch 4/5\n",
      "515/515 [==============================] - 28s 55ms/step - loss: 0.0407 - accuracy: 0.9865 - precision: 0.9874 - recall: 0.9911 - val_loss: 0.8414 - val_accuracy: 0.8480 - val_precision: 0.8677 - val_recall: 0.8944\n",
      "Epoch 5/5\n",
      "515/515 [==============================] - 28s 54ms/step - loss: 0.0320 - accuracy: 0.9898 - precision: 0.9914 - recall: 0.9922 - val_loss: 0.9937 - val_accuracy: 0.8293 - val_precision: 0.8269 - val_recall: 0.9211\n"
     ]
    }
   ],
   "source": [
    "# Compile model\n",
    "model_4.compile(loss=\"binary_crossentropy\",\n",
    "                optimizer=tf.keras.optimizers.Adam(),\n",
    "                metrics=['accuracy', 'Precision','Recall'])\n",
    "\n",
    "# Fit the model\n",
    "history_4 = model_4.fit(train_dataset,\n",
    "                        epochs=5,\n",
    "                        validation_data=validation_dataset)"
   ]
  },
  {
   "cell_type": "code",
   "execution_count": 134,
   "id": "db277251",
   "metadata": {},
   "outputs": [
    {
     "name": "stdout",
     "output_type": "stream",
     "text": [
      "60/60 [==============================] - 1s 12ms/step - loss: 1.2057 - accuracy: 0.7952 - precision: 0.7760 - recall: 0.9007\n"
     ]
    }
   ],
   "source": [
    "# evaluate\n",
    "score4 = model_4.evaluate(test_dataset)"
   ]
  },
  {
   "cell_type": "code",
   "execution_count": 135,
   "id": "a25af72c",
   "metadata": {},
   "outputs": [],
   "source": [
    "model_4_results = {\n",
    "    'name': 'Model 4',\n",
    "    'accuracy':score4[1],\n",
    "    'precision':score4[2],\n",
    "    'recall':score4[3],\n",
    "    'f1-score': (2*(score3[2]*score3[3]))/(score3[2]+score3[3])\n",
    "}\n",
    "\n",
    "\n",
    "results.append(model_4_results)"
   ]
  },
  {
   "cell_type": "markdown",
   "id": "82409cee",
   "metadata": {},
   "source": [
    "<a name=\"5.5\"> </a>\n",
    "### Modelo 5 : Stacking layers"
   ]
  },
  {
   "cell_type": "markdown",
   "id": "ff19c816",
   "metadata": {},
   "source": [
    "<img src='images/model5.png'>"
   ]
  },
  {
   "cell_type": "code",
   "execution_count": 43,
   "id": "72143fdc",
   "metadata": {},
   "outputs": [
    {
     "name": "stdout",
     "output_type": "stream",
     "text": [
      "Model: \"model_5\"\n",
      "_________________________________________________________________\n",
      " Layer (type)                Output Shape              Param #   \n",
      "=================================================================\n",
      " input_2 (InputLayer)        [(None, 1)]               0         \n",
      "                                                                 \n",
      " text_vectorization_1 (TextV  (None, None)             0         \n",
      " ectorization)                                                   \n",
      "                                                                 \n",
      " embedding_1 (Embedding)     multiple                  1280000   \n",
      "                                                                 \n",
      " bidirectional_2 (Bidirectio  (None, None, 128)        98816     \n",
      " nal)                                                            \n",
      "                                                                 \n",
      " bidirectional_3 (Bidirectio  (None, 64)               41216     \n",
      " nal)                                                            \n",
      "                                                                 \n",
      " dense_2 (Dense)             (None, 64)                4160      \n",
      "                                                                 \n",
      " dropout_1 (Dropout)         (None, 64)                0         \n",
      "                                                                 \n",
      " dense_3 (Dense)             (None, 1)                 65        \n",
      "                                                                 \n",
      "=================================================================\n",
      "Total params: 1,424,257\n",
      "Trainable params: 1,424,257\n",
      "Non-trainable params: 0\n",
      "_________________________________________________________________\n"
     ]
    }
   ],
   "source": [
    "\n",
    "# text vect. en la foto de arriba y la dense\n",
    "\n",
    "def build_model_5(input_shape,name):\n",
    "    inputs = layers.Input(shape=input_shape, dtype='string')\n",
    "    x = encoder(inputs)\n",
    "    x = embedding(x)\n",
    "    x = layers.Bidirectional(layers.LSTM(64, return_sequences=True))(x)\n",
    "    x = layers.Bidirectional(layers.LSTM(32))(x)\n",
    "    x = layers.Dense(64, activation='relu')(x)\n",
    "    x = tf.keras.layers.Dropout(0.5)(x)\n",
    "    outputs = layers.Dense(1, activation='sigmoid')(x)\n",
    "    model = tf.keras.Model(inputs, outputs, name=name)\n",
    "    return model\n",
    "    \n",
    "\n",
    "model_5 = build_model_5(INPUT_SHAPE, 'model_5')\n",
    "\n",
    "model_5.summary()\n"
   ]
  },
  {
   "cell_type": "code",
   "execution_count": 45,
   "id": "601a2472",
   "metadata": {},
   "outputs": [
    {
     "name": "stdout",
     "output_type": "stream",
     "text": [
      "Epoch 1/5\n",
      "515/515 [==============================] - 37s 61ms/step - loss: 0.0723 - accuracy: 0.9741 - precision: 0.9856 - recall: 0.9728 - val_loss: 0.6618 - val_accuracy: 0.8339 - val_precision: 0.8610 - val_recall: 0.8772\n",
      "Epoch 2/5\n",
      "515/515 [==============================] - 32s 62ms/step - loss: 0.0457 - accuracy: 0.9829 - precision: 0.9903 - recall: 0.9823 - val_loss: 0.8084 - val_accuracy: 0.8240 - val_precision: 0.8929 - val_recall: 0.8178\n",
      "Epoch 3/5\n",
      "515/515 [==============================] - 31s 60ms/step - loss: 0.0339 - accuracy: 0.9886 - precision: 0.9936 - recall: 0.9882 - val_loss: 0.9929 - val_accuracy: 0.8354 - val_precision: 0.8687 - val_recall: 0.8692\n",
      "Epoch 4/5\n",
      "515/515 [==============================] - 31s 60ms/step - loss: 0.0241 - accuracy: 0.9917 - precision: 0.9951 - recall: 0.9916 - val_loss: 1.0858 - val_accuracy: 0.8348 - val_precision: 0.8612 - val_recall: 0.8785\n",
      "Epoch 5/5\n",
      "515/515 [==============================] - 31s 60ms/step - loss: 0.0219 - accuracy: 0.9924 - precision: 0.9956 - recall: 0.9923 - val_loss: 1.0810 - val_accuracy: 0.8341 - val_precision: 0.8699 - val_recall: 0.8652\n"
     ]
    }
   ],
   "source": [
    "# Compile model\n",
    "model_5.compile(loss='binary_crossentropy',\n",
    "                optimizer=tf.keras.optimizers.Adam(),\n",
    "                metrics=['accuracy', 'Precision','Recall'])\n",
    "\n",
    "# Fit the model\n",
    "history_5 = model_5.fit(train_dataset,\n",
    "                        epochs=5,\n",
    "                        validation_data=validation_dataset)"
   ]
  },
  {
   "cell_type": "code",
   "execution_count": 46,
   "id": "70886d92",
   "metadata": {},
   "outputs": [
    {
     "name": "stdout",
     "output_type": "stream",
     "text": [
      "60/60 [==============================] - 1s 14ms/step - loss: 1.2094 - accuracy: 0.8146 - precision: 0.8260 - recall: 0.8550\n"
     ]
    }
   ],
   "source": [
    "# evaluate\n",
    "score5 = model_5.evaluate(test_dataset)"
   ]
  },
  {
   "cell_type": "code",
   "execution_count": 47,
   "id": "5e2ccafd",
   "metadata": {},
   "outputs": [
    {
     "data": {
      "image/png": "[encoded data removed]",
      "text/plain": [
       "<Figure size 1000x400 with 2 Axes>"
      ]
     },
     "metadata": {},
     "output_type": "display_data"
    }
   ],
   "source": [
    "\n",
    "\n",
    "plot_history(history_5)"
   ]
  },
  {
   "cell_type": "code",
   "execution_count": 139,
   "id": "2f190203",
   "metadata": {},
   "outputs": [],
   "source": [
    "model_5_results = {\n",
    "    'name': 'Model 5',\n",
    "    'accuracy':score5[1],\n",
    "    'precision':score5[2],\n",
    "    'recall':score5[3],\n",
    "    'f1-score': (2*(score5[2]*score5[3]))/(score5[2]+score5[3])\n",
    "}\n",
    "\n",
    "\n",
    "results.append(model_5_results)"
   ]
  },
  {
   "cell_type": "markdown",
   "id": "7335bb64",
   "metadata": {},
   "source": [
    "<a name=\"5.6\"> </a>\n",
    "### Modelo 6 : Conv1D\n",
    "\n",
    "We've seen before how convolutional neural networks can be used for images but they can also be used for text.\n",
    "\n",
    "Previously we've used the layer Conv2D (which is great for images with (height, width)).\n",
    "\n",
    "But if we want to use convolutional layers for sequences (e.g. text) we need to use Conv1D: https://www.tensorflow.org/api_docs/python/tf/keras/layers/Conv1D\n",
    "\n",
    "For more of a deep dive into what goes on behind the scenes in a CNN for text (or sequences) see the paper: https://arxiv.org/abs/1809.08037"
   ]
  },
  {
   "cell_type": "code",
   "execution_count": 140,
   "id": "a511b0d3",
   "metadata": {},
   "outputs": [],
   "source": [
    "def build_model_6(input_shape,name):\n",
    "    inputs = layers.Input(shape=input_shape, dtype='string')\n",
    "    x = encoder(inputs)\n",
    "    x = embedding(x)\n",
    "    x = layers.Conv1D(filters=32, kernel_size=5, activation=\"relu\")(x)\n",
    "    x = layers.GlobalMaxPool1D()(x)\n",
    "    # x = layers.Dense(64, activation=\"relu\")(x)\n",
    "    outputs = layers.Dense(1, activation=\"sigmoid\", name=\"output_layer\")(x)\n",
    "    model = tf.keras.Model(inputs, outputs, name=name)\n",
    "    return model\n",
    "    \n",
    "    \n",
    "\n",
    "model_6 = build_model_6(INPUT_SHAPE, 'model_5')"
   ]
  },
  {
   "cell_type": "code",
   "execution_count": 141,
   "id": "7ca9889d",
   "metadata": {},
   "outputs": [
    {
     "name": "stdout",
     "output_type": "stream",
     "text": [
      "Model: \"model_5\"\n",
      "_________________________________________________________________\n",
      " Layer (type)                Output Shape              Param #   \n",
      "=================================================================\n",
      " input_8 (InputLayer)        [(None, 1)]               0         \n",
      "                                                                 \n",
      " text_vectorization_1 (TextV  (None, 45)               0         \n",
      " ectorization)                                                   \n",
      "                                                                 \n",
      " embedding_1 (Embedding)     (None, 45, 128)           1280000   \n",
      "                                                                 \n",
      " conv1d (Conv1D)             (None, 41, 32)            20512     \n",
      "                                                                 \n",
      " global_max_pooling1d (Globa  (None, 32)               0         \n",
      " lMaxPooling1D)                                                  \n",
      "                                                                 \n",
      " output_layer (Dense)        (None, 1)                 33        \n",
      "                                                                 \n",
      "=================================================================\n",
      "Total params: 1,300,545\n",
      "Trainable params: 1,300,545\n",
      "Non-trainable params: 0\n",
      "_________________________________________________________________\n"
     ]
    }
   ],
   "source": [
    "model_6.summary()"
   ]
  },
  {
   "cell_type": "code",
   "execution_count": 142,
   "id": "8a67fbba",
   "metadata": {},
   "outputs": [
    {
     "name": "stdout",
     "output_type": "stream",
     "text": [
      "Epoch 1/5\n",
      "515/515 [==============================] - 12s 21ms/step - loss: 0.2270 - accuracy: 0.9203 - precision: 0.9301 - recall: 0.9434 - val_loss: 0.3965 - val_accuracy: 0.8536 - val_precision: 0.8923 - val_recall: 0.8721\n",
      "Epoch 2/5\n",
      "515/515 [==============================] - 13s 24ms/step - loss: 0.1648 - accuracy: 0.9442 - precision: 0.9515 - recall: 0.9598 - val_loss: 0.4309 - val_accuracy: 0.8553 - val_precision: 0.8754 - val_recall: 0.8973\n",
      "Epoch 3/5\n",
      "515/515 [==============================] - 11s 22ms/step - loss: 0.1124 - accuracy: 0.9669 - precision: 0.9715 - recall: 0.9757 - val_loss: 0.4923 - val_accuracy: 0.8513 - val_precision: 0.8737 - val_recall: 0.8923\n",
      "Epoch 4/5\n",
      "515/515 [==============================] - 11s 21ms/step - loss: 0.0697 - accuracy: 0.9833 - precision: 0.9855 - recall: 0.9879 - val_loss: 0.5599 - val_accuracy: 0.8465 - val_precision: 0.8717 - val_recall: 0.8859\n",
      "Epoch 5/5\n",
      "515/515 [==============================] - 12s 23ms/step - loss: 0.0407 - accuracy: 0.9918 - precision: 0.9927 - recall: 0.9942 - val_loss: 0.6467 - val_accuracy: 0.8414 - val_precision: 0.8690 - val_recall: 0.8801\n"
     ]
    }
   ],
   "source": [
    "# Compile model\n",
    "model_6.compile(loss=\"binary_crossentropy\",\n",
    "                optimizer=tf.keras.optimizers.Adam(),\n",
    "                metrics=['accuracy', 'Precision','Recall'])\n",
    "\n",
    "# Fit the model\n",
    "history_6 = model_6.fit(train_dataset,\n",
    "                        #batch_size=BATCH_SIZE,\n",
    "                        epochs=5,\n",
    "                        validation_data=validation_dataset)"
   ]
  },
  {
   "cell_type": "code",
   "execution_count": 143,
   "id": "767937e4",
   "metadata": {},
   "outputs": [
    {
     "name": "stdout",
     "output_type": "stream",
     "text": [
      "60/60 [==============================] - 0s 3ms/step - loss: 0.7445 - accuracy: 0.8025 - precision: 0.8177 - recall: 0.8411\n"
     ]
    }
   ],
   "source": [
    "# evaluate\n",
    "score6 = model_6.evaluate(test_dataset)"
   ]
  },
  {
   "cell_type": "code",
   "execution_count": 144,
   "id": "b0c2e53c",
   "metadata": {},
   "outputs": [],
   "source": [
    "model_6_results = {\n",
    "    'name': 'Model 6',\n",
    "    'accuracy':score6[1],\n",
    "    'precision':score6[2],\n",
    "    'recall':score6[3],\n",
    "    'f1-score': (2*(score6[2]*score6[3]))/(score6[2]+score6[3])\n",
    "}\n",
    "\n",
    "\n",
    "results.append(model_6_results)"
   ]
  },
  {
   "cell_type": "markdown",
   "id": "f7c20d17",
   "metadata": {},
   "source": [
    "<a name=\"5.7\"> </a>\n",
    "### Model 7: TensorFlow Hub Pretrained Sentence Encoder\n",
    "\n",
    "Now we've built a few of our own models, let's try and use transfer learning for NLP, specifically using TensorFlow Hub's Universal Sentence Encoder: https://tfhub.dev/google/universal-sentence-encoder/4\n",
    "\n",
    "See how the USE was created here: https://arxiv.org/abs/1803.11175\n",
    "\n",
    "📖 **Resource:** TensorFlow Hub is a great resource for many pretrained models but HuggingFace is also another incredible resource for many pretrained NLP models (using HuggingFace model is beyond the scope of this course but it is definitely something you should be familiar with in the NLP space): https://huggingface.co/models"
   ]
  },
  {
   "cell_type": "code",
   "execution_count": 145,
   "id": "23ef7e8a",
   "metadata": {},
   "outputs": [],
   "source": [
    "# Create a Keras Layer using the USE pretrained layer from tensorflow hub\n",
    "sentence_encoder_layer = hub.KerasLayer(\"https://tfhub.dev/google/universal-sentence-encoder/4\",\n",
    "                                        input_shape=[],\n",
    "                                        dtype=tf.string,\n",
    "                                        trainable=False,\n",
    "                                        name=\"USE\")\n",
    "\n",
    "# se encarga de text vectorization y embedding"
   ]
  },
  {
   "cell_type": "code",
   "execution_count": 146,
   "id": "39718f3d",
   "metadata": {},
   "outputs": [
    {
     "name": "stdout",
     "output_type": "stream",
     "text": [
      "Model: \"model_7\"\n",
      "_________________________________________________________________\n",
      " Layer (type)                Output Shape              Param #   \n",
      "=================================================================\n",
      " input_layer (InputLayer)    [(None, 1)]               0         \n",
      "                                                                 \n",
      " tf.compat.v1.squeeze_3 (TFO  (None,)                  0         \n",
      " pLambda)                                                        \n",
      "                                                                 \n",
      " USE (KerasLayer)            (None, 512)               256797824 \n",
      "                                                                 \n",
      " dense_15 (Dense)            (None, 64)                32832     \n",
      "                                                                 \n",
      " output_layer (Dense)        (None, 1)                 65        \n",
      "                                                                 \n",
      "=================================================================\n",
      "Total params: 256,830,721\n",
      "Trainable params: 32,897\n",
      "Non-trainable params: 256,797,824\n",
      "_________________________________________________________________\n"
     ]
    }
   ],
   "source": [
    "def build_model_7(input_shape,name):\n",
    "    # Entrada del modelo\n",
    "    input_layer = layers.Input(shape=input_shape, dtype=tf.string, name=\"input_layer\")\n",
    "    squeezed_input = tf.squeeze(input_layer, axis=-1)\n",
    "    # Capa de codificación de oraciones\n",
    "    sentence_encoding = sentence_encoder_layer(squeezed_input)\n",
    "    # Capa completamente conectada con activación ReLU\n",
    "    dense_layer = layers.Dense(64, activation=\"relu\")(sentence_encoding)\n",
    "    # Capa de salida con activación sigmoide\n",
    "    output_layer = layers.Dense(1, activation=\"sigmoid\", name=\"output_layer\")(dense_layer)\n",
    "    # Crear el modelo funcional\n",
    "    model = Model(inputs=input_layer, outputs=output_layer, name=name)\n",
    "    return model\n",
    "\n",
    "\n",
    "model_7 = build_model_7(INPUT_SHAPE,'model_7')\n",
    "\n",
    "\n",
    "\n",
    "model_7.summary()"
   ]
  },
  {
   "cell_type": "code",
   "execution_count": 147,
   "id": "c96fff12",
   "metadata": {},
   "outputs": [
    {
     "name": "stdout",
     "output_type": "stream",
     "text": [
      "Epoch 1/5\n",
      "515/515 [==============================] - 9s 13ms/step - loss: 0.5186 - accuracy: 0.7421 - precision: 0.7548 - recall: 0.8702 - val_loss: 0.4868 - val_accuracy: 0.7674 - val_precision: 0.7798 - val_recall: 0.8774\n",
      "Epoch 2/5\n",
      "515/515 [==============================] - 6s 12ms/step - loss: 0.4786 - accuracy: 0.7686 - precision: 0.7940 - recall: 0.8506 - val_loss: 0.4816 - val_accuracy: 0.7657 - val_precision: 0.7948 - val_recall: 0.8451\n",
      "Epoch 3/5\n",
      "515/515 [==============================] - 6s 11ms/step - loss: 0.4730 - accuracy: 0.7734 - precision: 0.8002 - recall: 0.8499 - val_loss: 0.4811 - val_accuracy: 0.7680 - val_precision: 0.7990 - val_recall: 0.8426\n",
      "Epoch 4/5\n",
      "515/515 [==============================] - 6s 11ms/step - loss: 0.4691 - accuracy: 0.7749 - precision: 0.8015 - recall: 0.8506 - val_loss: 0.4807 - val_accuracy: 0.7732 - val_precision: 0.7840 - val_recall: 0.8818\n",
      "Epoch 5/5\n",
      "515/515 [==============================] - 6s 12ms/step - loss: 0.4638 - accuracy: 0.7769 - precision: 0.8023 - recall: 0.8535 - val_loss: 0.4756 - val_accuracy: 0.7704 - val_precision: 0.8033 - val_recall: 0.8402\n"
     ]
    }
   ],
   "source": [
    "# Compile model\n",
    "model_7.compile(loss=\"binary_crossentropy\",\n",
    "                optimizer=tf.keras.optimizers.Adam(),\n",
    "                metrics=['accuracy', 'Precision','Recall'])\n",
    "\n",
    "\n",
    "# Fit the model\n",
    "history_7 = model_7.fit(train_dataset,\n",
    "                        epochs=5,\n",
    "                        validation_data=validation_dataset)"
   ]
  },
  {
   "cell_type": "code",
   "execution_count": 148,
   "id": "71c7fb49",
   "metadata": {},
   "outputs": [
    {
     "name": "stdout",
     "output_type": "stream",
     "text": [
      "60/60 [==============================] - 1s 9ms/step - loss: 0.5155 - accuracy: 0.7438 - precision: 0.7635 - recall: 0.7977\n"
     ]
    }
   ],
   "source": [
    "# evaluate\n",
    "score7 = model_7.evaluate(test_dataset)"
   ]
  },
  {
   "cell_type": "code",
   "execution_count": 149,
   "id": "47e671d9",
   "metadata": {},
   "outputs": [],
   "source": [
    "model_7_results = {\n",
    "    'name': 'Model 7',\n",
    "    'accuracy':score7[1],\n",
    "    'precision':score7[2],\n",
    "    'recall':score7[3],\n",
    "    'f1-score': (2*(score7[2]*score7[3]))/(score7[2]+score7[3])\n",
    "}\n",
    "\n",
    "\n",
    "results.append(model_7_results)"
   ]
  },
  {
   "cell_type": "markdown",
   "id": "a9befb56",
   "metadata": {},
   "source": [
    "### Comparando los modelos y quedándonos con el mejor para afinar"
   ]
  },
  {
   "cell_type": "code",
   "execution_count": 150,
   "id": "41b0c64d",
   "metadata": {},
   "outputs": [
    {
     "data": {
      "text/html": [
       "<div>\n",
       "<style scoped>\n",
       "    .dataframe tbody tr th:only-of-type {\n",
       "        vertical-align: middle;\n",
       "    }\n",
       "\n",
       "    .dataframe tbody tr th {\n",
       "        vertical-align: top;\n",
       "    }\n",
       "\n",
       "    .dataframe thead th {\n",
       "        text-align: right;\n",
       "    }\n",
       "</style>\n",
       "<table border=\"1\" class=\"dataframe\">\n",
       "  <thead>\n",
       "    <tr style=\"text-align: right;\">\n",
       "      <th></th>\n",
       "      <th>name</th>\n",
       "      <th>accuracy</th>\n",
       "      <th>precision</th>\n",
       "      <th>recall</th>\n",
       "      <th>f1-score</th>\n",
       "    </tr>\n",
       "  </thead>\n",
       "  <tbody>\n",
       "    <tr>\n",
       "      <th>0</th>\n",
       "      <td>Model 1</td>\n",
       "      <td>0.829647</td>\n",
       "      <td>0.840359</td>\n",
       "      <td>0.865589</td>\n",
       "      <td>0.852787</td>\n",
       "    </tr>\n",
       "    <tr>\n",
       "      <th>1</th>\n",
       "      <td>Model 2</td>\n",
       "      <td>0.821222</td>\n",
       "      <td>0.825306</td>\n",
       "      <td>0.870670</td>\n",
       "      <td>0.847381</td>\n",
       "    </tr>\n",
       "    <tr>\n",
       "      <th>2</th>\n",
       "      <td>Model 3</td>\n",
       "      <td>0.818852</td>\n",
       "      <td>0.814925</td>\n",
       "      <td>0.882679</td>\n",
       "      <td>0.847450</td>\n",
       "    </tr>\n",
       "    <tr>\n",
       "      <th>3</th>\n",
       "      <td>Model 4</td>\n",
       "      <td>0.795155</td>\n",
       "      <td>0.775965</td>\n",
       "      <td>0.900693</td>\n",
       "      <td>0.847450</td>\n",
       "    </tr>\n",
       "    <tr>\n",
       "      <th>4</th>\n",
       "      <td>Model 5</td>\n",
       "      <td>0.811743</td>\n",
       "      <td>0.836271</td>\n",
       "      <td>0.832794</td>\n",
       "      <td>0.834529</td>\n",
       "    </tr>\n",
       "    <tr>\n",
       "      <th>5</th>\n",
       "      <td>Model 6</td>\n",
       "      <td>0.802528</td>\n",
       "      <td>0.817692</td>\n",
       "      <td>0.841109</td>\n",
       "      <td>0.829235</td>\n",
       "    </tr>\n",
       "    <tr>\n",
       "      <th>6</th>\n",
       "      <td>Model 7</td>\n",
       "      <td>0.743813</td>\n",
       "      <td>0.763484</td>\n",
       "      <td>0.797691</td>\n",
       "      <td>0.780212</td>\n",
       "    </tr>\n",
       "  </tbody>\n",
       "</table>\n",
       "</div>"
      ],
      "text/plain": [
       "      name  accuracy  precision    recall  f1-score\n",
       "0  Model 1  0.829647   0.840359  0.865589  0.852787\n",
       "1  Model 2  0.821222   0.825306  0.870670  0.847381\n",
       "2  Model 3  0.818852   0.814925  0.882679  0.847450\n",
       "3  Model 4  0.795155   0.775965  0.900693  0.847450\n",
       "4  Model 5  0.811743   0.836271  0.832794  0.834529\n",
       "5  Model 6  0.802528   0.817692  0.841109  0.829235\n",
       "6  Model 7  0.743813   0.763484  0.797691  0.780212"
      ]
     },
     "execution_count": 150,
     "metadata": {},
     "output_type": "execute_result"
    }
   ],
   "source": [
    "# Combine model results into a DataFrame\n",
    "all_model_results = pd.DataFrame(results)\n",
    "all_model_results"
   ]
  },
  {
   "cell_type": "code",
   "execution_count": 151,
   "id": "51832f92",
   "metadata": {},
   "outputs": [
    {
     "data": {
      "image/png": "[encoded data removed]",
      "text/plain": [
       "<Figure size 800x600 with 1 Axes>"
      ]
     },
     "metadata": {},
     "output_type": "display_data"
    }
   ],
   "source": [
    "#all_model_results.plot(kind=\"bar\", figsize=(10, 7)).legend(bbox_to_anchor=(1.0, 1.0));\n",
    "\n",
    "df = pd.DataFrame(results)\n",
    "\n",
    "\n",
    "\n",
    "# Configurar el tamaño de la figura\n",
    "plt.figure(figsize=(8, 6))\n",
    "\n",
    "\n",
    "# Configurar el gráfico de barras\n",
    "bar_width = 0.2\n",
    "bar_positions = range(len(df['name']))\n",
    "colors = ['blue', 'orange', 'green', 'red']\n",
    "\n",
    "# Crear barras para cada métrica\n",
    "plt.bar(bar_positions, df['accuracy'], width=bar_width, label='Accuracy', color=colors[0])\n",
    "plt.bar([pos + bar_width for pos in bar_positions], df['precision'], width=bar_width, label='Precision', color=colors[1])\n",
    "plt.bar([pos + 2*bar_width for pos in bar_positions], df['recall'], width=bar_width, label='Recall', color=colors[2])\n",
    "plt.bar([pos + 3*bar_width for pos in bar_positions], df['f1-score'], width=bar_width, label='F1-score', color=colors[3])\n",
    "\n",
    "\n",
    "\n",
    "# Añadir etiquetas y título\n",
    "plt.xlabel('Model',fontweight='bold')\n",
    "plt.ylabel('Scores',fontweight='bold')\n",
    "plt.title('Comparison of Metrics for Different Models',fontweight='bold')\n",
    "plt.xticks([pos + 1.5*bar_width for pos in bar_positions], df['name'])\n",
    "\n",
    "# Añadir leyenda\n",
    "plt.legend()\n",
    "\n",
    "# Mostrar el gráfico de barras\n",
    "plt.show()\n",
    "\n"
   ]
  },
  {
   "cell_type": "code",
   "execution_count": 152,
   "id": "d121a287",
   "metadata": {},
   "outputs": [
    {
     "data": {
      "image/png": "[encoded data removed]",
      "text/plain": [
       "<Figure size 1000x700 with 1 Axes>"
      ]
     },
     "metadata": {},
     "output_type": "display_data"
    }
   ],
   "source": [
    "# Sort model results by f1-score\n",
    "df.sort_values(\"f1-score\", ascending=False)[\"f1-score\"].plot(kind=\"bar\", figsize=(10, 7));"
   ]
  },
  {
   "cell_type": "code",
   "execution_count": 154,
   "id": "1d38eae0",
   "metadata": {},
   "outputs": [],
   "source": [
    "indice_max = all_model_results['f1-score'].idxmax()\n",
    "\n",
    "best_model = all_model_results['name'][0]"
   ]
  },
  {
   "cell_type": "code",
   "execution_count": 155,
   "id": "69ec54b3",
   "metadata": {},
   "outputs": [
    {
     "data": {
      "text/plain": [
       "'El mejor modelo siguiendo el criterio de mayor F1-score es Model 1'"
      ]
     },
     "execution_count": 155,
     "metadata": {},
     "output_type": "execute_result"
    }
   ],
   "source": [
    "f\"El mejor modelo siguiendo el criterio de mayor F1-score es {best_model}\""
   ]
  },
  {
   "cell_type": "markdown",
   "id": "39796c0c",
   "metadata": {},
   "source": [
    "### Ajuste de hiperparámetros"
   ]
  },
  {
   "cell_type": "markdown",
   "id": "e8e52a59",
   "metadata": {},
   "source": [
    "Probaremos con diferentes valores para la tasa de aprendizaje y por supuesto entrenaremos por más epochs.\n",
    "También usaremos callbacks, como Early Stopping."
   ]
  },
  {
   "cell_type": "code",
   "execution_count": 45,
   "id": "a3a9851f",
   "metadata": {},
   "outputs": [],
   "source": [
    "class MyHyperModel(keras_tuner.HyperModel) :\n",
    "     def build(self, hp,input_shape=INPUT_SHAPE):\n",
    "        inputs = layers.Input(shape=input_shape, dtype=tf.string)\n",
    "        x = encoder(inputs)\n",
    "        x = embedding(x)\n",
    "        x = tf.keras.layers.GlobalAveragePooling1D()(x)\n",
    "        outputs = tf.keras.layers.Dense(1, activation=\"sigmoid\")(x)\n",
    "        model = tf.keras.Model(inputs, outputs, name=\"model_1_dense\")\n",
    "        # compile\n",
    "        model.compile(optimizer=hp.Choice('optim',['adam','adamax','sgd']),\n",
    "                      loss=\"binary_crossentropy\",\n",
    "                      metrics = ['accuracy','Precision','Recall'])\n",
    "        \n",
    "        # A way to optimize the learning rate while also trying different optimizers\n",
    "        learning_rate = hp.Choice('lr', [ 0.03, 0.01, 0.003])\n",
    "        K.set_value(model.optimizer.learning_rate, learning_rate)\n",
    "        # retorno\n",
    "        return model\n",
    "\n",
    "\n"
   ]
  },
  {
   "cell_type": "code",
   "execution_count": 46,
   "id": "bda746d2",
   "metadata": {},
   "outputs": [],
   "source": [
    "tuner = keras_tuner.BayesianOptimization(\n",
    "                        hypermodel=MyHyperModel(),\n",
    "                        objective = \"val_accuracy\",\n",
    "                        max_trials =10, #max candidates to test\n",
    "                        overwrite=True,\n",
    "                        directory='search_dir',\n",
    "                        project_name='sentiment_analysis')\n",
    "\n"
   ]
  },
  {
   "cell_type": "code",
   "execution_count": 48,
   "id": "875930c4",
   "metadata": {},
   "outputs": [
    {
     "name": "stdout",
     "output_type": "stream",
     "text": [
      "Trial 10 Complete [00h 00m 46s]\n",
      "val_accuracy: 0.8369776606559753\n",
      "\n",
      "Best val_accuracy So Far: 0.8566569685935974\n",
      "Total elapsed time: 00h 07m 05s\n",
      "INFO:tensorflow:Oracle triggered exit\n"
     ]
    }
   ],
   "source": [
    "tuner.search(x=train_dataset, \n",
    "             epochs=5,\n",
    "             validation_data=validation_dataset)"
   ]
  },
  {
   "cell_type": "code",
   "execution_count": 49,
   "id": "c777a235",
   "metadata": {},
   "outputs": [
    {
     "ename": "NameError",
     "evalue": "name 'tuner' is not defined",
     "output_type": "error",
     "traceback": [
      "\u001b[0;31m---------------------------------------------------------------------------\u001b[0m",
      "\u001b[0;31mNameError\u001b[0m                                 Traceback (most recent call last)",
      "Cell \u001b[0;32mIn [49], line 1\u001b[0m\n\u001b[0;32m----> 1\u001b[0m \u001b[43mtuner\u001b[49m\u001b[38;5;241m.\u001b[39mresults_summary(\u001b[38;5;241m1\u001b[39m)\n",
      "\u001b[0;31mNameError\u001b[0m: name 'tuner' is not defined"
     ]
    }
   ],
   "source": [
    "tuner.results_summary(1)"
   ]
  },
  {
   "cell_type": "code",
   "execution_count": 62,
   "id": "66da232f",
   "metadata": {},
   "outputs": [
    {
     "name": "stdout",
     "output_type": "stream",
     "text": [
      "Model: \"model_1_dense\"\n",
      "_________________________________________________________________\n",
      " Layer (type)                Output Shape              Param #   \n",
      "=================================================================\n",
      " input_3 (InputLayer)        [(None, 1)]               0         \n",
      "                                                                 \n",
      " text_vectorization_1 (TextV  (None, 45)               0         \n",
      " ectorization)                                                   \n",
      "                                                                 \n",
      " embedding_1 (Embedding)     (None, 45, 128)           1280000   \n",
      "                                                                 \n",
      " global_average_pooling1d_2   (None, 128)              0         \n",
      " (GlobalAveragePooling1D)                                        \n",
      "                                                                 \n",
      " dense_2 (Dense)             (None, 1)                 129       \n",
      "                                                                 \n",
      "=================================================================\n",
      "Total params: 1,280,129\n",
      "Trainable params: 1,280,129\n",
      "Non-trainable params: 0\n",
      "_________________________________________________________________\n"
     ]
    }
   ],
   "source": [
    "# mejor modelo\n",
    "best_hps = tuner.get_best_hyperparameters(num_trials=1)[0]\n",
    "final_model = tuner.hypermodel.build(best_hps)\n",
    "\n",
    "final_model.summary()\n"
   ]
  },
  {
   "cell_type": "code",
   "execution_count": 63,
   "id": "59d0b099",
   "metadata": {},
   "outputs": [
    {
     "name": "stdout",
     "output_type": "stream",
     "text": [
      "Epoch 1/100\n",
      "515/515 [==============================] - 9s 17ms/step - loss: 0.2093 - accuracy: 0.9438 - precision: 0.9341 - recall: 0.9791 - val_loss: 0.4564 - val_accuracy: 0.8361 - val_precision: 0.8549 - val_recall: 0.8901\n",
      "Epoch 2/100\n",
      "515/515 [==============================] - 8s 15ms/step - loss: 0.1246 - accuracy: 0.9676 - precision: 0.9677 - recall: 0.9809 - val_loss: 0.5422 - val_accuracy: 0.8366 - val_precision: 0.8608 - val_recall: 0.8826\n",
      "Epoch 3/100\n",
      "515/515 [==============================] - 8s 16ms/step - loss: 0.1111 - accuracy: 0.9679 - precision: 0.9702 - recall: 0.9788 - val_loss: 0.6167 - val_accuracy: 0.8362 - val_precision: 0.8606 - val_recall: 0.8822\n",
      "Epoch 4/100\n",
      "515/515 [==============================] - 8s 16ms/step - loss: 0.1060 - accuracy: 0.9684 - precision: 0.9715 - recall: 0.9781 - val_loss: 0.6781 - val_accuracy: 0.8367 - val_precision: 0.8636 - val_recall: 0.8789\n",
      "Epoch 5/100\n",
      "515/515 [==============================] - 8s 16ms/step - loss: 0.1042 - accuracy: 0.9679 - precision: 0.9716 - recall: 0.9773 - val_loss: 0.7236 - val_accuracy: 0.8375 - val_precision: 0.8651 - val_recall: 0.8781\n",
      "Epoch 6/100\n",
      "515/515 [==============================] - 8s 16ms/step - loss: 0.1033 - accuracy: 0.9686 - precision: 0.9724 - recall: 0.9775 - val_loss: 0.7516 - val_accuracy: 0.8370 - val_precision: 0.8576 - val_recall: 0.8878\n",
      "Epoch 7/100\n",
      "515/515 [==============================] - 8s 15ms/step - loss: 0.1031 - accuracy: 0.9689 - precision: 0.9723 - recall: 0.9781 - val_loss: 0.7604 - val_accuracy: 0.8362 - val_precision: 0.8606 - val_recall: 0.8822\n",
      "Epoch 8/100\n",
      "515/515 [==============================] - 8s 15ms/step - loss: 0.1025 - accuracy: 0.9689 - precision: 0.9724 - recall: 0.9779 - val_loss: 0.7661 - val_accuracy: 0.8369 - val_precision: 0.8641 - val_recall: 0.8783\n",
      "Epoch 9/100\n",
      "515/515 [==============================] - 8s 15ms/step - loss: 0.1021 - accuracy: 0.9684 - precision: 0.9724 - recall: 0.9773 - val_loss: 0.7687 - val_accuracy: 0.8372 - val_precision: 0.8642 - val_recall: 0.8789\n",
      "Epoch 10/100\n",
      "515/515 [==============================] - 8s 15ms/step - loss: 0.1022 - accuracy: 0.9694 - precision: 0.9730 - recall: 0.9781 - val_loss: 0.7730 - val_accuracy: 0.8362 - val_precision: 0.8657 - val_recall: 0.8750\n",
      "Epoch 11/100\n",
      "515/515 [==============================] - 8s 15ms/step - loss: 0.1023 - accuracy: 0.9686 - precision: 0.9726 - recall: 0.9773 - val_loss: 0.7824 - val_accuracy: 0.8358 - val_precision: 0.8609 - val_recall: 0.8809\n",
      "Epoch 12/100\n",
      "515/515 [==============================] - 8s 15ms/step - loss: 0.1014 - accuracy: 0.9691 - precision: 0.9728 - recall: 0.9780 - val_loss: 0.7820 - val_accuracy: 0.8361 - val_precision: 0.8581 - val_recall: 0.8855\n",
      "Epoch 13/100\n",
      "515/515 [==============================] - 8s 16ms/step - loss: 0.1012 - accuracy: 0.9694 - precision: 0.9730 - recall: 0.9781 - val_loss: 0.7849 - val_accuracy: 0.8361 - val_precision: 0.8620 - val_recall: 0.8799\n",
      "Epoch 14/100\n",
      "515/515 [==============================] - 9s 18ms/step - loss: 0.1009 - accuracy: 0.9696 - precision: 0.9732 - recall: 0.9783 - val_loss: 0.7802 - val_accuracy: 0.8348 - val_precision: 0.8673 - val_recall: 0.8700\n",
      "Epoch 15/100\n",
      "515/515 [==============================] - 8s 16ms/step - loss: 0.1012 - accuracy: 0.9692 - precision: 0.9732 - recall: 0.9777 - val_loss: 0.7984 - val_accuracy: 0.8358 - val_precision: 0.8631 - val_recall: 0.8778\n",
      "Epoch 16/100\n",
      "515/515 [==============================] - 8s 16ms/step - loss: 0.1007 - accuracy: 0.9701 - precision: 0.9734 - recall: 0.9790 - val_loss: 0.7936 - val_accuracy: 0.8361 - val_precision: 0.8614 - val_recall: 0.8809\n",
      "Epoch 17/100\n",
      "515/515 [==============================] - 8s 16ms/step - loss: 0.1007 - accuracy: 0.9696 - precision: 0.9733 - recall: 0.9782 - val_loss: 0.7949 - val_accuracy: 0.8354 - val_precision: 0.8624 - val_recall: 0.8779\n",
      "Epoch 18/100\n",
      "515/515 [==============================] - 9s 17ms/step - loss: 0.1004 - accuracy: 0.9698 - precision: 0.9732 - recall: 0.9786 - val_loss: 0.7874 - val_accuracy: 0.8349 - val_precision: 0.8654 - val_recall: 0.8729\n",
      "Epoch 19/100\n",
      "515/515 [==============================] - 8s 16ms/step - loss: 0.1002 - accuracy: 0.9698 - precision: 0.9732 - recall: 0.9787 - val_loss: 0.7978 - val_accuracy: 0.8359 - val_precision: 0.8616 - val_recall: 0.8801\n",
      "Epoch 20/100\n",
      "515/515 [==============================] - 9s 17ms/step - loss: 0.0998 - accuracy: 0.9701 - precision: 0.9736 - recall: 0.9787 - val_loss: 0.8014 - val_accuracy: 0.8365 - val_precision: 0.8609 - val_recall: 0.8822\n",
      "Epoch 21/100\n",
      "515/515 [==============================] - 9s 17ms/step - loss: 0.0995 - accuracy: 0.9701 - precision: 0.9734 - recall: 0.9788 - val_loss: 0.8033 - val_accuracy: 0.8341 - val_precision: 0.8662 - val_recall: 0.8702\n"
     ]
    }
   ],
   "source": [
    "callbacks = [\n",
    "    tf.keras.callbacks.EarlyStopping(monitor='val_loss', patience=20),\n",
    "]\n",
    "\n",
    "final_history = final_model.fit(\n",
    "                  train_dataset, \n",
    "                  validation_data=validation_dataset,\n",
    "                  epochs=100, \n",
    "                  #verbose=0,\n",
    "                  batch_size=BATCH_SIZE,                  \n",
    "                  callbacks=callbacks)\n"
   ]
  },
  {
   "cell_type": "code",
   "execution_count": 64,
   "id": "8014201d",
   "metadata": {},
   "outputs": [
    {
     "name": "stdout",
     "output_type": "stream",
     "text": [
      "60/60 [==============================] - 0s 2ms/step - loss: 0.9376 - accuracy: 0.8112 - precision: 0.8201 - recall: 0.8568\n"
     ]
    }
   ],
   "source": [
    "final_scores = final_model.evaluate(test_dataset)\n"
   ]
  },
  {
   "cell_type": "markdown",
   "id": "ec112399",
   "metadata": {},
   "source": [
    "## PREDICCIONES CON EL MODELO FINAL"
   ]
  },
  {
   "cell_type": "code",
   "execution_count": 35,
   "id": "775ae1c1",
   "metadata": {},
   "outputs": [
    {
     "name": "stdout",
     "output_type": "stream",
     "text": [
      "1/1 [==============================] - 0s 88ms/step\n",
      "pred: [[0.99999994]]\n",
      "Predicción: 1\n"
     ]
    }
   ],
   "source": [
    "\n",
    "\n",
    "final_model = model_1\n",
    "\n",
    "\n",
    "\"\"\"\n",
    "En la inferencia, la entrada debe pasar previamente por el pre-procesamiento (en este ejemplo\n",
    "por preprocess_text y pre-process_text2); no hace falta que pase por las caspas de text vectorization\n",
    "y embedding pues son parte del modelo\n",
    "\"\"\"\n",
    "\n",
    "\n",
    "# Texto de entrada para hacer una predicción\n",
    "input_text = \"hot new drug help covid-19\"\n",
    "\n",
    "\n",
    "# pre-procesamiento\n",
    "input_text = preprocess_text(input_text)\n",
    "input_text = preprocess_text2(input_text)\n",
    "\n",
    "\n",
    "# predicción\n",
    "pred = final_model.predict(np.array([input_text]))\n",
    "\n",
    "print(f\"pred: {pred}\")\n",
    "\n",
    "\n",
    "# Convertir la salida a una predicción binaria (0 o 1)\n",
    "binary_prediction = 1 if pred[0, 0] > 0.5 else 0\n",
    "\n",
    "# Imprimir la predicción\n",
    "print(\"Predicción:\", binary_prediction)\n",
    "\n"
   ]
  },
  {
   "cell_type": "code",
   "execution_count": 44,
   "id": "6e9fe70f",
   "metadata": {},
   "outputs": [
    {
     "name": "stdout",
     "output_type": "stream",
     "text": [
      "(64,)\n"
     ]
    }
   ],
   "source": [
    "# al usar validation_dataset no hace falta aplicar las\n",
    "# funciones de pre-procesamiento pues ya las apliqué antes\n",
    "\n",
    "y_pred = []\n",
    "y_true = []\n",
    "\n",
    "\n",
    "for text,label in validation_dataset:\n",
    "    \n",
    "    \n",
    "    print(text.shape)\n",
    "    \n",
    "    # predictions\n",
    "    predictions = final_model.predict(text,verbose=0)\n",
    "    \n",
    "    # paso a binario\n",
    "    binary_preds = tf.squeeze(tf.round(predictions))\n",
    "        \n",
    "    # Añade a las listas\n",
    "    y_true.extend(label.numpy())\n",
    "    y_pred.extend(binary_preds.numpy())\n",
    "    \n",
    "    break\n",
    "    \n"
   ]
  },
  {
   "cell_type": "code",
   "execution_count": 37,
   "id": "78f063e9",
   "metadata": {},
   "outputs": [
    {
     "data": {
      "text/plain": [
       "<tf.Tensor: shape=(8232,), dtype=int32, numpy=array([1, 0, 1, ..., 0, 1, 0], dtype=int32)>"
      ]
     },
     "execution_count": 37,
     "metadata": {},
     "output_type": "execute_result"
    }
   ],
   "source": [
    "# convierto a tensores\n",
    "\n",
    "y_true = tf.constant(y_true)\n",
    "y_true"
   ]
  },
  {
   "cell_type": "code",
   "execution_count": 38,
   "id": "678f7cd3",
   "metadata": {},
   "outputs": [
    {
     "data": {
      "text/plain": [
       "<tf.Tensor: shape=(8232,), dtype=float32, numpy=array([1., 0., 1., ..., 0., 1., 0.], dtype=float32)>"
      ]
     },
     "execution_count": 38,
     "metadata": {},
     "output_type": "execute_result"
    }
   ],
   "source": [
    "y_pred = tf.constant(y_pred)\n",
    "y_pred"
   ]
  },
  {
   "cell_type": "code",
   "execution_count": 39,
   "id": "f0b85c56",
   "metadata": {},
   "outputs": [
    {
     "data": {
      "image/png": "[encoded data removed]",
      "text/plain": [
       "<Figure size 640x480 with 2 Axes>"
      ]
     },
     "metadata": {},
     "output_type": "display_data"
    }
   ],
   "source": [
    "# Calcula la matriz de confusión\n",
    "conf_matrix = tf.math.confusion_matrix(y_true, y_pred)\n",
    "\n",
    "# Convierte la matriz de confusión a un array NumPy para visualización\n",
    "conf_matrix_np = conf_matrix.numpy()\n",
    "\n",
    "# Visualiza la matriz de confusión (opcional, puedes omitir esta parte si no deseas visualizarla)\n",
    "sns.heatmap(conf_matrix_np, annot=True, fmt='d', cmap='Blues', xticklabels=['0', '1'], yticklabels=['0', '1'])\n",
    "plt.xlabel('Predictions')\n",
    "plt.ylabel('True labels')\n",
    "plt.show()\n"
   ]
  },
  {
   "cell_type": "markdown",
   "id": "6a97cf18",
   "metadata": {},
   "source": [
    "Veamos las predicciones e"
   ]
  },
  {
   "cell_type": "code",
   "execution_count": 132,
   "id": "d8be11dd",
   "metadata": {},
   "outputs": [],
   "source": [
    "\n",
    "\n",
    "\n",
    "# si no quiero trabajar el dataset por lotes debo hace un unbatch\n",
    "\n",
    "dataset = validation_dataset.unbatch()\n",
    "\n",
    "\n",
    "subset = dataset.take(25)\n",
    "\n",
    "\n",
    "errores = []\n",
    "\n",
    "for text,label in subset:\n",
    "    \n",
    "    # text es (,) y necesito que sea (1,)\n",
    "    text = tf.expand_dims(text, axis=0)\n",
    "    \n",
    "    # predictions\n",
    "    prediction = final_model.predict(text,verbose=0)\n",
    "        \n",
    "    # paso a binario\n",
    "    binary_pred = tf.squeeze(tf.round(prediction))\n",
    "    #\n",
    "    \n",
    "    \n",
    "    true = label.numpy()\n",
    "    pred = binary_pred.numpy()\n",
    "    texto = text.numpy()\n",
    "    \n",
    "    bytes_value = np.ndarray.tobytes(texto)\n",
    "        \n",
    "    if true != pred:\n",
    "        texto = text.numpy()\n",
    "        errores.append({'text':texto,'true label':true,'pred':pred,'pred_prob':prediction[0][0]})\n",
    "        \n",
    "\n",
    "\n",
    "        \n",
    "\n",
    "    "
   ]
  },
  {
   "cell_type": "code",
   "execution_count": 134,
   "id": "a5cea396",
   "metadata": {},
   "outputs": [
    {
     "data": {
      "text/html": [
       "<div>\n",
       "<style scoped>\n",
       "    .dataframe tbody tr th:only-of-type {\n",
       "        vertical-align: middle;\n",
       "    }\n",
       "\n",
       "    .dataframe tbody tr th {\n",
       "        vertical-align: top;\n",
       "    }\n",
       "\n",
       "    .dataframe thead th {\n",
       "        text-align: right;\n",
       "    }\n",
       "</style>\n",
       "<table border=\"1\" class=\"dataframe\">\n",
       "  <thead>\n",
       "    <tr style=\"text-align: right;\">\n",
       "      <th></th>\n",
       "      <th>text</th>\n",
       "      <th>true label</th>\n",
       "      <th>pred</th>\n",
       "      <th>pred_prob</th>\n",
       "    </tr>\n",
       "  </thead>\n",
       "  <tbody>\n",
       "    <tr>\n",
       "      <th>0</th>\n",
       "      <td>[b'message start week attorney general schmitt office protect price gouging scam sure report price gouging calling 1 800 392 8222 reporting new form']</td>\n",
       "      <td>1</td>\n",
       "      <td>0.0</td>\n",
       "      <td>0.014736</td>\n",
       "    </tr>\n",
       "    <tr>\n",
       "      <th>1</th>\n",
       "      <td>[b'covid-19 opportunity : low oil price could mean future renewables http : //t.co/b8irzu9jqk']</td>\n",
       "      <td>1</td>\n",
       "      <td>0.0</td>\n",
       "      <td>0.116793</td>\n",
       "    </tr>\n",
       "    <tr>\n",
       "      <th>2</th>\n",
       "      <td>[b' govpritzker come news reminds illinoisan panic buy toilet paper . grocery store post one pack limit ; yet , morning 4 people grabbed two six pack limited toilet paper supply ... come people  coronavirus  stoppani']</td>\n",
       "      <td>1</td>\n",
       "      <td>0.0</td>\n",
       "      <td>0.000703</td>\n",
       "    </tr>\n",
       "    <tr>\n",
       "      <th>3</th>\n",
       "      <td>[b'scientist conclude people licked ice cream put back shelf created covid-19 . trump call new finding hoax traveling across u post video licking every ice cream every grocery store . live stream go http : //w']</td>\n",
       "      <td>1</td>\n",
       "      <td>0.0</td>\n",
       "      <td>0.050372</td>\n",
       "    </tr>\n",
       "  </tbody>\n",
       "</table>\n",
       "</div>"
      ],
      "text/plain": [
       "                                                                                                                                                                                                                         text  \\\n",
       "0                                                                      [b'message start week attorney general schmitt office protect price gouging scam sure report price gouging calling 1 800 392 8222 reporting new form']   \n",
       "1                                                                                                                             [b'covid-19 opportunity : low oil price could mean future renewables http : //t.co/b8irzu9jqk']   \n",
       "2  [b' govpritzker come news reminds illinoisan panic buy toilet paper . grocery store post one pack limit ; yet , morning 4 people grabbed two six pack limited toilet paper supply ... come people  coronavirus  stoppani']   \n",
       "3         [b'scientist conclude people licked ice cream put back shelf created covid-19 . trump call new finding hoax traveling across u post video licking every ice cream every grocery store . live stream go http : //w']   \n",
       "\n",
       "   true label  pred  pred_prob  \n",
       "0           1   0.0   0.014736  \n",
       "1           1   0.0   0.116793  \n",
       "2           1   0.0   0.000703  \n",
       "3           1   0.0   0.050372  "
      ]
     },
     "execution_count": 134,
     "metadata": {},
     "output_type": "execute_result"
    }
   ],
   "source": [
    "errors_df = pd.DataFrame(errores)\n",
    "\n",
    "pd.set_option('display.max_colwidth', None) # que No recorte el texto\n",
    "\n",
    "errors_df\n"
   ]
  },
  {
   "cell_type": "code",
   "execution_count": 122,
   "id": "6f4ba261",
   "metadata": {},
   "outputs": [
    {
     "name": "stderr",
     "output_type": "stream",
     "text": [
      "WARNING:absl:Found untraced functions such as _update_step_xla while saving (showing 1 of 1). These functions will not be directly callable after loading.\n"
     ]
    },
    {
     "name": "stdout",
     "output_type": "stream",
     "text": [
      "INFO:tensorflow:Assets written to: final_model/assets\n"
     ]
    },
    {
     "name": "stderr",
     "output_type": "stream",
     "text": [
      "INFO:tensorflow:Assets written to: final_model/assets\n"
     ]
    }
   ],
   "source": [
    "# guradando el modelo\n",
    "\n",
    "\n",
    "\n",
    "final_model.save('final_model',save_format='tf') # las capas de vect. no pueden guardasrse con h5 aún"
   ]
  },
  {
   "cell_type": "code",
   "execution_count": null,
   "id": "1d0e6c62",
   "metadata": {},
   "outputs": [],
   "source": []
  }
 ],
 "metadata": {
  "kernelspec": {
   "display_name": "Python 3 (ipykernel)",
   "language": "python",
   "name": "python3"
  },
  "language_info": {
   "codemirror_mode": {
    "name": "ipython",
    "version": 3
   },
   "file_extension": ".py",
   "mimetype": "text/x-python",
   "name": "python",
   "nbconvert_exporter": "python",
   "pygments_lexer": "ipython3",
   "version": "3.10.12"
  }
 },
 "nbformat": 4,
 "nbformat_minor": 5
}
