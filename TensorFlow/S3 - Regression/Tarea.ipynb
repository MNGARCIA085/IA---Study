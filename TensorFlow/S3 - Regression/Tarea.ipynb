{
 "cells": [
  {
   "cell_type": "code",
   "execution_count": 1,
   "id": "7d5bf3fe",
   "metadata": {},
   "outputs": [
    {
     "name": "stderr",
     "output_type": "stream",
     "text": [
      "2023-11-10 19:09:04.644831: I tensorflow/tsl/cuda/cudart_stub.cc:28] Could not find cuda drivers on your machine, GPU will not be used.\n",
      "2023-11-10 19:09:05.096700: I tensorflow/tsl/cuda/cudart_stub.cc:28] Could not find cuda drivers on your machine, GPU will not be used.\n",
      "2023-11-10 19:09:05.098655: I tensorflow/core/platform/cpu_feature_guard.cc:182] This TensorFlow binary is optimized to use available CPU instructions in performance-critical operations.\n",
      "To enable the following instructions: AVX2 FMA, in other operations, rebuild TensorFlow with the appropriate compiler flags.\n",
      "2023-11-10 19:09:06.700484: W tensorflow/compiler/tf2tensorrt/utils/py_utils.cc:38] TF-TRT Warning: Could not find TensorRT\n"
     ]
    }
   ],
   "source": [
    "import tensorflow as tf \n",
    "import tensorflow_datasets as tfds "
   ]
  },
  {
   "cell_type": "markdown",
   "id": "e4675d88",
   "metadata": {},
   "source": [
    "Crear dataset para regresión"
   ]
  },
  {
   "cell_type": "code",
   "execution_count": 2,
   "id": "59624f8d",
   "metadata": {},
   "outputs": [
    {
     "data": {
      "text/plain": [
       "((200, 10), (200,))"
      ]
     },
     "execution_count": 2,
     "metadata": {},
     "output_type": "execute_result"
    }
   ],
   "source": [
    "import numpy as np \n",
    "import matplotlib.pyplot as plt\n",
    "from sklearn.datasets import make_regression \n",
    "\n",
    "X , y  = make_regression(n_samples = 200 , \n",
    "                               n_features = 10 , \n",
    "                               n_targets = 1)\n",
    "\n",
    "X.shape , y.shape\n"
   ]
  },
  {
   "cell_type": "markdown",
   "id": "982490be",
   "metadata": {},
   "source": [
    "Visualización"
   ]
  },
  {
   "cell_type": "code",
   "execution_count": 10,
   "id": "47f21462",
   "metadata": {},
   "outputs": [
    {
     "data": {
      "text/plain": [
       "<matplotlib.collections.PathCollection at 0x7f4f5fca0640>"
      ]
     },
     "execution_count": 10,
     "metadata": {},
     "output_type": "execute_result"
    },
    {
     "data": {
      "image/png": "[encoded data removed]",
      "text/plain": [
       "<Figure size 640x480 with 1 Axes>"
      ]
     },
     "metadata": {},
     "output_type": "display_data"
    }
   ],
   "source": [
    "\n",
    "# grafico con la primer cols de caracts. e y\n",
    "plt.scatter(X[:,0],y)"
   ]
  },
  {
   "cell_type": "code",
   "execution_count": 8,
   "id": "3412932a",
   "metadata": {},
   "outputs": [
    {
     "data": {
      "text/plain": [
       "(200,)"
      ]
     },
     "execution_count": 8,
     "metadata": {},
     "output_type": "execute_result"
    }
   ],
   "source": [
    "X[:,0].shape"
   ]
  },
  {
   "cell_type": "code",
   "execution_count": 40,
   "id": "df6f33d8",
   "metadata": {},
   "outputs": [
    {
     "name": "stdout",
     "output_type": "stream",
     "text": [
      "<class 'numpy.ndarray'>\n"
     ]
    }
   ],
   "source": [
    "print(type(y))"
   ]
  },
  {
   "cell_type": "code",
   "execution_count": 50,
   "id": "92f17d2f",
   "metadata": {},
   "outputs": [],
   "source": [
    "# separro train/test\n",
    "\n",
    "\n",
    "from sklearn.model_selection import train_test_split\n",
    "\n",
    "\n",
    "# Set the random seed \n",
    "tf.random.set_seed(42)\n",
    "\n",
    "\n",
    "X_train,X_test,y_train,y_test = train_test_split(X,aux,test_size=.2)\n"
   ]
  },
  {
   "cell_type": "code",
   "execution_count": 53,
   "id": "4c2eeb7e",
   "metadata": {},
   "outputs": [],
   "source": [
    "# MODELO"
   ]
  },
  {
   "cell_type": "code",
   "execution_count": 57,
   "id": "fb651fb5",
   "metadata": {},
   "outputs": [
    {
     "name": "stdout",
     "output_type": "stream",
     "text": [
      "Epoch 1/5\n",
      "5/5 [==============================] - 1s 2ms/step - loss: 414317627981168640.0000 - mae: 92032816.0000\n",
      "Epoch 2/5\n",
      "5/5 [==============================] - 0s 3ms/step - loss: 78252232146944.0000 - mae: 8842422.0000\n",
      "Epoch 3/5\n",
      "5/5 [==============================] - 0s 2ms/step - loss: 63937760460800.0000 - mae: 7992848.0000\n",
      "Epoch 4/5\n",
      "5/5 [==============================] - 0s 2ms/step - loss: 52241801150464.0000 - mae: 7224902.5000\n",
      "Epoch 5/5\n",
      "5/5 [==============================] - 0s 3ms/step - loss: 42685356310528.0000 - mae: 6530738.5000\n"
     ]
    },
    {
     "data": {
      "text/plain": [
       "<keras.callbacks.History at 0x7f4f4d7a5540>"
      ]
     },
     "execution_count": 57,
     "metadata": {},
     "output_type": "execute_result"
    }
   ],
   "source": [
    "\n",
    "\n",
    "# 2 capas ocultas\n",
    "\n",
    "model = tf.keras.Sequential(\n",
    "    [\n",
    "        tf.keras.layers.Dense(10, activation=\"relu\", name=\"layer1\"),\n",
    "        tf.keras.layers.Dense(10, activation=\"relu\", name=\"layer2\"),\n",
    "        tf.keras.layers.Dense(1, name=\"output\"),\n",
    "    ]\n",
    ")\n",
    "\n",
    "\n",
    "model.compile(loss='mse',\n",
    "             optimizer=tf.keras.optimizers.SGD(),\n",
    "             metrics='mae')\n",
    "\n",
    "\n",
    "\n",
    "model.fit(X_train,y_train,epochs=5)\n",
    "\n"
   ]
  },
  {
   "cell_type": "code",
   "execution_count": 58,
   "id": "34c9df56",
   "metadata": {},
   "outputs": [
    {
     "name": "stdout",
     "output_type": "stream",
     "text": [
      "2/2 [==============================] - 0s 4ms/step - loss: 37749990096896.0000 - mae: 6144102.5000\n"
     ]
    },
    {
     "data": {
      "text/plain": [
       "[37749990096896.0, 6144102.5]"
      ]
     },
     "execution_count": 58,
     "metadata": {},
     "output_type": "execute_result"
    }
   ],
   "source": [
    "model.evaluate(X_test,y_test)"
   ]
  },
  {
   "cell_type": "code",
   "execution_count": 61,
   "id": "c0c7d467",
   "metadata": {},
   "outputs": [
    {
     "name": "stdout",
     "output_type": "stream",
     "text": [
      "2/2 [==============================] - 0s 2ms/step\n"
     ]
    }
   ],
   "source": [
    "y_pred = model.predict(X_test)"
   ]
  },
  {
   "cell_type": "code",
   "execution_count": 62,
   "id": "691ec474",
   "metadata": {},
   "outputs": [
    {
     "data": {
      "text/plain": [
       "array([[6144172.5],\n",
       "       [6144172.5],\n",
       "       [6144172.5],\n",
       "       [6144172.5],\n",
       "       [6144172.5],\n",
       "       [6144172.5],\n",
       "       [6144172.5],\n",
       "       [6144172.5],\n",
       "       [6144172.5],\n",
       "       [6144172.5],\n",
       "       [6144172.5],\n",
       "       [6144172.5],\n",
       "       [6144172.5],\n",
       "       [6144172.5],\n",
       "       [6144172.5],\n",
       "       [6144172.5],\n",
       "       [6144172.5],\n",
       "       [6144172.5],\n",
       "       [6144172.5],\n",
       "       [6144172.5],\n",
       "       [6144172.5],\n",
       "       [6144172.5],\n",
       "       [6144172.5],\n",
       "       [6144172.5],\n",
       "       [6144172.5],\n",
       "       [6144172.5],\n",
       "       [6144172.5],\n",
       "       [6144172.5],\n",
       "       [6144172.5],\n",
       "       [6144172.5],\n",
       "       [6144172.5],\n",
       "       [6144172.5],\n",
       "       [6144172.5],\n",
       "       [6144172.5],\n",
       "       [6144172.5],\n",
       "       [6144172.5],\n",
       "       [6144172.5],\n",
       "       [6144172.5],\n",
       "       [6144172.5],\n",
       "       [6144172.5]], dtype=float32)"
      ]
     },
     "execution_count": 62,
     "metadata": {},
     "output_type": "execute_result"
    }
   ],
   "source": [
    "y_pred\n"
   ]
  },
  {
   "cell_type": "code",
   "execution_count": 63,
   "id": "1791eba6",
   "metadata": {},
   "outputs": [],
   "source": [
    "# new model, more epochs and Adam"
   ]
  },
  {
   "cell_type": "code",
   "execution_count": 94,
   "id": "6adb4c6d",
   "metadata": {},
   "outputs": [
    {
     "name": "stdout",
     "output_type": "stream",
     "text": [
      "Epoch 1/100\n",
      "5/5 [==============================] - 1s 2ms/step - loss: 178.4535 - mae: 178.4535\n",
      "Epoch 2/100\n",
      "5/5 [==============================] - 0s 3ms/step - loss: 178.3543 - mae: 178.3543\n",
      "Epoch 3/100\n",
      "5/5 [==============================] - 0s 2ms/step - loss: 178.2509 - mae: 178.2509\n",
      "Epoch 4/100\n",
      "5/5 [==============================] - 0s 3ms/step - loss: 178.1532 - mae: 178.1532\n",
      "Epoch 5/100\n",
      "5/5 [==============================] - 0s 2ms/step - loss: 178.0634 - mae: 178.0634\n",
      "Epoch 6/100\n",
      "5/5 [==============================] - 0s 3ms/step - loss: 177.9622 - mae: 177.9622\n",
      "Epoch 7/100\n",
      "5/5 [==============================] - 0s 2ms/step - loss: 177.8669 - mae: 177.8669\n",
      "Epoch 8/100\n",
      "5/5 [==============================] - 0s 2ms/step - loss: 177.7587 - mae: 177.7587\n",
      "Epoch 9/100\n",
      "5/5 [==============================] - 0s 3ms/step - loss: 177.6442 - mae: 177.6442\n",
      "Epoch 10/100\n",
      "5/5 [==============================] - 0s 2ms/step - loss: 177.5171 - mae: 177.5171\n",
      "Epoch 11/100\n",
      "5/5 [==============================] - 0s 2ms/step - loss: 177.3734 - mae: 177.3734\n",
      "Epoch 12/100\n",
      "5/5 [==============================] - 0s 3ms/step - loss: 177.2114 - mae: 177.2114\n",
      "Epoch 13/100\n",
      "5/5 [==============================] - 0s 3ms/step - loss: 177.0297 - mae: 177.0297\n",
      "Epoch 14/100\n",
      "5/5 [==============================] - 0s 3ms/step - loss: 176.8116 - mae: 176.8116\n",
      "Epoch 15/100\n",
      "5/5 [==============================] - 0s 3ms/step - loss: 176.5771 - mae: 176.5771\n",
      "Epoch 16/100\n",
      "5/5 [==============================] - 0s 3ms/step - loss: 176.3205 - mae: 176.3205\n",
      "Epoch 17/100\n",
      "5/5 [==============================] - 0s 3ms/step - loss: 176.0092 - mae: 176.0092\n",
      "Epoch 18/100\n",
      "5/5 [==============================] - 0s 3ms/step - loss: 175.6643 - mae: 175.6643\n",
      "Epoch 19/100\n",
      "5/5 [==============================] - 0s 3ms/step - loss: 175.2865 - mae: 175.2865\n",
      "Epoch 20/100\n",
      "5/5 [==============================] - 0s 3ms/step - loss: 174.8308 - mae: 174.8308\n",
      "Epoch 21/100\n",
      "5/5 [==============================] - 0s 3ms/step - loss: 174.3246 - mae: 174.3246\n",
      "Epoch 22/100\n",
      "5/5 [==============================] - 0s 3ms/step - loss: 173.7426 - mae: 173.7426\n",
      "Epoch 23/100\n",
      "5/5 [==============================] - 0s 3ms/step - loss: 173.0881 - mae: 173.0881\n",
      "Epoch 24/100\n",
      "5/5 [==============================] - 0s 3ms/step - loss: 172.3175 - mae: 172.3175\n",
      "Epoch 25/100\n",
      "5/5 [==============================] - 0s 3ms/step - loss: 171.4939 - mae: 171.4939\n",
      "Epoch 26/100\n",
      "5/5 [==============================] - 0s 3ms/step - loss: 170.5315 - mae: 170.5315\n",
      "Epoch 27/100\n",
      "5/5 [==============================] - 0s 2ms/step - loss: 169.4128 - mae: 169.4128\n",
      "Epoch 28/100\n",
      "5/5 [==============================] - 0s 3ms/step - loss: 168.1861 - mae: 168.1861\n",
      "Epoch 29/100\n",
      "5/5 [==============================] - 0s 3ms/step - loss: 166.7956 - mae: 166.7956\n",
      "Epoch 30/100\n",
      "5/5 [==============================] - 0s 2ms/step - loss: 165.1756 - mae: 165.1756\n",
      "Epoch 31/100\n",
      "5/5 [==============================] - 0s 2ms/step - loss: 163.4231 - mae: 163.4231\n",
      "Epoch 32/100\n",
      "5/5 [==============================] - 0s 3ms/step - loss: 161.3639 - mae: 161.3639\n",
      "Epoch 33/100\n",
      "5/5 [==============================] - 0s 3ms/step - loss: 159.0434 - mae: 159.0434\n",
      "Epoch 34/100\n",
      "5/5 [==============================] - 0s 4ms/step - loss: 156.4597 - mae: 156.4597\n",
      "Epoch 35/100\n",
      "5/5 [==============================] - 0s 3ms/step - loss: 153.5611 - mae: 153.5611\n",
      "Epoch 36/100\n",
      "5/5 [==============================] - 0s 2ms/step - loss: 150.3471 - mae: 150.3471\n",
      "Epoch 37/100\n",
      "5/5 [==============================] - 0s 2ms/step - loss: 146.6511 - mae: 146.6511\n",
      "Epoch 38/100\n",
      "5/5 [==============================] - 0s 2ms/step - loss: 142.6831 - mae: 142.6831\n",
      "Epoch 39/100\n",
      "5/5 [==============================] - 0s 3ms/step - loss: 138.0869 - mae: 138.0869\n",
      "Epoch 40/100\n",
      "5/5 [==============================] - 0s 2ms/step - loss: 133.1925 - mae: 133.1925\n",
      "Epoch 41/100\n",
      "5/5 [==============================] - 0s 3ms/step - loss: 127.8401 - mae: 127.8401\n",
      "Epoch 42/100\n",
      "5/5 [==============================] - 0s 2ms/step - loss: 122.0310 - mae: 122.0310\n",
      "Epoch 43/100\n",
      "5/5 [==============================] - 0s 2ms/step - loss: 115.5710 - mae: 115.5710\n",
      "Epoch 44/100\n",
      "5/5 [==============================] - 0s 3ms/step - loss: 108.7044 - mae: 108.7044\n",
      "Epoch 45/100\n",
      "5/5 [==============================] - 0s 2ms/step - loss: 101.1809 - mae: 101.1809\n",
      "Epoch 46/100\n",
      "5/5 [==============================] - 0s 2ms/step - loss: 93.6785 - mae: 93.6785\n",
      "Epoch 47/100\n",
      "5/5 [==============================] - 0s 3ms/step - loss: 85.2111 - mae: 85.2111\n",
      "Epoch 48/100\n",
      "5/5 [==============================] - 0s 2ms/step - loss: 76.6032 - mae: 76.6032\n",
      "Epoch 49/100\n",
      "5/5 [==============================] - 0s 2ms/step - loss: 68.6898 - mae: 68.6898\n",
      "Epoch 50/100\n",
      "5/5 [==============================] - 0s 2ms/step - loss: 60.6125 - mae: 60.6125\n",
      "Epoch 51/100\n",
      "5/5 [==============================] - 0s 2ms/step - loss: 53.1667 - mae: 53.1667\n",
      "Epoch 52/100\n",
      "5/5 [==============================] - 0s 2ms/step - loss: 47.4384 - mae: 47.4384\n",
      "Epoch 53/100\n",
      "5/5 [==============================] - 0s 2ms/step - loss: 42.2757 - mae: 42.2757\n",
      "Epoch 54/100\n",
      "5/5 [==============================] - 0s 2ms/step - loss: 37.9173 - mae: 37.9173\n",
      "Epoch 55/100\n",
      "5/5 [==============================] - 0s 3ms/step - loss: 33.0459 - mae: 33.0459\n",
      "Epoch 56/100\n",
      "5/5 [==============================] - 0s 2ms/step - loss: 29.1914 - mae: 29.1914\n",
      "Epoch 57/100\n",
      "5/5 [==============================] - 0s 2ms/step - loss: 25.2777 - mae: 25.2777\n",
      "Epoch 58/100\n",
      "5/5 [==============================] - 0s 2ms/step - loss: 21.2881 - mae: 21.2881\n",
      "Epoch 59/100\n",
      "5/5 [==============================] - 0s 2ms/step - loss: 17.4748 - mae: 17.4748\n",
      "Epoch 60/100\n",
      "5/5 [==============================] - 0s 2ms/step - loss: 13.8484 - mae: 13.8484\n",
      "Epoch 61/100\n",
      "5/5 [==============================] - 0s 2ms/step - loss: 10.5192 - mae: 10.5192\n",
      "Epoch 62/100\n",
      "5/5 [==============================] - 0s 2ms/step - loss: 7.4919 - mae: 7.4919\n",
      "Epoch 63/100\n",
      "5/5 [==============================] - 0s 2ms/step - loss: 4.8874 - mae: 4.8874\n",
      "Epoch 64/100\n",
      "5/5 [==============================] - 0s 2ms/step - loss: 2.2661 - mae: 2.2661\n",
      "Epoch 65/100\n",
      "5/5 [==============================] - 0s 2ms/step - loss: 1.2485 - mae: 1.2485\n",
      "Epoch 66/100\n",
      "5/5 [==============================] - 0s 2ms/step - loss: 1.2659 - mae: 1.2659\n",
      "Epoch 67/100\n",
      "5/5 [==============================] - 0s 2ms/step - loss: 1.0906 - mae: 1.0906\n",
      "Epoch 68/100\n",
      "5/5 [==============================] - 0s 2ms/step - loss: 0.4754 - mae: 0.4754\n",
      "Epoch 69/100\n",
      "5/5 [==============================] - 0s 2ms/step - loss: 0.5910 - mae: 0.5910\n",
      "Epoch 70/100\n",
      "5/5 [==============================] - 0s 2ms/step - loss: 0.4176 - mae: 0.4176\n",
      "Epoch 71/100\n",
      "5/5 [==============================] - 0s 2ms/step - loss: 0.4513 - mae: 0.4513\n",
      "Epoch 72/100\n",
      "5/5 [==============================] - 0s 2ms/step - loss: 0.4808 - mae: 0.4808\n",
      "Epoch 73/100\n",
      "5/5 [==============================] - 0s 2ms/step - loss: 0.4036 - mae: 0.4036\n",
      "Epoch 74/100\n",
      "5/5 [==============================] - 0s 2ms/step - loss: 0.4266 - mae: 0.4266\n",
      "Epoch 75/100\n",
      "5/5 [==============================] - 0s 3ms/step - loss: 0.3726 - mae: 0.3726\n",
      "Epoch 76/100\n",
      "5/5 [==============================] - 0s 2ms/step - loss: 0.2918 - mae: 0.2918\n",
      "Epoch 77/100\n",
      "5/5 [==============================] - 0s 2ms/step - loss: 0.3126 - mae: 0.3126\n",
      "Epoch 78/100\n",
      "5/5 [==============================] - 0s 2ms/step - loss: 0.4513 - mae: 0.4513\n",
      "Epoch 79/100\n",
      "5/5 [==============================] - 0s 2ms/step - loss: 0.3767 - mae: 0.3767\n",
      "Epoch 80/100\n",
      "5/5 [==============================] - 0s 2ms/step - loss: 0.2722 - mae: 0.2722\n",
      "Epoch 81/100\n",
      "5/5 [==============================] - 0s 2ms/step - loss: 0.3209 - mae: 0.3209\n",
      "Epoch 82/100\n",
      "5/5 [==============================] - 0s 2ms/step - loss: 0.3434 - mae: 0.3434\n",
      "Epoch 83/100\n",
      "5/5 [==============================] - 0s 2ms/step - loss: 0.2176 - mae: 0.2176\n",
      "Epoch 84/100\n",
      "5/5 [==============================] - 0s 2ms/step - loss: 0.2194 - mae: 0.2194\n",
      "Epoch 85/100\n",
      "5/5 [==============================] - 0s 2ms/step - loss: 0.1736 - mae: 0.1736\n",
      "Epoch 86/100\n"
     ]
    },
    {
     "name": "stdout",
     "output_type": "stream",
     "text": [
      "5/5 [==============================] - 0s 3ms/step - loss: 0.1600 - mae: 0.1600\n",
      "Epoch 87/100\n",
      "5/5 [==============================] - 0s 2ms/step - loss: 0.1741 - mae: 0.1741\n",
      "Epoch 88/100\n",
      "5/5 [==============================] - 0s 2ms/step - loss: 0.2008 - mae: 0.2008\n",
      "Epoch 89/100\n",
      "5/5 [==============================] - 0s 2ms/step - loss: 0.1828 - mae: 0.1828\n",
      "Epoch 90/100\n",
      "5/5 [==============================] - 0s 2ms/step - loss: 0.1794 - mae: 0.1794\n",
      "Epoch 91/100\n",
      "5/5 [==============================] - 0s 2ms/step - loss: 0.2056 - mae: 0.2056\n",
      "Epoch 92/100\n",
      "5/5 [==============================] - 0s 2ms/step - loss: 0.2496 - mae: 0.2496\n",
      "Epoch 93/100\n",
      "5/5 [==============================] - 0s 2ms/step - loss: 0.1932 - mae: 0.1932\n",
      "Epoch 94/100\n",
      "5/5 [==============================] - 0s 2ms/step - loss: 0.1391 - mae: 0.1391\n",
      "Epoch 95/100\n",
      "5/5 [==============================] - 0s 2ms/step - loss: 0.1957 - mae: 0.1957\n",
      "Epoch 96/100\n",
      "5/5 [==============================] - 0s 2ms/step - loss: 0.2918 - mae: 0.2918\n",
      "Epoch 97/100\n",
      "5/5 [==============================] - 0s 2ms/step - loss: 0.3050 - mae: 0.3050\n",
      "Epoch 98/100\n",
      "5/5 [==============================] - 0s 2ms/step - loss: 0.3606 - mae: 0.3606\n",
      "Epoch 99/100\n",
      "5/5 [==============================] - 0s 2ms/step - loss: 0.3408 - mae: 0.3408\n",
      "Epoch 100/100\n",
      "5/5 [==============================] - 0s 2ms/step - loss: 0.5060 - mae: 0.5060\n"
     ]
    }
   ],
   "source": [
    "# Build the model \n",
    "model2 = tf.keras.Sequential([\n",
    "  tf.keras.layers.Dense(10) , \n",
    "  tf.keras.layers.Dense(10),\n",
    "  tf.keras.layers.Dense(10),\n",
    "  tf.keras.layers.Dense(1)\n",
    "]) \n",
    "\n",
    "# Compile the model\n",
    "model2.compile(loss = tf.keras.losses.mae , \n",
    "              optimizer = tf.keras.optimizers.Adam(learning_rate=0.001) , \n",
    "              metrics = ['mae'])\n",
    "\n",
    "# Fit the model \n",
    "history = model2.fit(X_train , y_train , epochs= 100)"
   ]
  },
  {
   "cell_type": "code",
   "execution_count": 103,
   "id": "ff862edd",
   "metadata": {},
   "outputs": [
    {
     "name": "stdout",
     "output_type": "stream",
     "text": [
      "2/2 [==============================] - 0s 3ms/step - loss: 10.1641 - mae: 10.1641\n"
     ]
    },
    {
     "data": {
      "text/plain": [
       "[10.164102554321289, 10.164102554321289]"
      ]
     },
     "execution_count": 103,
     "metadata": {},
     "output_type": "execute_result"
    }
   ],
   "source": [
    "model2.evaluate(X_test,y_test)"
   ]
  },
  {
   "cell_type": "code",
   "execution_count": 95,
   "id": "d2efdabe",
   "metadata": {},
   "outputs": [
    {
     "data": {
      "text/plain": [
       "dict"
      ]
     },
     "execution_count": 95,
     "metadata": {},
     "output_type": "execute_result"
    }
   ],
   "source": [
    "type(history.history)"
   ]
  },
  {
   "cell_type": "code",
   "execution_count": 96,
   "id": "37aa352b",
   "metadata": {},
   "outputs": [
    {
     "data": {
      "text/plain": [
       "Text(0.5, 0, 'Epochs')"
      ]
     },
     "execution_count": 96,
     "metadata": {},
     "output_type": "execute_result"
    },
    {
     "data": {
      "image/png": "[encoded data removed]",
      "text/plain": [
       "<Figure size 640x480 with 1 Axes>"
      ]
     },
     "metadata": {},
     "output_type": "display_data"
    }
   ],
   "source": [
    "pd.DataFrame(history.history).plot()\n",
    "plt.ylabel('Loss')\n",
    "plt.xlabel('Epochs')"
   ]
  },
  {
   "cell_type": "code",
   "execution_count": null,
   "id": "8a1c99f3",
   "metadata": {},
   "outputs": [],
   "source": []
  },
  {
   "cell_type": "code",
   "execution_count": 105,
   "id": "8d9e689f",
   "metadata": {},
   "outputs": [],
   "source": [
    "# mejor: normalizo los datos!!!\n",
    "\n",
    "\n",
    "\n",
    "\"\"\" Standard Scaler\"\"\"\n",
    "#from sklearn.preprocessing import StandardScaler\n",
    "#scaler = StandardScaler()\n",
    "#X_train_normalized = scaler.fit_transform(X_train)\n",
    "#X_test_normalized = scaler.transform(X_test)\n",
    "\n",
    "\n",
    "\n",
    "\"\"\"Min Max Scaler\"\"\"\n",
    "\n",
    "from sklearn.preprocessing import MinMaxScaler\n",
    "\n",
    "scaler = MinMaxScaler()\n",
    "X_train_normalized = scaler.fit_transform(X_train)\n",
    "X_test_normalized = scaler.transform(X_test)\n",
    "\n",
    "\n",
    "\n",
    "\n",
    "\n"
   ]
  },
  {
   "cell_type": "code",
   "execution_count": 106,
   "id": "99e38a16",
   "metadata": {},
   "outputs": [
    {
     "name": "stdout",
     "output_type": "stream",
     "text": [
      "Epoch 1/100\n",
      "5/5 [==============================] - 0s 2ms/step - loss: 325.9580 - mae: 325.9580\n",
      "Epoch 2/100\n",
      "5/5 [==============================] - 0s 3ms/step - loss: 311.9395 - mae: 311.9395\n",
      "Epoch 3/100\n",
      "5/5 [==============================] - 0s 3ms/step - loss: 291.2227 - mae: 291.2227\n",
      "Epoch 4/100\n",
      "5/5 [==============================] - 0s 3ms/step - loss: 270.6039 - mae: 270.6039\n",
      "Epoch 5/100\n",
      "5/5 [==============================] - 0s 3ms/step - loss: 251.8145 - mae: 251.8145\n",
      "Epoch 6/100\n",
      "5/5 [==============================] - 0s 2ms/step - loss: 237.0204 - mae: 237.0204\n",
      "Epoch 7/100\n",
      "5/5 [==============================] - 0s 2ms/step - loss: 223.7730 - mae: 223.7730\n",
      "Epoch 8/100\n",
      "5/5 [==============================] - 0s 2ms/step - loss: 214.7284 - mae: 214.7284\n",
      "Epoch 9/100\n",
      "5/5 [==============================] - 0s 3ms/step - loss: 208.0573 - mae: 208.0573\n",
      "Epoch 10/100\n",
      "5/5 [==============================] - 0s 3ms/step - loss: 202.6523 - mae: 202.6523\n",
      "Epoch 11/100\n",
      "5/5 [==============================] - 0s 3ms/step - loss: 198.0928 - mae: 198.0928\n",
      "Epoch 12/100\n",
      "5/5 [==============================] - 0s 4ms/step - loss: 195.0086 - mae: 195.0086\n",
      "Epoch 13/100\n",
      "5/5 [==============================] - 0s 3ms/step - loss: 192.7021 - mae: 192.7021\n",
      "Epoch 14/100\n",
      "5/5 [==============================] - 0s 2ms/step - loss: 190.7667 - mae: 190.7667\n",
      "Epoch 15/100\n",
      "5/5 [==============================] - 0s 3ms/step - loss: 189.2831 - mae: 189.2831\n",
      "Epoch 16/100\n",
      "5/5 [==============================] - 0s 2ms/step - loss: 187.7605 - mae: 187.7605\n",
      "Epoch 17/100\n",
      "5/5 [==============================] - 0s 2ms/step - loss: 186.6601 - mae: 186.6601\n",
      "Epoch 18/100\n",
      "5/5 [==============================] - 0s 2ms/step - loss: 185.9051 - mae: 185.9051\n",
      "Epoch 19/100\n",
      "5/5 [==============================] - 0s 4ms/step - loss: 185.0992 - mae: 185.0992\n",
      "Epoch 20/100\n",
      "5/5 [==============================] - 0s 4ms/step - loss: 184.4178 - mae: 184.4178\n",
      "Epoch 21/100\n",
      "5/5 [==============================] - 0s 3ms/step - loss: 183.7594 - mae: 183.7594\n",
      "Epoch 22/100\n",
      "5/5 [==============================] - 0s 3ms/step - loss: 183.2834 - mae: 183.2834\n",
      "Epoch 23/100\n",
      "5/5 [==============================] - 0s 3ms/step - loss: 182.6761 - mae: 182.6761\n",
      "Epoch 24/100\n",
      "5/5 [==============================] - 0s 2ms/step - loss: 182.2980 - mae: 182.2980\n",
      "Epoch 25/100\n",
      "5/5 [==============================] - 0s 3ms/step - loss: 181.7880 - mae: 181.7880\n",
      "Epoch 26/100\n",
      "5/5 [==============================] - 0s 2ms/step - loss: 181.4692 - mae: 181.4692\n",
      "Epoch 27/100\n",
      "5/5 [==============================] - 0s 3ms/step - loss: 181.2380 - mae: 181.2380\n",
      "Epoch 28/100\n",
      "5/5 [==============================] - 0s 3ms/step - loss: 180.8170 - mae: 180.8170\n",
      "Epoch 29/100\n",
      "5/5 [==============================] - 0s 4ms/step - loss: 180.5658 - mae: 180.5658\n",
      "Epoch 30/100\n",
      "5/5 [==============================] - 0s 4ms/step - loss: 180.2975 - mae: 180.2975\n",
      "Epoch 31/100\n",
      "5/5 [==============================] - 0s 3ms/step - loss: 180.0944 - mae: 180.0944\n",
      "Epoch 32/100\n",
      "5/5 [==============================] - 0s 3ms/step - loss: 179.8693 - mae: 179.8693\n",
      "Epoch 33/100\n",
      "5/5 [==============================] - 0s 3ms/step - loss: 179.6952 - mae: 179.6952\n",
      "Epoch 34/100\n",
      "5/5 [==============================] - 0s 3ms/step - loss: 179.5128 - mae: 179.5128\n",
      "Epoch 35/100\n",
      "5/5 [==============================] - 0s 2ms/step - loss: 179.3230 - mae: 179.3230\n",
      "Epoch 36/100\n",
      "5/5 [==============================] - 0s 3ms/step - loss: 179.1907 - mae: 179.1907\n",
      "Epoch 37/100\n",
      "5/5 [==============================] - 0s 2ms/step - loss: 179.0983 - mae: 179.0983\n",
      "Epoch 38/100\n",
      "5/5 [==============================] - 0s 2ms/step - loss: 178.9230 - mae: 178.9230\n",
      "Epoch 39/100\n",
      "5/5 [==============================] - 0s 4ms/step - loss: 178.8536 - mae: 178.8536\n",
      "Epoch 40/100\n",
      "5/5 [==============================] - 0s 2ms/step - loss: 178.6758 - mae: 178.6758\n",
      "Epoch 41/100\n",
      "5/5 [==============================] - 0s 2ms/step - loss: 178.5593 - mae: 178.5593\n",
      "Epoch 42/100\n",
      "5/5 [==============================] - 0s 2ms/step - loss: 178.3897 - mae: 178.3897\n",
      "Epoch 43/100\n",
      "5/5 [==============================] - 0s 3ms/step - loss: 178.2871 - mae: 178.2871\n",
      "Epoch 44/100\n",
      "5/5 [==============================] - 0s 2ms/step - loss: 178.1958 - mae: 178.1958\n",
      "Epoch 45/100\n",
      "5/5 [==============================] - 0s 3ms/step - loss: 178.0836 - mae: 178.0836\n",
      "Epoch 46/100\n",
      "5/5 [==============================] - 0s 3ms/step - loss: 177.9619 - mae: 177.9619\n",
      "Epoch 47/100\n",
      "5/5 [==============================] - 0s 3ms/step - loss: 177.9045 - mae: 177.9045\n",
      "Epoch 48/100\n",
      "5/5 [==============================] - 0s 3ms/step - loss: 177.8262 - mae: 177.8262\n",
      "Epoch 49/100\n",
      "5/5 [==============================] - 0s 3ms/step - loss: 177.7118 - mae: 177.7118\n",
      "Epoch 50/100\n",
      "5/5 [==============================] - 0s 3ms/step - loss: 177.6552 - mae: 177.6552\n",
      "Epoch 51/100\n",
      "5/5 [==============================] - 0s 3ms/step - loss: 177.5417 - mae: 177.5417\n",
      "Epoch 52/100\n",
      "5/5 [==============================] - 0s 3ms/step - loss: 177.4900 - mae: 177.4900\n",
      "Epoch 53/100\n",
      "5/5 [==============================] - 0s 2ms/step - loss: 177.3859 - mae: 177.3859\n",
      "Epoch 54/100\n",
      "5/5 [==============================] - 0s 3ms/step - loss: 177.3335 - mae: 177.3335\n",
      "Epoch 55/100\n",
      "5/5 [==============================] - 0s 4ms/step - loss: 177.2725 - mae: 177.2725\n",
      "Epoch 56/100\n",
      "5/5 [==============================] - 0s 2ms/step - loss: 177.2073 - mae: 177.2073\n",
      "Epoch 57/100\n",
      "5/5 [==============================] - 0s 3ms/step - loss: 177.1327 - mae: 177.1327\n",
      "Epoch 58/100\n",
      "5/5 [==============================] - 0s 2ms/step - loss: 177.0745 - mae: 177.0745\n",
      "Epoch 59/100\n",
      "5/5 [==============================] - 0s 2ms/step - loss: 177.0316 - mae: 177.0316\n",
      "Epoch 60/100\n",
      "5/5 [==============================] - 0s 2ms/step - loss: 176.9757 - mae: 176.9757\n",
      "Epoch 61/100\n",
      "5/5 [==============================] - 0s 3ms/step - loss: 176.9653 - mae: 176.9653\n",
      "Epoch 62/100\n",
      "5/5 [==============================] - 0s 3ms/step - loss: 176.8712 - mae: 176.8712\n",
      "Epoch 63/100\n",
      "5/5 [==============================] - 0s 3ms/step - loss: 176.8171 - mae: 176.8171\n",
      "Epoch 64/100\n",
      "5/5 [==============================] - 0s 2ms/step - loss: 176.7730 - mae: 176.7730\n",
      "Epoch 65/100\n",
      "5/5 [==============================] - 0s 2ms/step - loss: 176.7279 - mae: 176.7279\n",
      "Epoch 66/100\n",
      "5/5 [==============================] - 0s 2ms/step - loss: 176.6849 - mae: 176.6849\n",
      "Epoch 67/100\n",
      "5/5 [==============================] - 0s 2ms/step - loss: 176.6614 - mae: 176.6614\n",
      "Epoch 68/100\n",
      "5/5 [==============================] - 0s 2ms/step - loss: 176.6009 - mae: 176.6009\n",
      "Epoch 69/100\n",
      "5/5 [==============================] - 0s 3ms/step - loss: 176.5644 - mae: 176.5644\n",
      "Epoch 70/100\n",
      "5/5 [==============================] - 0s 3ms/step - loss: 176.5302 - mae: 176.5302\n",
      "Epoch 71/100\n",
      "5/5 [==============================] - 0s 3ms/step - loss: 176.4667 - mae: 176.4667\n",
      "Epoch 72/100\n",
      "5/5 [==============================] - 0s 3ms/step - loss: 176.4135 - mae: 176.4135\n",
      "Epoch 73/100\n",
      "5/5 [==============================] - 0s 3ms/step - loss: 176.3835 - mae: 176.3835\n",
      "Epoch 74/100\n",
      "5/5 [==============================] - 0s 2ms/step - loss: 176.3464 - mae: 176.3464\n",
      "Epoch 75/100\n",
      "5/5 [==============================] - 0s 2ms/step - loss: 176.2974 - mae: 176.2974\n",
      "Epoch 76/100\n",
      "5/5 [==============================] - 0s 2ms/step - loss: 176.2504 - mae: 176.2504\n",
      "Epoch 77/100\n",
      "5/5 [==============================] - 0s 2ms/step - loss: 176.2057 - mae: 176.2057\n",
      "Epoch 78/100\n",
      "5/5 [==============================] - 0s 3ms/step - loss: 176.1643 - mae: 176.1643\n",
      "Epoch 79/100\n",
      "5/5 [==============================] - 0s 3ms/step - loss: 176.1264 - mae: 176.1264\n",
      "Epoch 80/100\n",
      "5/5 [==============================] - 0s 3ms/step - loss: 176.0888 - mae: 176.0888\n",
      "Epoch 81/100\n",
      "5/5 [==============================] - 0s 3ms/step - loss: 176.0359 - mae: 176.0359\n",
      "Epoch 82/100\n",
      "5/5 [==============================] - 0s 3ms/step - loss: 175.9956 - mae: 175.9956\n",
      "Epoch 83/100\n",
      "5/5 [==============================] - 0s 3ms/step - loss: 175.9643 - mae: 175.9643\n",
      "Epoch 84/100\n",
      "5/5 [==============================] - 0s 3ms/step - loss: 175.9091 - mae: 175.9091\n",
      "Epoch 85/100\n"
     ]
    },
    {
     "name": "stdout",
     "output_type": "stream",
     "text": [
      "5/5 [==============================] - 0s 2ms/step - loss: 175.8769 - mae: 175.8769\n",
      "Epoch 86/100\n",
      "5/5 [==============================] - 0s 2ms/step - loss: 175.8271 - mae: 175.8271\n",
      "Epoch 87/100\n",
      "5/5 [==============================] - 0s 2ms/step - loss: 175.7809 - mae: 175.7809\n",
      "Epoch 88/100\n",
      "5/5 [==============================] - 0s 2ms/step - loss: 175.7452 - mae: 175.7452\n",
      "Epoch 89/100\n",
      "5/5 [==============================] - 0s 2ms/step - loss: 175.7078 - mae: 175.7078\n",
      "Epoch 90/100\n",
      "5/5 [==============================] - 0s 2ms/step - loss: 175.6804 - mae: 175.6804\n",
      "Epoch 91/100\n",
      "5/5 [==============================] - 0s 2ms/step - loss: 175.6169 - mae: 175.6169\n",
      "Epoch 92/100\n",
      "5/5 [==============================] - 0s 2ms/step - loss: 175.5997 - mae: 175.5997\n",
      "Epoch 93/100\n",
      "5/5 [==============================] - 0s 2ms/step - loss: 175.5424 - mae: 175.5424\n",
      "Epoch 94/100\n",
      "5/5 [==============================] - 0s 3ms/step - loss: 175.5192 - mae: 175.5192\n",
      "Epoch 95/100\n",
      "5/5 [==============================] - 0s 2ms/step - loss: 175.4492 - mae: 175.4492\n",
      "Epoch 96/100\n",
      "5/5 [==============================] - 0s 2ms/step - loss: 175.4195 - mae: 175.4195\n",
      "Epoch 97/100\n",
      "5/5 [==============================] - 0s 2ms/step - loss: 175.3741 - mae: 175.3741\n",
      "Epoch 98/100\n",
      "5/5 [==============================] - 0s 2ms/step - loss: 175.3283 - mae: 175.3283\n",
      "Epoch 99/100\n",
      "5/5 [==============================] - 0s 2ms/step - loss: 175.3053 - mae: 175.3053\n",
      "Epoch 100/100\n",
      "5/5 [==============================] - 0s 2ms/step - loss: 175.2531 - mae: 175.2531\n"
     ]
    }
   ],
   "source": [
    "model3 = tf.keras.Sequential([\n",
    "  tf.keras.layers.Dense(10) , \n",
    "  tf.keras.layers.Dense(10),\n",
    "  tf.keras.layers.Dense(10),\n",
    "  tf.keras.layers.Dense(1)\n",
    "]) \n",
    "\n",
    "# Compile the model\n",
    "model3.compile(loss = tf.keras.losses.mae , \n",
    "              optimizer = tf.keras.optimizers.Adam(learning_rate=0.001) , \n",
    "              metrics = ['mae'])\n",
    "\n",
    "# Fit the model \n",
    "history2 = model2.fit(X_train_normalized , y_train , epochs= 100)"
   ]
  },
  {
   "cell_type": "code",
   "execution_count": 107,
   "id": "c383b7ac",
   "metadata": {},
   "outputs": [],
   "source": [
    "# Aplica el mismo scaler que se utilizó en el entrenamiento\n",
    "X_test_normalized = scaler.transform(X_test)"
   ]
  },
  {
   "cell_type": "code",
   "execution_count": 108,
   "id": "adc139ad",
   "metadata": {},
   "outputs": [
    {
     "name": "stdout",
     "output_type": "stream",
     "text": [
      "2/2 [==============================] - 0s 3ms/step - loss: 190.1163 - mae: 190.1163\n"
     ]
    },
    {
     "data": {
      "text/plain": [
       "[190.1162567138672, 190.1162567138672]"
      ]
     },
     "execution_count": 108,
     "metadata": {},
     "output_type": "execute_result"
    }
   ],
   "source": [
    "model3.evaluate(X_test_normalized,y_test)"
   ]
  },
  {
   "cell_type": "code",
   "execution_count": null,
   "id": "9273e7e7",
   "metadata": {},
   "outputs": [],
   "source": []
  }
 ],
 "metadata": {
  "kernelspec": {
   "display_name": "Python 3 (ipykernel)",
   "language": "python",
   "name": "python3"
  },
  "language_info": {
   "codemirror_mode": {
    "name": "ipython",
    "version": 3
   },
   "file_extension": ".py",
   "mimetype": "text/x-python",
   "name": "python",
   "nbconvert_exporter": "python",
   "pygments_lexer": "ipython3",
   "version": "3.10.12"
  }
 },
 "nbformat": 4,
 "nbformat_minor": 5
}
