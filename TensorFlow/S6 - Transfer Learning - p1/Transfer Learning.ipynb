{
 "cells": [
  {
   "cell_type": "markdown",
   "id": "afe51013",
   "metadata": {},
   "source": [
    "# <center> <font color='blue'><b>TRANSFER LEARNING</b></font></center>"
   ]
  },
  {
   "cell_type": "markdown",
   "id": "4b4482e8",
   "metadata": {},
   "source": [
    "## Objetivos\n",
    "\n",
    "Practicarme con Transfer Learning"
   ]
  },
  {
   "cell_type": "markdown",
   "id": "cb9ef731",
   "metadata": {},
   "source": [
    "Types of Transfer Learning\n",
    "\n",
    "    \"As is\" Transfer Learning:\n",
    "        Using an existing pre-trained model without making any changes.\n",
    "        For example, using a model trained on ImageNet with its original architecture and weights for predictions on the same set of ImageNet classes.\n",
    "\n",
    "    Feature Extraction Transfer Learning:\n",
    "        Using the pre-learned patterns of an existing model (e.g., EfficientNetB0 trained on ImageNet) as feature extractors.\n",
    "        Typically, adjusting only the output layer for your specific problem, such as changing the number of output classes (e.g., from 1000 ImageNet classes to 10 classes of food).\n",
    "\n",
    "    Fine-Tuning Transfer Learning:\n",
    "        Using the pre-learned patterns of an existing model and \"fine-tuning\" some or all of the underlying layers.\n",
    "        This involves adjusting the weights of existing layers, often including lower layers, in addition to training new output layers.\n",
    "        Fine-tuning allows the model to adapt to the specifics of the new task while retaining some knowledge from the pre-trained model.\n",
    "\n",
    "These distinctions are crucial when deciding how to leverage pre-trained models for your specific machine learning or deep learning task. \"As is\" transfer learning is useful when the task is similar to the original pre-training task, while feature extraction and fine-tuning are more appropriate for adapting models to new, related tasks.\n",
    " "
   ]
  },
  {
   "cell_type": "markdown",
   "id": "463f8023",
   "metadata": {},
   "source": [
    "\n",
    "## Librerías necesarias\n"
   ]
  },
  {
   "cell_type": "code",
   "execution_count": 69,
   "id": "f4f6e865",
   "metadata": {},
   "outputs": [],
   "source": [
    "# que no se impriman info y warnings\n",
    "import os\n",
    "os.environ['TF_CPP_MIN_LOG_LEVEL'] = '2' "
   ]
  },
  {
   "cell_type": "code",
   "execution_count": 70,
   "id": "182f00f1",
   "metadata": {},
   "outputs": [],
   "source": [
    "import tensorflow as tf\n",
    "import matplotlib.pyplot as plt\n",
    "import numpy as np\n",
    "from tensorflow.keras import layers,callbacks,models,Sequential,losses\n",
    "import seaborn as sns\n",
    "from sklearn.metrics import confusion_matrix\n",
    "import keras_tuner\n",
    "from tensorflow import keras\n",
    "from keras import backend as K\n",
    "import os,datetime\n",
    "import pandas as pd\n",
    "from sklearn.metrics import confusion_matrix\n",
    "from tensorflow.keras.preprocessing.image import ImageDataGenerator\n",
    "import tensorflow_hub as hub"
   ]
  },
  {
   "cell_type": "markdown",
   "id": "1533116e",
   "metadata": {},
   "source": [
    "## Helper Functions"
   ]
  },
  {
   "cell_type": "code",
   "execution_count": 71,
   "id": "235edc61",
   "metadata": {},
   "outputs": [],
   "source": [
    "\n",
    "# plot history\n",
    "def plot_history(history):\n",
    "    hist = pd.DataFrame(history.history)\n",
    "    hist['epoch'] = history.epoch\n",
    "\n",
    "    plt.figure(figsize=(10,4))\n",
    "    \n",
    "    plt.subplot(1,2,1)\n",
    "    plt.title('Training and validation loss')\n",
    "    plt.xlabel('Epoch')\n",
    "    plt.ylabel('Loss')\n",
    "    plt.plot(hist['epoch'], hist['loss'],\n",
    "           label='Train Error')\n",
    "    plt.plot(hist['epoch'], hist['val_loss'],\n",
    "           label = 'Val Error')\n",
    "    plt.legend()\n",
    "\n",
    "    #plt.figure()\n",
    "    plt.subplot(1,2,2)\n",
    "    plt.title('Training and validation accuracy')\n",
    "    plt.xlabel('Epoch')\n",
    "    plt.ylabel('Accuracy')\n",
    "    plt.plot(hist['epoch'], hist['accuracy'],\n",
    "           label='Train Accuracy')\n",
    "    plt.plot(hist['epoch'], hist['val_accuracy'],\n",
    "           label = 'Val Accuracy')\n",
    "    plt.legend()\n",
    "    plt.show()"
   ]
  },
  {
   "cell_type": "markdown",
   "id": "93d67c33",
   "metadata": {},
   "source": [
    "## Carga de datos"
   ]
  },
  {
   "cell_type": "code",
   "execution_count": 72,
   "id": "9bd55383",
   "metadata": {},
   "outputs": [],
   "source": [
    "seed_value = 57\n",
    "np.random.seed(seed_value)\n",
    "tf.random.set_seed(seed_value)"
   ]
  },
  {
   "cell_type": "code",
   "execution_count": 73,
   "id": "64bd4e8f",
   "metadata": {},
   "outputs": [],
   "source": [
    "IMG_SHAPE = (224,224)\n",
    "BATCH_SIZE = 32\n",
    "\n",
    "train_dir='/home/marcos/Escritorio/IA/IA---Study/S6 - Transfer Learning - p1/data/Sports-celebrity images/train'\n",
    "test_dir='/home/marcos/Escritorio/IA/IA---Study/S6 - Transfer Learning - p1/data/Sports-celebrity images/test'"
   ]
  },
  {
   "cell_type": "code",
   "execution_count": 74,
   "id": "40f36b28",
   "metadata": {},
   "outputs": [
    {
     "name": "stdout",
     "output_type": "stream",
     "text": [
      "Found 315 images belonging to 4 classes.\n",
      "Found 78 images belonging to 4 classes.\n",
      "Found 50 images belonging to 4 classes.\n"
     ]
    }
   ],
   "source": [
    "train_datagen = ImageDataGenerator(rescale=1/255.,\n",
    "                                  validation_split=0.2) # dsp. implementaré data augmentation\n",
    "\n",
    "\n",
    "\n",
    "#\n",
    "train_generator = train_datagen.flow_from_directory(\n",
    "    train_dir,\n",
    "    target_size = IMG_SHAPE,\n",
    "    batch_size=BATCH_SIZE,\n",
    "    class_mode='categorical',\n",
    "    subset='training'\n",
    ")\n",
    "\n",
    "validation_generator = train_datagen.flow_from_directory(\n",
    "    train_dir,\n",
    "    target_size = IMG_SHAPE,\n",
    "    batch_size=BATCH_SIZE,\n",
    "    class_mode='categorical',\n",
    "    subset='validation'\n",
    ")\n",
    "\n",
    "\n",
    "\n",
    "\n",
    "#\n",
    "test_datagen = ImageDataGenerator(rescale=1/255.)\n",
    "\n",
    "test_generator = test_datagen.flow_from_directory(test_dir,\n",
    "                                             target_size=IMG_SHAPE,\n",
    "                                             batch_size=BATCH_SIZE,\n",
    "                                             class_mode=\"categorical\")\n"
   ]
  },
  {
   "cell_type": "code",
   "execution_count": 75,
   "id": "e1f20b07",
   "metadata": {},
   "outputs": [],
   "source": [
    "num_classes = train_generator.num_classes\n"
   ]
  },
  {
   "cell_type": "markdown",
   "id": "c12f10bc",
   "metadata": {},
   "source": [
    "## 1. Probando modelos bien conocidos"
   ]
  },
  {
   "cell_type": "markdown",
   "id": "58d6f3f8",
   "metadata": {},
   "source": [
    "Probaremos ResNet e ImageNet; no entrenaremos sus pesos, simplemente agregaremos una capa de salida apropiada.\n"
   ]
  },
  {
   "cell_type": "code",
   "execution_count": 76,
   "id": "a734bcc1",
   "metadata": {},
   "outputs": [],
   "source": [
    "resnet_url = \"https://tfhub.dev/google/imagenet/resnet_v2_50/feature_vector/4\"\n",
    "\n",
    "efficientnet_url = \"https://tfhub.dev/tensorflow/efficientnet/b0/feature-vector/1\""
   ]
  },
  {
   "cell_type": "code",
   "execution_count": 77,
   "id": "b71bddd4",
   "metadata": {},
   "outputs": [],
   "source": [
    "# Create TensorBoard callback (functionized beause we need to create a new one for each model)\n",
    "\n",
    "def create_tensorboard_callback(dir_name, experiment_name):\n",
    "  #log_dir = dir_name + \"/\" + experiment_name + \"/\" + datetime.datetime.now().strftime(\"%Y%m%d-%H%M%S\")\n",
    "  log_dir = './logs'\n",
    "  tensorboard_callback = tf.keras.callbacks.TensorBoard(log_dir=log_dir)\n",
    "  print(f\"Saving TensorBoard log files to: {log_dir}\")\n",
    "  return tensorboard_callback\n",
    "\n",
    "\n"
   ]
  },
  {
   "cell_type": "code",
   "execution_count": 78,
   "id": "3ee3024e",
   "metadata": {},
   "outputs": [],
   "source": [
    "# Let's make a create_model() function to create a model from a URL\n",
    "def create_model(model_url, num_classes=4):\n",
    "  \"\"\"\n",
    "  Takes a TensorFlow Hub URL and creates a Keras Sequential model with it.\n",
    "\n",
    "  Args:\n",
    "    model_url (str): A TensorFlow Hub feature extraction URL.\n",
    "    num_classes (int): Number of output neurons in the output layer,\n",
    "      should be equal to number of target classes, default 4.\n",
    "  \n",
    "  Returns:\n",
    "    An uncompiled Keras Sequential model with model_url as feature extractor\n",
    "    layer and Dense output layer with num_classes output neurons.\n",
    "  \"\"\"\n",
    "  # Download the pretrained model and save it as a Keras layer\n",
    "  feature_extractor_layer = hub.KerasLayer(model_url,\n",
    "                                           trainable=False, # freeze the already learned patterns\n",
    "                                           name=\"feature_extraction_lyaer\",\n",
    "                                           input_shape=IMG_SHAPE+(3,)) \n",
    "\n",
    "  # Create our own model\n",
    "  model = tf.keras.Sequential([\n",
    "    feature_extractor_layer,\n",
    "    layers.Dense(num_classes, activation=\"softmax\", name=\"output_layer\")\n",
    "  ])\n",
    "    \n",
    "  return model  "
   ]
  },
  {
   "cell_type": "markdown",
   "id": "a573916e",
   "metadata": {},
   "source": [
    "### 1.1 RESNET"
   ]
  },
  {
   "cell_type": "code",
   "execution_count": 80,
   "id": "18b6ad84",
   "metadata": {},
   "outputs": [
    {
     "name": "stdout",
     "output_type": "stream",
     "text": [
      "Model: \"sequential\"\n",
      "_________________________________________________________________\n",
      " Layer (type)                Output Shape              Param #   \n",
      "=================================================================\n",
      " feature_extraction_lyaer (K  (None, 2048)             23564800  \n",
      " erasLayer)                                                      \n",
      "                                                                 \n",
      " output_layer (Dense)        (None, 4)                 8196      \n",
      "                                                                 \n",
      "=================================================================\n",
      "Total params: 23,572,996\n",
      "Trainable params: 8,196\n",
      "Non-trainable params: 23,564,800\n",
      "_________________________________________________________________\n"
     ]
    }
   ],
   "source": [
    "# Create Resnet model \n",
    "resnet_model = create_model(resnet_url,\n",
    "                            num_classes=num_classes)\n",
    "\n",
    "\n",
    "resnet_model.summary()\n"
   ]
  },
  {
   "cell_type": "code",
   "execution_count": 82,
   "id": "f63d6573",
   "metadata": {},
   "outputs": [],
   "source": [
    "# Compile our resnet model\n",
    "resnet_model.compile(loss=\"categorical_crossentropy\",\n",
    "                     optimizer=tf.keras.optimizers.Adam(),\n",
    "                     metrics=[\"accuracy\"])"
   ]
  },
  {
   "cell_type": "code",
   "execution_count": 83,
   "id": "fa255c34",
   "metadata": {},
   "outputs": [
    {
     "name": "stdout",
     "output_type": "stream",
     "text": [
      "Saving TensorBoard log files to: ./logs\n",
      "Epoch 1/5\n",
      "10/10 [==============================] - 33s 2s/step - loss: 1.8768 - accuracy: 0.2000 - val_loss: 1.4656 - val_accuracy: 0.3462\n",
      "Epoch 2/5\n",
      "10/10 [==============================] - 22s 2s/step - loss: 1.0718 - accuracy: 0.5556 - val_loss: 1.1965 - val_accuracy: 0.5385\n",
      "Epoch 3/5\n",
      "10/10 [==============================] - 23s 2s/step - loss: 0.7170 - accuracy: 0.7206 - val_loss: 1.0694 - val_accuracy: 0.6154\n",
      "Epoch 4/5\n",
      "10/10 [==============================] - 21s 2s/step - loss: 0.5310 - accuracy: 0.8159 - val_loss: 0.9954 - val_accuracy: 0.6410\n",
      "Epoch 5/5\n",
      "10/10 [==============================] - 22s 2s/step - loss: 0.4156 - accuracy: 0.8889 - val_loss: 0.9194 - val_accuracy: 0.6923\n"
     ]
    }
   ],
   "source": [
    "resnet_history = resnet_model.fit(train_generator,\n",
    "                                  epochs=5,\n",
    "                                  steps_per_epoch=len(train_generator),\n",
    "                                  validation_data=validation_generator,\n",
    "                                  validation_steps=len(validation_generator),\n",
    "                                  callbacks=[create_tensorboard_callback(dir_name=\"tensorflow_hub\",\n",
    "                                                                         experiment_name=\"resnet50V2\"\n",
    "                                                                         )])"
   ]
  },
  {
   "cell_type": "code",
   "execution_count": 84,
   "id": "f3958c91",
   "metadata": {},
   "outputs": [
    {
     "name": "stdout",
     "output_type": "stream",
     "text": [
      "2/2 [==============================] - 3s 980ms/step - loss: 0.7590 - accuracy: 0.6400\n"
     ]
    }
   ],
   "source": [
    "scores_resnet = resnet_model.evaluate(test_generator)"
   ]
  },
  {
   "cell_type": "code",
   "execution_count": 85,
   "id": "9abaefeb",
   "metadata": {},
   "outputs": [
    {
     "name": "stdout",
     "output_type": "stream",
     "text": [
      "Wow!!, en tal sólo 5 epochs logramos una precisión del 64.0%\n"
     ]
    }
   ],
   "source": [
    "print(f\"Wow!!, en tal sólo 5 epochs logramos una precisión del {round(scores_resnet[1]*100,2)}%\")"
   ]
  },
  {
   "cell_type": "markdown",
   "id": "ba518608",
   "metadata": {},
   "source": [
    "### 1.3. Efficient Net"
   ]
  },
  {
   "cell_type": "code",
   "execution_count": 87,
   "id": "ff344053",
   "metadata": {},
   "outputs": [
    {
     "name": "stdout",
     "output_type": "stream",
     "text": [
      "Model: \"sequential_1\"\n",
      "_________________________________________________________________\n",
      " Layer (type)                Output Shape              Param #   \n",
      "=================================================================\n",
      " feature_extraction_lyaer (K  (None, 1280)             4049564   \n",
      " erasLayer)                                                      \n",
      "                                                                 \n",
      " output_layer (Dense)        (None, 4)                 5124      \n",
      "                                                                 \n",
      "=================================================================\n",
      "Total params: 4,054,688\n",
      "Trainable params: 5,124\n",
      "Non-trainable params: 4,049,564\n",
      "_________________________________________________________________\n"
     ]
    }
   ],
   "source": [
    "# Create EfficinetNetB0 feature extractor model - details on EfficientNet: https://ai.googleblog.com/2019/05/efficientnet-improving-accuracy-and.html#:~:text=EfficientNet%2DB0%20is%20the%20baseline,than%20the%20best%20existing%20CNN.\n",
    "efficientnet_model = create_model(model_url=efficientnet_url,\n",
    "                                  num_classes=num_classes)\n",
    "\n",
    "\n",
    "efficientnet_model.summary()\n",
    "\n"
   ]
  },
  {
   "cell_type": "code",
   "execution_count": 88,
   "id": "716b6e08",
   "metadata": {},
   "outputs": [
    {
     "name": "stdout",
     "output_type": "stream",
     "text": [
      "Saving TensorBoard log files to: ./logs\n",
      "Epoch 1/5\n",
      "10/10 [==============================] - 55s 5s/step - loss: 1.2727 - accuracy: 0.4698 - val_loss: 1.0546 - val_accuracy: 0.5897\n",
      "Epoch 2/5\n",
      "10/10 [==============================] - 14s 1s/step - loss: 0.8916 - accuracy: 0.7714 - val_loss: 0.8403 - val_accuracy: 0.7436\n",
      "Epoch 3/5\n",
      "10/10 [==============================] - 14s 1s/step - loss: 0.6707 - accuracy: 0.8825 - val_loss: 0.7139 - val_accuracy: 0.7564\n",
      "Epoch 4/5\n",
      "10/10 [==============================] - 18s 2s/step - loss: 0.5379 - accuracy: 0.9048 - val_loss: 0.6352 - val_accuracy: 0.7949\n",
      "Epoch 5/5\n",
      "10/10 [==============================] - 16s 2s/step - loss: 0.4438 - accuracy: 0.9175 - val_loss: 0.5806 - val_accuracy: 0.7949\n"
     ]
    }
   ],
   "source": [
    "# Compile EfficientNet model\n",
    "efficientnet_model.compile(loss=\"categorical_crossentropy\",\n",
    "                           optimizer=tf.keras.optimizers.Adam(),\n",
    "                           metrics=[\"accuracy\"])\n",
    "\n",
    "# Fit EfficientNet model to 10% of training data\n",
    "efficientnet_history = efficientnet_model.fit(train_generator,\n",
    "                                              epochs=5,\n",
    "                                              steps_per_epoch=len(train_generator),\n",
    "                                              validation_data=validation_generator,\n",
    "                                              validation_steps=len(validation_generator),\n",
    "                                              callbacks=[create_tensorboard_callback(dir_name=\"tensorflow_hub\",\n",
    "                                                                                     experiment_name=\"efficientnetb0\")])"
   ]
  },
  {
   "cell_type": "code",
   "execution_count": 89,
   "id": "e33dddaa",
   "metadata": {},
   "outputs": [
    {
     "name": "stdout",
     "output_type": "stream",
     "text": [
      "2/2 [==============================] - 2s 534ms/step - loss: 0.6068 - accuracy: 0.7800\n"
     ]
    }
   ],
   "source": [
    "scores_efficientnet = efficientnet_model.evaluate(test_generator)"
   ]
  },
  {
   "cell_type": "code",
   "execution_count": 90,
   "id": "376258d9",
   "metadata": {},
   "outputs": [
    {
     "name": "stdout",
     "output_type": "stream",
     "text": [
      "Wow!!, en tal sólo 5 epochs logramos una precisión del 78.0%\n"
     ]
    }
   ],
   "source": [
    "print(f\"Wow!!, en tal sólo 5 epochs logramos una precisión del {round(scores_efficientnet[1]*100,2)}%\")"
   ]
  },
  {
   "cell_type": "markdown",
   "id": "58a093bf",
   "metadata": {},
   "source": [
    "### Comparemos los modelos usando TensorBoard"
   ]
  },
  {
   "cell_type": "markdown",
   "id": "f2e2899a",
   "metadata": {},
   "source": [
    "Voy hasta en una terminal hasta donde se encuentra la carpeta de logs y ejecuto:\n",
    "\n",
    "    \n",
    "   ....$ tensorboard --logdir=./logs\n",
    "   \n",
    "   \n",
    " (logs es donde guardamos los logs, se especificó más arriba)\n",
    " \n",
    " Luego, vamos en el navegador a :\n",
    " \n",
    "    - http://localhost:6006\n",
    " \n",
    " \n",
    " Veremos algo como lo que se muestra en la imagen siguiente:\n",
    " \n",
    " <br>\n",
    " \n",
    " <img src='images/TensorBoard.png' width=40%>\n",
    " "
   ]
  },
  {
   "cell_type": "code",
   "execution_count": null,
   "id": "bf26d426",
   "metadata": {},
   "outputs": [],
   "source": []
  }
 ],
 "metadata": {
  "kernelspec": {
   "display_name": "Python 3 (ipykernel)",
   "language": "python",
   "name": "python3"
  },
  "language_info": {
   "codemirror_mode": {
    "name": "ipython",
    "version": 3
   },
   "file_extension": ".py",
   "mimetype": "text/x-python",
   "name": "python",
   "nbconvert_exporter": "python",
   "pygments_lexer": "ipython3",
   "version": "3.10.12"
  }
 },
 "nbformat": 4,
 "nbformat_minor": 5
}
