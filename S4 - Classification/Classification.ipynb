{
 "cells": [
  {
   "cell_type": "markdown",
   "id": "0e66811f",
   "metadata": {},
   "source": [
    "# CLASSIFICATION"
   ]
  },
  {
   "cell_type": "markdown",
   "id": "82075e1b",
   "metadata": {},
   "source": [
    "Tipos de problemas de clasificación\n",
    "\n",
    "- Binaria\n",
    "    - Se debe clasificar entre 2 clases (ejemplo: es un perro o un gato)\n",
    "\n",
    "- Multiclase\n",
    "    - Se debe clasfificar entre múltiples clases (ejemplo: es un dígito entre el 0 y el 9)\n",
    "\n",
    "- Multi-output\n",
    "    - Cada ejemplo puede tener más de 1 etiqueta (ejemplo: en una imagen hay un auto, un árbol y una persona; cualquier combinación de ellos)\n"
   ]
  },
  {
   "cell_type": "markdown",
   "id": "79d5146b",
   "metadata": {},
   "source": [
    "## Binary Classification"
   ]
  },
  {
   "cell_type": "markdown",
   "id": "5389a87f",
   "metadata": {},
   "source": [
    "Recomendaciones en la elección de los hiperparámetros\n",
    "\n",
    "\n",
    "\n",
    "----> tabla!!!!!\n",
    "\n",
    "\n"
   ]
  },
  {
   "cell_type": "code",
   "execution_count": 4,
   "id": "fb03cb36",
   "metadata": {},
   "outputs": [],
   "source": [
    "#https://www.kaggle.com/code/ryanholbrook/binary-classification\n",
    "#https://www.kaggle.com/code/marcosnicolsgarca/exercise-binary-classification/edit"
   ]
  },
  {
   "cell_type": "code",
   "execution_count": 2,
   "id": "72d64300",
   "metadata": {},
   "outputs": [],
   "source": [
    "import pandas as pd"
   ]
  },
  {
   "cell_type": "code",
   "execution_count": 29,
   "id": "795072d6",
   "metadata": {},
   "outputs": [
    {
     "data": {
      "text/html": [
       "<div>\n",
       "<style scoped>\n",
       "    .dataframe tbody tr th:only-of-type {\n",
       "        vertical-align: middle;\n",
       "    }\n",
       "\n",
       "    .dataframe tbody tr th {\n",
       "        vertical-align: top;\n",
       "    }\n",
       "\n",
       "    .dataframe thead th {\n",
       "        text-align: right;\n",
       "    }\n",
       "</style>\n",
       "<table border=\"1\" class=\"dataframe\">\n",
       "  <thead>\n",
       "    <tr style=\"text-align: right;\">\n",
       "      <th></th>\n",
       "      <th>hotel</th>\n",
       "      <th>is_canceled</th>\n",
       "      <th>lead_time</th>\n",
       "      <th>arrival_date_year</th>\n",
       "      <th>arrival_date_month</th>\n",
       "      <th>arrival_date_week_number</th>\n",
       "      <th>arrival_date_day_of_month</th>\n",
       "      <th>stays_in_weekend_nights</th>\n",
       "      <th>stays_in_week_nights</th>\n",
       "      <th>adults</th>\n",
       "      <th>...</th>\n",
       "      <th>deposit_type</th>\n",
       "      <th>agent</th>\n",
       "      <th>company</th>\n",
       "      <th>days_in_waiting_list</th>\n",
       "      <th>customer_type</th>\n",
       "      <th>adr</th>\n",
       "      <th>required_car_parking_spaces</th>\n",
       "      <th>total_of_special_requests</th>\n",
       "      <th>reservation_status</th>\n",
       "      <th>reservation_status_date</th>\n",
       "    </tr>\n",
       "  </thead>\n",
       "  <tbody>\n",
       "    <tr>\n",
       "      <th>0</th>\n",
       "      <td>Resort Hotel</td>\n",
       "      <td>0</td>\n",
       "      <td>342</td>\n",
       "      <td>2015</td>\n",
       "      <td>July</td>\n",
       "      <td>27</td>\n",
       "      <td>1</td>\n",
       "      <td>0</td>\n",
       "      <td>0</td>\n",
       "      <td>2</td>\n",
       "      <td>...</td>\n",
       "      <td>No Deposit</td>\n",
       "      <td>NaN</td>\n",
       "      <td>NaN</td>\n",
       "      <td>0</td>\n",
       "      <td>Transient</td>\n",
       "      <td>0.0</td>\n",
       "      <td>0</td>\n",
       "      <td>0</td>\n",
       "      <td>Check-Out</td>\n",
       "      <td>01/07/2015</td>\n",
       "    </tr>\n",
       "    <tr>\n",
       "      <th>1</th>\n",
       "      <td>Resort Hotel</td>\n",
       "      <td>0</td>\n",
       "      <td>737</td>\n",
       "      <td>2015</td>\n",
       "      <td>July</td>\n",
       "      <td>27</td>\n",
       "      <td>1</td>\n",
       "      <td>0</td>\n",
       "      <td>0</td>\n",
       "      <td>2</td>\n",
       "      <td>...</td>\n",
       "      <td>No Deposit</td>\n",
       "      <td>NaN</td>\n",
       "      <td>NaN</td>\n",
       "      <td>0</td>\n",
       "      <td>Transient</td>\n",
       "      <td>0.0</td>\n",
       "      <td>0</td>\n",
       "      <td>0</td>\n",
       "      <td>Check-Out</td>\n",
       "      <td>01/07/2015</td>\n",
       "    </tr>\n",
       "    <tr>\n",
       "      <th>2</th>\n",
       "      <td>Resort Hotel</td>\n",
       "      <td>0</td>\n",
       "      <td>7</td>\n",
       "      <td>2015</td>\n",
       "      <td>July</td>\n",
       "      <td>27</td>\n",
       "      <td>1</td>\n",
       "      <td>0</td>\n",
       "      <td>1</td>\n",
       "      <td>1</td>\n",
       "      <td>...</td>\n",
       "      <td>No Deposit</td>\n",
       "      <td>NaN</td>\n",
       "      <td>NaN</td>\n",
       "      <td>0</td>\n",
       "      <td>Transient</td>\n",
       "      <td>75.0</td>\n",
       "      <td>0</td>\n",
       "      <td>0</td>\n",
       "      <td>Check-Out</td>\n",
       "      <td>02/07/2015</td>\n",
       "    </tr>\n",
       "    <tr>\n",
       "      <th>3</th>\n",
       "      <td>Resort Hotel</td>\n",
       "      <td>0</td>\n",
       "      <td>13</td>\n",
       "      <td>2015</td>\n",
       "      <td>July</td>\n",
       "      <td>27</td>\n",
       "      <td>1</td>\n",
       "      <td>0</td>\n",
       "      <td>1</td>\n",
       "      <td>1</td>\n",
       "      <td>...</td>\n",
       "      <td>No Deposit</td>\n",
       "      <td>304.0</td>\n",
       "      <td>NaN</td>\n",
       "      <td>0</td>\n",
       "      <td>Transient</td>\n",
       "      <td>75.0</td>\n",
       "      <td>0</td>\n",
       "      <td>0</td>\n",
       "      <td>Check-Out</td>\n",
       "      <td>02/07/2015</td>\n",
       "    </tr>\n",
       "    <tr>\n",
       "      <th>4</th>\n",
       "      <td>Resort Hotel</td>\n",
       "      <td>0</td>\n",
       "      <td>14</td>\n",
       "      <td>2015</td>\n",
       "      <td>July</td>\n",
       "      <td>27</td>\n",
       "      <td>1</td>\n",
       "      <td>0</td>\n",
       "      <td>2</td>\n",
       "      <td>2</td>\n",
       "      <td>...</td>\n",
       "      <td>No Deposit</td>\n",
       "      <td>240.0</td>\n",
       "      <td>NaN</td>\n",
       "      <td>0</td>\n",
       "      <td>Transient</td>\n",
       "      <td>98.0</td>\n",
       "      <td>0</td>\n",
       "      <td>1</td>\n",
       "      <td>Check-Out</td>\n",
       "      <td>03/07/2015</td>\n",
       "    </tr>\n",
       "  </tbody>\n",
       "</table>\n",
       "<p>5 rows × 32 columns</p>\n",
       "</div>"
      ],
      "text/plain": [
       "          hotel  is_canceled  lead_time  arrival_date_year arrival_date_month  \\\n",
       "0  Resort Hotel            0        342               2015               July   \n",
       "1  Resort Hotel            0        737               2015               July   \n",
       "2  Resort Hotel            0          7               2015               July   \n",
       "3  Resort Hotel            0         13               2015               July   \n",
       "4  Resort Hotel            0         14               2015               July   \n",
       "\n",
       "   arrival_date_week_number  arrival_date_day_of_month  \\\n",
       "0                        27                          1   \n",
       "1                        27                          1   \n",
       "2                        27                          1   \n",
       "3                        27                          1   \n",
       "4                        27                          1   \n",
       "\n",
       "   stays_in_weekend_nights  stays_in_week_nights  adults  ...  deposit_type  \\\n",
       "0                        0                     0       2  ...    No Deposit   \n",
       "1                        0                     0       2  ...    No Deposit   \n",
       "2                        0                     1       1  ...    No Deposit   \n",
       "3                        0                     1       1  ...    No Deposit   \n",
       "4                        0                     2       2  ...    No Deposit   \n",
       "\n",
       "   agent company days_in_waiting_list customer_type   adr  \\\n",
       "0    NaN     NaN                    0     Transient   0.0   \n",
       "1    NaN     NaN                    0     Transient   0.0   \n",
       "2    NaN     NaN                    0     Transient  75.0   \n",
       "3  304.0     NaN                    0     Transient  75.0   \n",
       "4  240.0     NaN                    0     Transient  98.0   \n",
       "\n",
       "   required_car_parking_spaces  total_of_special_requests  reservation_status  \\\n",
       "0                            0                          0           Check-Out   \n",
       "1                            0                          0           Check-Out   \n",
       "2                            0                          0           Check-Out   \n",
       "3                            0                          0           Check-Out   \n",
       "4                            0                          1           Check-Out   \n",
       "\n",
       "  reservation_status_date  \n",
       "0              01/07/2015  \n",
       "1              01/07/2015  \n",
       "2              02/07/2015  \n",
       "3              02/07/2015  \n",
       "4              03/07/2015  \n",
       "\n",
       "[5 rows x 32 columns]"
      ]
     },
     "execution_count": 29,
     "metadata": {},
     "output_type": "execute_result"
    }
   ],
   "source": [
    "\n",
    "hotel = pd.read_csv('data/BookingCancellation.csv')\n",
    "\n",
    "hotel.head()"
   ]
  },
  {
   "cell_type": "code",
   "execution_count": 30,
   "id": "254c572b",
   "metadata": {},
   "outputs": [
    {
     "data": {
      "text/plain": [
       "(119390, 32)"
      ]
     },
     "execution_count": 30,
     "metadata": {},
     "output_type": "execute_result"
    }
   ],
   "source": [
    "hotel.shape"
   ]
  },
  {
   "cell_type": "code",
   "execution_count": 31,
   "id": "5f517a60",
   "metadata": {},
   "outputs": [
    {
     "data": {
      "text/plain": [
       "hotel                                  0\n",
       "is_canceled                            0\n",
       "lead_time                              0\n",
       "arrival_date_year                      0\n",
       "arrival_date_month                     0\n",
       "arrival_date_week_number               0\n",
       "arrival_date_day_of_month              0\n",
       "stays_in_weekend_nights                0\n",
       "stays_in_week_nights                   0\n",
       "adults                                 0\n",
       "children                               4\n",
       "babies                                 0\n",
       "meal                                   0\n",
       "country                              488\n",
       "market_segment                         0\n",
       "distribution_channel                   0\n",
       "is_repeated_guest                      0\n",
       "previous_cancellations                 0\n",
       "previous_bookings_not_canceled         0\n",
       "reserved_room_type                     0\n",
       "assigned_room_type                     0\n",
       "booking_changes                        0\n",
       "deposit_type                           0\n",
       "agent                              16340\n",
       "company                           112593\n",
       "days_in_waiting_list                   0\n",
       "customer_type                          0\n",
       "adr                                    0\n",
       "required_car_parking_spaces            0\n",
       "total_of_special_requests              0\n",
       "reservation_status                     0\n",
       "reservation_status_date                0\n",
       "dtype: int64"
      ]
     },
     "execution_count": 31,
     "metadata": {},
     "output_type": "execute_result"
    }
   ],
   "source": [
    "hotel.isnull().sum()"
   ]
  },
  {
   "cell_type": "code",
   "execution_count": 28,
   "id": "cee8c783",
   "metadata": {},
   "outputs": [
    {
     "data": {
      "text/plain": [
       "'\\n\\n# preprocess,\\n\\n# nulos; var. categóricas.....\\n\\n\\n#for h in hotel.columns:\\n#    print(hotel[h].dtype)\\n\\n\\n#any(palabra in hotel for palabra in palabras_a_verificar)\\n#hotel[h].dtype==\\'int64\\']\\n\\n\\npalabras_a_verificar = [\\'int\\',\\'float\\']\\n\\nfeatures_num = [h for h in hotel.columns if any(palabra in str(hotel[h].dtype) for palabra in palabras_a_verificar)]\\n\\nprint(features_num)\\n\\n\\n\\n\\n[\\'is_canceled\\', \\'lead_time\\', \\n \\'arrival_date_year\\', \\n \\'arrival_date_week_number\\', \\n \\'arrival_date_day_of_month\\', \\n \\'stays_in_weekend_nights\\', \\n \\'stays_in_week_nights\\', \\n \\'adults\\', \\n \\'children\\', \\'babies\\', \\'is_repeated_guest\\', \\n \\'previous_cancellations\\', \\n \\'previous_bookings_not_canceled\\', \\n \\'booking_changes\\', \\'agent\\', \\n \\'company\\', \\n \\'days_in_waiting_list\\', \\'adr\\', \\n \\'required_car_parking_spaces\\', \\n \\'total_of_special_requests\\']\\n\\n\\nfeatures_num2 = [\\n    \"lead_time\", \\n    \"arrival_date_week_number\",\\n    \"arrival_date_day_of_month\", \\n    \"stays_in_weekend_nights\",\\n    \"stays_in_week_nights\", \\n    \"adults\", \"children\", \\n    \"babies\",\\n    \"is_repeated_guest\", \\n    \"previous_cancellations\",\\n    \"previous_bookings_not_canceled\", \\n    \"required_car_parking_spaces\",\\n    \"total_of_special_requests\", \\n    \"adr\",\\n]\\n\\n\\n\\n\\n\\nprint(len(features_num ))\\n\\n\\n\\nprint(len(features_num2 ))\\n\\n\\n\\ncolumnas_numericas = hotel.select_dtypes(include=[\\'int\\', \\'float\\'])\\nlist(columnas_numericas.columns)\\n\\n\\nprint(len(columnas_numericas.columns))\\n\\n\\n'"
      ]
     },
     "execution_count": 28,
     "metadata": {},
     "output_type": "execute_result"
    }
   ],
   "source": [
    "\n",
    "\n",
    "\n",
    "\n",
    "\"\"\"\n",
    "\n",
    "# preprocess,\n",
    "\n",
    "# nulos; var. categóricas.....\n",
    "\n",
    "\n",
    "#for h in hotel.columns:\n",
    "#    print(hotel[h].dtype)\n",
    "\n",
    "\n",
    "#any(palabra in hotel for palabra in palabras_a_verificar)\n",
    "#hotel[h].dtype=='int64']\n",
    "\n",
    "\n",
    "palabras_a_verificar = ['int','float']\n",
    "\n",
    "features_num = [h for h in hotel.columns if any(palabra in str(hotel[h].dtype) for palabra in palabras_a_verificar)]\n",
    "\n",
    "print(features_num)\n",
    "\n",
    "\n",
    "\n",
    "\n",
    "['is_canceled', 'lead_time', \n",
    " 'arrival_date_year', \n",
    " 'arrival_date_week_number', \n",
    " 'arrival_date_day_of_month', \n",
    " 'stays_in_weekend_nights', \n",
    " 'stays_in_week_nights', \n",
    " 'adults', \n",
    " 'children', 'babies', 'is_repeated_guest', \n",
    " 'previous_cancellations', \n",
    " 'previous_bookings_not_canceled', \n",
    " 'booking_changes', 'agent', \n",
    " 'company', \n",
    " 'days_in_waiting_list', 'adr', \n",
    " 'required_car_parking_spaces', \n",
    " 'total_of_special_requests']\n",
    "\n",
    "\n",
    "features_num2 = [\n",
    "    \"lead_time\", \n",
    "    \"arrival_date_week_number\",\n",
    "    \"arrival_date_day_of_month\", \n",
    "    \"stays_in_weekend_nights\",\n",
    "    \"stays_in_week_nights\", \n",
    "    \"adults\", \"children\", \n",
    "    \"babies\",\n",
    "    \"is_repeated_guest\", \n",
    "    \"previous_cancellations\",\n",
    "    \"previous_bookings_not_canceled\", \n",
    "    \"required_car_parking_spaces\",\n",
    "    \"total_of_special_requests\", \n",
    "    \"adr\",\n",
    "]\n",
    "\n",
    "\n",
    "\n",
    "\n",
    "\n",
    "print(len(features_num ))\n",
    "\n",
    "\n",
    "\n",
    "print(len(features_num2 ))\n",
    "\n",
    "\n",
    "\n",
    "columnas_numericas = hotel.select_dtypes(include=['int', 'float'])\n",
    "list(columnas_numericas.columns)\n",
    "\n",
    "\n",
    "print(len(columnas_numericas.columns))\n",
    "\n",
    "\n",
    "\"\"\"\n"
   ]
  },
  {
   "cell_type": "code",
   "execution_count": 34,
   "id": "6554a228",
   "metadata": {},
   "outputs": [],
   "source": [
    "from sklearn.model_selection import train_test_split\n",
    "from sklearn.preprocessing import StandardScaler, OneHotEncoder\n",
    "from sklearn.impute import SimpleImputer\n",
    "from sklearn.pipeline import make_pipeline\n",
    "from sklearn.compose import make_column_transformer\n",
    "\n",
    "X = hotel.copy()\n",
    "y = X.pop('is_canceled')\n",
    "\n",
    "X['arrival_date_month'] = \\\n",
    "    X['arrival_date_month'].map(\n",
    "        {'January':1, 'February': 2, 'March':3,\n",
    "         'April':4, 'May':5, 'June':6, 'July':7,\n",
    "         'August':8, 'September':9, 'October':10,\n",
    "         'November':11, 'December':12}\n",
    "    )\n",
    "\n",
    "\n",
    "# vars. numéricas\n",
    "features_num = [\n",
    "    \"lead_time\", \"arrival_date_week_number\",\n",
    "    \"arrival_date_day_of_month\", \"stays_in_weekend_nights\",\n",
    "    \"stays_in_week_nights\", \"adults\", \"children\", \"babies\",\n",
    "    \"is_repeated_guest\", \"previous_cancellations\",\n",
    "    \"previous_bookings_not_canceled\", \"required_car_parking_spaces\",\n",
    "    \"total_of_special_requests\", \"adr\",\n",
    "]\n",
    "\n",
    "# vars. catg.\n",
    "features_cat = [\n",
    "    \"hotel\", \"arrival_date_month\", \"meal\",\n",
    "    \"market_segment\", \"distribution_channel\",\n",
    "    \"reserved_room_type\", \"deposit_type\", \"customer_type\",\n",
    "]\n",
    "\n",
    "\n",
    "\n",
    "# SimpleImputer remplaza los valores faltantes\n",
    "\n",
    "# StandardScaler -> Standardize features by removing the mean and scaling to unit variance.\n",
    "\n",
    "\n",
    "\n",
    "# transfomer para las variables numéricas\n",
    "\n",
    "transformer_num = make_pipeline(\n",
    "    SimpleImputer(strategy=\"constant\"), # there are a few missing values\n",
    "    StandardScaler(),\n",
    ")\n",
    "\n",
    "\n",
    "\n",
    "# transformer para las categóricas\n",
    "transformer_cat = make_pipeline(\n",
    "    SimpleImputer(strategy=\"constant\", fill_value=\"NA\"),\n",
    "    OneHotEncoder(handle_unknown='ignore'),\n",
    ")\n",
    "\n",
    "\n",
    "\n",
    "# make_column_:transfoerm -> Construct a ColumnTransformer from the given transformers.\n",
    "\n",
    "preprocessor = make_column_transformer(\n",
    "    (transformer_num, features_num),\n",
    "    (transformer_cat, features_cat),\n",
    ")\n",
    "\n",
    "\n",
    "\n",
    "# train test split\n",
    "\n",
    "\n",
    "\n",
    "# stratify - make sure classes are evenlly represented across splits\n",
    "X_train, X_test, y_train, y_test = \\\n",
    "    train_test_split(X, y, stratify=y, train_size=0.75)\n",
    "\n",
    "X_train = preprocessor.fit_transform(X_train)\n",
    "X_test = preprocessor.transform(X_test)\n",
    "\n",
    "input_shape = [X_train.shape[1]]\n",
    "\n",
    "\n",
    "# TIENE MAYOR TAMAÑO POR EL ONE-HOT ENCODING!! (63 en vez de 32)\n",
    "\n",
    "\n",
    "\n",
    "\n"
   ]
  },
  {
   "cell_type": "code",
   "execution_count": 35,
   "id": "ed974813",
   "metadata": {},
   "outputs": [
    {
     "data": {
      "text/plain": [
       "(89542, 63)"
      ]
     },
     "execution_count": 35,
     "metadata": {},
     "output_type": "execute_result"
    }
   ],
   "source": [
    "X_train.shape"
   ]
  },
  {
   "cell_type": "code",
   "execution_count": 36,
   "id": "b60dae4f",
   "metadata": {},
   "outputs": [
    {
     "name": "stderr",
     "output_type": "stream",
     "text": [
      "2023-11-14 19:19:12.812749: I tensorflow/tsl/cuda/cudart_stub.cc:28] Could not find cuda drivers on your machine, GPU will not be used.\n",
      "2023-11-14 19:19:13.238214: I tensorflow/tsl/cuda/cudart_stub.cc:28] Could not find cuda drivers on your machine, GPU will not be used.\n",
      "2023-11-14 19:19:13.239372: I tensorflow/core/platform/cpu_feature_guard.cc:182] This TensorFlow binary is optimized to use available CPU instructions in performance-critical operations.\n",
      "To enable the following instructions: AVX2 FMA, in other operations, rebuild TensorFlow with the appropriate compiler flags.\n",
      "2023-11-14 19:19:14.709221: W tensorflow/compiler/tf2tensorrt/utils/py_utils.cc:38] TF-TRT Warning: Could not find TensorRT\n"
     ]
    }
   ],
   "source": [
    "from tensorflow import keras\n",
    "from tensorflow.keras import layers\n",
    "\n"
   ]
  },
  {
   "cell_type": "code",
   "execution_count": 37,
   "id": "a0133555",
   "metadata": {},
   "outputs": [
    {
     "name": "stdout",
     "output_type": "stream",
     "text": [
      "Epoch 1/20\n"
     ]
    },
    {
     "name": "stderr",
     "output_type": "stream",
     "text": [
      "2023-11-14 19:26:38.734279: W tensorflow/tsl/framework/cpu_allocator_impl.cc:83] Allocation of 22564584 exceeds 10% of free system memory.\n"
     ]
    },
    {
     "name": "stdout",
     "output_type": "stream",
     "text": [
      "175/175 [==============================] - 1s 3ms/step - loss: 0.5041 - accuracy: 0.7641 - val_loss: 0.4339 - val_accuracy: 0.8050\n",
      "Epoch 2/20\n",
      "175/175 [==============================] - 0s 2ms/step - loss: 0.4199 - accuracy: 0.8100 - val_loss: 0.4184 - val_accuracy: 0.8107\n",
      "Epoch 3/20\n",
      "175/175 [==============================] - 0s 2ms/step - loss: 0.4079 - accuracy: 0.8131 - val_loss: 0.4089 - val_accuracy: 0.8134\n",
      "Epoch 4/20\n",
      "175/175 [==============================] - 0s 2ms/step - loss: 0.4023 - accuracy: 0.8136 - val_loss: 0.4041 - val_accuracy: 0.8133\n",
      "Epoch 5/20\n",
      "175/175 [==============================] - 0s 2ms/step - loss: 0.3971 - accuracy: 0.8148 - val_loss: 0.4001 - val_accuracy: 0.8159\n",
      "Epoch 6/20\n",
      "175/175 [==============================] - 0s 2ms/step - loss: 0.3932 - accuracy: 0.8160 - val_loss: 0.3978 - val_accuracy: 0.8147\n",
      "Epoch 7/20\n",
      "175/175 [==============================] - 0s 2ms/step - loss: 0.3902 - accuracy: 0.8174 - val_loss: 0.3955 - val_accuracy: 0.8151\n",
      "Epoch 8/20\n",
      "175/175 [==============================] - 0s 2ms/step - loss: 0.3885 - accuracy: 0.8176 - val_loss: 0.3943 - val_accuracy: 0.8173\n",
      "Epoch 9/20\n",
      "175/175 [==============================] - 0s 2ms/step - loss: 0.3860 - accuracy: 0.8191 - val_loss: 0.3918 - val_accuracy: 0.8165\n",
      "Epoch 10/20\n",
      "175/175 [==============================] - 0s 2ms/step - loss: 0.3835 - accuracy: 0.8203 - val_loss: 0.3910 - val_accuracy: 0.8184\n",
      "Epoch 11/20\n",
      "175/175 [==============================] - 0s 2ms/step - loss: 0.3816 - accuracy: 0.8207 - val_loss: 0.3902 - val_accuracy: 0.8174\n",
      "Epoch 12/20\n",
      "175/175 [==============================] - 0s 2ms/step - loss: 0.3800 - accuracy: 0.8222 - val_loss: 0.3879 - val_accuracy: 0.8194\n",
      "Epoch 13/20\n",
      "175/175 [==============================] - 0s 2ms/step - loss: 0.3788 - accuracy: 0.8231 - val_loss: 0.3879 - val_accuracy: 0.8178\n",
      "Epoch 14/20\n",
      "175/175 [==============================] - 0s 2ms/step - loss: 0.3776 - accuracy: 0.8230 - val_loss: 0.3863 - val_accuracy: 0.8210\n",
      "Epoch 15/20\n",
      "175/175 [==============================] - 0s 2ms/step - loss: 0.3757 - accuracy: 0.8244 - val_loss: 0.3851 - val_accuracy: 0.8209\n",
      "Epoch 16/20\n",
      "175/175 [==============================] - 0s 2ms/step - loss: 0.3750 - accuracy: 0.8239 - val_loss: 0.3863 - val_accuracy: 0.8201\n",
      "Epoch 17/20\n",
      "175/175 [==============================] - 0s 2ms/step - loss: 0.3739 - accuracy: 0.8250 - val_loss: 0.3847 - val_accuracy: 0.8206\n",
      "Epoch 18/20\n",
      "175/175 [==============================] - 0s 2ms/step - loss: 0.3733 - accuracy: 0.8250 - val_loss: 0.3829 - val_accuracy: 0.8231\n",
      "Epoch 19/20\n",
      "175/175 [==============================] - 0s 2ms/step - loss: 0.3721 - accuracy: 0.8262 - val_loss: 0.3820 - val_accuracy: 0.8238\n",
      "Epoch 20/20\n",
      "175/175 [==============================] - 0s 2ms/step - loss: 0.3706 - accuracy: 0.8270 - val_loss: 0.3849 - val_accuracy: 0.8206\n"
     ]
    }
   ],
   "source": [
    "# primer modelo, bien sencillo\n",
    "\n",
    "simple_model = keras.Sequential([\n",
    "    layers.Dense(20,activation='relu',input_shape=input_shape),\n",
    "    layers.Dense(20,activation='relu'),\n",
    "    layers.Dense(20,activation='relu'),\n",
    "    layers.Dense(1,activation='sigmoid'),\n",
    "])\n",
    "\n",
    "\n",
    "\n",
    "simple_model.compile(\n",
    "    optimizer='adam',\n",
    "    loss='binary_crossentropy',\n",
    "    metrics=['accuracy']\n",
    ")\n",
    "\n",
    "\n",
    "early_stopping = keras.callbacks.EarlyStopping(\n",
    "        patience=10,\n",
    "        min_delta=0.001,\n",
    "        restore_best_weights=True,\n",
    "    )\n",
    "\n",
    "\n",
    "history1 = simple_model.fit(\n",
    "    X_train,y_train,\n",
    "    validation_data=(X_test,y_test),\n",
    "    batch_size=512,\n",
    "    epochs=20,\n",
    "    callbacks=[early_stopping]\n",
    ")\n",
    "\n",
    "\n",
    "\n"
   ]
  },
  {
   "cell_type": "code",
   "execution_count": 48,
   "id": "7da3f390",
   "metadata": {},
   "outputs": [
    {
     "data": {
      "text/html": [
       "<div>\n",
       "<style scoped>\n",
       "    .dataframe tbody tr th:only-of-type {\n",
       "        vertical-align: middle;\n",
       "    }\n",
       "\n",
       "    .dataframe tbody tr th {\n",
       "        vertical-align: top;\n",
       "    }\n",
       "\n",
       "    .dataframe thead th {\n",
       "        text-align: right;\n",
       "    }\n",
       "</style>\n",
       "<table border=\"1\" class=\"dataframe\">\n",
       "  <thead>\n",
       "    <tr style=\"text-align: right;\">\n",
       "      <th></th>\n",
       "      <th>loss</th>\n",
       "      <th>accuracy</th>\n",
       "      <th>val_loss</th>\n",
       "      <th>val_accuracy</th>\n",
       "    </tr>\n",
       "  </thead>\n",
       "  <tbody>\n",
       "    <tr>\n",
       "      <th>0</th>\n",
       "      <td>0.504124</td>\n",
       "      <td>0.764077</td>\n",
       "      <td>0.433915</td>\n",
       "      <td>0.805046</td>\n",
       "    </tr>\n",
       "    <tr>\n",
       "      <th>1</th>\n",
       "      <td>0.419948</td>\n",
       "      <td>0.809955</td>\n",
       "      <td>0.418434</td>\n",
       "      <td>0.810708</td>\n",
       "    </tr>\n",
       "    <tr>\n",
       "      <th>2</th>\n",
       "      <td>0.407901</td>\n",
       "      <td>0.813116</td>\n",
       "      <td>0.408924</td>\n",
       "      <td>0.813354</td>\n",
       "    </tr>\n",
       "    <tr>\n",
       "      <th>3</th>\n",
       "      <td>0.402272</td>\n",
       "      <td>0.813585</td>\n",
       "      <td>0.404130</td>\n",
       "      <td>0.813254</td>\n",
       "    </tr>\n",
       "    <tr>\n",
       "      <th>4</th>\n",
       "      <td>0.397070</td>\n",
       "      <td>0.814847</td>\n",
       "      <td>0.400065</td>\n",
       "      <td>0.815934</td>\n",
       "    </tr>\n",
       "  </tbody>\n",
       "</table>\n",
       "</div>"
      ],
      "text/plain": [
       "       loss  accuracy  val_loss  val_accuracy\n",
       "0  0.504124  0.764077  0.433915      0.805046\n",
       "1  0.419948  0.809955  0.418434      0.810708\n",
       "2  0.407901  0.813116  0.408924      0.813354\n",
       "3  0.402272  0.813585  0.404130      0.813254\n",
       "4  0.397070  0.814847  0.400065      0.815934"
      ]
     },
     "execution_count": 48,
     "metadata": {},
     "output_type": "execute_result"
    }
   ],
   "source": [
    "history_df1 = pd.DataFrame(history1.history)\n",
    "\n",
    "\n",
    "history_df1.head()\n",
    "\n"
   ]
  },
  {
   "cell_type": "code",
   "execution_count": 46,
   "id": "76132d3f",
   "metadata": {},
   "outputs": [
    {
     "data": {
      "text/plain": [
       "<AxesSubplot:>"
      ]
     },
     "execution_count": 46,
     "metadata": {},
     "output_type": "execute_result"
    },
    {
     "data": {
      "image/png": "[encoded data removed]",
      "text/plain": [
       "<Figure size 640x480 with 1 Axes>"
      ]
     },
     "metadata": {},
     "output_type": "display_data"
    }
   ],
   "source": [
    "# Start the plot at epoch 5\n",
    "history_df1.loc[:, ['loss', 'val_loss']].plot()"
   ]
  },
  {
   "cell_type": "code",
   "execution_count": 49,
   "id": "50cd2579",
   "metadata": {},
   "outputs": [],
   "source": [
    "# matriz de confusión"
   ]
  },
  {
   "cell_type": "code",
   "execution_count": 55,
   "id": "9b2740c6",
   "metadata": {},
   "outputs": [],
   "source": [
    "import numpy as np"
   ]
  },
  {
   "cell_type": "code",
   "execution_count": 53,
   "id": "f177d91c",
   "metadata": {},
   "outputs": [],
   "source": [
    "import tensorflow as tf"
   ]
  },
  {
   "cell_type": "code",
   "execution_count": 57,
   "id": "16a117ff",
   "metadata": {},
   "outputs": [],
   "source": [
    "import matplotlib.pyplot as plt"
   ]
  },
  {
   "cell_type": "code",
   "execution_count": 58,
   "id": "8cc2ddb4",
   "metadata": {},
   "outputs": [
    {
     "name": "stdout",
     "output_type": "stream",
     "text": [
      "933/933 [==============================] - 1s 677us/step\n"
     ]
    },
    {
     "data": {
      "image/png": "[encoded data removed]",
      "text/plain": [
       "<Figure size 1000x1000 with 2 Axes>"
      ]
     },
     "metadata": {},
     "output_type": "display_data"
    }
   ],
   "source": [
    "\n",
    "from sklearn.metrics import confusion_matrix\n",
    "\n",
    "\n",
    "y_preds = simple_model.predict(X_test)\n",
    "\n",
    "\n",
    "\n",
    "import itertools\n",
    "\n",
    "figsize = (10, 10)\n",
    "\n",
    "# Create the confusion matrix\n",
    "cm = confusion_matrix(y_test, tf.round(y_preds))\n",
    "cm_norm = cm.astype(\"float\") / cm.sum(axis=1)[:, np.newaxis] # normalize our confusion matrix\n",
    "n_classes = cm.shape[0]\n",
    "\n",
    "# Let's prettify it\n",
    "fig, ax = plt.subplots(figsize=figsize)\n",
    "# Create a matrix plot\n",
    "cax = ax.matshow(cm, cmap=plt.cm.Blues)\n",
    "fig.colorbar(cax)\n",
    "\n",
    "# Create classes\n",
    "classes = False\n",
    "\n",
    "if classes:\n",
    "  labels = classes\n",
    "else:\n",
    "  labels = np.arange(cm.shape[0])\n",
    "\n",
    "# Label the axes\n",
    "ax.set(title=\"Confusion Matrix\",\n",
    "   xlabel=\"Predicted Label\",\n",
    "   ylabel=\"True Label\",\n",
    "   xticks=np.arange(n_classes),\n",
    "   yticks=np.arange(n_classes),\n",
    "   xticklabels=labels,\n",
    "   yticklabels=labels)\n",
    "\n",
    "# Set x-axis labels to bottom\n",
    "ax.xaxis.set_label_position(\"bottom\")\n",
    "ax.xaxis.tick_bottom()\n",
    "\n",
    "# Adjust label size\n",
    "ax.yaxis.label.set_size(20)\n",
    "ax.xaxis.label.set_size(20)\n",
    "ax.title.set_size(20)\n",
    "\n",
    "# Set threshold for different colors\n",
    "threshold = (cm.max() + cm.min()) / 2.\n",
    "\n",
    "# Plot the text on each cell\n",
    "for i, j in itertools.product(range(cm.shape[0]), range(cm.shape[1])):\n",
    "  plt.text(j, i, f\"{cm[i, j]} ({cm_norm[i, j]*100:.1f}%)\",\n",
    "       horizontalalignment=\"center\",\n",
    "       color=\"white\" if cm[i, j] > threshold else \"black\",\n",
    "       size=15)"
   ]
  },
  {
   "cell_type": "markdown",
   "id": "9368436a",
   "metadata": {},
   "source": [
    "no anda muy bieN, el mayor problema son los falsos negativos"
   ]
  },
  {
   "cell_type": "code",
   "execution_count": 61,
   "id": "ba969eb3",
   "metadata": {},
   "outputs": [
    {
     "name": "stdout",
     "output_type": "stream",
     "text": [
      "Model: \"sequential\"\n",
      "_________________________________________________________________\n",
      " Layer (type)                Output Shape              Param #   \n",
      "=================================================================\n",
      " dense (Dense)               (None, 20)                1280      \n",
      "                                                                 \n",
      " dense_1 (Dense)             (None, 20)                420       \n",
      "                                                                 \n",
      " dense_2 (Dense)             (None, 20)                420       \n",
      "                                                                 \n",
      " dense_3 (Dense)             (None, 1)                 21        \n",
      "                                                                 \n",
      "=================================================================\n",
      "Total params: 2,141\n",
      "Trainable params: 2,141\n",
      "Non-trainable params: 0\n",
      "_________________________________________________________________\n"
     ]
    }
   ],
   "source": [
    "simple_model.summary()\n"
   ]
  },
  {
   "cell_type": "code",
   "execution_count": 63,
   "id": "79b80e94",
   "metadata": {},
   "outputs": [
    {
     "name": "stdout",
     "output_type": "stream",
     "text": [
      "933/933 - 1s - loss: 0.3849 - accuracy: 0.8206 - 623ms/epoch - 668us/step\n"
     ]
    },
    {
     "data": {
      "text/plain": [
       "[0.3848715126514435, 0.8206244707107544]"
      ]
     },
     "execution_count": 63,
     "metadata": {},
     "output_type": "execute_result"
    }
   ],
   "source": [
    "simple_model.evaluate(X_test,y_test,verbose=2)"
   ]
  },
  {
   "cell_type": "markdown",
   "id": "e585e4c7",
   "metadata": {},
   "source": [
    "## segundo modelo"
   ]
  },
  {
   "cell_type": "code",
   "execution_count": 69,
   "id": "95edd651",
   "metadata": {},
   "outputs": [
    {
     "name": "stdout",
     "output_type": "stream",
     "text": [
      "Epoch 1/40\n"
     ]
    },
    {
     "name": "stderr",
     "output_type": "stream",
     "text": [
      "2023-11-14 20:01:40.438098: W tensorflow/tsl/framework/cpu_allocator_impl.cc:83] Allocation of 22564584 exceeds 10% of free system memory.\n"
     ]
    },
    {
     "name": "stdout",
     "output_type": "stream",
     "text": [
      "175/175 [==============================] - 3s 9ms/step - loss: 0.4793 - accuracy: 0.7730 - val_loss: 0.4368 - val_accuracy: 0.8059\n",
      "Epoch 2/40\n",
      "175/175 [==============================] - 2s 9ms/step - loss: 0.4228 - accuracy: 0.8001 - val_loss: 0.4032 - val_accuracy: 0.8125\n",
      "Epoch 3/40\n",
      "175/175 [==============================] - 1s 9ms/step - loss: 0.4081 - accuracy: 0.8092 - val_loss: 0.3966 - val_accuracy: 0.8172\n",
      "Epoch 4/40\n",
      "175/175 [==============================] - 2s 12ms/step - loss: 0.4009 - accuracy: 0.8121 - val_loss: 0.3937 - val_accuracy: 0.8185\n",
      "Epoch 5/40\n",
      "175/175 [==============================] - 2s 9ms/step - loss: 0.3953 - accuracy: 0.8156 - val_loss: 0.3874 - val_accuracy: 0.8213\n",
      "Epoch 6/40\n",
      "175/175 [==============================] - 2s 9ms/step - loss: 0.3917 - accuracy: 0.8176 - val_loss: 0.3868 - val_accuracy: 0.8201\n",
      "Epoch 7/40\n",
      "175/175 [==============================] - 1s 8ms/step - loss: 0.3882 - accuracy: 0.8204 - val_loss: 0.3833 - val_accuracy: 0.8247\n",
      "Epoch 8/40\n",
      "175/175 [==============================] - 1s 8ms/step - loss: 0.3852 - accuracy: 0.8213 - val_loss: 0.3789 - val_accuracy: 0.8271\n",
      "Epoch 9/40\n",
      "175/175 [==============================] - 1s 8ms/step - loss: 0.3817 - accuracy: 0.8228 - val_loss: 0.3761 - val_accuracy: 0.8272\n",
      "Epoch 10/40\n",
      "175/175 [==============================] - 1s 8ms/step - loss: 0.3788 - accuracy: 0.8247 - val_loss: 0.3780 - val_accuracy: 0.8284\n",
      "Epoch 11/40\n",
      "175/175 [==============================] - 1s 8ms/step - loss: 0.3757 - accuracy: 0.8260 - val_loss: 0.3717 - val_accuracy: 0.8291\n",
      "Epoch 12/40\n",
      "175/175 [==============================] - 1s 8ms/step - loss: 0.3743 - accuracy: 0.8272 - val_loss: 0.3708 - val_accuracy: 0.8322\n",
      "Epoch 13/40\n",
      "175/175 [==============================] - 1s 7ms/step - loss: 0.3727 - accuracy: 0.8282 - val_loss: 0.3730 - val_accuracy: 0.8293\n",
      "Epoch 14/40\n",
      "175/175 [==============================] - 1s 7ms/step - loss: 0.3683 - accuracy: 0.8306 - val_loss: 0.3701 - val_accuracy: 0.8318\n",
      "Epoch 15/40\n",
      "175/175 [==============================] - 1s 8ms/step - loss: 0.3663 - accuracy: 0.8314 - val_loss: 0.3698 - val_accuracy: 0.8309\n",
      "Epoch 16/40\n",
      "175/175 [==============================] - 2s 9ms/step - loss: 0.3659 - accuracy: 0.8305 - val_loss: 0.3643 - val_accuracy: 0.8319\n",
      "Epoch 17/40\n",
      "175/175 [==============================] - 1s 7ms/step - loss: 0.3639 - accuracy: 0.8327 - val_loss: 0.3636 - val_accuracy: 0.8341\n",
      "Epoch 18/40\n",
      "175/175 [==============================] - 1s 8ms/step - loss: 0.3627 - accuracy: 0.8324 - val_loss: 0.3660 - val_accuracy: 0.8333\n",
      "Epoch 19/40\n",
      "175/175 [==============================] - 1s 7ms/step - loss: 0.3610 - accuracy: 0.8321 - val_loss: 0.3644 - val_accuracy: 0.8337\n",
      "Epoch 20/40\n",
      "175/175 [==============================] - 1s 8ms/step - loss: 0.3596 - accuracy: 0.8327 - val_loss: 0.3625 - val_accuracy: 0.8336\n",
      "Epoch 21/40\n",
      "175/175 [==============================] - 1s 8ms/step - loss: 0.3568 - accuracy: 0.8352 - val_loss: 0.3602 - val_accuracy: 0.8352\n",
      "Epoch 22/40\n",
      "175/175 [==============================] - 1s 8ms/step - loss: 0.3561 - accuracy: 0.8361 - val_loss: 0.3625 - val_accuracy: 0.8340\n",
      "Epoch 23/40\n",
      "175/175 [==============================] - 1s 8ms/step - loss: 0.3547 - accuracy: 0.8361 - val_loss: 0.3583 - val_accuracy: 0.8352\n",
      "Epoch 24/40\n",
      "175/175 [==============================] - 1s 8ms/step - loss: 0.3537 - accuracy: 0.8356 - val_loss: 0.3591 - val_accuracy: 0.8352\n",
      "Epoch 25/40\n",
      "175/175 [==============================] - 1s 9ms/step - loss: 0.3515 - accuracy: 0.8383 - val_loss: 0.3590 - val_accuracy: 0.8349\n",
      "Epoch 26/40\n",
      "175/175 [==============================] - 1s 8ms/step - loss: 0.3512 - accuracy: 0.8383 - val_loss: 0.3590 - val_accuracy: 0.8348\n",
      "Epoch 27/40\n",
      "175/175 [==============================] - 1s 8ms/step - loss: 0.3481 - accuracy: 0.8391 - val_loss: 0.3604 - val_accuracy: 0.8343\n",
      "Epoch 28/40\n",
      "175/175 [==============================] - 2s 9ms/step - loss: 0.3477 - accuracy: 0.8398 - val_loss: 0.3580 - val_accuracy: 0.8364\n",
      "Epoch 29/40\n",
      "175/175 [==============================] - 2s 9ms/step - loss: 0.3465 - accuracy: 0.8394 - val_loss: 0.3553 - val_accuracy: 0.8370\n",
      "Epoch 30/40\n",
      "175/175 [==============================] - 2s 9ms/step - loss: 0.3455 - accuracy: 0.8398 - val_loss: 0.3563 - val_accuracy: 0.8366\n",
      "Epoch 31/40\n",
      "175/175 [==============================] - 2s 9ms/step - loss: 0.3456 - accuracy: 0.8407 - val_loss: 0.3599 - val_accuracy: 0.8347\n",
      "Epoch 32/40\n",
      "175/175 [==============================] - 1s 8ms/step - loss: 0.3446 - accuracy: 0.8415 - val_loss: 0.3568 - val_accuracy: 0.8344\n",
      "Epoch 33/40\n",
      "175/175 [==============================] - 1s 8ms/step - loss: 0.3433 - accuracy: 0.8424 - val_loss: 0.3541 - val_accuracy: 0.8372\n",
      "Epoch 34/40\n",
      "175/175 [==============================] - 1s 8ms/step - loss: 0.3431 - accuracy: 0.8416 - val_loss: 0.3516 - val_accuracy: 0.8401\n",
      "Epoch 35/40\n",
      "175/175 [==============================] - 2s 9ms/step - loss: 0.3405 - accuracy: 0.8426 - val_loss: 0.3521 - val_accuracy: 0.8391\n",
      "Epoch 36/40\n",
      "175/175 [==============================] - 1s 9ms/step - loss: 0.3405 - accuracy: 0.8434 - val_loss: 0.3521 - val_accuracy: 0.8398\n",
      "Epoch 37/40\n",
      "175/175 [==============================] - 2s 9ms/step - loss: 0.3397 - accuracy: 0.8440 - val_loss: 0.3545 - val_accuracy: 0.8371\n",
      "Epoch 38/40\n",
      "175/175 [==============================] - 1s 8ms/step - loss: 0.3388 - accuracy: 0.8426 - val_loss: 0.3523 - val_accuracy: 0.8395\n",
      "Epoch 39/40\n",
      "175/175 [==============================] - 1s 8ms/step - loss: 0.3381 - accuracy: 0.8427 - val_loss: 0.3538 - val_accuracy: 0.8375\n",
      "Epoch 40/40\n",
      "175/175 [==============================] - 1s 8ms/step - loss: 0.3369 - accuracy: 0.8456 - val_loss: 0.3528 - val_accuracy: 0.8389\n"
     ]
    }
   ],
   "source": [
    "\n",
    "\n",
    "model2 = keras.Sequential([\n",
    "    layers.BatchNormalization(),\n",
    "    layers.Dense(256,activation='relu'),\n",
    "    layers.BatchNormalization(),\n",
    "    layers.Dropout(rate=0.3),\n",
    "    layers.Dense(256,activation='relu'),\n",
    "    layers.BatchNormalization(),\n",
    "    layers.Dropout(rate=0.3),\n",
    "    layers.Dense(1,activation='sigmoid')\n",
    "])\n",
    "\n",
    "\n",
    "model2.compile(\n",
    "    optimizer='Adam',\n",
    "    loss='binary_crossentropy',\n",
    "    metrics=['accuracy']\n",
    ")\n",
    "\n",
    "\n",
    "\n",
    "early_stopping = keras.callbacks.EarlyStopping(\n",
    "        patience=20,\n",
    "        min_delta=0.001,\n",
    "        restore_best_weights=True,\n",
    "    )\n",
    "\n",
    "\n",
    "\n",
    "history2 = model2.fit(\n",
    "        X_train,y_train,\n",
    "        validation_data=(X_test,y_test),\n",
    "        batch_size=512,\n",
    "        epochs=40,\n",
    "        callbacks=[early_stopping]\n",
    ")"
   ]
  },
  {
   "cell_type": "code",
   "execution_count": 70,
   "id": "fb5ec8fb",
   "metadata": {},
   "outputs": [],
   "source": [
    "history_df2 = pd.DataFrame(history2.history)"
   ]
  },
  {
   "cell_type": "code",
   "execution_count": 71,
   "id": "f753de30",
   "metadata": {},
   "outputs": [
    {
     "data": {
      "text/plain": [
       "<AxesSubplot:>"
      ]
     },
     "execution_count": 71,
     "metadata": {},
     "output_type": "execute_result"
    },
    {
     "data": {
      "image/png": "[encoded data removed]",
      "text/plain": [
       "<Figure size 640x480 with 1 Axes>"
      ]
     },
     "metadata": {},
     "output_type": "display_data"
    }
   ],
   "source": [
    "history_df2.plot()"
   ]
  },
  {
   "cell_type": "code",
   "execution_count": 72,
   "id": "e70a4c8b",
   "metadata": {},
   "outputs": [
    {
     "data": {
      "text/plain": [
       "<AxesSubplot:>"
      ]
     },
     "execution_count": 72,
     "metadata": {},
     "output_type": "execute_result"
    },
    {
     "data": {
      "image/png": "[encoded data removed]",
      "text/plain": [
       "<Figure size 640x480 with 1 Axes>"
      ]
     },
     "metadata": {},
     "output_type": "display_data"
    }
   ],
   "source": [
    "history_df2.loc[:, ['loss', 'val_loss']].plot()"
   ]
  },
  {
   "cell_type": "markdown",
   "id": "544471fd",
   "metadata": {},
   "source": [
    "## ajuste de hiperparámetros para el segundo modelo"
   ]
  },
  {
   "cell_type": "code",
   "execution_count": 73,
   "id": "4c76debf",
   "metadata": {},
   "outputs": [],
   "source": [
    "import keras_tuner"
   ]
  },
  {
   "cell_type": "code",
   "execution_count": 91,
   "id": "dc31faeb",
   "metadata": {},
   "outputs": [],
   "source": [
    "\n",
    "\n",
    "\n",
    "\n",
    "def build_model(hp):\n",
    "    model = keras.Sequential([\n",
    "        layers.BatchNormalization(),\n",
    "        layers.Dense(hp.Choice('units1', [256, 512]),activation='relu'), #units1\n",
    "        layers.BatchNormalization(),\n",
    "        layers.Dropout(hp.Choice('rate1', [0.1, 0.3,0.5])),\n",
    "        layers.Dense(hp.Choice('units2', [256, 512]),activation='relu'),\n",
    "        layers.BatchNormalization(),\n",
    "        layers.Dropout(hp.Choice('rate2', [0.1, 0.3,0.5])),\n",
    "        layers.Dense(1,activation='sigmoid'),\n",
    "    ])\n",
    "                     \n",
    "    lr = hp.Choice(\"learning_rate\",values=[1e-1, 1e-2, 1e-3])\n",
    "    opt = keras.optimizers.Adam(learning_rate=lr)\n",
    "    # compile the model\n",
    "    model.compile(optimizer=opt, loss=\"binary_crossentropy\",\n",
    "        metrics=[\"accuracy\"])\n",
    "                     \n",
    "    return model\n",
    "    \n",
    "    \n",
    "\n",
    "\n",
    "\n",
    "\n"
   ]
  },
  {
   "cell_type": "code",
   "execution_count": 92,
   "id": "a806eea9",
   "metadata": {},
   "outputs": [],
   "source": [
    "tuner = keras_tuner.RandomSearch(\n",
    "    build_model,\n",
    "    objective='val_loss',\n",
    "    max_trials=5)\n"
   ]
  },
  {
   "cell_type": "code",
   "execution_count": 93,
   "id": "31eecd73",
   "metadata": {},
   "outputs": [
    {
     "name": "stdout",
     "output_type": "stream",
     "text": [
      "Trial 5 Complete [00h 00m 57s]\n",
      "val_loss: 1.3458166122436523\n",
      "\n",
      "Best val_loss So Far: 0.39360228180885315\n",
      "Total elapsed time: 00h 04m 33s\n",
      "INFO:tensorflow:Oracle triggered exit\n",
      "WARNING:tensorflow:Detecting that an object or model or tf.train.Checkpoint is being deleted with unrestored values. See the following logs for the specific values in question. To silence these warnings, use `status.expect_partial()`. See https://www.tensorflow.org/api_docs/python/tf/train/Checkpoint#restorefor details about the status object returned by the restore function.\n",
      "WARNING:tensorflow:Value in checkpoint could not be found in the restored object: (root).layer_with_weights-0.gamma\n",
      "WARNING:tensorflow:Value in checkpoint could not be found in the restored object: (root).layer_with_weights-0.beta\n",
      "WARNING:tensorflow:Value in checkpoint could not be found in the restored object: (root).layer_with_weights-0.moving_mean\n",
      "WARNING:tensorflow:Value in checkpoint could not be found in the restored object: (root).layer_with_weights-0.moving_variance\n",
      "WARNING:tensorflow:Value in checkpoint could not be found in the restored object: (root).layer_with_weights-1.kernel\n",
      "WARNING:tensorflow:Value in checkpoint could not be found in the restored object: (root).layer_with_weights-1.bias\n",
      "WARNING:tensorflow:Value in checkpoint could not be found in the restored object: (root).layer_with_weights-2.gamma\n",
      "WARNING:tensorflow:Value in checkpoint could not be found in the restored object: (root).layer_with_weights-2.beta\n",
      "WARNING:tensorflow:Value in checkpoint could not be found in the restored object: (root).layer_with_weights-2.moving_mean\n",
      "WARNING:tensorflow:Value in checkpoint could not be found in the restored object: (root).layer_with_weights-2.moving_variance\n",
      "WARNING:tensorflow:Value in checkpoint could not be found in the restored object: (root).layer_with_weights-3.kernel\n",
      "WARNING:tensorflow:Value in checkpoint could not be found in the restored object: (root).layer_with_weights-3.bias\n",
      "WARNING:tensorflow:Value in checkpoint could not be found in the restored object: (root).layer_with_weights-4.gamma\n",
      "WARNING:tensorflow:Value in checkpoint could not be found in the restored object: (root).layer_with_weights-4.beta\n",
      "WARNING:tensorflow:Value in checkpoint could not be found in the restored object: (root).layer_with_weights-4.moving_mean\n",
      "WARNING:tensorflow:Value in checkpoint could not be found in the restored object: (root).layer_with_weights-4.moving_variance\n",
      "WARNING:tensorflow:Value in checkpoint could not be found in the restored object: (root).layer_with_weights-5.kernel\n",
      "WARNING:tensorflow:Value in checkpoint could not be found in the restored object: (root).layer_with_weights-5.bias\n",
      "WARNING:tensorflow:Value in checkpoint could not be found in the restored object: (root).optimizer._variables.1\n",
      "WARNING:tensorflow:Value in checkpoint could not be found in the restored object: (root).optimizer._variables.2\n",
      "WARNING:tensorflow:Value in checkpoint could not be found in the restored object: (root).optimizer._variables.3\n",
      "WARNING:tensorflow:Value in checkpoint could not be found in the restored object: (root).optimizer._variables.4\n",
      "WARNING:tensorflow:Value in checkpoint could not be found in the restored object: (root).optimizer._variables.5\n",
      "WARNING:tensorflow:Value in checkpoint could not be found in the restored object: (root).optimizer._variables.6\n",
      "WARNING:tensorflow:Value in checkpoint could not be found in the restored object: (root).optimizer._variables.7\n",
      "WARNING:tensorflow:Value in checkpoint could not be found in the restored object: (root).optimizer._variables.8\n",
      "WARNING:tensorflow:Value in checkpoint could not be found in the restored object: (root).optimizer._variables.9\n",
      "WARNING:tensorflow:Value in checkpoint could not be found in the restored object: (root).optimizer._variables.10\n",
      "WARNING:tensorflow:Value in checkpoint could not be found in the restored object: (root).optimizer._variables.11\n",
      "WARNING:tensorflow:Value in checkpoint could not be found in the restored object: (root).optimizer._variables.12\n",
      "WARNING:tensorflow:Value in checkpoint could not be found in the restored object: (root).optimizer._variables.13\n",
      "WARNING:tensorflow:Value in checkpoint could not be found in the restored object: (root).optimizer._variables.14\n",
      "WARNING:tensorflow:Value in checkpoint could not be found in the restored object: (root).optimizer._variables.15\n",
      "WARNING:tensorflow:Value in checkpoint could not be found in the restored object: (root).optimizer._variables.16\n",
      "WARNING:tensorflow:Value in checkpoint could not be found in the restored object: (root).optimizer._variables.17\n",
      "WARNING:tensorflow:Value in checkpoint could not be found in the restored object: (root).optimizer._variables.18\n",
      "WARNING:tensorflow:Value in checkpoint could not be found in the restored object: (root).optimizer._variables.19\n",
      "WARNING:tensorflow:Value in checkpoint could not be found in the restored object: (root).optimizer._variables.20\n",
      "WARNING:tensorflow:Value in checkpoint could not be found in the restored object: (root).optimizer._variables.21\n",
      "WARNING:tensorflow:Value in checkpoint could not be found in the restored object: (root).optimizer._variables.22\n",
      "WARNING:tensorflow:Value in checkpoint could not be found in the restored object: (root).optimizer._variables.23\n",
      "WARNING:tensorflow:Value in checkpoint could not be found in the restored object: (root).optimizer._variables.24\n"
     ]
    }
   ],
   "source": [
    "tuner.search(X_train, y_train, epochs=5, validation_data=(X_test, y_test))\n",
    "\n",
    "best_model = tuner.get_best_models()[0]\n"
   ]
  },
  {
   "cell_type": "code",
   "execution_count": 94,
   "id": "6ed21014",
   "metadata": {},
   "outputs": [
    {
     "name": "stdout",
     "output_type": "stream",
     "text": [
      "Results summary\n",
      "Results in ./untitled_project\n",
      "Showing 1 best trials\n",
      "Objective(name=\"val_loss\", direction=\"min\")\n",
      "\n",
      "Trial 0 summary\n",
      "Hyperparameters:\n",
      "units1: 256\n",
      "rate1: 0.1\n",
      "units2: 512\n",
      "rate2: 0.5\n",
      "learning_rate: 0.001\n",
      "Score: 0.39360228180885315\n"
     ]
    }
   ],
   "source": [
    "tuner.results_summary(1)"
   ]
  },
  {
   "cell_type": "code",
   "execution_count": 95,
   "id": "f7c22896",
   "metadata": {},
   "outputs": [
    {
     "name": "stdout",
     "output_type": "stream",
     "text": [
      "Epoch 1/40\n",
      "2799/2799 [==============================] - 13s 4ms/step - loss: 0.4544 - accuracy: 0.7896 - val_loss: 0.4163 - val_accuracy: 0.8037\n",
      "Epoch 2/40\n",
      "2799/2799 [==============================] - 12s 4ms/step - loss: 0.4174 - accuracy: 0.8057 - val_loss: 0.4007 - val_accuracy: 0.8156\n",
      "Epoch 3/40\n",
      "2799/2799 [==============================] - 12s 4ms/step - loss: 0.4088 - accuracy: 0.8098 - val_loss: 0.4097 - val_accuracy: 0.8113\n",
      "Epoch 4/40\n",
      "2799/2799 [==============================] - 11s 4ms/step - loss: 0.4019 - accuracy: 0.8140 - val_loss: 0.3950 - val_accuracy: 0.8209\n",
      "Epoch 5/40\n",
      "2799/2799 [==============================] - 11s 4ms/step - loss: 0.3953 - accuracy: 0.8170 - val_loss: 0.3912 - val_accuracy: 0.8221\n",
      "Epoch 6/40\n",
      "2799/2799 [==============================] - 11s 4ms/step - loss: 0.3925 - accuracy: 0.8169 - val_loss: 0.3968 - val_accuracy: 0.8201\n",
      "Epoch 7/40\n",
      "2799/2799 [==============================] - 11s 4ms/step - loss: 0.3893 - accuracy: 0.8203 - val_loss: 0.3924 - val_accuracy: 0.8244\n",
      "Epoch 8/40\n",
      "2799/2799 [==============================] - 11s 4ms/step - loss: 0.3862 - accuracy: 0.8213 - val_loss: 0.3908 - val_accuracy: 0.8261\n",
      "Epoch 9/40\n",
      "2799/2799 [==============================] - 11s 4ms/step - loss: 0.3845 - accuracy: 0.8224 - val_loss: 0.3839 - val_accuracy: 0.8260\n",
      "Epoch 10/40\n",
      "2799/2799 [==============================] - 11s 4ms/step - loss: 0.3842 - accuracy: 0.8224 - val_loss: 0.4010 - val_accuracy: 0.8231\n",
      "Epoch 11/40\n",
      "2799/2799 [==============================] - 11s 4ms/step - loss: 0.3821 - accuracy: 0.8236 - val_loss: 0.3887 - val_accuracy: 0.8243\n",
      "Epoch 12/40\n",
      "2799/2799 [==============================] - 11s 4ms/step - loss: 0.3796 - accuracy: 0.8248 - val_loss: 0.4453 - val_accuracy: 0.8169\n",
      "Epoch 13/40\n",
      "2799/2799 [==============================] - 11s 4ms/step - loss: 0.3787 - accuracy: 0.8249 - val_loss: 0.4292 - val_accuracy: 0.8265\n",
      "Epoch 14/40\n",
      "2799/2799 [==============================] - 11s 4ms/step - loss: 0.3777 - accuracy: 0.8254 - val_loss: 0.4371 - val_accuracy: 0.8261\n",
      "Epoch 15/40\n",
      "2799/2799 [==============================] - 11s 4ms/step - loss: 0.3779 - accuracy: 0.8253 - val_loss: 0.5973 - val_accuracy: 0.8249\n",
      "Epoch 16/40\n",
      "2799/2799 [==============================] - 11s 4ms/step - loss: 0.3768 - accuracy: 0.8262 - val_loss: 0.4701 - val_accuracy: 0.8209\n",
      "Epoch 17/40\n",
      "2799/2799 [==============================] - 11s 4ms/step - loss: 0.3762 - accuracy: 0.8254 - val_loss: 0.4795 - val_accuracy: 0.8256\n",
      "Epoch 18/40\n",
      "2799/2799 [==============================] - 11s 4ms/step - loss: 0.3739 - accuracy: 0.8274 - val_loss: 0.5385 - val_accuracy: 0.8209\n",
      "Epoch 19/40\n",
      "2799/2799 [==============================] - 11s 4ms/step - loss: 0.3751 - accuracy: 0.8254 - val_loss: 0.4487 - val_accuracy: 0.8222\n",
      "Epoch 20/40\n",
      "2799/2799 [==============================] - 11s 4ms/step - loss: 0.3720 - accuracy: 0.8279 - val_loss: 0.5058 - val_accuracy: 0.8248\n",
      "Epoch 21/40\n",
      "2799/2799 [==============================] - 10s 4ms/step - loss: 0.3726 - accuracy: 0.8273 - val_loss: 0.4456 - val_accuracy: 0.8218\n",
      "Epoch 22/40\n",
      "2799/2799 [==============================] - 11s 4ms/step - loss: 0.3722 - accuracy: 0.8273 - val_loss: 0.4818 - val_accuracy: 0.8237\n",
      "Epoch 23/40\n",
      "2799/2799 [==============================] - 11s 4ms/step - loss: 0.3706 - accuracy: 0.8266 - val_loss: 0.4228 - val_accuracy: 0.8222\n",
      "Epoch 24/40\n",
      "2799/2799 [==============================] - 11s 4ms/step - loss: 0.3705 - accuracy: 0.8286 - val_loss: 0.4178 - val_accuracy: 0.8268\n",
      "Epoch 25/40\n",
      "2799/2799 [==============================] - 11s 4ms/step - loss: 0.3702 - accuracy: 0.8291 - val_loss: 0.5167 - val_accuracy: 0.8273\n",
      "Epoch 26/40\n",
      "2799/2799 [==============================] - 11s 4ms/step - loss: 0.3716 - accuracy: 0.8287 - val_loss: 0.4269 - val_accuracy: 0.8278\n",
      "Epoch 27/40\n",
      "2799/2799 [==============================] - 11s 4ms/step - loss: 0.3683 - accuracy: 0.8299 - val_loss: 0.4478 - val_accuracy: 0.8259\n",
      "Epoch 28/40\n",
      "2799/2799 [==============================] - 11s 4ms/step - loss: 0.3678 - accuracy: 0.8296 - val_loss: 0.3918 - val_accuracy: 0.8254\n",
      "Epoch 29/40\n",
      "2799/2799 [==============================] - 11s 4ms/step - loss: 0.3675 - accuracy: 0.8296 - val_loss: 0.4783 - val_accuracy: 0.8255\n",
      "Epoch 30/40\n",
      "2799/2799 [==============================] - 12s 4ms/step - loss: 0.3666 - accuracy: 0.8292 - val_loss: 0.5924 - val_accuracy: 0.8249\n",
      "Epoch 31/40\n",
      "2799/2799 [==============================] - 10s 4ms/step - loss: 0.3668 - accuracy: 0.8298 - val_loss: 0.4640 - val_accuracy: 0.8264\n",
      "Epoch 32/40\n",
      "2799/2799 [==============================] - 13s 5ms/step - loss: 0.3657 - accuracy: 0.8312 - val_loss: 0.4915 - val_accuracy: 0.8272\n",
      "Epoch 33/40\n",
      "2799/2799 [==============================] - 11s 4ms/step - loss: 0.3658 - accuracy: 0.8301 - val_loss: 0.5585 - val_accuracy: 0.8282\n",
      "Epoch 34/40\n",
      "2799/2799 [==============================] - 10s 4ms/step - loss: 0.3654 - accuracy: 0.8319 - val_loss: 0.9747 - val_accuracy: 0.8238\n",
      "Epoch 35/40\n",
      "2799/2799 [==============================] - 10s 4ms/step - loss: 0.3651 - accuracy: 0.8292 - val_loss: 1.3087 - val_accuracy: 0.8237\n",
      "Epoch 36/40\n",
      "2799/2799 [==============================] - 10s 4ms/step - loss: 0.3643 - accuracy: 0.8312 - val_loss: 1.0547 - val_accuracy: 0.8226\n",
      "Epoch 37/40\n",
      "2799/2799 [==============================] - 10s 4ms/step - loss: 0.3661 - accuracy: 0.8318 - val_loss: 0.7694 - val_accuracy: 0.8241\n",
      "Epoch 38/40\n",
      "2799/2799 [==============================] - 10s 4ms/step - loss: 0.3626 - accuracy: 0.8317 - val_loss: 1.0462 - val_accuracy: 0.8277\n",
      "Epoch 39/40\n",
      "2799/2799 [==============================] - 10s 4ms/step - loss: 0.3616 - accuracy: 0.8316 - val_loss: 0.6701 - val_accuracy: 0.8262\n",
      "Epoch 40/40\n",
      "2799/2799 [==============================] - 11s 4ms/step - loss: 0.3620 - accuracy: 0.8317 - val_loss: 0.5630 - val_accuracy: 0.8293\n"
     ]
    }
   ],
   "source": [
    "\n",
    "# rentreno con los mejkores hierparams\n",
    "\n",
    "best_hps = tuner.get_best_hyperparameters(num_trials=1)[0]\n",
    "final_model = tuner.hypermodel.build(best_hps)\n",
    "\n",
    "final_history = final_model.fit(X_train, y_train, epochs=40, validation_data=(X_test, y_test))"
   ]
  },
  {
   "cell_type": "code",
   "execution_count": 96,
   "id": "e0209437",
   "metadata": {},
   "outputs": [
    {
     "name": "stdout",
     "output_type": "stream",
     "text": [
      "933/933 [==============================] - 1s 1ms/step - loss: 0.5630 - accuracy: 0.8293\n"
     ]
    },
    {
     "data": {
      "text/plain": [
       "[0.5629878640174866, 0.8293352723121643]"
      ]
     },
     "execution_count": 96,
     "metadata": {},
     "output_type": "execute_result"
    }
   ],
   "source": [
    "final_model.evaluate(X_test,y_test)"
   ]
  },
  {
   "cell_type": "code",
   "execution_count": 98,
   "id": "4f079247",
   "metadata": {},
   "outputs": [
    {
     "data": {
      "text/plain": [
       "<AxesSubplot:>"
      ]
     },
     "execution_count": 98,
     "metadata": {},
     "output_type": "execute_result"
    },
    {
     "data": {
      "image/png": "[encoded data removed]",
      "text/plain": [
       "<Figure size 640x480 with 1 Axes>"
      ]
     },
     "metadata": {},
     "output_type": "display_data"
    }
   ],
   "source": [
    "final_history_df = pd.DataFrame(final_history.history)\n",
    "\n",
    "\n",
    "final_history_df.plot()"
   ]
  },
  {
   "cell_type": "markdown",
   "id": "13c7f5e3",
   "metadata": {},
   "source": [
    "## <font color='blue'><b>Clasificación multiclase</b></font>"
   ]
  }
 ],
 "metadata": {
  "kernelspec": {
   "display_name": "Python 3 (ipykernel)",
   "language": "python",
   "name": "python3"
  },
  "language_info": {
   "codemirror_mode": {
    "name": "ipython",
    "version": 3
   },
   "file_extension": ".py",
   "mimetype": "text/x-python",
   "name": "python",
   "nbconvert_exporter": "python",
   "pygments_lexer": "ipython3",
   "version": "3.10.12"
  }
 },
 "nbformat": 4,
 "nbformat_minor": 5
}
