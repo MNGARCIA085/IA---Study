{
 "cells": [
  {
   "cell_type": "markdown",
   "id": "4f9dd72c",
   "metadata": {},
   "source": [
    "# <center> <font color='blue'><b>TRANSFER LEARNING - Parte 2</b></font></center>"
   ]
  },
  {
   "cell_type": "markdown",
   "id": "a20ae5d7",
   "metadata": {},
   "source": [
    "## Objetivos\n",
    "\n",
    "Practicarme con Transfer Learning\n",
    "\n",
    "Usaremos effienct Net como modelo base e iremos ajustando.\n",
    "\n",
    "\n",
    "\n",
    "(Feature Extractor??????????)\n"
   ]
  },
  {
   "cell_type": "markdown",
   "id": "8d759360",
   "metadata": {},
   "source": [
    "## Librerías necesarias"
   ]
  },
  {
   "cell_type": "code",
   "execution_count": 2,
   "id": "2bd2da01",
   "metadata": {},
   "outputs": [],
   "source": [
    "# que no se impriman info y warnings\n",
    "import os\n",
    "os.environ['TF_CPP_MIN_LOG_LEVEL'] = '2' "
   ]
  },
  {
   "cell_type": "code",
   "execution_count": 17,
   "id": "83ddc2e0",
   "metadata": {},
   "outputs": [],
   "source": [
    "import tensorflow as tf\n",
    "import matplotlib.pyplot as plt\n",
    "import matplotlib.image as mpimg\n",
    "import numpy as np\n",
    "from tensorflow.keras import layers,callbacks,models,Sequential,losses\n",
    "import seaborn as sns\n",
    "from sklearn.metrics import confusion_matrix\n",
    "import keras_tuner\n",
    "from tensorflow import keras\n",
    "from keras import backend as K\n",
    "import os,random\n",
    "import pandas as pd\n",
    "from sklearn.metrics import confusion_matrix\n",
    "from tensorflow.keras.preprocessing.image import ImageDataGenerator\n",
    "import tensorflow_hub as hub\n",
    "from tensorflow.keras.preprocessing.image import ImageDataGenerator\n",
    "from tensorflow.keras.applications.efficientnet import preprocess_input\n",
    "from tensorflow.keras.layers.experimental import preprocessing\n",
    "\n"
   ]
  },
  {
   "cell_type": "markdown",
   "id": "67d32080",
   "metadata": {},
   "source": [
    "## Helper Functions"
   ]
  },
  {
   "cell_type": "code",
   "execution_count": 29,
   "id": "a543e41e",
   "metadata": {},
   "outputs": [],
   "source": [
    "# plot history\n",
    "def plot_history(history):\n",
    "    hist = pd.DataFrame(history.history)\n",
    "    hist['epoch'] = history.epoch\n",
    "\n",
    "    plt.figure(figsize=(10,4))\n",
    "    \n",
    "    plt.subplot(1,2,1)\n",
    "    plt.title('Training and validation loss')\n",
    "    plt.xlabel('Epoch')\n",
    "    plt.ylabel('Loss')\n",
    "    plt.plot(hist['epoch'], hist['loss'],\n",
    "           label='Train Error')\n",
    "    plt.plot(hist['epoch'], hist['val_loss'],\n",
    "           label = 'Val Error')\n",
    "    plt.legend()\n",
    "\n",
    "    #plt.figure()\n",
    "    plt.subplot(1,2,2)\n",
    "    plt.title('Training and validation accuracy')\n",
    "    plt.xlabel('Epoch')\n",
    "    plt.ylabel('Accuracy')\n",
    "    plt.plot(hist['epoch'], hist['accuracy'],\n",
    "           label='Train Accuracy')\n",
    "    plt.plot(hist['epoch'], hist['val_accuracy'],\n",
    "           label = 'Val Accuracy')\n",
    "    plt.legend()\n",
    "    plt.show()"
   ]
  },
  {
   "cell_type": "markdown",
   "id": "3bd53f29",
   "metadata": {},
   "source": [
    "## Carga de datos"
   ]
  },
  {
   "cell_type": "code",
   "execution_count": 4,
   "id": "640bfb63",
   "metadata": {},
   "outputs": [],
   "source": [
    "seed_value = 57\n",
    "np.random.seed(seed_value)\n",
    "tf.random.set_seed(seed_value)"
   ]
  },
  {
   "cell_type": "code",
   "execution_count": 5,
   "id": "a7097779",
   "metadata": {},
   "outputs": [],
   "source": [
    "IMG_SHAPE = (224,224)\n",
    "BATCH_SIZE = 32\n",
    "\n",
    "train_dir='/home/marcos/Escritorio/IA/IA---Study/S6 - Transfer Learning - p1/data/Sports-celebrity images/train'\n",
    "test_dir='/home/marcos/Escritorio/IA/IA---Study/S6 - Transfer Learning - p1/data/Sports-celebrity images/test'"
   ]
  },
  {
   "cell_type": "code",
   "execution_count": 8,
   "id": "f1d22533",
   "metadata": {},
   "outputs": [
    {
     "name": "stdout",
     "output_type": "stream",
     "text": [
      "Found 315 images belonging to 4 classes.\n",
      "Found 78 images belonging to 4 classes.\n",
      "Found 50 images belonging to 4 classes.\n"
     ]
    }
   ],
   "source": [
    "# Configura el generador de datos con solo preprocess_input\n",
    "train_datagen = ImageDataGenerator(preprocessing_function=preprocess_input,validation_split=0.2)\n",
    "\n",
    "\n",
    "# es de notar que NO ponemos rescaling en ImageDataGenerator pues tf.keras.applications.efficientnet\n",
    "# ya lo incluye\n",
    "\n",
    "\n",
    "#\n",
    "train_generator = train_datagen.flow_from_directory(\n",
    "    train_dir,\n",
    "    target_size = IMG_SHAPE,\n",
    "    batch_size=BATCH_SIZE,\n",
    "    class_mode='categorical',\n",
    "    subset='training'\n",
    ")\n",
    "\n",
    "validation_generator = train_datagen.flow_from_directory(\n",
    "    train_dir,\n",
    "    target_size = IMG_SHAPE,\n",
    "    batch_size=BATCH_SIZE,\n",
    "    class_mode='categorical',\n",
    "    subset='validation'\n",
    ")\n",
    "\n",
    "\n",
    "#\n",
    "test_datagen = ImageDataGenerator(rescale=1/255.)\n",
    "\n",
    "test_generator = test_datagen.flow_from_directory(test_dir,\n",
    "                                             target_size=IMG_SHAPE,\n",
    "                                             batch_size=BATCH_SIZE,\n",
    "                                             class_mode=\"categorical\")"
   ]
  },
  {
   "cell_type": "code",
   "execution_count": 10,
   "id": "5f62b342",
   "metadata": {},
   "outputs": [],
   "source": [
    "num_classes = train_generator.num_classes"
   ]
  },
  {
   "cell_type": "markdown",
   "id": "0ddc01f2",
   "metadata": {},
   "source": [
    "### AHora trabajaremos con un modelo base y le agregaremos capas"
   ]
  },
  {
   "cell_type": "markdown",
   "id": "31ac3e94",
   "metadata": {},
   "source": [
    "EfficentNet + Global Average Pooling + Capa densa de salida (y data augmentation)"
   ]
  },
  {
   "cell_type": "code",
   "execution_count": 12,
   "id": "779d941f",
   "metadata": {},
   "outputs": [],
   "source": [
    "# Create data augmentation stage with horizontal flipping, rotations, zooms, etc\n",
    "data_augmentation = keras.Sequential([\n",
    "  preprocessing.RandomFlip(\"horizontal\"),\n",
    "  preprocessing.RandomRotation(0.2),\n",
    "  preprocessing.RandomZoom(0.2),\n",
    "  preprocessing.RandomHeight(0.2),\n",
    "  preprocessing.RandomWidth(0.2),\n",
    "  # preprocessing.Rescale(1./255) # Keep for models like ResNet50V2 but EfficientNet's having resclaing built-in\n",
    "], name=\"data_augmentation\")"
   ]
  },
  {
   "cell_type": "code",
   "execution_count": 19,
   "id": "5aa240c1",
   "metadata": {},
   "outputs": [
    {
     "ename": "IsADirectoryError",
     "evalue": "[Errno 21] Is a directory: '/home/marcos/Escritorio/IA/IA---Study/S6 - Transfer Learning - p1/data/Sports-celebrity images/train/Ronaldo'",
     "output_type": "error",
     "traceback": [
      "\u001b[0;31m---------------------------------------------------------------------------\u001b[0m",
      "\u001b[0;31mIsADirectoryError\u001b[0m                         Traceback (most recent call last)",
      "Cell \u001b[0;32mIn [19], line 20\u001b[0m\n\u001b[1;32m     17\u001b[0m random_image_path \u001b[38;5;241m=\u001b[39m target_dir \u001b[38;5;66;03m#+ \"/\" + str(random_image)\u001b[39;00m\n\u001b[1;32m     19\u001b[0m \u001b[38;5;66;03m# Read and plot in the random image \u001b[39;00m\n\u001b[0;32m---> 20\u001b[0m img \u001b[38;5;241m=\u001b[39m \u001b[43mmpimg\u001b[49m\u001b[38;5;241;43m.\u001b[39;49m\u001b[43mimread\u001b[49m\u001b[43m(\u001b[49m\u001b[43mrandom_image_path\u001b[49m\u001b[43m)\u001b[49m\n\u001b[1;32m     21\u001b[0m plt\u001b[38;5;241m.\u001b[39mimshow(img)\n\u001b[1;32m     22\u001b[0m plt\u001b[38;5;241m.\u001b[39mtitle(\u001b[38;5;124mf\u001b[39m\u001b[38;5;124m\"\u001b[39m\u001b[38;5;124mOriginal random image from class: \u001b[39m\u001b[38;5;132;01m{\u001b[39;00mtarget_class\u001b[38;5;132;01m}\u001b[39;00m\u001b[38;5;124m\"\u001b[39m)\n",
      "File \u001b[0;32m/usr/lib/python3/dist-packages/matplotlib/image.py:1560\u001b[0m, in \u001b[0;36mimread\u001b[0;34m(fname, format)\u001b[0m\n\u001b[1;32m   1558\u001b[0m                 response \u001b[38;5;241m=\u001b[39m io\u001b[38;5;241m.\u001b[39mBytesIO(response\u001b[38;5;241m.\u001b[39mread())\n\u001b[1;32m   1559\u001b[0m             \u001b[38;5;28;01mreturn\u001b[39;00m imread(response, \u001b[38;5;28mformat\u001b[39m\u001b[38;5;241m=\u001b[39mext)\n\u001b[0;32m-> 1560\u001b[0m \u001b[38;5;28;01mwith\u001b[39;00m \u001b[43mimg_open\u001b[49m\u001b[43m(\u001b[49m\u001b[43mfname\u001b[49m\u001b[43m)\u001b[49m \u001b[38;5;28;01mas\u001b[39;00m image:\n\u001b[1;32m   1561\u001b[0m     \u001b[38;5;28;01mreturn\u001b[39;00m (_pil_png_to_float_array(image)\n\u001b[1;32m   1562\u001b[0m             \u001b[38;5;28;01mif\u001b[39;00m \u001b[38;5;28misinstance\u001b[39m(image, PIL\u001b[38;5;241m.\u001b[39mPngImagePlugin\u001b[38;5;241m.\u001b[39mPngImageFile) \u001b[38;5;28;01melse\u001b[39;00m\n\u001b[1;32m   1563\u001b[0m             pil_to_array(image))\n",
      "File \u001b[0;32m/usr/lib/python3/dist-packages/PIL/Image.py:2953\u001b[0m, in \u001b[0;36mopen\u001b[0;34m(fp, mode, formats)\u001b[0m\n\u001b[1;32m   2950\u001b[0m     filename \u001b[38;5;241m=\u001b[39m fp\n\u001b[1;32m   2952\u001b[0m \u001b[38;5;28;01mif\u001b[39;00m filename:\n\u001b[0;32m-> 2953\u001b[0m     fp \u001b[38;5;241m=\u001b[39m \u001b[43mbuiltins\u001b[49m\u001b[38;5;241;43m.\u001b[39;49m\u001b[43mopen\u001b[49m\u001b[43m(\u001b[49m\u001b[43mfilename\u001b[49m\u001b[43m,\u001b[49m\u001b[43m \u001b[49m\u001b[38;5;124;43m\"\u001b[39;49m\u001b[38;5;124;43mrb\u001b[39;49m\u001b[38;5;124;43m\"\u001b[39;49m\u001b[43m)\u001b[49m\n\u001b[1;32m   2954\u001b[0m     exclusive_fp \u001b[38;5;241m=\u001b[39m \u001b[38;5;28;01mTrue\u001b[39;00m\n\u001b[1;32m   2956\u001b[0m \u001b[38;5;28;01mtry\u001b[39;00m:\n",
      "\u001b[0;31mIsADirectoryError\u001b[0m: [Errno 21] Is a directory: '/home/marcos/Escritorio/IA/IA---Study/S6 - Transfer Learning - p1/data/Sports-celebrity images/train/Ronaldo'"
     ]
    }
   ],
   "source": [
    "\n",
    "\n",
    "\n",
    "\n",
    "\"\"\"\n",
    "# Obtiene el diccionario que asigna nombres de clases a sus índices\n",
    "class_indices = train_generator.class_indices\n",
    "# Invierte el diccionario para obtener un diccionario que asigna índices a nombres de clases\n",
    "indices_to_classes = {v: k for k, v in class_indices.items()}\n",
    "# Imprime los nombres de las clases\n",
    "class_names = list(indices_to_classes.values())\n",
    "print(\"Nombres de las clases:\", class_names)\n",
    "\"\"\"\n",
    "\n",
    "\n",
    "\n",
    "target_dir = \"/home/marcos/Escritorio/IA/IA---Study/S6 - Transfer Learning - p1/data/Sports-celebrity images/train/Ronaldo\"\n",
    "\n",
    "\n",
    "random_image = random.choice(os.listdir(target_dir))\n",
    "random_image_path = target_dir #+ \"/\" + str(random_image)\n",
    "\n",
    "# Read and plot in the random image \n",
    "img = mpimg.imread(random_image_path)\n",
    "plt.imshow(img)\n",
    "plt.title(f\"Original random image from class: {target_class}\")\n",
    "plt.axis(False);\n",
    "\n",
    "# Now let's plot our augmented random image\n",
    "augmented_img = data_augmentation(tf.expand_dims(img, axis=0))\n",
    "plt.figure()\n",
    "plt.imshow(tf.squeeze(augmented_img)/255.)\n",
    "plt.title(f\"Augmented random image from class: {target_class}\")\n",
    "plt.axis(False);\n",
    "# print(augmented_img)"
   ]
  },
  {
   "cell_type": "code",
   "execution_count": 20,
   "id": "dcca4eaf",
   "metadata": {},
   "outputs": [
    {
     "name": "stdout",
     "output_type": "stream",
     "text": [
      "Shape after passing inputs through base model: (None, 7, 7, 1280)\n",
      "Shape after GlobalAveragePooling2D: (None, 1280)\n"
     ]
    }
   ],
   "source": [
    "# base model with tf.keras.applications\n",
    "# https://www.tensorflow.org/api_docs/python/tf/keras/applications/efficientnet/EfficientNetB0\n",
    "\n",
    "\n",
    "def build_model(input_shape,num_classes):\n",
    "    # base model\n",
    "    base_model = tf.keras.applications.EfficientNetB0(include_top=False)\n",
    "    # Freeze the base model (so the underlying pre-trained patterns aren't updated during training)\n",
    "    base_model.trainable = False\n",
    "\n",
    "    # create inputs into our model\n",
    "    inputs = tf.keras.layers.Input(shape=input_shape,name='input_layer')\n",
    "    \n",
    "    \n",
    "    \n",
    "    # Add in data augmentation Sequential model as a layer\n",
    "    x = data_augmentation(inputs,training=True)\n",
    "    \n",
    "    \n",
    "    \n",
    "    \n",
    "    # pass the inputs to the base model\n",
    "    x = base_model(inputs)\n",
    "    print(f\"Shape after passing inputs through base model: {x.shape}\")\n",
    "    \n",
    "    # global average pooling\n",
    "    x = tf.keras.layers.GlobalAveragePooling2D(name='global_average_pooling_layer')(x)\n",
    "    print(f\"Shape after GlobalAveragePooling2D: {x.shape}\")\n",
    "    \n",
    "    # output\n",
    "    outputs = tf.keras.layers.Dense(num_classes,activation='softmax',name='output_layer')(x)\n",
    "    # comibne the inputs and the outputs into a model\n",
    "    model = tf.keras.Model(inputs,outputs)\n",
    "    # retorno    \n",
    "    return model\n",
    "\n",
    "\n",
    "model_0 = build_model(IMG_SHAPE+(3,),num_classes)\n",
    "\n"
   ]
  },
  {
   "cell_type": "code",
   "execution_count": 21,
   "id": "6140ca41",
   "metadata": {},
   "outputs": [
    {
     "name": "stdout",
     "output_type": "stream",
     "text": [
      "Model: \"model\"\n",
      "_________________________________________________________________\n",
      " Layer (type)                Output Shape              Param #   \n",
      "=================================================================\n",
      " input_layer (InputLayer)    [(None, 224, 224, 3)]     0         \n",
      "                                                                 \n",
      " efficientnetb0 (Functional)  (None, None, None, 1280)  4049571  \n",
      "                                                                 \n",
      " global_average_pooling_laye  (None, 1280)             0         \n",
      " r (GlobalAveragePooling2D)                                      \n",
      "                                                                 \n",
      " output_layer (Dense)        (None, 4)                 5124      \n",
      "                                                                 \n",
      "=================================================================\n",
      "Total params: 4,054,695\n",
      "Trainable params: 5,124\n",
      "Non-trainable params: 4,049,571\n",
      "_________________________________________________________________\n"
     ]
    }
   ],
   "source": [
    "model_0.summary()"
   ]
  },
  {
   "cell_type": "code",
   "execution_count": 22,
   "id": "fc5e71f7",
   "metadata": {},
   "outputs": [
    {
     "name": "stdout",
     "output_type": "stream",
     "text": [
      "0 input_layer\n",
      "1 efficientnetb0\n",
      "2 global_average_pooling_layer\n",
      "3 output_layer\n"
     ]
    }
   ],
   "source": [
    "# Check the layers in our model\n",
    "for layer_number, layer in enumerate(model_0.layers):\n",
    "  print(layer_number, layer.name)"
   ]
  },
  {
   "cell_type": "code",
   "execution_count": 23,
   "id": "9dafa491",
   "metadata": {},
   "outputs": [
    {
     "name": "stdout",
     "output_type": "stream",
     "text": [
      "input_1 False\n",
      "rescaling False\n",
      "normalization False\n",
      "rescaling_1 False\n",
      "stem_conv_pad False\n",
      "stem_conv False\n",
      "stem_bn False\n",
      "stem_activation False\n",
      "block1a_dwconv False\n",
      "block1a_bn False\n",
      "block1a_activation False\n",
      "block1a_se_squeeze False\n",
      "block1a_se_reshape False\n",
      "block1a_se_reduce False\n",
      "block1a_se_expand False\n",
      "block1a_se_excite False\n",
      "block1a_project_conv False\n",
      "block1a_project_bn False\n",
      "block2a_expand_conv False\n",
      "block2a_expand_bn False\n",
      "block2a_expand_activation False\n",
      "block2a_dwconv_pad False\n",
      "block2a_dwconv False\n",
      "block2a_bn False\n",
      "block2a_activation False\n",
      "block2a_se_squeeze False\n",
      "block2a_se_reshape False\n",
      "block2a_se_reduce False\n",
      "block2a_se_expand False\n",
      "block2a_se_excite False\n",
      "block2a_project_conv False\n",
      "block2a_project_bn False\n",
      "block2b_expand_conv False\n",
      "block2b_expand_bn False\n",
      "block2b_expand_activation False\n",
      "block2b_dwconv False\n",
      "block2b_bn False\n",
      "block2b_activation False\n",
      "block2b_se_squeeze False\n",
      "block2b_se_reshape False\n",
      "block2b_se_reduce False\n",
      "block2b_se_expand False\n",
      "block2b_se_excite False\n",
      "block2b_project_conv False\n",
      "block2b_project_bn False\n",
      "block2b_drop False\n",
      "block2b_add False\n",
      "block3a_expand_conv False\n",
      "block3a_expand_bn False\n",
      "block3a_expand_activation False\n",
      "block3a_dwconv_pad False\n",
      "block3a_dwconv False\n",
      "block3a_bn False\n",
      "block3a_activation False\n",
      "block3a_se_squeeze False\n",
      "block3a_se_reshape False\n",
      "block3a_se_reduce False\n",
      "block3a_se_expand False\n",
      "block3a_se_excite False\n",
      "block3a_project_conv False\n",
      "block3a_project_bn False\n",
      "block3b_expand_conv False\n",
      "block3b_expand_bn False\n",
      "block3b_expand_activation False\n",
      "block3b_dwconv False\n",
      "block3b_bn False\n",
      "block3b_activation False\n",
      "block3b_se_squeeze False\n",
      "block3b_se_reshape False\n",
      "block3b_se_reduce False\n",
      "block3b_se_expand False\n",
      "block3b_se_excite False\n",
      "block3b_project_conv False\n",
      "block3b_project_bn False\n",
      "block3b_drop False\n",
      "block3b_add False\n",
      "block4a_expand_conv False\n",
      "block4a_expand_bn False\n",
      "block4a_expand_activation False\n",
      "block4a_dwconv_pad False\n",
      "block4a_dwconv False\n",
      "block4a_bn False\n",
      "block4a_activation False\n",
      "block4a_se_squeeze False\n",
      "block4a_se_reshape False\n",
      "block4a_se_reduce False\n",
      "block4a_se_expand False\n",
      "block4a_se_excite False\n",
      "block4a_project_conv False\n",
      "block4a_project_bn False\n",
      "block4b_expand_conv False\n",
      "block4b_expand_bn False\n",
      "block4b_expand_activation False\n",
      "block4b_dwconv False\n",
      "block4b_bn False\n",
      "block4b_activation False\n",
      "block4b_se_squeeze False\n",
      "block4b_se_reshape False\n",
      "block4b_se_reduce False\n",
      "block4b_se_expand False\n",
      "block4b_se_excite False\n",
      "block4b_project_conv False\n",
      "block4b_project_bn False\n",
      "block4b_drop False\n",
      "block4b_add False\n",
      "block4c_expand_conv False\n",
      "block4c_expand_bn False\n",
      "block4c_expand_activation False\n",
      "block4c_dwconv False\n",
      "block4c_bn False\n",
      "block4c_activation False\n",
      "block4c_se_squeeze False\n",
      "block4c_se_reshape False\n",
      "block4c_se_reduce False\n",
      "block4c_se_expand False\n",
      "block4c_se_excite False\n",
      "block4c_project_conv False\n",
      "block4c_project_bn False\n",
      "block4c_drop False\n",
      "block4c_add False\n",
      "block5a_expand_conv False\n",
      "block5a_expand_bn False\n",
      "block5a_expand_activation False\n",
      "block5a_dwconv False\n",
      "block5a_bn False\n",
      "block5a_activation False\n",
      "block5a_se_squeeze False\n",
      "block5a_se_reshape False\n",
      "block5a_se_reduce False\n",
      "block5a_se_expand False\n",
      "block5a_se_excite False\n",
      "block5a_project_conv False\n",
      "block5a_project_bn False\n",
      "block5b_expand_conv False\n",
      "block5b_expand_bn False\n",
      "block5b_expand_activation False\n",
      "block5b_dwconv False\n",
      "block5b_bn False\n",
      "block5b_activation False\n",
      "block5b_se_squeeze False\n",
      "block5b_se_reshape False\n",
      "block5b_se_reduce False\n",
      "block5b_se_expand False\n",
      "block5b_se_excite False\n",
      "block5b_project_conv False\n",
      "block5b_project_bn False\n",
      "block5b_drop False\n",
      "block5b_add False\n",
      "block5c_expand_conv False\n",
      "block5c_expand_bn False\n",
      "block5c_expand_activation False\n",
      "block5c_dwconv False\n",
      "block5c_bn False\n",
      "block5c_activation False\n",
      "block5c_se_squeeze False\n",
      "block5c_se_reshape False\n",
      "block5c_se_reduce False\n",
      "block5c_se_expand False\n",
      "block5c_se_excite False\n",
      "block5c_project_conv False\n",
      "block5c_project_bn False\n",
      "block5c_drop False\n",
      "block5c_add False\n",
      "block6a_expand_conv False\n",
      "block6a_expand_bn False\n",
      "block6a_expand_activation False\n",
      "block6a_dwconv_pad False\n",
      "block6a_dwconv False\n",
      "block6a_bn False\n",
      "block6a_activation False\n",
      "block6a_se_squeeze False\n",
      "block6a_se_reshape False\n",
      "block6a_se_reduce False\n",
      "block6a_se_expand False\n",
      "block6a_se_excite False\n",
      "block6a_project_conv False\n",
      "block6a_project_bn False\n",
      "block6b_expand_conv False\n",
      "block6b_expand_bn False\n",
      "block6b_expand_activation False\n",
      "block6b_dwconv False\n",
      "block6b_bn False\n",
      "block6b_activation False\n",
      "block6b_se_squeeze False\n",
      "block6b_se_reshape False\n",
      "block6b_se_reduce False\n",
      "block6b_se_expand False\n",
      "block6b_se_excite False\n",
      "block6b_project_conv False\n",
      "block6b_project_bn False\n",
      "block6b_drop False\n",
      "block6b_add False\n",
      "block6c_expand_conv False\n",
      "block6c_expand_bn False\n",
      "block6c_expand_activation False\n",
      "block6c_dwconv False\n",
      "block6c_bn False\n",
      "block6c_activation False\n",
      "block6c_se_squeeze False\n",
      "block6c_se_reshape False\n",
      "block6c_se_reduce False\n",
      "block6c_se_expand False\n",
      "block6c_se_excite False\n",
      "block6c_project_conv False\n",
      "block6c_project_bn False\n",
      "block6c_drop False\n",
      "block6c_add False\n",
      "block6d_expand_conv False\n",
      "block6d_expand_bn False\n",
      "block6d_expand_activation False\n",
      "block6d_dwconv False\n",
      "block6d_bn False\n",
      "block6d_activation False\n",
      "block6d_se_squeeze False\n",
      "block6d_se_reshape False\n",
      "block6d_se_reduce False\n",
      "block6d_se_expand False\n",
      "block6d_se_excite False\n",
      "block6d_project_conv False\n",
      "block6d_project_bn False\n",
      "block6d_drop False\n",
      "block6d_add False\n",
      "block7a_expand_conv False\n",
      "block7a_expand_bn False\n",
      "block7a_expand_activation False\n",
      "block7a_dwconv False\n",
      "block7a_bn False\n",
      "block7a_activation False\n",
      "block7a_se_squeeze False\n",
      "block7a_se_reshape False\n",
      "block7a_se_reduce False\n",
      "block7a_se_expand False\n",
      "block7a_se_excite False\n",
      "block7a_project_conv False\n",
      "block7a_project_bn False\n",
      "top_conv False\n",
      "top_bn False\n",
      "top_activation False\n"
     ]
    }
   ],
   "source": [
    "# las de efficnet net\n",
    "for layer in model_0.layers[1].layers:\n",
    "    print(layer.name, layer.trainable)"
   ]
  },
  {
   "cell_type": "code",
   "execution_count": 24,
   "id": "b67fc44a",
   "metadata": {},
   "outputs": [],
   "source": [
    "# compile\n",
    "model_0.compile(loss=\"categorical_crossentropy\",\n",
    "                optimizer=tf.keras.optimizers.Adam(),\n",
    "                metrics=[\"accuracy\"])"
   ]
  },
  {
   "cell_type": "code",
   "execution_count": 25,
   "id": "e1d08fe6",
   "metadata": {},
   "outputs": [
    {
     "name": "stdout",
     "output_type": "stream",
     "text": [
      "Epoch 1/5\n",
      "10/10 [==============================] - 27s 2s/step - loss: 1.3627 - accuracy: 0.3492 - val_loss: 1.1451 - val_accuracy: 0.5513\n",
      "Epoch 2/5\n",
      "10/10 [==============================] - 15s 2s/step - loss: 0.9695 - accuracy: 0.6698 - val_loss: 0.9113 - val_accuracy: 0.7436\n",
      "Epoch 3/5\n",
      "10/10 [==============================] - 15s 2s/step - loss: 0.7353 - accuracy: 0.8413 - val_loss: 0.7546 - val_accuracy: 0.7821\n",
      "Epoch 4/5\n",
      "10/10 [==============================] - 16s 2s/step - loss: 0.5773 - accuracy: 0.8825 - val_loss: 0.6579 - val_accuracy: 0.7949\n",
      "Epoch 5/5\n",
      "10/10 [==============================] - 15s 1s/step - loss: 0.4878 - accuracy: 0.9048 - val_loss: 0.5909 - val_accuracy: 0.8077\n"
     ]
    }
   ],
   "source": [
    "# fit\n",
    "history_0 = model_0.fit(train_generator,\n",
    "                        epochs=5,\n",
    "                        steps_per_epoch=len(train_generator),\n",
    "                                 validation_data=validation_generator,\n",
    "                                 validation_steps=len(validation_generator))"
   ]
  },
  {
   "cell_type": "code",
   "execution_count": 30,
   "id": "b7a7f547",
   "metadata": {},
   "outputs": [
    {
     "data": {
      "image/png": "[encoded data removed]",
      "text/plain": [
       "<Figure size 1000x400 with 2 Axes>"
      ]
     },
     "metadata": {},
     "output_type": "display_data"
    }
   ],
   "source": [
    "plot_history(history_0)"
   ]
  },
  {
   "cell_type": "code",
   "execution_count": null,
   "id": "4c9e7abc",
   "metadata": {},
   "outputs": [],
   "source": []
  }
 ],
 "metadata": {
  "kernelspec": {
   "display_name": "Python 3 (ipykernel)",
   "language": "python",
   "name": "python3"
  },
  "language_info": {
   "codemirror_mode": {
    "name": "ipython",
    "version": 3
   },
   "file_extension": ".py",
   "mimetype": "text/x-python",
   "name": "python",
   "nbconvert_exporter": "python",
   "pygments_lexer": "ipython3",
   "version": "3.10.12"
  }
 },
 "nbformat": 4,
 "nbformat_minor": 5
}
