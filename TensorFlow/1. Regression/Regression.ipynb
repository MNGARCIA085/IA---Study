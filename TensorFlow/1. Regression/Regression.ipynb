{
 "cells": [
  {
   "cell_type": "markdown",
   "id": "9cfaba62",
   "metadata": {},
   "source": [
    "## REGRESSION"
   ]
  },
  {
   "cell_type": "markdown",
   "id": "95d36f23",
   "metadata": {},
   "source": [
    "TIPOS DE PROBLEMAS DE REGRESIÓN\n",
    "\n",
    "\n",
    "- Regresión Lineal\n",
    "    - Modela la relación entre una o más variables dependientes (predictores) y una dependiente mediante una relación lineal.\n",
    "\n",
    "- Regresión no lineal\n",
    "     - Modela la relación entre una o más variables dependientes (predictores) y una dependiente mediante una relación lineal.\n",
    "\n",
    "- Regresión con múltiples salidas\n",
    "    - Hay más de una variable dependiente.\n",
    "    \n",
    "    \n",
    "En los problemas de regresión, la variable de salida es continua (ej: precio de una casa)\n"
   ]
  },
  {
   "cell_type": "markdown",
   "id": "6b7a8804",
   "metadata": {},
   "source": [
    "\n",
    "METRICAS\n",
    "\n",
    "<img src='images/metrics.png' WIDTH=80%>\n",
    "\n",
    "\n"
   ]
  },
  {
   "cell_type": "markdown",
   "id": "71ec78b5",
   "metadata": {},
   "source": [
    "\n",
    "\n",
    "RECOMENDACIONES\n",
    "\n",
    "<img src=\"images/recomendaciones.png\">\n",
    "\n"
   ]
  },
  {
   "cell_type": "markdown",
   "id": "01427743",
   "metadata": {},
   "source": [
    "## Regresión Lineal"
   ]
  },
  {
   "cell_type": "markdown",
   "id": "51a4ce05",
   "metadata": {},
   "source": [
    "\n",
    "### DATA PRE-PROCESSING\n",
    "\n",
    "\n",
    "\n",
    "\n",
    "\n"
   ]
  },
  {
   "cell_type": "code",
   "execution_count": 2,
   "id": "616b261c",
   "metadata": {},
   "outputs": [
    {
     "name": "stdout",
     "output_type": "stream",
     "text": [
      "Salary_dataset.csv\r\n"
     ]
    }
   ],
   "source": [
    "!ls data\n"
   ]
  },
  {
   "cell_type": "code",
   "execution_count": 7,
   "id": "fd704981",
   "metadata": {},
   "outputs": [
    {
     "data": {
      "text/html": [
       "<div>\n",
       "<style scoped>\n",
       "    .dataframe tbody tr th:only-of-type {\n",
       "        vertical-align: middle;\n",
       "    }\n",
       "\n",
       "    .dataframe tbody tr th {\n",
       "        vertical-align: top;\n",
       "    }\n",
       "\n",
       "    .dataframe thead th {\n",
       "        text-align: right;\n",
       "    }\n",
       "</style>\n",
       "<table border=\"1\" class=\"dataframe\">\n",
       "  <thead>\n",
       "    <tr style=\"text-align: right;\">\n",
       "      <th></th>\n",
       "      <th>Unnamed: 0</th>\n",
       "      <th>YearsExperience</th>\n",
       "      <th>Salary</th>\n",
       "    </tr>\n",
       "  </thead>\n",
       "  <tbody>\n",
       "    <tr>\n",
       "      <th>0</th>\n",
       "      <td>0</td>\n",
       "      <td>1.2</td>\n",
       "      <td>39344.0</td>\n",
       "    </tr>\n",
       "    <tr>\n",
       "      <th>1</th>\n",
       "      <td>1</td>\n",
       "      <td>1.4</td>\n",
       "      <td>46206.0</td>\n",
       "    </tr>\n",
       "    <tr>\n",
       "      <th>2</th>\n",
       "      <td>2</td>\n",
       "      <td>1.6</td>\n",
       "      <td>37732.0</td>\n",
       "    </tr>\n",
       "    <tr>\n",
       "      <th>3</th>\n",
       "      <td>3</td>\n",
       "      <td>2.1</td>\n",
       "      <td>43526.0</td>\n",
       "    </tr>\n",
       "    <tr>\n",
       "      <th>4</th>\n",
       "      <td>4</td>\n",
       "      <td>2.3</td>\n",
       "      <td>39892.0</td>\n",
       "    </tr>\n",
       "  </tbody>\n",
       "</table>\n",
       "</div>"
      ],
      "text/plain": [
       "   Unnamed: 0  YearsExperience   Salary\n",
       "0           0              1.2  39344.0\n",
       "1           1              1.4  46206.0\n",
       "2           2              1.6  37732.0\n",
       "3           3              2.1  43526.0\n",
       "4           4              2.3  39892.0"
      ]
     },
     "execution_count": 7,
     "metadata": {},
     "output_type": "execute_result"
    }
   ],
   "source": [
    "\n",
    "\n",
    "import pandas as pd\n",
    "\n",
    "\n",
    "df = pd.read_csv('data/Salary_dataset.csv')\n",
    "\n",
    "\n",
    "df.head()\n"
   ]
  },
  {
   "cell_type": "code",
   "execution_count": 8,
   "id": "5f91e860",
   "metadata": {},
   "outputs": [
    {
     "data": {
      "text/html": [
       "<div>\n",
       "<style scoped>\n",
       "    .dataframe tbody tr th:only-of-type {\n",
       "        vertical-align: middle;\n",
       "    }\n",
       "\n",
       "    .dataframe tbody tr th {\n",
       "        vertical-align: top;\n",
       "    }\n",
       "\n",
       "    .dataframe thead th {\n",
       "        text-align: right;\n",
       "    }\n",
       "</style>\n",
       "<table border=\"1\" class=\"dataframe\">\n",
       "  <thead>\n",
       "    <tr style=\"text-align: right;\">\n",
       "      <th></th>\n",
       "      <th>YearsExperience</th>\n",
       "      <th>Salary</th>\n",
       "    </tr>\n",
       "  </thead>\n",
       "  <tbody>\n",
       "    <tr>\n",
       "      <th>0</th>\n",
       "      <td>1.2</td>\n",
       "      <td>39344.0</td>\n",
       "    </tr>\n",
       "    <tr>\n",
       "      <th>1</th>\n",
       "      <td>1.4</td>\n",
       "      <td>46206.0</td>\n",
       "    </tr>\n",
       "    <tr>\n",
       "      <th>2</th>\n",
       "      <td>1.6</td>\n",
       "      <td>37732.0</td>\n",
       "    </tr>\n",
       "    <tr>\n",
       "      <th>3</th>\n",
       "      <td>2.1</td>\n",
       "      <td>43526.0</td>\n",
       "    </tr>\n",
       "    <tr>\n",
       "      <th>4</th>\n",
       "      <td>2.3</td>\n",
       "      <td>39892.0</td>\n",
       "    </tr>\n",
       "  </tbody>\n",
       "</table>\n",
       "</div>"
      ],
      "text/plain": [
       "   YearsExperience   Salary\n",
       "0              1.2  39344.0\n",
       "1              1.4  46206.0\n",
       "2              1.6  37732.0\n",
       "3              2.1  43526.0\n",
       "4              2.3  39892.0"
      ]
     },
     "execution_count": 8,
     "metadata": {},
     "output_type": "execute_result"
    }
   ],
   "source": [
    "\n",
    "# elimino unnamed, que no se lo que es\n",
    "df.drop('Unnamed: 0',axis=1,inplace=True)\n",
    "\n",
    "df.head()"
   ]
  },
  {
   "cell_type": "code",
   "execution_count": 9,
   "id": "118d1509",
   "metadata": {},
   "outputs": [
    {
     "data": {
      "text/plain": [
       "YearsExperience    0\n",
       "Salary             0\n",
       "dtype: int64"
      ]
     },
     "execution_count": 9,
     "metadata": {},
     "output_type": "execute_result"
    }
   ],
   "source": [
    "\n",
    "df.isna().sum()\n",
    "\n"
   ]
  },
  {
   "cell_type": "markdown",
   "id": "5a982b02",
   "metadata": {},
   "source": [
    "no hay datos faltantes"
   ]
  },
  {
   "cell_type": "code",
   "execution_count": 11,
   "id": "3803cb85",
   "metadata": {},
   "outputs": [
    {
     "data": {
      "text/plain": [
       "<matplotlib.collections.PathCollection at 0x7f127be48d30>"
      ]
     },
     "execution_count": 11,
     "metadata": {},
     "output_type": "execute_result"
    },
    {
     "data": {
      "image/png": "[encoded data removed]",
      "text/plain": [
       "<Figure size 640x480 with 1 Axes>"
      ]
     },
     "metadata": {},
     "output_type": "display_data"
    }
   ],
   "source": [
    "import matplotlib.pyplot as plt\n",
    "\n",
    "\n",
    "plt.scatter(df['YearsExperience'],df['Salary'])"
   ]
  },
  {
   "cell_type": "markdown",
   "id": "9d120f56",
   "metadata": {},
   "source": [
    "puede apreciarse una relación más bien lineal"
   ]
  },
  {
   "cell_type": "code",
   "execution_count": 13,
   "id": "11330ff8",
   "metadata": {},
   "outputs": [],
   "source": [
    "# normalizo (puede tener algún beneficio, a pesar de tener una sola característica)\n",
    "\n",
    "from sklearn.compose import make_column_transformer\n",
    "from sklearn.preprocessing import MinMaxScaler, OneHotEncoder\n",
    "from sklearn.model_selection import train_test_split\n",
    "\n",
    "# Create column transformer (this will help us normalize/preprocess our data)\n",
    "ct = make_column_transformer(\n",
    "    (MinMaxScaler(), [\"YearsExperience\"]),\n",
    ")\n",
    "\n",
    "# Create X & y\n",
    "X = df.drop(\"Salary\", axis=1)\n",
    "y = df[\"Salary\"]\n",
    "\n",
    "# Build our train and test sets (use random state to ensure same split as before)\n",
    "X_train, X_test, y_train, y_test = train_test_split(X, y, test_size=0.2, random_state=42)\n",
    "\n",
    "# Fit column transformer on the training data only (doing so on test data would result in data leakage)\n",
    "# le \"pasa piques\", en todo lo que es normalización los params (ej  muy sigma de una ormal)\n",
    "#los obtengo con los datos de train\n",
    "ct.fit(X_train)\n",
    "\n",
    "# Transform training and test data with normalization (MinMaxScalar) and one hot encoding (OneHotEncoder)\n",
    "X_train_normal = ct.transform(X_train)\n",
    "X_test_normal = ct.transform(X_test)"
   ]
  },
  {
   "cell_type": "code",
   "execution_count": 14,
   "id": "7419d3e4",
   "metadata": {},
   "outputs": [
    {
     "data": {
      "text/plain": [
       "array([[0.9787234 ],\n",
       "       [0.80851064],\n",
       "       [0.30851064],\n",
       "       [0.        ],\n",
       "       [0.11702128],\n",
       "       [0.42553191],\n",
       "       [0.19148936],\n",
       "       [0.31914894],\n",
       "       [0.30851064],\n",
       "       [0.72340426],\n",
       "       [0.0212766 ],\n",
       "       [0.04255319],\n",
       "       [0.84042553],\n",
       "       [0.09574468],\n",
       "       [0.63829787],\n",
       "       [0.89361702],\n",
       "       [0.5106383 ],\n",
       "       [1.        ],\n",
       "       [0.60638298],\n",
       "       [0.22340426],\n",
       "       [0.29787234],\n",
       "       [0.36170213],\n",
       "       [0.5212766 ],\n",
       "       [0.20212766]])"
      ]
     },
     "execution_count": 14,
     "metadata": {},
     "output_type": "execute_result"
    }
   ],
   "source": [
    "X_train_normal"
   ]
  },
  {
   "cell_type": "code",
   "execution_count": 15,
   "id": "4024b376",
   "metadata": {},
   "outputs": [],
   "source": [
    "# construyamos nuestro modelo"
   ]
  },
  {
   "cell_type": "code",
   "execution_count": 19,
   "id": "498edb0a",
   "metadata": {},
   "outputs": [
    {
     "name": "stderr",
     "output_type": "stream",
     "text": [
      "2023-11-15 15:46:53.945150: I tensorflow/tsl/cuda/cudart_stub.cc:28] Could not find cuda drivers on your machine, GPU will not be used.\n",
      "2023-11-15 15:46:54.414346: I tensorflow/tsl/cuda/cudart_stub.cc:28] Could not find cuda drivers on your machine, GPU will not be used.\n",
      "2023-11-15 15:46:54.416636: I tensorflow/core/platform/cpu_feature_guard.cc:182] This TensorFlow binary is optimized to use available CPU instructions in performance-critical operations.\n",
      "To enable the following instructions: AVX2 FMA, in other operations, rebuild TensorFlow with the appropriate compiler flags.\n",
      "2023-11-15 15:46:55.995670: W tensorflow/compiler/tf2tensorrt/utils/py_utils.cc:38] TF-TRT Warning: Could not find TensorRT\n"
     ]
    }
   ],
   "source": [
    "import tensorflow as tf\n",
    "\n",
    "from tensorflow import keras\n",
    "from tensorflow.keras import layers"
   ]
  },
  {
   "cell_type": "code",
   "execution_count": 33,
   "id": "d57ff9f9",
   "metadata": {},
   "outputs": [
    {
     "data": {
      "text/plain": [
       "(24, 1)"
      ]
     },
     "execution_count": 33,
     "metadata": {},
     "output_type": "execute_result"
    }
   ],
   "source": [
    "X_train_normal.shape"
   ]
  },
  {
   "cell_type": "code",
   "execution_count": 48,
   "id": "789514c2",
   "metadata": {},
   "outputs": [],
   "source": [
    "\n",
    "\n",
    "# cómo es un problema bastante lineal, no me sirve poner no linealidades\n",
    "# como las activaciones de las relu\n",
    "\n",
    "\n",
    "\n",
    "def build_model():\n",
    "  model = keras.Sequential([\n",
    "    layers.Dense(200,input_shape=[X_train_normal.shape[1]]),\n",
    "    layers.Dense(200),\n",
    "    tf.keras.layers.Dense(150),\n",
    "    tf.keras.layers.Dense(100),\n",
    "    layers.Dense(1)\n",
    "  ])\n",
    "\n",
    "  optimizer = tf.keras.optimizers.RMSprop(0.001)\n",
    "\n",
    "  model.compile(loss='mse',\n",
    "                optimizer=optimizer,\n",
    "                metrics=['mae', 'mse'])\n",
    "  return model"
   ]
  },
  {
   "cell_type": "code",
   "execution_count": 49,
   "id": "da03c8b3",
   "metadata": {},
   "outputs": [],
   "source": [
    "model = build_model()"
   ]
  },
  {
   "cell_type": "code",
   "execution_count": 50,
   "id": "cbe924c1",
   "metadata": {},
   "outputs": [
    {
     "name": "stdout",
     "output_type": "stream",
     "text": [
      "Model: \"sequential_5\"\n",
      "_________________________________________________________________\n",
      " Layer (type)                Output Shape              Param #   \n",
      "=================================================================\n",
      " dense_16 (Dense)            (None, 200)               400       \n",
      "                                                                 \n",
      " dense_17 (Dense)            (None, 200)               40200     \n",
      "                                                                 \n",
      " dense_18 (Dense)            (None, 150)               30150     \n",
      "                                                                 \n",
      " dense_19 (Dense)            (None, 100)               15100     \n",
      "                                                                 \n",
      " dense_20 (Dense)            (None, 1)                 101       \n",
      "                                                                 \n",
      "=================================================================\n",
      "Total params: 85,951\n",
      "Trainable params: 85,951\n",
      "Non-trainable params: 0\n",
      "_________________________________________________________________\n"
     ]
    }
   ],
   "source": [
    "model.summary()"
   ]
  },
  {
   "cell_type": "code",
   "execution_count": 51,
   "id": "4443ce6a",
   "metadata": {},
   "outputs": [
    {
     "name": "stdout",
     "output_type": "stream",
     "text": [
      "Epoch 1/100\n"
     ]
    },
    {
     "name": "stderr",
     "output_type": "stream",
     "text": [
      "/home/marcos/.local/lib/python3.10/site-packages/keras/engine/data_adapter.py:1700: FutureWarning: The behavior of `series[i:j]` with an integer-dtype index is deprecated. In a future version, this will be treated as *label-based* indexing, consistent with e.g. `series[i]` lookups. To retain the old behavior, use `series.iloc[i:j]`. To get the future behavior, use `series.loc[i:j]`.\n",
      "  return t[start:end]\n"
     ]
    },
    {
     "name": "stdout",
     "output_type": "stream",
     "text": [
      "1/1 [==============================] - 1s 625ms/step - loss: 6703711744.0000 - mae: 76217.7266 - mse: 6703711744.0000 - val_loss: 4627617792.0000 - val_mae: 66572.8750 - val_mse: 4627617792.0000\n",
      "Epoch 2/100\n",
      "1/1 [==============================] - 0s 31ms/step - loss: 6703487488.0000 - mae: 76216.5391 - mse: 6703487488.0000 - val_loss: 4627425280.0000 - val_mae: 66571.4922 - val_mse: 4627425280.0000\n",
      "Epoch 3/100\n",
      "1/1 [==============================] - 0s 36ms/step - loss: 6703150080.0000 - mae: 76214.7266 - mse: 6703150080.0000 - val_loss: 4627084288.0000 - val_mae: 66569.0469 - val_mse: 4627084288.0000\n",
      "Epoch 4/100\n",
      "1/1 [==============================] - 0s 34ms/step - loss: 6702561792.0000 - mae: 76211.5234 - mse: 6702561792.0000 - val_loss: 4626510336.0000 - val_mae: 66564.9219 - val_mse: 4626510336.0000\n",
      "Epoch 5/100\n",
      "1/1 [==============================] - 0s 33ms/step - loss: 6701587968.0000 - mae: 76206.2109 - mse: 6701587968.0000 - val_loss: 4625611776.0000 - val_mae: 66558.4297 - val_mse: 4625611776.0000\n",
      "Epoch 6/100\n",
      "1/1 [==============================] - 0s 33ms/step - loss: 6700086784.0000 - mae: 76197.9609 - mse: 6700086784.0000 - val_loss: 4624294400.0000 - val_mae: 66548.9141 - val_mse: 4624294400.0000\n",
      "Epoch 7/100\n",
      "1/1 [==============================] - 0s 36ms/step - loss: 6697918464.0000 - mae: 76185.9531 - mse: 6697918464.0000 - val_loss: 4622466560.0000 - val_mae: 66535.6875 - val_mse: 4622466560.0000\n",
      "Epoch 8/100\n",
      "1/1 [==============================] - 0s 35ms/step - loss: 6694946304.0000 - mae: 76169.4141 - mse: 6694946304.0000 - val_loss: 4620039680.0000 - val_mae: 66518.1016 - val_mse: 4620039680.0000\n",
      "Epoch 9/100\n",
      "1/1 [==============================] - 0s 43ms/step - loss: 6691039232.0000 - mae: 76147.5938 - mse: 6691039232.0000 - val_loss: 4616927232.0000 - val_mae: 66495.4922 - val_mse: 4616927232.0000\n",
      "Epoch 10/100\n",
      "1/1 [==============================] - 0s 43ms/step - loss: 6686076928.0000 - mae: 76119.7266 - mse: 6686076928.0000 - val_loss: 4613045760.0000 - val_mae: 66467.2734 - val_mse: 4613045760.0000\n",
      "Epoch 11/100\n",
      "1/1 [==============================] - 0s 37ms/step - loss: 6679938048.0000 - mae: 76085.1406 - mse: 6679938048.0000 - val_loss: 4608310272.0000 - val_mae: 66432.7969 - val_mse: 4608310272.0000\n",
      "Epoch 12/100\n",
      "1/1 [==============================] - 0s 37ms/step - loss: 6672502784.0000 - mae: 76043.0781 - mse: 6672502784.0000 - val_loss: 4602638848.0000 - val_mae: 66391.4531 - val_mse: 4602638848.0000\n",
      "Epoch 13/100\n",
      "1/1 [==============================] - 0s 36ms/step - loss: 6663652352.0000 - mae: 75992.8516 - mse: 6663652352.0000 - val_loss: 4595945984.0000 - val_mae: 66342.5938 - val_mse: 4595945984.0000\n",
      "Epoch 14/100\n",
      "1/1 [==============================] - 0s 34ms/step - loss: 6653268480.0000 - mae: 75933.7344 - mse: 6653268480.0000 - val_loss: 4588147712.0000 - val_mae: 66285.5938 - val_mse: 4588147712.0000\n",
      "Epoch 15/100\n",
      "1/1 [==============================] - 0s 34ms/step - loss: 6641232896.0000 - mae: 75865.0078 - mse: 6641232896.0000 - val_loss: 4579161088.0000 - val_mae: 66219.7969 - val_mse: 4579161088.0000\n",
      "Epoch 16/100\n",
      "1/1 [==============================] - 0s 46ms/step - loss: 6627426304.0000 - mae: 75785.9141 - mse: 6627426304.0000 - val_loss: 4568899584.0000 - val_mae: 66144.5547 - val_mse: 4568899584.0000\n",
      "Epoch 17/100\n",
      "1/1 [==============================] - 0s 36ms/step - loss: 6611729408.0000 - mae: 75695.7344 - mse: 6611729408.0000 - val_loss: 4557280256.0000 - val_mae: 66059.2031 - val_mse: 4557280256.0000\n",
      "Epoch 18/100\n",
      "1/1 [==============================] - 0s 37ms/step - loss: 6594023424.0000 - mae: 75593.7031 - mse: 6594023424.0000 - val_loss: 4544217600.0000 - val_mae: 65963.0859 - val_mse: 4544217600.0000\n",
      "Epoch 19/100\n",
      "1/1 [==============================] - 0s 34ms/step - loss: 6574189568.0000 - mae: 75479.0781 - mse: 6574189568.0000 - val_loss: 4529625600.0000 - val_mae: 65855.5156 - val_mse: 4529625600.0000\n",
      "Epoch 20/100\n",
      "1/1 [==============================] - 0s 31ms/step - loss: 6552107520.0000 - mae: 75351.0625 - mse: 6552107520.0000 - val_loss: 4513420288.0000 - val_mae: 65735.7969 - val_mse: 4513420288.0000\n",
      "Epoch 21/100\n",
      "1/1 [==============================] - 0s 30ms/step - loss: 6527660544.0000 - mae: 75208.8984 - mse: 6527660544.0000 - val_loss: 4495518208.0000 - val_mae: 65603.2500 - val_mse: 4495518208.0000\n",
      "Epoch 22/100\n",
      "1/1 [==============================] - 0s 40ms/step - loss: 6500729856.0000 - mae: 75051.7734 - mse: 6500729856.0000 - val_loss: 4475833856.0000 - val_mae: 65457.1484 - val_mse: 4475833856.0000\n",
      "Epoch 23/100\n",
      "1/1 [==============================] - 0s 36ms/step - loss: 6471198208.0000 - mae: 74878.9062 - mse: 6471198208.0000 - val_loss: 4454284800.0000 - val_mae: 65296.7930 - val_mse: 4454284800.0000\n",
      "Epoch 24/100\n",
      "1/1 [==============================] - 0s 34ms/step - loss: 6438950912.0000 - mae: 74689.4766 - mse: 6438950912.0000 - val_loss: 4430788608.0000 - val_mae: 65121.4492 - val_mse: 4430788608.0000\n",
      "Epoch 25/100\n",
      "1/1 [==============================] - 0s 30ms/step - loss: 6403873280.0000 - mae: 74482.6641 - mse: 6403873280.0000 - val_loss: 4405264896.0000 - val_mae: 64930.3945 - val_mse: 4405264896.0000\n",
      "Epoch 26/100\n",
      "1/1 [==============================] - 0s 40ms/step - loss: 6365852160.0000 - mae: 74257.6406 - mse: 6365852160.0000 - val_loss: 4377633792.0000 - val_mae: 64722.8828 - val_mse: 4377633792.0000\n",
      "Epoch 27/100\n",
      "1/1 [==============================] - 0s 29ms/step - loss: 6324780544.0000 - mae: 74013.5703 - mse: 6324780544.0000 - val_loss: 4347818496.0000 - val_mae: 64498.1758 - val_mse: 4347818496.0000\n",
      "Epoch 28/100\n",
      "1/1 [==============================] - 0s 36ms/step - loss: 6280550912.0000 - mae: 73749.6250 - mse: 6280550912.0000 - val_loss: 4315743744.0000 - val_mae: 64255.5195 - val_mse: 4315743744.0000\n",
      "Epoch 29/100\n",
      "1/1 [==============================] - 0s 37ms/step - loss: 6233060864.0000 - mae: 73464.9375 - mse: 6233060864.0000 - val_loss: 4281338624.0000 - val_mae: 63994.1562 - val_mse: 4281338624.0000\n",
      "Epoch 30/100\n",
      "1/1 [==============================] - 0s 32ms/step - loss: 6182209536.0000 - mae: 73158.6406 - mse: 6182209536.0000 - val_loss: 4244532480.0000 - val_mae: 63713.3242 - val_mse: 4244532480.0000\n",
      "Epoch 31/100\n",
      "1/1 [==============================] - 0s 34ms/step - loss: 6127904256.0000 - mae: 72829.9062 - mse: 6127904256.0000 - val_loss: 4205260032.0000 - val_mae: 63412.2695 - val_mse: 4205260032.0000\n",
      "Epoch 32/100\n",
      "1/1 [==============================] - 0s 35ms/step - loss: 6070055424.0000 - mae: 72477.8516 - mse: 6070055424.0000 - val_loss: 4163460608.0000 - val_mae: 63090.2109 - val_mse: 4163460608.0000\n",
      "Epoch 33/100\n",
      "1/1 [==============================] - 0s 35ms/step - loss: 6008580608.0000 - mae: 72101.6172 - mse: 6008580608.0000 - val_loss: 4119076864.0000 - val_mae: 62746.3867 - val_mse: 4119076864.0000\n",
      "Epoch 34/100\n",
      "1/1 [==============================] - 0s 35ms/step - loss: 5943400960.0000 - mae: 71700.3359 - mse: 5943400960.0000 - val_loss: 4072056832.0000 - val_mae: 62380.0312 - val_mse: 4072056832.0000\n",
      "Epoch 35/100\n",
      "1/1 [==============================] - 0s 31ms/step - loss: 5874449408.0000 - mae: 71273.1406 - mse: 5874449408.0000 - val_loss: 4022353408.0000 - val_mae: 61990.3750 - val_mse: 4022353408.0000\n",
      "Epoch 36/100\n",
      "1/1 [==============================] - 0s 27ms/step - loss: 5801663488.0000 - mae: 70819.1719 - mse: 5801663488.0000 - val_loss: 3969927168.0000 - val_mae: 61576.6641 - val_mse: 3969927168.0000\n",
      "Epoch 37/100\n",
      "1/1 [==============================] - 0s 27ms/step - loss: 5724988928.0000 - mae: 70337.5625 - mse: 5724988928.0000 - val_loss: 3914743808.0000 - val_mae: 61138.1328 - val_mse: 3914743808.0000\n",
      "Epoch 38/100\n",
      "1/1 [==============================] - 0s 26ms/step - loss: 5644382208.0000 - mae: 69827.4766 - mse: 5644382208.0000 - val_loss: 3856776704.0000 - val_mae: 60674.0234 - val_mse: 3856776704.0000\n",
      "Epoch 39/100\n",
      "1/1 [==============================] - 0s 26ms/step - loss: 5559812608.0000 - mae: 69288.0547 - mse: 5559812608.0000 - val_loss: 3796006912.0000 - val_mae: 60183.6133 - val_mse: 3796006912.0000\n",
      "Epoch 40/100\n",
      "1/1 [==============================] - 0s 26ms/step - loss: 5471255040.0000 - mae: 68718.4609 - mse: 5471255040.0000 - val_loss: 3732424704.0000 - val_mae: 59666.1562 - val_mse: 3732424704.0000\n"
     ]
    },
    {
     "name": "stdout",
     "output_type": "stream",
     "text": [
      "Epoch 41/100\n",
      "1/1 [==============================] - 0s 26ms/step - loss: 5378700800.0000 - mae: 68117.8828 - mse: 5378700800.0000 - val_loss: 3666027264.0000 - val_mae: 59120.9297 - val_mse: 3666027264.0000\n",
      "Epoch 42/100\n",
      "1/1 [==============================] - 0s 27ms/step - loss: 5282150912.0000 - mae: 67485.5078 - mse: 5282150912.0000 - val_loss: 3596823808.0000 - val_mae: 58547.2500 - val_mse: 3596823808.0000\n",
      "Epoch 43/100\n",
      "1/1 [==============================] - 0s 27ms/step - loss: 5181623296.0000 - mae: 66820.5391 - mse: 5181623296.0000 - val_loss: 3524832000.0000 - val_mae: 57944.4062 - val_mse: 3524832000.0000\n",
      "Epoch 44/100\n",
      "1/1 [==============================] - 0s 25ms/step - loss: 5077146624.0000 - mae: 66122.2266 - mse: 5077146624.0000 - val_loss: 3450082048.0000 - val_mae: 57311.7500 - val_mse: 3450082048.0000\n",
      "Epoch 45/100\n",
      "1/1 [==============================] - 0s 44ms/step - loss: 4968767488.0000 - mae: 65389.7969 - mse: 4968767488.0000 - val_loss: 3372614400.0000 - val_mae: 56648.6250 - val_mse: 3372614400.0000\n",
      "Epoch 46/100\n",
      "1/1 [==============================] - 0s 27ms/step - loss: 4856547328.0000 - mae: 64622.5586 - mse: 4856547328.0000 - val_loss: 3292481792.0000 - val_mae: 55954.4375 - val_mse: 3292481792.0000\n",
      "Epoch 47/100\n",
      "1/1 [==============================] - 0s 27ms/step - loss: 4740566016.0000 - mae: 63819.8164 - mse: 4740566016.0000 - val_loss: 3209750016.0000 - val_mae: 55228.5938 - val_mse: 3209750016.0000\n",
      "Epoch 48/100\n",
      "1/1 [==============================] - 0s 27ms/step - loss: 4620920320.0000 - mae: 62980.9258 - mse: 4620920320.0000 - val_loss: 3124498432.0000 - val_mae: 54470.5508 - val_mse: 3124498432.0000\n",
      "Epoch 49/100\n",
      "1/1 [==============================] - 0s 26ms/step - loss: 4497723904.0000 - mae: 62105.2695 - mse: 4497723904.0000 - val_loss: 3036820224.0000 - val_mae: 53679.7891 - val_mse: 3036820224.0000\n",
      "Epoch 50/100\n",
      "1/1 [==============================] - 0s 26ms/step - loss: 4371114496.0000 - mae: 61192.2891 - mse: 4371114496.0000 - val_loss: 2946821632.0000 - val_mae: 52855.8555 - val_mse: 2946821632.0000\n",
      "Epoch 51/100\n",
      "1/1 [==============================] - 0s 28ms/step - loss: 4241244928.0000 - mae: 60241.4688 - mse: 4241244928.0000 - val_loss: 2854625792.0000 - val_mae: 51998.3242 - val_mse: 2854625792.0000\n",
      "Epoch 52/100\n",
      "1/1 [==============================] - 0s 28ms/step - loss: 4108292864.0000 - mae: 59252.3359 - mse: 4108292864.0000 - val_loss: 2760370944.0000 - val_mae: 51106.8555 - val_mse: 2760370944.0000\n",
      "Epoch 53/100\n",
      "1/1 [==============================] - 0s 26ms/step - loss: 3972454400.0000 - mae: 58224.5195 - mse: 3972454400.0000 - val_loss: 2664209920.0000 - val_mae: 50181.1289 - val_mse: 2664209920.0000\n",
      "Epoch 54/100\n",
      "1/1 [==============================] - 0s 27ms/step - loss: 3833949184.0000 - mae: 57157.6836 - mse: 3833949184.0000 - val_loss: 2566312192.0000 - val_mae: 49220.9141 - val_mse: 2566312192.0000\n",
      "Epoch 55/100\n",
      "1/1 [==============================] - 0s 27ms/step - loss: 3693019904.0000 - mae: 56051.5664 - mse: 3693019904.0000 - val_loss: 2466864128.0000 - val_mae: 48226.0547 - val_mse: 2466864128.0000\n",
      "Epoch 56/100\n",
      "1/1 [==============================] - 0s 28ms/step - loss: 3549929728.0000 - mae: 54906.0156 - mse: 3549929728.0000 - val_loss: 2366068224.0000 - val_mae: 47196.4922 - val_mse: 2366068224.0000\n",
      "Epoch 57/100\n",
      "1/1 [==============================] - 0s 26ms/step - loss: 3404966144.0000 - mae: 53720.9609 - mse: 3404966144.0000 - val_loss: 2264142848.0000 - val_mae: 46132.2070 - val_mse: 2264142848.0000\n",
      "Epoch 58/100\n",
      "1/1 [==============================] - 0s 26ms/step - loss: 3258439680.0000 - mae: 52496.4219 - mse: 3258439680.0000 - val_loss: 2161324544.0000 - val_mae: 45033.3359 - val_mse: 2161324544.0000\n",
      "Epoch 59/100\n",
      "1/1 [==============================] - 0s 26ms/step - loss: 3110682112.0000 - mae: 51232.5547 - mse: 3110682112.0000 - val_loss: 2057862784.0000 - val_mae: 43900.0938 - val_mse: 2057862784.0000\n",
      "Epoch 60/100\n",
      "1/1 [==============================] - 0s 27ms/step - loss: 2962050048.0000 - mae: 49929.6211 - mse: 2962050048.0000 - val_loss: 1954026752.0000 - val_mae: 42732.8320 - val_mse: 1954026752.0000\n",
      "Epoch 61/100\n",
      "1/1 [==============================] - 0s 26ms/step - loss: 2812919296.0000 - mae: 48588.0391 - mse: 2812919296.0000 - val_loss: 1850097024.0000 - val_mae: 41532.0195 - val_mse: 1850097024.0000\n",
      "Epoch 62/100\n",
      "1/1 [==============================] - 0s 26ms/step - loss: 2663687424.0000 - mae: 47208.3555 - mse: 2663687424.0000 - val_loss: 1746370944.0000 - val_mae: 40298.2891 - val_mse: 1746370944.0000\n",
      "Epoch 63/100\n",
      "1/1 [==============================] - 0s 26ms/step - loss: 2514771712.0000 - mae: 45791.3047 - mse: 2514771712.0000 - val_loss: 1643158912.0000 - val_mae: 39032.4141 - val_mse: 1643158912.0000\n",
      "Epoch 64/100\n",
      "1/1 [==============================] - 0s 26ms/step - loss: 2366608640.0000 - mae: 44337.7852 - mse: 2366608640.0000 - val_loss: 1540782080.0000 - val_mae: 37735.3672 - val_mse: 1540782080.0000\n",
      "Epoch 65/100\n",
      "1/1 [==============================] - 0s 28ms/step - loss: 2219649536.0000 - mae: 42848.9062 - mse: 2219649536.0000 - val_loss: 1439572096.0000 - val_mae: 36408.2812 - val_mse: 1439572096.0000\n",
      "Epoch 66/100\n",
      "1/1 [==============================] - 0s 30ms/step - loss: 2074360576.0000 - mae: 41325.9922 - mse: 2074360576.0000 - val_loss: 1339869952.0000 - val_mae: 35052.5352 - val_mse: 1339869952.0000\n",
      "Epoch 67/100\n",
      "1/1 [==============================] - 0s 27ms/step - loss: 1931219328.0000 - mae: 39770.6055 - mse: 1931219328.0000 - val_loss: 1242021760.0000 - val_mae: 33669.7109 - val_mse: 1242021760.0000\n",
      "Epoch 68/100\n",
      "1/1 [==============================] - 0s 26ms/step - loss: 1790711424.0000 - mae: 38184.5625 - mse: 1790711424.0000 - val_loss: 1146377728.0000 - val_mae: 32261.6504 - val_mse: 1146377728.0000\n",
      "Epoch 69/100\n",
      "1/1 [==============================] - 0s 28ms/step - loss: 1653327744.0000 - mae: 36569.9805 - mse: 1653327744.0000 - val_loss: 1053287808.0000 - val_mae: 30830.4727 - val_mse: 1053287808.0000\n",
      "Epoch 70/100\n",
      "1/1 [==============================] - 0s 28ms/step - loss: 1519559552.0000 - mae: 34929.2734 - mse: 1519559552.0000 - val_loss: 963098944.0000 - val_mae: 29378.5840 - val_mse: 963098944.0000\n",
      "Epoch 71/100\n",
      "1/1 [==============================] - 0s 28ms/step - loss: 1389892096.0000 - mae: 33265.1992 - mse: 1389892096.0000 - val_loss: 876151424.0000 - val_mae: 27908.7246 - val_mse: 876151424.0000\n",
      "Epoch 72/100\n",
      "1/1 [==============================] - 0s 27ms/step - loss: 1264802432.0000 - mae: 31580.8613 - mse: 1264802432.0000 - val_loss: 792773248.0000 - val_mae: 26423.9629 - val_mse: 792773248.0000\n",
      "Epoch 73/100\n",
      "1/1 [==============================] - 0s 26ms/step - loss: 1144751104.0000 - mae: 29879.7734 - mse: 1144751104.0000 - val_loss: 713276288.0000 - val_mae: 24927.7461 - val_mse: 713276288.0000\n",
      "Epoch 74/100\n",
      "1/1 [==============================] - 0s 26ms/step - loss: 1030175808.0000 - mae: 28165.8652 - mse: 1030175808.0000 - val_loss: 637951360.0000 - val_mae: 23423.9277 - val_mse: 637951360.0000\n",
      "Epoch 75/100\n",
      "1/1 [==============================] - 0s 29ms/step - loss: 921484480.0000 - mae: 26443.5137 - mse: 921484480.0000 - val_loss: 567060800.0000 - val_mae: 21916.7598 - val_mse: 567060800.0000\n",
      "Epoch 76/100\n",
      "1/1 [==============================] - 0s 44ms/step - loss: 819046912.0000 - mae: 24717.5625 - mse: 819046912.0000 - val_loss: 500834560.0000 - val_mae: 20410.9492 - val_mse: 500834560.0000\n",
      "Epoch 77/100\n",
      "1/1 [==============================] - 0s 27ms/step - loss: 723187200.0000 - mae: 22993.3555 - mse: 723187200.0000 - val_loss: 439462304.0000 - val_mae: 18911.6406 - val_mse: 439462304.0000\n",
      "Epoch 78/100\n",
      "1/1 [==============================] - 0s 32ms/step - loss: 634174976.0000 - mae: 21276.7500 - mse: 634174976.0000 - val_loss: 383088576.0000 - val_mae: 17424.4570 - val_mse: 383088576.0000\n",
      "Epoch 79/100\n",
      "1/1 [==============================] - 0s 29ms/step - loss: 552216448.0000 - mae: 19574.1133 - mse: 552216448.0000 - val_loss: 331805184.0000 - val_mae: 15955.4404 - val_mse: 331805184.0000\n",
      "Epoch 80/100\n",
      "1/1 [==============================] - 0s 28ms/step - loss: 477446784.0000 - mae: 17892.3281 - mse: 477446784.0000 - val_loss: 285647936.0000 - val_mae: 14511.1191 - val_mse: 285647936.0000\n"
     ]
    },
    {
     "name": "stdout",
     "output_type": "stream",
     "text": [
      "Epoch 81/100\n",
      "1/1 [==============================] - 0s 27ms/step - loss: 409921984.0000 - mae: 16333.3799 - mse: 409921984.0000 - val_loss: 244589312.0000 - val_mae: 13098.3711 - val_mse: 244589312.0000\n",
      "Epoch 82/100\n",
      "1/1 [==============================] - 0s 26ms/step - loss: 349612000.0000 - mae: 14833.8945 - mse: 349612000.0000 - val_loss: 208536928.0000 - val_mae: 11724.4277 - val_mse: 208536928.0000\n",
      "Epoch 83/100\n",
      "1/1 [==============================] - 0s 26ms/step - loss: 296397024.0000 - mae: 13475.4492 - mse: 296397024.0000 - val_loss: 177331152.0000 - val_mae: 10396.7578 - val_mse: 177331152.0000\n",
      "Epoch 84/100\n",
      "1/1 [==============================] - 0s 26ms/step - loss: 250063904.0000 - mae: 12166.0107 - mse: 250063904.0000 - val_loss: 150746032.0000 - val_mae: 9122.9355 - val_mse: 150746032.0000\n",
      "Epoch 85/100\n",
      "1/1 [==============================] - 0s 28ms/step - loss: 210308192.0000 - mae: 11053.3516 - mse: 210308192.0000 - val_loss: 128492056.0000 - val_mae: 7931.5298 - val_mse: 128492056.0000\n",
      "Epoch 86/100\n",
      "1/1 [==============================] - 0s 26ms/step - loss: 176736304.0000 - mae: 10304.2783 - mse: 176736304.0000 - val_loss: 110223184.0000 - val_mae: 7264.1094 - val_mse: 110223184.0000\n",
      "Epoch 87/100\n",
      "1/1 [==============================] - 0s 27ms/step - loss: 148876288.0000 - mae: 9683.2373 - mse: 148876288.0000 - val_loss: 95546256.0000 - val_mae: 6701.5093 - val_mse: 95546256.0000\n",
      "Epoch 88/100\n",
      "1/1 [==============================] - 0s 29ms/step - loss: 126189648.0000 - mae: 9246.7119 - mse: 126189648.0000 - val_loss: 84034112.0000 - val_mae: 6480.5337 - val_mse: 84034112.0000\n",
      "Epoch 89/100\n",
      "1/1 [==============================] - 0s 27ms/step - loss: 108088904.0000 - mae: 8841.5732 - mse: 108088904.0000 - val_loss: 75240784.0000 - val_mae: 6278.5967 - val_mse: 75240784.0000\n",
      "Epoch 90/100\n",
      "1/1 [==============================] - 0s 27ms/step - loss: 93958552.0000 - mae: 8469.5693 - mse: 93958552.0000 - val_loss: 68718744.0000 - val_mae: 6096.4326 - val_mse: 68718744.0000\n",
      "Epoch 91/100\n",
      "1/1 [==============================] - 0s 26ms/step - loss: 83178168.0000 - mae: 8131.9004 - mse: 83178168.0000 - val_loss: 64036052.0000 - val_mae: 5934.4194 - val_mse: 64036052.0000\n",
      "Epoch 92/100\n",
      "1/1 [==============================] - 0s 26ms/step - loss: 75145784.0000 - mae: 7829.1211 - mse: 75145784.0000 - val_loss: 60792808.0000 - val_mae: 5835.4150 - val_mse: 60792808.0000\n",
      "Epoch 93/100\n",
      "1/1 [==============================] - 0s 28ms/step - loss: 69299952.0000 - mae: 7561.0820 - mse: 69299952.0000 - val_loss: 58633504.0000 - val_mae: 5923.8779 - val_mse: 58633504.0000\n",
      "Epoch 94/100\n",
      "1/1 [==============================] - 0s 27ms/step - loss: 65137504.0000 - mae: 7326.9004 - mse: 65137504.0000 - val_loss: 57255712.0000 - val_mae: 5997.7983 - val_mse: 57255712.0000\n",
      "Epoch 95/100\n",
      "1/1 [==============================] - 0s 27ms/step - loss: 62225752.0000 - mae: 7151.4580 - mse: 62225752.0000 - val_loss: 56414336.0000 - val_mae: 6058.0889 - val_mse: 56414336.0000\n",
      "Epoch 96/100\n",
      "1/1 [==============================] - 0s 27ms/step - loss: 60208236.0000 - mae: 7012.8530 - mse: 60208236.0000 - val_loss: 55919880.0000 - val_mae: 6105.8984 - val_mse: 55919880.0000\n",
      "Epoch 97/100\n",
      "1/1 [==============================] - 0s 29ms/step - loss: 58804084.0000 - mae: 6894.7456 - mse: 58804084.0000 - val_loss: 55633984.0000 - val_mae: 6142.5518 - val_mse: 55633984.0000\n",
      "Epoch 98/100\n",
      "1/1 [==============================] - 0s 31ms/step - loss: 57801632.0000 - mae: 6794.7236 - mse: 57801632.0000 - val_loss: 55461044.0000 - val_mae: 6169.4507 - val_mse: 55461044.0000\n",
      "Epoch 99/100\n",
      "1/1 [==============================] - 0s 32ms/step - loss: 57048912.0000 - mae: 6710.2397 - mse: 57048912.0000 - val_loss: 55339392.0000 - val_mae: 6188.0195 - val_mse: 55339392.0000\n",
      "Epoch 100/100\n",
      "1/1 [==============================] - 0s 27ms/step - loss: 56441480.0000 - mae: 6638.6982 - mse: 56441480.0000 - val_loss: 55232596.0000 - val_mae: 6199.6460 - val_mse: 55232596.0000\n"
     ]
    }
   ],
   "source": [
    "\"\"\"\n",
    "\n",
    "validation_split: Indica la fracción de datos que se debe utilizar como conjunto de validación.\n",
    "En este caso, el 20% de los datos se utilizarán como conjunto de validación, \n",
    "y el 80% restante se utilizará como conjunto de entrenamiento. Esto puede ayudar a monitorear \n",
    "el rendimiento del modelo en un conjunto de datos que no se utiliza para entrenamiento, \n",
    "lo que puede ayudar a detectar problemas como sobreajuste.\n",
    "\n",
    "\n",
    "los de test son para test!!!\n",
    "\n",
    "\"\"\"\n",
    "\n",
    "\n",
    "history = model.fit(\n",
    "        X_train_normal,y_train,\n",
    "        validation_split = 0.2,\n",
    "        epochs=100,\n",
    "        \n",
    ")\n",
    "\n"
   ]
  },
  {
   "cell_type": "code",
   "execution_count": 52,
   "id": "366cd2d6",
   "metadata": {},
   "outputs": [
    {
     "data": {
      "text/plain": [
       "Text(0.5, 0, 'epochs')"
      ]
     },
     "execution_count": 52,
     "metadata": {},
     "output_type": "execute_result"
    },
    {
     "data": {
      "image/png": "[encoded data removed]",
      "text/plain": [
       "<Figure size 640x480 with 1 Axes>"
      ]
     },
     "metadata": {},
     "output_type": "display_data"
    }
   ],
   "source": [
    "pd.DataFrame(history.history).plot()\n",
    "plt.ylabel('loss')\n",
    "plt.xlabel('epochs')"
   ]
  },
  {
   "cell_type": "code",
   "execution_count": 54,
   "id": "12b3b9af",
   "metadata": {},
   "outputs": [
    {
     "name": "stdout",
     "output_type": "stream",
     "text": [
      "1/1 [==============================] - 0s 19ms/step - loss: 65590064.0000 - mae: 7060.5347 - mse: 65590064.0000\n"
     ]
    },
    {
     "data": {
      "text/plain": [
       "[65590064.0, 7060.53466796875, 65590064.0]"
      ]
     },
     "execution_count": 54,
     "metadata": {},
     "output_type": "execute_result"
    }
   ],
   "source": [
    "\n",
    "model.evaluate(X_test_normal,y_test)\n"
   ]
  },
  {
   "cell_type": "markdown",
   "id": "d7bcf9f8",
   "metadata": {},
   "source": [
    "para saber si mi mse es bueno voy a comparalo con el rango de los datos"
   ]
  },
  {
   "cell_type": "code",
   "execution_count": 58,
   "id": "f722660e",
   "metadata": {},
   "outputs": [
    {
     "data": {
      "text/html": [
       "<div>\n",
       "<style scoped>\n",
       "    .dataframe tbody tr th:only-of-type {\n",
       "        vertical-align: middle;\n",
       "    }\n",
       "\n",
       "    .dataframe tbody tr th {\n",
       "        vertical-align: top;\n",
       "    }\n",
       "\n",
       "    .dataframe thead th {\n",
       "        text-align: right;\n",
       "    }\n",
       "</style>\n",
       "<table border=\"1\" class=\"dataframe\">\n",
       "  <thead>\n",
       "    <tr style=\"text-align: right;\">\n",
       "      <th></th>\n",
       "      <th>YearsExperience</th>\n",
       "      <th>Salary</th>\n",
       "    </tr>\n",
       "  </thead>\n",
       "  <tbody>\n",
       "    <tr>\n",
       "      <th>min</th>\n",
       "      <td>1.2</td>\n",
       "      <td>37732.0</td>\n",
       "    </tr>\n",
       "    <tr>\n",
       "      <th>max</th>\n",
       "      <td>10.6</td>\n",
       "      <td>122392.0</td>\n",
       "    </tr>\n",
       "  </tbody>\n",
       "</table>\n",
       "</div>"
      ],
      "text/plain": [
       "     YearsExperience    Salary\n",
       "min              1.2   37732.0\n",
       "max             10.6  122392.0"
      ]
     },
     "execution_count": 58,
     "metadata": {},
     "output_type": "execute_result"
    }
   ],
   "source": [
    "descriptivas = df.describe()\n",
    "rango = descriptivas.loc[['min', 'max']]\n",
    "\n",
    "rango\n",
    "\n"
   ]
  },
  {
   "cell_type": "code",
   "execution_count": 64,
   "id": "b161af47",
   "metadata": {},
   "outputs": [
    {
     "data": {
      "text/plain": [
       "0.020513092335418214"
      ]
     },
     "execution_count": 64,
     "metadata": {},
     "output_type": "execute_result"
    }
   ],
   "source": [
    "max_value = 122392.0\n",
    "min_value = 37732.0\n",
    "\n",
    "mse = 65590064\n",
    "\n",
    "\n",
    "X.shape\n",
    "\n",
    "\n",
    "#mse rel -> 774\n",
    "\n",
    "\n",
    "774/min_value\n",
    "\n",
    "# min -> 100\n",
    "# 774    x\n",
    "\n",
    "\n"
   ]
  },
  {
   "cell_type": "code",
   "execution_count": 57,
   "id": "94bd5225",
   "metadata": {},
   "outputs": [
    {
     "data": {
      "image/png": "[encoded data removed]",
      "text/plain": [
       "<Figure size 640x480 with 1 Axes>"
      ]
     },
     "metadata": {},
     "output_type": "display_data"
    },
    {
     "data": {
      "image/png": "[encoded data removed]",
      "text/plain": [
       "<Figure size 640x480 with 1 Axes>"
      ]
     },
     "metadata": {},
     "output_type": "display_data"
    }
   ],
   "source": [
    "def plot_history(history):\n",
    "  hist = pd.DataFrame(history.history)\n",
    "  hist['epoch'] = history.epoch\n",
    "\n",
    "  plt.figure()\n",
    "  plt.xlabel('Epoch')\n",
    "  plt.ylabel('Mean Abs Error [MPG]')\n",
    "  plt.plot(hist['epoch'], hist['mae'],\n",
    "           label='Train Error')\n",
    "  plt.plot(hist['epoch'], hist['val_mae'],\n",
    "           label = 'Val Error')\n",
    "  #plt.ylim([0,5])\n",
    "  plt.legend()\n",
    "\n",
    "  plt.figure()\n",
    "  plt.xlabel('Epoch')\n",
    "  plt.ylabel('Mean Square Error [$MPG^2$]')\n",
    "  plt.plot(hist['epoch'], hist['mse'],\n",
    "           label='Train Error')\n",
    "  plt.plot(hist['epoch'], hist['val_mse'],\n",
    "           label = 'Val Error')\n",
    "  #plt.ylim([0,20])\n",
    "  plt.legend()\n",
    "  plt.show()\n",
    "\n",
    "\n",
    "plot_history(history)\n"
   ]
  },
  {
   "cell_type": "code",
   "execution_count": null,
   "id": "36766dd1",
   "metadata": {},
   "outputs": [],
   "source": []
  }
 ],
 "metadata": {
  "kernelspec": {
   "display_name": "Python 3 (ipykernel)",
   "language": "python",
   "name": "python3"
  },
  "language_info": {
   "codemirror_mode": {
    "name": "ipython",
    "version": 3
   },
   "file_extension": ".py",
   "mimetype": "text/x-python",
   "name": "python",
   "nbconvert_exporter": "python",
   "pygments_lexer": "ipython3",
   "version": "3.10.12"
  }
 },
 "nbformat": 4,
 "nbformat_minor": 5
}
