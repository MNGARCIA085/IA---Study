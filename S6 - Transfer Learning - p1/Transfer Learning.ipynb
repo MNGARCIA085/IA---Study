{
 "cells": [
  {
   "cell_type": "markdown",
   "id": "afe51013",
   "metadata": {},
   "source": [
    "# TRANSFER LEARNING"
   ]
  },
  {
   "cell_type": "markdown",
   "id": "4b4482e8",
   "metadata": {},
   "source": [
    "## Objetivos\n",
    "\n",
    "Practicarme con Transfer Learning"
   ]
  },
  {
   "cell_type": "markdown",
   "id": "cb9ef731",
   "metadata": {},
   "source": [
    "Types of Transfer Learning\n",
    "\n",
    "    \"As is\" Transfer Learning:\n",
    "        Using an existing pre-trained model without making any changes.\n",
    "        For example, using a model trained on ImageNet with its original architecture and weights for predictions on the same set of ImageNet classes.\n",
    "\n",
    "    Feature Extraction Transfer Learning:\n",
    "        Using the pre-learned patterns of an existing model (e.g., EfficientNetB0 trained on ImageNet) as feature extractors.\n",
    "        Typically, adjusting only the output layer for your specific problem, such as changing the number of output classes (e.g., from 1000 ImageNet classes to 10 classes of food).\n",
    "\n",
    "    Fine-Tuning Transfer Learning:\n",
    "        Using the pre-learned patterns of an existing model and \"fine-tuning\" some or all of the underlying layers.\n",
    "        This involves adjusting the weights of existing layers, often including lower layers, in addition to training new output layers.\n",
    "        Fine-tuning allows the model to adapt to the specifics of the new task while retaining some knowledge from the pre-trained model.\n",
    "\n",
    "These distinctions are crucial when deciding how to leverage pre-trained models for your specific machine learning or deep learning task. \"As is\" transfer learning is useful when the task is similar to the original pre-training task, while feature extraction and fine-tuning are more appropriate for adapting models to new, related tasks.\n",
    " "
   ]
  },
  {
   "cell_type": "markdown",
   "id": "463f8023",
   "metadata": {},
   "source": [
    "\n",
    "## Librerías necesarias\n"
   ]
  },
  {
   "cell_type": "code",
   "execution_count": 2,
   "id": "f4f6e865",
   "metadata": {},
   "outputs": [],
   "source": [
    "# que no se impriman info y warnings\n",
    "import os\n",
    "os.environ['TF_CPP_MIN_LOG_LEVEL'] = '2' "
   ]
  },
  {
   "cell_type": "code",
   "execution_count": 3,
   "id": "182f00f1",
   "metadata": {},
   "outputs": [],
   "source": [
    "import tensorflow as tf\n",
    "import matplotlib.pyplot as plt\n",
    "import numpy as np\n",
    "from tensorflow.keras import layers,callbacks,models,Sequential,losses\n",
    "import seaborn as sns\n",
    "from sklearn.metrics import confusion_matrix\n",
    "import keras_tuner\n",
    "from tensorflow import keras\n",
    "from keras import backend as K\n",
    "import os\n",
    "import pandas as pd\n",
    "from sklearn.metrics import confusion_matrix\n",
    "from tensorflow.keras.preprocessing.image import ImageDataGenerator\n",
    "import tensorflow_hub as hub"
   ]
  },
  {
   "cell_type": "markdown",
   "id": "1533116e",
   "metadata": {},
   "source": [
    "## Helper Functions"
   ]
  },
  {
   "cell_type": "code",
   "execution_count": 4,
   "id": "235edc61",
   "metadata": {},
   "outputs": [],
   "source": [
    "\n",
    "# plot history\n",
    "def plot_history(history):\n",
    "    hist = pd.DataFrame(history.history)\n",
    "    hist['epoch'] = history.epoch\n",
    "\n",
    "    plt.figure(figsize=(10,4))\n",
    "    \n",
    "    plt.subplot(1,2,1)\n",
    "    plt.title('Training and validation loss')\n",
    "    plt.xlabel('Epoch')\n",
    "    plt.ylabel('Loss')\n",
    "    plt.plot(hist['epoch'], hist['loss'],\n",
    "           label='Train Error')\n",
    "    plt.plot(hist['epoch'], hist['val_loss'],\n",
    "           label = 'Val Error')\n",
    "    plt.legend()\n",
    "\n",
    "    #plt.figure()\n",
    "    plt.subplot(1,2,2)\n",
    "    plt.title('Training and validation accuracy')\n",
    "    plt.xlabel('Epoch')\n",
    "    plt.ylabel('Accuracy')\n",
    "    plt.plot(hist['epoch'], hist['accuracy'],\n",
    "           label='Train Accuracy')\n",
    "    plt.plot(hist['epoch'], hist['val_accuracy'],\n",
    "           label = 'Val Accuracy')\n",
    "    plt.legend()\n",
    "    plt.show()"
   ]
  },
  {
   "cell_type": "markdown",
   "id": "93d67c33",
   "metadata": {},
   "source": [
    "## Carga de datos"
   ]
  },
  {
   "cell_type": "code",
   "execution_count": 5,
   "id": "9bd55383",
   "metadata": {},
   "outputs": [],
   "source": [
    "seed_value = 57\n",
    "np.random.seed(seed_value)\n",
    "tf.random.set_seed(seed_value)"
   ]
  },
  {
   "cell_type": "code",
   "execution_count": 6,
   "id": "64bd4e8f",
   "metadata": {},
   "outputs": [],
   "source": [
    "IMG_SHAPE = (224,224)\n",
    "BATCH_SIZE = 32\n",
    "\n",
    "train_dir='/home/marcos/Escritorio/IA/IA---Study/S6 - Transfer Learning - p1/data/Sports-celebrity images/train'\n",
    "test_dir='/home/marcos/Escritorio/IA/IA---Study/S6 - Transfer Learning - p1/data/Sports-celebrity images/test'"
   ]
  },
  {
   "cell_type": "code",
   "execution_count": 7,
   "id": "40f36b28",
   "metadata": {},
   "outputs": [
    {
     "name": "stdout",
     "output_type": "stream",
     "text": [
      "Found 315 images belonging to 4 classes.\n",
      "Found 78 images belonging to 4 classes.\n",
      "Found 50 images belonging to 4 classes.\n"
     ]
    }
   ],
   "source": [
    "train_datagen = ImageDataGenerator(rescale=1/255.,\n",
    "                                  validation_split=0.2) # dsp. implementaré data augmentation\n",
    "\n",
    "\n",
    "\n",
    "#\n",
    "train_generator = train_datagen.flow_from_directory(\n",
    "    train_dir,\n",
    "    target_size = IMG_SHAPE,\n",
    "    batch_size=BATCH_SIZE,\n",
    "    class_mode='categorical',\n",
    "    subset='training'\n",
    ")\n",
    "\n",
    "validation_generator = train_datagen.flow_from_directory(\n",
    "    train_dir,\n",
    "    target_size = IMG_SHAPE,\n",
    "    batch_size=BATCH_SIZE,\n",
    "    class_mode='categorical',\n",
    "    subset='validation'\n",
    ")\n",
    "\n",
    "\n",
    "\n",
    "\n",
    "#\n",
    "test_datagen = ImageDataGenerator(rescale=1/255.)\n",
    "\n",
    "test_generator = test_datagen.flow_from_directory(test_dir,\n",
    "                                             target_size=IMG_SHAPE,\n",
    "                                             batch_size=BATCH_SIZE,\n",
    "                                             class_mode=\"categorical\")\n"
   ]
  },
  {
   "cell_type": "markdown",
   "id": "58d6f3f8",
   "metadata": {},
   "source": [
    "Probaremos ResNet e ImageNet.\n"
   ]
  },
  {
   "cell_type": "code",
   "execution_count": 8,
   "id": "a734bcc1",
   "metadata": {},
   "outputs": [],
   "source": [
    "resnet_url = \"https://tfhub.dev/google/imagenet/resnet_v2_50/feature_vector/4\"\n",
    "\n",
    "efficientnet_url = \"https://tfhub.dev/tensorflow/efficientnet/b0/feature-vector/1\""
   ]
  },
  {
   "cell_type": "code",
   "execution_count": 9,
   "id": "b71bddd4",
   "metadata": {},
   "outputs": [],
   "source": [
    "# usaremos tensorboard como callback\n",
    "\n",
    "# Create TensorBoard callback (functionized beause we need to create a new one for each model)\n",
    "import datetime\n",
    "\n",
    "def create_tensorboard_callback(dir_name, experiment_name):\n",
    "  #log_dir = dir_name + \"/\" + experiment_name + \"/\" + datetime.datetime.now().strftime(\"%Y%m%d-%H%M%S\")\n",
    "  log_dir = './logs'\n",
    "  tensorboard_callback = tf.keras.callbacks.TensorBoard(log_dir=log_dir)\n",
    "  print(f\"Saving TensorBoard log files to: {log_dir}\")\n",
    "  return tensorboard_callback\n",
    "\n",
    "\n"
   ]
  },
  {
   "cell_type": "code",
   "execution_count": 10,
   "id": "3ee3024e",
   "metadata": {},
   "outputs": [],
   "source": [
    "# Let's make a create_model() function to create a model from a URL\n",
    "def create_model(model_url, num_classes=4):\n",
    "  \"\"\"\n",
    "  Takes a TensorFlow Hub URL and creates a Keras Sequential model with it.\n",
    "\n",
    "  Args:\n",
    "    model_url (str): A TensorFlow Hub feature extraction URL.\n",
    "    num_classes (int): Number of output neurons in the output layer,\n",
    "      should be equal to number of target classes, default 4.\n",
    "  \n",
    "  Returns:\n",
    "    An uncompiled Keras Sequential model with model_url as feature extractor\n",
    "    layer and Dense output layer with num_classes output neurons.\n",
    "  \"\"\"\n",
    "  # Download the pretrained model and save it as a Keras layer\n",
    "  feature_extractor_layer = hub.KerasLayer(model_url,\n",
    "                                           trainable=False, # freeze the already learned patterns\n",
    "                                           name=\"feature_extraction_lyaer\",\n",
    "                                           input_shape=IMG_SHAPE+(3,)) \n",
    "\n",
    "  # Create our own model\n",
    "  model = tf.keras.Sequential([\n",
    "    feature_extractor_layer,\n",
    "    layers.Dense(num_classes, activation=\"softmax\", name=\"output_layer\")\n",
    "  ])\n",
    "    \n",
    "  return model  "
   ]
  },
  {
   "cell_type": "code",
   "execution_count": 11,
   "id": "3851c83a",
   "metadata": {},
   "outputs": [],
   "source": [
    "# RESNET"
   ]
  },
  {
   "cell_type": "code",
   "execution_count": 12,
   "id": "18b6ad84",
   "metadata": {},
   "outputs": [
    {
     "name": "stdout",
     "output_type": "stream",
     "text": [
      "WARNING:tensorflow:Please fix your imports. Module tensorflow.python.training.tracking.data_structures has been moved to tensorflow.python.trackable.data_structures. The old module will be deleted in version 2.11.\n"
     ]
    }
   ],
   "source": [
    "# Create Resnet model \n",
    "resnet_model = create_model(resnet_url,\n",
    "                            num_classes=4)"
   ]
  },
  {
   "cell_type": "code",
   "execution_count": 13,
   "id": "f63d6573",
   "metadata": {},
   "outputs": [],
   "source": [
    "# Compile our resnet model\n",
    "resnet_model.compile(loss=\"categorical_crossentropy\",\n",
    "                     optimizer=tf.keras.optimizers.Adam(),\n",
    "                     metrics=[\"accuracy\"])"
   ]
  },
  {
   "cell_type": "code",
   "execution_count": 14,
   "id": "fa255c34",
   "metadata": {},
   "outputs": [
    {
     "name": "stdout",
     "output_type": "stream",
     "text": [
      "Saving TensorBoard log files to: ./logs\n",
      "Epoch 1/5\n",
      "10/10 [==============================] - 21s 2s/step - loss: 1.4516 - accuracy: 0.3619 - val_loss: 1.1891 - val_accuracy: 0.5128\n",
      "Epoch 2/5\n",
      "10/10 [==============================] - 17s 2s/step - loss: 0.8505 - accuracy: 0.7175 - val_loss: 0.9762 - val_accuracy: 0.6026\n",
      "Epoch 3/5\n",
      "10/10 [==============================] - 15s 2s/step - loss: 0.5723 - accuracy: 0.8444 - val_loss: 0.8593 - val_accuracy: 0.6410\n",
      "Epoch 4/5\n",
      "10/10 [==============================] - 18s 2s/step - loss: 0.4254 - accuracy: 0.8984 - val_loss: 0.8061 - val_accuracy: 0.6538\n",
      "Epoch 5/5\n",
      "10/10 [==============================] - 15s 2s/step - loss: 0.3389 - accuracy: 0.9206 - val_loss: 0.7652 - val_accuracy: 0.6538\n"
     ]
    }
   ],
   "source": [
    "resnet_history = resnet_model.fit(train_generator,\n",
    "                                  epochs=5,\n",
    "                                  steps_per_epoch=len(train_generator),\n",
    "                                  validation_data=validation_generator,\n",
    "                                  validation_steps=len(validation_generator),\n",
    "                                  callbacks=[create_tensorboard_callback(dir_name=\"tensorflow_hub\",\n",
    "                                                                         experiment_name=\"resnet50V2\"\n",
    "                                                                         )])"
   ]
  },
  {
   "cell_type": "code",
   "execution_count": 15,
   "id": "f3958c91",
   "metadata": {},
   "outputs": [
    {
     "name": "stdout",
     "output_type": "stream",
     "text": [
      "2/2 [==============================] - 2s 688ms/step - loss: 0.6969 - accuracy: 0.7000\n"
     ]
    }
   ],
   "source": [
    "scores_resnet = resnet_model.evaluate(test_generator)"
   ]
  },
  {
   "cell_type": "code",
   "execution_count": 17,
   "id": "9abaefeb",
   "metadata": {},
   "outputs": [
    {
     "name": "stdout",
     "output_type": "stream",
     "text": [
      "Wow!!, en tal sólo 5 epochs logramos una precisión del 70.0%\n"
     ]
    }
   ],
   "source": [
    "print(f\"Wow!!, en tal sólo 5 epochs logramos una precisión del {round(scores_resnet[1]*100,2)}%\")"
   ]
  },
  {
   "cell_type": "code",
   "execution_count": 18,
   "id": "ff344053",
   "metadata": {},
   "outputs": [],
   "source": [
    "# EFFICIENT NET"
   ]
  },
  {
   "cell_type": "code",
   "execution_count": 19,
   "id": "716b6e08",
   "metadata": {},
   "outputs": [
    {
     "name": "stdout",
     "output_type": "stream",
     "text": [
      "Saving TensorBoard log files to: ./logs\n",
      "Epoch 1/5\n",
      "10/10 [==============================] - 17s 1s/step - loss: 1.2216 - accuracy: 0.4508 - val_loss: 1.0745 - val_accuracy: 0.6600\n",
      "Epoch 2/5\n",
      "10/10 [==============================] - 9s 920ms/step - loss: 0.8632 - accuracy: 0.7683 - val_loss: 0.8688 - val_accuracy: 0.7400\n",
      "Epoch 3/5\n",
      "10/10 [==============================] - 9s 927ms/step - loss: 0.6542 - accuracy: 0.8635 - val_loss: 0.7411 - val_accuracy: 0.8200\n",
      "Epoch 4/5\n",
      "10/10 [==============================] - 10s 957ms/step - loss: 0.5232 - accuracy: 0.8952 - val_loss: 0.6536 - val_accuracy: 0.8200\n",
      "Epoch 5/5\n",
      "10/10 [==============================] - 9s 942ms/step - loss: 0.4360 - accuracy: 0.9238 - val_loss: 0.5976 - val_accuracy: 0.8400\n"
     ]
    }
   ],
   "source": [
    "# Create EfficinetNetB0 feature extractor model - details on EfficientNet: https://ai.googleblog.com/2019/05/efficientnet-improving-accuracy-and.html#:~:text=EfficientNet%2DB0%20is%20the%20baseline,than%20the%20best%20existing%20CNN.\n",
    "efficientnet_model = create_model(model_url=efficientnet_url,\n",
    "                                  num_classes=4)\n",
    "\n",
    "# Compile EfficientNet model\n",
    "efficientnet_model.compile(loss=\"categorical_crossentropy\",\n",
    "                           optimizer=tf.keras.optimizers.Adam(),\n",
    "                           metrics=[\"accuracy\"])\n",
    "\n",
    "# Fit EfficientNet model to 10% of training data\n",
    "efficientnet_history = efficientnet_model.fit(train_generator,\n",
    "                                              epochs=5,\n",
    "                                              steps_per_epoch=len(train_generator),\n",
    "                                              validation_data=test_generator,\n",
    "                                              validation_steps=len(test_generator),\n",
    "                                              callbacks=[create_tensorboard_callback(dir_name=\"tensorflow_hub\",\n",
    "                                                                                     experiment_name=\"efficientnetb0\")])"
   ]
  },
  {
   "cell_type": "code",
   "execution_count": 20,
   "id": "e33dddaa",
   "metadata": {},
   "outputs": [
    {
     "name": "stdout",
     "output_type": "stream",
     "text": [
      "2/2 [==============================] - 1s 425ms/step - loss: 0.5976 - accuracy: 0.8400\n"
     ]
    }
   ],
   "source": [
    "scores_efficientnet = efficientnet_model.evaluate(test_generator)"
   ]
  },
  {
   "cell_type": "code",
   "execution_count": 22,
   "id": "376258d9",
   "metadata": {},
   "outputs": [
    {
     "name": "stdout",
     "output_type": "stream",
     "text": [
      "Wow!!, en tal sólo 5 epochs logramos una precisión del 84.0%\n"
     ]
    }
   ],
   "source": [
    "print(f\"Wow!!, en tal sólo 5 epochs logramos una precisión del {round(scores_efficientnet[1]*100,2)}%\")"
   ]
  },
  {
   "cell_type": "markdown",
   "id": "58a093bf",
   "metadata": {},
   "source": [
    "### Comparemos los modelos usando TensorBoard"
   ]
  },
  {
   "cell_type": "markdown",
   "id": "f2e2899a",
   "metadata": {},
   "source": [
    "Voy hasta en una terminal hasta donde se encuentra la carpeta de logs y ejecuto:\n",
    "\n",
    "    \n",
    "   ....$ tensorboard --logdir=./logs\n",
    "   \n",
    "   \n",
    " (logs es donde guardamos los logs, se especificó más arriba)\n",
    " \n",
    " Luego, vamos en el navegador a :\n",
    " \n",
    " http://localhost:6006\n",
    " \n",
    " \n",
    " Veremos algo como lo que se muestra en la imagen siguiente:\n",
    " \n",
    " <img src='images/TensorBoardf.png'>\n",
    " "
   ]
  },
  {
   "cell_type": "code",
   "execution_count": null,
   "id": "872bf3e1",
   "metadata": {},
   "outputs": [],
   "source": []
  }
 ],
 "metadata": {
  "kernelspec": {
   "display_name": "Python 3 (ipykernel)",
   "language": "python",
   "name": "python3"
  },
  "language_info": {
   "codemirror_mode": {
    "name": "ipython",
    "version": 3
   },
   "file_extension": ".py",
   "mimetype": "text/x-python",
   "name": "python",
   "nbconvert_exporter": "python",
   "pygments_lexer": "ipython3",
   "version": "3.10.12"
  }
 },
 "nbformat": 4,
 "nbformat_minor": 5
}
