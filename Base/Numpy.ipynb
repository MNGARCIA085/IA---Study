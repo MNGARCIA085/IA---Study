{
 "cells": [
  {
   "cell_type": "markdown",
   "id": "82677275",
   "metadata": {},
   "source": [
    "# <font color='blue'><b> <center> NUMPY </center></b></font>"
   ]
  },
  {
   "cell_type": "code",
   "execution_count": 30,
   "id": "7fb69b8c",
   "metadata": {},
   "outputs": [],
   "source": [
    "import numpy as np"
   ]
  },
  {
   "cell_type": "markdown",
   "id": "3fde8b86",
   "metadata": {},
   "source": [
    "## Indexado"
   ]
  },
  {
   "cell_type": "code",
   "execution_count": 26,
   "id": "40504cf3",
   "metadata": {},
   "outputs": [
    {
     "name": "stdout",
     "output_type": "stream",
     "text": [
      "\n",
      " Array is:\n",
      "  [[ 0  1  2  3  4  5]\n",
      " [ 6  7  8  9 10 11]\n",
      " [12 13 14 15 16 17]\n",
      " [18 19 20 21 22 23]\n",
      " [24 25 26 27 28 29]\n",
      " [30 31 32 33 34 35]]\n",
      "\n",
      "\n",
      "shape (6, 6)\n",
      "\n",
      " a[0, 3:5]  =  [3 4]\n",
      "\n",
      " a[4:, 4:]  =  [[28 29]\n",
      " [34 35]]\n",
      "\n",
      " a[:, 2]  =  [ 2  8 14 20 26 32]\n",
      "\n",
      " a[2::2, ::2]  =  [[12 14 16]\n",
      " [24 26 28]]\n"
     ]
    }
   ],
   "source": [
    "# A 3-Dimensional array\n",
    "a = np.array([[0, 1, 2, 3, 4, 5],\n",
    "              [6, 7, 8, 9, 10, 11],\n",
    "              [12, 13, 14, 15, 16, 17],\n",
    "              [18, 19, 20, 21, 22, 23],\n",
    "              [24, 25, 26, 27, 28, 29],\n",
    "              [30, 31, 32, 33, 34, 35]])\n",
    "print(\"\\n Array is:\\n \",a)\n",
    " \n",
    "print(\"\\n\")\n",
    "print(\"shape\",a.shape)\n",
    "    \n",
    "# slicing and indexing\n",
    "print(\"\\n a[0, 3:5]  = \",a[0, 3:5]) \n",
    " \n",
    "print(\"\\n a[4:, 4:]  = \",a[4:, 4:]) \n",
    " \n",
    "print(\"\\n a[:, 2]  = \",a[:, 2]) \n",
    " \n",
    "print(\"\\n a[2::2, ::2]  = \",a[2::2, ::2]) "
   ]
  },
  {
   "cell_type": "markdown",
   "id": "f22b19e3",
   "metadata": {},
   "source": [
    "<img src=\"images/slicing.png\">"
   ]
  },
  {
   "cell_type": "code",
   "execution_count": 6,
   "id": "69cbb375",
   "metadata": {},
   "outputs": [
    {
     "data": {
      "text/plain": [
       "8"
      ]
     },
     "execution_count": 6,
     "metadata": {},
     "output_type": "execute_result"
    }
   ],
   "source": [
    "x[-2]"
   ]
  },
  {
   "cell_type": "code",
   "execution_count": 11,
   "id": "51c9fda6",
   "metadata": {},
   "outputs": [
    {
     "name": "stdout",
     "output_type": "stream",
     "text": [
      "[[0 1 2 3 4]\n",
      " [5 6 7 8 9]]\n",
      "(2, 5)\n"
     ]
    }
   ],
   "source": [
    "# veamos un arreglo bidimensional\n",
    "\n",
    "x.shape = (2,5)\n",
    "\n",
    "print(x)\n",
    "\n",
    "print(x.shape)\n"
   ]
  },
  {
   "cell_type": "code",
   "execution_count": 13,
   "id": "030feb38",
   "metadata": {},
   "outputs": [
    {
     "data": {
      "text/plain": [
       "8"
      ]
     },
     "execution_count": 13,
     "metadata": {},
     "output_type": "execute_result"
    }
   ],
   "source": [
    "x[1,3] # fila 1, columna 3; recuerdo que las filas arrancan en 0!"
   ]
  },
  {
   "cell_type": "code",
   "execution_count": 14,
   "id": "678ce50f",
   "metadata": {},
   "outputs": [
    {
     "data": {
      "text/plain": [
       "2"
      ]
     },
     "execution_count": 14,
     "metadata": {},
     "output_type": "execute_result"
    }
   ],
   "source": [
    "x[0,2]"
   ]
  },
  {
   "cell_type": "code",
   "execution_count": 16,
   "id": "d8b37c5e",
   "metadata": {},
   "outputs": [
    {
     "data": {
      "text/plain": [
       "9"
      ]
     },
     "execution_count": 16,
     "metadata": {},
     "output_type": "execute_result"
    }
   ],
   "source": [
    "x[1,-1] # último elemento de la fila 1"
   ]
  },
  {
   "cell_type": "code",
   "execution_count": 17,
   "id": "6dd109d4",
   "metadata": {},
   "outputs": [
    {
     "data": {
      "text/plain": [
       "array([0, 1, 2, 3, 4])"
      ]
     },
     "execution_count": 17,
     "metadata": {},
     "output_type": "execute_result"
    }
   ],
   "source": [
    "#Note that if one indexes a multidimensional array with fewer indices than dimensions, \n",
    "#one gets a subdimensional array. For example:\n",
    "\n",
    "x[0]"
   ]
  },
  {
   "cell_type": "markdown",
   "id": "ff578e85",
   "metadata": {},
   "source": [
    "Lo que se retorna es una vista, no es una copia del arreglo original, sino que apunta a los mismos valores que el original.\n",
    "\n"
   ]
  },
  {
   "cell_type": "markdown",
   "id": "38263f3e",
   "metadata": {},
   "source": [
    "### Slicing and striding"
   ]
  },
  {
   "cell_type": "markdown",
   "id": "2b25085d",
   "metadata": {},
   "source": [
    "Basic slicing extends Python’s basic concept of slicing to N dimensions. Basic slicing occurs when obj is a slice object (constructed by start:stop:step notation inside of brackets), an integer, or a tuple of slice objects and integers. Ellipsis and newaxis objects can be interspersed with these as well.\n",
    "\n",
    "The simplest case of indexing with N integers returns an array scalar representing the corresponding item. As in Python, all indices are zero-based: for the i-th index\n",
    ", the valid range is where is the i-th element of the shape of the array. Negative indices are interpreted as counting from the end of the array (i.e., if , it means\n",
    "\n",
    ").\n",
    "\n",
    "All arrays generated by basic slicing are always views of the original array."
   ]
  },
  {
   "cell_type": "markdown",
   "id": "6ee833a5",
   "metadata": {},
   "source": [
    "The standard rules of sequence slicing apply to basic slicing on a per-dimension basis (including using a step index). Some useful concepts to remember include:\n",
    "\n",
    "\n",
    "- The basic slice syntax is i:j:k where i is the starting index, j is the stopping index, and k is the step (). This selects the m elements (in the corresponding dimension) with index values i, i + k, …, i + (m - 1) k where and q and r are the quotient and remainder obtained by dividing j - i by k: j - i = q k + r, so that i + (m - 1) k < j. For example:"
   ]
  },
  {
   "cell_type": "code",
   "execution_count": 31,
   "id": "9a2fdb3c",
   "metadata": {},
   "outputs": [
    {
     "name": "stdout",
     "output_type": "stream",
     "text": [
      "[0 1 2 3 4 5 6 7 8 9]\n",
      "(10,)\n"
     ]
    }
   ],
   "source": [
    "x = np.array([0, 1, 2, 3, 4, 5, 6, 7, 8, 9])\n",
    "\n",
    "print(x)\n",
    "\n",
    "print(x.shape)"
   ]
  },
  {
   "cell_type": "code",
   "execution_count": 32,
   "id": "f6f021ef",
   "metadata": {},
   "outputs": [
    {
     "data": {
      "text/plain": [
       "array([1, 3, 5])"
      ]
     },
     "execution_count": 32,
     "metadata": {},
     "output_type": "execute_result"
    }
   ],
   "source": [
    "x[1:7:2] # del 1 al 7 con un paso de 2"
   ]
  },
  {
   "cell_type": "markdown",
   "id": "8637617d",
   "metadata": {},
   "source": [
    "Negative i and j are interpreted as n + i and n + j where n is the number of elements in the corresponding dimension. Negative k makes stepping go towards smaller indices. From the above example:"
   ]
  },
  {
   "cell_type": "code",
   "execution_count": 29,
   "id": "49f704f6",
   "metadata": {},
   "outputs": [
    {
     "data": {
      "text/plain": [
       "array([8, 9])"
      ]
     },
     "execution_count": 29,
     "metadata": {},
     "output_type": "execute_result"
    }
   ],
   "source": [
    "x[-2:10] # últimos 2\n"
   ]
  },
  {
   "cell_type": "code",
   "execution_count": 30,
   "id": "7de9d66b",
   "metadata": {},
   "outputs": [
    {
     "data": {
      "text/plain": [
       "array([6, 7, 8, 9])"
      ]
     },
     "execution_count": 30,
     "metadata": {},
     "output_type": "execute_result"
    }
   ],
   "source": [
    "x[-4:10] # últimos 4"
   ]
  },
  {
   "cell_type": "code",
   "execution_count": 35,
   "id": "f75716bb",
   "metadata": {},
   "outputs": [
    {
     "data": {
      "text/plain": [
       "array([7, 6, 5, 4])"
      ]
     },
     "execution_count": 35,
     "metadata": {},
     "output_type": "execute_result"
    }
   ],
   "source": [
    "x[-3:3:-1] # desde el tercer elemento desde atrás, al tercer elemento, con un paso de -1"
   ]
  },
  {
   "cell_type": "code",
   "execution_count": 36,
   "id": "9673604e",
   "metadata": {},
   "outputs": [
    {
     "data": {
      "text/plain": [
       "array([7, 5])"
      ]
     },
     "execution_count": 36,
     "metadata": {},
     "output_type": "execute_result"
    }
   ],
   "source": [
    "x[-3:3:-2]"
   ]
  },
  {
   "cell_type": "code",
   "execution_count": 37,
   "id": "59ddb7d1",
   "metadata": {},
   "outputs": [
    {
     "data": {
      "text/plain": [
       "array([8, 7, 6, 5, 4])"
      ]
     },
     "execution_count": 37,
     "metadata": {},
     "output_type": "execute_result"
    }
   ],
   "source": [
    "x[-2:3:-1]"
   ]
  },
  {
   "cell_type": "markdown",
   "id": "1853195c",
   "metadata": {},
   "source": [
    "Assume n is the number of elements in the dimension being sliced. Then, if i is not given it defaults to 0 for k > 0 and n - 1 for k < 0 . If j is not given it defaults to n for k > 0 and -n-1 for k < 0 . If k is not given it defaults to 1. Note that :: is the same as : and means select all indices along this axis. From the above example:"
   ]
  },
  {
   "cell_type": "code",
   "execution_count": 38,
   "id": "1a14dda8",
   "metadata": {},
   "outputs": [
    {
     "data": {
      "text/plain": [
       "array([5, 6, 7, 8, 9])"
      ]
     },
     "execution_count": 38,
     "metadata": {},
     "output_type": "execute_result"
    }
   ],
   "source": [
    "x[5:] # elementos desde el 5 en adelante"
   ]
  },
  {
   "cell_type": "markdown",
   "id": "b1ad97bd",
   "metadata": {},
   "source": [
    "If the number of objects in the selection tuple is less than N, then : is assumed for any subsequent dimensions. For example:"
   ]
  },
  {
   "cell_type": "code",
   "execution_count": 40,
   "id": "be9ca482",
   "metadata": {},
   "outputs": [
    {
     "name": "stdout",
     "output_type": "stream",
     "text": [
      "[[[1]\n",
      "  [2]\n",
      "  [3]]\n",
      "\n",
      " [[4]\n",
      "  [5]\n",
      "  [6]]]\n",
      "\n",
      "(2, 3, 1)\n"
     ]
    }
   ],
   "source": [
    "x = np.array([[[1],[2],[3]], [[4],[5],[6]]])\n",
    "\n",
    "\n",
    "print(x)\n",
    "print()\n",
    "print(x.shape)"
   ]
  },
  {
   "cell_type": "code",
   "execution_count": 79,
   "id": "138691ae",
   "metadata": {},
   "outputs": [
    {
     "data": {
      "text/plain": [
       "array([[[4],\n",
       "        [5],\n",
       "        [6]]])"
      ]
     },
     "execution_count": 79,
     "metadata": {},
     "output_type": "execute_result"
    }
   ],
   "source": [
    "\n",
    "#  1 2 3\n",
    "#  4 5 6\n",
    "# + prof.\n",
    "\n",
    "\n",
    "x[1:2] # filas de la 1 a la 2; todo lo que venga en la columna ;todo lo que venga en prfundidad\n",
    "# idem que x[1:2,:,:]"
   ]
  },
  {
   "cell_type": "code",
   "execution_count": 48,
   "id": "36591014",
   "metadata": {},
   "outputs": [
    {
     "data": {
      "text/plain": [
       "array([[[1],\n",
       "        [2],\n",
       "        [3]],\n",
       "\n",
       "       [[4],\n",
       "        [5],\n",
       "        [6]]])"
      ]
     },
     "execution_count": 48,
     "metadata": {},
     "output_type": "execute_result"
    }
   ],
   "source": [
    "x[0:2] "
   ]
  },
  {
   "cell_type": "code",
   "execution_count": 53,
   "id": "2d8db598",
   "metadata": {},
   "outputs": [
    {
     "data": {
      "text/plain": [
       "array([[1],\n",
       "       [4]])"
      ]
     },
     "execution_count": 53,
     "metadata": {},
     "output_type": "execute_result"
    }
   ],
   "source": [
    "primera_columna = x[:, 0, :]\n",
    "primera_columna"
   ]
  },
  {
   "cell_type": "code",
   "execution_count": 52,
   "id": "6e6c4acc",
   "metadata": {},
   "outputs": [
    {
     "data": {
      "text/plain": [
       "array([[1],\n",
       "       [2],\n",
       "       [3]])"
      ]
     },
     "execution_count": 52,
     "metadata": {},
     "output_type": "execute_result"
    }
   ],
   "source": [
    "primera_fila = x[0, :, :]\n",
    "primera_fila"
   ]
  },
  {
   "cell_type": "code",
   "execution_count": 54,
   "id": "ac600e45",
   "metadata": {},
   "outputs": [
    {
     "data": {
      "text/plain": [
       "array([[1, 2, 3],\n",
       "       [4, 5, 6]])"
      ]
     },
     "execution_count": 54,
     "metadata": {},
     "output_type": "execute_result"
    }
   ],
   "source": [
    "x[:, :,0]"
   ]
  },
  {
   "cell_type": "code",
   "execution_count": 56,
   "id": "6944fafa",
   "metadata": {},
   "outputs": [
    {
     "data": {
      "text/plain": [
       "array([[4],\n",
       "       [5],\n",
       "       [6]])"
      ]
     },
     "execution_count": 56,
     "metadata": {},
     "output_type": "execute_result"
    }
   ],
   "source": [
    "x[1] # segunda fila + prof."
   ]
  },
  {
   "cell_type": "code",
   "execution_count": 57,
   "id": "5028d756",
   "metadata": {},
   "outputs": [
    {
     "data": {
      "text/plain": [
       "array([[1],\n",
       "       [2],\n",
       "       [3]])"
      ]
     },
     "execution_count": 57,
     "metadata": {},
     "output_type": "execute_result"
    }
   ],
   "source": [
    "x[0] # primer fila + prof."
   ]
  },
  {
   "cell_type": "code",
   "execution_count": 60,
   "id": "03237845",
   "metadata": {},
   "outputs": [
    {
     "data": {
      "text/plain": [
       "array([[[1],\n",
       "        [2],\n",
       "        [3]],\n",
       "\n",
       "       [[4],\n",
       "        [5],\n",
       "        [6]]])"
      ]
     },
     "execution_count": 60,
     "metadata": {},
     "output_type": "execute_result"
    }
   ],
   "source": [
    "x[0:2]"
   ]
  },
  {
   "cell_type": "markdown",
   "id": "d098e51a",
   "metadata": {},
   "source": [
    "### Dimensional indexing tools"
   ]
  },
  {
   "cell_type": "markdown",
   "id": "21422513",
   "metadata": {},
   "source": [
    "There are some tools to facilitate the easy matching of array shapes with expressions and in assignments.\n",
    "\n",
    "Ellipsis expands to the number of : objects needed for the selection tuple to index all dimensions. In most cases, this means that the length of the expanded selection tuple is x.ndim. There may only be a single ellipsis present. From the above example:"
   ]
  },
  {
   "cell_type": "code",
   "execution_count": 80,
   "id": "35846c4d",
   "metadata": {},
   "outputs": [
    {
     "data": {
      "text/plain": [
       "(array([[[1],\n",
       "         [2],\n",
       "         [3]],\n",
       " \n",
       "        [[4],\n",
       "         [5],\n",
       "         [6]]]),\n",
       " (2, 3, 1))"
      ]
     },
     "execution_count": 80,
     "metadata": {},
     "output_type": "execute_result"
    }
   ],
   "source": [
    "x = np.array([[[1],[2],[3]], [[4],[5],[6]]])\n",
    "\n",
    "x, x.shape"
   ]
  },
  {
   "cell_type": "code",
   "execution_count": 83,
   "id": "872a7e76",
   "metadata": {},
   "outputs": [
    {
     "data": {
      "text/plain": [
       "array([[1, 2, 3],\n",
       "       [4, 5, 6]])"
      ]
     },
     "execution_count": 83,
     "metadata": {},
     "output_type": "execute_result"
    }
   ],
   "source": [
    "\n",
    "x[..., 0] # idem que x[:, :, 0]\n"
   ]
  },
  {
   "cell_type": "code",
   "execution_count": 82,
   "id": "8126b92f",
   "metadata": {},
   "outputs": [
    {
     "data": {
      "text/plain": [
       "array([[1],\n",
       "       [2],\n",
       "       [3]])"
      ]
     },
     "execution_count": 82,
     "metadata": {},
     "output_type": "execute_result"
    }
   ],
   "source": [
    "x[0,...] # mismo que x[0,:,:]"
   ]
  },
  {
   "cell_type": "markdown",
   "id": "43ed396f",
   "metadata": {},
   "source": [
    "Each newaxis object in the selection tuple serves to expand the dimensions of the resulting selection by one unit-length dimension. The added dimension is the position of the newaxis object in the selection tuple. newaxis is an alias for None, and None can be used in place of this with the same result. From the above example:"
   ]
  },
  {
   "cell_type": "code",
   "execution_count": 87,
   "id": "961226f1",
   "metadata": {},
   "outputs": [
    {
     "name": "stdout",
     "output_type": "stream",
     "text": [
      "(2, 3, 1)\n"
     ]
    },
    {
     "data": {
      "text/plain": [
       "(2, 1, 3, 1)"
      ]
     },
     "execution_count": 87,
     "metadata": {},
     "output_type": "execute_result"
    }
   ],
   "source": [
    "print(x.shape)\n",
    "\n",
    "x[:, np.newaxis, :, :].shape"
   ]
  },
  {
   "cell_type": "code",
   "execution_count": 88,
   "id": "da89fc63",
   "metadata": {},
   "outputs": [],
   "source": [
    "#https://www.pythoninformer.com/python-libraries/numpy/index-and-slice/"
   ]
  },
  {
   "cell_type": "code",
   "execution_count": 106,
   "id": "5b339062",
   "metadata": {},
   "outputs": [
    {
     "data": {
      "text/plain": [
       "(3, 3, 3)"
      ]
     },
     "execution_count": 106,
     "metadata": {},
     "output_type": "execute_result"
    }
   ],
   "source": [
    "a3 = np.array([\n",
    "                [\n",
    "                    [10, 11, 12], [13, 14, 15], [16, 17, 18]\n",
    "                ],\n",
    "                [\n",
    "                    [20, 21, 22], [23, 24, 25], [26, 27, 28]\n",
    "                ],\n",
    "                [\n",
    "                    [30, 31, 32], [33, 34, 35], [36, 37, 38]\n",
    "                ]\n",
    "            ])\n",
    "\n",
    "a3.shape"
   ]
  },
  {
   "cell_type": "markdown",
   "id": "f5410188",
   "metadata": {},
   "source": [
    "<img src=\"images/tridimensional.png\">"
   ]
  },
  {
   "cell_type": "code",
   "execution_count": 90,
   "id": "7c3d6435",
   "metadata": {},
   "outputs": [
    {
     "data": {
      "text/plain": [
       "array([[[10, 11, 12],\n",
       "        [13, 14, 15],\n",
       "        [16, 17, 18]],\n",
       "\n",
       "       [[20, 21, 22],\n",
       "        [23, 24, 25],\n",
       "        [26, 27, 28]],\n",
       "\n",
       "       [[30, 31, 32],\n",
       "        [33, 34, 35],\n",
       "        [36, 37, 38]]])"
      ]
     },
     "execution_count": 90,
     "metadata": {},
     "output_type": "execute_result"
    }
   ],
   "source": [
    "a3"
   ]
  },
  {
   "cell_type": "code",
   "execution_count": 99,
   "id": "965b2069",
   "metadata": {},
   "outputs": [
    {
     "data": {
      "text/plain": [
       "array([[10, 11, 12],\n",
       "       [20, 21, 22],\n",
       "       [30, 31, 32]])"
      ]
     },
     "execution_count": 99,
     "metadata": {},
     "output_type": "execute_result"
    }
   ],
   "source": [
    "a3[:,0,:] # fila 0 de cada uno; "
   ]
  },
  {
   "cell_type": "code",
   "execution_count": 101,
   "id": "e9d84609",
   "metadata": {},
   "outputs": [
    {
     "data": {
      "text/plain": [
       "array([[10, 13, 16],\n",
       "       [20, 23, 26],\n",
       "       [30, 33, 36]])"
      ]
     },
     "execution_count": 101,
     "metadata": {},
     "output_type": "execute_result"
    }
   ],
   "source": [
    "a3[:,:,0] # columna 0; valor de k?"
   ]
  },
  {
   "cell_type": "code",
   "execution_count": 100,
   "id": "a89b9120",
   "metadata": {},
   "outputs": [
    {
     "data": {
      "text/plain": [
       "array([[10, 11, 12],\n",
       "       [13, 14, 15],\n",
       "       [16, 17, 18]])"
      ]
     },
     "execution_count": 100,
     "metadata": {},
     "output_type": "execute_result"
    }
   ],
   "source": [
    "a3[0,:,:] # profundidad 0"
   ]
  },
  {
   "cell_type": "code",
   "execution_count": 102,
   "id": "b063012b",
   "metadata": {},
   "outputs": [
    {
     "data": {
      "text/plain": [
       "array([10, 11, 12])"
      ]
     },
     "execution_count": 102,
     "metadata": {},
     "output_type": "execute_result"
    }
   ],
   "source": [
    "a3[0,0,:]"
   ]
  },
  {
   "cell_type": "code",
   "execution_count": 104,
   "id": "0cc7f641",
   "metadata": {},
   "outputs": [
    {
     "data": {
      "text/plain": [
       "array([10, 20, 30])"
      ]
     },
     "execution_count": 104,
     "metadata": {},
     "output_type": "execute_result"
    }
   ],
   "source": [
    "a3[:,0,0]"
   ]
  },
  {
   "cell_type": "code",
   "execution_count": 105,
   "id": "4cb28246",
   "metadata": {},
   "outputs": [
    {
     "data": {
      "text/plain": [
       "array([10, 13, 16])"
      ]
     },
     "execution_count": 105,
     "metadata": {},
     "output_type": "execute_result"
    }
   ],
   "source": [
    "a3[0,:,0]"
   ]
  },
  {
   "cell_type": "markdown",
   "id": "c36ef3dc",
   "metadata": {},
   "source": [
    "A 3D array is like a stack of matrices:\n",
    "\n",
    "    The first index, i, selects the matrix\n",
    "    The second index, j, selects the row\n",
    "    The third index, k, selects the column\n"
   ]
  },
  {
   "cell_type": "markdown",
   "id": "de9a4ec4",
   "metadata": {},
   "source": [
    "En un arreglo tridimensional (3D) en NumPy, cada dimensión representa una \"dimensión\" diferente en el conjunto de datos. Vamos a describir qué representa cada cosa en un arreglo 3D:\n",
    "\n",
    "    Primera Dimensión (Eje 0):\n",
    "        Esta dimensión se refiere a las \"capas\" o \"slices\" del arreglo.\n",
    "        Cada elemento a lo largo de esta dimensión es una matriz bidimensional, que se puede pensar como una \"hoja\" del arreglo tridimensional.\n",
    "        Por ejemplo, si tienes un arreglo tridimensional de forma (3, 2, 2), significa que hay 3 capas, cada una de las cuales es una matriz de 2x2.\n",
    "\n",
    "    Segunda Dimensión (Eje 1):\n",
    "        Esta dimensión representa las filas dentro de cada \"capa\" o \"slice\".\n",
    "        Cada elemento a lo largo de esta dimensión es una fila en la matriz bidimensional de cada capa.\n",
    "        Siguiendo el ejemplo, en un arreglo tridimensional de forma (3, 2, 2), hay 2 filas en cada capa.\n",
    "\n",
    "    Tercera Dimensión (Eje 2):\n",
    "        Esta dimensión representa las columnas dentro de cada \"capa\" o \"slice\".\n",
    "        Cada elemento a lo largo de esta dimensión es una columna en la matriz bidimensional de cada capa.\n",
    "        En el ejemplo (3, 2, 2), hay 2 columnas en cada capa.\n",
    "\n",
    "En resumen, en un arreglo tridimensional, la primera dimensión representa diferentes \"niveles\" o \"capas\", la segunda dimensión representa las filas dentro de cada capa, y la tercera dimensión representa las columnas dentro de cada capa. Puedes acceder a elementos individuales utilizando la notación de indexación, especificando el índice a lo largo de cada dimensión."
   ]
  },
  {
   "cell_type": "markdown",
   "id": "5ec3e1b7",
   "metadata": {},
   "source": [
    "<img src=\"images/axis_new.png\">"
   ]
  },
  {
   "cell_type": "code",
   "execution_count": 4,
   "id": "033c7e0c",
   "metadata": {},
   "outputs": [
    {
     "data": {
      "text/plain": [
       "array([[[ 0,  1,  2,  3],\n",
       "        [ 4,  5,  6,  7],\n",
       "        [ 8,  9, 10, 11]],\n",
       "\n",
       "       [[12, 13, 14, 15],\n",
       "        [16, 17, 18, 19],\n",
       "        [20, 21, 22, 23]]])"
      ]
     },
     "execution_count": 4,
     "metadata": {},
     "output_type": "execute_result"
    }
   ],
   "source": [
    "\n",
    "\n",
    "# arreglo de (2,3,4)\n",
    "\n",
    "import numpy as np\n",
    "\n",
    "\n",
    "aux = np.arange(24).reshape(2,3,4)\n",
    "\n",
    "aux"
   ]
  },
  {
   "cell_type": "code",
   "execution_count": 10,
   "id": "9811e03a",
   "metadata": {},
   "outputs": [
    {
     "name": "stdout",
     "output_type": "stream",
     "text": [
      "[[ 0  1  2  3]\n",
      " [ 4  5  6  7]\n",
      " [ 8  9 10 11]]\n",
      "\n",
      "(3, 4)\n"
     ]
    }
   ],
   "source": [
    "print(aux[0,:,:]) # primera profundidad\n",
    "print()\n",
    "print(aux[0,:,:].shape) # 3 filas, 4 columnas\n"
   ]
  },
  {
   "cell_type": "code",
   "execution_count": 12,
   "id": "d84feefb",
   "metadata": {},
   "outputs": [
    {
     "name": "stdout",
     "output_type": "stream",
     "text": [
      "[[ 0  1  2  3]\n",
      " [12 13 14 15]]\n",
      "\n",
      "(2, 4)\n"
     ]
    }
   ],
   "source": [
    "print(aux[:,0,:]) # primera fila de cada capa de profundidad\n",
    "print()\n",
    "print(aux[:,0,:].shape) # 2,4 (2 de prof, 4 cols)"
   ]
  },
  {
   "cell_type": "code",
   "execution_count": 13,
   "id": "62639af9",
   "metadata": {},
   "outputs": [
    {
     "name": "stdout",
     "output_type": "stream",
     "text": [
      "[[ 0  4  8]\n",
      " [12 16 20]]\n",
      "\n",
      "(2, 3)\n"
     ]
    }
   ],
   "source": [
    "print(aux[:,:,0]) # primera columna de cada capa\n",
    "print()\n",
    "print(aux[:,:,0].shape) # 2, 3"
   ]
  },
  {
   "cell_type": "code",
   "execution_count": 15,
   "id": "4b5625e7",
   "metadata": {},
   "outputs": [
    {
     "data": {
      "text/plain": [
       "array([[ 0,  4,  8],\n",
       "       [12, 16, 20]])"
      ]
     },
     "execution_count": 15,
     "metadata": {},
     "output_type": "execute_result"
    }
   ],
   "source": [
    "aux[...,0] # ídem que aux[:,:,0]"
   ]
  },
  {
   "cell_type": "code",
   "execution_count": 16,
   "id": "a50feba8",
   "metadata": {},
   "outputs": [
    {
     "data": {
      "text/plain": [
       "array([[ 0,  1,  2,  3],\n",
       "       [ 4,  5,  6,  7],\n",
       "       [ 8,  9, 10, 11]])"
      ]
     },
     "execution_count": 16,
     "metadata": {},
     "output_type": "execute_result"
    }
   ],
   "source": [
    "aux[0,...] # ídem que aux[0,:,:]"
   ]
  },
  {
   "cell_type": "code",
   "execution_count": 17,
   "id": "91b5bfc1",
   "metadata": {},
   "outputs": [
    {
     "data": {
      "text/plain": [
       "array([0, 4, 8])"
      ]
     },
     "execution_count": 17,
     "metadata": {},
     "output_type": "execute_result"
    }
   ],
   "source": [
    "aux[0,...,0] # agarra estas posiciones (0, 0, 0), (0, 1, 0) y (0, 2, 0) "
   ]
  },
  {
   "cell_type": "code",
   "execution_count": 21,
   "id": "91dd8451",
   "metadata": {},
   "outputs": [
    {
     "data": {
      "text/plain": [
       "array([[ 2,  6, 10],\n",
       "       [14, 18, 22]])"
      ]
     },
     "execution_count": 21,
     "metadata": {},
     "output_type": "execute_result"
    }
   ],
   "source": [
    "\n",
    "\n",
    "aux[:,:,-2] # anteúltima columna de cada capa de profundidad\n"
   ]
  },
  {
   "cell_type": "code",
   "execution_count": 27,
   "id": "5dcd791e",
   "metadata": {},
   "outputs": [
    {
     "name": "stdout",
     "output_type": "stream",
     "text": [
      "[[[ 0  1]\n",
      "  [ 4  5]\n",
      "  [ 8  9]]\n",
      "\n",
      " [[12 13]\n",
      "  [16 17]\n",
      "  [20 21]]]\n",
      "\n",
      "(2, 3, 2)\n"
     ]
    }
   ],
   "source": [
    "print(aux[:,:,:2]) # primeras 2 columnas de cada capa de profundidad, todas las filas \n",
    "\n",
    "print()\n",
    "\n",
    "print(aux[:,:,:2].shape)\n"
   ]
  },
  {
   "cell_type": "code",
   "execution_count": 29,
   "id": "6ba712f9",
   "metadata": {},
   "outputs": [
    {
     "name": "stdout",
     "output_type": "stream",
     "text": [
      "[[[ 2  3]\n",
      "  [ 6  7]\n",
      "  [10 11]]\n",
      "\n",
      " [[14 15]\n",
      "  [18 19]\n",
      "  [22 23]]]\n",
      "\n",
      "(2, 3, 2)\n"
     ]
    }
   ],
   "source": [
    "print(aux[:,:,2:]) # últimas 2 columnas de cada capa de profundidad, todas las filas\n",
    "\n",
    "print()\n",
    "\n",
    "print(aux[:,:,2:].shape)"
   ]
  },
  {
   "cell_type": "code",
   "execution_count": null,
   "id": "2c2e8522",
   "metadata": {},
   "outputs": [],
   "source": []
  }
 ],
 "metadata": {
  "kernelspec": {
   "display_name": "Python 3 (ipykernel)",
   "language": "python",
   "name": "python3"
  },
  "language_info": {
   "codemirror_mode": {
    "name": "ipython",
    "version": 3
   },
   "file_extension": ".py",
   "mimetype": "text/x-python",
   "name": "python",
   "nbconvert_exporter": "python",
   "pygments_lexer": "ipython3",
   "version": "3.10.12"
  }
 },
 "nbformat": 4,
 "nbformat_minor": 5
}
