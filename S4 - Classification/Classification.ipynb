{
 "cells": [
  {
   "cell_type": "markdown",
   "id": "0e66811f",
   "metadata": {},
   "source": [
    "# CLASSIFICATION"
   ]
  },
  {
   "cell_type": "markdown",
   "id": "82075e1b",
   "metadata": {},
   "source": [
    "Tipos de problemas de clasificación\n",
    "\n",
    "- Binaria\n",
    "    - Se debe clasificar entre 2 clases (ejemplo: es un perro o un gato)\n",
    "\n",
    "- Multiclase\n",
    "    - Se debe clasfificar entre múltiples clases (ejemplo: es un dígito entre el 0 y el 9)\n",
    "\n",
    "- Multi-output\n",
    "    - Cada ejemplo puede tener más de 1 etiqueta (ejemplo: en una imagen hay un auto, un árbol y una persona; cualquier combinación de ellos)\n"
   ]
  },
  {
   "cell_type": "markdown",
   "id": "79d5146b",
   "metadata": {},
   "source": [
    "## Binary Classification"
   ]
  },
  {
   "cell_type": "markdown",
   "id": "5389a87f",
   "metadata": {},
   "source": [
    "Recomendaciones en la elección de los hiperparámetros\n",
    "\n",
    "\n",
    "\n",
    "----> tabla!!!!!\n",
    "\n",
    "\n"
   ]
  },
  {
   "cell_type": "code",
   "execution_count": 4,
   "id": "fb03cb36",
   "metadata": {},
   "outputs": [],
   "source": [
    "#https://www.kaggle.com/code/ryanholbrook/binary-classification\n",
    "#https://www.kaggle.com/code/marcosnicolsgarca/exercise-binary-classification/edit"
   ]
  },
  {
   "cell_type": "code",
   "execution_count": 1,
   "id": "72d64300",
   "metadata": {},
   "outputs": [],
   "source": [
    "import pandas as pd"
   ]
  },
  {
   "cell_type": "code",
   "execution_count": 2,
   "id": "795072d6",
   "metadata": {},
   "outputs": [
    {
     "data": {
      "text/html": [
       "<div>\n",
       "<style scoped>\n",
       "    .dataframe tbody tr th:only-of-type {\n",
       "        vertical-align: middle;\n",
       "    }\n",
       "\n",
       "    .dataframe tbody tr th {\n",
       "        vertical-align: top;\n",
       "    }\n",
       "\n",
       "    .dataframe thead th {\n",
       "        text-align: right;\n",
       "    }\n",
       "</style>\n",
       "<table border=\"1\" class=\"dataframe\">\n",
       "  <thead>\n",
       "    <tr style=\"text-align: right;\">\n",
       "      <th></th>\n",
       "      <th>hotel</th>\n",
       "      <th>is_canceled</th>\n",
       "      <th>lead_time</th>\n",
       "      <th>arrival_date_year</th>\n",
       "      <th>arrival_date_month</th>\n",
       "      <th>arrival_date_week_number</th>\n",
       "      <th>arrival_date_day_of_month</th>\n",
       "      <th>stays_in_weekend_nights</th>\n",
       "      <th>stays_in_week_nights</th>\n",
       "      <th>adults</th>\n",
       "      <th>...</th>\n",
       "      <th>deposit_type</th>\n",
       "      <th>agent</th>\n",
       "      <th>company</th>\n",
       "      <th>days_in_waiting_list</th>\n",
       "      <th>customer_type</th>\n",
       "      <th>adr</th>\n",
       "      <th>required_car_parking_spaces</th>\n",
       "      <th>total_of_special_requests</th>\n",
       "      <th>reservation_status</th>\n",
       "      <th>reservation_status_date</th>\n",
       "    </tr>\n",
       "  </thead>\n",
       "  <tbody>\n",
       "    <tr>\n",
       "      <th>0</th>\n",
       "      <td>Resort Hotel</td>\n",
       "      <td>0</td>\n",
       "      <td>342</td>\n",
       "      <td>2015</td>\n",
       "      <td>July</td>\n",
       "      <td>27</td>\n",
       "      <td>1</td>\n",
       "      <td>0</td>\n",
       "      <td>0</td>\n",
       "      <td>2</td>\n",
       "      <td>...</td>\n",
       "      <td>No Deposit</td>\n",
       "      <td>NaN</td>\n",
       "      <td>NaN</td>\n",
       "      <td>0</td>\n",
       "      <td>Transient</td>\n",
       "      <td>0.0</td>\n",
       "      <td>0</td>\n",
       "      <td>0</td>\n",
       "      <td>Check-Out</td>\n",
       "      <td>01/07/2015</td>\n",
       "    </tr>\n",
       "    <tr>\n",
       "      <th>1</th>\n",
       "      <td>Resort Hotel</td>\n",
       "      <td>0</td>\n",
       "      <td>737</td>\n",
       "      <td>2015</td>\n",
       "      <td>July</td>\n",
       "      <td>27</td>\n",
       "      <td>1</td>\n",
       "      <td>0</td>\n",
       "      <td>0</td>\n",
       "      <td>2</td>\n",
       "      <td>...</td>\n",
       "      <td>No Deposit</td>\n",
       "      <td>NaN</td>\n",
       "      <td>NaN</td>\n",
       "      <td>0</td>\n",
       "      <td>Transient</td>\n",
       "      <td>0.0</td>\n",
       "      <td>0</td>\n",
       "      <td>0</td>\n",
       "      <td>Check-Out</td>\n",
       "      <td>01/07/2015</td>\n",
       "    </tr>\n",
       "    <tr>\n",
       "      <th>2</th>\n",
       "      <td>Resort Hotel</td>\n",
       "      <td>0</td>\n",
       "      <td>7</td>\n",
       "      <td>2015</td>\n",
       "      <td>July</td>\n",
       "      <td>27</td>\n",
       "      <td>1</td>\n",
       "      <td>0</td>\n",
       "      <td>1</td>\n",
       "      <td>1</td>\n",
       "      <td>...</td>\n",
       "      <td>No Deposit</td>\n",
       "      <td>NaN</td>\n",
       "      <td>NaN</td>\n",
       "      <td>0</td>\n",
       "      <td>Transient</td>\n",
       "      <td>75.0</td>\n",
       "      <td>0</td>\n",
       "      <td>0</td>\n",
       "      <td>Check-Out</td>\n",
       "      <td>02/07/2015</td>\n",
       "    </tr>\n",
       "    <tr>\n",
       "      <th>3</th>\n",
       "      <td>Resort Hotel</td>\n",
       "      <td>0</td>\n",
       "      <td>13</td>\n",
       "      <td>2015</td>\n",
       "      <td>July</td>\n",
       "      <td>27</td>\n",
       "      <td>1</td>\n",
       "      <td>0</td>\n",
       "      <td>1</td>\n",
       "      <td>1</td>\n",
       "      <td>...</td>\n",
       "      <td>No Deposit</td>\n",
       "      <td>304.0</td>\n",
       "      <td>NaN</td>\n",
       "      <td>0</td>\n",
       "      <td>Transient</td>\n",
       "      <td>75.0</td>\n",
       "      <td>0</td>\n",
       "      <td>0</td>\n",
       "      <td>Check-Out</td>\n",
       "      <td>02/07/2015</td>\n",
       "    </tr>\n",
       "    <tr>\n",
       "      <th>4</th>\n",
       "      <td>Resort Hotel</td>\n",
       "      <td>0</td>\n",
       "      <td>14</td>\n",
       "      <td>2015</td>\n",
       "      <td>July</td>\n",
       "      <td>27</td>\n",
       "      <td>1</td>\n",
       "      <td>0</td>\n",
       "      <td>2</td>\n",
       "      <td>2</td>\n",
       "      <td>...</td>\n",
       "      <td>No Deposit</td>\n",
       "      <td>240.0</td>\n",
       "      <td>NaN</td>\n",
       "      <td>0</td>\n",
       "      <td>Transient</td>\n",
       "      <td>98.0</td>\n",
       "      <td>0</td>\n",
       "      <td>1</td>\n",
       "      <td>Check-Out</td>\n",
       "      <td>03/07/2015</td>\n",
       "    </tr>\n",
       "  </tbody>\n",
       "</table>\n",
       "<p>5 rows × 32 columns</p>\n",
       "</div>"
      ],
      "text/plain": [
       "          hotel  is_canceled  lead_time  arrival_date_year arrival_date_month  \\\n",
       "0  Resort Hotel            0        342               2015               July   \n",
       "1  Resort Hotel            0        737               2015               July   \n",
       "2  Resort Hotel            0          7               2015               July   \n",
       "3  Resort Hotel            0         13               2015               July   \n",
       "4  Resort Hotel            0         14               2015               July   \n",
       "\n",
       "   arrival_date_week_number  arrival_date_day_of_month  \\\n",
       "0                        27                          1   \n",
       "1                        27                          1   \n",
       "2                        27                          1   \n",
       "3                        27                          1   \n",
       "4                        27                          1   \n",
       "\n",
       "   stays_in_weekend_nights  stays_in_week_nights  adults  ...  deposit_type  \\\n",
       "0                        0                     0       2  ...    No Deposit   \n",
       "1                        0                     0       2  ...    No Deposit   \n",
       "2                        0                     1       1  ...    No Deposit   \n",
       "3                        0                     1       1  ...    No Deposit   \n",
       "4                        0                     2       2  ...    No Deposit   \n",
       "\n",
       "   agent company days_in_waiting_list customer_type   adr  \\\n",
       "0    NaN     NaN                    0     Transient   0.0   \n",
       "1    NaN     NaN                    0     Transient   0.0   \n",
       "2    NaN     NaN                    0     Transient  75.0   \n",
       "3  304.0     NaN                    0     Transient  75.0   \n",
       "4  240.0     NaN                    0     Transient  98.0   \n",
       "\n",
       "   required_car_parking_spaces  total_of_special_requests  reservation_status  \\\n",
       "0                            0                          0           Check-Out   \n",
       "1                            0                          0           Check-Out   \n",
       "2                            0                          0           Check-Out   \n",
       "3                            0                          0           Check-Out   \n",
       "4                            0                          1           Check-Out   \n",
       "\n",
       "  reservation_status_date  \n",
       "0              01/07/2015  \n",
       "1              01/07/2015  \n",
       "2              02/07/2015  \n",
       "3              02/07/2015  \n",
       "4              03/07/2015  \n",
       "\n",
       "[5 rows x 32 columns]"
      ]
     },
     "execution_count": 2,
     "metadata": {},
     "output_type": "execute_result"
    }
   ],
   "source": [
    "\n",
    "hotel = pd.read_csv('data/BookingCancellation.csv')\n",
    "\n",
    "hotel.head()"
   ]
  },
  {
   "cell_type": "code",
   "execution_count": 3,
   "id": "254c572b",
   "metadata": {},
   "outputs": [
    {
     "data": {
      "text/plain": [
       "(119390, 32)"
      ]
     },
     "execution_count": 3,
     "metadata": {},
     "output_type": "execute_result"
    }
   ],
   "source": [
    "hotel.shape"
   ]
  },
  {
   "cell_type": "code",
   "execution_count": 4,
   "id": "5f517a60",
   "metadata": {},
   "outputs": [
    {
     "data": {
      "text/plain": [
       "hotel                                  0\n",
       "is_canceled                            0\n",
       "lead_time                              0\n",
       "arrival_date_year                      0\n",
       "arrival_date_month                     0\n",
       "arrival_date_week_number               0\n",
       "arrival_date_day_of_month              0\n",
       "stays_in_weekend_nights                0\n",
       "stays_in_week_nights                   0\n",
       "adults                                 0\n",
       "children                               4\n",
       "babies                                 0\n",
       "meal                                   0\n",
       "country                              488\n",
       "market_segment                         0\n",
       "distribution_channel                   0\n",
       "is_repeated_guest                      0\n",
       "previous_cancellations                 0\n",
       "previous_bookings_not_canceled         0\n",
       "reserved_room_type                     0\n",
       "assigned_room_type                     0\n",
       "booking_changes                        0\n",
       "deposit_type                           0\n",
       "agent                              16340\n",
       "company                           112593\n",
       "days_in_waiting_list                   0\n",
       "customer_type                          0\n",
       "adr                                    0\n",
       "required_car_parking_spaces            0\n",
       "total_of_special_requests              0\n",
       "reservation_status                     0\n",
       "reservation_status_date                0\n",
       "dtype: int64"
      ]
     },
     "execution_count": 4,
     "metadata": {},
     "output_type": "execute_result"
    }
   ],
   "source": [
    "hotel.isnull().sum()"
   ]
  },
  {
   "cell_type": "code",
   "execution_count": 5,
   "id": "cee8c783",
   "metadata": {},
   "outputs": [
    {
     "data": {
      "text/plain": [
       "'\\n\\n# preprocess,\\n\\n# nulos; var. categóricas.....\\n\\n\\n#for h in hotel.columns:\\n#    print(hotel[h].dtype)\\n\\n\\n#any(palabra in hotel for palabra in palabras_a_verificar)\\n#hotel[h].dtype==\\'int64\\']\\n\\n\\npalabras_a_verificar = [\\'int\\',\\'float\\']\\n\\nfeatures_num = [h for h in hotel.columns if any(palabra in str(hotel[h].dtype) for palabra in palabras_a_verificar)]\\n\\nprint(features_num)\\n\\n\\n\\n\\n[\\'is_canceled\\', \\'lead_time\\', \\n \\'arrival_date_year\\', \\n \\'arrival_date_week_number\\', \\n \\'arrival_date_day_of_month\\', \\n \\'stays_in_weekend_nights\\', \\n \\'stays_in_week_nights\\', \\n \\'adults\\', \\n \\'children\\', \\'babies\\', \\'is_repeated_guest\\', \\n \\'previous_cancellations\\', \\n \\'previous_bookings_not_canceled\\', \\n \\'booking_changes\\', \\'agent\\', \\n \\'company\\', \\n \\'days_in_waiting_list\\', \\'adr\\', \\n \\'required_car_parking_spaces\\', \\n \\'total_of_special_requests\\']\\n\\n\\nfeatures_num2 = [\\n    \"lead_time\", \\n    \"arrival_date_week_number\",\\n    \"arrival_date_day_of_month\", \\n    \"stays_in_weekend_nights\",\\n    \"stays_in_week_nights\", \\n    \"adults\", \"children\", \\n    \"babies\",\\n    \"is_repeated_guest\", \\n    \"previous_cancellations\",\\n    \"previous_bookings_not_canceled\", \\n    \"required_car_parking_spaces\",\\n    \"total_of_special_requests\", \\n    \"adr\",\\n]\\n\\n\\n\\n\\n\\nprint(len(features_num ))\\n\\n\\n\\nprint(len(features_num2 ))\\n\\n\\n\\ncolumnas_numericas = hotel.select_dtypes(include=[\\'int\\', \\'float\\'])\\nlist(columnas_numericas.columns)\\n\\n\\nprint(len(columnas_numericas.columns))\\n\\n\\n'"
      ]
     },
     "execution_count": 5,
     "metadata": {},
     "output_type": "execute_result"
    }
   ],
   "source": [
    "\n",
    "\n",
    "\n",
    "\n",
    "\"\"\"\n",
    "\n",
    "# preprocess,\n",
    "\n",
    "# nulos; var. categóricas.....\n",
    "\n",
    "\n",
    "#for h in hotel.columns:\n",
    "#    print(hotel[h].dtype)\n",
    "\n",
    "\n",
    "#any(palabra in hotel for palabra in palabras_a_verificar)\n",
    "#hotel[h].dtype=='int64']\n",
    "\n",
    "\n",
    "palabras_a_verificar = ['int','float']\n",
    "\n",
    "features_num = [h for h in hotel.columns if any(palabra in str(hotel[h].dtype) for palabra in palabras_a_verificar)]\n",
    "\n",
    "print(features_num)\n",
    "\n",
    "\n",
    "\n",
    "\n",
    "['is_canceled', 'lead_time', \n",
    " 'arrival_date_year', \n",
    " 'arrival_date_week_number', \n",
    " 'arrival_date_day_of_month', \n",
    " 'stays_in_weekend_nights', \n",
    " 'stays_in_week_nights', \n",
    " 'adults', \n",
    " 'children', 'babies', 'is_repeated_guest', \n",
    " 'previous_cancellations', \n",
    " 'previous_bookings_not_canceled', \n",
    " 'booking_changes', 'agent', \n",
    " 'company', \n",
    " 'days_in_waiting_list', 'adr', \n",
    " 'required_car_parking_spaces', \n",
    " 'total_of_special_requests']\n",
    "\n",
    "\n",
    "features_num2 = [\n",
    "    \"lead_time\", \n",
    "    \"arrival_date_week_number\",\n",
    "    \"arrival_date_day_of_month\", \n",
    "    \"stays_in_weekend_nights\",\n",
    "    \"stays_in_week_nights\", \n",
    "    \"adults\", \"children\", \n",
    "    \"babies\",\n",
    "    \"is_repeated_guest\", \n",
    "    \"previous_cancellations\",\n",
    "    \"previous_bookings_not_canceled\", \n",
    "    \"required_car_parking_spaces\",\n",
    "    \"total_of_special_requests\", \n",
    "    \"adr\",\n",
    "]\n",
    "\n",
    "\n",
    "\n",
    "\n",
    "\n",
    "print(len(features_num ))\n",
    "\n",
    "\n",
    "\n",
    "print(len(features_num2 ))\n",
    "\n",
    "\n",
    "\n",
    "columnas_numericas = hotel.select_dtypes(include=['int', 'float'])\n",
    "list(columnas_numericas.columns)\n",
    "\n",
    "\n",
    "print(len(columnas_numericas.columns))\n",
    "\n",
    "\n",
    "\"\"\"\n"
   ]
  },
  {
   "cell_type": "code",
   "execution_count": 6,
   "id": "6554a228",
   "metadata": {},
   "outputs": [],
   "source": [
    "from sklearn.model_selection import train_test_split\n",
    "from sklearn.preprocessing import StandardScaler, OneHotEncoder\n",
    "from sklearn.impute import SimpleImputer\n",
    "from sklearn.pipeline import make_pipeline\n",
    "from sklearn.compose import make_column_transformer\n",
    "\n",
    "X = hotel.copy()\n",
    "y = X.pop('is_canceled')\n",
    "\n",
    "X['arrival_date_month'] = \\\n",
    "    X['arrival_date_month'].map(\n",
    "        {'January':1, 'February': 2, 'March':3,\n",
    "         'April':4, 'May':5, 'June':6, 'July':7,\n",
    "         'August':8, 'September':9, 'October':10,\n",
    "         'November':11, 'December':12}\n",
    "    )\n",
    "\n",
    "\n",
    "# vars. numéricas\n",
    "features_num = [\n",
    "    \"lead_time\", \"arrival_date_week_number\",\n",
    "    \"arrival_date_day_of_month\", \"stays_in_weekend_nights\",\n",
    "    \"stays_in_week_nights\", \"adults\", \"children\", \"babies\",\n",
    "    \"is_repeated_guest\", \"previous_cancellations\",\n",
    "    \"previous_bookings_not_canceled\", \"required_car_parking_spaces\",\n",
    "    \"total_of_special_requests\", \"adr\",\n",
    "]\n",
    "\n",
    "# vars. catg.\n",
    "features_cat = [\n",
    "    \"hotel\", \"arrival_date_month\", \"meal\",\n",
    "    \"market_segment\", \"distribution_channel\",\n",
    "    \"reserved_room_type\", \"deposit_type\", \"customer_type\",\n",
    "]\n",
    "\n",
    "\n",
    "\n",
    "# SimpleImputer remplaza los valores faltantes\n",
    "\n",
    "# StandardScaler -> Standardize features by removing the mean and scaling to unit variance.\n",
    "\n",
    "\n",
    "\n",
    "# transfomer para las variables numéricas\n",
    "\n",
    "transformer_num = make_pipeline(\n",
    "    SimpleImputer(strategy=\"constant\"), # there are a few missing values\n",
    "    StandardScaler(),\n",
    ")\n",
    "\n",
    "\n",
    "\n",
    "# transformer para las categóricas\n",
    "transformer_cat = make_pipeline(\n",
    "    SimpleImputer(strategy=\"constant\", fill_value=\"NA\"),\n",
    "    OneHotEncoder(handle_unknown='ignore'),\n",
    ")\n",
    "\n",
    "\n",
    "\n",
    "# make_column_:transfoerm -> Construct a ColumnTransformer from the given transformers.\n",
    "\n",
    "preprocessor = make_column_transformer(\n",
    "    (transformer_num, features_num),\n",
    "    (transformer_cat, features_cat),\n",
    ")\n",
    "\n",
    "\n",
    "\n",
    "# train test split\n",
    "\n",
    "\n",
    "\n",
    "# stratify - make sure classes are evenlly represented across splits\n",
    "X_train, X_test, y_train, y_test = \\\n",
    "    train_test_split(X, y, stratify=y, train_size=0.75)\n",
    "\n",
    "X_train = preprocessor.fit_transform(X_train)\n",
    "X_test = preprocessor.transform(X_test)\n",
    "\n",
    "input_shape = [X_train.shape[1]]\n",
    "\n",
    "\n",
    "# TIENE MAYOR TAMAÑO POR EL ONE-HOT ENCODING!! (63 en vez de 32)\n",
    "\n",
    "\n",
    "\n",
    "\n"
   ]
  },
  {
   "cell_type": "code",
   "execution_count": 7,
   "id": "ed974813",
   "metadata": {},
   "outputs": [
    {
     "data": {
      "text/plain": [
       "(89542, 63)"
      ]
     },
     "execution_count": 7,
     "metadata": {},
     "output_type": "execute_result"
    }
   ],
   "source": [
    "X_train.shape"
   ]
  },
  {
   "cell_type": "code",
   "execution_count": 8,
   "id": "b60dae4f",
   "metadata": {},
   "outputs": [
    {
     "name": "stderr",
     "output_type": "stream",
     "text": [
      "2023-11-15 16:26:22.891498: I tensorflow/tsl/cuda/cudart_stub.cc:28] Could not find cuda drivers on your machine, GPU will not be used.\n",
      "2023-11-15 16:26:23.152636: I tensorflow/tsl/cuda/cudart_stub.cc:28] Could not find cuda drivers on your machine, GPU will not be used.\n",
      "2023-11-15 16:26:23.153497: I tensorflow/core/platform/cpu_feature_guard.cc:182] This TensorFlow binary is optimized to use available CPU instructions in performance-critical operations.\n",
      "To enable the following instructions: AVX2 FMA, in other operations, rebuild TensorFlow with the appropriate compiler flags.\n",
      "2023-11-15 16:26:24.338726: W tensorflow/compiler/tf2tensorrt/utils/py_utils.cc:38] TF-TRT Warning: Could not find TensorRT\n"
     ]
    }
   ],
   "source": [
    "from tensorflow import keras\n",
    "from tensorflow.keras import layers\n",
    "\n"
   ]
  },
  {
   "cell_type": "code",
   "execution_count": 10,
   "id": "a0133555",
   "metadata": {},
   "outputs": [],
   "source": [
    "# primer modelo, bien sencillo\n",
    "\n",
    "simple_model = keras.Sequential([\n",
    "    layers.Dense(20,activation='relu',input_shape=input_shape),\n",
    "    layers.Dense(20,activation='relu'),\n",
    "    layers.Dense(20,activation='relu'),\n",
    "    layers.Dense(1,activation='sigmoid'),\n",
    "])\n",
    "\n",
    "\n",
    "\n",
    "simple_model.compile(\n",
    "    optimizer='adam',\n",
    "    loss='binary_crossentropy',\n",
    "    metrics=['accuracy']\n",
    ")\n",
    "\n",
    "\n",
    "early_stopping = keras.callbacks.EarlyStopping(\n",
    "        patience=10,\n",
    "        min_delta=0.001,\n",
    "        restore_best_weights=True,\n",
    "    )\n",
    "\n",
    "\n",
    "history1 = simple_model.fit(\n",
    "    X_train,y_train,\n",
    "    #validation_data=(X_test,y_test),\n",
    "    validation_split=0.2,\n",
    "    batch_size=512,\n",
    "    epochs=20,\n",
    "    callbacks=[early_stopping],\n",
    "    verbose=0\n",
    ")\n",
    "\n",
    "\n",
    "\n"
   ]
  },
  {
   "cell_type": "code",
   "execution_count": 11,
   "id": "7da3f390",
   "metadata": {},
   "outputs": [
    {
     "data": {
      "text/html": [
       "<div>\n",
       "<style scoped>\n",
       "    .dataframe tbody tr th:only-of-type {\n",
       "        vertical-align: middle;\n",
       "    }\n",
       "\n",
       "    .dataframe tbody tr th {\n",
       "        vertical-align: top;\n",
       "    }\n",
       "\n",
       "    .dataframe thead th {\n",
       "        text-align: right;\n",
       "    }\n",
       "</style>\n",
       "<table border=\"1\" class=\"dataframe\">\n",
       "  <thead>\n",
       "    <tr style=\"text-align: right;\">\n",
       "      <th></th>\n",
       "      <th>loss</th>\n",
       "      <th>accuracy</th>\n",
       "      <th>val_loss</th>\n",
       "      <th>val_accuracy</th>\n",
       "    </tr>\n",
       "  </thead>\n",
       "  <tbody>\n",
       "    <tr>\n",
       "      <th>0</th>\n",
       "      <td>0.548481</td>\n",
       "      <td>0.716471</td>\n",
       "      <td>0.461960</td>\n",
       "      <td>0.796304</td>\n",
       "    </tr>\n",
       "    <tr>\n",
       "      <th>1</th>\n",
       "      <td>0.433178</td>\n",
       "      <td>0.803177</td>\n",
       "      <td>0.417511</td>\n",
       "      <td>0.810431</td>\n",
       "    </tr>\n",
       "    <tr>\n",
       "      <th>2</th>\n",
       "      <td>0.412890</td>\n",
       "      <td>0.808915</td>\n",
       "      <td>0.408587</td>\n",
       "      <td>0.814730</td>\n",
       "    </tr>\n",
       "    <tr>\n",
       "      <th>3</th>\n",
       "      <td>0.405648</td>\n",
       "      <td>0.811162</td>\n",
       "      <td>0.404526</td>\n",
       "      <td>0.815121</td>\n",
       "    </tr>\n",
       "    <tr>\n",
       "      <th>4</th>\n",
       "      <td>0.401519</td>\n",
       "      <td>0.813047</td>\n",
       "      <td>0.401660</td>\n",
       "      <td>0.815344</td>\n",
       "    </tr>\n",
       "  </tbody>\n",
       "</table>\n",
       "</div>"
      ],
      "text/plain": [
       "       loss  accuracy  val_loss  val_accuracy\n",
       "0  0.548481  0.716471  0.461960      0.796304\n",
       "1  0.433178  0.803177  0.417511      0.810431\n",
       "2  0.412890  0.808915  0.408587      0.814730\n",
       "3  0.405648  0.811162  0.404526      0.815121\n",
       "4  0.401519  0.813047  0.401660      0.815344"
      ]
     },
     "execution_count": 11,
     "metadata": {},
     "output_type": "execute_result"
    }
   ],
   "source": [
    "history_df1 = pd.DataFrame(history1.history)\n",
    "\n",
    "\n",
    "history_df1.head()\n",
    "\n"
   ]
  },
  {
   "cell_type": "code",
   "execution_count": 12,
   "id": "76132d3f",
   "metadata": {},
   "outputs": [
    {
     "data": {
      "text/plain": [
       "<AxesSubplot:>"
      ]
     },
     "execution_count": 12,
     "metadata": {},
     "output_type": "execute_result"
    },
    {
     "data": {
      "image/png": "[encoded data removed]",
      "text/plain": [
       "<Figure size 640x480 with 1 Axes>"
      ]
     },
     "metadata": {},
     "output_type": "display_data"
    }
   ],
   "source": [
    "# Start the plot at epoch 5\n",
    "history_df1.loc[:, ['loss', 'val_loss']].plot()"
   ]
  },
  {
   "cell_type": "code",
   "execution_count": 13,
   "id": "50cd2579",
   "metadata": {},
   "outputs": [],
   "source": [
    "# matriz de confusión"
   ]
  },
  {
   "cell_type": "code",
   "execution_count": 14,
   "id": "9b2740c6",
   "metadata": {},
   "outputs": [],
   "source": [
    "import numpy as np"
   ]
  },
  {
   "cell_type": "code",
   "execution_count": 15,
   "id": "f177d91c",
   "metadata": {},
   "outputs": [],
   "source": [
    "import tensorflow as tf"
   ]
  },
  {
   "cell_type": "code",
   "execution_count": 16,
   "id": "16a117ff",
   "metadata": {},
   "outputs": [],
   "source": [
    "import matplotlib.pyplot as plt"
   ]
  },
  {
   "cell_type": "code",
   "execution_count": 19,
   "id": "8cc2ddb4",
   "metadata": {},
   "outputs": [
    {
     "name": "stdout",
     "output_type": "stream",
     "text": [
      "933/933 [==============================] - 1s 673us/step\n"
     ]
    },
    {
     "data": {
      "image/png": "[encoded data removed]",
      "text/plain": [
       "<Figure size 800x800 with 2 Axes>"
      ]
     },
     "metadata": {},
     "output_type": "display_data"
    }
   ],
   "source": [
    "\n",
    "from sklearn.metrics import confusion_matrix\n",
    "\n",
    "\n",
    "y_preds = simple_model.predict(X_test)\n",
    "\n",
    "\n",
    "\n",
    "import itertools\n",
    "\n",
    "figsize = (8, 8)\n",
    "\n",
    "\n",
    "\n",
    "\n",
    "\n",
    "def plot_confusion_matrix(y_test,y_pred):\n",
    "    \n",
    "\n",
    "    # Create the confusion matrix\n",
    "    cm = confusion_matrix(y_test,y_pred)\n",
    "    cm_norm = cm.astype(\"float\") / cm.sum(axis=1)[:, np.newaxis] # normalize our confusion matrix\n",
    "    n_classes = cm.shape[0]\n",
    "\n",
    "    # Let's prettify it\n",
    "    fig, ax = plt.subplots(figsize=figsize)\n",
    "    # Create a matrix plot\n",
    "    cax = ax.matshow(cm, cmap=plt.cm.Blues)\n",
    "    fig.colorbar(cax)\n",
    "\n",
    "    # Create classes\n",
    "    classes = False\n",
    "\n",
    "    if classes:\n",
    "      labels = classes\n",
    "    else:\n",
    "      labels = np.arange(cm.shape[0])\n",
    "\n",
    "    # Label the axes\n",
    "    ax.set(title=\"Confusion Matrix\",\n",
    "       xlabel=\"Predicted Label\",\n",
    "       ylabel=\"True Label\",\n",
    "       xticks=np.arange(n_classes),\n",
    "       yticks=np.arange(n_classes),\n",
    "       xticklabels=labels,\n",
    "       yticklabels=labels)\n",
    "\n",
    "    # Set x-axis labels to bottom\n",
    "    ax.xaxis.set_label_position(\"bottom\")\n",
    "    ax.xaxis.tick_bottom()\n",
    "\n",
    "    # Adjust label size\n",
    "    ax.yaxis.label.set_size(20)\n",
    "    ax.xaxis.label.set_size(20)\n",
    "    ax.title.set_size(20)\n",
    "\n",
    "    # Set threshold for different colors\n",
    "    threshold = (cm.max() + cm.min()) / 2.\n",
    "\n",
    "    # Plot the text on each cell\n",
    "    for i, j in itertools.product(range(cm.shape[0]), range(cm.shape[1])):\n",
    "      plt.text(j, i, f\"{cm[i, j]} ({cm_norm[i, j]*100:.1f}%)\",\n",
    "           horizontalalignment=\"center\",\n",
    "           color=\"white\" if cm[i, j] > threshold else \"black\",\n",
    "           size=15)\n",
    "    \n",
    "    \n",
    "    \n",
    "    \n",
    "plot_confusion_matrix(y_test, tf.round(y_preds))"
   ]
  },
  {
   "cell_type": "markdown",
   "id": "9368436a",
   "metadata": {},
   "source": [
    "no anda muy bieN, el mayor problema son los falsos negativos"
   ]
  },
  {
   "cell_type": "code",
   "execution_count": 20,
   "id": "ba969eb3",
   "metadata": {},
   "outputs": [
    {
     "name": "stdout",
     "output_type": "stream",
     "text": [
      "Model: \"sequential_1\"\n",
      "_________________________________________________________________\n",
      " Layer (type)                Output Shape              Param #   \n",
      "=================================================================\n",
      " dense_4 (Dense)             (None, 20)                1280      \n",
      "                                                                 \n",
      " dense_5 (Dense)             (None, 20)                420       \n",
      "                                                                 \n",
      " dense_6 (Dense)             (None, 20)                420       \n",
      "                                                                 \n",
      " dense_7 (Dense)             (None, 1)                 21        \n",
      "                                                                 \n",
      "=================================================================\n",
      "Total params: 2,141\n",
      "Trainable params: 2,141\n",
      "Non-trainable params: 0\n",
      "_________________________________________________________________\n"
     ]
    }
   ],
   "source": [
    "simple_model.summary()\n"
   ]
  },
  {
   "cell_type": "code",
   "execution_count": 21,
   "id": "79b80e94",
   "metadata": {},
   "outputs": [
    {
     "name": "stdout",
     "output_type": "stream",
     "text": [
      "933/933 - 1s - loss: 0.3953 - accuracy: 0.8173 - 628ms/epoch - 673us/step\n"
     ]
    },
    {
     "data": {
      "text/plain": [
       "[0.3952732980251312, 0.817307710647583]"
      ]
     },
     "execution_count": 21,
     "metadata": {},
     "output_type": "execute_result"
    }
   ],
   "source": [
    "simple_model.evaluate(X_test,y_test,verbose=2)"
   ]
  },
  {
   "cell_type": "markdown",
   "id": "e585e4c7",
   "metadata": {},
   "source": [
    "## segundo modelo"
   ]
  },
  {
   "cell_type": "code",
   "execution_count": 22,
   "id": "95edd651",
   "metadata": {},
   "outputs": [
    {
     "name": "stderr",
     "output_type": "stream",
     "text": [
      "/home/marcos/.local/lib/python3.10/site-packages/keras/engine/data_adapter.py:1700: FutureWarning: The behavior of `series[i:j]` with an integer-dtype index is deprecated. In a future version, this will be treated as *label-based* indexing, consistent with e.g. `series[i]` lookups. To retain the old behavior, use `series.iloc[i:j]`. To get the future behavior, use `series.loc[i:j]`.\n",
      "  return t[start:end]\n"
     ]
    }
   ],
   "source": [
    "\n",
    "\n",
    "model2 = keras.Sequential([\n",
    "    layers.BatchNormalization(),\n",
    "    layers.Dense(256,activation='relu'),\n",
    "    layers.BatchNormalization(),\n",
    "    layers.Dropout(rate=0.3),\n",
    "    layers.Dense(256,activation='relu'),\n",
    "    layers.BatchNormalization(),\n",
    "    layers.Dropout(rate=0.3),\n",
    "    layers.Dense(1,activation='sigmoid')\n",
    "])\n",
    "\n",
    "\n",
    "model2.compile(\n",
    "    optimizer='Adam',\n",
    "    loss='binary_crossentropy',\n",
    "    metrics=['accuracy']\n",
    ")\n",
    "\n",
    "\n",
    "\n",
    "early_stopping = keras.callbacks.EarlyStopping(\n",
    "        patience=20,\n",
    "        min_delta=0.001,\n",
    "        restore_best_weights=True,\n",
    "    )\n",
    "\n",
    "\n",
    "\n",
    "history2 = model2.fit(\n",
    "        X_train,y_train,\n",
    "        #validation_data=(X_test,y_test),\n",
    "        validation_split=0.2,\n",
    "        batch_size=512,\n",
    "        epochs=40,\n",
    "        callbacks=[early_stopping],\n",
    "        verbose=0\n",
    ")"
   ]
  },
  {
   "cell_type": "code",
   "execution_count": 23,
   "id": "fb5ec8fb",
   "metadata": {},
   "outputs": [],
   "source": [
    "history_df2 = pd.DataFrame(history2.history)"
   ]
  },
  {
   "cell_type": "code",
   "execution_count": 24,
   "id": "f753de30",
   "metadata": {},
   "outputs": [
    {
     "data": {
      "text/plain": [
       "<AxesSubplot:>"
      ]
     },
     "execution_count": 24,
     "metadata": {},
     "output_type": "execute_result"
    },
    {
     "data": {
      "image/png": "[encoded data removed]",
      "text/plain": [
       "<Figure size 640x480 with 1 Axes>"
      ]
     },
     "metadata": {},
     "output_type": "display_data"
    }
   ],
   "source": [
    "history_df2.plot()"
   ]
  },
  {
   "cell_type": "code",
   "execution_count": 25,
   "id": "e70a4c8b",
   "metadata": {},
   "outputs": [
    {
     "data": {
      "text/plain": [
       "<AxesSubplot:>"
      ]
     },
     "execution_count": 25,
     "metadata": {},
     "output_type": "execute_result"
    },
    {
     "data": {
      "image/png": "[encoded data removed]",
      "text/plain": [
       "<Figure size 640x480 with 1 Axes>"
      ]
     },
     "metadata": {},
     "output_type": "display_data"
    }
   ],
   "source": [
    "history_df2.loc[:, ['loss', 'val_loss']].plot()"
   ]
  },
  {
   "cell_type": "code",
   "execution_count": 26,
   "id": "99e412e1",
   "metadata": {},
   "outputs": [
    {
     "name": "stdout",
     "output_type": "stream",
     "text": [
      "933/933 [==============================] - 1s 1ms/step - loss: 0.3616 - accuracy: 0.8333\n"
     ]
    },
    {
     "data": {
      "text/plain": [
       "[0.3615846633911133, 0.8332551717758179]"
      ]
     },
     "execution_count": 26,
     "metadata": {},
     "output_type": "execute_result"
    }
   ],
   "source": [
    "model2.evaluate(X_test,y_test)"
   ]
  },
  {
   "cell_type": "markdown",
   "id": "544471fd",
   "metadata": {},
   "source": [
    "## ajuste de hiperparámetros para el segundo modelo"
   ]
  },
  {
   "cell_type": "code",
   "execution_count": 27,
   "id": "4c76debf",
   "metadata": {},
   "outputs": [],
   "source": [
    "import keras_tuner"
   ]
  },
  {
   "cell_type": "code",
   "execution_count": 28,
   "id": "dc31faeb",
   "metadata": {},
   "outputs": [],
   "source": [
    "\n",
    "\n",
    "\n",
    "\n",
    "def build_model(hp):\n",
    "    model = keras.Sequential([\n",
    "        layers.BatchNormalization(),\n",
    "        layers.Dense(hp.Choice('units1', [256, 512]),activation='relu'), #units1\n",
    "        layers.BatchNormalization(),\n",
    "        layers.Dropout(hp.Choice('rate1', [0.1, 0.3,0.5])),\n",
    "        layers.Dense(hp.Choice('units2', [256, 512]),activation='relu'),\n",
    "        layers.BatchNormalization(),\n",
    "        layers.Dropout(hp.Choice('rate2', [0.1, 0.3,0.5])),\n",
    "        layers.Dense(1,activation='sigmoid'),\n",
    "    ])\n",
    "                     \n",
    "    lr = hp.Choice(\"learning_rate\",values=[1e-1, 1e-2, 1e-3])\n",
    "    opt = keras.optimizers.Adam(learning_rate=lr)\n",
    "    # compile the model\n",
    "    model.compile(optimizer=opt, loss=\"binary_crossentropy\",\n",
    "        metrics=[\"accuracy\"])\n",
    "                     \n",
    "    return model\n",
    "    \n",
    "    \n",
    "\n",
    "\n",
    "\n",
    "\n"
   ]
  },
  {
   "cell_type": "code",
   "execution_count": 29,
   "id": "a806eea9",
   "metadata": {},
   "outputs": [],
   "source": [
    "tuner = keras_tuner.RandomSearch(\n",
    "    build_model,\n",
    "    objective='val_loss',\n",
    "    max_trials=5)\n"
   ]
  },
  {
   "cell_type": "code",
   "execution_count": 30,
   "id": "31eecd73",
   "metadata": {},
   "outputs": [
    {
     "name": "stdout",
     "output_type": "stream",
     "text": [
      "Trial 5 Complete [00h 00m 43s]\n",
      "val_loss: 6.077961444854736\n",
      "\n",
      "Best val_loss So Far: 0.38883349299430847\n",
      "Total elapsed time: 00h 03m 15s\n",
      "INFO:tensorflow:Oracle triggered exit\n"
     ]
    }
   ],
   "source": [
    "tuner.search(X_train, y_train, epochs=5,validation_split=0.2 ) #validation_data=(X_test, y_test)\n",
    "\n",
    "best_model = tuner.get_best_models()[0]\n"
   ]
  },
  {
   "cell_type": "code",
   "execution_count": 31,
   "id": "6ed21014",
   "metadata": {},
   "outputs": [
    {
     "name": "stdout",
     "output_type": "stream",
     "text": [
      "Results summary\n",
      "Results in ./untitled_project\n",
      "Showing 1 best trials\n",
      "Objective(name=\"val_loss\", direction=\"min\")\n",
      "\n",
      "Trial 0 summary\n",
      "Hyperparameters:\n",
      "units1: 256\n",
      "rate1: 0.5\n",
      "units2: 256\n",
      "rate2: 0.3\n",
      "learning_rate: 0.001\n",
      "Score: 0.38883349299430847\n"
     ]
    }
   ],
   "source": [
    "tuner.results_summary(1)"
   ]
  },
  {
   "cell_type": "code",
   "execution_count": 32,
   "id": "f7c22896",
   "metadata": {},
   "outputs": [
    {
     "name": "stdout",
     "output_type": "stream",
     "text": [
      "Epoch 1/40\n",
      "2239/2239 [==============================] - 8s 3ms/step - loss: 0.4597 - accuracy: 0.7839 - val_loss: 0.4195 - val_accuracy: 0.8045\n",
      "Epoch 2/40\n",
      "2239/2239 [==============================] - 6s 3ms/step - loss: 0.4250 - accuracy: 0.8009 - val_loss: 0.4164 - val_accuracy: 0.8074\n",
      "Epoch 3/40\n",
      "2239/2239 [==============================] - 7s 3ms/step - loss: 0.4191 - accuracy: 0.8046 - val_loss: 0.4035 - val_accuracy: 0.8158\n",
      "Epoch 4/40\n",
      "2239/2239 [==============================] - 7s 3ms/step - loss: 0.4141 - accuracy: 0.8056 - val_loss: 0.4077 - val_accuracy: 0.8162\n",
      "Epoch 5/40\n",
      "2239/2239 [==============================] - 7s 3ms/step - loss: 0.4111 - accuracy: 0.8091 - val_loss: 0.4002 - val_accuracy: 0.8172\n",
      "Epoch 6/40\n",
      "2239/2239 [==============================] - 7s 3ms/step - loss: 0.4084 - accuracy: 0.8105 - val_loss: 0.3982 - val_accuracy: 0.8212\n",
      "Epoch 7/40\n",
      "2239/2239 [==============================] - 6s 3ms/step - loss: 0.4051 - accuracy: 0.8115 - val_loss: 0.3914 - val_accuracy: 0.8247\n",
      "Epoch 8/40\n",
      "2239/2239 [==============================] - 6s 3ms/step - loss: 0.4037 - accuracy: 0.8123 - val_loss: 0.3907 - val_accuracy: 0.8251\n",
      "Epoch 9/40\n",
      "2239/2239 [==============================] - 6s 3ms/step - loss: 0.4004 - accuracy: 0.8151 - val_loss: 0.3974 - val_accuracy: 0.8219\n",
      "Epoch 10/40\n",
      "2239/2239 [==============================] - 6s 3ms/step - loss: 0.3980 - accuracy: 0.8146 - val_loss: 0.3877 - val_accuracy: 0.8269\n",
      "Epoch 11/40\n",
      "2239/2239 [==============================] - 6s 3ms/step - loss: 0.3992 - accuracy: 0.8155 - val_loss: 0.3846 - val_accuracy: 0.8285\n",
      "Epoch 12/40\n",
      "2239/2239 [==============================] - 6s 3ms/step - loss: 0.3970 - accuracy: 0.8161 - val_loss: 0.3882 - val_accuracy: 0.8320\n",
      "Epoch 13/40\n",
      "2239/2239 [==============================] - 6s 3ms/step - loss: 0.3957 - accuracy: 0.8171 - val_loss: 0.3928 - val_accuracy: 0.8284\n",
      "Epoch 14/40\n",
      "2239/2239 [==============================] - 6s 3ms/step - loss: 0.3949 - accuracy: 0.8167 - val_loss: 0.3857 - val_accuracy: 0.8316\n",
      "Epoch 15/40\n",
      "2239/2239 [==============================] - 6s 3ms/step - loss: 0.3922 - accuracy: 0.8202 - val_loss: 0.3873 - val_accuracy: 0.8291\n",
      "Epoch 16/40\n",
      "2239/2239 [==============================] - 6s 3ms/step - loss: 0.3928 - accuracy: 0.8193 - val_loss: 0.3862 - val_accuracy: 0.8273\n",
      "Epoch 17/40\n",
      "2239/2239 [==============================] - 6s 3ms/step - loss: 0.3913 - accuracy: 0.8198 - val_loss: 0.3851 - val_accuracy: 0.8319\n",
      "Epoch 18/40\n",
      "2239/2239 [==============================] - 6s 3ms/step - loss: 0.3920 - accuracy: 0.8179 - val_loss: 0.3838 - val_accuracy: 0.8344\n",
      "Epoch 19/40\n",
      "2239/2239 [==============================] - 6s 3ms/step - loss: 0.3912 - accuracy: 0.8187 - val_loss: 0.3866 - val_accuracy: 0.8310\n",
      "Epoch 20/40\n",
      "2239/2239 [==============================] - 6s 3ms/step - loss: 0.3910 - accuracy: 0.8194 - val_loss: 0.3862 - val_accuracy: 0.8292\n",
      "Epoch 21/40\n",
      "2239/2239 [==============================] - 7s 3ms/step - loss: 0.3900 - accuracy: 0.8207 - val_loss: 0.3774 - val_accuracy: 0.8324\n",
      "Epoch 22/40\n",
      "2239/2239 [==============================] - 6s 3ms/step - loss: 0.3901 - accuracy: 0.8198 - val_loss: 0.3869 - val_accuracy: 0.8313\n",
      "Epoch 23/40\n",
      "2239/2239 [==============================] - 7s 3ms/step - loss: 0.3874 - accuracy: 0.8208 - val_loss: 0.3877 - val_accuracy: 0.8313\n",
      "Epoch 24/40\n",
      "2239/2239 [==============================] - 7s 3ms/step - loss: 0.3875 - accuracy: 0.8217 - val_loss: 0.3871 - val_accuracy: 0.8321\n",
      "Epoch 25/40\n",
      "2239/2239 [==============================] - 7s 3ms/step - loss: 0.3882 - accuracy: 0.8204 - val_loss: 0.3964 - val_accuracy: 0.8304\n",
      "Epoch 26/40\n",
      "2239/2239 [==============================] - 6s 3ms/step - loss: 0.3869 - accuracy: 0.8208 - val_loss: 0.3849 - val_accuracy: 0.8324\n",
      "Epoch 27/40\n",
      "2239/2239 [==============================] - 6s 3ms/step - loss: 0.3867 - accuracy: 0.8191 - val_loss: 0.3969 - val_accuracy: 0.8336\n",
      "Epoch 28/40\n",
      "2239/2239 [==============================] - 6s 3ms/step - loss: 0.3858 - accuracy: 0.8233 - val_loss: 0.3857 - val_accuracy: 0.8335\n",
      "Epoch 29/40\n",
      "2239/2239 [==============================] - 6s 3ms/step - loss: 0.3852 - accuracy: 0.8218 - val_loss: 0.3847 - val_accuracy: 0.8343\n",
      "Epoch 30/40\n",
      "2239/2239 [==============================] - 6s 3ms/step - loss: 0.3858 - accuracy: 0.8220 - val_loss: 0.3979 - val_accuracy: 0.8328\n",
      "Epoch 31/40\n",
      "2239/2239 [==============================] - 6s 3ms/step - loss: 0.3872 - accuracy: 0.8209 - val_loss: 0.3963 - val_accuracy: 0.8313\n",
      "Epoch 32/40\n",
      "2239/2239 [==============================] - 6s 3ms/step - loss: 0.3851 - accuracy: 0.8218 - val_loss: 0.3954 - val_accuracy: 0.8322\n",
      "Epoch 33/40\n",
      "2239/2239 [==============================] - 6s 3ms/step - loss: 0.3848 - accuracy: 0.8223 - val_loss: 0.3983 - val_accuracy: 0.8315\n",
      "Epoch 34/40\n",
      "2239/2239 [==============================] - 6s 3ms/step - loss: 0.3850 - accuracy: 0.8217 - val_loss: 0.3974 - val_accuracy: 0.8330\n",
      "Epoch 35/40\n",
      "2239/2239 [==============================] - 6s 3ms/step - loss: 0.3825 - accuracy: 0.8241 - val_loss: 0.3896 - val_accuracy: 0.8321\n",
      "Epoch 36/40\n",
      "2239/2239 [==============================] - 7s 3ms/step - loss: 0.3844 - accuracy: 0.8235 - val_loss: 0.3857 - val_accuracy: 0.8343\n",
      "Epoch 37/40\n",
      "2239/2239 [==============================] - 6s 3ms/step - loss: 0.3810 - accuracy: 0.8237 - val_loss: 0.3870 - val_accuracy: 0.8322\n",
      "Epoch 38/40\n",
      "2239/2239 [==============================] - 6s 3ms/step - loss: 0.3820 - accuracy: 0.8242 - val_loss: 0.3910 - val_accuracy: 0.8304\n",
      "Epoch 39/40\n",
      "2239/2239 [==============================] - 6s 3ms/step - loss: 0.3814 - accuracy: 0.8243 - val_loss: 0.3985 - val_accuracy: 0.8294\n",
      "Epoch 40/40\n",
      "2239/2239 [==============================] - 6s 3ms/step - loss: 0.3840 - accuracy: 0.8225 - val_loss: 0.3985 - val_accuracy: 0.8309\n"
     ]
    }
   ],
   "source": [
    "\n",
    "# rentreno con los mejkores hierparams\n",
    "\n",
    "best_hps = tuner.get_best_hyperparameters(num_trials=1)[0]\n",
    "final_model = tuner.hypermodel.build(best_hps)\n",
    "\n",
    "final_history = final_model.fit(X_train, y_train, epochs=40,validation_split=0.2 ) \n",
    "\n",
    "\n",
    "\n",
    "\n",
    "#validation_data=(X_test, y_test)"
   ]
  },
  {
   "cell_type": "code",
   "execution_count": 33,
   "id": "e0209437",
   "metadata": {},
   "outputs": [
    {
     "name": "stdout",
     "output_type": "stream",
     "text": [
      "933/933 [==============================] - 1s 1ms/step - loss: 0.4083 - accuracy: 0.8216\n"
     ]
    },
    {
     "data": {
      "text/plain": [
       "[0.40832018852233887, 0.8215625882148743]"
      ]
     },
     "execution_count": 33,
     "metadata": {},
     "output_type": "execute_result"
    }
   ],
   "source": [
    "final_model.evaluate(X_test,y_test)"
   ]
  },
  {
   "cell_type": "code",
   "execution_count": 36,
   "id": "4f079247",
   "metadata": {},
   "outputs": [
    {
     "data": {
      "text/html": [
       "<div>\n",
       "<style scoped>\n",
       "    .dataframe tbody tr th:only-of-type {\n",
       "        vertical-align: middle;\n",
       "    }\n",
       "\n",
       "    .dataframe tbody tr th {\n",
       "        vertical-align: top;\n",
       "    }\n",
       "\n",
       "    .dataframe thead th {\n",
       "        text-align: right;\n",
       "    }\n",
       "</style>\n",
       "<table border=\"1\" class=\"dataframe\">\n",
       "  <thead>\n",
       "    <tr style=\"text-align: right;\">\n",
       "      <th></th>\n",
       "      <th>loss</th>\n",
       "      <th>accuracy</th>\n",
       "      <th>val_loss</th>\n",
       "      <th>val_accuracy</th>\n",
       "    </tr>\n",
       "  </thead>\n",
       "  <tbody>\n",
       "    <tr>\n",
       "      <th>0</th>\n",
       "      <td>0.459724</td>\n",
       "      <td>0.783926</td>\n",
       "      <td>0.419471</td>\n",
       "      <td>0.804512</td>\n",
       "    </tr>\n",
       "    <tr>\n",
       "      <th>1</th>\n",
       "      <td>0.425047</td>\n",
       "      <td>0.800888</td>\n",
       "      <td>0.416445</td>\n",
       "      <td>0.807415</td>\n",
       "    </tr>\n",
       "    <tr>\n",
       "      <th>2</th>\n",
       "      <td>0.419059</td>\n",
       "      <td>0.804601</td>\n",
       "      <td>0.403529</td>\n",
       "      <td>0.815791</td>\n",
       "    </tr>\n",
       "    <tr>\n",
       "      <th>3</th>\n",
       "      <td>0.414104</td>\n",
       "      <td>0.805606</td>\n",
       "      <td>0.407714</td>\n",
       "      <td>0.816238</td>\n",
       "    </tr>\n",
       "    <tr>\n",
       "      <th>4</th>\n",
       "      <td>0.411122</td>\n",
       "      <td>0.809082</td>\n",
       "      <td>0.400232</td>\n",
       "      <td>0.817187</td>\n",
       "    </tr>\n",
       "  </tbody>\n",
       "</table>\n",
       "</div>"
      ],
      "text/plain": [
       "       loss  accuracy  val_loss  val_accuracy\n",
       "0  0.459724  0.783926  0.419471      0.804512\n",
       "1  0.425047  0.800888  0.416445      0.807415\n",
       "2  0.419059  0.804601  0.403529      0.815791\n",
       "3  0.414104  0.805606  0.407714      0.816238\n",
       "4  0.411122  0.809082  0.400232      0.817187"
      ]
     },
     "execution_count": 36,
     "metadata": {},
     "output_type": "execute_result"
    }
   ],
   "source": [
    "final_history_df = pd.DataFrame(final_history.history) # tiene 40 filas, una por epoch\n",
    "\n",
    "\n",
    "final_history_df.head()\n",
    "\n",
    "#final_history_df.plot()"
   ]
  },
  {
   "cell_type": "code",
   "execution_count": 41,
   "id": "97344fa1",
   "metadata": {},
   "outputs": [
    {
     "data": {
      "image/png": "[encoded data removed]",
      "text/plain": [
       "<Figure size 640x480 with 1 Axes>"
      ]
     },
     "metadata": {},
     "output_type": "display_data"
    },
    {
     "data": {
      "image/png": "[encoded data removed]",
      "text/plain": [
       "<Figure size 640x480 with 1 Axes>"
      ]
     },
     "metadata": {},
     "output_type": "display_data"
    }
   ],
   "source": [
    "def plot_history(history):\n",
    "  hist = pd.DataFrame(history.history)\n",
    "  hist['epoch'] = history.epoch\n",
    "\n",
    "  plt.figure()\n",
    "  plt.xlabel('Epoch')\n",
    "  plt.ylabel('Binary Crossentropy')\n",
    "  plt.plot(hist['epoch'], hist['loss'],\n",
    "           label='Train Error')\n",
    "  plt.plot(hist['epoch'], hist['val_loss'],\n",
    "           label = 'Val Error')\n",
    "  #plt.ylim([0,5])\n",
    "  plt.legend()\n",
    "\n",
    "  plt.figure()\n",
    "  plt.xlabel('Epoch')\n",
    "  plt.ylabel('Accuracy')\n",
    "  plt.plot(hist['epoch'], hist['accuracy'],\n",
    "           label='Train Error')\n",
    "  plt.plot(hist['epoch'], hist['val_accuracy'],\n",
    "           label = 'Val Error')\n",
    "  #plt.ylim([0,20])\n",
    "  plt.legend()\n",
    "  plt.show()\n",
    "\n",
    "\n",
    "plot_history(final_history)\n"
   ]
  },
  {
   "cell_type": "markdown",
   "id": "13c7f5e3",
   "metadata": {},
   "source": [
    "## <font color='blue'><b>Clasificación multiclase</b></font>"
   ]
  }
 ],
 "metadata": {
  "kernelspec": {
   "display_name": "Python 3 (ipykernel)",
   "language": "python",
   "name": "python3"
  },
  "language_info": {
   "codemirror_mode": {
    "name": "ipython",
    "version": 3
   },
   "file_extension": ".py",
   "mimetype": "text/x-python",
   "name": "python",
   "nbconvert_exporter": "python",
   "pygments_lexer": "ipython3",
   "version": "3.10.12"
  }
 },
 "nbformat": 4,
 "nbformat_minor": 5
}
