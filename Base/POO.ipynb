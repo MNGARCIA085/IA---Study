{
 "cells": [
  {
   "cell_type": "markdown",
   "id": "d8309826",
   "metadata": {},
   "source": [
    "# <center> POO </center>"
   ]
  },
  {
   "cell_type": "markdown",
   "id": "20c2944a",
   "metadata": {},
   "source": [
    "Es un paradigma de programación que nos permite organizar el código de una manera que se asemeja bastante a como pensamos en la vida real, utilizando las famosas clases (que son un mapa para construir objetos). Estas nos permiten agrupar un conjunto de variables y funciones relacionadas.\n",
    "\n",
    "Cosas de lo más cotidianas como un perro o un coche pueden ser representadas con clases. Estas clases tienen diferentes características, que en el caso del perro podrían ser la edad, el nombre o la raza. Llamaremos a estas características, atributos.\n",
    "\n",
    "Por otro lado, las clases tienen un conjunto de funcionalidades o cosas que pueden hacer. En el caso del perro podría ser andar o ladrar. Llamaremos a estas funcionalidades métodos.\n",
    "\n",
    "Por último, pueden existir diferentes perros. Podemos tener uno que se llama Toby o el del vecino que se llama Laika. Llamaremos a estos objetos. Es decir, el concepto abstracto de perro es la clase, pero Toby o cualquier otro perro particular será el objeto.\n",
    "\n",
    "La programación orientada a objetos está basada en 6 principios o pilares básicos:\n",
    "\n",
    "    Herencia\n",
    "    Cohesión\n",
    "    Abstracción\n",
    "    Polimorfismo\n",
    "    Acoplamiento\n",
    "    Encapsulamiento"
   ]
  },
  {
   "cell_type": "markdown",
   "id": "179201bf",
   "metadata": {},
   "source": [
    "### Clases, atributos y métodos"
   ]
  },
  {
   "cell_type": "code",
   "execution_count": 1,
   "id": "0c4c67cc",
   "metadata": {},
   "outputs": [],
   "source": [
    "# Creando una clase vacía\n",
    "class Perro:\n",
    "    pass"
   ]
  },
  {
   "cell_type": "code",
   "execution_count": 2,
   "id": "2172f5dc",
   "metadata": {},
   "outputs": [],
   "source": [
    "# Creamos un objeto de la clase perro\n",
    "mi_perro = Perro()"
   ]
  },
  {
   "cell_type": "markdown",
   "id": "45cdce40",
   "metadata": {},
   "source": [
    "A continuación vamos a añadir algunos atributos a nuestra clase. Antes de nada es importante distinguir que existen dos tipos de atributos:\n",
    "\n",
    "    Atributos de instancia: Pertenecen a la instancia de la clase o al objeto. Son atributos particulares de cada instancia, en nuestro caso de cada perro.\n",
    "    Atributos de clase: Se trata de atributos que pertenecen a la clase, por lo tanto serán comunes para todos los objetos.\n",
    "\n",
    "Empecemos creando un par de atributos de instancia para nuestro perro, el nombre y la raza. Para ello creamos un método __init__ que será llamado automáticamente cuando creemos un objeto. Se trata del constructor."
   ]
  },
  {
   "cell_type": "code",
   "execution_count": 3,
   "id": "cf2f09d1",
   "metadata": {},
   "outputs": [],
   "source": [
    "class Perro:\n",
    "    # El método __init__ es llamado al crear el objeto\n",
    "    def __init__(self, nombre, raza):\n",
    "        print(f\"Creando perro {nombre}, {raza}\")\n",
    "\n",
    "        # Atributos de instancia\n",
    "        self.nombre = nombre\n",
    "        self.raza = raza"
   ]
  },
  {
   "cell_type": "markdown",
   "id": "282245c9",
   "metadata": {},
   "source": [
    "Ahora que hemos definido el método init con dos parámetros de entrada, podemos crear el objeto pasando el valor de los atributos. Usando type() podemos ver como efectivamente el objeto es de la clase Perro."
   ]
  },
  {
   "cell_type": "code",
   "execution_count": 4,
   "id": "5387091f",
   "metadata": {},
   "outputs": [
    {
     "name": "stdout",
     "output_type": "stream",
     "text": [
      "Creando perro pepe, collie\n"
     ]
    }
   ],
   "source": [
    "mi_perro = Perro('pepe','collie')"
   ]
  },
  {
   "cell_type": "code",
   "execution_count": 5,
   "id": "e4842639",
   "metadata": {},
   "outputs": [
    {
     "data": {
      "text/plain": [
       "__main__.Perro"
      ]
     },
     "execution_count": 5,
     "metadata": {},
     "output_type": "execute_result"
    }
   ],
   "source": [
    "type(mi_perro)"
   ]
  },
  {
   "cell_type": "markdown",
   "id": "9d5bb283",
   "metadata": {},
   "source": [
    "Seguramente te hayas fijado en el self que se pasa como parámetro de entrada del método. Es una variable que representa la instancia de la clase, y deberá estar siempre ahí.\n",
    "\n",
    "El uso de __init__ y el doble __ no es una coincidencia. Cuando veas un método con esa forma, significa que está reservado para un uso especial del lenguaje. En este caso sería lo que se conoce como constructor. "
   ]
  },
  {
   "cell_type": "code",
   "execution_count": 6,
   "id": "7d19bd74",
   "metadata": {},
   "outputs": [
    {
     "data": {
      "text/plain": [
       "'collie'"
      ]
     },
     "execution_count": 6,
     "metadata": {},
     "output_type": "execute_result"
    }
   ],
   "source": [
    "# ver los atributos\n",
    "mi_perro.raza"
   ]
  },
  {
   "cell_type": "markdown",
   "id": "54554b51",
   "metadata": {},
   "source": [
    "Hasta ahora hemos definido atributos de instancia, ya que son atributos que pertenecen a cada perro concreto. Ahora vamos a definir un atributo de clase, que será común para todos los perros. Por ejemplo, la especie de los perros es algo común para todos los objetos Perro."
   ]
  },
  {
   "cell_type": "code",
   "execution_count": 7,
   "id": "a954274b",
   "metadata": {},
   "outputs": [],
   "source": [
    "class Perro:\n",
    "    # Atributo de clase\n",
    "    especie = 'mamífero'\n",
    "\n",
    "    # El método __init__ es llamado al crear el objeto\n",
    "    def __init__(self, nombre, raza):\n",
    "        print(f\"Creando perro {nombre}, {raza}\")\n",
    "\n",
    "        # Atributos de instancia\n",
    "        self.nombre = nombre\n",
    "        self.raza = raza"
   ]
  },
  {
   "cell_type": "markdown",
   "id": "9f6edce3",
   "metadata": {},
   "source": [
    "Dado que es un atributo de clase, no es necesario crear un objeto para acceder al atributos. Podemos hacer lo siguiente."
   ]
  },
  {
   "cell_type": "code",
   "execution_count": 10,
   "id": "588cb04a",
   "metadata": {},
   "outputs": [
    {
     "name": "stdout",
     "output_type": "stream",
     "text": [
      "Creando perro nico, collie\n"
     ]
    },
    {
     "data": {
      "text/plain": [
       "'mamífero'"
      ]
     },
     "execution_count": 10,
     "metadata": {},
     "output_type": "execute_result"
    }
   ],
   "source": [
    "mi_perro = Perro('nico','collie')\n",
    "\n",
    "# accedo al atributo desde el objeto\n",
    "mi_perro.especie"
   ]
  },
  {
   "cell_type": "markdown",
   "id": "55f441bc",
   "metadata": {},
   "source": [
    "Vamos a codificar dos métodos, ladrar y caminar. El primero no recibirá ningún parámetro y el segundo recibirá el número de pasos que queremos andar. Como hemos indicado anteriormente self hace referencia a la instancia de la clase. Se puede definir un método con def y el nombre, y entre () los parámetros de entrada que recibe, donde siempre tendrá que estar self el primero.\n"
   ]
  },
  {
   "cell_type": "code",
   "execution_count": 11,
   "id": "f087113c",
   "metadata": {},
   "outputs": [],
   "source": [
    "class Perro:\n",
    "    # Atributo de clase\n",
    "    especie = 'mamífero'\n",
    "\n",
    "    # El método __init__ es llamado al crear el objeto\n",
    "    def __init__(self, nombre, raza):\n",
    "        print(f\"Creando perro {nombre}, {raza}\")\n",
    "\n",
    "        # Atributos de instancia\n",
    "        self.nombre = nombre\n",
    "        self.raza = raza\n",
    "\n",
    "    def ladra(self):\n",
    "        print(\"Guau\")\n",
    "\n",
    "    def camina(self, pasos):\n",
    "        print(f\"Caminando {pasos} pasos\")"
   ]
  },
  {
   "cell_type": "code",
   "execution_count": 13,
   "id": "5bd96b6d",
   "metadata": {},
   "outputs": [
    {
     "name": "stdout",
     "output_type": "stream",
     "text": [
      "Creando perro Toby, bulldog\n",
      "Caminando 5 pasos\n"
     ]
    }
   ],
   "source": [
    "\n",
    "mi_perro = Perro('Toby','bulldog')\n",
    "\n",
    "\n",
    "mi_perro.camina(5)\n"
   ]
  },
  {
   "cell_type": "markdown",
   "id": "ab144753",
   "metadata": {},
   "source": [
    "## Tipos de métodos"
   ]
  },
  {
   "cell_type": "markdown",
   "id": "6aa86c03",
   "metadata": {},
   "source": [
    "En otros posts hemos visto como se pueden crear métodos con def dentro de una clase, pudiendo recibir parámetros como entrada y modificar el estado (como los atributos) de la instancia. Pues bien, haciendo uso de los decoradores, es posible crear diferentes tipos de métodos:\n",
    "\n",
    "    Lo métodos de instancia “normales” que ya hemos visto como metodo()\n",
    "    Métodos de clase usando el decorador @classmethod\n",
    "    Y métodos estáticos usando el decorador @staticmethod\n",
    "\n",
    "En la siguiente clase tenemos un ejemplo donde definimos los tres tipos de métodos."
   ]
  },
  {
   "cell_type": "code",
   "execution_count": 14,
   "id": "e113c0c7",
   "metadata": {},
   "outputs": [],
   "source": [
    "class Clase:\n",
    "    def metodo(self):\n",
    "        return 'Método normal', self\n",
    "\n",
    "    @classmethod\n",
    "    def metododeclase(cls):\n",
    "        return 'Método de clase', cls\n",
    "\n",
    "    @staticmethod\n",
    "    def metodoestatico():\n",
    "        return \"Método estático\"\n"
   ]
  },
  {
   "cell_type": "markdown",
   "id": "016931ce",
   "metadata": {},
   "source": [
    "### Métodos de instancia"
   ]
  },
  {
   "cell_type": "markdown",
   "id": "556953d7",
   "metadata": {},
   "source": [
    "Los métodos de instancia son los métodos normales, de toda la vida, que hemos visto anteriormente. Reciben como parámetro de entrada self que hace referencia a la instancia que llama al método. También pueden recibir otros argumentos como entrada.\n",
    "\n",
    "Para saber más: El uso de \"self\" es totalmente arbitrario. Se trata de una convención acordada por los usuarios de Python, usada para referirse a la instancia que llama al método, pero podría ser cualquier otro nombre. Lo mismo ocurre con \"cls\", que veremos a continuación.\n",
    "\n",
    "\n",
    "En vista a esto, los métodos de instancia:\n",
    "\n",
    "    Pueden acceder y modificar los atributos del objeto.\n",
    "    Pueden acceder a otros métodos.\n",
    "    Dado que desde el objeto self se puede acceder a la clase con ` self.class`, también pueden modificar el estado de la clase\n"
   ]
  },
  {
   "cell_type": "code",
   "execution_count": 15,
   "id": "b77c5391",
   "metadata": {},
   "outputs": [],
   "source": [
    "class Clase:\n",
    "    def metodo(self, arg1, arg2):\n",
    "        return 'Método normal', self"
   ]
  },
  {
   "cell_type": "markdown",
   "id": "481a60a8",
   "metadata": {},
   "source": [
    "### Métodos de clase"
   ]
  },
  {
   "cell_type": "markdown",
   "id": "573b63d5",
   "metadata": {},
   "source": [
    "A diferencia de los métodos de instancia, los métodos de clase reciben como argumento cls, que hace referencia a la clase. Por lo tanto, pueden acceder a la clase pero no a la instancia.\n",
    "\n",
    "Por lo tanto, los métodos de clase:\n",
    "\n",
    "    No pueden acceder a los atributos de la instancia.\n",
    "    Pero si pueden modificar los atributos de la clase."
   ]
  },
  {
   "cell_type": "code",
   "execution_count": 16,
   "id": "32ec4b16",
   "metadata": {},
   "outputs": [],
   "source": [
    "class Clase:\n",
    "    @classmethod\n",
    "    def metododeclase(cls):\n",
    "        return 'Método de clase', cls"
   ]
  },
  {
   "cell_type": "code",
   "execution_count": 18,
   "id": "bb821658",
   "metadata": {},
   "outputs": [
    {
     "data": {
      "text/plain": [
       "('Método de clase', __main__.Clase)"
      ]
     },
     "execution_count": 18,
     "metadata": {},
     "output_type": "execute_result"
    }
   ],
   "source": [
    "# se puede llamar sobre la clase\n",
    "\n",
    "Clase.metododeclase()\n"
   ]
  },
  {
   "cell_type": "code",
   "execution_count": null,
   "id": "f2200f11",
   "metadata": {},
   "outputs": [],
   "source": [
    "# o sobre el objeto\n",
    "\n",
    "#........"
   ]
  },
  {
   "cell_type": "markdown",
   "id": "37b3d9e0",
   "metadata": {},
   "source": [
    "### Métodos estáticos"
   ]
  },
  {
   "cell_type": "markdown",
   "id": "212bf677",
   "metadata": {},
   "source": [
    "Por último, los métodos estáticos se pueden definir con el decorador @staticmethod y no aceptan como parámetro ni la instancia ni la clase. Es por ello por lo que no pueden modificar el estado ni de la clase ni de la instancia. Pero por supuesto pueden aceptar parámetros de entrada.\n",
    "\n",
    "Por lo tanto el uso de los métodos estáticos pueden resultar útil para indicar que un método no modificará el estado de la instancia ni de la clase. Es cierto que se podría hacer lo mismo con un método de instancia por ejemplo, pero a veces resulta importante indicar de alguna manera estas peculiaridades, evitando así futuros problemas y malentendidos.\n",
    "\n",
    "En otras palabras, los métodos estáticos se podrían ver como funciones normales, con la salvedad de que van ligadas a una clase concreta."
   ]
  },
  {
   "cell_type": "code",
   "execution_count": 19,
   "id": "e71382a5",
   "metadata": {},
   "outputs": [],
   "source": [
    "class Clase:\n",
    "    @staticmethod\n",
    "    def metodoestatico():\n",
    "        return \"Método estático\""
   ]
  },
  {
   "cell_type": "code",
   "execution_count": 20,
   "id": "f7a0e258",
   "metadata": {},
   "outputs": [
    {
     "data": {
      "text/plain": [
       "'Método estático'"
      ]
     },
     "execution_count": 20,
     "metadata": {},
     "output_type": "execute_result"
    }
   ],
   "source": [
    "mi_clase = Clase()\n",
    "mi_clase.metodoestatico()"
   ]
  },
  {
   "cell_type": "markdown",
   "id": "9f9b6753",
   "metadata": {},
   "source": [
    "## Herencia"
   ]
  },
  {
   "cell_type": "markdown",
   "id": "a7eb3739",
   "metadata": {},
   "source": [
    "La herencia es un proceso mediante el cual se puede crear una clase hija que hereda de una clase padre, compartiendo sus métodos y atributos. Además de ello, una clase hija puede sobreescribir los métodos o atributos, o incluso definir unos nuevos.\n",
    "\n",
    "Se puede crear una clase hija con tan solo pasar como parámetro la clase de la que queremos heredar. En el siguiente ejemplo vemos como se puede usar la herencia en Python, con la clase Perro que hereda de Animal. Así de fácil"
   ]
  },
  {
   "cell_type": "code",
   "execution_count": 21,
   "id": "8b5a303b",
   "metadata": {},
   "outputs": [],
   "source": [
    "# Definimos una clase padre\n",
    "class Animal:\n",
    "    pass\n",
    "\n",
    "# Creamos una clase hija que hereda de la padre\n",
    "class Perro(Animal):\n",
    "    pass\n"
   ]
  },
  {
   "cell_type": "code",
   "execution_count": 22,
   "id": "6ef0ea53",
   "metadata": {},
   "outputs": [
    {
     "data": {
      "text/plain": [
       "(__main__.Animal,)"
      ]
     },
     "execution_count": 22,
     "metadata": {},
     "output_type": "execute_result"
    }
   ],
   "source": [
    "#De hecho podemos ver como efectivamente la clase Perro es la hija de Animal usando __bases__\n",
    "\n",
    "(Perro.__bases__)"
   ]
  },
  {
   "cell_type": "code",
   "execution_count": 23,
   "id": "28b0149d",
   "metadata": {},
   "outputs": [
    {
     "name": "stdout",
     "output_type": "stream",
     "text": [
      "[<class '__main__.Perro'>]\n"
     ]
    }
   ],
   "source": [
    "#De manera similar podemos ver que clases descienden de una en concreto con __subclasses__.\n",
    "print(Animal.__subclasses__())"
   ]
  },
  {
   "cell_type": "markdown",
   "id": "67d4b109",
   "metadata": {},
   "source": [
    "¿Y para que queremos la herencia? Dado que una clase hija hereda los atributos y métodos de la padre, nos puede ser muy útil cuando tengamos clases que se parecen entre sí pero tienen ciertas particularidades. En este caso en vez de definir un montón de clases para cada animal, podemos tomar los elementos comunes y crear una clase Animal de la que hereden el resto, respetando por tanto la filosofía DRY. Realizar estas abstracciones y buscar el denominador común para definir una clase de la que hereden las demás, es una tarea de lo más compleja en el mundo de la programación.\n",
    "\n",
    "Para saber más: El principio DRY (Don't Repeat Yourself) es muy aplicado en el mundo de la programación y consiste en no repetir código de manera innecesaria. Cuanto más código duplicado exista, más difícil será de modificar y más fácil será crear inconsistencias. Las clases y la herencia a no repetir código."
   ]
  },
  {
   "cell_type": "markdown",
   "id": "fe5519a5",
   "metadata": {},
   "source": [
    "Extendiendo y modificando métodos\n",
    "\n",
    "Continuemos con nuestro ejemplo de perros y animales. Vamos a definir una clase padre Animal que tendrá todos los atributos y métodos genéricos que los animales pueden tener. Esta tarea de buscar el denominador común es muy importante en programación. Veamos los atributos:\n",
    "\n",
    "    Tenemos la especie ya que todos los animales pertenecen a una.\n",
    "    Y la edad, ya que todo ser vivo nace, crece, se reproduce y muere.\n",
    "\n",
    "Y los métodos o funcionalidades:\n",
    "\n",
    "    Tendremos el método hablar, que cada animal implementará de una forma. Los perros ladran, las abejas zumban y los caballos relinchan.\n",
    "    Un método moverse. Unos animales lo harán caminando, otros volando.\n",
    "    Y por último un método descríbeme que será común.\n",
    "\n",
    "Definimos la clase padre, con una serie de atributos comunes para todos los animales como hemos indicado."
   ]
  },
  {
   "cell_type": "code",
   "execution_count": 24,
   "id": "a2c6e469",
   "metadata": {},
   "outputs": [],
   "source": [
    "class Animal:\n",
    "    def __init__(self, especie, edad):\n",
    "        self.especie = especie\n",
    "        self.edad = edad\n",
    "\n",
    "    # Método genérico pero con implementación particular\n",
    "    def hablar(self):\n",
    "        # Método vacío\n",
    "        pass\n",
    "\n",
    "    # Método genérico pero con implementación particular\n",
    "    def moverse(self):\n",
    "        # Método vacío\n",
    "        pass\n",
    "\n",
    "    # Método genérico con la misma implementación\n",
    "    def describeme(self):\n",
    "        print(\"Soy un Animal del tipo\", type(self).__name__)"
   ]
  },
  {
   "cell_type": "markdown",
   "id": "0a3dca13",
   "metadata": {},
   "source": [
    "Tenemos ya por lo tanto una clase genérica Animal, que generaliza las características y funcionalidades que todo animal puede tener. Ahora creamos una clase Perro que hereda del Animal. Como primer ejemplo vamos a crear una clase vacía, para ver como los métodos y atributos son heredados por defecto."
   ]
  },
  {
   "cell_type": "code",
   "execution_count": 25,
   "id": "972534e1",
   "metadata": {},
   "outputs": [],
   "source": [
    "# Perro hereda de Animal\n",
    "class Perro(Animal):\n",
    "    pass"
   ]
  },
  {
   "cell_type": "code",
   "execution_count": 26,
   "id": "65ba3611",
   "metadata": {},
   "outputs": [
    {
     "name": "stdout",
     "output_type": "stream",
     "text": [
      "Soy un Animal del tipo Perro\n"
     ]
    }
   ],
   "source": [
    "mi_perro = Perro('mamífero', 10)\n",
    "mi_perro.describeme()\n",
    "# Soy un Animal del tipo Perro"
   ]
  },
  {
   "cell_type": "markdown",
   "id": "4196c3ab",
   "metadata": {},
   "source": [
    " Vamos a crear varios animales concretos y sobreescrbir algunos de los métodos que habían sido definidos en la clase Animal, como el hablar o el moverse, ya que cada animal se comporta de una manera distinta.\n",
    "\n",
    "Podemos incluso crear nuevos métodos que se añadirán a los ya heredados, como en el caso de la Abeja con picar()."
   ]
  },
  {
   "cell_type": "code",
   "execution_count": 27,
   "id": "879ab31a",
   "metadata": {},
   "outputs": [],
   "source": [
    "class Perro(Animal):\n",
    "    def hablar(self):\n",
    "        print(\"Guau!\")\n",
    "    def moverse(self):\n",
    "        print(\"Caminando con 4 patas\")\n",
    "\n",
    "class Vaca(Animal):\n",
    "    def hablar(self):\n",
    "        print(\"Muuu!\")\n",
    "    def moverse(self):\n",
    "        print(\"Caminando con 4 patas\")\n",
    "\n",
    "class Abeja(Animal):\n",
    "    def hablar(self):\n",
    "        print(\"Bzzzz!\")\n",
    "    def moverse(self):\n",
    "        print(\"Volando\")\n",
    "\n",
    "    # Nuevo método\n",
    "    def picar(self):\n",
    "        print(\"Picar!\")"
   ]
  },
  {
   "cell_type": "markdown",
   "id": "4e3fdb99",
   "metadata": {},
   "source": [
    "Por lo tanto ya podemos crear nuestros objetos de esos animales y hacer uso de sus métodos que podrían clasificarse en tres:\n",
    "\n",
    "    Heredados directamente de la clase padre: describeme()\n",
    "    Heredados de la clase padre pero modificados: hablar() y moverse()\n",
    "    Creados en la clase hija por lo tanto no existentes en la clase padre: picar()"
   ]
  },
  {
   "cell_type": "code",
   "execution_count": 28,
   "id": "cdc88f94",
   "metadata": {},
   "outputs": [
    {
     "name": "stdout",
     "output_type": "stream",
     "text": [
      "Guau!\n",
      "Muuu!\n",
      "Soy un Animal del tipo Vaca\n",
      "Soy un Animal del tipo Abeja\n",
      "Picar!\n"
     ]
    }
   ],
   "source": [
    "mi_perro = Perro('mamífero', 10)\n",
    "mi_vaca = Vaca('mamífero', 23)\n",
    "mi_abeja = Abeja('insecto', 1)\n",
    "\n",
    "mi_perro.hablar()\n",
    "mi_vaca.hablar()\n",
    "# Guau!\n",
    "# Muuu!\n",
    "\n",
    "mi_vaca.describeme()\n",
    "mi_abeja.describeme()\n",
    "# Soy un Animal del tipo Vaca\n",
    "# Soy un Animal del tipo Abeja\n",
    "\n",
    "mi_abeja.picar()\n",
    "# Picar!"
   ]
  },
  {
   "cell_type": "markdown",
   "id": "2e305c05",
   "metadata": {},
   "source": [
    "<b>super()</b>\n",
    "\n",
    "En pocas palabras, la función super() nos permite acceder a los métodos de la clase padre desde una de sus hijas. Volvamos al ejemplo de Animal y Perro.\n",
    "\n"
   ]
  },
  {
   "cell_type": "code",
   "execution_count": 29,
   "id": "613aaec0",
   "metadata": {},
   "outputs": [],
   "source": [
    "class Animal:\n",
    "    def __init__(self, especie, edad):\n",
    "        self.especie = especie\n",
    "        self.edad = edad        \n",
    "    def hablar(self):\n",
    "        pass\n",
    "\n",
    "    def moverse(self):\n",
    "        pass\n",
    "\n",
    "    def describeme(self):\n",
    "        print(\"Soy un Animal del tipo\", type(self).__name__)"
   ]
  },
  {
   "cell_type": "markdown",
   "id": "fdadf236",
   "metadata": {},
   "source": [
    "Tal vez queramos que nuestro Perro tenga un parámetro extra en el constructor, como podría ser el dueño. Para realizar esto tenemos dos alternativas:\n",
    "\n",
    "    Podemos crear un nuevo __init__ y guardar todas las variables una a una.\n",
    "    O podemos usar super() para llamar al __init__ de la clase padre que ya aceptaba la especie y edad, y sólo asignar la variable nueva manualmente."
   ]
  },
  {
   "cell_type": "code",
   "execution_count": 30,
   "id": "348a652c",
   "metadata": {},
   "outputs": [
    {
     "data": {
      "text/plain": [
       "'Luis'"
      ]
     },
     "execution_count": 30,
     "metadata": {},
     "output_type": "execute_result"
    }
   ],
   "source": [
    "class Perro(Animal):\n",
    "    def __init__(self, especie, edad, dueño):\n",
    "        # Alternativa 1\n",
    "        # self.especie = especie\n",
    "        # self.edad = edad\n",
    "        # self.dueño = dueño\n",
    "\n",
    "        # Alternativa 2\n",
    "        super().__init__(especie, edad)\n",
    "        self.dueño = dueño\n",
    "\n",
    "mi_perro = Perro('mamífero', 7, 'Luis')\n",
    "mi_perro.especie\n",
    "mi_perro.edad\n",
    "mi_perro.dueño\n"
   ]
  },
  {
   "cell_type": "markdown",
   "id": "9515db56",
   "metadata": {},
   "source": [
    "<b> Herencia múltiple </b>\n",
    "\n",
    "En Python es posible realizar herencia múltiple. En otros posts hemos visto como se podía crear una clase padre que heredaba de una clase hija, pudiendo hacer uso de sus métodos y atributos. La herencia múltiple es similar, pero una clase hereda de varias clases padre en vez de una sola.\n",
    "\n",
    "Veamos un ejemplo. Por un lado tenemos dos clases Clase1 y Clase2, y por otro tenemos la Clase3 que hereda de las dos anteriores. Por lo tanto, heredará todos los métodos y atributos de ambas."
   ]
  },
  {
   "cell_type": "code",
   "execution_count": 31,
   "id": "f26b700e",
   "metadata": {},
   "outputs": [],
   "source": [
    "class Clase1:\n",
    "    pass\n",
    "class Clase2:\n",
    "    pass\n",
    "class Clase3(Clase1, Clase2):\n",
    "    pass\n"
   ]
  },
  {
   "cell_type": "code",
   "execution_count": 32,
   "id": "652c37e1",
   "metadata": {},
   "outputs": [
    {
     "name": "stdout",
     "output_type": "stream",
     "text": [
      "(<class '__main__.Clase3'>, <class '__main__.Clase1'>, <class '__main__.Clase2'>, <class 'object'>)\n"
     ]
    }
   ],
   "source": [
    "print(Clase3.__mro__)"
   ]
  },
  {
   "cell_type": "markdown",
   "id": "6237fea1",
   "metadata": {},
   "source": [
    "Una curiosidad es que al final del todo vemos la clase object. Aunque pueda parecer raro, es correcto ya que en realidad todas las clases en Python heredan de una clase genérica object, aunque no lo especifiquemos explícitamente.\n",
    "\n",
    "Y como último ejemplo,…el cielo es el límite. Podemos tener una clase heredando de otras tres. Fíjate en que el MRO depende del orden en el que las clases son pasadas: 1, 3, 2."
   ]
  },
  {
   "cell_type": "code",
   "execution_count": 33,
   "id": "bce4a0fe",
   "metadata": {},
   "outputs": [
    {
     "name": "stdout",
     "output_type": "stream",
     "text": [
      "(<class '__main__.Clase4'>, <class '__main__.Clase1'>, <class '__main__.Clase3'>, <class '__main__.Clase2'>, <class 'object'>)\n"
     ]
    }
   ],
   "source": [
    "class Clase1:\n",
    "    pass\n",
    "class Clase2:\n",
    "    pass\n",
    "class Clase3:\n",
    "    pass\n",
    "class Clase4(Clase1, Clase3, Clase2):\n",
    "    pass\n",
    "print(Clase4.__mro__)"
   ]
  },
  {
   "cell_type": "code",
   "execution_count": null,
   "id": "1bd8ec25",
   "metadata": {},
   "outputs": [],
   "source": []
  }
 ],
 "metadata": {
  "kernelspec": {
   "display_name": "Python 3 (ipykernel)",
   "language": "python",
   "name": "python3"
  },
  "language_info": {
   "codemirror_mode": {
    "name": "ipython",
    "version": 3
   },
   "file_extension": ".py",
   "mimetype": "text/x-python",
   "name": "python",
   "nbconvert_exporter": "python",
   "pygments_lexer": "ipython3",
   "version": "3.10.12"
  }
 },
 "nbformat": 4,
 "nbformat_minor": 5
}
