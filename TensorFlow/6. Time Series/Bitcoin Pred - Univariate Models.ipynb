{
 "cells": [
  {
   "cell_type": "markdown",
   "metadata": {},
   "source": [
    "# <center><b><font color='blue'>Bitcoin Price Prediction</font></b></center>"
   ]
  },
  {
   "cell_type": "markdown",
   "metadata": {},
   "source": [
    "TABLA DE CONTENIDO\n",
    "\n",
    "..."
   ]
  },
  {
   "cell_type": "markdown",
   "metadata": {},
   "source": [
    "<a name=\"1\"></a>\n",
    "## 1. Objetivos\n",
    "\n",
    "Aprender acerca de las series temporales."
   ]
  },
  {
   "cell_type": "markdown",
   "metadata": {},
   "source": [
    "<a name=\"2\"></a>\n",
    "## 2. Librerías necesarias"
   ]
  },
  {
   "cell_type": "code",
   "execution_count": 36,
   "metadata": {},
   "outputs": [],
   "source": [
    "# que no se impriman info y warnings\n",
    "import os\n",
    "os.environ['TF_CPP_MIN_LOG_LEVEL'] = '2' "
   ]
  },
  {
   "cell_type": "code",
   "execution_count": 37,
   "metadata": {},
   "outputs": [],
   "source": [
    "import tensorflow as tf\n",
    "import matplotlib.pyplot as plt\n",
    "import matplotlib.image as mpimg\n",
    "import numpy as np\n",
    "from tensorflow.keras import layers,callbacks,models,Sequential,losses\n",
    "import seaborn as sns\n",
    "from sklearn.metrics import confusion_matrix\n",
    "from tensorflow import keras\n",
    "from keras import backend as K\n",
    "import os,random\n",
    "import pandas as pd\n",
    "from tensorflow.keras.preprocessing.image import ImageDataGenerator\n",
    "from tensorflow.keras.preprocessing.image import ImageDataGenerator\n",
    "from tensorflow.keras.applications.efficientnet import preprocess_input\n",
    "from tensorflow.keras.layers.experimental import preprocessing\n",
    "import seaborn as sns\n",
    "from sklearn.metrics import classification_report, confusion_matrix\n",
    "import csv\n",
    "from datetime import datetime"
   ]
  },
  {
   "cell_type": "markdown",
   "metadata": {},
   "source": [
    "<a name=\"3\"></a>\n",
    "## 3. Helper Functions"
   ]
  },
  {
   "cell_type": "code",
   "execution_count": 38,
   "metadata": {},
   "outputs": [],
   "source": [
    "# Create a function to plot time series data\n",
    "def plot_time_series(timesteps, values, format=\".\", start=0, end=None, label=None):\n",
    "    \"\"\"\n",
    "    Plots timesteps (a series of points in time) against values (a series of values across timesteps).\n",
    "\n",
    "    Parameters\n",
    "    ----------\n",
    "    timesteps : array of timestep values\n",
    "    values : array of values across time\n",
    "    format : style of plot, default \".\"\n",
    "    start : where to start the plot (setting a value will index from start of timesteps & values)\n",
    "    end : where to end the plot (similar to start but for the end)\n",
    "    label : label to show on plot about values, default None \n",
    "    \"\"\"\n",
    "    # Plot the series\n",
    "    plt.plot(timesteps[start:end], values[start:end], format, label=label)\n",
    "    plt.xlabel(\"Time\")\n",
    "    plt.ylabel(\"BTC Price\")\n",
    "    if label:\n",
    "        plt.legend(fontsize=14) # make label bigger\n",
    "    plt.grid(True)\n",
    "\n",
    "\n",
    "    \n",
    "# se implementa MASE pues no existe en TF\n",
    "def mean_absolute_scaled_error(y_true, y_pred):\n",
    "  \"\"\"\n",
    "  Implement MASE (assuming no seasonality of data).\n",
    "  \"\"\"\n",
    "  mae = tf.reduce_mean(tf.abs(y_true-y_pred))\n",
    "\n",
    "  # Find MAE of naive forecast (no seasonality)\n",
    "  mae_naive_no_season = tf.reduce_mean(tf.abs(y_true[1:] - y_true[:-1])) # our seasonality is 1 day (hence the shift of 1)\n",
    "\n",
    "  return mae / mae_naive_no_season\n",
    "    \n",
    "    \n",
    "    \n",
    "# make predictions\n",
    "def make_preds(model, input_data):\n",
    "    \"\"\"\n",
    "    Uses model to make predictions input_data.\n",
    "    \"\"\"    \n",
    "    forecast = model.predict(input_data)\n",
    "    return tf.squeeze(forecast) # return 1D array of predictions\n",
    "\n",
    "\n",
    "\n",
    "# Evaluaci[on  de predicciones\n",
    "\n",
    "# Create a function to take in model predictions and truth values and return evaluation metrics\n",
    "# sirve para horizonte largo 1\n",
    "def evaluate_preds(y_true, y_pred):\n",
    "  # Make sure float32 datatype (for metric calculations)\n",
    "  y_true = tf.cast(y_true, dtype=tf.float32)\n",
    "  y_pred = tf.cast(y_pred, dtype=tf.float32)\n",
    "\n",
    "  # Calculate various evaluation metrics \n",
    "  mae = tf.keras.metrics.mean_absolute_error(y_true, y_pred)\n",
    "  mse = tf.keras.metrics.mean_squared_error(y_true, y_pred)\n",
    "  rmse = tf.sqrt(mse)\n",
    "  mape = tf.keras.metrics.mean_absolute_percentage_error(y_true, y_pred)\n",
    "  mase = mean_absolute_scaled_error(y_true, y_pred)\n",
    "\n",
    "  return {\"mae\": mae.numpy(),\n",
    "          \"mse\": mse.numpy(),\n",
    "          \"rmse\": rmse.numpy(),\n",
    "          \"mape\": mape.numpy(),\n",
    "          \"mase\": mase.numpy()}\n",
    "\n",
    "\n",
    "# Create a function to take in model predictions and truth values and return evaluation metrics\n",
    "def evaluate_preds_general(y_true, y_pred):\n",
    "  # Make sure float32 datatype (for metric calculations)\n",
    "  y_true = tf.cast(y_true, dtype=tf.float32)\n",
    "  y_pred = tf.cast(y_pred, dtype=tf.float32)\n",
    "\n",
    "  # Calculate various evaluation metrics \n",
    "  mae = tf.keras.metrics.mean_absolute_error(y_true, y_pred)\n",
    "  mse = tf.keras.metrics.mean_squared_error(y_true, y_pred)\n",
    "  rmse = tf.sqrt(mse)\n",
    "  mape = tf.keras.metrics.mean_absolute_percentage_error(y_true, y_pred)\n",
    "  mase = mean_absolute_scaled_error(y_true, y_pred)\n",
    "\n",
    "  # Account for different sized metrics (for longer horizons, we want to reduce metrics to a single value)\n",
    "  if mae.ndim > 0:\n",
    "    mae = tf.reduce_mean(mae)\n",
    "    mse = tf.reduce_mean(mse)\n",
    "    rmse = tf.reduce_mean(rmse)\n",
    "    mape = tf.reduce_mean(mape)\n",
    "    mase = tf.reduce_mean(mase)\n",
    "\n",
    "  return {\"mae\": mae.numpy(),\n",
    "          \"mse\": mse.numpy(),\n",
    "          \"rmse\": rmse.numpy(),\n",
    "          \"mape\": mape.numpy(),\n",
    "          \"mase\": mase.numpy()}\n",
    "\n",
    "\n",
    "\n",
    "\n",
    "# Make the train/test splits para nuestro dataset ventaneado\n",
    "def make_train_test_splits(windows, labels, test_split=0.2):\n",
    "    \"\"\"\n",
    "    Splits matching pairs of winodws and labels into train and test splits.\n",
    "    \n",
    "    Recine arreglos de numpy\n",
    "    Devuelve arreglos de numpy\n",
    "    \n",
    "    \"\"\"\n",
    "    split_size = int(len(windows) * (1-test_split)) # this will default to 80% train/20% test: len(windows)=2780 aqu[i\n",
    "    train_windows = windows[:split_size]\n",
    "    train_labels = labels[:split_size]\n",
    "    test_windows = windows[split_size:]\n",
    "    test_labels = labels[split_size:]\n",
    "    return train_windows, test_windows, train_labels, test_labels\n",
    "\n",
    "# create windowed dataset\n",
    "def create_windowed_dataset(dataset,window_size):\n",
    "    \"\"\"\n",
    "    dataset: a dataset with a key \"price\"\n",
    "    window size\n",
    "    \"\"\"\n",
    "    # Make a copy of the Bitcoin historical data with block reward feature\n",
    "    dataset_windowed = dataset.copy()\n",
    "    # Add windowed columns\n",
    "    for i in range(window_size): # shift values for each step in WINDOW_SIZE\n",
    "        dataset_windowed[f\"Price+{i+1}\"] = dataset_windowed[\"Price\"].shift(periods=i+1)\n",
    "        \n",
    "    \n",
    "    # drop nan values\n",
    "    dataset_windowed.dropna(inplace=True)\n",
    "    \n",
    "    # convert to float32\n",
    "    dataset_windowed[\"Price\"] = dataset_windowed[\"Price\"].astype(np.float32)\n",
    "\n",
    "    # return\n",
    "    return dataset_windowed"
   ]
  },
  {
   "cell_type": "markdown",
   "metadata": {},
   "source": [
    "<a name=\"4\"></a>\n",
    "## 4. Carga y pre-procesamiento de datos"
   ]
  },
  {
   "cell_type": "markdown",
   "metadata": {},
   "source": [
    "Descargamos los datos de https://www.coindesk.com/price/bitcoin/"
   ]
  },
  {
   "cell_type": "code",
   "execution_count": 4,
   "metadata": {},
   "outputs": [
    {
     "name": "stderr",
     "output_type": "stream",
     "text": [
      "'wget' is not recognized as an internal or external command,\n",
      "operable program or batch file.\n"
     ]
    }
   ],
   "source": [
    "!wget https://raw.githubusercontent.com/mrdbourke/tensorflow-deep-learning/main/extras/BTC_USD_2013-10-01_2021-05-18-CoinDesk.csv "
   ]
  },
  {
   "cell_type": "code",
   "execution_count": 39,
   "metadata": {},
   "outputs": [
    {
     "data": {
      "text/html": [
       "<div>\n",
       "<style scoped>\n",
       "    .dataframe tbody tr th:only-of-type {\n",
       "        vertical-align: middle;\n",
       "    }\n",
       "\n",
       "    .dataframe tbody tr th {\n",
       "        vertical-align: top;\n",
       "    }\n",
       "\n",
       "    .dataframe thead th {\n",
       "        text-align: right;\n",
       "    }\n",
       "</style>\n",
       "<table border=\"1\" class=\"dataframe\">\n",
       "  <thead>\n",
       "    <tr style=\"text-align: right;\">\n",
       "      <th></th>\n",
       "      <th>Currency</th>\n",
       "      <th>Closing Price (USD)</th>\n",
       "      <th>24h Open (USD)</th>\n",
       "      <th>24h High (USD)</th>\n",
       "      <th>24h Low (USD)</th>\n",
       "    </tr>\n",
       "    <tr>\n",
       "      <th>Date</th>\n",
       "      <th></th>\n",
       "      <th></th>\n",
       "      <th></th>\n",
       "      <th></th>\n",
       "      <th></th>\n",
       "    </tr>\n",
       "  </thead>\n",
       "  <tbody>\n",
       "    <tr>\n",
       "      <th>2013-10-01</th>\n",
       "      <td>BTC</td>\n",
       "      <td>123.65499</td>\n",
       "      <td>124.30466</td>\n",
       "      <td>124.75166</td>\n",
       "      <td>122.56349</td>\n",
       "    </tr>\n",
       "    <tr>\n",
       "      <th>2013-10-02</th>\n",
       "      <td>BTC</td>\n",
       "      <td>125.45500</td>\n",
       "      <td>123.65499</td>\n",
       "      <td>125.75850</td>\n",
       "      <td>123.63383</td>\n",
       "    </tr>\n",
       "    <tr>\n",
       "      <th>2013-10-03</th>\n",
       "      <td>BTC</td>\n",
       "      <td>108.58483</td>\n",
       "      <td>125.45500</td>\n",
       "      <td>125.66566</td>\n",
       "      <td>83.32833</td>\n",
       "    </tr>\n",
       "    <tr>\n",
       "      <th>2013-10-04</th>\n",
       "      <td>BTC</td>\n",
       "      <td>118.67466</td>\n",
       "      <td>108.58483</td>\n",
       "      <td>118.67500</td>\n",
       "      <td>107.05816</td>\n",
       "    </tr>\n",
       "    <tr>\n",
       "      <th>2013-10-05</th>\n",
       "      <td>BTC</td>\n",
       "      <td>121.33866</td>\n",
       "      <td>118.67466</td>\n",
       "      <td>121.93633</td>\n",
       "      <td>118.00566</td>\n",
       "    </tr>\n",
       "  </tbody>\n",
       "</table>\n",
       "</div>"
      ],
      "text/plain": [
       "           Currency  Closing Price (USD)  24h Open (USD)  24h High (USD)  \\\n",
       "Date                                                                       \n",
       "2013-10-01      BTC            123.65499       124.30466       124.75166   \n",
       "2013-10-02      BTC            125.45500       123.65499       125.75850   \n",
       "2013-10-03      BTC            108.58483       125.45500       125.66566   \n",
       "2013-10-04      BTC            118.67466       108.58483       118.67500   \n",
       "2013-10-05      BTC            121.33866       118.67466       121.93633   \n",
       "\n",
       "            24h Low (USD)  \n",
       "Date                       \n",
       "2013-10-01      122.56349  \n",
       "2013-10-02      123.63383  \n",
       "2013-10-03       83.32833  \n",
       "2013-10-04      107.05816  \n",
       "2013-10-05      118.00566  "
      ]
     },
     "execution_count": 39,
     "metadata": {},
     "output_type": "execute_result"
    }
   ],
   "source": [
    "# importamos los datos con pandas\n",
    "\n",
    "df = pd.read_csv(\"BTC_USD_2013-10-01_2021-05-18-CoinDesk.csv\",\n",
    "                 parse_dates=[\"Date\"],\n",
    "                 index_col=[\"Date\"]) # prase the date column and tell pandas column 1 is a datetime \n",
    "\n",
    "df.head()"
   ]
  },
  {
   "cell_type": "code",
   "execution_count": 53,
   "metadata": {},
   "outputs": [
    {
     "name": "stdout",
     "output_type": "stream",
     "text": [
      "<class 'pandas.core.frame.DataFrame'>\n",
      "DatetimeIndex: 2787 entries, 2013-10-01 to 2021-05-18\n",
      "Data columns (total 5 columns):\n",
      " #   Column               Non-Null Count  Dtype  \n",
      "---  ------               --------------  -----  \n",
      " 0   Currency             2787 non-null   object \n",
      " 1   Closing Price (USD)  2787 non-null   float64\n",
      " 2   24h Open (USD)       2787 non-null   float64\n",
      " 3   24h High (USD)       2787 non-null   float64\n",
      " 4   24h Low (USD)        2787 non-null   float64\n",
      "dtypes: float64(4), object(1)\n",
      "memory usage: 130.6+ KB\n"
     ]
    }
   ],
   "source": [
    "df.info()"
   ]
  },
  {
   "cell_type": "code",
   "execution_count": 54,
   "metadata": {},
   "outputs": [
    {
     "data": {
      "text/plain": [
       "(2787, 5)"
      ]
     },
     "execution_count": 54,
     "metadata": {},
     "output_type": "execute_result"
    }
   ],
   "source": [
    "df.shape"
   ]
  },
  {
   "cell_type": "code",
   "execution_count": 40,
   "metadata": {},
   "outputs": [
    {
     "data": {
      "text/html": [
       "<div>\n",
       "<style scoped>\n",
       "    .dataframe tbody tr th:only-of-type {\n",
       "        vertical-align: middle;\n",
       "    }\n",
       "\n",
       "    .dataframe tbody tr th {\n",
       "        vertical-align: top;\n",
       "    }\n",
       "\n",
       "    .dataframe thead th {\n",
       "        text-align: right;\n",
       "    }\n",
       "</style>\n",
       "<table border=\"1\" class=\"dataframe\">\n",
       "  <thead>\n",
       "    <tr style=\"text-align: right;\">\n",
       "      <th></th>\n",
       "      <th>Price</th>\n",
       "    </tr>\n",
       "    <tr>\n",
       "      <th>Date</th>\n",
       "      <th></th>\n",
       "    </tr>\n",
       "  </thead>\n",
       "  <tbody>\n",
       "    <tr>\n",
       "      <th>2013-10-01</th>\n",
       "      <td>123.65499</td>\n",
       "    </tr>\n",
       "    <tr>\n",
       "      <th>2013-10-02</th>\n",
       "      <td>125.45500</td>\n",
       "    </tr>\n",
       "    <tr>\n",
       "      <th>2013-10-03</th>\n",
       "      <td>108.58483</td>\n",
       "    </tr>\n",
       "    <tr>\n",
       "      <th>2013-10-04</th>\n",
       "      <td>118.67466</td>\n",
       "    </tr>\n",
       "    <tr>\n",
       "      <th>2013-10-05</th>\n",
       "      <td>121.33866</td>\n",
       "    </tr>\n",
       "  </tbody>\n",
       "</table>\n",
       "</div>"
      ],
      "text/plain": [
       "                Price\n",
       "Date                 \n",
       "2013-10-01  123.65499\n",
       "2013-10-02  125.45500\n",
       "2013-10-03  108.58483\n",
       "2013-10-04  118.67466\n",
       "2013-10-05  121.33866"
      ]
     },
     "execution_count": 40,
     "metadata": {},
     "output_type": "execute_result"
    }
   ],
   "source": [
    "# me quedo sólo con lo que preciso y hago un rename\n",
    "bitcoin_prices = pd.DataFrame(df[\"Closing Price (USD)\"]).rename(columns={\"Closing Price (USD)\": \"Price\"})\n",
    "bitcoin_prices.head()"
   ]
  },
  {
   "cell_type": "code",
   "execution_count": 41,
   "metadata": {},
   "outputs": [
    {
     "data": {
      "image/png": "[encoded data removed]",
      "text/plain": [
       "<Figure size 648x360 with 1 Axes>"
      ]
     },
     "metadata": {
      "needs_background": "light"
     },
     "output_type": "display_data"
    }
   ],
   "source": [
    "bitcoin_prices.plot(figsize=(9, 5))\n",
    "plt.ylabel(\"BTC Price\")\n",
    "plt.title(\"Price of Bitcoin from 1 Oct 2013 to 18 May 2021\", fontsize=16)\n",
    "plt.legend(fontsize=14);"
   ]
  },
  {
   "cell_type": "markdown",
   "metadata": {},
   "source": [
    "### Train test split\n",
    "\n",
    "NO puedo usar train_test_split de sklearn así nomás, pues hace una división aleatoria y esto es una serie temporal; el orden importa!!!\n",
    "\n",
    "Por ello, en lugar de usar train/test/split de ScikitLearn, usaremos slicing."
   ]
  },
  {
   "cell_type": "code",
   "execution_count": 42,
   "metadata": {},
   "outputs": [
    {
     "data": {
      "text/plain": [
       "(array(['2013-10-01T00:00:00.000000000', '2013-10-02T00:00:00.000000000',\n",
       "        '2013-10-03T00:00:00.000000000', '2013-10-04T00:00:00.000000000',\n",
       "        '2013-10-05T00:00:00.000000000', '2013-10-06T00:00:00.000000000',\n",
       "        '2013-10-07T00:00:00.000000000', '2013-10-08T00:00:00.000000000',\n",
       "        '2013-10-09T00:00:00.000000000', '2013-10-10T00:00:00.000000000'],\n",
       "       dtype='datetime64[ns]'),\n",
       " array([123.65499, 125.455  , 108.58483, 118.67466, 121.33866, 120.65533,\n",
       "        121.795  , 123.033  , 124.049  , 125.96116]))"
      ]
     },
     "execution_count": 42,
     "metadata": {},
     "output_type": "execute_result"
    }
   ],
   "source": [
    "# Get bitcoin date array\n",
    "timesteps = bitcoin_prices.index.to_numpy()\n",
    "prices = bitcoin_prices[\"Price\"].to_numpy()\n",
    "\n",
    "timesteps[:10], prices[:10]"
   ]
  },
  {
   "cell_type": "code",
   "execution_count": 43,
   "metadata": {},
   "outputs": [],
   "source": [
    "# Create train and test splits the right way for time series data\n",
    "split_size = int(0.8 * len(prices)) # 80% train, 20% test - you can change these values as needed, e.g. 90/10, 95/5\n",
    "\n",
    "# Create train data splits (everything before the split)\n",
    "X_train, y_train = timesteps[:split_size], prices[:split_size]\n",
    "\n",
    "# Create test data splits (everything beyond the split)\n",
    "X_test, y_test = timesteps[split_size:], prices[split_size:]"
   ]
  },
  {
   "cell_type": "code",
   "execution_count": 44,
   "metadata": {},
   "outputs": [
    {
     "data": {
      "image/png": "[encoded data removed]",
      "text/plain": [
       "<Figure size 648x432 with 1 Axes>"
      ]
     },
     "metadata": {
      "needs_background": "light"
     },
     "output_type": "display_data"
    }
   ],
   "source": [
    "# Test out plotting function\n",
    "plt.figure(figsize=(9, 6))\n",
    "plot_time_series(timesteps=X_train, values=y_train, label=\"Train data\")\n",
    "plot_time_series(timesteps=X_test, values=y_test, label=\"Test data\")"
   ]
  },
  {
   "cell_type": "markdown",
   "metadata": {},
   "source": [
    "<a name=\"6\"></a>\n",
    "## 5. Modelos\n",
    "\n",
    "Terms to be familiar with:\n",
    "* **Horizon** = number of timesteps into the future we're going to predict\n",
    "* **Window size** = number of timesteps we're going to use to predict **horizon**\n",
    "\n",
    "Modelling experiments we're running:\n",
    "* 0\tNaïve model (baseline)\t\n",
    "* 1\tDense model, horizon = 1, window = 7\n",
    "* 2\tSame as 1, \thorizon = 1, window = 30\n",
    "* 3\tSame as 1, \thorizon = 7, window =\t30\n",
    "* 4\tConv1D\n",
    "* 5\tLSTM"
   ]
  },
  {
   "cell_type": "markdown",
   "metadata": {},
   "source": [
    "### 5.1. Naive Forecast\n",
    "\n",
    "The formula looks like this:\n",
    "\n",
    "$$\\hat{y}_{t} = y_{t-1}$$\n",
    "\n",
    "In English:\n",
    "\n",
    "> The prediction at timestep t (y-hat) is equal to the value at timestep t-1 (previous timestep) - this is for a horizon of 1."
   ]
  },
  {
   "cell_type": "code",
   "execution_count": 45,
   "metadata": {},
   "outputs": [
    {
     "data": {
      "text/plain": [
       "(array([9226.48582088, 8794.35864452, 8798.04205463, 9081.18687849,\n",
       "        8711.53433917, 8760.89271814, 8749.52059102, 8656.97092235,\n",
       "        8500.64355816, 8469.2608989 ]),\n",
       " array([57107.12067189, 58788.20967893, 58102.19142623, 55715.54665129,\n",
       "        56573.5554719 , 52147.82118698, 49764.1320816 , 50032.69313676,\n",
       "        47885.62525472, 45604.61575361]))"
      ]
     },
     "execution_count": 45,
     "metadata": {},
     "output_type": "execute_result"
    }
   ],
   "source": [
    "# Create a naive forecast \n",
    "naive_forecast = y_test[:-1]\n",
    "\n",
    "naive_forecast[:10], naive_forecast[-10:]"
   ]
  },
  {
   "cell_type": "markdown",
   "metadata": {},
   "source": [
    "----------------------- GRAFICAS!!!!!!!!!!"
   ]
  },
  {
   "cell_type": "markdown",
   "metadata": {},
   "source": [
    "### Model 1: Dense model (window = 7, horizon = 1)\n",
    "\n",
    "Our first deep model is going to be a simple dense model:\n",
    "* A single dense layer with 128 hidden units and ReLU\n",
    "* An output layer with linear activation (no activation)\n",
    "* Adam optimizaiton and MAE loss function\n",
    "* Batch size of 128 (previously we've used 32) \n",
    "* 100 epochs \n",
    "\n",
    "Why these values?\n",
    "\n",
    "I picked them out of experimentation.\n",
    "\n",
    "* **Hyperparameters** = values a machine learning practitioner (you!) can adjust themselves\n",
    "* **Parameters** = values a model learns on its own"
   ]
  },
  {
   "cell_type": "code",
   "execution_count": 63,
   "metadata": {},
   "outputs": [],
   "source": [
    "# Setup dataset hyperparameters\n",
    "HORIZON_M1 = 1\n",
    "WINDOW_SIZE_M1 = 7"
   ]
  },
  {
   "cell_type": "code",
   "execution_count": 64,
   "metadata": {},
   "outputs": [],
   "source": [
    "bitcoin_windowed_m1 = create_windowed_dataset(bitcoin_prices,WINDOW_SIZE_M1)"
   ]
  },
  {
   "cell_type": "code",
   "execution_count": 65,
   "metadata": {},
   "outputs": [],
   "source": [
    "# Create X (windows) and y (horizons) features\n",
    "X = bitcoin_windowed_m4.drop(\"Price\", axis=1)\n",
    "y = bitcoin_windowed_m4[\"Price\"]"
   ]
  },
  {
   "cell_type": "code",
   "execution_count": 66,
   "metadata": {},
   "outputs": [
    {
     "data": {
      "text/plain": [
       "(2224, 2224, 556, 556)"
      ]
     },
     "execution_count": 66,
     "metadata": {},
     "output_type": "execute_result"
    }
   ],
   "source": [
    "X_train, X_test, y_train, y_test = make_train_test_splits(X.values, y.values)\n",
    "len(X_train), len(y_train), len(X_test), len(y_test)"
   ]
  },
  {
   "cell_type": "code",
   "execution_count": 67,
   "metadata": {},
   "outputs": [
    {
     "data": {
      "text/plain": [
       "<keras.callbacks.History at 0x1fc1b9b3610>"
      ]
     },
     "execution_count": 67,
     "metadata": {},
     "output_type": "execute_result"
    }
   ],
   "source": [
    "# 1. Construct model\n",
    "model_1 = tf.keras.Sequential([\n",
    "  layers.Dense(128, activation=\"relu\"),\n",
    "  layers.Dense(HORIZON, activation=\"linear\")               \n",
    "], name=\"model_1_dense\") # name our model so we can save it\n",
    "\n",
    "# 2. Compile\n",
    "model_1.compile(loss=\"mae\",\n",
    "                optimizer=tf.keras.optimizers.Adam(),\n",
    "                metrics=[\"mae\", \"mse\"])\n",
    "\n",
    "# 3. Fit the model\n",
    "model_1.fit(x=X_train,\n",
    "            y=y_train,\n",
    "            epochs=100,\n",
    "            verbose=0,\n",
    "            batch_size=128,\n",
    "            validation_data=(X_test, y_test))\n",
    "            #callbacks=[create_model_checkpoint(model_name=model_1.name)])"
   ]
  },
  {
   "cell_type": "code",
   "execution_count": 68,
   "metadata": {},
   "outputs": [
    {
     "name": "stdout",
     "output_type": "stream",
     "text": [
      "18/18 [==============================] - 0s 5ms/step - loss: 581.4818 - mae: 581.4818 - mse: 1182630.5000\n"
     ]
    },
    {
     "data": {
      "text/plain": [
       "[581.4818115234375, 581.4818115234375, 1182630.5]"
      ]
     },
     "execution_count": 68,
     "metadata": {},
     "output_type": "execute_result"
    }
   ],
   "source": [
    "# Evaluate model on test data\n",
    "model_1.evaluate(X_test, y_test)"
   ]
  },
  {
   "cell_type": "code",
   "execution_count": 69,
   "metadata": {},
   "outputs": [
    {
     "data": {
      "text/plain": [
       "<bound method Model.predict of <keras.engine.sequential.Sequential object at 0x000001FC1B994CD0>>"
      ]
     },
     "execution_count": 69,
     "metadata": {},
     "output_type": "execute_result"
    }
   ],
   "source": [
    "model_1.predict"
   ]
  },
  {
   "cell_type": "code",
   "execution_count": 70,
   "metadata": {},
   "outputs": [
    {
     "name": "stdout",
     "output_type": "stream",
     "text": [
      "18/18 [==============================] - 0s 4ms/step\n"
     ]
    },
    {
     "data": {
      "text/plain": [
       "(556,\n",
       " <tf.Tensor: shape=(10,), dtype=float32, numpy=\n",
       " array([8790.473 , 8728.201 , 8976.211 , 8696.999 , 8694.8545, 8689.759 ,\n",
       "        8615.991 , 8461.55  , 8413.3955, 8469.261 ], dtype=float32)>)"
      ]
     },
     "execution_count": 70,
     "metadata": {},
     "output_type": "execute_result"
    }
   ],
   "source": [
    "# Make predictions using model_1 on the test dataset and view results\n",
    "model_1_preds = make_preds(model_1, X_test) \n",
    "len(model_1_preds), model_1_preds[:10]"
   ]
  },
  {
   "cell_type": "code",
   "execution_count": 71,
   "metadata": {},
   "outputs": [
    {
     "data": {
      "text/plain": [
       "{'mae': 581.48157,\n",
       " 'mse': 1182630.5,\n",
       " 'rmse': 1087.4882,\n",
       " 'mape': 2.5961907,\n",
       " 'mase': 1.021502}"
      ]
     },
     "execution_count": 71,
     "metadata": {},
     "output_type": "execute_result"
    }
   ],
   "source": [
    "# Evaluate preds\n",
    "model_1_results = evaluate_preds_general(y_true=tf.squeeze(y_test),\n",
    "                                 y_pred=model_1_preds) # ídem con evaluate_preds\n",
    "model_1_results"
   ]
  },
  {
   "cell_type": "code",
   "execution_count": null,
   "metadata": {},
   "outputs": [],
   "source": [
    "### Model 1: Dense model (window = 7, horizon = 1)"
   ]
  },
  {
   "cell_type": "markdown",
   "metadata": {},
   "source": [
    "### Model 4 : Conv1D"
   ]
  },
  {
   "cell_type": "markdown",
   "metadata": {},
   "source": [
    "1. Crear ventanas\n",
    "\n",
    "2. Train/test split"
   ]
  },
  {
   "cell_type": "code",
   "execution_count": 6,
   "metadata": {},
   "outputs": [],
   "source": [
    "HORIZON = 1 # predict next day of Bitcoin prices\n",
    "WINDOW_SIZE = 7 # use previous week worth data"
   ]
  },
  {
   "cell_type": "code",
   "execution_count": 15,
   "metadata": {},
   "outputs": [],
   "source": [
    "bitcoin_windowed_m4 = create_windowed_dataset(bitcoin_prices,WINDOW_SIZE)"
   ]
  },
  {
   "cell_type": "code",
   "execution_count": 16,
   "metadata": {},
   "outputs": [
    {
     "data": {
      "text/html": [
       "<div>\n",
       "<style scoped>\n",
       "    .dataframe tbody tr th:only-of-type {\n",
       "        vertical-align: middle;\n",
       "    }\n",
       "\n",
       "    .dataframe tbody tr th {\n",
       "        vertical-align: top;\n",
       "    }\n",
       "\n",
       "    .dataframe thead th {\n",
       "        text-align: right;\n",
       "    }\n",
       "</style>\n",
       "<table border=\"1\" class=\"dataframe\">\n",
       "  <thead>\n",
       "    <tr style=\"text-align: right;\">\n",
       "      <th></th>\n",
       "      <th>Price</th>\n",
       "      <th>Price+1</th>\n",
       "      <th>Price+2</th>\n",
       "      <th>Price+3</th>\n",
       "      <th>Price+4</th>\n",
       "      <th>Price+5</th>\n",
       "      <th>Price+6</th>\n",
       "      <th>Price+7</th>\n",
       "    </tr>\n",
       "    <tr>\n",
       "      <th>Date</th>\n",
       "      <th></th>\n",
       "      <th></th>\n",
       "      <th></th>\n",
       "      <th></th>\n",
       "      <th></th>\n",
       "      <th></th>\n",
       "      <th></th>\n",
       "      <th></th>\n",
       "    </tr>\n",
       "  </thead>\n",
       "  <tbody>\n",
       "    <tr>\n",
       "      <th>2013-10-08</th>\n",
       "      <td>123.032997</td>\n",
       "      <td>121.79500</td>\n",
       "      <td>120.65533</td>\n",
       "      <td>121.33866</td>\n",
       "      <td>118.67466</td>\n",
       "      <td>108.58483</td>\n",
       "      <td>125.45500</td>\n",
       "      <td>123.65499</td>\n",
       "    </tr>\n",
       "    <tr>\n",
       "      <th>2013-10-09</th>\n",
       "      <td>124.049004</td>\n",
       "      <td>123.03300</td>\n",
       "      <td>121.79500</td>\n",
       "      <td>120.65533</td>\n",
       "      <td>121.33866</td>\n",
       "      <td>118.67466</td>\n",
       "      <td>108.58483</td>\n",
       "      <td>125.45500</td>\n",
       "    </tr>\n",
       "    <tr>\n",
       "      <th>2013-10-10</th>\n",
       "      <td>125.961159</td>\n",
       "      <td>124.04900</td>\n",
       "      <td>123.03300</td>\n",
       "      <td>121.79500</td>\n",
       "      <td>120.65533</td>\n",
       "      <td>121.33866</td>\n",
       "      <td>118.67466</td>\n",
       "      <td>108.58483</td>\n",
       "    </tr>\n",
       "    <tr>\n",
       "      <th>2013-10-11</th>\n",
       "      <td>125.279663</td>\n",
       "      <td>125.96116</td>\n",
       "      <td>124.04900</td>\n",
       "      <td>123.03300</td>\n",
       "      <td>121.79500</td>\n",
       "      <td>120.65533</td>\n",
       "      <td>121.33866</td>\n",
       "      <td>118.67466</td>\n",
       "    </tr>\n",
       "    <tr>\n",
       "      <th>2013-10-12</th>\n",
       "      <td>125.927498</td>\n",
       "      <td>125.27966</td>\n",
       "      <td>125.96116</td>\n",
       "      <td>124.04900</td>\n",
       "      <td>123.03300</td>\n",
       "      <td>121.79500</td>\n",
       "      <td>120.65533</td>\n",
       "      <td>121.33866</td>\n",
       "    </tr>\n",
       "    <tr>\n",
       "      <th>2013-10-13</th>\n",
       "      <td>126.383331</td>\n",
       "      <td>125.92750</td>\n",
       "      <td>125.27966</td>\n",
       "      <td>125.96116</td>\n",
       "      <td>124.04900</td>\n",
       "      <td>123.03300</td>\n",
       "      <td>121.79500</td>\n",
       "      <td>120.65533</td>\n",
       "    </tr>\n",
       "    <tr>\n",
       "      <th>2013-10-14</th>\n",
       "      <td>135.241989</td>\n",
       "      <td>126.38333</td>\n",
       "      <td>125.92750</td>\n",
       "      <td>125.27966</td>\n",
       "      <td>125.96116</td>\n",
       "      <td>124.04900</td>\n",
       "      <td>123.03300</td>\n",
       "      <td>121.79500</td>\n",
       "    </tr>\n",
       "    <tr>\n",
       "      <th>2013-10-15</th>\n",
       "      <td>133.203323</td>\n",
       "      <td>135.24199</td>\n",
       "      <td>126.38333</td>\n",
       "      <td>125.92750</td>\n",
       "      <td>125.27966</td>\n",
       "      <td>125.96116</td>\n",
       "      <td>124.04900</td>\n",
       "      <td>123.03300</td>\n",
       "    </tr>\n",
       "    <tr>\n",
       "      <th>2013-10-16</th>\n",
       "      <td>142.763336</td>\n",
       "      <td>133.20333</td>\n",
       "      <td>135.24199</td>\n",
       "      <td>126.38333</td>\n",
       "      <td>125.92750</td>\n",
       "      <td>125.27966</td>\n",
       "      <td>125.96116</td>\n",
       "      <td>124.04900</td>\n",
       "    </tr>\n",
       "    <tr>\n",
       "      <th>2013-10-17</th>\n",
       "      <td>137.923325</td>\n",
       "      <td>142.76333</td>\n",
       "      <td>133.20333</td>\n",
       "      <td>135.24199</td>\n",
       "      <td>126.38333</td>\n",
       "      <td>125.92750</td>\n",
       "      <td>125.27966</td>\n",
       "      <td>125.96116</td>\n",
       "    </tr>\n",
       "  </tbody>\n",
       "</table>\n",
       "</div>"
      ],
      "text/plain": [
       "                 Price    Price+1    Price+2    Price+3    Price+4    Price+5  \\\n",
       "Date                                                                            \n",
       "2013-10-08  123.032997  121.79500  120.65533  121.33866  118.67466  108.58483   \n",
       "2013-10-09  124.049004  123.03300  121.79500  120.65533  121.33866  118.67466   \n",
       "2013-10-10  125.961159  124.04900  123.03300  121.79500  120.65533  121.33866   \n",
       "2013-10-11  125.279663  125.96116  124.04900  123.03300  121.79500  120.65533   \n",
       "2013-10-12  125.927498  125.27966  125.96116  124.04900  123.03300  121.79500   \n",
       "2013-10-13  126.383331  125.92750  125.27966  125.96116  124.04900  123.03300   \n",
       "2013-10-14  135.241989  126.38333  125.92750  125.27966  125.96116  124.04900   \n",
       "2013-10-15  133.203323  135.24199  126.38333  125.92750  125.27966  125.96116   \n",
       "2013-10-16  142.763336  133.20333  135.24199  126.38333  125.92750  125.27966   \n",
       "2013-10-17  137.923325  142.76333  133.20333  135.24199  126.38333  125.92750   \n",
       "\n",
       "              Price+6    Price+7  \n",
       "Date                              \n",
       "2013-10-08  125.45500  123.65499  \n",
       "2013-10-09  108.58483  125.45500  \n",
       "2013-10-10  118.67466  108.58483  \n",
       "2013-10-11  121.33866  118.67466  \n",
       "2013-10-12  120.65533  121.33866  \n",
       "2013-10-13  121.79500  120.65533  \n",
       "2013-10-14  123.03300  121.79500  \n",
       "2013-10-15  124.04900  123.03300  \n",
       "2013-10-16  125.96116  124.04900  \n",
       "2013-10-17  125.27966  125.96116  "
      ]
     },
     "execution_count": 16,
     "metadata": {},
     "output_type": "execute_result"
    }
   ],
   "source": [
    "bitcoin_windowed_m4.head(10)"
   ]
  },
  {
   "cell_type": "code",
   "execution_count": 18,
   "metadata": {},
   "outputs": [],
   "source": [
    "# Create X (windows) and y (horizons) features\n",
    "X = bitcoin_windowed_m4.drop(\"Price\", axis=1)\n",
    "y = bitcoin_windowed_m4[\"Price\"]"
   ]
  },
  {
   "cell_type": "code",
   "execution_count": 19,
   "metadata": {},
   "outputs": [
    {
     "data": {
      "text/plain": [
       "pandas.core.frame.DataFrame"
      ]
     },
     "execution_count": 19,
     "metadata": {},
     "output_type": "execute_result"
    }
   ],
   "source": [
    "type(X)"
   ]
  },
  {
   "cell_type": "code",
   "execution_count": 22,
   "metadata": {},
   "outputs": [
    {
     "data": {
      "text/plain": [
       "(2224, 2224, 556, 556)"
      ]
     },
     "execution_count": 22,
     "metadata": {},
     "output_type": "execute_result"
    }
   ],
   "source": [
    "# train/test split\n",
    "\n",
    "\n",
    "train_windows, test_windows, train_labels, test_labels = make_train_test_splits(X.values, y.values)\n",
    "len(train_windows), len(train_labels), len(test_windows), len(test_labels)\n"
   ]
  },
  {
   "cell_type": "code",
   "execution_count": 23,
   "metadata": {},
   "outputs": [
    {
     "data": {
      "text/plain": [
       "numpy.ndarray"
      ]
     },
     "execution_count": 23,
     "metadata": {},
     "output_type": "execute_result"
    }
   ],
   "source": [
    "type(train_windows)"
   ]
  },
  {
   "cell_type": "markdown",
   "metadata": {},
   "source": [
    "To use the Conv1D layer, we need an input shape of: `(batch_size, timesteps, input_dim)`...\n",
    "\n",
    "However our data isn't in that shape yet...\n",
    "\n",
    "En el contexto de un problema de series temporales con un horizonte (horizon) de 1 y un tamaño de ventana (window_size) de 7, la forma del tensor de entrada (input_shape) sería crucial para determinar el tamaño de input_dim. La forma general del tensor sería (batch_size, window_size, input_dim).\n",
    "\n",
    "Dado que window_size es 7, el modelo consideraría secuencias de 7 pasos temporales como entrada en cada lote. Sin embargo, el horizonte de predicción (horizon) es 1, lo que significa que el modelo está diseñado para predecir el siguiente paso temporal en cada secuencia.\n",
    "\n",
    "Por lo tanto, el tamaño de input_dim debe ser el número de características o variables en cada paso temporal. Si tus secuencias tienen una única característica en cada paso de tiempo (por ejemplo, univariadas), entonces input_dim sería 1. Si tienes múltiples características en cada paso de tiempo (por ejemplo, series temporales multivariadas), entonces input_dim sería el número total de características.\n",
    "\n",
    "Entonces, en resumen, para un problema de series temporales con un horizonte de 1 y una ventana de 7, y si tus datos tienen una sola característica en cada paso de tiempo, input_dim debería ser 1. Si tienes múltiples características en cada paso de tiempo, input_dim sería el número total de características."
   ]
  },
  {
   "cell_type": "code",
   "execution_count": 24,
   "metadata": {},
   "outputs": [],
   "source": [
    "expand_dims_layer = layers.Lambda(lambda x: tf.expand_dims(x, axis=1)) # add an extra dimension for `input_dim`"
   ]
  },
  {
   "cell_type": "code",
   "execution_count": 27,
   "metadata": {},
   "outputs": [
    {
     "name": "stdout",
     "output_type": "stream",
     "text": [
      "Original shape: (7,)\n",
      "Expanded shape: (7, 1)\n",
      "Original values with expanded shape:\n",
      " [[121.795  ]\n",
      " [120.65533]\n",
      " [121.33866]\n",
      " [118.67466]\n",
      " [108.58483]\n",
      " [125.455  ]\n",
      " [123.65499]]\n"
     ]
    }
   ],
   "source": [
    "\n",
    "\n",
    "\n",
    "x = tf.constant(train_windows[0]) #.values[0]) # convierto df a numpy<   train_windows.values[0]\n",
    "\n",
    "# Test out our lambda layer\n",
    "print(f\"Original shape: {x.shape}\") # (WINDIW_SIZE)\n",
    "print(f\"Expanded shape: {expand_dims_layer(x).shape}\") # output = ...?\n",
    "print(f\"Original values with expanded shape:\\n {expand_dims_layer(x)}\")\n"
   ]
  },
  {
   "cell_type": "code",
   "execution_count": 121,
   "metadata": {},
   "outputs": [],
   "source": [
    "def build_model_4(x,horizon):\n",
    "    model = tf.keras.Sequential([\n",
    "        layers.Lambda(lambda x: tf.expand_dims(x, axis=1)),\n",
    "        tf.keras.layers.Conv1D(filters=128, kernel_size=5, strides=1, padding=\"causal\", activation=\"relu\"),\n",
    "        tf.keras.layers.Dense(horizon)\n",
    "    ],name=\"model_4_conv1D\")\n",
    "    return model\n",
    "    \n",
    "    \n",
    "model_4 = build_model_4(x,1)"
   ]
  },
  {
   "cell_type": "code",
   "execution_count": 122,
   "metadata": {},
   "outputs": [
    {
     "name": "stdout",
     "output_type": "stream",
     "text": [
      "Epoch 1/100\n",
      "18/18 [==============================] - 1s 14ms/step - loss: 3065.1082 - val_loss: 13563.0303\n",
      "Epoch 2/100\n",
      "18/18 [==============================] - 0s 5ms/step - loss: 2974.7793 - val_loss: 15546.4258\n",
      "Epoch 3/100\n",
      "18/18 [==============================] - 0s 4ms/step - loss: 2954.7710 - val_loss: 17140.9844\n",
      "Epoch 4/100\n",
      "18/18 [==============================] - 0s 3ms/step - loss: 2954.6580 - val_loss: 16327.9170\n",
      "Epoch 5/100\n",
      "18/18 [==============================] - 0s 3ms/step - loss: 2951.8987 - val_loss: 16716.4160\n",
      "Epoch 6/100\n",
      "18/18 [==============================] - 0s 4ms/step - loss: 2954.7644 - val_loss: 16569.3340\n",
      "Epoch 7/100\n",
      "18/18 [==============================] - 0s 4ms/step - loss: 2953.8386 - val_loss: 16800.7051\n",
      "Epoch 8/100\n",
      "18/18 [==============================] - 0s 4ms/step - loss: 2953.5835 - val_loss: 16290.8252\n",
      "Epoch 9/100\n",
      "18/18 [==============================] - 0s 4ms/step - loss: 2952.2244 - val_loss: 16610.1543\n",
      "Epoch 10/100\n",
      "18/18 [==============================] - 0s 4ms/step - loss: 2952.0015 - val_loss: 16626.7148\n",
      "Epoch 11/100\n",
      "18/18 [==============================] - 0s 4ms/step - loss: 2954.1294 - val_loss: 16577.6270\n",
      "Epoch 12/100\n",
      "18/18 [==============================] - 0s 4ms/step - loss: 2952.4277 - val_loss: 16377.8379\n",
      "Epoch 13/100\n",
      "18/18 [==============================] - 0s 4ms/step - loss: 2952.8936 - val_loss: 16571.4043\n",
      "Epoch 14/100\n",
      "18/18 [==============================] - 0s 4ms/step - loss: 2953.2129 - val_loss: 16714.7695\n",
      "Epoch 15/100\n",
      "18/18 [==============================] - 0s 4ms/step - loss: 2953.6609 - val_loss: 16453.3027\n",
      "Epoch 16/100\n",
      "18/18 [==============================] - 0s 5ms/step - loss: 2951.9185 - val_loss: 16896.4551\n",
      "Epoch 17/100\n",
      "18/18 [==============================] - 0s 5ms/step - loss: 2951.8970 - val_loss: 16238.1475\n",
      "Epoch 18/100\n",
      "18/18 [==============================] - 0s 6ms/step - loss: 2951.9775 - val_loss: 16843.4707\n",
      "Epoch 19/100\n",
      "18/18 [==============================] - 0s 5ms/step - loss: 2950.2717 - val_loss: 16133.1387\n",
      "Epoch 20/100\n",
      "18/18 [==============================] - 0s 4ms/step - loss: 2950.2468 - val_loss: 16543.8613\n",
      "Epoch 21/100\n",
      "18/18 [==============================] - 0s 5ms/step - loss: 2949.3901 - val_loss: 16475.3535\n",
      "Epoch 22/100\n",
      "18/18 [==============================] - 0s 4ms/step - loss: 2949.6008 - val_loss: 16519.5410\n",
      "Epoch 23/100\n",
      "18/18 [==============================] - 0s 5ms/step - loss: 2949.0129 - val_loss: 15939.4639\n",
      "Epoch 24/100\n",
      "18/18 [==============================] - 0s 5ms/step - loss: 2954.2710 - val_loss: 16886.2246\n",
      "Epoch 25/100\n",
      "18/18 [==============================] - 0s 4ms/step - loss: 2953.1748 - val_loss: 16424.4023\n",
      "Epoch 26/100\n",
      "18/18 [==============================] - 0s 4ms/step - loss: 2951.7288 - val_loss: 16811.7031\n",
      "Epoch 27/100\n",
      "18/18 [==============================] - 0s 4ms/step - loss: 2953.5188 - val_loss: 16710.3496\n",
      "Epoch 28/100\n",
      "18/18 [==============================] - 0s 4ms/step - loss: 2951.5325 - val_loss: 16568.0801\n",
      "Epoch 29/100\n",
      "18/18 [==============================] - 0s 4ms/step - loss: 2951.3208 - val_loss: 15833.7734\n",
      "Epoch 30/100\n",
      "18/18 [==============================] - 0s 4ms/step - loss: 2953.9441 - val_loss: 16900.4570\n",
      "Epoch 31/100\n",
      "18/18 [==============================] - 0s 4ms/step - loss: 2951.2571 - val_loss: 16838.4121\n",
      "Epoch 32/100\n",
      "18/18 [==============================] - 0s 5ms/step - loss: 2951.4287 - val_loss: 16431.5566\n",
      "Epoch 33/100\n",
      "18/18 [==============================] - 0s 5ms/step - loss: 2951.0227 - val_loss: 16879.9473\n",
      "Epoch 34/100\n",
      "18/18 [==============================] - 0s 6ms/step - loss: 2950.5837 - val_loss: 15972.3076\n",
      "Epoch 35/100\n",
      "18/18 [==============================] - 0s 6ms/step - loss: 2951.8877 - val_loss: 16929.4062\n",
      "Epoch 36/100\n",
      "18/18 [==============================] - 0s 5ms/step - loss: 2951.8750 - val_loss: 16308.9141\n",
      "Epoch 37/100\n",
      "18/18 [==============================] - 0s 4ms/step - loss: 2950.9744 - val_loss: 16755.7129\n",
      "Epoch 38/100\n",
      "18/18 [==============================] - 0s 4ms/step - loss: 2952.3313 - val_loss: 16927.4570\n",
      "Epoch 39/100\n",
      "18/18 [==============================] - 0s 4ms/step - loss: 2950.6614 - val_loss: 15977.6963\n",
      "Epoch 40/100\n",
      "18/18 [==============================] - 0s 4ms/step - loss: 2950.9260 - val_loss: 17055.6914\n",
      "Epoch 41/100\n",
      "18/18 [==============================] - 0s 5ms/step - loss: 2952.5298 - val_loss: 16262.0107\n",
      "Epoch 42/100\n",
      "18/18 [==============================] - 0s 4ms/step - loss: 2951.8728 - val_loss: 16154.9932\n",
      "Epoch 43/100\n",
      "18/18 [==============================] - 0s 4ms/step - loss: 2950.2163 - val_loss: 16613.5938\n",
      "Epoch 44/100\n",
      "18/18 [==============================] - 0s 4ms/step - loss: 2950.9758 - val_loss: 16927.6973\n",
      "Epoch 45/100\n",
      "18/18 [==============================] - 0s 4ms/step - loss: 2951.4910 - val_loss: 16468.1836\n",
      "Epoch 46/100\n",
      "18/18 [==============================] - 0s 5ms/step - loss: 2950.0828 - val_loss: 16084.7881\n",
      "Epoch 47/100\n",
      "18/18 [==============================] - 0s 5ms/step - loss: 2951.0576 - val_loss: 17042.6641\n",
      "Epoch 48/100\n",
      "18/18 [==============================] - 0s 4ms/step - loss: 2951.2278 - val_loss: 16681.4004\n",
      "Epoch 49/100\n",
      "18/18 [==============================] - 0s 4ms/step - loss: 2950.6179 - val_loss: 16455.5566\n",
      "Epoch 50/100\n",
      "18/18 [==============================] - 0s 5ms/step - loss: 2951.0930 - val_loss: 16622.4238\n",
      "Epoch 51/100\n",
      "18/18 [==============================] - 0s 4ms/step - loss: 2951.6282 - val_loss: 17243.1367\n",
      "Epoch 52/100\n",
      "18/18 [==============================] - 0s 4ms/step - loss: 2951.7866 - val_loss: 15953.6279\n",
      "Epoch 53/100\n",
      "18/18 [==============================] - 0s 4ms/step - loss: 2950.0115 - val_loss: 16703.6113\n",
      "Epoch 54/100\n",
      "18/18 [==============================] - 0s 4ms/step - loss: 2948.3662 - val_loss: 16311.3916\n",
      "Epoch 55/100\n",
      "18/18 [==============================] - 0s 4ms/step - loss: 2950.7117 - val_loss: 16701.2129\n",
      "Epoch 56/100\n",
      "18/18 [==============================] - 0s 4ms/step - loss: 2952.4690 - val_loss: 16923.9980\n",
      "Epoch 57/100\n",
      "18/18 [==============================] - 0s 4ms/step - loss: 2951.1633 - val_loss: 15987.6416\n",
      "Epoch 58/100\n",
      "18/18 [==============================] - 0s 5ms/step - loss: 2950.5632 - val_loss: 16469.5801\n",
      "Epoch 59/100\n",
      "18/18 [==============================] - 0s 5ms/step - loss: 2948.3308 - val_loss: 15936.1084\n",
      "Epoch 60/100\n",
      "18/18 [==============================] - 0s 4ms/step - loss: 2949.6233 - val_loss: 16752.6172\n",
      "Epoch 61/100\n",
      "18/18 [==============================] - 0s 4ms/step - loss: 2950.8323 - val_loss: 16731.4004\n",
      "Epoch 62/100\n",
      "18/18 [==============================] - 0s 5ms/step - loss: 2946.4954 - val_loss: 16427.7441\n",
      "Epoch 63/100\n",
      "18/18 [==============================] - 0s 4ms/step - loss: 2949.6333 - val_loss: 16833.1484\n",
      "Epoch 64/100\n",
      "18/18 [==============================] - 0s 4ms/step - loss: 2950.5850 - val_loss: 17198.1855\n",
      "Epoch 65/100\n",
      "18/18 [==============================] - 0s 4ms/step - loss: 2950.5837 - val_loss: 15929.2012\n",
      "Epoch 66/100\n",
      "18/18 [==============================] - 0s 4ms/step - loss: 2951.4609 - val_loss: 16640.6484\n",
      "Epoch 67/100\n",
      "18/18 [==============================] - 0s 4ms/step - loss: 2948.2390 - val_loss: 16068.1221\n",
      "Epoch 68/100\n",
      "18/18 [==============================] - 0s 4ms/step - loss: 2951.2180 - val_loss: 17134.1855\n",
      "Epoch 69/100\n",
      "18/18 [==============================] - 0s 4ms/step - loss: 2952.1819 - val_loss: 16890.7344\n",
      "Epoch 70/100\n",
      "18/18 [==============================] - 0s 4ms/step - loss: 2948.9104 - val_loss: 15853.0576\n",
      "Epoch 71/100\n",
      "18/18 [==============================] - 0s 4ms/step - loss: 2949.6577 - val_loss: 16982.0039\n",
      "Epoch 72/100\n",
      "18/18 [==============================] - 0s 4ms/step - loss: 2950.6577 - val_loss: 16758.1992\n",
      "Epoch 73/100\n",
      "18/18 [==============================] - 0s 4ms/step - loss: 2949.1138 - val_loss: 16481.2871\n",
      "Epoch 74/100\n",
      "18/18 [==============================] - 0s 4ms/step - loss: 2948.3364 - val_loss: 17245.8496\n",
      "Epoch 75/100\n",
      "18/18 [==============================] - 0s 3ms/step - loss: 2950.6641 - val_loss: 16339.4141\n",
      "Epoch 76/100\n",
      "18/18 [==============================] - 0s 4ms/step - loss: 2950.6550 - val_loss: 15930.1797\n",
      "Epoch 77/100\n",
      "18/18 [==============================] - 0s 4ms/step - loss: 2950.2954 - val_loss: 17008.0332\n",
      "Epoch 78/100\n",
      "18/18 [==============================] - 0s 5ms/step - loss: 2949.9771 - val_loss: 16662.1328\n",
      "Epoch 79/100\n",
      "18/18 [==============================] - 0s 5ms/step - loss: 2949.7878 - val_loss: 16857.1035\n",
      "Epoch 80/100\n",
      "18/18 [==============================] - 0s 6ms/step - loss: 2949.1523 - val_loss: 17050.4043\n",
      "Epoch 81/100\n",
      "18/18 [==============================] - 0s 5ms/step - loss: 2948.4399 - val_loss: 16866.0938\n",
      "Epoch 82/100\n",
      "18/18 [==============================] - 0s 6ms/step - loss: 2949.5881 - val_loss: 16824.7500\n",
      "Epoch 83/100\n",
      "18/18 [==============================] - 0s 5ms/step - loss: 2949.1409 - val_loss: 17195.3984\n",
      "Epoch 84/100\n",
      "18/18 [==============================] - 0s 5ms/step - loss: 2949.6277 - val_loss: 16257.1514\n",
      "Epoch 85/100\n",
      "18/18 [==============================] - 0s 5ms/step - loss: 2948.5481 - val_loss: 16775.2090\n",
      "Epoch 86/100\n",
      "18/18 [==============================] - 0s 4ms/step - loss: 2948.6035 - val_loss: 16286.5967\n",
      "Epoch 87/100\n",
      "18/18 [==============================] - 0s 4ms/step - loss: 2946.4617 - val_loss: 16187.5234\n",
      "Epoch 88/100\n",
      "18/18 [==============================] - 0s 4ms/step - loss: 2949.7180 - val_loss: 16551.8164\n",
      "Epoch 89/100\n",
      "18/18 [==============================] - 0s 4ms/step - loss: 2951.0503 - val_loss: 17280.4668\n",
      "Epoch 90/100\n",
      "18/18 [==============================] - 0s 4ms/step - loss: 2950.0110 - val_loss: 15493.0020\n",
      "Epoch 91/100\n",
      "18/18 [==============================] - 0s 4ms/step - loss: 2949.9719 - val_loss: 16923.9434\n",
      "Epoch 92/100\n",
      "18/18 [==============================] - 0s 4ms/step - loss: 2948.2031 - val_loss: 16775.1309\n",
      "Epoch 93/100\n",
      "18/18 [==============================] - 0s 4ms/step - loss: 2947.1973 - val_loss: 16738.7617\n",
      "Epoch 94/100\n",
      "18/18 [==============================] - 0s 4ms/step - loss: 2945.5276 - val_loss: 16245.9619\n",
      "Epoch 95/100\n",
      "18/18 [==============================] - 0s 3ms/step - loss: 2947.4036 - val_loss: 16602.0117\n",
      "Epoch 96/100\n",
      "18/18 [==============================] - 0s 5ms/step - loss: 2947.4441 - val_loss: 16449.7949\n",
      "Epoch 97/100\n",
      "18/18 [==============================] - 0s 5ms/step - loss: 2947.9265 - val_loss: 16128.6582\n",
      "Epoch 98/100\n",
      "18/18 [==============================] - 0s 4ms/step - loss: 2949.6860 - val_loss: 15640.7881\n",
      "Epoch 99/100\n",
      "18/18 [==============================] - 0s 4ms/step - loss: 2948.7148 - val_loss: 16960.5332\n",
      "Epoch 100/100\n",
      "18/18 [==============================] - 0s 4ms/step - loss: 2947.5811 - val_loss: 16081.7432\n"
     ]
    },
    {
     "data": {
      "text/plain": [
       "<keras.callbacks.History at 0x27d0f730f10>"
      ]
     },
     "execution_count": 122,
     "metadata": {},
     "output_type": "execute_result"
    }
   ],
   "source": [
    "# Compile model\n",
    "model_4.compile(loss=\"mae\",\n",
    "                optimizer=tf.keras.optimizers.Adam())\n",
    "\n",
    "# Fit\n",
    "model_4.fit(train_windows.values,\n",
    "            train_labels.values,\n",
    "            batch_size=128, \n",
    "            epochs=100,\n",
    "            verbose=1,\n",
    "            validation_data=(test_windows.values, test_labels.values))\n",
    "            #callbacks=[create_model_checkpoint(model_name=model_4.name)])"
   ]
  },
  {
   "cell_type": "code",
   "execution_count": 72,
   "metadata": {},
   "outputs": [
    {
     "data": {
      "text/plain": [
       "array([121.795  , 120.65533, 121.33866, 118.67466, 108.58483, 125.455  ,\n",
       "       123.65499], dtype=float32)"
      ]
     },
     "execution_count": 72,
     "metadata": {},
     "output_type": "execute_result"
    }
   ],
   "source": [
    "train_windows[0]"
   ]
  },
  {
   "cell_type": "code",
   "execution_count": 95,
   "metadata": {},
   "outputs": [
    {
     "data": {
      "text/plain": [
       "(2224, 7)"
      ]
     },
     "execution_count": 95,
     "metadata": {},
     "output_type": "execute_result"
    }
   ],
   "source": [
    "train_windows.shape"
   ]
  },
  {
   "cell_type": "code",
   "execution_count": 94,
   "metadata": {},
   "outputs": [
    {
     "data": {
      "text/plain": [
       "(556, 7)"
      ]
     },
     "execution_count": 94,
     "metadata": {},
     "output_type": "execute_result"
    }
   ],
   "source": [
    "test_windows.shape"
   ]
  },
  {
   "cell_type": "code",
   "execution_count": 105,
   "metadata": {},
   "outputs": [
    {
     "data": {
      "text/plain": [
       "pandas.core.frame.DataFrame"
      ]
     },
     "execution_count": 105,
     "metadata": {},
     "output_type": "execute_result"
    }
   ],
   "source": [
    "\n",
    "\n",
    "type(train_windows)\n"
   ]
  },
  {
   "cell_type": "code",
   "execution_count": null,
   "metadata": {},
   "outputs": [],
   "source": []
  },
  {
   "cell_type": "code",
   "execution_count": null,
   "metadata": {},
   "outputs": [],
   "source": []
  },
  {
   "cell_type": "markdown",
   "metadata": {},
   "source": [
    "### Model 5: RNN (LSTM)\n",
    "\n",
    "Let's build an RNN model for our time series data.\n",
    "\n",
    "We'll use the same data we created previously."
   ]
  },
  {
   "cell_type": "code",
   "execution_count": 29,
   "metadata": {},
   "outputs": [
    {
     "name": "stdout",
     "output_type": "stream",
     "text": [
      "Epoch 1/100\n",
      "18/18 [==============================] - 5s 62ms/step - loss: 2508.2883 - val_loss: 8053.6123\n",
      "Epoch 2/100\n",
      "18/18 [==============================] - 0s 21ms/step - loss: 520.1105 - val_loss: 1752.0551\n",
      "Epoch 3/100\n",
      "18/18 [==============================] - 0s 18ms/step - loss: 246.1874 - val_loss: 1342.0322\n",
      "Epoch 4/100\n",
      "18/18 [==============================] - 0s 17ms/step - loss: 188.9380 - val_loss: 965.4466\n",
      "Epoch 5/100\n",
      "18/18 [==============================] - 0s 16ms/step - loss: 169.9010 - val_loss: 1040.0973\n",
      "Epoch 6/100\n",
      "18/18 [==============================] - 0s 16ms/step - loss: 179.7647 - val_loss: 908.2889\n",
      "Epoch 7/100\n",
      "18/18 [==============================] - 0s 15ms/step - loss: 185.7018 - val_loss: 1093.7377\n",
      "Epoch 8/100\n",
      "18/18 [==============================] - 0s 14ms/step - loss: 189.3978 - val_loss: 1060.7153\n",
      "Epoch 9/100\n",
      "18/18 [==============================] - 0s 16ms/step - loss: 187.1630 - val_loss: 1055.3829\n",
      "Epoch 10/100\n",
      "18/18 [==============================] - 0s 15ms/step - loss: 185.6018 - val_loss: 1042.5344\n",
      "Epoch 11/100\n",
      "18/18 [==============================] - 0s 16ms/step - loss: 184.4699 - val_loss: 1031.5693\n",
      "Epoch 12/100\n",
      "18/18 [==============================] - 0s 16ms/step - loss: 181.5308 - val_loss: 1020.0157\n",
      "Epoch 13/100\n",
      "18/18 [==============================] - 0s 17ms/step - loss: 179.8363 - val_loss: 1037.5520\n",
      "Epoch 14/100\n",
      "18/18 [==============================] - 0s 16ms/step - loss: 179.4858 - val_loss: 1046.3021\n",
      "Epoch 15/100\n",
      "18/18 [==============================] - 0s 19ms/step - loss: 179.1705 - val_loss: 984.5535\n",
      "Epoch 16/100\n",
      "18/18 [==============================] - 0s 18ms/step - loss: 175.7797 - val_loss: 1013.2724\n",
      "Epoch 17/100\n",
      "18/18 [==============================] - 0s 16ms/step - loss: 173.7994 - val_loss: 1000.2435\n",
      "Epoch 18/100\n",
      "18/18 [==============================] - 0s 15ms/step - loss: 171.2229 - val_loss: 952.7254\n",
      "Epoch 19/100\n",
      "18/18 [==============================] - 0s 16ms/step - loss: 170.8542 - val_loss: 954.9138\n",
      "Epoch 20/100\n",
      "18/18 [==============================] - 0s 15ms/step - loss: 165.9924 - val_loss: 933.9012\n",
      "Epoch 21/100\n",
      "18/18 [==============================] - 0s 16ms/step - loss: 167.3366 - val_loss: 961.8049\n",
      "Epoch 22/100\n",
      "18/18 [==============================] - 0s 15ms/step - loss: 165.3871 - val_loss: 930.0021\n",
      "Epoch 23/100\n",
      "18/18 [==============================] - 0s 16ms/step - loss: 161.5409 - val_loss: 911.7056\n",
      "Epoch 24/100\n",
      "18/18 [==============================] - 0s 15ms/step - loss: 158.6577 - val_loss: 886.5571\n",
      "Epoch 25/100\n",
      "18/18 [==============================] - 0s 16ms/step - loss: 157.3601 - val_loss: 974.3042\n",
      "Epoch 26/100\n",
      "18/18 [==============================] - 0s 16ms/step - loss: 156.2490 - val_loss: 869.5472\n",
      "Epoch 27/100\n",
      "18/18 [==============================] - 0s 16ms/step - loss: 152.6208 - val_loss: 876.0068\n",
      "Epoch 28/100\n",
      "18/18 [==============================] - 0s 15ms/step - loss: 153.4371 - val_loss: 858.9102\n",
      "Epoch 29/100\n",
      "18/18 [==============================] - 0s 16ms/step - loss: 150.8835 - val_loss: 832.3073\n",
      "Epoch 30/100\n",
      "18/18 [==============================] - 0s 16ms/step - loss: 148.2390 - val_loss: 847.7930\n",
      "Epoch 31/100\n",
      "18/18 [==============================] - 0s 15ms/step - loss: 146.2514 - val_loss: 811.6871\n",
      "Epoch 32/100\n",
      "18/18 [==============================] - 0s 16ms/step - loss: 147.6773 - val_loss: 873.4463\n",
      "Epoch 33/100\n",
      "18/18 [==============================] - 0s 16ms/step - loss: 144.0629 - val_loss: 801.9888\n",
      "Epoch 34/100\n",
      "18/18 [==============================] - 0s 15ms/step - loss: 140.8887 - val_loss: 803.8075\n",
      "Epoch 35/100\n",
      "18/18 [==============================] - 0s 16ms/step - loss: 140.2683 - val_loss: 782.5514\n",
      "Epoch 36/100\n",
      "18/18 [==============================] - 0s 17ms/step - loss: 137.9140 - val_loss: 775.7291\n",
      "Epoch 37/100\n",
      "18/18 [==============================] - 0s 16ms/step - loss: 137.6000 - val_loss: 776.5446\n",
      "Epoch 38/100\n",
      "18/18 [==============================] - 0s 16ms/step - loss: 135.3836 - val_loss: 750.7952\n",
      "Epoch 39/100\n",
      "18/18 [==============================] - 0s 16ms/step - loss: 133.8915 - val_loss: 753.8668\n",
      "Epoch 40/100\n",
      "18/18 [==============================] - 0s 17ms/step - loss: 135.3222 - val_loss: 738.9216\n",
      "Epoch 41/100\n",
      "18/18 [==============================] - 0s 17ms/step - loss: 135.1939 - val_loss: 797.7037\n",
      "Epoch 42/100\n",
      "18/18 [==============================] - 0s 16ms/step - loss: 135.2513 - val_loss: 734.2646\n",
      "Epoch 43/100\n",
      "18/18 [==============================] - 0s 17ms/step - loss: 131.9071 - val_loss: 719.2608\n",
      "Epoch 44/100\n",
      "18/18 [==============================] - 0s 16ms/step - loss: 128.4245 - val_loss: 715.0657\n",
      "Epoch 45/100\n",
      "18/18 [==============================] - 0s 15ms/step - loss: 128.7562 - val_loss: 720.6238\n",
      "Epoch 46/100\n",
      "18/18 [==============================] - 0s 15ms/step - loss: 127.6627 - val_loss: 700.3339\n",
      "Epoch 47/100\n",
      "18/18 [==============================] - 0s 16ms/step - loss: 125.7908 - val_loss: 691.6169\n",
      "Epoch 48/100\n",
      "18/18 [==============================] - 0s 15ms/step - loss: 126.7379 - val_loss: 690.4379\n",
      "Epoch 49/100\n",
      "18/18 [==============================] - 0s 15ms/step - loss: 124.7763 - val_loss: 695.9337\n",
      "Epoch 50/100\n",
      "18/18 [==============================] - 0s 16ms/step - loss: 125.7052 - val_loss: 697.5554\n",
      "Epoch 51/100\n",
      "18/18 [==============================] - 0s 16ms/step - loss: 123.1208 - val_loss: 670.3553\n",
      "Epoch 52/100\n",
      "18/18 [==============================] - 0s 16ms/step - loss: 134.7065 - val_loss: 686.4734\n",
      "Epoch 53/100\n",
      "18/18 [==============================] - 0s 15ms/step - loss: 124.3051 - val_loss: 693.5363\n",
      "Epoch 54/100\n",
      "18/18 [==============================] - 0s 15ms/step - loss: 123.2499 - val_loss: 664.2986\n",
      "Epoch 55/100\n",
      "18/18 [==============================] - 0s 16ms/step - loss: 123.1274 - val_loss: 656.3967\n",
      "Epoch 56/100\n",
      "18/18 [==============================] - 0s 15ms/step - loss: 122.9828 - val_loss: 654.9390\n",
      "Epoch 57/100\n",
      "18/18 [==============================] - 0s 16ms/step - loss: 119.6965 - val_loss: 677.2021\n",
      "Epoch 58/100\n",
      "18/18 [==============================] - 0s 15ms/step - loss: 121.0388 - val_loss: 647.0406\n",
      "Epoch 59/100\n",
      "18/18 [==============================] - 0s 16ms/step - loss: 121.2631 - val_loss: 693.7087\n",
      "Epoch 60/100\n",
      "18/18 [==============================] - 0s 16ms/step - loss: 119.5911 - val_loss: 652.5303\n",
      "Epoch 61/100\n",
      "18/18 [==============================] - 0s 15ms/step - loss: 120.0117 - val_loss: 686.9117\n",
      "Epoch 62/100\n",
      "18/18 [==============================] - 0s 16ms/step - loss: 123.7804 - val_loss: 683.8378\n",
      "Epoch 63/100\n",
      "18/18 [==============================] - 0s 15ms/step - loss: 124.0746 - val_loss: 641.3333\n",
      "Epoch 64/100\n",
      "18/18 [==============================] - 0s 15ms/step - loss: 119.8431 - val_loss: 632.1285\n",
      "Epoch 65/100\n",
      "18/18 [==============================] - 0s 16ms/step - loss: 129.4463 - val_loss: 630.1392\n",
      "Epoch 66/100\n",
      "18/18 [==============================] - 0s 16ms/step - loss: 121.4157 - val_loss: 642.8758\n",
      "Epoch 67/100\n",
      "18/18 [==============================] - 0s 15ms/step - loss: 118.5643 - val_loss: 627.5629\n",
      "Epoch 68/100\n",
      "18/18 [==============================] - 0s 16ms/step - loss: 116.9764 - val_loss: 635.1528\n",
      "Epoch 69/100\n",
      "18/18 [==============================] - 0s 16ms/step - loss: 116.7580 - val_loss: 635.2140\n",
      "Epoch 70/100\n",
      "18/18 [==============================] - 0s 15ms/step - loss: 116.9867 - val_loss: 625.8986\n",
      "Epoch 71/100\n",
      "18/18 [==============================] - 0s 15ms/step - loss: 120.7497 - val_loss: 624.6333\n",
      "Epoch 72/100\n",
      "18/18 [==============================] - 0s 15ms/step - loss: 117.8081 - val_loss: 666.4473\n",
      "Epoch 73/100\n",
      "18/18 [==============================] - 0s 16ms/step - loss: 114.9736 - val_loss: 618.3626\n",
      "Epoch 74/100\n",
      "18/18 [==============================] - 0s 15ms/step - loss: 114.2848 - val_loss: 643.4316\n",
      "Epoch 75/100\n",
      "18/18 [==============================] - 0s 16ms/step - loss: 120.2606 - val_loss: 675.3174\n",
      "Epoch 76/100\n",
      "18/18 [==============================] - 0s 16ms/step - loss: 115.9302 - val_loss: 626.3420\n",
      "Epoch 77/100\n",
      "18/18 [==============================] - 0s 16ms/step - loss: 119.5178 - val_loss: 634.0433\n",
      "Epoch 78/100\n",
      "18/18 [==============================] - 0s 16ms/step - loss: 114.8568 - val_loss: 612.0098\n"
     ]
    },
    {
     "name": "stdout",
     "output_type": "stream",
     "text": [
      "Epoch 79/100\n",
      "18/18 [==============================] - 0s 15ms/step - loss: 120.6368 - val_loss: 626.5648\n",
      "Epoch 80/100\n",
      "18/18 [==============================] - 0s 15ms/step - loss: 118.8994 - val_loss: 614.0759\n",
      "Epoch 81/100\n",
      "18/18 [==============================] - 0s 15ms/step - loss: 115.8028 - val_loss: 623.5986\n",
      "Epoch 82/100\n",
      "18/18 [==============================] - 0s 17ms/step - loss: 113.5314 - val_loss: 606.4968\n",
      "Epoch 83/100\n",
      "18/18 [==============================] - 0s 16ms/step - loss: 115.7995 - val_loss: 614.7435\n",
      "Epoch 84/100\n",
      "18/18 [==============================] - 0s 16ms/step - loss: 113.3361 - val_loss: 605.8349\n",
      "Epoch 85/100\n",
      "18/18 [==============================] - 0s 15ms/step - loss: 113.1689 - val_loss: 621.9846\n",
      "Epoch 86/100\n",
      "18/18 [==============================] - 0s 16ms/step - loss: 113.6675 - val_loss: 656.4463\n",
      "Epoch 87/100\n",
      "18/18 [==============================] - 0s 15ms/step - loss: 113.6878 - val_loss: 605.4370\n",
      "Epoch 88/100\n",
      "18/18 [==============================] - 0s 15ms/step - loss: 114.8376 - val_loss: 630.4460\n",
      "Epoch 89/100\n",
      "18/18 [==============================] - 0s 16ms/step - loss: 114.3087 - val_loss: 599.4398\n",
      "Epoch 90/100\n",
      "18/18 [==============================] - 0s 16ms/step - loss: 112.4586 - val_loss: 601.4805\n",
      "Epoch 91/100\n",
      "18/18 [==============================] - 0s 16ms/step - loss: 114.0625 - val_loss: 607.5154\n",
      "Epoch 92/100\n",
      "18/18 [==============================] - 0s 15ms/step - loss: 113.1576 - val_loss: 599.1669\n",
      "Epoch 93/100\n",
      "18/18 [==============================] - 0s 15ms/step - loss: 112.3995 - val_loss: 597.2695\n",
      "Epoch 94/100\n",
      "18/18 [==============================] - 0s 16ms/step - loss: 111.9795 - val_loss: 614.0359\n",
      "Epoch 95/100\n",
      "18/18 [==============================] - 0s 15ms/step - loss: 116.4383 - val_loss: 649.7919\n",
      "Epoch 96/100\n",
      "18/18 [==============================] - 0s 16ms/step - loss: 114.0245 - val_loss: 601.5013\n",
      "Epoch 97/100\n",
      "18/18 [==============================] - 0s 16ms/step - loss: 112.4551 - val_loss: 610.6090\n",
      "Epoch 98/100\n",
      "18/18 [==============================] - 0s 16ms/step - loss: 114.2054 - val_loss: 604.5768\n",
      "Epoch 99/100\n",
      "18/18 [==============================] - 0s 16ms/step - loss: 112.8639 - val_loss: 593.6399\n",
      "Epoch 100/100\n",
      "18/18 [==============================] - 0s 16ms/step - loss: 111.8605 - val_loss: 595.2608\n"
     ]
    },
    {
     "data": {
      "text/plain": [
       "<keras.callbacks.History at 0x1fc17490880>"
      ]
     },
     "execution_count": 29,
     "metadata": {},
     "output_type": "execute_result"
    }
   ],
   "source": [
    "def build_model_5(window_size):\n",
    "    # Let's build an LSTM model with the Functional API\n",
    "    inputs = layers.Input(shape=(window_size))\n",
    "    x = layers.Lambda(lambda x: tf.expand_dims(x, axis=1))(inputs)\n",
    "    # x = layers.LSTM(128, return_sequences=True)(x)\n",
    "    x = layers.LSTM(128, activation=\"relu\")(x)\n",
    "    # x = layers.Dense(32, activation=\"relu\")(x)\n",
    "    output = layers.Dense(HORIZON)(x)\n",
    "    model = tf.keras.Model(inputs=inputs, outputs=output, name=\"model_5_LSTM\")\n",
    "    return model\n",
    "\n",
    "\n",
    "model_5 = build_model_5(WINDOW_SIZE)\n",
    "    \n",
    "    \n",
    "# Compile\n",
    "model_5.compile(loss=\"mae\",\n",
    "                optimizer=tf.keras.optimizers.Adam())\n",
    "\n",
    "# Fit\n",
    "model_5.fit(train_windows,\n",
    "            train_labels,\n",
    "            epochs=100,\n",
    "            verbose=1,\n",
    "            batch_size=128,\n",
    "            validation_data=(test_windows, test_labels\n",
    "                            ))\n",
    "            #callbacks=[create_model_checkpoint(model_name=model_5.name)])"
   ]
  },
  {
   "cell_type": "code",
   "execution_count": 34,
   "metadata": {},
   "outputs": [
    {
     "data": {
      "text/plain": [
       "array([ 123.033  ,  124.049  ,  125.96116, ..., 9335.752  , 9226.485  ,\n",
       "       8794.358  ], dtype=float32)"
      ]
     },
     "execution_count": 34,
     "metadata": {},
     "output_type": "execute_result"
    }
   ],
   "source": [
    "train_labels"
   ]
  },
  {
   "cell_type": "markdown",
   "metadata": {},
   "source": [
    "ANEXO , explico windowed dataset"
   ]
  },
  {
   "cell_type": "markdown",
   "metadata": {},
   "source": [
    "EVALUANDO SERIES TEMPORALES\n",
    "\n",
    "Let's look into some evaluation metrics for time series forecasting. \n",
    "\n",
    "What are we doing?\n",
    "\n",
    "We're predicting a number, so that means we have a form of a regression problem.\n",
    "\n",
    "Because we're working on a regression problem, we'll need some regression-like metrics.\n",
    "\n",
    "A few common regression metrics (which can also be used for time series forecasting):\n",
    "* MAE - mean absolute error\n",
    "* MSE - mean squared error\n",
    "* RMSE - root mean square error\n",
    "* MAPE/sMAPE - (symmetric) mean absolute percentage error\n",
    "* MASE - mean absolute scaled error\n",
    "\n",
    "For all of the above metrics, **lower is better**, for example, an MAE of 0 that is better than an MAE of 100.\n",
    "\n",
    "The main thing we're evaluating here is: **how do our model's forecasts (y_pred) compare against the actual values (y_true or ground truth values)?**\n",
    "\n",
    "> 📖 **Resource:** For a deeper dive on the various kinds of time series forecasting methods see [Forecasting: Principles and Practice chapter 5.8](https://otexts.com/fpp3/accuracy.html) "
   ]
  },
  {
   "cell_type": "markdown",
   "metadata": {},
   "source": [
    "#### <font color='#9400D3'> Format Data Part 2: Windowing our dataset </font>\n",
    "\n",
    "\n",
    "--> Antes usamos train/dev/test, ahora usaremos ventanas\n",
    "\n",
    "Creamos ventanas para convertir nuestros datos en un problema de aprendizaje supervisado\n",
    "\n",
    "\n",
    "```\n",
    "Windowing for one week\n",
    "[0, 1, 2, 3, 4, 5, 6] -> [7]\n",
    "[1, 2, 3, 4, 5, 6, 7] -> [8]\n",
    "[2, 3, 4, 5, 6, 7, 8] -> [9]\n",
    "\n",
    "\n",
    "```\n",
    "\n",
    "Usaremos https://pandas.pydata.org/pandas-docs/stable/reference/api/pandas.DataFrame.shift.html para crear las venatas con Pandas."
   ]
  },
  {
   "cell_type": "code",
   "execution_count": null,
   "metadata": {},
   "outputs": [],
   "source": [
    "def create_windowed_dataset(dataset,window_size):\n",
    "    \"\"\"\n",
    "    dataset: a dataset with a key \"price\"\n",
    "    window size\n",
    "    \"\"\"\n",
    "    # Make a copy of the Bitcoin historical data with block reward feature\n",
    "    dataset_windowed = dataset.copy()\n",
    "    # Add windowed columns\n",
    "    for i in range(window_size): # shift values for each step in WINDOW_SIZE\n",
    "        dataset_windowed[f\"Price+{i+1}\"] = dataset_windowed[\"Price\"].shift(periods=i+1)\n",
    "        \n",
    "    \n",
    "    # podr[ia devolverlo como arreglo de numpy (con df.values o to_numpy())\n",
    "    \n",
    "    return dataset_windowed\n",
    "\n",
    "\n",
    "# drop nan values\n",
    "\n",
    "# Create X (windows) and y (horizons) features\n",
    "X = bitcoin_windowed_m4.dropna().drop(\"Price\", axis=1).astype(np.float32)\n",
    "y = bitcoin_windowed_m4.dropna()[\"Price\"].astype(np.float32)\n",
    "\n",
    "\n",
    "bitcoin_windowed_m4 = create_windowed_dataset(bitcoin_prices,WINDOW_SIZE)"
   ]
  }
 ],
 "metadata": {
  "kernelspec": {
   "display_name": "Python 3",
   "language": "python",
   "name": "python3"
  },
  "language_info": {
   "codemirror_mode": {
    "name": "ipython",
    "version": 3
   },
   "file_extension": ".py",
   "mimetype": "text/x-python",
   "name": "python",
   "nbconvert_exporter": "python",
   "pygments_lexer": "ipython3",
   "version": "3.8.5"
  }
 },
 "nbformat": 4,
 "nbformat_minor": 5
}
